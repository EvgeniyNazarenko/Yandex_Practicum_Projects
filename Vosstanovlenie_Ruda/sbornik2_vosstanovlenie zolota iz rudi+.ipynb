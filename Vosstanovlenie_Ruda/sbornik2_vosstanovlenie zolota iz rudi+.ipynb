{
 "cells": [
  {
   "cell_type": "markdown",
   "metadata": {
    "toc": true
   },
   "source": [
    "<h1>Содержание<span class=\"tocSkip\"></span></h1>\n",
    "<div class=\"toc\"><ul class=\"toc-item\"><li><span><a href=\"#Подготовка-данных\" data-toc-modified-id=\"Подготовка-данных-1\"><span class=\"toc-item-num\">1&nbsp;&nbsp;</span>Подготовка данных</a></span><ul class=\"toc-item\"><li><span><a href=\"#Ознакомление-с-данными\" data-toc-modified-id=\"Ознакомление-с-данными-1.1\"><span class=\"toc-item-num\">1.1&nbsp;&nbsp;</span>Ознакомление с данными</a></span></li><li><span><a href=\"#-Комментарий-ревьюера-v1\" data-toc-modified-id=\"-Комментарий-ревьюера-v1-1.2\"><span class=\"toc-item-num\">1.2&nbsp;&nbsp;</span> Комментарий ревьюера v1</a></span></li><li><span><a href=\"#Правильность-расчета-эффективности-обогащения.\" data-toc-modified-id=\"Правильность-расчета-эффективности-обогащения.-1.3\"><span class=\"toc-item-num\">1.3&nbsp;&nbsp;</span>Правильность расчета эффективности обогащения.</a></span></li><li><span><a href=\"#-Комментарий-ревьюера-v1\" data-toc-modified-id=\"-Комментарий-ревьюера-v1-1.4\"><span class=\"toc-item-num\">1.4&nbsp;&nbsp;</span> Комментарий ревьюера v1</a></span></li><li><span><a href=\"#Различия-признаков-между-тестовой-и-обучающей-выборкой.\" data-toc-modified-id=\"Различия-признаков-между-тестовой-и-обучающей-выборкой.-1.5\"><span class=\"toc-item-num\">1.5&nbsp;&nbsp;</span>Различия признаков между тестовой и обучающей выборкой.</a></span></li><li><span><a href=\"#-Комментарий-ревьюера-v1\" data-toc-modified-id=\"-Комментарий-ревьюера-v1-1.6\"><span class=\"toc-item-num\">1.6&nbsp;&nbsp;</span> Комментарий ревьюера v1</a></span></li><li><span><a href=\"#Пропуски\" data-toc-modified-id=\"Пропуски-1.7\"><span class=\"toc-item-num\">1.7&nbsp;&nbsp;</span>Пропуски</a></span></li><li><span><a href=\"#-Комментарий-ревьюера-v1\" data-toc-modified-id=\"-Комментарий-ревьюера-v1-1.8\"><span class=\"toc-item-num\">1.8&nbsp;&nbsp;</span> Комментарий ревьюера v1</a></span></li></ul></li><li><span><a href=\"#Анализ-данных\" data-toc-modified-id=\"Анализ-данных-2\"><span class=\"toc-item-num\">2&nbsp;&nbsp;</span>Анализ данных</a></span><ul class=\"toc-item\"><li><span><a href=\"#Изменение-концентрации-метеллов-на-разных-стадиях.\" data-toc-modified-id=\"Изменение-концентрации-метеллов-на-разных-стадиях.-2.1\"><span class=\"toc-item-num\">2.1&nbsp;&nbsp;</span>Изменение концентрации метеллов на разных стадиях.</a></span></li><li><span><a href=\"#-Комментарий-ревьюера-v1\" data-toc-modified-id=\"-Комментарий-ревьюера-v1-2.2\"><span class=\"toc-item-num\">2.2&nbsp;&nbsp;</span> Комментарий ревьюера v1</a></span></li><li><span><a href=\"#Распределение-размеров-гранул-сырья-на-обучающей-и-тестовой-выборках\" data-toc-modified-id=\"Распределение-размеров-гранул-сырья-на-обучающей-и-тестовой-выборках-2.3\"><span class=\"toc-item-num\">2.3&nbsp;&nbsp;</span>Распределение размеров гранул сырья на обучающей и тестовой выборках</a></span></li><li><span><a href=\"#-Комментарий-ревьюера-v1\" data-toc-modified-id=\"-Комментарий-ревьюера-v1-2.4\"><span class=\"toc-item-num\">2.4&nbsp;&nbsp;</span> Комментарий ревьюера v1</a></span></li><li><span><a href=\"#Исследование-суммарной-концентрации-металлов-на-разных-стадиях:-в-сырье,-в-черновом-концентрате,-в-концентрате-после-первой-очистки-и-в-финальном-концентрате.\" data-toc-modified-id=\"Исследование-суммарной-концентрации-металлов-на-разных-стадиях:-в-сырье,-в-черновом-концентрате,-в-концентрате-после-первой-очистки-и-в-финальном-концентрате.-2.5\"><span class=\"toc-item-num\">2.5&nbsp;&nbsp;</span>Исследование суммарной концентрации металлов на разных стадиях: в сырье, в черновом концентрате, в концентрате после первой очистки и в финальном концентрате.</a></span><ul class=\"toc-item\"><li><span><a href=\"#Проверка-целевых-значений.\" data-toc-modified-id=\"Проверка-целевых-значений.-2.5.1\"><span class=\"toc-item-num\">2.5.1&nbsp;&nbsp;</span>Проверка целевых значений.</a></span></li></ul></li><li><span><a href=\"#-Комментарий-ревьюера-v1\" data-toc-modified-id=\"-Комментарий-ревьюера-v1-2.6\"><span class=\"toc-item-num\">2.6&nbsp;&nbsp;</span> Комментарий ревьюера v1</a></span></li></ul></li><li><span><a href=\"#Модель\" data-toc-modified-id=\"Модель-3\"><span class=\"toc-item-num\">3&nbsp;&nbsp;</span>Модель</a></span><ul class=\"toc-item\"><li><span><a href=\"#Функция-подсчета-sMAPE.\" data-toc-modified-id=\"Функция-подсчета-sMAPE.-3.1\"><span class=\"toc-item-num\">3.1&nbsp;&nbsp;</span>Функция подсчета sMAPE.</a></span></li><li><span><a href=\"#-Комментарий-ревьюера-v1\" data-toc-modified-id=\"-Комментарий-ревьюера-v1-3.2\"><span class=\"toc-item-num\">3.2&nbsp;&nbsp;</span> Комментарий ревьюера v1</a></span></li><li><span><a href=\"#Выделение-признаков-и-таргетов-.\" data-toc-modified-id=\"Выделение-признаков-и-таргетов-.-3.3\"><span class=\"toc-item-num\">3.3&nbsp;&nbsp;</span>Выделение признаков и таргетов .</a></span></li><li><span><a href=\"#Обучение-моделей.\" data-toc-modified-id=\"Обучение-моделей.-3.4\"><span class=\"toc-item-num\">3.4&nbsp;&nbsp;</span>Обучение моделей.</a></span><ul class=\"toc-item\"><li><span><a href=\"#Модель-линейной-регрессии.\" data-toc-modified-id=\"Модель-линейной-регрессии.-3.4.1\"><span class=\"toc-item-num\">3.4.1&nbsp;&nbsp;</span>Модель линейной регрессии.</a></span></li></ul></li><li><span><a href=\"#-Комментарий-ревьюера-v1\" data-toc-modified-id=\"-Комментарий-ревьюера-v1-3.5\"><span class=\"toc-item-num\">3.5&nbsp;&nbsp;</span> Комментарий ревьюера v1</a></span></li><li><span><a href=\"#-Комментарий-ревьюера-v1\" data-toc-modified-id=\"-Комментарий-ревьюера-v1-3.6\"><span class=\"toc-item-num\">3.6&nbsp;&nbsp;</span> Комментарий ревьюера v1</a></span><ul class=\"toc-item\"><li><span><a href=\"#Модель-дерева-решений.\" data-toc-modified-id=\"Модель-дерева-решений.-3.6.1\"><span class=\"toc-item-num\">3.6.1&nbsp;&nbsp;</span>Модель дерева решений.</a></span></li></ul></li><li><span><a href=\"#-Комментарий-ревьюера-v1\" data-toc-modified-id=\"-Комментарий-ревьюера-v1-3.7\"><span class=\"toc-item-num\">3.7&nbsp;&nbsp;</span> Комментарий ревьюера v1</a></span><ul class=\"toc-item\"><li><span><a href=\"#Модель-случайного-леса.\" data-toc-modified-id=\"Модель-случайного-леса.-3.7.1\"><span class=\"toc-item-num\">3.7.1&nbsp;&nbsp;</span>Модель случайного леса.</a></span></li></ul></li><li><span><a href=\"#-Комментарий-ревьюера-v1\" data-toc-modified-id=\"-Комментарий-ревьюера-v1-3.8\"><span class=\"toc-item-num\">3.8&nbsp;&nbsp;</span> Комментарий ревьюера v1</a></span></li><li><span><a href=\"#Проверка-на-тестовой-выборке.\" data-toc-modified-id=\"Проверка-на-тестовой-выборке.-3.9\"><span class=\"toc-item-num\">3.9&nbsp;&nbsp;</span>Проверка на тестовой выборке.</a></span><ul class=\"toc-item\"><li><span><a href=\"#Проверка-на-вменяемость.\" data-toc-modified-id=\"Проверка-на-вменяемость.-3.9.1\"><span class=\"toc-item-num\">3.9.1&nbsp;&nbsp;</span>Проверка на вменяемость.</a></span></li></ul></li><li><span><a href=\"#-Комментарий-ревьюера-v1\" data-toc-modified-id=\"-Комментарий-ревьюера-v1-3.10\"><span class=\"toc-item-num\">3.10&nbsp;&nbsp;</span> Комментарий ревьюера v1</a></span></li><li><span><a href=\"#Итоги.\" data-toc-modified-id=\"Итоги.-3.11\"><span class=\"toc-item-num\">3.11&nbsp;&nbsp;</span>Итоги.</a></span></li></ul></li><li><span><a href=\"#Чек-лист-готовности-проекта\" data-toc-modified-id=\"Чек-лист-готовности-проекта-4\"><span class=\"toc-item-num\">4&nbsp;&nbsp;</span>Чек-лист готовности проекта</a></span><ul class=\"toc-item\"><li><span><a href=\"#-Итоговый-комментарий\" data-toc-modified-id=\"-Итоговый-комментарий-4.1\"><span class=\"toc-item-num\">4.1&nbsp;&nbsp;</span> Итоговый комментарий</a></span></li><li><span><a href=\"#-Комментарий-ревьюера-v2\" data-toc-modified-id=\"-Комментарий-ревьюера-v2-4.2\"><span class=\"toc-item-num\">4.2&nbsp;&nbsp;</span> Комментарий ревьюера v2</a></span></li></ul></li></ul></div>"
   ]
  },
  {
   "cell_type": "markdown",
   "metadata": {},
   "source": [
    "# Восстановление золота из руды"
   ]
  },
  {
   "cell_type": "markdown",
   "metadata": {},
   "source": [
    "Подготовьте прототип модели машинного обучения для «Цифры». Компания разрабатывает решения для эффективной работы промышленных предприятий.\n",
    "\n",
    "Модель должна предсказать коэффициент восстановления золота из золотосодержащей руды. Используйте данные с параметрами добычи и очистки. \n",
    "\n",
    "Модель поможет оптимизировать производство, чтобы не запускать предприятие с убыточными характеристиками.\n",
    "\n",
    "Вам нужно:\n",
    "\n",
    "1. Подготовить данные;\n",
    "2. Провести исследовательский анализ данных;\n",
    "3. Построить и обучить модель.\n"
   ]
  },
  {
   "cell_type": "markdown",
   "metadata": {},
   "source": [
    "Данные находятся в трёх файлах:\n",
    "\n",
    "gold_industry_train.csv — обучающая выборка;\n",
    "\n",
    "gold_industry_test.csv — тестовая выборка;\n",
    "\n",
    "gold_industry_full_new.csv — исходные данные.\n",
    "\n",
    "Данные индексируются датой и временем получения информации (признак date). Соседние по времени параметры часто похожи.\n",
    "\n",
    "Некоторые параметры недоступны, потому что замеряются и/или рассчитываются значительно позже. Из-за этого в тестовой выборке отсутствуют некоторые признаки, которые могут быть в обучающей.\n",
    "\n",
    "Также в тестовом наборе нет целевых признаков.\n",
    "\n",
    "Исходный датасет содержит обучающую и тестовую выборки со всеми признаками.\n",
    "\n",
    "В вашем распоряжении сырые данные: их просто выгрузили из хранилища. Прежде чем приступить к построению модели, проверьте по нашей инструкции их на корректность."
   ]
  },
  {
   "cell_type": "markdown",
   "metadata": {},
   "source": [
    "Описание данных\n",
    "\n",
    "***Технологический процесс (rougher.input.feed_au -- rougher.output.concentrate_au -- primary_cleaner.output.concentrate_au -- final.output.concentrate_au)***\n",
    "\n",
    "Rougher feed — исходное сырье\n",
    "\n",
    "Rougher additions (или reagent additions) — флотационные реагенты: Xanthate, Sulphate, Depressant\n",
    "\n",
    "Xanthate — ксантогенат (промотер, или активатор флотации);\n",
    "\n",
    "Sulphate — сульфат (на данном производстве сульфид натрия);\n",
    "\n",
    "Depressant — депрессант (силикат натрия).\n",
    "\n",
    "Rougher process (англ. «грубый процесс») — флотация\n",
    "\n",
    "Rougher tails — отвальные хвосты\n",
    "\n",
    "Float banks — флотационная установка\n",
    "\n",
    "Cleaner process — очистка\n",
    "\n",
    "Rougher Au — черновой концентрат золота\n",
    "\n",
    "Final Au — финальный концентрат золота\n",
    "\n",
    "***Параметры этапов***\n",
    "\n",
    "air amount — объём воздуха\n",
    "\n",
    "fluid levels — уровень жидкости\n",
    "\n",
    "feed size — размер гранул сырья\n",
    "\n",
    "feed rate — скорость подачи\n",
    "\n",
    "***Наименование признаков должно быть такое:***\n",
    "\n",
    "[этап].[тип_параметра].[название_параметра]\n",
    "\n",
    "***Пример: rougher.input.feed_ag***\n",
    "\n",
    "***Возможные значения для блока [этап]:***\n",
    "\n",
    "rougher — флотация\n",
    "\n",
    "primary_cleaner — первичная очистка\n",
    "\n",
    "secondary_cleaner — вторичная очистка\n",
    "\n",
    "final — финальные характеристики\n",
    "\n",
    "***Возможные значения для блока [тип_параметра]:***\n",
    "\n",
    "input — параметры сырья\n",
    "\n",
    "output — параметры продукта\n",
    "\n",
    "state — параметры, характеризующие текущее состояние этапа\n",
    "\n",
    "calculation — расчётные характеристики"
   ]
  },
  {
   "cell_type": "markdown",
   "metadata": {},
   "source": [
    "## Подготовка данных"
   ]
  },
  {
   "cell_type": "code",
   "execution_count": 1,
   "metadata": {},
   "outputs": [],
   "source": [
    "#Подгружаем библиотеки\n",
    "import pandas as pd\n",
    "from sklearn.metrics import mean_absolute_error, make_scorer\n",
    "import matplotlib.pyplot as plt\n",
    "import numpy as np\n",
    "from sklearn.pipeline import  make_pipeline\n",
    "from sklearn.preprocessing import StandardScaler\n",
    "from sklearn.tree import DecisionTreeRegressor\n",
    "from sklearn.ensemble import RandomForestRegressor\n",
    "from sklearn.linear_model import LinearRegression\n",
    "from sklearn.model_selection import GridSearchCV\n",
    "from sklearn.dummy import DummyRegressor"
   ]
  },
  {
   "cell_type": "markdown",
   "metadata": {},
   "source": [
    "### Ознакомление с данными\n"
   ]
  },
  {
   "cell_type": "code",
   "execution_count": 2,
   "metadata": {
    "scrolled": true
   },
   "outputs": [
    {
     "name": "stdout",
     "output_type": "stream",
     "text": [
      "<class 'pandas.core.frame.DataFrame'>\n",
      "RangeIndex: 14579 entries, 0 to 14578\n",
      "Data columns (total 87 columns):\n",
      " #   Column                                              Non-Null Count  Dtype  \n",
      "---  ------                                              --------------  -----  \n",
      " 0   date                                                14579 non-null  object \n",
      " 1   rougher.input.feed_au                               14579 non-null  float64\n",
      " 2   rougher.input.feed_ag                               14579 non-null  float64\n",
      " 3   rougher.input.feed_pb                               14507 non-null  float64\n",
      " 4   rougher.input.feed_sol                              14502 non-null  float64\n",
      " 5   rougher.input.feed_rate                             14572 non-null  float64\n",
      " 6   rougher.input.feed_size                             14478 non-null  float64\n",
      " 7   rougher.input.floatbank10_sulfate                   14548 non-null  float64\n",
      " 8   rougher.input.floatbank10_xanthate                  14572 non-null  float64\n",
      " 9   rougher.state.floatbank10_a_air                     14579 non-null  float64\n",
      " 10  rougher.state.floatbank10_a_level                   14579 non-null  float64\n",
      " 11  rougher.state.floatbank10_b_air                     14579 non-null  float64\n",
      " 12  rougher.state.floatbank10_b_level                   14579 non-null  float64\n",
      " 13  rougher.state.floatbank10_c_air                     14579 non-null  float64\n",
      " 14  rougher.state.floatbank10_c_level                   14579 non-null  float64\n",
      " 15  rougher.state.floatbank10_d_air                     14579 non-null  float64\n",
      " 16  rougher.state.floatbank10_d_level                   14579 non-null  float64\n",
      " 17  rougher.state.floatbank10_e_air                     14150 non-null  float64\n",
      " 18  rougher.state.floatbank10_e_level                   14579 non-null  float64\n",
      " 19  rougher.state.floatbank10_f_air                     14579 non-null  float64\n",
      " 20  rougher.state.floatbank10_f_level                   14579 non-null  float64\n",
      " 21  rougher.input.floatbank11_sulfate                   14543 non-null  float64\n",
      " 22  rougher.input.floatbank11_xanthate                  14172 non-null  float64\n",
      " 23  rougher.calculation.sulfate_to_au_concentrate       14578 non-null  float64\n",
      " 24  rougher.calculation.floatbank10_sulfate_to_au_feed  14578 non-null  float64\n",
      " 25  rougher.calculation.floatbank11_sulfate_to_au_feed  14578 non-null  float64\n",
      " 26  rougher.calculation.au_pb_ratio                     14579 non-null  float64\n",
      " 27  rougher.output.concentrate_au                       14579 non-null  float64\n",
      " 28  rougher.output.concentrate_ag                       14579 non-null  float64\n",
      " 29  rougher.output.concentrate_pb                       14579 non-null  float64\n",
      " 30  rougher.output.concentrate_sol                      14561 non-null  float64\n",
      " 31  rougher.output.recovery                             14579 non-null  float64\n",
      " 32  rougher.output.tail_au                              14579 non-null  float64\n",
      " 33  rougher.output.tail_ag                              14578 non-null  float64\n",
      " 34  rougher.output.tail_pb                              14579 non-null  float64\n",
      " 35  rougher.output.tail_sol                             14579 non-null  float64\n",
      " 36  primary_cleaner.input.sulfate                       14556 non-null  float64\n",
      " 37  primary_cleaner.input.depressant                    14551 non-null  float64\n",
      " 38  primary_cleaner.input.feed_size                     14579 non-null  float64\n",
      " 39  primary_cleaner.input.xanthate                      14518 non-null  float64\n",
      " 40  primary_cleaner.state.floatbank8_a_air              14576 non-null  float64\n",
      " 41  primary_cleaner.state.floatbank8_a_level            14579 non-null  float64\n",
      " 42  primary_cleaner.state.floatbank8_b_air              14576 non-null  float64\n",
      " 43  primary_cleaner.state.floatbank8_b_level            14579 non-null  float64\n",
      " 44  primary_cleaner.state.floatbank8_c_air              14579 non-null  float64\n",
      " 45  primary_cleaner.state.floatbank8_c_level            14579 non-null  float64\n",
      " 46  primary_cleaner.state.floatbank8_d_air              14578 non-null  float64\n",
      " 47  primary_cleaner.state.floatbank8_d_level            14579 non-null  float64\n",
      " 48  primary_cleaner.output.concentrate_au               14579 non-null  float64\n",
      " 49  primary_cleaner.output.concentrate_ag               14579 non-null  float64\n",
      " 50  primary_cleaner.output.concentrate_pb               14491 non-null  float64\n",
      " 51  primary_cleaner.output.concentrate_sol              14314 non-null  float64\n",
      " 52  primary_cleaner.output.tail_au                      14579 non-null  float64\n",
      " 53  primary_cleaner.output.tail_ag                      14575 non-null  float64\n",
      " 54  primary_cleaner.output.tail_pb                      14573 non-null  float64\n",
      " 55  primary_cleaner.output.tail_sol                     14534 non-null  float64\n",
      " 56  secondary_cleaner.state.floatbank2_a_air            14485 non-null  float64\n",
      " 57  secondary_cleaner.state.floatbank2_a_level          14579 non-null  float64\n",
      " 58  secondary_cleaner.state.floatbank2_b_air            14557 non-null  float64\n",
      " 59  secondary_cleaner.state.floatbank2_b_level          14579 non-null  float64\n",
      " 60  secondary_cleaner.state.floatbank3_a_air            14567 non-null  float64\n",
      " 61  secondary_cleaner.state.floatbank3_a_level          14579 non-null  float64\n",
      " 62  secondary_cleaner.state.floatbank3_b_air            14579 non-null  float64\n",
      " 63  secondary_cleaner.state.floatbank3_b_level          14579 non-null  float64\n",
      " 64  secondary_cleaner.state.floatbank4_a_air            14574 non-null  float64\n",
      " 65  secondary_cleaner.state.floatbank4_a_level          14579 non-null  float64\n",
      " 66  secondary_cleaner.state.floatbank4_b_air            14579 non-null  float64\n",
      " 67  secondary_cleaner.state.floatbank4_b_level          14579 non-null  float64\n",
      " 68  secondary_cleaner.state.floatbank5_a_air            14579 non-null  float64\n",
      " 69  secondary_cleaner.state.floatbank5_a_level          14579 non-null  float64\n",
      " 70  secondary_cleaner.state.floatbank5_b_air            14579 non-null  float64\n",
      " 71  secondary_cleaner.state.floatbank5_b_level          14579 non-null  float64\n",
      " 72  secondary_cleaner.state.floatbank6_a_air            14578 non-null  float64\n",
      " 73  secondary_cleaner.state.floatbank6_a_level          14579 non-null  float64\n",
      " 74  secondary_cleaner.output.tail_au                    14579 non-null  float64\n",
      " 75  secondary_cleaner.output.tail_ag                    14578 non-null  float64\n",
      " 76  secondary_cleaner.output.tail_pb                    14575 non-null  float64\n",
      " 77  secondary_cleaner.output.tail_sol                   13659 non-null  float64\n",
      " 78  final.output.concentrate_au                         14579 non-null  float64\n",
      " 79  final.output.concentrate_ag                         14578 non-null  float64\n",
      " 80  final.output.concentrate_pb                         14578 non-null  float64\n",
      " 81  final.output.concentrate_sol                        14387 non-null  float64\n",
      " 82  final.output.recovery                               14579 non-null  float64\n",
      " 83  final.output.tail_au                                14579 non-null  float64\n",
      " 84  final.output.tail_ag                                14578 non-null  float64\n",
      " 85  final.output.tail_pb                                14504 non-null  float64\n",
      " 86  final.output.tail_sol                               14574 non-null  float64\n",
      "dtypes: float64(86), object(1)\n",
      "memory usage: 9.7+ MB\n",
      "-----------------------------------------------\n",
      "Количество дупликатов 0\n"
     ]
    }
   ],
   "source": [
    "\n",
    "#Загрузим данные с выводом описательных статистик и info() \n",
    "train = pd.read_csv('/datasets/gold_industry_train.csv')\n",
    "train.info()\n",
    "train.describe()\n",
    "print('-----------------------------------------------')\n",
    "print('Количество дупликатов',train.duplicated().sum())"
   ]
  },
  {
   "cell_type": "code",
   "execution_count": 3,
   "metadata": {
    "scrolled": true
   },
   "outputs": [
    {
     "name": "stdout",
     "output_type": "stream",
     "text": [
      "<class 'pandas.core.frame.DataFrame'>\n",
      "RangeIndex: 4860 entries, 0 to 4859\n",
      "Data columns (total 53 columns):\n",
      " #   Column                                      Non-Null Count  Dtype  \n",
      "---  ------                                      --------------  -----  \n",
      " 0   date                                        4860 non-null   object \n",
      " 1   rougher.input.feed_au                       4860 non-null   float64\n",
      " 2   rougher.input.feed_ag                       4860 non-null   float64\n",
      " 3   rougher.input.feed_pb                       4832 non-null   float64\n",
      " 4   rougher.input.feed_sol                      4838 non-null   float64\n",
      " 5   rougher.input.feed_rate                     4856 non-null   float64\n",
      " 6   rougher.input.feed_size                     4816 non-null   float64\n",
      " 7   rougher.input.floatbank10_sulfate           4857 non-null   float64\n",
      " 8   rougher.input.floatbank10_xanthate          4859 non-null   float64\n",
      " 9   rougher.state.floatbank10_a_air             4859 non-null   float64\n",
      " 10  rougher.state.floatbank10_a_level           4859 non-null   float64\n",
      " 11  rougher.state.floatbank10_b_air             4859 non-null   float64\n",
      " 12  rougher.state.floatbank10_b_level           4859 non-null   float64\n",
      " 13  rougher.state.floatbank10_c_air             4859 non-null   float64\n",
      " 14  rougher.state.floatbank10_c_level           4859 non-null   float64\n",
      " 15  rougher.state.floatbank10_d_air             4860 non-null   float64\n",
      " 16  rougher.state.floatbank10_d_level           4860 non-null   float64\n",
      " 17  rougher.state.floatbank10_e_air             4853 non-null   float64\n",
      " 18  rougher.state.floatbank10_e_level           4860 non-null   float64\n",
      " 19  rougher.state.floatbank10_f_air             4860 non-null   float64\n",
      " 20  rougher.state.floatbank10_f_level           4860 non-null   float64\n",
      " 21  rougher.input.floatbank11_sulfate           4852 non-null   float64\n",
      " 22  rougher.input.floatbank11_xanthate          4814 non-null   float64\n",
      " 23  primary_cleaner.input.sulfate               4859 non-null   float64\n",
      " 24  primary_cleaner.input.depressant            4851 non-null   float64\n",
      " 25  primary_cleaner.input.feed_size             4860 non-null   float64\n",
      " 26  primary_cleaner.input.xanthate              4817 non-null   float64\n",
      " 27  primary_cleaner.state.floatbank8_a_air      4859 non-null   float64\n",
      " 28  primary_cleaner.state.floatbank8_a_level    4859 non-null   float64\n",
      " 29  primary_cleaner.state.floatbank8_b_air      4859 non-null   float64\n",
      " 30  primary_cleaner.state.floatbank8_b_level    4859 non-null   float64\n",
      " 31  primary_cleaner.state.floatbank8_c_air      4858 non-null   float64\n",
      " 32  primary_cleaner.state.floatbank8_c_level    4859 non-null   float64\n",
      " 33  primary_cleaner.state.floatbank8_d_air      4858 non-null   float64\n",
      " 34  primary_cleaner.state.floatbank8_d_level    4859 non-null   float64\n",
      " 35  secondary_cleaner.state.floatbank2_a_air    4734 non-null   float64\n",
      " 36  secondary_cleaner.state.floatbank2_a_level  4859 non-null   float64\n",
      " 37  secondary_cleaner.state.floatbank2_b_air    4859 non-null   float64\n",
      " 38  secondary_cleaner.state.floatbank2_b_level  4859 non-null   float64\n",
      " 39  secondary_cleaner.state.floatbank3_a_air    4859 non-null   float64\n",
      " 40  secondary_cleaner.state.floatbank3_a_level  4859 non-null   float64\n",
      " 41  secondary_cleaner.state.floatbank3_b_air    4859 non-null   float64\n",
      " 42  secondary_cleaner.state.floatbank3_b_level  4859 non-null   float64\n",
      " 43  secondary_cleaner.state.floatbank4_a_air    4859 non-null   float64\n",
      " 44  secondary_cleaner.state.floatbank4_a_level  4859 non-null   float64\n",
      " 45  secondary_cleaner.state.floatbank4_b_air    4859 non-null   float64\n",
      " 46  secondary_cleaner.state.floatbank4_b_level  4859 non-null   float64\n",
      " 47  secondary_cleaner.state.floatbank5_a_air    4859 non-null   float64\n",
      " 48  secondary_cleaner.state.floatbank5_a_level  4859 non-null   float64\n",
      " 49  secondary_cleaner.state.floatbank5_b_air    4859 non-null   float64\n",
      " 50  secondary_cleaner.state.floatbank5_b_level  4859 non-null   float64\n",
      " 51  secondary_cleaner.state.floatbank6_a_air    4859 non-null   float64\n",
      " 52  secondary_cleaner.state.floatbank6_a_level  4859 non-null   float64\n",
      "dtypes: float64(52), object(1)\n",
      "memory usage: 2.0+ MB\n",
      "-----------------------------------------------\n",
      "Количество дупликатов 0\n"
     ]
    }
   ],
   "source": [
    "test = pd.read_csv('/datasets/gold_industry_test.csv')\n",
    "test.info()\n",
    "test.describe()\n",
    "print('-----------------------------------------------')\n",
    "print('Количество дупликатов',test.duplicated().sum())"
   ]
  },
  {
   "cell_type": "code",
   "execution_count": 4,
   "metadata": {
    "scrolled": true
   },
   "outputs": [
    {
     "name": "stdout",
     "output_type": "stream",
     "text": [
      "<class 'pandas.core.frame.DataFrame'>\n",
      "RangeIndex: 19439 entries, 0 to 19438\n",
      "Data columns (total 87 columns):\n",
      " #   Column                                              Non-Null Count  Dtype  \n",
      "---  ------                                              --------------  -----  \n",
      " 0   date                                                19439 non-null  object \n",
      " 1   rougher.input.feed_au                               19439 non-null  float64\n",
      " 2   rougher.input.feed_ag                               19439 non-null  float64\n",
      " 3   rougher.input.feed_pb                               19339 non-null  float64\n",
      " 4   rougher.input.feed_sol                              19340 non-null  float64\n",
      " 5   rougher.input.feed_rate                             19428 non-null  float64\n",
      " 6   rougher.input.feed_size                             19294 non-null  float64\n",
      " 7   rougher.input.floatbank10_sulfate                   19405 non-null  float64\n",
      " 8   rougher.input.floatbank10_xanthate                  19431 non-null  float64\n",
      " 9   rougher.state.floatbank10_a_air                     19438 non-null  float64\n",
      " 10  rougher.state.floatbank10_a_level                   19438 non-null  float64\n",
      " 11  rougher.state.floatbank10_b_air                     19438 non-null  float64\n",
      " 12  rougher.state.floatbank10_b_level                   19438 non-null  float64\n",
      " 13  rougher.state.floatbank10_c_air                     19438 non-null  float64\n",
      " 14  rougher.state.floatbank10_c_level                   19438 non-null  float64\n",
      " 15  rougher.state.floatbank10_d_air                     19439 non-null  float64\n",
      " 16  rougher.state.floatbank10_d_level                   19439 non-null  float64\n",
      " 17  rougher.state.floatbank10_e_air                     19003 non-null  float64\n",
      " 18  rougher.state.floatbank10_e_level                   19439 non-null  float64\n",
      " 19  rougher.state.floatbank10_f_air                     19439 non-null  float64\n",
      " 20  rougher.state.floatbank10_f_level                   19439 non-null  float64\n",
      " 21  rougher.input.floatbank11_sulfate                   19395 non-null  float64\n",
      " 22  rougher.input.floatbank11_xanthate                  18986 non-null  float64\n",
      " 23  rougher.calculation.sulfate_to_au_concentrate       19437 non-null  float64\n",
      " 24  rougher.calculation.floatbank10_sulfate_to_au_feed  19437 non-null  float64\n",
      " 25  rougher.calculation.floatbank11_sulfate_to_au_feed  19437 non-null  float64\n",
      " 26  rougher.calculation.au_pb_ratio                     19439 non-null  float64\n",
      " 27  rougher.output.concentrate_au                       19439 non-null  float64\n",
      " 28  rougher.output.concentrate_ag                       19439 non-null  float64\n",
      " 29  rougher.output.concentrate_pb                       19439 non-null  float64\n",
      " 30  rougher.output.concentrate_sol                      19416 non-null  float64\n",
      " 31  rougher.output.recovery                             19439 non-null  float64\n",
      " 32  rougher.output.tail_au                              19439 non-null  float64\n",
      " 33  rougher.output.tail_ag                              19438 non-null  float64\n",
      " 34  rougher.output.tail_pb                              19439 non-null  float64\n",
      " 35  rougher.output.tail_sol                             19439 non-null  float64\n",
      " 36  primary_cleaner.input.sulfate                       19415 non-null  float64\n",
      " 37  primary_cleaner.input.depressant                    19402 non-null  float64\n",
      " 38  primary_cleaner.input.feed_size                     19439 non-null  float64\n",
      " 39  primary_cleaner.input.xanthate                      19335 non-null  float64\n",
      " 40  primary_cleaner.state.floatbank8_a_air              19435 non-null  float64\n",
      " 41  primary_cleaner.state.floatbank8_a_level            19438 non-null  float64\n",
      " 42  primary_cleaner.state.floatbank8_b_air              19435 non-null  float64\n",
      " 43  primary_cleaner.state.floatbank8_b_level            19438 non-null  float64\n",
      " 44  primary_cleaner.state.floatbank8_c_air              19437 non-null  float64\n",
      " 45  primary_cleaner.state.floatbank8_c_level            19438 non-null  float64\n",
      " 46  primary_cleaner.state.floatbank8_d_air              19436 non-null  float64\n",
      " 47  primary_cleaner.state.floatbank8_d_level            19438 non-null  float64\n",
      " 48  primary_cleaner.output.concentrate_au               19439 non-null  float64\n",
      " 49  primary_cleaner.output.concentrate_ag               19439 non-null  float64\n",
      " 50  primary_cleaner.output.concentrate_pb               19323 non-null  float64\n",
      " 51  primary_cleaner.output.concentrate_sol              19069 non-null  float64\n",
      " 52  primary_cleaner.output.tail_au                      19439 non-null  float64\n",
      " 53  primary_cleaner.output.tail_ag                      19435 non-null  float64\n",
      " 54  primary_cleaner.output.tail_pb                      19418 non-null  float64\n",
      " 55  primary_cleaner.output.tail_sol                     19377 non-null  float64\n",
      " 56  secondary_cleaner.state.floatbank2_a_air            19219 non-null  float64\n",
      " 57  secondary_cleaner.state.floatbank2_a_level          19438 non-null  float64\n",
      " 58  secondary_cleaner.state.floatbank2_b_air            19416 non-null  float64\n",
      " 59  secondary_cleaner.state.floatbank2_b_level          19438 non-null  float64\n",
      " 60  secondary_cleaner.state.floatbank3_a_air            19426 non-null  float64\n",
      " 61  secondary_cleaner.state.floatbank3_a_level          19438 non-null  float64\n",
      " 62  secondary_cleaner.state.floatbank3_b_air            19438 non-null  float64\n",
      " 63  secondary_cleaner.state.floatbank3_b_level          19438 non-null  float64\n",
      " 64  secondary_cleaner.state.floatbank4_a_air            19433 non-null  float64\n",
      " 65  secondary_cleaner.state.floatbank4_a_level          19438 non-null  float64\n",
      " 66  secondary_cleaner.state.floatbank4_b_air            19438 non-null  float64\n",
      " 67  secondary_cleaner.state.floatbank4_b_level          19438 non-null  float64\n",
      " 68  secondary_cleaner.state.floatbank5_a_air            19438 non-null  float64\n",
      " 69  secondary_cleaner.state.floatbank5_a_level          19438 non-null  float64\n",
      " 70  secondary_cleaner.state.floatbank5_b_air            19438 non-null  float64\n",
      " 71  secondary_cleaner.state.floatbank5_b_level          19438 non-null  float64\n",
      " 72  secondary_cleaner.state.floatbank6_a_air            19437 non-null  float64\n",
      " 73  secondary_cleaner.state.floatbank6_a_level          19438 non-null  float64\n",
      " 74  secondary_cleaner.output.tail_au                    19439 non-null  float64\n",
      " 75  secondary_cleaner.output.tail_ag                    19437 non-null  float64\n",
      " 76  secondary_cleaner.output.tail_pb                    19427 non-null  float64\n",
      " 77  secondary_cleaner.output.tail_sol                   17691 non-null  float64\n",
      " 78  final.output.concentrate_au                         19439 non-null  float64\n",
      " 79  final.output.concentrate_ag                         19438 non-null  float64\n",
      " 80  final.output.concentrate_pb                         19438 non-null  float64\n",
      " 81  final.output.concentrate_sol                        19228 non-null  float64\n",
      " 82  final.output.recovery                               19439 non-null  float64\n",
      " 83  final.output.tail_au                                19439 non-null  float64\n",
      " 84  final.output.tail_ag                                19438 non-null  float64\n",
      " 85  final.output.tail_pb                                19338 non-null  float64\n",
      " 86  final.output.tail_sol                               19433 non-null  float64\n",
      "dtypes: float64(86), object(1)\n",
      "memory usage: 12.9+ MB\n",
      "-----------------------------------------------\n",
      "Количество дупликатов 0\n"
     ]
    }
   ],
   "source": [
    "full=pd.read_csv('/datasets/gold_industry_full.csv')\n",
    "full.info()\n",
    "full.describe()\n",
    "print('-----------------------------------------------')\n",
    "print('Количество дупликатов',full.duplicated().sum())"
   ]
  },
  {
   "cell_type": "markdown",
   "metadata": {},
   "source": [
    "***После загрузки данных и ознакомления с ними мы видим,что все данные,кроме признака data одного типа. Есть пропущенные значения.\n",
    "В тестовых данных на 34 признака меньше,чем в обучающей выборке.***"
   ]
  },
  {
   "cell_type": "markdown",
   "metadata": {},
   "source": [
    "### Правильность расчета эффективности обогащения."
   ]
  },
  {
   "cell_type": "markdown",
   "metadata": {},
   "source": [
    "***Проверьте, что эффективность обогащения рассчитана правильно. Вычислим её на обучающей выборке для признака rougher.output.recovery и найдем MAE между  расчётами и значением признака. ***\n",
    "\n",
    "Формула восстановления: Recovery=C*(F-T)/F*(C-T),\n",
    "\n",
    "где C — доля золота в концентрате после флотации/очистки(\"rougher.output.concentrate_au\")\n",
    "\n",
    "F — доля золота в сырье/концентрате до флотации/очистки;(\"rougher.input.feed_au\")\n",
    "\n",
    "T — доля золота в отвальных хвостах после флотации/очистки.(\"rougher.output.tail_au\")\n",
    "\n",
    "После рассчитаем Mae между recovery и rougher.output.recovery"
   ]
  },
  {
   "cell_type": "code",
   "execution_count": 5,
   "metadata": {
    "scrolled": true
   },
   "outputs": [
    {
     "name": "stdout",
     "output_type": "stream",
     "text": [
      "MAE между расcчитанным значением и значением признака: 9.83758577644259e-15\n"
     ]
    }
   ],
   "source": [
    "# Напишем функцию расчета\n",
    "def recovery_score(rougher_output, rougher_input, rougher_tail):\n",
    "    recovery = (rougher_output * (rougher_input - rougher_tail)) \\\n",
    "    / (rougher_input * (rougher_output - rougher_tail)) * 100\n",
    "    return recovery\n",
    "# Получаем необходимое значение\n",
    "recovery = recovery_score(train['rougher.output.concentrate_au'],train['rougher.input.feed_au'],train['rougher.output.tail_au'])\n",
    "# Рассчитываем mae чере\n",
    "mae = mean_absolute_error(train['rougher.output.recovery'], recovery)\n",
    "print('MAE между расcчитанным значением и значением признака:', mae)\n",
    "                         "
   ]
  },
  {
   "cell_type": "markdown",
   "metadata": {},
   "source": [
    "***Как мы видим значение MAE очень мало, поэтому расчет эффективности обогащения выполнен правильно.***"
   ]
  },
  {
   "cell_type": "markdown",
   "metadata": {},
   "source": [
    "### Различия признаков между тестовой и обучающей выборкой."
   ]
  },
  {
   "cell_type": "code",
   "execution_count": 6,
   "metadata": {
    "scrolled": true
   },
   "outputs": [
    {
     "name": "stdout",
     "output_type": "stream",
     "text": [
      "Признаки не попавшие в тестовую выборку\n",
      "---------------------------------------\n",
      "Index(['final.output.concentrate_ag', 'final.output.concentrate_au',\n",
      "       'final.output.concentrate_pb', 'final.output.concentrate_sol',\n",
      "       'final.output.tail_ag', 'final.output.tail_au', 'final.output.tail_pb',\n",
      "       'final.output.tail_sol', 'primary_cleaner.output.concentrate_ag',\n",
      "       'primary_cleaner.output.concentrate_au',\n",
      "       'primary_cleaner.output.concentrate_pb',\n",
      "       'primary_cleaner.output.concentrate_sol',\n",
      "       'primary_cleaner.output.tail_ag', 'primary_cleaner.output.tail_au',\n",
      "       'primary_cleaner.output.tail_pb', 'primary_cleaner.output.tail_sol',\n",
      "       'rougher.calculation.au_pb_ratio',\n",
      "       'rougher.calculation.floatbank10_sulfate_to_au_feed',\n",
      "       'rougher.calculation.floatbank11_sulfate_to_au_feed',\n",
      "       'rougher.calculation.sulfate_to_au_concentrate',\n",
      "       'rougher.output.concentrate_ag', 'rougher.output.concentrate_au',\n",
      "       'rougher.output.concentrate_pb', 'rougher.output.concentrate_sol',\n",
      "       'rougher.output.tail_ag', 'rougher.output.tail_au',\n",
      "       'rougher.output.tail_pb', 'rougher.output.tail_sol',\n",
      "       'secondary_cleaner.output.tail_ag', 'secondary_cleaner.output.tail_au',\n",
      "       'secondary_cleaner.output.tail_pb',\n",
      "       'secondary_cleaner.output.tail_sol'],\n",
      "      dtype='object')\n"
     ]
    }
   ],
   "source": [
    "##### Для ревьюера. Здесь я немного изменил порядок и сразу целевые добавил в тест,чтобы они в лист расхождения не попали\n",
    "##### и я смог корректный лист сделать к удалению ненужных столбцов из трейновой.Изначально они ,конечно,отсутствовали.\n",
    "test = test.merge(full[['final.output.recovery', 'rougher.output.recovery', 'date']], how='left', on='date')\n",
    "# Выведем на экран признаки ,которыми отличаются тестовые и тренировочные выборки.\n",
    "print(\"Признаки не попавшие в тестовую выборку\")\n",
    "print(\"---------------------------------------\")\n",
    "print(train.columns.symmetric_difference(test.columns))\n",
    "#Запишем их в список,для удаления из train\n",
    "list_dif=train.columns.symmetric_difference(test.columns).tolist()\n"
   ]
  },
  {
   "cell_type": "markdown",
   "metadata": {},
   "source": [
    "*** Как мы видим в тестовой у нас отсутствуют столбцы с данными по концентрации в выходе и хвосты. Эти замеры делаются после обработки и к самому процессу отношения не имеют.Поэтому в дальнейшем после анализа концентрации при подготовке данных они будут удалены. *** \n",
    "\n",
    "\n",
    "*** Целевыми являются - final.output.recovery и rougher.output.recovery.Их мы добавили из выборки \"Full\" ***\n"
   ]
  },
  {
   "cell_type": "markdown",
   "metadata": {},
   "source": [
    "### Пропуски"
   ]
  },
  {
   "cell_type": "code",
   "execution_count": 7,
   "metadata": {},
   "outputs": [
    {
     "name": "stdout",
     "output_type": "stream",
     "text": [
      "Общее количество пропущенных значений по всем признакам 4481\n"
     ]
    }
   ],
   "source": [
    "# Выведем количество пропусков по признакам в полной выборке\n",
    "print(\"Общее количество пропущенных значений по всем признакам\",full.isna().sum().sum())"
   ]
  },
  {
   "cell_type": "markdown",
   "metadata": {},
   "source": [
    "***Для всего датасета данное количество пропусков незначительно. Возвращаясь к условию задачи заполним эти пропуски соседними значениями,которые часто похожи.***"
   ]
  },
  {
   "cell_type": "code",
   "execution_count": 8,
   "metadata": {},
   "outputs": [
    {
     "name": "stdout",
     "output_type": "stream",
     "text": [
      "Общее количество пропущенных значений 0\n",
      "Общее количество пропущенных значений 0\n",
      "Общее количество пропущенных значений 0\n"
     ]
    }
   ],
   "source": [
    "# Напишем цикл для заполнения пропущенных значений значением предыдущего замера.\n",
    "s = [train,test,full]\n",
    "for i in s:\n",
    "    i.fillna(method = 'ffill',inplace = True)\n",
    "    print('Общее количество пропущенных значений',i.isna().sum().sum())"
   ]
  },
  {
   "cell_type": "markdown",
   "metadata": {},
   "source": [
    "## Анализ данных"
   ]
  },
  {
   "cell_type": "markdown",
   "metadata": {},
   "source": [
    "### Изменение концентрации метеллов на разных стадиях."
   ]
  },
  {
   "cell_type": "markdown",
   "metadata": {},
   "source": [
    "***Для того,чтобы оценить изменение концентрации нам потребуются данные:***\n",
    "\n",
    "-по входящему сырью до флотации('rougher.input')\n",
    "\n",
    "-концентрация после флотации('rougher.output')\n",
    "\n",
    "-концентрация после первичной очистки('primary_cleaner.output')\n",
    "\n",
    "-концентрация после второй очистки('final.output').\n",
    "\n",
    "*** Наши данные выражены в абсолютных величинах,проверим распределение через медиану *** "
   ]
  },
  {
   "cell_type": "code",
   "execution_count": 9,
   "metadata": {},
   "outputs": [
    {
     "data": {
      "image/png": "[encoded data removed]",
      "text/plain": [
       "<Figure size 1440x720 with 1 Axes>"
      ]
     },
     "metadata": {
      "needs_background": "light"
     },
     "output_type": "display_data"
    }
   ],
   "source": [
    "# Просмотрим распределение серебра\n",
    "plt.figure(figsize=(20,10))\n",
    "x_values = ('Входящее сырье', 'Флотация', 'Первичная очистка', 'Вторичная очистка')\n",
    "y_values = (\n",
    "    full['rougher.input.feed_ag'].median(), \n",
    "    full['rougher.output.concentrate_ag'].median(), \n",
    "    full['primary_cleaner.output.concentrate_ag'].median(), \n",
    "    full['final.output.concentrate_ag'].median()\n",
    ")\n",
    "plt.bar(x_values, y_values)\n",
    "plt.title(\"Концентрация серебра на различных этапах очистки\")\n",
    "plt.xlabel(\"Этапы очистки\")\n",
    "plt.ylabel(\"Концентрация серебра\")\n",
    "plt.grid(True)\n"
   ]
  },
  {
   "cell_type": "markdown",
   "metadata": {},
   "source": [
    "*** На этапе флотации концентрация возрастает, после очисток скорее всего серебро уходит в хвосты ***"
   ]
  },
  {
   "cell_type": "code",
   "execution_count": 10,
   "metadata": {},
   "outputs": [
    {
     "data": {
      "image/png": "[encoded data removed]",
      "text/plain": [
       "<Figure size 1440x720 with 1 Axes>"
      ]
     },
     "metadata": {
      "needs_background": "light"
     },
     "output_type": "display_data"
    }
   ],
   "source": [
    "# Просмотрим распределение свинца\n",
    "plt.figure(figsize=(20,10))\n",
    "x_values = ('Входящее сырье', 'Флотация', 'Первичная очистка', 'Вторичная очистка')\n",
    "y_values = (\n",
    "    full['rougher.input.feed_pb'].median(), \n",
    "    full['rougher.output.concentrate_pb'].median(), \n",
    "    full['primary_cleaner.output.concentrate_pb'].median(), \n",
    "    full['final.output.concentrate_pb'].median()\n",
    ")\n",
    "plt.bar(x_values, y_values)\n",
    "plt.title(\"Концентрация свинца на различных этапах очистки\")\n",
    "plt.xlabel(\"Этапы очистки\")\n",
    "plt.ylabel(\"Концентрация свинца\")\n",
    "plt.grid(True)"
   ]
  },
  {
   "cell_type": "markdown",
   "metadata": {},
   "source": [
    "*** До первичной очистки концентрация свинца растет, потом остается неизменной. ***"
   ]
  },
  {
   "cell_type": "code",
   "execution_count": 11,
   "metadata": {},
   "outputs": [
    {
     "data": {
      "image/png": "[encoded data removed]",
      "text/plain": [
       "<Figure size 1440x720 with 1 Axes>"
      ]
     },
     "metadata": {
      "needs_background": "light"
     },
     "output_type": "display_data"
    }
   ],
   "source": [
    "# Просмотрим распределение золота\n",
    "plt.figure(figsize=(20,10))\n",
    "x_values = ('Входящее сырье', 'Флотация', 'Первичная очистка', 'Вторичная очистка')\n",
    "y_values = (\n",
    "    full['rougher.input.feed_au'].median(), \n",
    "    full['rougher.output.concentrate_au'].median(), \n",
    "    full['primary_cleaner.output.concentrate_au'].median(), \n",
    "    full['final.output.concentrate_au'].median()\n",
    ")\n",
    "plt.bar(x_values, y_values)\n",
    "plt.title(\"Концентрация золота на различных этапах очистки\")\n",
    "plt.xlabel(\"Этапы очистки\")\n",
    "plt.ylabel(\"Концентрация золота\")\n",
    "plt.grid(True)"
   ]
  },
  {
   "cell_type": "markdown",
   "metadata": {},
   "source": [
    "*** А этот график распределения показывает что технологический процесс выполняется корректно(мы все-таки золото добываем) и с каждым этапом концентрация золота растет. ***"
   ]
  },
  {
   "cell_type": "markdown",
   "metadata": {},
   "source": [
    "### Распределение размеров гранул сырья на обучающей и тестовой выборках"
   ]
  },
  {
   "cell_type": "markdown",
   "metadata": {},
   "source": [
    "Для того,чтобы оценка нашей модели была правильной необходимо,чтобы распределение в обучающей и тестовой выборке была одинаковой. Необходимые нам данные находятся в столбцах train['rougher.input.feed_size'] и test['rougher.input.feed_size']. "
   ]
  },
  {
   "cell_type": "code",
   "execution_count": 12,
   "metadata": {},
   "outputs": [
    {
     "data": {
      "text/plain": [
       "<matplotlib.legend.Legend at 0x7fa5d6b224f0>"
      ]
     },
     "execution_count": 12,
     "metadata": {},
     "output_type": "execute_result"
    },
    {
     "data": {
      "image/png": "[encoded data removed]",
      "text/plain": [
       "<Figure size 432x288 with 1 Axes>"
      ]
     },
     "metadata": {
      "needs_background": "light"
     },
     "output_type": "display_data"
    }
   ],
   "source": [
    "# Построим кривые распределения \n",
    "train['rougher.input.feed_size'].plot(kind = 'density',label='Обучающая выборка')\n",
    "test['rougher.input.feed_size'].plot(kind = 'density',label='Тестовая выборка')\n",
    "plt.xlim(0, 120)\n",
    "plt.grid(True)\n",
    "plt.legend()"
   ]
  },
  {
   "cell_type": "markdown",
   "metadata": {},
   "source": [
    "***Как мы видим распределение не имеют критических различий,можно обучать и тестировать  модели на этих разбивках***"
   ]
  },
  {
   "cell_type": "markdown",
   "metadata": {},
   "source": [
    "### Исследование суммарной концентрации металлов на разных стадиях: в сырье, в черновом концентрате, в концентрате после первой очистки и в финальном концентрате."
   ]
  },
  {
   "cell_type": "code",
   "execution_count": 13,
   "metadata": {},
   "outputs": [
    {
     "data": {
      "text/plain": [
       "<matplotlib.legend.Legend at 0x7fa5d64c6370>"
      ]
     },
     "execution_count": 13,
     "metadata": {},
     "output_type": "execute_result"
    },
    {
     "data": {
      "image/png": "[encoded data removed]",
      "text/plain": [
       "<Figure size 1440x720 with 1 Axes>"
      ]
     },
     "metadata": {
      "needs_background": "light"
     },
     "output_type": "display_data"
    }
   ],
   "source": [
    "# Рассчитаем необходимые нам суммы для каждого этапа и построим графики распределения суммарной концентрации.\n",
    "plt.figure(figsize=(20,10))\n",
    "#Входная концентрация\n",
    "rougher_input=(full['rougher.input.feed_au']+full['rougher.input.feed_ag']+full['rougher.input.feed_pb'])\\\n",
    ".plot(kind = 'density',label='Входная концентрация')\n",
    "\n",
    "# Флотация\n",
    "rougher_output = (full['rougher.output.concentrate_au']+full['rougher.output.concentrate_ag']+full['rougher.output.concentrate_pb']).\\\n",
    "plot(kind = 'density',label='После флотации')\n",
    "\n",
    "#Первичная очистка\n",
    "primary_cleaner_output = (full['primary_cleaner.output.concentrate_au']+full['primary_cleaner.output.concentrate_ag']+full['primary_cleaner.output.concentrate_pb']).\\\n",
    "plot(kind = 'density',label='После первичной очистки')\n",
    "\n",
    "#Финальная концентрация\n",
    "\n",
    "final_output_data = (full['final.output.concentrate_au']+full['final.output.concentrate_ag']+full['final.output.concentrate_pb']).\\\n",
    "plot(kind = 'density',label='После повторной очистки(финальная концентрация)')\n",
    "\n",
    "plt.xlim(0, 70)\n",
    "plt.title(\"Распределения значений суммарнных концетраций\")\n",
    "plt.ylabel(\"Общая концентрация металлов\")\n",
    "plt.grid(True)\n",
    "plt.legend()\n",
    "\n",
    "\n",
    "        "
   ]
  },
  {
   "cell_type": "markdown",
   "metadata": {},
   "source": [
    "***На каждом последуещем этапе концентрация металлов возрастает.***"
   ]
  },
  {
   "cell_type": "markdown",
   "metadata": {},
   "source": [
    "#### Проверка целевых значений."
   ]
  },
  {
   "cell_type": "markdown",
   "metadata": {},
   "source": [
    "***Поскольку данные были разделены самим заказчиком, то на мой взгляд как-то изменять или проверять тестовую  я не вижу смысла(возможно заказчик хочет проверить корректность модели именно на этих данных). Качеству обучения модели она никак не поможет.***\n",
    "\n",
    "*** Также стоить помнить,что данные у нас упорядоченны по времени, поэтому что-то удалять я бы стал только с очень большой осторожностью и крайне малую часть.***\n",
    "\n",
    "*** В обучающей выборке 85 признаков. Какой из них критично влияет на нашу конечную выборку достоверно не получится(либо выяснять у заказчика на какой из признаков они обращают внимание в процессе выработки)***\n",
    "\n",
    "***Поэтому в каачестве одного из этапов предобработки я решил проверить на аномалии только значения целевых таргетов в обучающей выборке.***\n",
    "\n",
    "***Построим бокс-плоты для каждого из таргетов нашей тренировочной выборки.***"
   ]
  },
  {
   "cell_type": "code",
   "execution_count": 14,
   "metadata": {},
   "outputs": [
    {
     "data": {
      "text/plain": [
       "count    14579.000000\n",
       "mean        82.521200\n",
       "std         15.797521\n",
       "min          0.000000\n",
       "25%         80.558542\n",
       "50%         85.946497\n",
       "75%         89.960375\n",
       "max        100.000000\n",
       "Name: rougher.output.recovery, dtype: float64"
      ]
     },
     "execution_count": 14,
     "metadata": {},
     "output_type": "execute_result"
    },
    {
     "data": {
      "image/png": "[encoded data removed]",
      "text/plain": [
       "<Figure size 432x288 with 1 Axes>"
      ]
     },
     "metadata": {
      "needs_background": "light"
     },
     "output_type": "display_data"
    }
   ],
   "source": [
    "# Коэф восстановления после флотации.\n",
    "train['rougher.output.recovery'].plot(kind = 'box')\n",
    "train['rougher.output.recovery'].describe()"
   ]
  },
  {
   "cell_type": "markdown",
   "metadata": {},
   "source": [
    "***В нижней части виден четкий разрыв в районе значения \"15\".Посмотрим какое количество строк соответствует этому условию.***"
   ]
  },
  {
   "cell_type": "code",
   "execution_count": 15,
   "metadata": {},
   "outputs": [
    {
     "name": "stdout",
     "output_type": "stream",
     "text": [
      "(399, 87)\n"
     ]
    }
   ],
   "source": [
    "#Выделим эти данные ,посмотри какое количество соответствует \"выбросу\"\n",
    "t=train.loc[train['rougher.output.recovery'] <= 15]\n",
    "print(t.shape)"
   ]
  },
  {
   "cell_type": "markdown",
   "metadata": {},
   "source": [
    "***Я думаю,что эти данные можно удалить ,для увеличение \"чистоты\" нашей тренировочной выборки ***"
   ]
  },
  {
   "cell_type": "code",
   "execution_count": 16,
   "metadata": {},
   "outputs": [
    {
     "data": {
      "text/plain": [
       "(14180, 87)"
      ]
     },
     "execution_count": 16,
     "metadata": {},
     "output_type": "execute_result"
    }
   ],
   "source": [
    "# через loc отсечем значения меньше 15\n",
    "final_train=train.loc[train['rougher.output.recovery'] >= 15]\n",
    "final_train.shape"
   ]
  },
  {
   "cell_type": "markdown",
   "metadata": {},
   "source": [
    "***Теперь построим box-plot для конечного коэффициента восстановления."
   ]
  },
  {
   "cell_type": "code",
   "execution_count": 17,
   "metadata": {
    "scrolled": true
   },
   "outputs": [
    {
     "data": {
      "text/plain": [
       "count    14180.000000\n",
       "mean        66.852660\n",
       "std         10.551418\n",
       "min          0.000000\n",
       "25%         63.282930\n",
       "50%         68.028765\n",
       "75%         72.619201\n",
       "max        100.000000\n",
       "Name: final.output.recovery, dtype: float64"
      ]
     },
     "execution_count": 17,
     "metadata": {},
     "output_type": "execute_result"
    },
    {
     "data": {
      "image/png": "[encoded data removed]",
      "text/plain": [
       "<Figure size 432x288 with 1 Axes>"
      ]
     },
     "metadata": {
      "needs_background": "light"
     },
     "output_type": "display_data"
    }
   ],
   "source": [
    "\n",
    "final_train['final.output.recovery'].plot(kind = 'box')\n",
    "final_train['final.output.recovery'].describe()"
   ]
  },
  {
   "cell_type": "markdown",
   "metadata": {},
   "source": [
    "Здесь ярких выбросов нет,однако есть нулевые значения , возможно неудачные замеры. Посмторим количество данных."
   ]
  },
  {
   "cell_type": "code",
   "execution_count": 18,
   "metadata": {},
   "outputs": [
    {
     "name": "stdout",
     "output_type": "stream",
     "text": [
      "(94, 87)\n"
     ]
    }
   ],
   "source": [
    "t=final_train.loc[final_train['final.output.recovery'] == 0]\n",
    "print(t.shape)"
   ]
  },
  {
   "cell_type": "markdown",
   "metadata": {},
   "source": [
    "94 значения. Их тоже можно удалить."
   ]
  },
  {
   "cell_type": "code",
   "execution_count": 19,
   "metadata": {},
   "outputs": [
    {
     "data": {
      "text/plain": [
       "(14086, 87)"
      ]
     },
     "execution_count": 19,
     "metadata": {},
     "output_type": "execute_result"
    }
   ],
   "source": [
    "final_train=final_train.loc[final_train['final.output.recovery'] != 0]\n",
    "final_train.shape\n"
   ]
  },
  {
   "cell_type": "markdown",
   "metadata": {},
   "source": [
    "***Тренировочная выборка сформирована, можно приступать к обучению.***"
   ]
  },
  {
   "cell_type": "markdown",
   "metadata": {},
   "source": [
    "## Модель"
   ]
  },
  {
   "cell_type": "markdown",
   "metadata": {},
   "source": [
    "### Функция подсчета sMAPE."
   ]
  },
  {
   "cell_type": "code",
   "execution_count": 20,
   "metadata": {},
   "outputs": [],
   "source": [
    "#Функция для подсчета метрики sMAPE\n",
    "def sMAPE(target, predict):\n",
    "    smape = np.mean(np.abs(target - predict) / ((np.abs(target) + np.abs(predict)) / 2)) * 100\n",
    "  \n",
    "    return smape"
   ]
  },
  {
   "cell_type": "code",
   "execution_count": 21,
   "metadata": {},
   "outputs": [],
   "source": [
    "#Функция для подсчета метрики в проекте\n",
    "def sMAPE_pr(smape_rougher, smape_final):\n",
    "    return (0.25*smape_rougher + 0.75*smape_final)"
   ]
  },
  {
   "cell_type": "markdown",
   "metadata": {},
   "source": [
    "### Выделение признаков и таргетов ."
   ]
  },
  {
   "cell_type": "code",
   "execution_count": 22,
   "metadata": {},
   "outputs": [
    {
     "data": {
      "text/plain": [
       "Index([], dtype='object')"
      ]
     },
     "execution_count": 22,
     "metadata": {},
     "output_type": "execute_result"
    }
   ],
   "source": [
    "### Выделим признаки.Для обучения нам необходимо оставить только те признаки,которые есть в тестовой.\n",
    "final_train=final_train.drop(list_dif, axis=1)\n",
    "### Проверим есть ли расхождения.\n",
    "final_train.columns.symmetric_difference(test.columns)"
   ]
  },
  {
   "cell_type": "code",
   "execution_count": 23,
   "metadata": {},
   "outputs": [
    {
     "name": "stdout",
     "output_type": "stream",
     "text": [
      "(14086, 52)\n",
      "(14086,)\n",
      "(14086,)\n"
     ]
    }
   ],
   "source": [
    "#Список таргетов\n",
    "target_list = ['rougher.output.recovery','final.output.recovery','date']\n",
    "#Выделяем признаки\n",
    "final_train_features = np.array(final_train.drop(target_list, axis=1))\n",
    "# Таргет флотации\n",
    "target_train_rougher =np.array(final_train['rougher.output.recovery'])\n",
    "# Таргет итоговый\n",
    "target_train_final = np.array(final_train['final.output.recovery'])\n",
    "s = [final_train_features,target_train_rougher,target_train_final]\n",
    "for i in s:\n",
    "    print(i.shape)"
   ]
  },
  {
   "cell_type": "markdown",
   "metadata": {},
   "source": [
    "### Обучение моделей."
   ]
  },
  {
   "cell_type": "markdown",
   "metadata": {},
   "source": [
    "#### Модель линейной регрессии."
   ]
  },
  {
   "cell_type": "code",
   "execution_count": 24,
   "metadata": {},
   "outputs": [],
   "source": [
    "# Для оптимизации добавим sMape через make_score,чтобы не делать это вручную,а сразу указать в Gridsearch\n",
    " \n",
    "score = make_scorer(sMAPE, greater_is_better = False)"
   ]
  },
  {
   "cell_type": "code",
   "execution_count": 25,
   "metadata": {},
   "outputs": [],
   "source": [
    "#Для оптимизации запустим make_pipeline,в котором последовательно стандартизируем данные и передадим модель.\n",
    "lr = make_pipeline(StandardScaler(), LinearRegression())\n",
    "#Задаем параметры обучения модели\n",
    "parametrs={'linearregression__normalize':[True]}"
   ]
  },
  {
   "cell_type": "code",
   "execution_count": 26,
   "metadata": {},
   "outputs": [
    {
     "name": "stdout",
     "output_type": "stream",
     "text": [
      "Наилучшая метрика sMape для модели линейной регрессии 9.77232751658117\n"
     ]
    }
   ],
   "source": [
    "#Иницируем и обучаем модели для наших целевых\n",
    "rougher_lr = GridSearchCV(lr,parametrs, cv=4,scoring=score)\n",
    "final_lr = GridSearchCV(lr,parametrs,cv=4,scoring=score)\n",
    "rougher_lr.fit(final_train_features,target_train_rougher)\n",
    "final_lr.fit(final_train_features,target_train_final)\n",
    "# Здесь мы передаем целевую метрику нашей задачи,в качестве аргументов передаем лучшие значения обученных моделей.\n",
    "print('Наилучшая метрика sMape для модели линейной регрессии',-1*sMAPE_pr(rougher_lr.best_score_,final_lr.best_score_))"
   ]
  },
  {
   "cell_type": "markdown",
   "metadata": {},
   "source": [
    "#### Модель дерева решений."
   ]
  },
  {
   "cell_type": "code",
   "execution_count": 27,
   "metadata": {},
   "outputs": [
    {
     "name": "stdout",
     "output_type": "stream",
     "text": [
      "Лучшие параметры для \"rougher\":  {'decisiontreeregressor__max_depth': 1}\n",
      "Лучшие параметры для \"Final\":  {'decisiontreeregressor__max_depth': 1}\n",
      "Наилучшая метрика sMape для модели дерева решений 8.879455020311893\n"
     ]
    }
   ],
   "source": [
    "#Со своими гиперпараметрами иницируем модель дерева решений\n",
    "dt=make_pipeline(StandardScaler(), DecisionTreeRegressor())\n",
    "parametrs={'decisiontreeregressor__max_depth':[1,25]}\n",
    "rougher_dt = GridSearchCV(dt,parametrs, cv=5,scoring=score)\n",
    "final_dt = GridSearchCV(dt,parametrs,cv=5,scoring=score)\n",
    "rougher_dt.fit(final_train_features,target_train_rougher)\n",
    "final_dt.fit(final_train_features,target_train_final)\n",
    "# Здесь добавим вывод гиперпарамеиров на которых были получены лучшие значения score.\n",
    "print('Лучшие параметры для \"rougher\": ', rougher_dt.best_params_)\n",
    "print('Лучшие параметры для \"Final\": ', final_dt.best_params_)\n",
    "print('Наилучшая метрика sMape для модели дерева решений',-1*sMAPE_pr(rougher_dt.best_score_,final_dt.best_score_))\n"
   ]
  },
  {
   "cell_type": "markdown",
   "metadata": {},
   "source": [
    "#### Модель случайного леса."
   ]
  },
  {
   "cell_type": "code",
   "execution_count": 28,
   "metadata": {},
   "outputs": [
    {
     "name": "stdout",
     "output_type": "stream",
     "text": [
      "Лучшие параметры:  {'randomforestregressor__max_depth': 5, 'randomforestregressor__n_estimators': 200, 'randomforestregressor__random_state': 12345}\n",
      "Лучшие параметры:  {'randomforestregressor__max_depth': 1, 'randomforestregressor__n_estimators': 200, 'randomforestregressor__random_state': 12345}\n",
      "Наилучшая метрика sMape для модели cлучайного леса 8.508536272338821\n"
     ]
    }
   ],
   "source": [
    "#Со своими гиперпараметрами иницируем модель случайного леса\n",
    "rfr=make_pipeline(StandardScaler(), RandomForestRegressor())\n",
    "parametrs={'randomforestregressor__n_estimators':[1,200],\n",
    "            'randomforestregressor__max_depth':[1,5],\n",
    "            'randomforestregressor__random_state':[12345]}\n",
    "\n",
    "rougher_rfr = GridSearchCV(rfr,parametrs, cv=5,scoring=score)\n",
    "final_rfr = GridSearchCV(rfr,parametrs,cv=5,scoring=score)\n",
    "rougher_rfr.fit(final_train_features,target_train_rougher)\n",
    "final_rfr.fit(final_train_features,target_train_final)\n",
    "print('Лучшие параметры: ', rougher_rfr.best_params_)\n",
    "print('Лучшие параметры: ', final_rfr.best_params_)\n",
    "print(\"Наилучшая метрика sMape для модели cлучайного леса\",-1*sMAPE_pr(rougher_rfr.best_score_,final_rfr.best_score_))\n",
    "\n"
   ]
  },
  {
   "cell_type": "markdown",
   "metadata": {},
   "source": [
    "Таким образом наилучшее значение метрики(т.к. у нас задача регрессии, то значение должно быть минимальным) показала модель случайного леса с параметрами для каждого из необходимых таргетов.\n",
    "\n",
    "Рассчитаем sMAPE на тестовой выборке."
   ]
  },
  {
   "cell_type": "markdown",
   "metadata": {},
   "source": [
    "### Проверка на тестовой выборке."
   ]
  },
  {
   "cell_type": "code",
   "execution_count": 29,
   "metadata": {},
   "outputs": [
    {
     "name": "stdout",
     "output_type": "stream",
     "text": [
      "(4860, 52)\n",
      "(4860,)\n",
      "(4860,)\n"
     ]
    }
   ],
   "source": [
    "### Выделим признаки и таргеты на тестовой выборке.\n",
    "#Список таргетов\n",
    "target_list = ['rougher.output.recovery','final.output.recovery','date']\n",
    "#Выделяем признаки\n",
    "test_features = np.array(test.drop(target_list, axis=1))\n",
    "# Таргет флотации\n",
    "target_test_rougher =np.array(test['rougher.output.recovery'])\n",
    "# Таргет итоговый\n",
    "target_test_final = np.array(test['final.output.recovery'])\n",
    "s = [test_features,target_test_rougher,target_test_final]\n",
    "for i in s:\n",
    "    print(i.shape)"
   ]
  },
  {
   "cell_type": "code",
   "execution_count": 30,
   "metadata": {},
   "outputs": [
    {
     "name": "stdout",
     "output_type": "stream",
     "text": [
      "Характеристика sMAPE для тестовой выборки =  7.543903115360616\n"
     ]
    }
   ],
   "source": [
    "#Получим предикт для расчетема sMAPE для таргета \"rougher\" c лучшими параметрами из Grid \n",
    "test_rougher_predict=rougher_rfr.best_estimator_.predict(test_features)\n",
    "#Получим предикт для расчетема sMAPE для таргета \"Final\" c лучшими параметрами из Grid \n",
    "test_final_predict=final_rfr.best_estimator_.predict(test_features)\n",
    "# Рассчитаем sMAPE для таргета \"rougher\"\n",
    "smape_rougher_test=sMAPE(target_test_rougher,test_rougher_predict)\n",
    "# Рассчитаем sMAPE для таргета \"final\"\n",
    "smape_final_test=sMAPE(target_test_final,test_final_predict)\n",
    "\n",
    "print(\"Характеристика sMAPE для тестовой выборки = \",sMAPE_pr(smape_rougher_test,smape_final_test))"
   ]
  },
  {
   "cell_type": "markdown",
   "metadata": {},
   "source": [
    "***Т.о на тестовой выборке модель показала значение лучше,чем на учебной, а значит модель хорошо обучена и ее можно использовать для прогнозирования***"
   ]
  },
  {
   "cell_type": "markdown",
   "metadata": {},
   "source": [
    "#### Проверка на вменяемость.\n"
   ]
  },
  {
   "cell_type": "code",
   "execution_count": 31,
   "metadata": {},
   "outputs": [
    {
     "name": "stdout",
     "output_type": "stream",
     "text": [
      "Характеристика sMape при Dummy-проверке =  8.258034484382982\n"
     ]
    }
   ],
   "source": [
    "# Инициируем Dummy модель, за стратегию возьмем медиану.\n",
    "dummy_rougher = DummyRegressor(strategy='median')\n",
    "dummy_final = DummyRegressor(strategy='median')\n",
    "#Обучим\n",
    "dummy_rougher.fit(test_features, target_test_rougher)\n",
    "dummy_final.fit(test_features,target_test_final)\n",
    "#Рассчитаем прогнозы\n",
    "rougher_dummy = dummy_rougher.predict(test_features)\n",
    "final_dummy = dummy_final.predict(test_features)\n",
    "# Рассчитаем sMAPE\n",
    "rougher_smape_dummy=sMAPE(target_test_rougher,rougher_dummy)\n",
    "final_smape_dummy = sMAPE(target_test_final,final_dummy)\n",
    "# Рассчитаем итоговую характеристику.\n",
    "print(\"Характеристика sMape при Dummy-проверке = \", sMAPE_pr(rougher_smape_dummy,final_smape_dummy))"
   ]
  },
  {
   "cell_type": "markdown",
   "metadata": {},
   "source": [
    "*** Проверку на вменяемость модель также прошла,значение Dummy-sMAPE выше,чем полученное из модели.*** "
   ]
  },
  {
   "cell_type": "markdown",
   "metadata": {},
   "source": [
    "### Итоги."
   ]
  },
  {
   "cell_type": "markdown",
   "metadata": {},
   "source": [
    "*** В рамках проекта мы провели исследование процесса добычи золота из руды.***\n",
    "\n",
    "- На этапе загрузки и обработки данных мы изучили обучающую и тестовую выборки  предоставленные заказчиком.\n",
    "\n",
    " 1.Выявили расхождения в признаках между выборками. Привели их к общему виду для дальнейшего обучения.\n",
    " \n",
    " 2.Заполнили пропуски, удалили некоторые аномалии и выбросы из целевых значений. \n",
    " \n",
    " 3.Проверили корректность распределения гранул сырья и  распределение концентрации металлов на протяжении производственного процесса. \n",
    "\n",
    "- Далее нами были обучены 3 модели для 2х целевых значений: Линейной регрессии, Модель дерева решения.Написав функцию итоговой метрики мы передали в модель для критерия выбора. Лучший результат показала модель случайного леса.Гиперпараметры указаны в ходе решения.\n",
    "\n",
    "- На финальном этапе лучшие модели были проверены на тестовой выборке. Результат оказался лучше,чем на тренировочной.\n",
    "Также модель была проверена на вменяемоть через константную модель и проверка была пройдена.\n"
   ]
  }
 ],
 "metadata": {
  "ExecuteTimeLog": [
   {
    "duration": 1246,
    "start_time": "2023-05-22T19:08:22.550Z"
   },
   {
    "duration": 356,
    "start_time": "2023-05-22T19:10:34.030Z"
   },
   {
    "duration": 332,
    "start_time": "2023-05-22T19:12:32.577Z"
   },
   {
    "duration": 382,
    "start_time": "2023-05-22T19:13:01.192Z"
   },
   {
    "duration": 356,
    "start_time": "2023-05-22T19:14:38.257Z"
   },
   {
    "duration": 440,
    "start_time": "2023-05-22T19:15:53.001Z"
   },
   {
    "duration": 366,
    "start_time": "2023-05-22T19:16:17.400Z"
   },
   {
    "duration": 168,
    "start_time": "2023-05-22T19:20:08.264Z"
   },
   {
    "duration": 348,
    "start_time": "2023-05-22T19:20:39.076Z"
   },
   {
    "duration": 64,
    "start_time": "2023-05-22T19:25:34.192Z"
   },
   {
    "duration": 7,
    "start_time": "2023-05-22T19:25:51.115Z"
   },
   {
    "duration": 1181,
    "start_time": "2023-05-22T19:26:10.459Z"
   },
   {
    "duration": 345,
    "start_time": "2023-05-22T19:38:50.254Z"
   },
   {
    "duration": 333,
    "start_time": "2023-05-22T19:39:11.374Z"
   },
   {
    "duration": 54,
    "start_time": "2023-05-23T06:21:27.205Z"
   },
   {
    "duration": 1249,
    "start_time": "2023-05-23T06:21:35.648Z"
   },
   {
    "duration": 149,
    "start_time": "2023-05-23T06:21:36.898Z"
   },
   {
    "duration": 1144,
    "start_time": "2023-05-23T06:21:37.050Z"
   },
   {
    "duration": 13,
    "start_time": "2023-05-23T06:21:38.195Z"
   },
   {
    "duration": 63,
    "start_time": "2023-05-23T06:24:27.965Z"
   },
   {
    "duration": 47,
    "start_time": "2023-05-23T06:24:45.140Z"
   },
   {
    "duration": 515,
    "start_time": "2023-05-23T06:51:12.748Z"
   },
   {
    "duration": 588,
    "start_time": "2023-05-23T06:53:34.109Z"
   },
   {
    "duration": 633,
    "start_time": "2023-05-23T06:54:19.921Z"
   },
   {
    "duration": 223,
    "start_time": "2023-05-23T06:59:06.857Z"
   },
   {
    "duration": 67,
    "start_time": "2023-05-23T07:02:22.825Z"
   },
   {
    "duration": 11,
    "start_time": "2023-05-23T07:03:08.044Z"
   },
   {
    "duration": 12,
    "start_time": "2023-05-23T07:03:17.467Z"
   },
   {
    "duration": 11,
    "start_time": "2023-05-23T07:04:26.779Z"
   },
   {
    "duration": 684,
    "start_time": "2023-05-23T07:05:07.922Z"
   },
   {
    "duration": 675,
    "start_time": "2023-05-23T07:06:04.664Z"
   },
   {
    "duration": 212,
    "start_time": "2023-05-23T07:07:02.090Z"
   },
   {
    "duration": 705,
    "start_time": "2023-05-23T07:07:22.610Z"
   },
   {
    "duration": 14,
    "start_time": "2023-05-23T07:07:50.048Z"
   },
   {
    "duration": 13,
    "start_time": "2023-05-23T07:33:33.176Z"
   },
   {
    "duration": 13,
    "start_time": "2023-05-23T08:27:52.649Z"
   },
   {
    "duration": 10,
    "start_time": "2023-05-23T08:28:27.667Z"
   },
   {
    "duration": 10,
    "start_time": "2023-05-23T08:29:21.757Z"
   },
   {
    "duration": 10,
    "start_time": "2023-05-23T08:35:29.371Z"
   },
   {
    "duration": 406,
    "start_time": "2023-05-23T08:38:26.742Z"
   },
   {
    "duration": 365,
    "start_time": "2023-05-23T08:39:09.345Z"
   },
   {
    "duration": 80,
    "start_time": "2023-05-23T08:44:23.796Z"
   },
   {
    "duration": 89,
    "start_time": "2023-05-23T08:45:14.279Z"
   },
   {
    "duration": 515,
    "start_time": "2023-05-23T08:45:29.863Z"
   },
   {
    "duration": 375,
    "start_time": "2023-05-23T08:46:19.683Z"
   },
   {
    "duration": 1177,
    "start_time": "2023-05-23T08:49:04.929Z"
   },
   {
    "duration": 3,
    "start_time": "2023-05-23T08:50:27.895Z"
   },
   {
    "duration": 351,
    "start_time": "2023-05-23T08:51:37.003Z"
   },
   {
    "duration": 7,
    "start_time": "2023-05-23T08:56:45.990Z"
   },
   {
    "duration": 7,
    "start_time": "2023-05-23T08:56:48.959Z"
   },
   {
    "duration": 8,
    "start_time": "2023-05-23T08:57:21.979Z"
   },
   {
    "duration": 15,
    "start_time": "2023-05-23T08:59:27.228Z"
   },
   {
    "duration": 2264,
    "start_time": "2023-05-23T09:00:23.450Z"
   },
   {
    "duration": 253,
    "start_time": "2023-05-23T09:00:25.717Z"
   },
   {
    "duration": 873,
    "start_time": "2023-05-23T09:00:25.972Z"
   },
   {
    "duration": 9,
    "start_time": "2023-05-23T09:00:26.847Z"
   },
   {
    "duration": 27,
    "start_time": "2023-05-23T09:00:26.858Z"
   },
   {
    "duration": 3,
    "start_time": "2023-05-23T09:26:35.998Z"
   },
   {
    "duration": 6,
    "start_time": "2023-05-23T09:33:59.139Z"
   },
   {
    "duration": 6,
    "start_time": "2023-05-23T09:36:58.326Z"
   },
   {
    "duration": 4,
    "start_time": "2023-05-23T09:38:24.544Z"
   },
   {
    "duration": 6,
    "start_time": "2023-05-23T09:38:47.794Z"
   },
   {
    "duration": 20,
    "start_time": "2023-05-23T11:02:16.685Z"
   },
   {
    "duration": 22,
    "start_time": "2023-05-23T11:10:05.420Z"
   },
   {
    "duration": 1123,
    "start_time": "2023-05-23T11:11:07.113Z"
   },
   {
    "duration": 695,
    "start_time": "2023-05-23T11:11:08.243Z"
   },
   {
    "duration": 223,
    "start_time": "2023-05-23T11:11:08.941Z"
   },
   {
    "duration": 773,
    "start_time": "2023-05-23T11:11:09.166Z"
   },
   {
    "duration": 11,
    "start_time": "2023-05-23T11:11:09.945Z"
   },
   {
    "duration": 14,
    "start_time": "2023-05-23T11:11:09.958Z"
   },
   {
    "duration": 44,
    "start_time": "2023-05-23T11:11:09.974Z"
   },
   {
    "duration": 28,
    "start_time": "2023-05-23T11:11:10.020Z"
   },
   {
    "duration": 14,
    "start_time": "2023-05-23T11:12:37.118Z"
   },
   {
    "duration": 77,
    "start_time": "2023-05-23T11:12:56.950Z"
   },
   {
    "duration": 128,
    "start_time": "2023-05-23T11:13:03.184Z"
   },
   {
    "duration": 11,
    "start_time": "2023-05-23T11:13:16.297Z"
   },
   {
    "duration": 22,
    "start_time": "2023-05-23T11:15:59.017Z"
   },
   {
    "duration": 13,
    "start_time": "2023-05-23T11:19:37.177Z"
   },
   {
    "duration": 36,
    "start_time": "2023-05-23T11:25:53.137Z"
   },
   {
    "duration": 1045,
    "start_time": "2023-05-24T13:22:07.755Z"
   },
   {
    "duration": 1555,
    "start_time": "2023-05-24T13:22:08.802Z"
   },
   {
    "duration": 514,
    "start_time": "2023-05-24T13:22:10.359Z"
   },
   {
    "duration": 1884,
    "start_time": "2023-05-24T13:22:10.875Z"
   },
   {
    "duration": 7,
    "start_time": "2023-05-24T13:22:12.761Z"
   },
   {
    "duration": 15,
    "start_time": "2023-05-24T13:22:12.770Z"
   },
   {
    "duration": 27,
    "start_time": "2023-05-24T13:22:12.786Z"
   },
   {
    "duration": 13,
    "start_time": "2023-05-24T13:22:12.814Z"
   },
   {
    "duration": 30,
    "start_time": "2023-05-24T13:22:12.828Z"
   },
   {
    "duration": 90,
    "start_time": "2023-05-24T13:48:49.954Z"
   },
   {
    "duration": 1447,
    "start_time": "2023-05-24T13:49:26.565Z"
   },
   {
    "duration": 625,
    "start_time": "2023-05-24T13:49:28.014Z"
   },
   {
    "duration": 212,
    "start_time": "2023-05-24T13:49:28.640Z"
   },
   {
    "duration": 690,
    "start_time": "2023-05-24T13:49:28.856Z"
   },
   {
    "duration": 15,
    "start_time": "2023-05-24T13:49:29.548Z"
   },
   {
    "duration": 5,
    "start_time": "2023-05-24T13:49:29.564Z"
   },
   {
    "duration": 21,
    "start_time": "2023-05-24T13:49:29.570Z"
   },
   {
    "duration": 9,
    "start_time": "2023-05-24T13:49:29.593Z"
   },
   {
    "duration": 27,
    "start_time": "2023-05-24T13:49:29.603Z"
   },
   {
    "duration": 197,
    "start_time": "2023-05-24T13:49:29.656Z"
   },
   {
    "duration": 6,
    "start_time": "2023-05-24T14:04:17.896Z"
   },
   {
    "duration": 5,
    "start_time": "2023-05-24T14:04:44.764Z"
   },
   {
    "duration": 9,
    "start_time": "2023-05-24T14:05:16.950Z"
   },
   {
    "duration": 9,
    "start_time": "2023-05-24T14:07:10.569Z"
   },
   {
    "duration": 288,
    "start_time": "2023-05-24T14:14:29.801Z"
   },
   {
    "duration": 177,
    "start_time": "2023-05-24T14:16:51.267Z"
   },
   {
    "duration": 149,
    "start_time": "2023-05-24T15:08:20.407Z"
   },
   {
    "duration": 149,
    "start_time": "2023-05-24T15:09:51.653Z"
   },
   {
    "duration": 178,
    "start_time": "2023-05-24T15:11:08.151Z"
   },
   {
    "duration": 219,
    "start_time": "2023-05-24T15:11:19.408Z"
   },
   {
    "duration": 153,
    "start_time": "2023-05-24T15:11:30.147Z"
   },
   {
    "duration": 151,
    "start_time": "2023-05-24T15:11:41.046Z"
   },
   {
    "duration": 167,
    "start_time": "2023-05-24T15:12:04.926Z"
   },
   {
    "duration": 174,
    "start_time": "2023-05-24T15:12:40.193Z"
   },
   {
    "duration": 177,
    "start_time": "2023-05-24T15:27:25.602Z"
   },
   {
    "duration": 197,
    "start_time": "2023-05-24T15:30:33.652Z"
   },
   {
    "duration": 175,
    "start_time": "2023-05-24T15:30:48.246Z"
   },
   {
    "duration": 66,
    "start_time": "2023-05-25T06:41:21.970Z"
   },
   {
    "duration": 2254,
    "start_time": "2023-05-25T06:41:30.489Z"
   },
   {
    "duration": 2118,
    "start_time": "2023-05-25T06:41:32.745Z"
   },
   {
    "duration": 541,
    "start_time": "2023-05-25T06:41:34.865Z"
   },
   {
    "duration": 2148,
    "start_time": "2023-05-25T06:41:35.408Z"
   },
   {
    "duration": 20,
    "start_time": "2023-05-25T06:41:37.558Z"
   },
   {
    "duration": 18,
    "start_time": "2023-05-25T06:41:37.583Z"
   },
   {
    "duration": 7,
    "start_time": "2023-05-25T06:41:37.607Z"
   },
   {
    "duration": 41,
    "start_time": "2023-05-25T06:41:37.617Z"
   },
   {
    "duration": 12,
    "start_time": "2023-05-25T06:41:37.660Z"
   },
   {
    "duration": 36,
    "start_time": "2023-05-25T06:41:37.677Z"
   },
   {
    "duration": 248,
    "start_time": "2023-05-25T06:41:37.715Z"
   },
   {
    "duration": 223,
    "start_time": "2023-05-25T06:41:37.965Z"
   },
   {
    "duration": 205,
    "start_time": "2023-05-25T06:41:38.194Z"
   },
   {
    "duration": 706,
    "start_time": "2023-05-25T06:41:38.402Z"
   },
   {
    "duration": 120,
    "start_time": "2023-05-25T06:45:17.498Z"
   },
   {
    "duration": 47,
    "start_time": "2023-05-25T06:45:56.006Z"
   },
   {
    "duration": 27,
    "start_time": "2023-05-25T06:46:04.193Z"
   },
   {
    "duration": 565,
    "start_time": "2023-05-25T06:47:22.169Z"
   },
   {
    "duration": 623,
    "start_time": "2023-05-25T06:47:31.114Z"
   },
   {
    "duration": 549,
    "start_time": "2023-05-25T06:47:38.368Z"
   },
   {
    "duration": 639,
    "start_time": "2023-05-25T06:48:21.923Z"
   },
   {
    "duration": 589,
    "start_time": "2023-05-25T06:55:18.502Z"
   },
   {
    "duration": 4,
    "start_time": "2023-05-25T06:59:31.325Z"
   },
   {
    "duration": 722,
    "start_time": "2023-05-25T06:59:36.899Z"
   },
   {
    "duration": 690,
    "start_time": "2023-05-25T07:00:09.419Z"
   },
   {
    "duration": 698,
    "start_time": "2023-05-25T07:00:25.892Z"
   },
   {
    "duration": 697,
    "start_time": "2023-05-25T07:00:35.092Z"
   },
   {
    "duration": 58,
    "start_time": "2023-05-25T10:40:26.771Z"
   },
   {
    "duration": 49,
    "start_time": "2023-05-25T10:40:37.445Z"
   },
   {
    "duration": 695,
    "start_time": "2023-05-25T10:40:42.808Z"
   },
   {
    "duration": 48,
    "start_time": "2023-05-25T10:47:21.192Z"
   },
   {
    "duration": 46,
    "start_time": "2023-05-25T10:47:54.386Z"
   },
   {
    "duration": 1123,
    "start_time": "2023-05-25T10:48:01.847Z"
   },
   {
    "duration": 1729,
    "start_time": "2023-05-25T11:02:28.466Z"
   },
   {
    "duration": 1642,
    "start_time": "2023-05-25T11:03:34.464Z"
   },
   {
    "duration": 1928,
    "start_time": "2023-05-25T11:04:03.217Z"
   },
   {
    "duration": 2218,
    "start_time": "2023-05-25T11:17:43.691Z"
   },
   {
    "duration": 2271,
    "start_time": "2023-05-25T11:18:20.380Z"
   },
   {
    "duration": 2244,
    "start_time": "2023-05-25T11:18:54.392Z"
   },
   {
    "duration": 2148,
    "start_time": "2023-05-25T11:19:10.645Z"
   },
   {
    "duration": 2164,
    "start_time": "2023-05-25T11:21:35.096Z"
   },
   {
    "duration": 2231,
    "start_time": "2023-05-25T11:22:01.351Z"
   },
   {
    "duration": 2168,
    "start_time": "2023-05-25T11:22:09.882Z"
   },
   {
    "duration": 2148,
    "start_time": "2023-05-25T11:22:16.957Z"
   },
   {
    "duration": 2409,
    "start_time": "2023-05-25T11:27:34.155Z"
   },
   {
    "duration": 94,
    "start_time": "2023-05-25T11:59:12.300Z"
   },
   {
    "duration": 217,
    "start_time": "2023-05-25T13:02:41.005Z"
   },
   {
    "duration": 63,
    "start_time": "2023-05-26T04:04:33.733Z"
   },
   {
    "duration": 1539,
    "start_time": "2023-05-26T04:04:40.491Z"
   },
   {
    "duration": 1558,
    "start_time": "2023-05-26T04:04:42.032Z"
   },
   {
    "duration": 490,
    "start_time": "2023-05-26T04:04:43.591Z"
   },
   {
    "duration": 1830,
    "start_time": "2023-05-26T04:04:44.084Z"
   },
   {
    "duration": 13,
    "start_time": "2023-05-26T04:04:45.916Z"
   },
   {
    "duration": 10,
    "start_time": "2023-05-26T04:04:45.931Z"
   },
   {
    "duration": 5,
    "start_time": "2023-05-26T04:04:45.943Z"
   },
   {
    "duration": 25,
    "start_time": "2023-05-26T04:04:45.950Z"
   },
   {
    "duration": 13,
    "start_time": "2023-05-26T04:04:45.977Z"
   },
   {
    "duration": 50,
    "start_time": "2023-05-26T04:04:45.993Z"
   },
   {
    "duration": 207,
    "start_time": "2023-05-26T04:04:46.045Z"
   },
   {
    "duration": 192,
    "start_time": "2023-05-26T04:04:46.254Z"
   },
   {
    "duration": 180,
    "start_time": "2023-05-26T04:04:46.447Z"
   },
   {
    "duration": 627,
    "start_time": "2023-05-26T04:04:46.629Z"
   },
   {
    "duration": 2173,
    "start_time": "2023-05-26T04:04:47.258Z"
   },
   {
    "duration": 223,
    "start_time": "2023-05-26T04:04:49.432Z"
   },
   {
    "duration": 115,
    "start_time": "2023-05-26T04:06:22.895Z"
   },
   {
    "duration": 102,
    "start_time": "2023-05-26T04:06:36.345Z"
   },
   {
    "duration": 104,
    "start_time": "2023-05-26T04:07:11.752Z"
   },
   {
    "duration": 116,
    "start_time": "2023-05-26T04:07:39.127Z"
   },
   {
    "duration": 18,
    "start_time": "2023-05-26T04:10:26.234Z"
   },
   {
    "duration": 8,
    "start_time": "2023-05-26T04:10:42.076Z"
   },
   {
    "duration": 4,
    "start_time": "2023-05-26T04:13:17.996Z"
   },
   {
    "duration": 4,
    "start_time": "2023-05-26T04:13:27.659Z"
   },
   {
    "duration": 6,
    "start_time": "2023-05-26T04:13:37.403Z"
   },
   {
    "duration": 4,
    "start_time": "2023-05-26T04:14:01.326Z"
   },
   {
    "duration": 6,
    "start_time": "2023-05-26T04:14:13.251Z"
   },
   {
    "duration": 6,
    "start_time": "2023-05-26T04:14:36.516Z"
   },
   {
    "duration": 47,
    "start_time": "2023-05-26T04:16:52.304Z"
   },
   {
    "duration": 4,
    "start_time": "2023-05-26T04:17:03.366Z"
   },
   {
    "duration": 4,
    "start_time": "2023-05-26T04:17:16.744Z"
   },
   {
    "duration": 12,
    "start_time": "2023-05-26T04:17:25.746Z"
   },
   {
    "duration": 7,
    "start_time": "2023-05-26T04:22:24.962Z"
   },
   {
    "duration": 20,
    "start_time": "2023-05-26T04:23:20.888Z"
   },
   {
    "duration": 22,
    "start_time": "2023-05-26T04:23:37.383Z"
   },
   {
    "duration": 21,
    "start_time": "2023-05-26T04:23:54.713Z"
   },
   {
    "duration": 16,
    "start_time": "2023-05-26T04:24:00.251Z"
   },
   {
    "duration": 16,
    "start_time": "2023-05-26T04:24:21.028Z"
   },
   {
    "duration": 16,
    "start_time": "2023-05-26T04:25:28.511Z"
   },
   {
    "duration": 2189,
    "start_time": "2023-05-26T04:26:29.941Z"
   },
   {
    "duration": 1320,
    "start_time": "2023-05-26T04:26:34.611Z"
   },
   {
    "duration": 641,
    "start_time": "2023-05-26T04:26:35.933Z"
   },
   {
    "duration": 206,
    "start_time": "2023-05-26T04:26:36.576Z"
   },
   {
    "duration": 704,
    "start_time": "2023-05-26T04:26:36.784Z"
   },
   {
    "duration": 8,
    "start_time": "2023-05-26T04:26:37.490Z"
   },
   {
    "duration": 27,
    "start_time": "2023-05-26T04:26:37.499Z"
   },
   {
    "duration": 5,
    "start_time": "2023-05-26T04:26:37.528Z"
   },
   {
    "duration": 20,
    "start_time": "2023-05-26T04:26:37.535Z"
   },
   {
    "duration": 9,
    "start_time": "2023-05-26T04:26:37.557Z"
   },
   {
    "duration": 29,
    "start_time": "2023-05-26T04:26:37.567Z"
   },
   {
    "duration": 228,
    "start_time": "2023-05-26T04:26:37.598Z"
   },
   {
    "duration": 223,
    "start_time": "2023-05-26T04:26:37.829Z"
   },
   {
    "duration": 193,
    "start_time": "2023-05-26T04:26:38.054Z"
   },
   {
    "duration": 636,
    "start_time": "2023-05-26T04:26:38.250Z"
   },
   {
    "duration": 2270,
    "start_time": "2023-05-26T04:26:38.889Z"
   },
   {
    "duration": 107,
    "start_time": "2023-05-26T04:26:41.160Z"
   },
   {
    "duration": 200,
    "start_time": "2023-05-26T04:26:41.269Z"
   },
   {
    "duration": 16,
    "start_time": "2023-05-26T04:26:41.471Z"
   },
   {
    "duration": 36,
    "start_time": "2023-05-26T04:26:41.490Z"
   },
   {
    "duration": 2219,
    "start_time": "2023-05-26T04:26:55.819Z"
   },
   {
    "duration": 16,
    "start_time": "2023-05-26T04:29:54.364Z"
   },
   {
    "duration": 2307,
    "start_time": "2023-05-26T04:30:46.330Z"
   },
   {
    "duration": 2236,
    "start_time": "2023-05-26T04:34:08.153Z"
   },
   {
    "duration": 18,
    "start_time": "2023-05-26T04:39:21.320Z"
   },
   {
    "duration": 15,
    "start_time": "2023-05-26T04:39:28.207Z"
   },
   {
    "duration": 16,
    "start_time": "2023-05-26T04:39:33.385Z"
   },
   {
    "duration": 17,
    "start_time": "2023-05-26T04:39:38.021Z"
   },
   {
    "duration": 14,
    "start_time": "2023-05-26T04:39:46.893Z"
   },
   {
    "duration": 16,
    "start_time": "2023-05-26T04:39:51.653Z"
   },
   {
    "duration": 17,
    "start_time": "2023-05-26T04:39:59.024Z"
   },
   {
    "duration": 16,
    "start_time": "2023-05-26T04:40:17.831Z"
   },
   {
    "duration": 15,
    "start_time": "2023-05-26T04:40:27.198Z"
   },
   {
    "duration": 16,
    "start_time": "2023-05-26T04:40:41.418Z"
   },
   {
    "duration": 10,
    "start_time": "2023-05-26T04:41:49.663Z"
   },
   {
    "duration": 110,
    "start_time": "2023-05-26T04:43:17.199Z"
   },
   {
    "duration": 14,
    "start_time": "2023-05-26T04:44:37.767Z"
   },
   {
    "duration": 5,
    "start_time": "2023-05-26T04:44:45.783Z"
   },
   {
    "duration": 6,
    "start_time": "2023-05-26T04:48:44.562Z"
   },
   {
    "duration": 17,
    "start_time": "2023-05-26T04:49:05.581Z"
   },
   {
    "duration": 1283,
    "start_time": "2023-05-26T04:49:15.208Z"
   },
   {
    "duration": 627,
    "start_time": "2023-05-26T04:49:16.493Z"
   },
   {
    "duration": 201,
    "start_time": "2023-05-26T04:49:17.125Z"
   },
   {
    "duration": 716,
    "start_time": "2023-05-26T04:49:17.328Z"
   },
   {
    "duration": 8,
    "start_time": "2023-05-26T04:49:18.045Z"
   },
   {
    "duration": 30,
    "start_time": "2023-05-26T04:49:18.054Z"
   },
   {
    "duration": 4,
    "start_time": "2023-05-26T04:49:18.085Z"
   },
   {
    "duration": 14,
    "start_time": "2023-05-26T04:49:18.090Z"
   },
   {
    "duration": 19,
    "start_time": "2023-05-26T04:49:18.106Z"
   },
   {
    "duration": 26,
    "start_time": "2023-05-26T04:49:18.127Z"
   },
   {
    "duration": 198,
    "start_time": "2023-05-26T04:49:18.154Z"
   },
   {
    "duration": 172,
    "start_time": "2023-05-26T04:49:18.353Z"
   },
   {
    "duration": 172,
    "start_time": "2023-05-26T04:49:18.527Z"
   },
   {
    "duration": 635,
    "start_time": "2023-05-26T04:49:18.701Z"
   },
   {
    "duration": 2117,
    "start_time": "2023-05-26T04:49:19.338Z"
   },
   {
    "duration": 97,
    "start_time": "2023-05-26T04:49:21.456Z"
   },
   {
    "duration": 4,
    "start_time": "2023-05-26T04:49:21.555Z"
   },
   {
    "duration": 18,
    "start_time": "2023-05-26T04:49:21.561Z"
   },
   {
    "duration": 88,
    "start_time": "2023-05-26T04:49:21.580Z"
   },
   {
    "duration": 110,
    "start_time": "2023-05-26T04:52:25.880Z"
   },
   {
    "duration": 8,
    "start_time": "2023-05-26T04:52:30.322Z"
   },
   {
    "duration": 569,
    "start_time": "2023-05-26T04:53:58.445Z"
   },
   {
    "duration": 957,
    "start_time": "2023-05-26T04:55:41.214Z"
   },
   {
    "duration": 1342,
    "start_time": "2023-05-26T04:57:01.231Z"
   },
   {
    "duration": 1721,
    "start_time": "2023-05-26T04:58:00.466Z"
   },
   {
    "duration": 2179,
    "start_time": "2023-05-26T04:59:58.749Z"
   },
   {
    "duration": 40,
    "start_time": "2023-05-26T05:09:48.796Z"
   },
   {
    "duration": 111,
    "start_time": "2023-05-26T05:10:33.538Z"
   },
   {
    "duration": 119,
    "start_time": "2023-05-26T05:10:51.428Z"
   },
   {
    "duration": 101,
    "start_time": "2023-05-26T05:11:42.457Z"
   },
   {
    "duration": 44,
    "start_time": "2023-05-26T05:13:02.416Z"
   },
   {
    "duration": 4,
    "start_time": "2023-05-26T05:14:56.598Z"
   },
   {
    "duration": 5,
    "start_time": "2023-05-26T05:15:10.871Z"
   },
   {
    "duration": 49,
    "start_time": "2023-05-26T05:15:57.014Z"
   },
   {
    "duration": 12,
    "start_time": "2023-05-26T05:16:48.638Z"
   },
   {
    "duration": 3,
    "start_time": "2023-05-26T05:21:44.002Z"
   },
   {
    "duration": 3,
    "start_time": "2023-05-26T05:21:46.506Z"
   },
   {
    "duration": 2,
    "start_time": "2023-05-26T05:21:48.340Z"
   },
   {
    "duration": 3,
    "start_time": "2023-05-26T05:21:56.933Z"
   },
   {
    "duration": 1383,
    "start_time": "2023-05-26T05:25:56.015Z"
   },
   {
    "duration": 717,
    "start_time": "2023-05-26T05:25:57.400Z"
   },
   {
    "duration": 213,
    "start_time": "2023-05-26T05:25:58.125Z"
   },
   {
    "duration": 708,
    "start_time": "2023-05-26T05:25:58.340Z"
   },
   {
    "duration": 11,
    "start_time": "2023-05-26T05:25:59.050Z"
   },
   {
    "duration": 10,
    "start_time": "2023-05-26T05:25:59.063Z"
   },
   {
    "duration": 5,
    "start_time": "2023-05-26T05:25:59.075Z"
   },
   {
    "duration": 45,
    "start_time": "2023-05-26T05:25:59.082Z"
   },
   {
    "duration": 9,
    "start_time": "2023-05-26T05:25:59.128Z"
   },
   {
    "duration": 31,
    "start_time": "2023-05-26T05:25:59.140Z"
   },
   {
    "duration": 221,
    "start_time": "2023-05-26T05:25:59.173Z"
   },
   {
    "duration": 230,
    "start_time": "2023-05-26T05:25:59.396Z"
   },
   {
    "duration": 221,
    "start_time": "2023-05-26T05:25:59.629Z"
   },
   {
    "duration": 593,
    "start_time": "2023-05-26T05:25:59.854Z"
   },
   {
    "duration": 2206,
    "start_time": "2023-05-26T05:26:00.449Z"
   },
   {
    "duration": 106,
    "start_time": "2023-05-26T05:26:02.657Z"
   },
   {
    "duration": 6,
    "start_time": "2023-05-26T05:26:02.765Z"
   },
   {
    "duration": 13,
    "start_time": "2023-05-26T05:26:02.772Z"
   },
   {
    "duration": 207,
    "start_time": "2023-05-26T05:26:02.787Z"
   },
   {
    "duration": 4,
    "start_time": "2023-05-26T05:26:02.996Z"
   },
   {
    "duration": 10,
    "start_time": "2023-05-26T05:26:03.002Z"
   },
   {
    "duration": 59,
    "start_time": "2023-05-26T05:26:03.013Z"
   },
   {
    "duration": 0,
    "start_time": "2023-05-26T05:26:03.073Z"
   },
   {
    "duration": 1360,
    "start_time": "2023-05-26T05:45:05.798Z"
   },
   {
    "duration": 690,
    "start_time": "2023-05-26T05:45:07.160Z"
   },
   {
    "duration": 213,
    "start_time": "2023-05-26T05:45:07.852Z"
   },
   {
    "duration": 745,
    "start_time": "2023-05-26T05:45:08.067Z"
   },
   {
    "duration": 18,
    "start_time": "2023-05-26T05:45:08.814Z"
   },
   {
    "duration": 24,
    "start_time": "2023-05-26T05:45:08.834Z"
   },
   {
    "duration": 6,
    "start_time": "2023-05-26T05:45:08.861Z"
   },
   {
    "duration": 30,
    "start_time": "2023-05-26T05:45:08.868Z"
   },
   {
    "duration": 10,
    "start_time": "2023-05-26T05:45:08.899Z"
   },
   {
    "duration": 42,
    "start_time": "2023-05-26T05:45:08.912Z"
   },
   {
    "duration": 217,
    "start_time": "2023-05-26T05:45:08.956Z"
   },
   {
    "duration": 194,
    "start_time": "2023-05-26T05:45:09.175Z"
   },
   {
    "duration": 194,
    "start_time": "2023-05-26T05:45:09.371Z"
   },
   {
    "duration": 720,
    "start_time": "2023-05-26T05:45:09.567Z"
   },
   {
    "duration": 2310,
    "start_time": "2023-05-26T05:45:10.289Z"
   },
   {
    "duration": 109,
    "start_time": "2023-05-26T05:45:12.601Z"
   },
   {
    "duration": 4,
    "start_time": "2023-05-26T05:45:12.712Z"
   },
   {
    "duration": 13,
    "start_time": "2023-05-26T05:45:12.718Z"
   },
   {
    "duration": 204,
    "start_time": "2023-05-26T05:45:12.737Z"
   },
   {
    "duration": 6,
    "start_time": "2023-05-26T05:45:12.943Z"
   },
   {
    "duration": 16,
    "start_time": "2023-05-26T05:45:12.951Z"
   },
   {
    "duration": 11,
    "start_time": "2023-05-26T05:45:12.969Z"
   },
   {
    "duration": 13,
    "start_time": "2023-05-26T05:45:12.982Z"
   },
   {
    "duration": 119,
    "start_time": "2023-05-26T05:48:01.254Z"
   },
   {
    "duration": 53,
    "start_time": "2023-05-26T05:48:42.977Z"
   },
   {
    "duration": 14,
    "start_time": "2023-05-26T05:53:14.717Z"
   },
   {
    "duration": 24,
    "start_time": "2023-05-26T05:53:35.012Z"
   },
   {
    "duration": 1366,
    "start_time": "2023-05-26T05:53:55.795Z"
   },
   {
    "duration": 745,
    "start_time": "2023-05-26T05:53:57.163Z"
   },
   {
    "duration": 229,
    "start_time": "2023-05-26T05:53:57.911Z"
   },
   {
    "duration": 759,
    "start_time": "2023-05-26T05:53:58.143Z"
   },
   {
    "duration": 8,
    "start_time": "2023-05-26T05:53:58.903Z"
   },
   {
    "duration": 31,
    "start_time": "2023-05-26T05:53:58.912Z"
   },
   {
    "duration": 8,
    "start_time": "2023-05-26T05:53:58.945Z"
   },
   {
    "duration": 15,
    "start_time": "2023-05-26T05:53:58.955Z"
   },
   {
    "duration": 9,
    "start_time": "2023-05-26T05:53:58.972Z"
   },
   {
    "duration": 49,
    "start_time": "2023-05-26T05:53:58.984Z"
   },
   {
    "duration": 229,
    "start_time": "2023-05-26T05:53:59.039Z"
   },
   {
    "duration": 206,
    "start_time": "2023-05-26T05:53:59.270Z"
   },
   {
    "duration": 213,
    "start_time": "2023-05-26T05:53:59.478Z"
   },
   {
    "duration": 732,
    "start_time": "2023-05-26T05:53:59.693Z"
   },
   {
    "duration": 2318,
    "start_time": "2023-05-26T05:54:00.437Z"
   },
   {
    "duration": 122,
    "start_time": "2023-05-26T05:54:02.757Z"
   },
   {
    "duration": 6,
    "start_time": "2023-05-26T05:54:02.882Z"
   },
   {
    "duration": 10,
    "start_time": "2023-05-26T05:54:02.890Z"
   },
   {
    "duration": 207,
    "start_time": "2023-05-26T05:54:02.902Z"
   },
   {
    "duration": 16,
    "start_time": "2023-05-26T05:54:03.111Z"
   },
   {
    "duration": 14,
    "start_time": "2023-05-26T05:54:03.139Z"
   },
   {
    "duration": 5,
    "start_time": "2023-05-26T05:54:03.155Z"
   },
   {
    "duration": 8,
    "start_time": "2023-05-26T05:54:03.161Z"
   },
   {
    "duration": 127,
    "start_time": "2023-05-26T05:54:03.170Z"
   },
   {
    "duration": 18,
    "start_time": "2023-05-26T05:54:10.462Z"
   },
   {
    "duration": 17,
    "start_time": "2023-05-26T05:54:25.251Z"
   },
   {
    "duration": 20,
    "start_time": "2023-05-26T05:55:29.726Z"
   },
   {
    "duration": 699,
    "start_time": "2023-05-26T05:56:31.799Z"
   },
   {
    "duration": 1248,
    "start_time": "2023-05-26T05:57:06.884Z"
   },
   {
    "duration": 670,
    "start_time": "2023-05-26T05:57:08.134Z"
   },
   {
    "duration": 232,
    "start_time": "2023-05-26T05:57:08.806Z"
   },
   {
    "duration": 821,
    "start_time": "2023-05-26T05:57:09.041Z"
   },
   {
    "duration": 10,
    "start_time": "2023-05-26T05:57:09.865Z"
   },
   {
    "duration": 14,
    "start_time": "2023-05-26T05:57:09.877Z"
   },
   {
    "duration": 5,
    "start_time": "2023-05-26T05:57:09.894Z"
   },
   {
    "duration": 44,
    "start_time": "2023-05-26T05:57:09.901Z"
   },
   {
    "duration": 9,
    "start_time": "2023-05-26T05:57:09.947Z"
   },
   {
    "duration": 29,
    "start_time": "2023-05-26T05:57:09.958Z"
   },
   {
    "duration": 220,
    "start_time": "2023-05-26T05:57:09.988Z"
   },
   {
    "duration": 180,
    "start_time": "2023-05-26T05:57:10.209Z"
   },
   {
    "duration": 181,
    "start_time": "2023-05-26T05:57:10.391Z"
   },
   {
    "duration": 705,
    "start_time": "2023-05-26T05:57:10.575Z"
   },
   {
    "duration": 2321,
    "start_time": "2023-05-26T05:57:11.282Z"
   },
   {
    "duration": 114,
    "start_time": "2023-05-26T05:57:13.605Z"
   },
   {
    "duration": 5,
    "start_time": "2023-05-26T05:57:13.725Z"
   },
   {
    "duration": 11,
    "start_time": "2023-05-26T05:57:13.731Z"
   },
   {
    "duration": 206,
    "start_time": "2023-05-26T05:57:13.743Z"
   },
   {
    "duration": 6,
    "start_time": "2023-05-26T05:57:13.951Z"
   },
   {
    "duration": 32,
    "start_time": "2023-05-26T05:57:13.959Z"
   },
   {
    "duration": 3,
    "start_time": "2023-05-26T05:57:13.993Z"
   },
   {
    "duration": 7,
    "start_time": "2023-05-26T05:57:13.998Z"
   },
   {
    "duration": 122,
    "start_time": "2023-05-26T05:57:14.026Z"
   },
   {
    "duration": 787,
    "start_time": "2023-05-26T05:58:24.583Z"
   },
   {
    "duration": 1256,
    "start_time": "2023-05-26T05:58:34.363Z"
   },
   {
    "duration": 679,
    "start_time": "2023-05-26T05:58:35.622Z"
   },
   {
    "duration": 209,
    "start_time": "2023-05-26T05:58:36.303Z"
   },
   {
    "duration": 696,
    "start_time": "2023-05-26T05:58:36.514Z"
   },
   {
    "duration": 15,
    "start_time": "2023-05-26T05:58:37.213Z"
   },
   {
    "duration": 11,
    "start_time": "2023-05-26T05:58:37.229Z"
   },
   {
    "duration": 18,
    "start_time": "2023-05-26T05:58:37.241Z"
   },
   {
    "duration": 18,
    "start_time": "2023-05-26T05:58:37.261Z"
   },
   {
    "duration": 13,
    "start_time": "2023-05-26T05:58:37.280Z"
   },
   {
    "duration": 45,
    "start_time": "2023-05-26T05:58:37.295Z"
   },
   {
    "duration": 203,
    "start_time": "2023-05-26T05:58:37.342Z"
   },
   {
    "duration": 180,
    "start_time": "2023-05-26T05:58:37.546Z"
   },
   {
    "duration": 170,
    "start_time": "2023-05-26T05:58:37.728Z"
   },
   {
    "duration": 653,
    "start_time": "2023-05-26T05:58:37.901Z"
   },
   {
    "duration": 2215,
    "start_time": "2023-05-26T05:58:38.556Z"
   },
   {
    "duration": 105,
    "start_time": "2023-05-26T05:58:40.773Z"
   },
   {
    "duration": 5,
    "start_time": "2023-05-26T05:58:40.880Z"
   },
   {
    "duration": 13,
    "start_time": "2023-05-26T05:58:40.886Z"
   },
   {
    "duration": 200,
    "start_time": "2023-05-26T05:58:40.901Z"
   },
   {
    "duration": 5,
    "start_time": "2023-05-26T05:58:41.103Z"
   },
   {
    "duration": 124,
    "start_time": "2023-05-26T05:58:41.109Z"
   },
   {
    "duration": 0,
    "start_time": "2023-05-26T05:58:41.235Z"
   },
   {
    "duration": 0,
    "start_time": "2023-05-26T05:58:41.237Z"
   },
   {
    "duration": 0,
    "start_time": "2023-05-26T05:58:41.238Z"
   },
   {
    "duration": 12,
    "start_time": "2023-05-26T05:58:52.849Z"
   },
   {
    "duration": 13,
    "start_time": "2023-05-26T06:01:48.451Z"
   },
   {
    "duration": 1287,
    "start_time": "2023-05-26T06:02:01.951Z"
   },
   {
    "duration": 682,
    "start_time": "2023-05-26T06:02:03.240Z"
   },
   {
    "duration": 221,
    "start_time": "2023-05-26T06:02:03.923Z"
   },
   {
    "duration": 716,
    "start_time": "2023-05-26T06:02:04.145Z"
   },
   {
    "duration": 8,
    "start_time": "2023-05-26T06:02:04.864Z"
   },
   {
    "duration": 11,
    "start_time": "2023-05-26T06:02:04.873Z"
   },
   {
    "duration": 4,
    "start_time": "2023-05-26T06:02:04.886Z"
   },
   {
    "duration": 37,
    "start_time": "2023-05-26T06:02:04.891Z"
   },
   {
    "duration": 9,
    "start_time": "2023-05-26T06:02:04.929Z"
   },
   {
    "duration": 34,
    "start_time": "2023-05-26T06:02:04.940Z"
   },
   {
    "duration": 245,
    "start_time": "2023-05-26T06:02:04.976Z"
   },
   {
    "duration": 186,
    "start_time": "2023-05-26T06:02:05.224Z"
   },
   {
    "duration": 188,
    "start_time": "2023-05-26T06:02:05.411Z"
   },
   {
    "duration": 672,
    "start_time": "2023-05-26T06:02:05.602Z"
   },
   {
    "duration": 2304,
    "start_time": "2023-05-26T06:02:06.275Z"
   },
   {
    "duration": 106,
    "start_time": "2023-05-26T06:02:08.581Z"
   },
   {
    "duration": 6,
    "start_time": "2023-05-26T06:02:08.689Z"
   },
   {
    "duration": 30,
    "start_time": "2023-05-26T06:02:08.698Z"
   },
   {
    "duration": 187,
    "start_time": "2023-05-26T06:02:08.730Z"
   },
   {
    "duration": 10,
    "start_time": "2023-05-26T06:02:08.919Z"
   },
   {
    "duration": 123,
    "start_time": "2023-05-26T06:02:08.931Z"
   },
   {
    "duration": 0,
    "start_time": "2023-05-26T06:02:09.055Z"
   },
   {
    "duration": 0,
    "start_time": "2023-05-26T06:02:09.056Z"
   },
   {
    "duration": 0,
    "start_time": "2023-05-26T06:02:09.058Z"
   },
   {
    "duration": 30,
    "start_time": "2023-05-26T06:03:04.883Z"
   },
   {
    "duration": 8,
    "start_time": "2023-05-26T06:03:36.088Z"
   },
   {
    "duration": 5,
    "start_time": "2023-05-26T06:10:01.432Z"
   },
   {
    "duration": 6,
    "start_time": "2023-05-26T06:10:24.332Z"
   },
   {
    "duration": 6,
    "start_time": "2023-05-26T06:11:37.983Z"
   },
   {
    "duration": 20,
    "start_time": "2023-05-26T06:14:55.571Z"
   },
   {
    "duration": 13,
    "start_time": "2023-05-26T06:15:08.740Z"
   },
   {
    "duration": 37,
    "start_time": "2023-05-26T06:20:30.045Z"
   },
   {
    "duration": 7,
    "start_time": "2023-05-26T06:20:50.615Z"
   },
   {
    "duration": 16,
    "start_time": "2023-05-26T06:22:01.095Z"
   },
   {
    "duration": 1450,
    "start_time": "2023-05-26T06:22:14.326Z"
   },
   {
    "duration": 712,
    "start_time": "2023-05-26T06:22:15.778Z"
   },
   {
    "duration": 219,
    "start_time": "2023-05-26T06:22:16.492Z"
   },
   {
    "duration": 752,
    "start_time": "2023-05-26T06:22:16.712Z"
   },
   {
    "duration": 9,
    "start_time": "2023-05-26T06:22:17.467Z"
   },
   {
    "duration": 11,
    "start_time": "2023-05-26T06:22:17.477Z"
   },
   {
    "duration": 5,
    "start_time": "2023-05-26T06:22:17.490Z"
   },
   {
    "duration": 43,
    "start_time": "2023-05-26T06:22:17.497Z"
   },
   {
    "duration": 11,
    "start_time": "2023-05-26T06:22:17.542Z"
   },
   {
    "duration": 30,
    "start_time": "2023-05-26T06:22:17.554Z"
   },
   {
    "duration": 247,
    "start_time": "2023-05-26T06:22:17.585Z"
   },
   {
    "duration": 194,
    "start_time": "2023-05-26T06:22:17.834Z"
   },
   {
    "duration": 180,
    "start_time": "2023-05-26T06:22:18.030Z"
   },
   {
    "duration": 672,
    "start_time": "2023-05-26T06:22:18.213Z"
   },
   {
    "duration": 2456,
    "start_time": "2023-05-26T06:22:18.887Z"
   },
   {
    "duration": 125,
    "start_time": "2023-05-26T06:22:21.345Z"
   },
   {
    "duration": 7,
    "start_time": "2023-05-26T06:22:21.472Z"
   },
   {
    "duration": 17,
    "start_time": "2023-05-26T06:22:21.481Z"
   },
   {
    "duration": 197,
    "start_time": "2023-05-26T06:22:21.500Z"
   },
   {
    "duration": 5,
    "start_time": "2023-05-26T06:22:21.699Z"
   },
   {
    "duration": 27,
    "start_time": "2023-05-26T06:22:21.706Z"
   },
   {
    "duration": 5,
    "start_time": "2023-05-26T06:22:21.735Z"
   },
   {
    "duration": 14,
    "start_time": "2023-05-26T06:22:21.742Z"
   },
   {
    "duration": 20,
    "start_time": "2023-05-26T06:22:21.758Z"
   },
   {
    "duration": 149,
    "start_time": "2023-05-26T06:26:42.314Z"
   },
   {
    "duration": 1339,
    "start_time": "2023-05-26T06:26:57.060Z"
   },
   {
    "duration": 687,
    "start_time": "2023-05-26T06:26:58.401Z"
   },
   {
    "duration": 208,
    "start_time": "2023-05-26T06:26:59.090Z"
   },
   {
    "duration": 836,
    "start_time": "2023-05-26T06:26:59.300Z"
   },
   {
    "duration": 8,
    "start_time": "2023-05-26T06:27:00.138Z"
   },
   {
    "duration": 37,
    "start_time": "2023-05-26T06:27:00.147Z"
   },
   {
    "duration": 18,
    "start_time": "2023-05-26T06:27:00.187Z"
   },
   {
    "duration": 47,
    "start_time": "2023-05-26T06:27:00.207Z"
   },
   {
    "duration": 11,
    "start_time": "2023-05-26T06:27:00.257Z"
   },
   {
    "duration": 30,
    "start_time": "2023-05-26T06:27:00.271Z"
   },
   {
    "duration": 212,
    "start_time": "2023-05-26T06:27:00.303Z"
   },
   {
    "duration": 192,
    "start_time": "2023-05-26T06:27:00.518Z"
   },
   {
    "duration": 190,
    "start_time": "2023-05-26T06:27:00.712Z"
   },
   {
    "duration": 697,
    "start_time": "2023-05-26T06:27:00.905Z"
   },
   {
    "duration": 2383,
    "start_time": "2023-05-26T06:27:01.604Z"
   },
   {
    "duration": 116,
    "start_time": "2023-05-26T06:27:03.990Z"
   },
   {
    "duration": 5,
    "start_time": "2023-05-26T06:27:04.109Z"
   },
   {
    "duration": 13,
    "start_time": "2023-05-26T06:27:04.126Z"
   },
   {
    "duration": 208,
    "start_time": "2023-05-26T06:27:04.141Z"
   },
   {
    "duration": 5,
    "start_time": "2023-05-26T06:27:04.351Z"
   },
   {
    "duration": 15,
    "start_time": "2023-05-26T06:27:04.358Z"
   },
   {
    "duration": 14,
    "start_time": "2023-05-26T06:27:04.375Z"
   },
   {
    "duration": 6,
    "start_time": "2023-05-26T06:27:04.391Z"
   },
   {
    "duration": 27,
    "start_time": "2023-05-26T06:27:04.399Z"
   },
   {
    "duration": 1306,
    "start_time": "2023-05-26T06:31:38.064Z"
   },
   {
    "duration": 745,
    "start_time": "2023-05-26T06:31:39.372Z"
   },
   {
    "duration": 223,
    "start_time": "2023-05-26T06:31:40.119Z"
   },
   {
    "duration": 732,
    "start_time": "2023-05-26T06:31:40.344Z"
   },
   {
    "duration": 8,
    "start_time": "2023-05-26T06:31:41.078Z"
   },
   {
    "duration": 30,
    "start_time": "2023-05-26T06:31:41.088Z"
   },
   {
    "duration": 25,
    "start_time": "2023-05-26T06:31:41.120Z"
   },
   {
    "duration": 24,
    "start_time": "2023-05-26T06:31:41.146Z"
   },
   {
    "duration": 29,
    "start_time": "2023-05-26T06:31:41.172Z"
   },
   {
    "duration": 192,
    "start_time": "2023-05-26T06:31:41.204Z"
   },
   {
    "duration": 185,
    "start_time": "2023-05-26T06:31:41.398Z"
   },
   {
    "duration": 178,
    "start_time": "2023-05-26T06:31:41.585Z"
   },
   {
    "duration": 717,
    "start_time": "2023-05-26T06:31:41.765Z"
   },
   {
    "duration": 2191,
    "start_time": "2023-05-26T06:31:42.484Z"
   },
   {
    "duration": 108,
    "start_time": "2023-05-26T06:31:44.677Z"
   },
   {
    "duration": 5,
    "start_time": "2023-05-26T06:31:44.787Z"
   },
   {
    "duration": 12,
    "start_time": "2023-05-26T06:31:44.794Z"
   },
   {
    "duration": 203,
    "start_time": "2023-05-26T06:31:44.808Z"
   },
   {
    "duration": 14,
    "start_time": "2023-05-26T06:31:45.013Z"
   },
   {
    "duration": 25,
    "start_time": "2023-05-26T06:31:45.029Z"
   },
   {
    "duration": 11,
    "start_time": "2023-05-26T06:31:45.056Z"
   },
   {
    "duration": 26,
    "start_time": "2023-05-26T06:31:45.069Z"
   },
   {
    "duration": 20,
    "start_time": "2023-05-26T06:31:45.096Z"
   },
   {
    "duration": 119,
    "start_time": "2023-05-26T06:32:42.663Z"
   },
   {
    "duration": 1509,
    "start_time": "2023-05-26T06:32:48.747Z"
   },
   {
    "duration": 702,
    "start_time": "2023-05-26T06:32:50.257Z"
   },
   {
    "duration": 222,
    "start_time": "2023-05-26T06:32:50.960Z"
   },
   {
    "duration": 764,
    "start_time": "2023-05-26T06:32:51.183Z"
   },
   {
    "duration": 10,
    "start_time": "2023-05-26T06:32:51.950Z"
   },
   {
    "duration": 36,
    "start_time": "2023-05-26T06:32:51.963Z"
   },
   {
    "duration": 20,
    "start_time": "2023-05-26T06:32:52.001Z"
   },
   {
    "duration": 21,
    "start_time": "2023-05-26T06:32:52.023Z"
   },
   {
    "duration": 45,
    "start_time": "2023-05-26T06:32:52.046Z"
   },
   {
    "duration": 202,
    "start_time": "2023-05-26T06:32:52.093Z"
   },
   {
    "duration": 199,
    "start_time": "2023-05-26T06:32:52.298Z"
   },
   {
    "duration": 204,
    "start_time": "2023-05-26T06:32:52.499Z"
   },
   {
    "duration": 740,
    "start_time": "2023-05-26T06:32:52.705Z"
   },
   {
    "duration": 2369,
    "start_time": "2023-05-26T06:32:53.448Z"
   },
   {
    "duration": 147,
    "start_time": "2023-05-26T06:32:55.819Z"
   },
   {
    "duration": 6,
    "start_time": "2023-05-26T06:32:55.968Z"
   },
   {
    "duration": 74,
    "start_time": "2023-05-26T06:32:55.976Z"
   },
   {
    "duration": 239,
    "start_time": "2023-05-26T06:32:56.053Z"
   },
   {
    "duration": 4,
    "start_time": "2023-05-26T06:32:56.294Z"
   },
   {
    "duration": 38,
    "start_time": "2023-05-26T06:32:56.300Z"
   },
   {
    "duration": 4,
    "start_time": "2023-05-26T06:32:56.341Z"
   },
   {
    "duration": 11,
    "start_time": "2023-05-26T06:32:56.347Z"
   },
   {
    "duration": 11,
    "start_time": "2023-05-26T06:32:56.360Z"
   },
   {
    "duration": 160,
    "start_time": "2023-05-26T06:33:45.492Z"
   },
   {
    "duration": 1414,
    "start_time": "2023-05-26T06:33:53.438Z"
   },
   {
    "duration": 751,
    "start_time": "2023-05-26T06:33:54.854Z"
   },
   {
    "duration": 265,
    "start_time": "2023-05-26T06:33:55.607Z"
   },
   {
    "duration": 858,
    "start_time": "2023-05-26T06:33:55.875Z"
   },
   {
    "duration": 11,
    "start_time": "2023-05-26T06:33:56.739Z"
   },
   {
    "duration": 11,
    "start_time": "2023-05-26T06:33:56.752Z"
   },
   {
    "duration": 18,
    "start_time": "2023-05-26T06:33:56.765Z"
   },
   {
    "duration": 9,
    "start_time": "2023-05-26T06:33:56.784Z"
   },
   {
    "duration": 67,
    "start_time": "2023-05-26T06:33:56.794Z"
   },
   {
    "duration": 250,
    "start_time": "2023-05-26T06:33:56.865Z"
   },
   {
    "duration": 238,
    "start_time": "2023-05-26T06:33:57.117Z"
   },
   {
    "duration": 230,
    "start_time": "2023-05-26T06:33:57.358Z"
   },
   {
    "duration": 722,
    "start_time": "2023-05-26T06:33:57.590Z"
   },
   {
    "duration": 2545,
    "start_time": "2023-05-26T06:33:58.316Z"
   },
   {
    "duration": 127,
    "start_time": "2023-05-26T06:34:00.863Z"
   },
   {
    "duration": 97,
    "start_time": "2023-05-26T06:34:00.992Z"
   },
   {
    "duration": 35,
    "start_time": "2023-05-26T06:34:01.091Z"
   },
   {
    "duration": 225,
    "start_time": "2023-05-26T06:34:01.130Z"
   },
   {
    "duration": 5,
    "start_time": "2023-05-26T06:34:01.357Z"
   },
   {
    "duration": 45,
    "start_time": "2023-05-26T06:34:01.364Z"
   },
   {
    "duration": 23,
    "start_time": "2023-05-26T06:34:01.411Z"
   },
   {
    "duration": 34,
    "start_time": "2023-05-26T06:34:01.437Z"
   },
   {
    "duration": 33,
    "start_time": "2023-05-26T06:34:01.474Z"
   },
   {
    "duration": 1511,
    "start_time": "2023-05-26T06:34:36.555Z"
   },
   {
    "duration": 823,
    "start_time": "2023-05-26T06:34:38.069Z"
   },
   {
    "duration": 319,
    "start_time": "2023-05-26T06:34:38.894Z"
   },
   {
    "duration": 967,
    "start_time": "2023-05-26T06:34:39.224Z"
   },
   {
    "duration": 9,
    "start_time": "2023-05-26T06:34:40.194Z"
   },
   {
    "duration": 45,
    "start_time": "2023-05-26T06:34:40.205Z"
   },
   {
    "duration": 22,
    "start_time": "2023-05-26T06:34:40.251Z"
   },
   {
    "duration": 18,
    "start_time": "2023-05-26T06:34:40.275Z"
   },
   {
    "duration": 26,
    "start_time": "2023-05-26T06:34:40.295Z"
   },
   {
    "duration": 226,
    "start_time": "2023-05-26T06:34:40.326Z"
   },
   {
    "duration": 248,
    "start_time": "2023-05-26T06:34:40.554Z"
   },
   {
    "duration": 311,
    "start_time": "2023-05-26T06:34:40.805Z"
   },
   {
    "duration": 825,
    "start_time": "2023-05-26T06:34:41.118Z"
   },
   {
    "duration": 2998,
    "start_time": "2023-05-26T06:34:41.947Z"
   },
   {
    "duration": 122,
    "start_time": "2023-05-26T06:34:44.947Z"
   },
   {
    "duration": 7,
    "start_time": "2023-05-26T06:34:45.071Z"
   },
   {
    "duration": 14,
    "start_time": "2023-05-26T06:34:45.080Z"
   },
   {
    "duration": 259,
    "start_time": "2023-05-26T06:34:45.095Z"
   },
   {
    "duration": 6,
    "start_time": "2023-05-26T06:34:45.356Z"
   },
   {
    "duration": 14,
    "start_time": "2023-05-26T06:34:45.364Z"
   },
   {
    "duration": 5,
    "start_time": "2023-05-26T06:34:45.379Z"
   },
   {
    "duration": 6,
    "start_time": "2023-05-26T06:34:45.386Z"
   },
   {
    "duration": 43,
    "start_time": "2023-05-26T06:34:45.394Z"
   },
   {
    "duration": 6,
    "start_time": "2023-05-26T06:41:30.351Z"
   },
   {
    "duration": 1330,
    "start_time": "2023-05-26T06:41:51.647Z"
   },
   {
    "duration": 719,
    "start_time": "2023-05-26T06:41:52.979Z"
   },
   {
    "duration": 217,
    "start_time": "2023-05-26T06:41:53.699Z"
   },
   {
    "duration": 763,
    "start_time": "2023-05-26T06:41:53.918Z"
   },
   {
    "duration": 9,
    "start_time": "2023-05-26T06:41:54.684Z"
   },
   {
    "duration": 11,
    "start_time": "2023-05-26T06:41:54.694Z"
   },
   {
    "duration": 24,
    "start_time": "2023-05-26T06:41:54.725Z"
   },
   {
    "duration": 8,
    "start_time": "2023-05-26T06:41:54.751Z"
   },
   {
    "duration": 25,
    "start_time": "2023-05-26T06:41:54.761Z"
   },
   {
    "duration": 231,
    "start_time": "2023-05-26T06:41:54.788Z"
   },
   {
    "duration": 187,
    "start_time": "2023-05-26T06:41:55.025Z"
   },
   {
    "duration": 192,
    "start_time": "2023-05-26T06:41:55.214Z"
   },
   {
    "duration": 708,
    "start_time": "2023-05-26T06:41:55.408Z"
   },
   {
    "duration": 2283,
    "start_time": "2023-05-26T06:41:56.124Z"
   },
   {
    "duration": 112,
    "start_time": "2023-05-26T06:41:58.408Z"
   },
   {
    "duration": 13,
    "start_time": "2023-05-26T06:41:58.524Z"
   },
   {
    "duration": 14,
    "start_time": "2023-05-26T06:41:58.542Z"
   },
   {
    "duration": 204,
    "start_time": "2023-05-26T06:41:58.558Z"
   },
   {
    "duration": 5,
    "start_time": "2023-05-26T06:41:58.763Z"
   },
   {
    "duration": 19,
    "start_time": "2023-05-26T06:41:58.769Z"
   },
   {
    "duration": 7,
    "start_time": "2023-05-26T06:41:58.789Z"
   },
   {
    "duration": 7,
    "start_time": "2023-05-26T06:41:58.798Z"
   },
   {
    "duration": 10,
    "start_time": "2023-05-26T06:41:58.807Z"
   },
   {
    "duration": 29,
    "start_time": "2023-05-26T06:41:58.818Z"
   },
   {
    "duration": 16,
    "start_time": "2023-05-26T06:44:14.024Z"
   },
   {
    "duration": 7,
    "start_time": "2023-05-26T06:50:13.708Z"
   },
   {
    "duration": 1229,
    "start_time": "2023-05-26T08:51:47.688Z"
   },
   {
    "duration": 634,
    "start_time": "2023-05-26T08:51:48.919Z"
   },
   {
    "duration": 260,
    "start_time": "2023-05-26T08:51:49.555Z"
   },
   {
    "duration": 671,
    "start_time": "2023-05-26T08:51:49.816Z"
   },
   {
    "duration": 9,
    "start_time": "2023-05-26T08:51:50.490Z"
   },
   {
    "duration": 26,
    "start_time": "2023-05-26T08:51:50.501Z"
   },
   {
    "duration": 16,
    "start_time": "2023-05-26T08:51:50.529Z"
   },
   {
    "duration": 8,
    "start_time": "2023-05-26T08:51:50.547Z"
   },
   {
    "duration": 30,
    "start_time": "2023-05-26T08:51:50.556Z"
   },
   {
    "duration": 210,
    "start_time": "2023-05-26T08:51:50.588Z"
   },
   {
    "duration": 175,
    "start_time": "2023-05-26T08:51:50.800Z"
   },
   {
    "duration": 171,
    "start_time": "2023-05-26T08:51:50.977Z"
   },
   {
    "duration": 586,
    "start_time": "2023-05-26T08:51:51.150Z"
   },
   {
    "duration": 2292,
    "start_time": "2023-05-26T08:51:51.739Z"
   },
   {
    "duration": 107,
    "start_time": "2023-05-26T08:51:54.033Z"
   },
   {
    "duration": 4,
    "start_time": "2023-05-26T08:51:54.142Z"
   },
   {
    "duration": 12,
    "start_time": "2023-05-26T08:51:54.148Z"
   },
   {
    "duration": 189,
    "start_time": "2023-05-26T08:51:54.161Z"
   },
   {
    "duration": 5,
    "start_time": "2023-05-26T08:51:54.351Z"
   },
   {
    "duration": 12,
    "start_time": "2023-05-26T08:51:54.358Z"
   },
   {
    "duration": 12,
    "start_time": "2023-05-26T08:51:54.371Z"
   },
   {
    "duration": 6,
    "start_time": "2023-05-26T08:51:54.385Z"
   },
   {
    "duration": 13,
    "start_time": "2023-05-26T08:51:54.392Z"
   },
   {
    "duration": 22,
    "start_time": "2023-05-26T08:51:54.407Z"
   },
   {
    "duration": 3,
    "start_time": "2023-05-26T09:19:46.842Z"
   },
   {
    "duration": 105,
    "start_time": "2023-05-26T09:21:48.080Z"
   },
   {
    "duration": 1363,
    "start_time": "2023-05-26T09:22:14.500Z"
   },
   {
    "duration": 656,
    "start_time": "2023-05-26T09:22:15.865Z"
   },
   {
    "duration": 208,
    "start_time": "2023-05-26T09:22:16.525Z"
   },
   {
    "duration": 718,
    "start_time": "2023-05-26T09:22:16.735Z"
   },
   {
    "duration": 8,
    "start_time": "2023-05-26T09:22:17.455Z"
   },
   {
    "duration": 16,
    "start_time": "2023-05-26T09:22:17.464Z"
   },
   {
    "duration": 18,
    "start_time": "2023-05-26T09:22:17.482Z"
   },
   {
    "duration": 25,
    "start_time": "2023-05-26T09:22:17.502Z"
   },
   {
    "duration": 27,
    "start_time": "2023-05-26T09:22:17.529Z"
   },
   {
    "duration": 201,
    "start_time": "2023-05-26T09:22:17.559Z"
   },
   {
    "duration": 205,
    "start_time": "2023-05-26T09:22:17.761Z"
   },
   {
    "duration": 194,
    "start_time": "2023-05-26T09:22:17.968Z"
   },
   {
    "duration": 607,
    "start_time": "2023-05-26T09:22:18.163Z"
   },
   {
    "duration": 2212,
    "start_time": "2023-05-26T09:22:18.771Z"
   },
   {
    "duration": 111,
    "start_time": "2023-05-26T09:22:20.984Z"
   },
   {
    "duration": 6,
    "start_time": "2023-05-26T09:22:21.097Z"
   },
   {
    "duration": 22,
    "start_time": "2023-05-26T09:22:21.104Z"
   },
   {
    "duration": 183,
    "start_time": "2023-05-26T09:22:21.127Z"
   },
   {
    "duration": 16,
    "start_time": "2023-05-26T09:22:21.312Z"
   },
   {
    "duration": 17,
    "start_time": "2023-05-26T09:22:21.330Z"
   },
   {
    "duration": 15,
    "start_time": "2023-05-26T09:22:21.348Z"
   },
   {
    "duration": 7,
    "start_time": "2023-05-26T09:22:21.365Z"
   },
   {
    "duration": 17,
    "start_time": "2023-05-26T09:22:21.373Z"
   },
   {
    "duration": 18,
    "start_time": "2023-05-26T09:22:21.392Z"
   },
   {
    "duration": 8,
    "start_time": "2023-05-26T09:22:21.412Z"
   },
   {
    "duration": 107,
    "start_time": "2023-05-26T09:22:21.422Z"
   },
   {
    "duration": 1322,
    "start_time": "2023-05-26T09:22:55.522Z"
   },
   {
    "duration": 700,
    "start_time": "2023-05-26T09:22:56.846Z"
   },
   {
    "duration": 211,
    "start_time": "2023-05-26T09:22:57.548Z"
   },
   {
    "duration": 725,
    "start_time": "2023-05-26T09:22:57.762Z"
   },
   {
    "duration": 9,
    "start_time": "2023-05-26T09:22:58.488Z"
   },
   {
    "duration": 28,
    "start_time": "2023-05-26T09:22:58.498Z"
   },
   {
    "duration": 17,
    "start_time": "2023-05-26T09:22:58.527Z"
   },
   {
    "duration": 19,
    "start_time": "2023-05-26T09:22:58.545Z"
   },
   {
    "duration": 40,
    "start_time": "2023-05-26T09:22:58.566Z"
   },
   {
    "duration": 196,
    "start_time": "2023-05-26T09:22:58.609Z"
   },
   {
    "duration": 185,
    "start_time": "2023-05-26T09:22:58.806Z"
   },
   {
    "duration": 186,
    "start_time": "2023-05-26T09:22:58.993Z"
   },
   {
    "duration": 750,
    "start_time": "2023-05-26T09:22:59.181Z"
   },
   {
    "duration": 2234,
    "start_time": "2023-05-26T09:22:59.933Z"
   },
   {
    "duration": 109,
    "start_time": "2023-05-26T09:23:02.169Z"
   },
   {
    "duration": 5,
    "start_time": "2023-05-26T09:23:02.280Z"
   },
   {
    "duration": 34,
    "start_time": "2023-05-26T09:23:02.287Z"
   },
   {
    "duration": 195,
    "start_time": "2023-05-26T09:23:02.324Z"
   },
   {
    "duration": 5,
    "start_time": "2023-05-26T09:23:02.527Z"
   },
   {
    "duration": 35,
    "start_time": "2023-05-26T09:23:02.534Z"
   },
   {
    "duration": 26,
    "start_time": "2023-05-26T09:23:02.571Z"
   },
   {
    "duration": 40,
    "start_time": "2023-05-26T09:23:02.599Z"
   },
   {
    "duration": 56,
    "start_time": "2023-05-26T09:23:02.641Z"
   },
   {
    "duration": 15,
    "start_time": "2023-05-26T09:23:02.698Z"
   },
   {
    "duration": 35,
    "start_time": "2023-05-26T09:23:02.714Z"
   },
   {
    "duration": 158,
    "start_time": "2023-05-26T09:23:02.750Z"
   },
   {
    "duration": 54,
    "start_time": "2023-05-26T09:23:22.618Z"
   },
   {
    "duration": 1510,
    "start_time": "2023-05-26T09:23:29.352Z"
   },
   {
    "duration": 669,
    "start_time": "2023-05-26T09:23:30.864Z"
   },
   {
    "duration": 243,
    "start_time": "2023-05-26T09:23:31.535Z"
   },
   {
    "duration": 753,
    "start_time": "2023-05-26T09:23:31.780Z"
   },
   {
    "duration": 9,
    "start_time": "2023-05-26T09:23:32.535Z"
   },
   {
    "duration": 38,
    "start_time": "2023-05-26T09:23:32.546Z"
   },
   {
    "duration": 27,
    "start_time": "2023-05-26T09:23:32.587Z"
   },
   {
    "duration": 16,
    "start_time": "2023-05-26T09:23:32.616Z"
   },
   {
    "duration": 32,
    "start_time": "2023-05-26T09:23:32.633Z"
   },
   {
    "duration": 215,
    "start_time": "2023-05-26T09:23:32.668Z"
   },
   {
    "duration": 191,
    "start_time": "2023-05-26T09:23:32.884Z"
   },
   {
    "duration": 187,
    "start_time": "2023-05-26T09:23:33.077Z"
   },
   {
    "duration": 784,
    "start_time": "2023-05-26T09:23:33.266Z"
   },
   {
    "duration": 2227,
    "start_time": "2023-05-26T09:23:34.052Z"
   },
   {
    "duration": 104,
    "start_time": "2023-05-26T09:23:36.281Z"
   },
   {
    "duration": 5,
    "start_time": "2023-05-26T09:23:36.388Z"
   },
   {
    "duration": 26,
    "start_time": "2023-05-26T09:23:36.395Z"
   },
   {
    "duration": 106,
    "start_time": "2023-05-26T09:23:36.423Z"
   },
   {
    "duration": 6,
    "start_time": "2023-05-26T09:23:36.531Z"
   },
   {
    "duration": 23,
    "start_time": "2023-05-26T09:23:36.538Z"
   },
   {
    "duration": 8,
    "start_time": "2023-05-26T09:23:36.562Z"
   },
   {
    "duration": 16,
    "start_time": "2023-05-26T09:23:36.571Z"
   },
   {
    "duration": 17,
    "start_time": "2023-05-26T09:23:36.588Z"
   },
   {
    "duration": 24,
    "start_time": "2023-05-26T09:23:36.607Z"
   },
   {
    "duration": 22,
    "start_time": "2023-05-26T09:23:36.632Z"
   },
   {
    "duration": 26,
    "start_time": "2023-05-26T09:23:36.656Z"
   },
   {
    "duration": 112,
    "start_time": "2023-05-26T10:08:52.047Z"
   },
   {
    "duration": 1319,
    "start_time": "2023-05-26T10:09:03.741Z"
   },
   {
    "duration": 637,
    "start_time": "2023-05-26T10:09:05.062Z"
   },
   {
    "duration": 226,
    "start_time": "2023-05-26T10:09:05.701Z"
   },
   {
    "duration": 695,
    "start_time": "2023-05-26T10:09:05.930Z"
   },
   {
    "duration": 7,
    "start_time": "2023-05-26T10:09:06.627Z"
   },
   {
    "duration": 38,
    "start_time": "2023-05-26T10:09:06.635Z"
   },
   {
    "duration": 82,
    "start_time": "2023-05-26T10:09:06.675Z"
   },
   {
    "duration": 20,
    "start_time": "2023-05-26T10:09:06.759Z"
   },
   {
    "duration": 44,
    "start_time": "2023-05-26T10:09:06.780Z"
   },
   {
    "duration": 208,
    "start_time": "2023-05-26T10:09:06.828Z"
   },
   {
    "duration": 193,
    "start_time": "2023-05-26T10:09:07.038Z"
   },
   {
    "duration": 183,
    "start_time": "2023-05-26T10:09:07.233Z"
   },
   {
    "duration": 713,
    "start_time": "2023-05-26T10:09:07.417Z"
   },
   {
    "duration": 2199,
    "start_time": "2023-05-26T10:09:08.132Z"
   },
   {
    "duration": 107,
    "start_time": "2023-05-26T10:09:10.332Z"
   },
   {
    "duration": 5,
    "start_time": "2023-05-26T10:09:10.440Z"
   },
   {
    "duration": 32,
    "start_time": "2023-05-26T10:09:10.447Z"
   },
   {
    "duration": 144,
    "start_time": "2023-05-26T10:09:10.481Z"
   },
   {
    "duration": 5,
    "start_time": "2023-05-26T10:09:10.627Z"
   },
   {
    "duration": 41,
    "start_time": "2023-05-26T10:09:10.633Z"
   },
   {
    "duration": 18,
    "start_time": "2023-05-26T10:09:10.676Z"
   },
   {
    "duration": 21,
    "start_time": "2023-05-26T10:09:10.695Z"
   },
   {
    "duration": 17,
    "start_time": "2023-05-26T10:09:10.718Z"
   },
   {
    "duration": 23,
    "start_time": "2023-05-26T10:09:10.737Z"
   },
   {
    "duration": 19,
    "start_time": "2023-05-26T10:09:10.762Z"
   },
   {
    "duration": 21,
    "start_time": "2023-05-26T10:09:10.783Z"
   },
   {
    "duration": 129,
    "start_time": "2023-05-26T10:09:10.806Z"
   },
   {
    "duration": 1312,
    "start_time": "2023-05-26T10:13:02.592Z"
   },
   {
    "duration": 607,
    "start_time": "2023-05-26T10:13:03.906Z"
   },
   {
    "duration": 188,
    "start_time": "2023-05-26T10:13:04.515Z"
   },
   {
    "duration": 666,
    "start_time": "2023-05-26T10:13:04.705Z"
   },
   {
    "duration": 8,
    "start_time": "2023-05-26T10:13:05.373Z"
   },
   {
    "duration": 10,
    "start_time": "2023-05-26T10:13:05.382Z"
   },
   {
    "duration": 32,
    "start_time": "2023-05-26T10:13:05.393Z"
   },
   {
    "duration": 8,
    "start_time": "2023-05-26T10:13:05.427Z"
   },
   {
    "duration": 23,
    "start_time": "2023-05-26T10:13:05.437Z"
   },
   {
    "duration": 254,
    "start_time": "2023-05-26T10:13:05.464Z"
   },
   {
    "duration": 168,
    "start_time": "2023-05-26T10:13:05.724Z"
   },
   {
    "duration": 159,
    "start_time": "2023-05-26T10:13:05.893Z"
   },
   {
    "duration": 642,
    "start_time": "2023-05-26T10:13:06.054Z"
   },
   {
    "duration": 2017,
    "start_time": "2023-05-26T10:13:06.698Z"
   },
   {
    "duration": 93,
    "start_time": "2023-05-26T10:13:08.716Z"
   },
   {
    "duration": 4,
    "start_time": "2023-05-26T10:13:08.811Z"
   },
   {
    "duration": 8,
    "start_time": "2023-05-26T10:13:08.825Z"
   },
   {
    "duration": 108,
    "start_time": "2023-05-26T10:13:08.835Z"
   },
   {
    "duration": 4,
    "start_time": "2023-05-26T10:13:08.945Z"
   },
   {
    "duration": 27,
    "start_time": "2023-05-26T10:13:08.950Z"
   },
   {
    "duration": 4,
    "start_time": "2023-05-26T10:13:08.978Z"
   },
   {
    "duration": 18,
    "start_time": "2023-05-26T10:13:08.983Z"
   },
   {
    "duration": 30,
    "start_time": "2023-05-26T10:13:09.003Z"
   },
   {
    "duration": 8,
    "start_time": "2023-05-26T10:13:09.035Z"
   },
   {
    "duration": 10,
    "start_time": "2023-05-26T10:13:09.045Z"
   },
   {
    "duration": 18,
    "start_time": "2023-05-26T10:13:09.056Z"
   },
   {
    "duration": 20,
    "start_time": "2023-05-26T10:13:09.076Z"
   },
   {
    "duration": 3,
    "start_time": "2023-05-26T10:14:23.337Z"
   },
   {
    "duration": 292,
    "start_time": "2023-05-26T10:21:02.665Z"
   },
   {
    "duration": 1248,
    "start_time": "2023-05-26T10:22:57.028Z"
   },
   {
    "duration": 598,
    "start_time": "2023-05-26T10:22:58.277Z"
   },
   {
    "duration": 196,
    "start_time": "2023-05-26T10:22:58.876Z"
   },
   {
    "duration": 716,
    "start_time": "2023-05-26T10:22:59.074Z"
   },
   {
    "duration": 10,
    "start_time": "2023-05-26T10:22:59.792Z"
   },
   {
    "duration": 23,
    "start_time": "2023-05-26T10:22:59.804Z"
   },
   {
    "duration": 15,
    "start_time": "2023-05-26T10:22:59.828Z"
   },
   {
    "duration": 7,
    "start_time": "2023-05-26T10:22:59.845Z"
   },
   {
    "duration": 24,
    "start_time": "2023-05-26T10:22:59.853Z"
   },
   {
    "duration": 200,
    "start_time": "2023-05-26T10:22:59.879Z"
   },
   {
    "duration": 163,
    "start_time": "2023-05-26T10:23:00.080Z"
   },
   {
    "duration": 158,
    "start_time": "2023-05-26T10:23:00.244Z"
   },
   {
    "duration": 603,
    "start_time": "2023-05-26T10:23:00.404Z"
   },
   {
    "duration": 2098,
    "start_time": "2023-05-26T10:23:01.008Z"
   },
   {
    "duration": 92,
    "start_time": "2023-05-26T10:23:03.108Z"
   },
   {
    "duration": 4,
    "start_time": "2023-05-26T10:23:03.202Z"
   },
   {
    "duration": 20,
    "start_time": "2023-05-26T10:23:03.208Z"
   },
   {
    "duration": 101,
    "start_time": "2023-05-26T10:23:03.229Z"
   },
   {
    "duration": 5,
    "start_time": "2023-05-26T10:23:03.332Z"
   },
   {
    "duration": 16,
    "start_time": "2023-05-26T10:23:03.338Z"
   },
   {
    "duration": 2,
    "start_time": "2023-05-26T10:23:03.356Z"
   },
   {
    "duration": 16,
    "start_time": "2023-05-26T10:23:03.360Z"
   },
   {
    "duration": 13,
    "start_time": "2023-05-26T10:23:03.377Z"
   },
   {
    "duration": 13,
    "start_time": "2023-05-26T10:23:03.392Z"
   },
   {
    "duration": 8,
    "start_time": "2023-05-26T10:23:03.407Z"
   },
   {
    "duration": 11,
    "start_time": "2023-05-26T10:23:03.416Z"
   },
   {
    "duration": 275,
    "start_time": "2023-05-26T10:23:03.429Z"
   },
   {
    "duration": 1358,
    "start_time": "2023-05-26T10:25:07.107Z"
   },
   {
    "duration": 660,
    "start_time": "2023-05-26T10:25:08.467Z"
   },
   {
    "duration": 234,
    "start_time": "2023-05-26T10:25:09.133Z"
   },
   {
    "duration": 837,
    "start_time": "2023-05-26T10:25:09.368Z"
   },
   {
    "duration": 7,
    "start_time": "2023-05-26T10:25:10.207Z"
   },
   {
    "duration": 29,
    "start_time": "2023-05-26T10:25:10.226Z"
   },
   {
    "duration": 26,
    "start_time": "2023-05-26T10:25:10.256Z"
   },
   {
    "duration": 20,
    "start_time": "2023-05-26T10:25:10.284Z"
   },
   {
    "duration": 35,
    "start_time": "2023-05-26T10:25:10.305Z"
   },
   {
    "duration": 180,
    "start_time": "2023-05-26T10:25:10.341Z"
   },
   {
    "duration": 187,
    "start_time": "2023-05-26T10:25:10.526Z"
   },
   {
    "duration": 199,
    "start_time": "2023-05-26T10:25:10.715Z"
   },
   {
    "duration": 709,
    "start_time": "2023-05-26T10:25:10.916Z"
   },
   {
    "duration": 2154,
    "start_time": "2023-05-26T10:25:11.629Z"
   },
   {
    "duration": 101,
    "start_time": "2023-05-26T10:25:13.784Z"
   },
   {
    "duration": 6,
    "start_time": "2023-05-26T10:25:13.887Z"
   },
   {
    "duration": 34,
    "start_time": "2023-05-26T10:25:13.895Z"
   },
   {
    "duration": 113,
    "start_time": "2023-05-26T10:25:13.931Z"
   },
   {
    "duration": 5,
    "start_time": "2023-05-26T10:25:14.046Z"
   },
   {
    "duration": 47,
    "start_time": "2023-05-26T10:25:14.053Z"
   },
   {
    "duration": 26,
    "start_time": "2023-05-26T10:25:14.102Z"
   },
   {
    "duration": 23,
    "start_time": "2023-05-26T10:25:14.130Z"
   },
   {
    "duration": 41,
    "start_time": "2023-05-26T10:25:14.155Z"
   },
   {
    "duration": 15,
    "start_time": "2023-05-26T10:25:14.198Z"
   },
   {
    "duration": 22,
    "start_time": "2023-05-26T10:25:14.215Z"
   },
   {
    "duration": 19,
    "start_time": "2023-05-26T10:25:14.239Z"
   },
   {
    "duration": 320,
    "start_time": "2023-05-26T10:25:14.260Z"
   },
   {
    "duration": 1365,
    "start_time": "2023-05-26T10:30:23.226Z"
   },
   {
    "duration": 654,
    "start_time": "2023-05-26T10:30:24.594Z"
   },
   {
    "duration": 213,
    "start_time": "2023-05-26T10:30:25.250Z"
   },
   {
    "duration": 687,
    "start_time": "2023-05-26T10:30:25.464Z"
   },
   {
    "duration": 7,
    "start_time": "2023-05-26T10:30:26.153Z"
   },
   {
    "duration": 10,
    "start_time": "2023-05-26T10:30:26.162Z"
   },
   {
    "duration": 16,
    "start_time": "2023-05-26T10:30:26.173Z"
   },
   {
    "duration": 35,
    "start_time": "2023-05-26T10:30:26.191Z"
   },
   {
    "duration": 25,
    "start_time": "2023-05-26T10:30:26.228Z"
   },
   {
    "duration": 194,
    "start_time": "2023-05-26T10:30:26.257Z"
   },
   {
    "duration": 164,
    "start_time": "2023-05-26T10:30:26.453Z"
   },
   {
    "duration": 163,
    "start_time": "2023-05-26T10:30:26.619Z"
   },
   {
    "duration": 634,
    "start_time": "2023-05-26T10:30:26.784Z"
   },
   {
    "duration": 2030,
    "start_time": "2023-05-26T10:30:27.420Z"
   },
   {
    "duration": 97,
    "start_time": "2023-05-26T10:30:29.453Z"
   },
   {
    "duration": 4,
    "start_time": "2023-05-26T10:30:29.552Z"
   },
   {
    "duration": 18,
    "start_time": "2023-05-26T10:30:29.558Z"
   },
   {
    "duration": 130,
    "start_time": "2023-05-26T10:30:29.578Z"
   },
   {
    "duration": 17,
    "start_time": "2023-05-26T10:30:29.710Z"
   },
   {
    "duration": 18,
    "start_time": "2023-05-26T10:30:29.729Z"
   },
   {
    "duration": 12,
    "start_time": "2023-05-26T10:30:29.749Z"
   },
   {
    "duration": 9,
    "start_time": "2023-05-26T10:30:29.763Z"
   },
   {
    "duration": 21,
    "start_time": "2023-05-26T10:30:29.774Z"
   },
   {
    "duration": 79,
    "start_time": "2023-05-26T10:30:29.796Z"
   },
   {
    "duration": 3,
    "start_time": "2023-05-26T10:30:29.877Z"
   },
   {
    "duration": 11,
    "start_time": "2023-05-26T10:30:29.881Z"
   },
   {
    "duration": 232,
    "start_time": "2023-05-26T10:30:29.894Z"
   },
   {
    "duration": 104,
    "start_time": "2023-05-26T10:31:13.454Z"
   },
   {
    "duration": 1353,
    "start_time": "2023-05-26T10:50:57.270Z"
   },
   {
    "duration": 702,
    "start_time": "2023-05-26T10:50:58.626Z"
   },
   {
    "duration": 221,
    "start_time": "2023-05-26T10:50:59.331Z"
   },
   {
    "duration": 829,
    "start_time": "2023-05-26T10:50:59.555Z"
   },
   {
    "duration": 9,
    "start_time": "2023-05-26T10:51:00.386Z"
   },
   {
    "duration": 30,
    "start_time": "2023-05-26T10:51:00.396Z"
   },
   {
    "duration": 23,
    "start_time": "2023-05-26T10:51:00.428Z"
   },
   {
    "duration": 22,
    "start_time": "2023-05-26T10:51:00.453Z"
   },
   {
    "duration": 29,
    "start_time": "2023-05-26T10:51:00.476Z"
   },
   {
    "duration": 228,
    "start_time": "2023-05-26T10:51:00.508Z"
   },
   {
    "duration": 199,
    "start_time": "2023-05-26T10:51:00.737Z"
   },
   {
    "duration": 184,
    "start_time": "2023-05-26T10:51:00.937Z"
   },
   {
    "duration": 807,
    "start_time": "2023-05-26T10:51:01.126Z"
   },
   {
    "duration": 2215,
    "start_time": "2023-05-26T10:51:01.936Z"
   },
   {
    "duration": 113,
    "start_time": "2023-05-26T10:51:04.153Z"
   },
   {
    "duration": 5,
    "start_time": "2023-05-26T10:51:04.268Z"
   },
   {
    "duration": 14,
    "start_time": "2023-05-26T10:51:04.275Z"
   },
   {
    "duration": 127,
    "start_time": "2023-05-26T10:51:04.291Z"
   },
   {
    "duration": 5,
    "start_time": "2023-05-26T10:51:04.424Z"
   },
   {
    "duration": 24,
    "start_time": "2023-05-26T10:51:04.431Z"
   },
   {
    "duration": 12,
    "start_time": "2023-05-26T10:51:04.457Z"
   },
   {
    "duration": 21,
    "start_time": "2023-05-26T10:51:04.471Z"
   },
   {
    "duration": 16,
    "start_time": "2023-05-26T10:51:04.493Z"
   },
   {
    "duration": 67,
    "start_time": "2023-05-26T10:51:04.511Z"
   },
   {
    "duration": 3,
    "start_time": "2023-05-26T10:51:04.580Z"
   },
   {
    "duration": 20,
    "start_time": "2023-05-26T10:51:04.585Z"
   },
   {
    "duration": 309,
    "start_time": "2023-05-26T10:51:04.607Z"
   },
   {
    "duration": 121,
    "start_time": "2023-05-26T10:55:35.620Z"
   },
   {
    "duration": 1395,
    "start_time": "2023-05-26T11:01:23.044Z"
   },
   {
    "duration": 713,
    "start_time": "2023-05-26T11:01:24.441Z"
   },
   {
    "duration": 214,
    "start_time": "2023-05-26T11:01:25.155Z"
   },
   {
    "duration": 766,
    "start_time": "2023-05-26T11:01:25.371Z"
   },
   {
    "duration": 9,
    "start_time": "2023-05-26T11:01:26.138Z"
   },
   {
    "duration": 12,
    "start_time": "2023-05-26T11:01:26.149Z"
   },
   {
    "duration": 19,
    "start_time": "2023-05-26T11:01:26.163Z"
   },
   {
    "duration": 40,
    "start_time": "2023-05-26T11:01:26.185Z"
   },
   {
    "duration": 28,
    "start_time": "2023-05-26T11:01:26.227Z"
   },
   {
    "duration": 225,
    "start_time": "2023-05-26T11:01:26.258Z"
   },
   {
    "duration": 204,
    "start_time": "2023-05-26T11:01:26.484Z"
   },
   {
    "duration": 204,
    "start_time": "2023-05-26T11:01:26.689Z"
   },
   {
    "duration": 762,
    "start_time": "2023-05-26T11:01:26.895Z"
   },
   {
    "duration": 2216,
    "start_time": "2023-05-26T11:01:27.659Z"
   },
   {
    "duration": 110,
    "start_time": "2023-05-26T11:01:29.877Z"
   },
   {
    "duration": 5,
    "start_time": "2023-05-26T11:01:29.989Z"
   },
   {
    "duration": 53,
    "start_time": "2023-05-26T11:01:29.995Z"
   },
   {
    "duration": 126,
    "start_time": "2023-05-26T11:01:30.050Z"
   },
   {
    "duration": 4,
    "start_time": "2023-05-26T11:01:30.178Z"
   },
   {
    "duration": 31,
    "start_time": "2023-05-26T11:01:30.184Z"
   },
   {
    "duration": 23,
    "start_time": "2023-05-26T11:01:30.217Z"
   },
   {
    "duration": 29,
    "start_time": "2023-05-26T11:01:30.242Z"
   },
   {
    "duration": 35,
    "start_time": "2023-05-26T11:01:30.273Z"
   },
   {
    "duration": 143,
    "start_time": "2023-05-26T11:01:30.309Z"
   },
   {
    "duration": 0,
    "start_time": "2023-05-26T11:01:30.454Z"
   },
   {
    "duration": 0,
    "start_time": "2023-05-26T11:01:30.455Z"
   },
   {
    "duration": 0,
    "start_time": "2023-05-26T11:01:30.456Z"
   },
   {
    "duration": 1433,
    "start_time": "2023-05-26T11:02:27.103Z"
   },
   {
    "duration": 674,
    "start_time": "2023-05-26T11:02:28.539Z"
   },
   {
    "duration": 214,
    "start_time": "2023-05-26T11:02:29.215Z"
   },
   {
    "duration": 773,
    "start_time": "2023-05-26T11:02:29.431Z"
   },
   {
    "duration": 8,
    "start_time": "2023-05-26T11:02:30.205Z"
   },
   {
    "duration": 35,
    "start_time": "2023-05-26T11:02:30.214Z"
   },
   {
    "duration": 33,
    "start_time": "2023-05-26T11:02:30.251Z"
   },
   {
    "duration": 89,
    "start_time": "2023-05-26T11:02:30.285Z"
   },
   {
    "duration": 59,
    "start_time": "2023-05-26T11:02:30.375Z"
   },
   {
    "duration": 186,
    "start_time": "2023-05-26T11:02:30.436Z"
   },
   {
    "duration": 185,
    "start_time": "2023-05-26T11:02:30.625Z"
   },
   {
    "duration": 181,
    "start_time": "2023-05-26T11:02:30.812Z"
   },
   {
    "duration": 759,
    "start_time": "2023-05-26T11:02:30.994Z"
   },
   {
    "duration": 2140,
    "start_time": "2023-05-26T11:02:31.755Z"
   },
   {
    "duration": 100,
    "start_time": "2023-05-26T11:02:33.897Z"
   },
   {
    "duration": 5,
    "start_time": "2023-05-26T11:02:33.999Z"
   },
   {
    "duration": 25,
    "start_time": "2023-05-26T11:02:34.006Z"
   },
   {
    "duration": 109,
    "start_time": "2023-05-26T11:02:34.033Z"
   },
   {
    "duration": 5,
    "start_time": "2023-05-26T11:02:34.144Z"
   },
   {
    "duration": 13,
    "start_time": "2023-05-26T11:02:34.150Z"
   },
   {
    "duration": 2,
    "start_time": "2023-05-26T11:02:34.165Z"
   },
   {
    "duration": 8,
    "start_time": "2023-05-26T11:02:34.168Z"
   },
   {
    "duration": 12,
    "start_time": "2023-05-26T11:02:34.177Z"
   },
   {
    "duration": 10,
    "start_time": "2023-05-26T11:02:34.190Z"
   },
   {
    "duration": 4,
    "start_time": "2023-05-26T11:02:34.224Z"
   },
   {
    "duration": 7,
    "start_time": "2023-05-26T11:02:34.229Z"
   },
   {
    "duration": 3491,
    "start_time": "2023-05-26T11:02:34.238Z"
   },
   {
    "duration": 3464,
    "start_time": "2023-05-26T11:03:33.663Z"
   },
   {
    "duration": 4544,
    "start_time": "2023-05-26T11:05:29.183Z"
   },
   {
    "duration": 3461,
    "start_time": "2023-05-26T11:06:10.166Z"
   },
   {
    "duration": 66,
    "start_time": "2023-05-26T11:07:34.183Z"
   },
   {
    "duration": 3395,
    "start_time": "2023-05-26T11:07:45.330Z"
   },
   {
    "duration": 9371,
    "start_time": "2023-05-26T11:18:42.616Z"
   },
   {
    "duration": 324468,
    "start_time": "2023-05-26T13:23:59.218Z"
   },
   {
    "duration": 1480,
    "start_time": "2023-05-26T13:35:01.006Z"
   },
   {
    "duration": 690,
    "start_time": "2023-05-26T13:35:02.488Z"
   },
   {
    "duration": 215,
    "start_time": "2023-05-26T13:35:03.180Z"
   },
   {
    "duration": 748,
    "start_time": "2023-05-26T13:35:03.397Z"
   },
   {
    "duration": 7,
    "start_time": "2023-05-26T13:35:04.147Z"
   },
   {
    "duration": 31,
    "start_time": "2023-05-26T13:35:04.156Z"
   },
   {
    "duration": 17,
    "start_time": "2023-05-26T13:35:04.188Z"
   },
   {
    "duration": 15,
    "start_time": "2023-05-26T13:35:04.206Z"
   },
   {
    "duration": 31,
    "start_time": "2023-05-26T13:35:04.223Z"
   },
   {
    "duration": 204,
    "start_time": "2023-05-26T13:35:04.256Z"
   },
   {
    "duration": 183,
    "start_time": "2023-05-26T13:35:04.463Z"
   },
   {
    "duration": 182,
    "start_time": "2023-05-26T13:35:04.648Z"
   },
   {
    "duration": 738,
    "start_time": "2023-05-26T13:35:04.832Z"
   },
   {
    "duration": 2266,
    "start_time": "2023-05-26T13:35:05.573Z"
   },
   {
    "duration": 102,
    "start_time": "2023-05-26T13:35:07.841Z"
   },
   {
    "duration": 6,
    "start_time": "2023-05-26T13:35:07.945Z"
   },
   {
    "duration": 14,
    "start_time": "2023-05-26T13:35:07.952Z"
   },
   {
    "duration": 112,
    "start_time": "2023-05-26T13:35:07.967Z"
   },
   {
    "duration": 4,
    "start_time": "2023-05-26T13:35:08.081Z"
   },
   {
    "duration": 28,
    "start_time": "2023-05-26T13:35:08.087Z"
   },
   {
    "duration": 17,
    "start_time": "2023-05-26T13:35:08.117Z"
   },
   {
    "duration": 4,
    "start_time": "2023-05-26T13:35:08.137Z"
   },
   {
    "duration": 13,
    "start_time": "2023-05-26T13:35:08.143Z"
   },
   {
    "duration": 11,
    "start_time": "2023-05-26T13:35:08.157Z"
   },
   {
    "duration": 19,
    "start_time": "2023-05-26T13:35:08.170Z"
   },
   {
    "duration": 7,
    "start_time": "2023-05-26T13:35:08.191Z"
   },
   {
    "duration": 3743,
    "start_time": "2023-05-26T13:35:08.199Z"
   },
   {
    "duration": 9821,
    "start_time": "2023-05-26T13:35:11.946Z"
   },
   {
    "duration": 1326,
    "start_time": "2023-05-26T13:43:13.171Z"
   },
   {
    "duration": 710,
    "start_time": "2023-05-26T13:43:14.499Z"
   },
   {
    "duration": 205,
    "start_time": "2023-05-26T13:43:15.211Z"
   },
   {
    "duration": 739,
    "start_time": "2023-05-26T13:43:15.426Z"
   },
   {
    "duration": 9,
    "start_time": "2023-05-26T13:43:16.167Z"
   },
   {
    "duration": 25,
    "start_time": "2023-05-26T13:43:16.177Z"
   },
   {
    "duration": 21,
    "start_time": "2023-05-26T13:43:16.203Z"
   },
   {
    "duration": 15,
    "start_time": "2023-05-26T13:43:16.226Z"
   },
   {
    "duration": 38,
    "start_time": "2023-05-26T13:43:16.242Z"
   },
   {
    "duration": 192,
    "start_time": "2023-05-26T13:43:16.282Z"
   },
   {
    "duration": 179,
    "start_time": "2023-05-26T13:43:16.476Z"
   },
   {
    "duration": 169,
    "start_time": "2023-05-26T13:43:16.656Z"
   },
   {
    "duration": 713,
    "start_time": "2023-05-26T13:43:16.827Z"
   },
   {
    "duration": 2355,
    "start_time": "2023-05-26T13:43:17.543Z"
   },
   {
    "duration": 116,
    "start_time": "2023-05-26T13:43:19.900Z"
   },
   {
    "duration": 18,
    "start_time": "2023-05-26T13:43:20.018Z"
   },
   {
    "duration": 18,
    "start_time": "2023-05-26T13:43:20.038Z"
   },
   {
    "duration": 106,
    "start_time": "2023-05-26T13:43:20.057Z"
   },
   {
    "duration": 4,
    "start_time": "2023-05-26T13:43:20.164Z"
   },
   {
    "duration": 10,
    "start_time": "2023-05-26T13:43:20.170Z"
   },
   {
    "duration": 2,
    "start_time": "2023-05-26T13:43:20.182Z"
   },
   {
    "duration": 5,
    "start_time": "2023-05-26T13:43:20.185Z"
   },
   {
    "duration": 10,
    "start_time": "2023-05-26T13:43:20.191Z"
   },
   {
    "duration": 34,
    "start_time": "2023-05-26T13:43:20.202Z"
   },
   {
    "duration": 3,
    "start_time": "2023-05-26T13:43:20.238Z"
   },
   {
    "duration": 8,
    "start_time": "2023-05-26T13:43:20.243Z"
   },
   {
    "duration": 2981,
    "start_time": "2023-05-26T13:43:20.252Z"
   },
   {
    "duration": 9373,
    "start_time": "2023-05-26T13:43:23.236Z"
   },
   {
    "duration": 1321,
    "start_time": "2023-05-26T13:52:21.677Z"
   },
   {
    "duration": 687,
    "start_time": "2023-05-26T13:52:23.000Z"
   },
   {
    "duration": 213,
    "start_time": "2023-05-26T13:52:23.689Z"
   },
   {
    "duration": 739,
    "start_time": "2023-05-26T13:52:23.904Z"
   },
   {
    "duration": 7,
    "start_time": "2023-05-26T13:52:24.645Z"
   },
   {
    "duration": 13,
    "start_time": "2023-05-26T13:52:24.653Z"
   },
   {
    "duration": 14,
    "start_time": "2023-05-26T13:52:24.668Z"
   },
   {
    "duration": 7,
    "start_time": "2023-05-26T13:52:24.684Z"
   },
   {
    "duration": 57,
    "start_time": "2023-05-26T13:52:24.692Z"
   },
   {
    "duration": 204,
    "start_time": "2023-05-26T13:52:24.751Z"
   },
   {
    "duration": 174,
    "start_time": "2023-05-26T13:52:24.956Z"
   },
   {
    "duration": 167,
    "start_time": "2023-05-26T13:52:25.132Z"
   },
   {
    "duration": 666,
    "start_time": "2023-05-26T13:52:25.301Z"
   },
   {
    "duration": 2105,
    "start_time": "2023-05-26T13:52:25.968Z"
   },
   {
    "duration": 96,
    "start_time": "2023-05-26T13:52:28.075Z"
   },
   {
    "duration": 4,
    "start_time": "2023-05-26T13:52:28.172Z"
   },
   {
    "duration": 8,
    "start_time": "2023-05-26T13:52:28.178Z"
   },
   {
    "duration": 110,
    "start_time": "2023-05-26T13:52:28.187Z"
   },
   {
    "duration": 5,
    "start_time": "2023-05-26T13:52:28.299Z"
   },
   {
    "duration": 23,
    "start_time": "2023-05-26T13:52:28.306Z"
   },
   {
    "duration": 4,
    "start_time": "2023-05-26T13:52:28.331Z"
   },
   {
    "duration": 18,
    "start_time": "2023-05-26T13:52:28.337Z"
   },
   {
    "duration": 16,
    "start_time": "2023-05-26T13:52:28.356Z"
   },
   {
    "duration": 9,
    "start_time": "2023-05-26T13:52:28.374Z"
   },
   {
    "duration": 3,
    "start_time": "2023-05-26T13:52:28.385Z"
   },
   {
    "duration": 6,
    "start_time": "2023-05-26T13:52:28.390Z"
   },
   {
    "duration": 3143,
    "start_time": "2023-05-26T13:52:28.397Z"
   },
   {
    "duration": 11189,
    "start_time": "2023-05-26T13:52:31.624Z"
   },
   {
    "duration": 1259,
    "start_time": "2023-05-26T13:53:25.989Z"
   },
   {
    "duration": 656,
    "start_time": "2023-05-26T13:53:27.250Z"
   },
   {
    "duration": 205,
    "start_time": "2023-05-26T13:53:27.907Z"
   },
   {
    "duration": 752,
    "start_time": "2023-05-26T13:53:28.114Z"
   },
   {
    "duration": 7,
    "start_time": "2023-05-26T13:53:28.868Z"
   },
   {
    "duration": 18,
    "start_time": "2023-05-26T13:53:28.877Z"
   },
   {
    "duration": 14,
    "start_time": "2023-05-26T13:53:28.896Z"
   },
   {
    "duration": 24,
    "start_time": "2023-05-26T13:53:28.911Z"
   },
   {
    "duration": 29,
    "start_time": "2023-05-26T13:53:28.936Z"
   },
   {
    "duration": 209,
    "start_time": "2023-05-26T13:53:28.967Z"
   },
   {
    "duration": 192,
    "start_time": "2023-05-26T13:53:29.178Z"
   },
   {
    "duration": 179,
    "start_time": "2023-05-26T13:53:29.372Z"
   },
   {
    "duration": 717,
    "start_time": "2023-05-26T13:53:29.553Z"
   },
   {
    "duration": 2123,
    "start_time": "2023-05-26T13:53:30.272Z"
   },
   {
    "duration": 106,
    "start_time": "2023-05-26T13:53:32.397Z"
   },
   {
    "duration": 6,
    "start_time": "2023-05-26T13:53:32.505Z"
   },
   {
    "duration": 21,
    "start_time": "2023-05-26T13:53:32.512Z"
   },
   {
    "duration": 112,
    "start_time": "2023-05-26T13:53:32.535Z"
   },
   {
    "duration": 5,
    "start_time": "2023-05-26T13:53:32.648Z"
   },
   {
    "duration": 19,
    "start_time": "2023-05-26T13:53:32.654Z"
   },
   {
    "duration": 3,
    "start_time": "2023-05-26T13:53:32.674Z"
   },
   {
    "duration": 16,
    "start_time": "2023-05-26T13:53:32.679Z"
   },
   {
    "duration": 22,
    "start_time": "2023-05-26T13:53:32.696Z"
   },
   {
    "duration": 21,
    "start_time": "2023-05-26T13:53:32.719Z"
   },
   {
    "duration": 3,
    "start_time": "2023-05-26T13:53:32.743Z"
   },
   {
    "duration": 8,
    "start_time": "2023-05-26T13:53:32.747Z"
   },
   {
    "duration": 3288,
    "start_time": "2023-05-26T13:53:32.756Z"
   },
   {
    "duration": 11685,
    "start_time": "2023-05-26T13:53:36.130Z"
   },
   {
    "duration": 126,
    "start_time": "2023-05-26T13:56:55.676Z"
   },
   {
    "duration": 11348,
    "start_time": "2023-05-26T13:57:19.173Z"
   },
   {
    "duration": 28,
    "start_time": "2023-05-26T14:26:41.300Z"
   },
   {
    "duration": 1364,
    "start_time": "2023-05-26T14:27:03.104Z"
   },
   {
    "duration": 662,
    "start_time": "2023-05-26T14:27:04.471Z"
   },
   {
    "duration": 206,
    "start_time": "2023-05-26T14:27:05.138Z"
   },
   {
    "duration": 725,
    "start_time": "2023-05-26T14:27:05.346Z"
   },
   {
    "duration": 9,
    "start_time": "2023-05-26T14:27:06.073Z"
   },
   {
    "duration": 10,
    "start_time": "2023-05-26T14:27:06.083Z"
   },
   {
    "duration": 45,
    "start_time": "2023-05-26T14:27:06.094Z"
   },
   {
    "duration": 8,
    "start_time": "2023-05-26T14:27:06.141Z"
   },
   {
    "duration": 27,
    "start_time": "2023-05-26T14:27:06.150Z"
   },
   {
    "duration": 209,
    "start_time": "2023-05-26T14:27:06.179Z"
   },
   {
    "duration": 200,
    "start_time": "2023-05-26T14:27:06.391Z"
   },
   {
    "duration": 185,
    "start_time": "2023-05-26T14:27:06.593Z"
   },
   {
    "duration": 768,
    "start_time": "2023-05-26T14:27:06.779Z"
   },
   {
    "duration": 2164,
    "start_time": "2023-05-26T14:27:07.551Z"
   },
   {
    "duration": 159,
    "start_time": "2023-05-26T14:27:09.717Z"
   },
   {
    "duration": 6,
    "start_time": "2023-05-26T14:27:09.879Z"
   },
   {
    "duration": 10,
    "start_time": "2023-05-26T14:27:09.887Z"
   },
   {
    "duration": 148,
    "start_time": "2023-05-26T14:27:09.899Z"
   },
   {
    "duration": 5,
    "start_time": "2023-05-26T14:27:10.048Z"
   },
   {
    "duration": 13,
    "start_time": "2023-05-26T14:27:10.055Z"
   },
   {
    "duration": 3,
    "start_time": "2023-05-26T14:27:10.069Z"
   },
   {
    "duration": 5,
    "start_time": "2023-05-26T14:27:10.074Z"
   },
   {
    "duration": 10,
    "start_time": "2023-05-26T14:27:10.081Z"
   },
   {
    "duration": 37,
    "start_time": "2023-05-26T14:27:10.093Z"
   },
   {
    "duration": 10,
    "start_time": "2023-05-26T14:27:10.131Z"
   },
   {
    "duration": 8,
    "start_time": "2023-05-26T14:27:10.143Z"
   },
   {
    "duration": 5477,
    "start_time": "2023-05-26T14:27:10.153Z"
   },
   {
    "duration": 11258,
    "start_time": "2023-05-26T14:27:15.632Z"
   },
   {
    "duration": 2,
    "start_time": "2023-05-26T14:29:35.302Z"
   },
   {
    "duration": 4891,
    "start_time": "2023-05-26T14:29:38.347Z"
   },
   {
    "duration": 105,
    "start_time": "2023-05-26T14:42:39.759Z"
   },
   {
    "duration": 316528,
    "start_time": "2023-05-26T14:42:57.219Z"
   },
   {
    "duration": 373019,
    "start_time": "2023-05-26T14:52:00.841Z"
   },
   {
    "duration": 290589,
    "start_time": "2023-05-26T15:08:53.262Z"
   },
   {
    "duration": 3,
    "start_time": "2023-05-26T15:16:10.718Z"
   },
   {
    "duration": 2908,
    "start_time": "2023-05-26T15:16:13.022Z"
   },
   {
    "duration": 1977,
    "start_time": "2023-05-26T15:16:35.463Z"
   },
   {
    "duration": 2288,
    "start_time": "2023-05-26T15:16:53.943Z"
   },
   {
    "duration": 3663,
    "start_time": "2023-05-26T15:17:08.070Z"
   },
   {
    "duration": 3142,
    "start_time": "2023-05-26T15:17:53.090Z"
   },
   {
    "duration": 57,
    "start_time": "2023-05-26T15:30:04.886Z"
   },
   {
    "duration": 299285,
    "start_time": "2023-05-26T15:40:10.082Z"
   },
   {
    "duration": 294059,
    "start_time": "2023-05-26T15:46:37.845Z"
   },
   {
    "duration": 498213,
    "start_time": "2023-05-26T15:52:26.138Z"
   },
   {
    "duration": 1334,
    "start_time": "2023-05-26T16:02:17.807Z"
   },
   {
    "duration": 694,
    "start_time": "2023-05-26T16:02:19.143Z"
   },
   {
    "duration": 238,
    "start_time": "2023-05-26T16:02:19.839Z"
   },
   {
    "duration": 722,
    "start_time": "2023-05-26T16:02:20.079Z"
   },
   {
    "duration": 8,
    "start_time": "2023-05-26T16:02:20.803Z"
   },
   {
    "duration": 38,
    "start_time": "2023-05-26T16:02:20.813Z"
   },
   {
    "duration": 23,
    "start_time": "2023-05-26T16:02:20.853Z"
   },
   {
    "duration": 11,
    "start_time": "2023-05-26T16:02:20.878Z"
   },
   {
    "duration": 43,
    "start_time": "2023-05-26T16:02:20.891Z"
   },
   {
    "duration": 183,
    "start_time": "2023-05-26T16:02:20.937Z"
   },
   {
    "duration": 192,
    "start_time": "2023-05-26T16:02:21.125Z"
   },
   {
    "duration": 175,
    "start_time": "2023-05-26T16:02:21.318Z"
   },
   {
    "duration": 755,
    "start_time": "2023-05-26T16:02:21.495Z"
   },
   {
    "duration": 2307,
    "start_time": "2023-05-26T16:02:22.252Z"
   },
   {
    "duration": 100,
    "start_time": "2023-05-26T16:02:24.561Z"
   },
   {
    "duration": 6,
    "start_time": "2023-05-26T16:02:24.663Z"
   },
   {
    "duration": 34,
    "start_time": "2023-05-26T16:02:24.670Z"
   },
   {
    "duration": 142,
    "start_time": "2023-05-26T16:02:24.706Z"
   },
   {
    "duration": 7,
    "start_time": "2023-05-26T16:02:24.850Z"
   },
   {
    "duration": 16,
    "start_time": "2023-05-26T16:02:24.860Z"
   },
   {
    "duration": 12,
    "start_time": "2023-05-26T16:02:24.877Z"
   },
   {
    "duration": 13,
    "start_time": "2023-05-26T16:02:24.891Z"
   },
   {
    "duration": 13,
    "start_time": "2023-05-26T16:02:24.906Z"
   },
   {
    "duration": 21,
    "start_time": "2023-05-26T16:02:24.921Z"
   },
   {
    "duration": 9,
    "start_time": "2023-05-26T16:02:24.946Z"
   },
   {
    "duration": 6,
    "start_time": "2023-05-26T16:02:24.956Z"
   },
   {
    "duration": 3369,
    "start_time": "2023-05-26T16:02:24.964Z"
   },
   {
    "duration": 11107,
    "start_time": "2023-05-26T16:02:28.340Z"
   },
   {
    "duration": 407253,
    "start_time": "2023-05-26T16:02:39.449Z"
   },
   {
    "duration": 10968,
    "start_time": "2023-05-26T16:20:27.192Z"
   },
   {
    "duration": 11013,
    "start_time": "2023-05-26T16:22:50.581Z"
   },
   {
    "duration": 1294,
    "start_time": "2023-05-26T16:24:55.873Z"
   },
   {
    "duration": 631,
    "start_time": "2023-05-26T16:24:57.169Z"
   },
   {
    "duration": 200,
    "start_time": "2023-05-26T16:24:57.802Z"
   },
   {
    "duration": 696,
    "start_time": "2023-05-26T16:24:58.003Z"
   },
   {
    "duration": 7,
    "start_time": "2023-05-26T16:24:58.701Z"
   },
   {
    "duration": 30,
    "start_time": "2023-05-26T16:24:58.709Z"
   },
   {
    "duration": 15,
    "start_time": "2023-05-26T16:24:58.741Z"
   },
   {
    "duration": 8,
    "start_time": "2023-05-26T16:24:58.757Z"
   },
   {
    "duration": 23,
    "start_time": "2023-05-26T16:24:58.767Z"
   },
   {
    "duration": 211,
    "start_time": "2023-05-26T16:24:58.792Z"
   },
   {
    "duration": 174,
    "start_time": "2023-05-26T16:24:59.005Z"
   },
   {
    "duration": 167,
    "start_time": "2023-05-26T16:24:59.181Z"
   },
   {
    "duration": 758,
    "start_time": "2023-05-26T16:24:59.350Z"
   },
   {
    "duration": 2177,
    "start_time": "2023-05-26T16:25:00.110Z"
   },
   {
    "duration": 100,
    "start_time": "2023-05-26T16:25:02.288Z"
   },
   {
    "duration": 5,
    "start_time": "2023-05-26T16:25:02.390Z"
   },
   {
    "duration": 33,
    "start_time": "2023-05-26T16:25:02.396Z"
   },
   {
    "duration": 106,
    "start_time": "2023-05-26T16:25:02.438Z"
   },
   {
    "duration": 4,
    "start_time": "2023-05-26T16:25:02.545Z"
   },
   {
    "duration": 38,
    "start_time": "2023-05-26T16:25:02.551Z"
   },
   {
    "duration": 24,
    "start_time": "2023-05-26T16:25:02.590Z"
   },
   {
    "duration": 27,
    "start_time": "2023-05-26T16:25:02.616Z"
   },
   {
    "duration": 29,
    "start_time": "2023-05-26T16:25:02.645Z"
   },
   {
    "duration": 23,
    "start_time": "2023-05-26T16:25:02.675Z"
   },
   {
    "duration": 19,
    "start_time": "2023-05-26T16:25:02.699Z"
   },
   {
    "duration": 20,
    "start_time": "2023-05-26T16:25:02.720Z"
   },
   {
    "duration": 4389,
    "start_time": "2023-05-26T16:25:02.741Z"
   },
   {
    "duration": 11122,
    "start_time": "2023-05-26T16:25:07.133Z"
   },
   {
    "duration": 394519,
    "start_time": "2023-05-26T16:25:18.257Z"
   },
   {
    "duration": 8,
    "start_time": "2023-05-26T17:08:49.018Z"
   },
   {
    "duration": 112,
    "start_time": "2023-05-26T17:26:26.048Z"
   },
   {
    "duration": 7,
    "start_time": "2023-05-26T17:26:40.514Z"
   },
   {
    "duration": 9,
    "start_time": "2023-05-26T17:29:13.994Z"
   },
   {
    "duration": 8,
    "start_time": "2023-05-26T17:32:27.181Z"
   },
   {
    "duration": 15,
    "start_time": "2023-05-26T17:36:29.546Z"
   },
   {
    "duration": 8,
    "start_time": "2023-05-26T17:36:43.896Z"
   },
   {
    "duration": 1215,
    "start_time": "2023-05-26T17:37:32.468Z"
   },
   {
    "duration": 589,
    "start_time": "2023-05-26T17:37:33.685Z"
   },
   {
    "duration": 186,
    "start_time": "2023-05-26T17:37:34.275Z"
   },
   {
    "duration": 643,
    "start_time": "2023-05-26T17:37:34.463Z"
   },
   {
    "duration": 7,
    "start_time": "2023-05-26T17:37:35.107Z"
   },
   {
    "duration": 18,
    "start_time": "2023-05-26T17:37:35.115Z"
   },
   {
    "duration": 13,
    "start_time": "2023-05-26T17:37:35.134Z"
   },
   {
    "duration": 26,
    "start_time": "2023-05-26T17:37:35.149Z"
   },
   {
    "duration": 30,
    "start_time": "2023-05-26T17:37:35.176Z"
   },
   {
    "duration": 172,
    "start_time": "2023-05-26T17:37:35.208Z"
   },
   {
    "duration": 162,
    "start_time": "2023-05-26T17:37:35.382Z"
   },
   {
    "duration": 162,
    "start_time": "2023-05-26T17:37:35.546Z"
   },
   {
    "duration": 680,
    "start_time": "2023-05-26T17:37:35.710Z"
   },
   {
    "duration": 2143,
    "start_time": "2023-05-26T17:37:36.391Z"
   },
   {
    "duration": 91,
    "start_time": "2023-05-26T17:37:38.536Z"
   },
   {
    "duration": 4,
    "start_time": "2023-05-26T17:37:38.629Z"
   },
   {
    "duration": 23,
    "start_time": "2023-05-26T17:37:38.634Z"
   },
   {
    "duration": 97,
    "start_time": "2023-05-26T17:37:38.658Z"
   },
   {
    "duration": 5,
    "start_time": "2023-05-26T17:37:38.756Z"
   },
   {
    "duration": 22,
    "start_time": "2023-05-26T17:37:38.763Z"
   },
   {
    "duration": 6,
    "start_time": "2023-05-26T17:37:38.787Z"
   },
   {
    "duration": 16,
    "start_time": "2023-05-26T17:37:38.795Z"
   },
   {
    "duration": 21,
    "start_time": "2023-05-26T17:37:38.813Z"
   },
   {
    "duration": 15,
    "start_time": "2023-05-26T17:37:38.835Z"
   },
   {
    "duration": 13,
    "start_time": "2023-05-26T17:37:38.851Z"
   },
   {
    "duration": 10,
    "start_time": "2023-05-26T17:37:38.865Z"
   },
   {
    "duration": 2257,
    "start_time": "2023-05-26T17:37:38.877Z"
   },
   {
    "duration": 10438,
    "start_time": "2023-05-26T17:37:41.228Z"
   },
   {
    "duration": 391175,
    "start_time": "2023-05-26T17:37:51.668Z"
   },
   {
    "duration": 7,
    "start_time": "2023-05-26T17:44:22.845Z"
   },
   {
    "duration": 10,
    "start_time": "2023-05-26T17:44:22.854Z"
   },
   {
    "duration": 9,
    "start_time": "2023-05-26T17:50:07.170Z"
   },
   {
    "duration": 46,
    "start_time": "2023-05-27T06:12:37.067Z"
   },
   {
    "duration": 1505,
    "start_time": "2023-05-27T06:13:18.204Z"
   },
   {
    "duration": 1575,
    "start_time": "2023-05-27T06:13:19.711Z"
   },
   {
    "duration": 500,
    "start_time": "2023-05-27T06:13:21.287Z"
   },
   {
    "duration": 1759,
    "start_time": "2023-05-27T06:13:21.789Z"
   },
   {
    "duration": 7,
    "start_time": "2023-05-27T06:13:23.550Z"
   },
   {
    "duration": 17,
    "start_time": "2023-05-27T06:13:23.558Z"
   },
   {
    "duration": 7,
    "start_time": "2023-05-27T06:13:23.576Z"
   },
   {
    "duration": 50,
    "start_time": "2023-05-27T06:13:23.585Z"
   },
   {
    "duration": 191,
    "start_time": "2023-05-27T06:13:23.636Z"
   },
   {
    "duration": 170,
    "start_time": "2023-05-27T06:13:23.830Z"
   },
   {
    "duration": 191,
    "start_time": "2023-05-27T06:13:24.001Z"
   },
   {
    "duration": 712,
    "start_time": "2023-05-27T06:13:24.194Z"
   },
   {
    "duration": 2144,
    "start_time": "2023-05-27T06:13:24.907Z"
   },
   {
    "duration": 91,
    "start_time": "2023-05-27T06:13:27.052Z"
   },
   {
    "duration": 6,
    "start_time": "2023-05-27T06:13:27.145Z"
   },
   {
    "duration": 9,
    "start_time": "2023-05-27T06:13:27.152Z"
   },
   {
    "duration": 110,
    "start_time": "2023-05-27T06:13:27.162Z"
   },
   {
    "duration": 5,
    "start_time": "2023-05-27T06:13:27.274Z"
   },
   {
    "duration": 14,
    "start_time": "2023-05-27T06:13:27.280Z"
   },
   {
    "duration": 9,
    "start_time": "2023-05-27T06:13:27.296Z"
   },
   {
    "duration": 7,
    "start_time": "2023-05-27T06:13:27.307Z"
   },
   {
    "duration": 10,
    "start_time": "2023-05-27T06:13:27.324Z"
   },
   {
    "duration": 9,
    "start_time": "2023-05-27T06:13:27.336Z"
   },
   {
    "duration": 5,
    "start_time": "2023-05-27T06:13:27.347Z"
   },
   {
    "duration": 7,
    "start_time": "2023-05-27T06:13:27.353Z"
   },
   {
    "duration": 2865,
    "start_time": "2023-05-27T06:13:27.362Z"
   },
   {
    "duration": 10787,
    "start_time": "2023-05-27T06:13:30.229Z"
   },
   {
    "duration": 395006,
    "start_time": "2023-05-27T06:13:41.019Z"
   },
   {
    "duration": 6,
    "start_time": "2023-05-27T06:20:16.027Z"
   },
   {
    "duration": 25,
    "start_time": "2023-05-27T06:20:16.034Z"
   },
   {
    "duration": 53,
    "start_time": "2023-05-27T06:20:16.060Z"
   },
   {
    "duration": 0,
    "start_time": "2023-05-27T06:20:16.115Z"
   },
   {
    "duration": 104,
    "start_time": "2023-05-27T06:30:33.680Z"
   },
   {
    "duration": 6,
    "start_time": "2023-05-27T06:31:47.469Z"
   },
   {
    "duration": 6,
    "start_time": "2023-05-27T06:32:35.750Z"
   },
   {
    "duration": 8,
    "start_time": "2023-05-27T06:32:43.943Z"
   },
   {
    "duration": 6,
    "start_time": "2023-05-27T06:33:23.745Z"
   },
   {
    "duration": 6,
    "start_time": "2023-05-27T06:33:41.170Z"
   },
   {
    "duration": 95,
    "start_time": "2023-05-27T06:36:08.087Z"
   },
   {
    "duration": 89,
    "start_time": "2023-05-27T06:36:52.722Z"
   },
   {
    "duration": 224,
    "start_time": "2023-05-27T07:06:37.849Z"
   },
   {
    "duration": 718,
    "start_time": "2023-05-27T07:06:49.191Z"
   },
   {
    "duration": 102,
    "start_time": "2023-05-27T07:38:50.055Z"
   },
   {
    "duration": 3,
    "start_time": "2023-05-27T07:42:15.039Z"
   },
   {
    "duration": 10426,
    "start_time": "2023-05-27T07:50:36.790Z"
   },
   {
    "duration": 1358,
    "start_time": "2023-05-27T08:29:38.155Z"
   },
   {
    "duration": 748,
    "start_time": "2023-05-27T08:29:39.517Z"
   },
   {
    "duration": 206,
    "start_time": "2023-05-27T08:29:40.267Z"
   },
   {
    "duration": 744,
    "start_time": "2023-05-27T08:29:40.475Z"
   },
   {
    "duration": 10,
    "start_time": "2023-05-27T08:29:41.224Z"
   },
   {
    "duration": 22,
    "start_time": "2023-05-27T08:29:41.236Z"
   },
   {
    "duration": 22,
    "start_time": "2023-05-27T08:29:41.261Z"
   },
   {
    "duration": 36,
    "start_time": "2023-05-27T08:29:41.285Z"
   },
   {
    "duration": 197,
    "start_time": "2023-05-27T08:29:41.323Z"
   },
   {
    "duration": 179,
    "start_time": "2023-05-27T08:29:41.525Z"
   },
   {
    "duration": 188,
    "start_time": "2023-05-27T08:29:41.706Z"
   },
   {
    "duration": 700,
    "start_time": "2023-05-27T08:29:41.896Z"
   },
   {
    "duration": 2425,
    "start_time": "2023-05-27T08:29:42.598Z"
   },
   {
    "duration": 119,
    "start_time": "2023-05-27T08:29:45.033Z"
   },
   {
    "duration": 5,
    "start_time": "2023-05-27T08:29:45.156Z"
   },
   {
    "duration": 9,
    "start_time": "2023-05-27T08:29:45.163Z"
   },
   {
    "duration": 145,
    "start_time": "2023-05-27T08:29:45.174Z"
   },
   {
    "duration": 11,
    "start_time": "2023-05-27T08:29:45.320Z"
   },
   {
    "duration": 34,
    "start_time": "2023-05-27T08:29:45.333Z"
   },
   {
    "duration": 4,
    "start_time": "2023-05-27T08:29:45.369Z"
   },
   {
    "duration": 11,
    "start_time": "2023-05-27T08:29:45.375Z"
   },
   {
    "duration": 12,
    "start_time": "2023-05-27T08:29:45.388Z"
   },
   {
    "duration": 11,
    "start_time": "2023-05-27T08:29:45.401Z"
   },
   {
    "duration": 3,
    "start_time": "2023-05-27T08:29:45.414Z"
   },
   {
    "duration": 9,
    "start_time": "2023-05-27T08:29:45.418Z"
   },
   {
    "duration": 7527,
    "start_time": "2023-05-27T08:29:45.428Z"
   },
   {
    "duration": 11963,
    "start_time": "2023-05-27T08:29:52.964Z"
   },
   {
    "duration": 436445,
    "start_time": "2023-05-27T08:30:04.929Z"
   },
   {
    "duration": 6,
    "start_time": "2023-05-27T08:37:21.375Z"
   },
   {
    "duration": 20,
    "start_time": "2023-05-27T08:37:21.382Z"
   },
   {
    "duration": 10,
    "start_time": "2023-05-27T08:37:21.403Z"
   },
   {
    "duration": 1358,
    "start_time": "2023-05-27T09:48:31.536Z"
   },
   {
    "duration": 646,
    "start_time": "2023-05-27T09:48:32.896Z"
   },
   {
    "duration": 221,
    "start_time": "2023-05-27T09:48:33.543Z"
   },
   {
    "duration": 691,
    "start_time": "2023-05-27T09:48:33.766Z"
   },
   {
    "duration": 9,
    "start_time": "2023-05-27T09:48:34.460Z"
   },
   {
    "duration": 26,
    "start_time": "2023-05-27T09:48:34.471Z"
   },
   {
    "duration": 9,
    "start_time": "2023-05-27T09:48:34.499Z"
   },
   {
    "duration": 36,
    "start_time": "2023-05-27T09:48:34.528Z"
   },
   {
    "duration": 295,
    "start_time": "2023-05-27T09:48:34.566Z"
   },
   {
    "duration": 289,
    "start_time": "2023-05-27T09:48:34.863Z"
   },
   {
    "duration": 170,
    "start_time": "2023-05-27T09:48:35.157Z"
   },
   {
    "duration": 663,
    "start_time": "2023-05-27T09:48:35.332Z"
   },
   {
    "duration": 2269,
    "start_time": "2023-05-27T09:48:36.001Z"
   },
   {
    "duration": 94,
    "start_time": "2023-05-27T09:48:38.273Z"
   },
   {
    "duration": 5,
    "start_time": "2023-05-27T09:48:38.368Z"
   },
   {
    "duration": 7,
    "start_time": "2023-05-27T09:48:38.374Z"
   },
   {
    "duration": 120,
    "start_time": "2023-05-27T09:48:38.383Z"
   },
   {
    "duration": 5,
    "start_time": "2023-05-27T09:48:38.504Z"
   },
   {
    "duration": 29,
    "start_time": "2023-05-27T09:48:38.511Z"
   },
   {
    "duration": 3,
    "start_time": "2023-05-27T09:48:38.542Z"
   },
   {
    "duration": 7,
    "start_time": "2023-05-27T09:48:38.546Z"
   },
   {
    "duration": 11,
    "start_time": "2023-05-27T09:48:38.555Z"
   },
   {
    "duration": 10,
    "start_time": "2023-05-27T09:48:38.568Z"
   },
   {
    "duration": 2,
    "start_time": "2023-05-27T09:48:38.580Z"
   },
   {
    "duration": 4,
    "start_time": "2023-05-27T09:48:38.584Z"
   },
   {
    "duration": 3948,
    "start_time": "2023-05-27T09:48:38.589Z"
   },
   {
    "duration": 9376,
    "start_time": "2023-05-27T09:48:42.538Z"
   },
   {
    "duration": 1340,
    "start_time": "2023-05-27T09:54:43.819Z"
   },
   {
    "duration": 618,
    "start_time": "2023-05-27T09:54:45.160Z"
   },
   {
    "duration": 217,
    "start_time": "2023-05-27T09:54:45.779Z"
   },
   {
    "duration": 696,
    "start_time": "2023-05-27T09:54:45.998Z"
   },
   {
    "duration": 7,
    "start_time": "2023-05-27T09:54:46.696Z"
   },
   {
    "duration": 34,
    "start_time": "2023-05-27T09:54:46.704Z"
   },
   {
    "duration": 15,
    "start_time": "2023-05-27T09:54:46.739Z"
   },
   {
    "duration": 26,
    "start_time": "2023-05-27T09:54:46.756Z"
   },
   {
    "duration": 185,
    "start_time": "2023-05-27T09:54:46.784Z"
   },
   {
    "duration": 174,
    "start_time": "2023-05-27T09:54:46.971Z"
   },
   {
    "duration": 167,
    "start_time": "2023-05-27T09:54:47.147Z"
   },
   {
    "duration": 708,
    "start_time": "2023-05-27T09:54:47.315Z"
   },
   {
    "duration": 2189,
    "start_time": "2023-05-27T09:54:48.025Z"
   },
   {
    "duration": 93,
    "start_time": "2023-05-27T09:54:50.216Z"
   },
   {
    "duration": 5,
    "start_time": "2023-05-27T09:54:50.310Z"
   },
   {
    "duration": 10,
    "start_time": "2023-05-27T09:54:50.333Z"
   },
   {
    "duration": 101,
    "start_time": "2023-05-27T09:54:50.344Z"
   },
   {
    "duration": 5,
    "start_time": "2023-05-27T09:54:50.446Z"
   },
   {
    "duration": 15,
    "start_time": "2023-05-27T09:54:50.452Z"
   },
   {
    "duration": 8,
    "start_time": "2023-05-27T09:54:50.468Z"
   },
   {
    "duration": 8,
    "start_time": "2023-05-27T09:54:50.478Z"
   },
   {
    "duration": 12,
    "start_time": "2023-05-27T09:54:50.488Z"
   },
   {
    "duration": 17,
    "start_time": "2023-05-27T09:54:50.502Z"
   },
   {
    "duration": 120,
    "start_time": "2023-05-27T09:54:50.520Z"
   },
   {
    "duration": 0,
    "start_time": "2023-05-27T09:54:50.643Z"
   },
   {
    "duration": 0,
    "start_time": "2023-05-27T09:54:50.644Z"
   },
   {
    "duration": 1,
    "start_time": "2023-05-27T09:54:50.645Z"
   },
   {
    "duration": 0,
    "start_time": "2023-05-27T09:54:50.647Z"
   },
   {
    "duration": 0,
    "start_time": "2023-05-27T09:54:50.648Z"
   },
   {
    "duration": 0,
    "start_time": "2023-05-27T09:54:50.649Z"
   },
   {
    "duration": 0,
    "start_time": "2023-05-27T09:54:50.650Z"
   },
   {
    "duration": 1342,
    "start_time": "2023-05-27T09:55:37.420Z"
   },
   {
    "duration": 609,
    "start_time": "2023-05-27T09:55:38.773Z"
   },
   {
    "duration": 204,
    "start_time": "2023-05-27T09:55:39.384Z"
   },
   {
    "duration": 703,
    "start_time": "2023-05-27T09:55:39.590Z"
   },
   {
    "duration": 7,
    "start_time": "2023-05-27T09:55:40.295Z"
   },
   {
    "duration": 59,
    "start_time": "2023-05-27T09:55:40.304Z"
   },
   {
    "duration": 21,
    "start_time": "2023-05-27T09:55:40.365Z"
   },
   {
    "duration": 33,
    "start_time": "2023-05-27T09:55:40.387Z"
   },
   {
    "duration": 191,
    "start_time": "2023-05-27T09:55:40.422Z"
   },
   {
    "duration": 182,
    "start_time": "2023-05-27T09:55:40.615Z"
   },
   {
    "duration": 175,
    "start_time": "2023-05-27T09:55:40.798Z"
   },
   {
    "duration": 661,
    "start_time": "2023-05-27T09:55:40.975Z"
   },
   {
    "duration": 2224,
    "start_time": "2023-05-27T09:55:41.638Z"
   },
   {
    "duration": 103,
    "start_time": "2023-05-27T09:55:43.864Z"
   },
   {
    "duration": 5,
    "start_time": "2023-05-27T09:55:43.969Z"
   },
   {
    "duration": 18,
    "start_time": "2023-05-27T09:55:43.976Z"
   },
   {
    "duration": 114,
    "start_time": "2023-05-27T09:55:43.995Z"
   },
   {
    "duration": 14,
    "start_time": "2023-05-27T09:55:44.111Z"
   },
   {
    "duration": 15,
    "start_time": "2023-05-27T09:55:44.127Z"
   },
   {
    "duration": 18,
    "start_time": "2023-05-27T09:55:44.143Z"
   },
   {
    "duration": 20,
    "start_time": "2023-05-27T09:55:44.162Z"
   },
   {
    "duration": 25,
    "start_time": "2023-05-27T09:55:44.184Z"
   },
   {
    "duration": 28,
    "start_time": "2023-05-27T09:55:44.210Z"
   },
   {
    "duration": 112,
    "start_time": "2023-05-27T09:55:44.240Z"
   },
   {
    "duration": 0,
    "start_time": "2023-05-27T09:55:44.353Z"
   },
   {
    "duration": 0,
    "start_time": "2023-05-27T09:55:44.355Z"
   },
   {
    "duration": 0,
    "start_time": "2023-05-27T09:55:44.356Z"
   },
   {
    "duration": 0,
    "start_time": "2023-05-27T09:55:44.358Z"
   },
   {
    "duration": 0,
    "start_time": "2023-05-27T09:55:44.360Z"
   },
   {
    "duration": 0,
    "start_time": "2023-05-27T09:55:44.361Z"
   },
   {
    "duration": 0,
    "start_time": "2023-05-27T09:55:44.363Z"
   },
   {
    "duration": 1378,
    "start_time": "2023-05-27T09:56:33.589Z"
   },
   {
    "duration": 683,
    "start_time": "2023-05-27T09:56:34.969Z"
   },
   {
    "duration": 218,
    "start_time": "2023-05-27T09:56:35.654Z"
   },
   {
    "duration": 686,
    "start_time": "2023-05-27T09:56:35.874Z"
   },
   {
    "duration": 8,
    "start_time": "2023-05-27T09:56:36.561Z"
   },
   {
    "duration": 15,
    "start_time": "2023-05-27T09:56:36.570Z"
   },
   {
    "duration": 9,
    "start_time": "2023-05-27T09:56:36.587Z"
   },
   {
    "duration": 50,
    "start_time": "2023-05-27T09:56:36.597Z"
   },
   {
    "duration": 203,
    "start_time": "2023-05-27T09:56:36.648Z"
   },
   {
    "duration": 192,
    "start_time": "2023-05-27T09:56:36.854Z"
   },
   {
    "duration": 185,
    "start_time": "2023-05-27T09:56:37.048Z"
   },
   {
    "duration": 723,
    "start_time": "2023-05-27T09:56:37.235Z"
   },
   {
    "duration": 2183,
    "start_time": "2023-05-27T09:56:37.960Z"
   },
   {
    "duration": 104,
    "start_time": "2023-05-27T09:56:40.144Z"
   },
   {
    "duration": 5,
    "start_time": "2023-05-27T09:56:40.250Z"
   },
   {
    "duration": 34,
    "start_time": "2023-05-27T09:56:40.256Z"
   },
   {
    "duration": 115,
    "start_time": "2023-05-27T09:56:40.291Z"
   },
   {
    "duration": 5,
    "start_time": "2023-05-27T09:56:40.408Z"
   },
   {
    "duration": 11,
    "start_time": "2023-05-27T09:56:40.425Z"
   },
   {
    "duration": 9,
    "start_time": "2023-05-27T09:56:40.437Z"
   },
   {
    "duration": 25,
    "start_time": "2023-05-27T09:56:40.448Z"
   },
   {
    "duration": 16,
    "start_time": "2023-05-27T09:56:40.475Z"
   },
   {
    "duration": 21,
    "start_time": "2023-05-27T09:56:40.493Z"
   },
   {
    "duration": 113,
    "start_time": "2023-05-27T09:56:40.515Z"
   },
   {
    "duration": 0,
    "start_time": "2023-05-27T09:56:40.630Z"
   },
   {
    "duration": 0,
    "start_time": "2023-05-27T09:56:40.631Z"
   },
   {
    "duration": 0,
    "start_time": "2023-05-27T09:56:40.632Z"
   },
   {
    "duration": 0,
    "start_time": "2023-05-27T09:56:40.634Z"
   },
   {
    "duration": 0,
    "start_time": "2023-05-27T09:56:40.635Z"
   },
   {
    "duration": 1,
    "start_time": "2023-05-27T09:56:40.636Z"
   },
   {
    "duration": 0,
    "start_time": "2023-05-27T09:56:40.637Z"
   },
   {
    "duration": 1312,
    "start_time": "2023-05-27T09:58:08.983Z"
   },
   {
    "duration": 614,
    "start_time": "2023-05-27T09:58:10.297Z"
   },
   {
    "duration": 191,
    "start_time": "2023-05-27T09:58:10.913Z"
   },
   {
    "duration": 661,
    "start_time": "2023-05-27T09:58:11.105Z"
   },
   {
    "duration": 8,
    "start_time": "2023-05-27T09:58:11.768Z"
   },
   {
    "duration": 40,
    "start_time": "2023-05-27T09:58:11.777Z"
   },
   {
    "duration": 12,
    "start_time": "2023-05-27T09:58:11.819Z"
   },
   {
    "duration": 25,
    "start_time": "2023-05-27T09:58:11.832Z"
   },
   {
    "duration": 188,
    "start_time": "2023-05-27T09:58:11.859Z"
   },
   {
    "duration": 167,
    "start_time": "2023-05-27T09:58:12.049Z"
   },
   {
    "duration": 161,
    "start_time": "2023-05-27T09:58:12.217Z"
   },
   {
    "duration": 640,
    "start_time": "2023-05-27T09:58:12.379Z"
   },
   {
    "duration": 2222,
    "start_time": "2023-05-27T09:58:13.021Z"
   },
   {
    "duration": 93,
    "start_time": "2023-05-27T09:58:15.245Z"
   },
   {
    "duration": 5,
    "start_time": "2023-05-27T09:58:15.340Z"
   },
   {
    "duration": 22,
    "start_time": "2023-05-27T09:58:15.346Z"
   },
   {
    "duration": 99,
    "start_time": "2023-05-27T09:58:15.370Z"
   },
   {
    "duration": 5,
    "start_time": "2023-05-27T09:58:15.472Z"
   },
   {
    "duration": 16,
    "start_time": "2023-05-27T09:58:15.478Z"
   },
   {
    "duration": 4,
    "start_time": "2023-05-27T09:58:15.496Z"
   },
   {
    "duration": 33,
    "start_time": "2023-05-27T09:58:15.501Z"
   },
   {
    "duration": 16,
    "start_time": "2023-05-27T09:58:15.536Z"
   },
   {
    "duration": 10,
    "start_time": "2023-05-27T09:58:15.554Z"
   },
   {
    "duration": 3,
    "start_time": "2023-05-27T09:58:15.565Z"
   },
   {
    "duration": 8,
    "start_time": "2023-05-27T09:58:15.569Z"
   },
   {
    "duration": 2651,
    "start_time": "2023-05-27T09:58:15.579Z"
   },
   {
    "duration": 9200,
    "start_time": "2023-05-27T09:58:18.232Z"
   },
   {
    "duration": 1360,
    "start_time": "2023-05-27T10:05:47.043Z"
   },
   {
    "duration": 675,
    "start_time": "2023-05-27T10:05:48.404Z"
   },
   {
    "duration": 225,
    "start_time": "2023-05-27T10:05:49.080Z"
   },
   {
    "duration": 830,
    "start_time": "2023-05-27T10:05:49.307Z"
   },
   {
    "duration": 11,
    "start_time": "2023-05-27T10:05:50.140Z"
   },
   {
    "duration": 42,
    "start_time": "2023-05-27T10:05:50.153Z"
   },
   {
    "duration": 16,
    "start_time": "2023-05-27T10:05:50.197Z"
   },
   {
    "duration": 35,
    "start_time": "2023-05-27T10:05:50.215Z"
   },
   {
    "duration": 222,
    "start_time": "2023-05-27T10:05:50.253Z"
   },
   {
    "duration": 190,
    "start_time": "2023-05-27T10:05:50.478Z"
   },
   {
    "duration": 195,
    "start_time": "2023-05-27T10:05:50.670Z"
   },
   {
    "duration": 701,
    "start_time": "2023-05-27T10:05:50.867Z"
   },
   {
    "duration": 2145,
    "start_time": "2023-05-27T10:05:51.570Z"
   },
   {
    "duration": 102,
    "start_time": "2023-05-27T10:05:53.717Z"
   },
   {
    "duration": 19,
    "start_time": "2023-05-27T10:05:53.820Z"
   },
   {
    "duration": 15,
    "start_time": "2023-05-27T10:05:53.842Z"
   },
   {
    "duration": 115,
    "start_time": "2023-05-27T10:05:53.858Z"
   },
   {
    "duration": 4,
    "start_time": "2023-05-27T10:05:53.975Z"
   },
   {
    "duration": 26,
    "start_time": "2023-05-27T10:05:53.981Z"
   },
   {
    "duration": 48,
    "start_time": "2023-05-27T10:05:54.009Z"
   },
   {
    "duration": 8,
    "start_time": "2023-05-27T10:05:54.060Z"
   },
   {
    "duration": 15,
    "start_time": "2023-05-27T10:05:54.070Z"
   },
   {
    "duration": 22,
    "start_time": "2023-05-27T10:05:54.087Z"
   },
   {
    "duration": 7,
    "start_time": "2023-05-27T10:05:54.111Z"
   },
   {
    "duration": 17,
    "start_time": "2023-05-27T10:05:54.120Z"
   },
   {
    "duration": 4388,
    "start_time": "2023-05-27T10:05:54.139Z"
   },
   {
    "duration": 9738,
    "start_time": "2023-05-27T10:05:58.531Z"
   },
   {
    "duration": 491287,
    "start_time": "2023-05-27T10:06:08.272Z"
   },
   {
    "duration": 6,
    "start_time": "2023-05-27T10:14:19.560Z"
   },
   {
    "duration": 86,
    "start_time": "2023-05-27T10:14:19.568Z"
   },
   {
    "duration": 6,
    "start_time": "2023-05-27T10:14:19.655Z"
   },
   {
    "duration": 48,
    "start_time": "2023-05-27T10:15:12.438Z"
   },
   {
    "duration": 64,
    "start_time": "2023-05-27T10:15:25.194Z"
   },
   {
    "duration": 50,
    "start_time": "2023-05-27T10:17:59.844Z"
   }
  ],
  "kernelspec": {
   "display_name": "Python 3 (ipykernel)",
   "language": "python",
   "name": "python3"
  },
  "language_info": {
   "codemirror_mode": {
    "name": "ipython",
    "version": 3
   },
   "file_extension": ".py",
   "mimetype": "text/x-python",
   "name": "python",
   "nbconvert_exporter": "python",
   "pygments_lexer": "ipython3",
   "version": "3.9.5"
  },
  "toc": {
   "base_numbering": 1,
   "nav_menu": {},
   "number_sections": true,
   "sideBar": true,
   "skip_h1_title": true,
   "title_cell": "Содержание",
   "title_sidebar": "Contents",
   "toc_cell": true,
   "toc_position": {},
   "toc_section_display": true,
   "toc_window_display": true
  }
 },
 "nbformat": 4,
 "nbformat_minor": 2
}
