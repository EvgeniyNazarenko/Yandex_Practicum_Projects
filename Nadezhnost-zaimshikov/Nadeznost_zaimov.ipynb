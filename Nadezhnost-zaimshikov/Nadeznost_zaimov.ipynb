{
 "cells": [
  {
   "cell_type": "markdown",
   "id": "ccd2dce1",
   "metadata": {
    "deletable": false,
    "editable": false,
    "id": "c81daeeb"
   },
   "source": [
    "# Исследование надежности заемщиков\n"
   ]
  },
  {
   "cell_type": "markdown",
   "id": "9b310814",
   "metadata": {
    "deletable": false,
    "editable": false,
    "id": "827c20bf"
   },
   "source": [
    "Во второй части проекта вы выполните шаги 3 и 4. Их вручную проверит ревьюер.\n",
    "Чтобы вам не пришлось писать код заново для шагов 1 и 2, мы добавили авторские решения в ячейки с кодом. \n",
    "\n"
   ]
  },
  {
   "cell_type": "markdown",
   "id": "84ede9fe",
   "metadata": {
    "deletable": false,
    "editable": false,
    "id": "744d7639"
   },
   "source": [
    "## Откройте таблицу и изучите общую информацию о данных"
   ]
  },
  {
   "cell_type": "markdown",
   "id": "c44a5a7a",
   "metadata": {
    "deletable": false,
    "editable": false,
    "id": "e7a14c31"
   },
   "source": [
    "**Задание 1. Импортируйте библиотеку pandas. Считайте данные из csv-файла в датафрейм и сохраните в переменную `data`. Путь к файлу:**\n",
    "\n",
    "`/datasets/data.csv`"
   ]
  },
  {
   "cell_type": "code",
   "execution_count": 1,
   "id": "b48f5a26",
   "metadata": {
    "deletable": false,
    "id": "7bcf75c9"
   },
   "outputs": [],
   "source": [
    "import pandas as pd\n",
    "\n",
    "try:\n",
    "    data = pd.read_csv('/datasets/data.csv')\n",
    "except:\n",
    "    data = pd.read_csv('https://code.s3.yandex.net/datasets/data.csv')"
   ]
  },
  {
   "cell_type": "markdown",
   "id": "d3ae2965",
   "metadata": {
    "deletable": false,
    "editable": false,
    "id": "b8038fe3"
   },
   "source": [
    "**Задание 2. Выведите первые 20 строчек датафрейма `data` на экран.**"
   ]
  },
  {
   "cell_type": "code",
   "execution_count": 2,
   "id": "d035e9c7",
   "metadata": {
    "deletable": false,
    "id": "2a7cab99",
    "outputId": "1a8f3ef2-d323-4ec2-ddf7-89670b5944c4"
   },
   "outputs": [
    {
     "data": {
      "text/html": [
       "<div>\n",
       "<style scoped>\n",
       "    .dataframe tbody tr th:only-of-type {\n",
       "        vertical-align: middle;\n",
       "    }\n",
       "\n",
       "    .dataframe tbody tr th {\n",
       "        vertical-align: top;\n",
       "    }\n",
       "\n",
       "    .dataframe thead th {\n",
       "        text-align: right;\n",
       "    }\n",
       "</style>\n",
       "<table border=\"1\" class=\"dataframe\">\n",
       "  <thead>\n",
       "    <tr style=\"text-align: right;\">\n",
       "      <th></th>\n",
       "      <th>children</th>\n",
       "      <th>days_employed</th>\n",
       "      <th>dob_years</th>\n",
       "      <th>education</th>\n",
       "      <th>education_id</th>\n",
       "      <th>family_status</th>\n",
       "      <th>family_status_id</th>\n",
       "      <th>gender</th>\n",
       "      <th>income_type</th>\n",
       "      <th>debt</th>\n",
       "      <th>total_income</th>\n",
       "      <th>purpose</th>\n",
       "    </tr>\n",
       "  </thead>\n",
       "  <tbody>\n",
       "    <tr>\n",
       "      <th>0</th>\n",
       "      <td>1</td>\n",
       "      <td>-8437.673028</td>\n",
       "      <td>42</td>\n",
       "      <td>высшее</td>\n",
       "      <td>0</td>\n",
       "      <td>женат / замужем</td>\n",
       "      <td>0</td>\n",
       "      <td>F</td>\n",
       "      <td>сотрудник</td>\n",
       "      <td>0</td>\n",
       "      <td>253875.639453</td>\n",
       "      <td>покупка жилья</td>\n",
       "    </tr>\n",
       "    <tr>\n",
       "      <th>1</th>\n",
       "      <td>1</td>\n",
       "      <td>-4024.803754</td>\n",
       "      <td>36</td>\n",
       "      <td>среднее</td>\n",
       "      <td>1</td>\n",
       "      <td>женат / замужем</td>\n",
       "      <td>0</td>\n",
       "      <td>F</td>\n",
       "      <td>сотрудник</td>\n",
       "      <td>0</td>\n",
       "      <td>112080.014102</td>\n",
       "      <td>приобретение автомобиля</td>\n",
       "    </tr>\n",
       "    <tr>\n",
       "      <th>2</th>\n",
       "      <td>0</td>\n",
       "      <td>-5623.422610</td>\n",
       "      <td>33</td>\n",
       "      <td>Среднее</td>\n",
       "      <td>1</td>\n",
       "      <td>женат / замужем</td>\n",
       "      <td>0</td>\n",
       "      <td>M</td>\n",
       "      <td>сотрудник</td>\n",
       "      <td>0</td>\n",
       "      <td>145885.952297</td>\n",
       "      <td>покупка жилья</td>\n",
       "    </tr>\n",
       "    <tr>\n",
       "      <th>3</th>\n",
       "      <td>3</td>\n",
       "      <td>-4124.747207</td>\n",
       "      <td>32</td>\n",
       "      <td>среднее</td>\n",
       "      <td>1</td>\n",
       "      <td>женат / замужем</td>\n",
       "      <td>0</td>\n",
       "      <td>M</td>\n",
       "      <td>сотрудник</td>\n",
       "      <td>0</td>\n",
       "      <td>267628.550329</td>\n",
       "      <td>дополнительное образование</td>\n",
       "    </tr>\n",
       "    <tr>\n",
       "      <th>4</th>\n",
       "      <td>0</td>\n",
       "      <td>340266.072047</td>\n",
       "      <td>53</td>\n",
       "      <td>среднее</td>\n",
       "      <td>1</td>\n",
       "      <td>гражданский брак</td>\n",
       "      <td>1</td>\n",
       "      <td>F</td>\n",
       "      <td>пенсионер</td>\n",
       "      <td>0</td>\n",
       "      <td>158616.077870</td>\n",
       "      <td>сыграть свадьбу</td>\n",
       "    </tr>\n",
       "    <tr>\n",
       "      <th>5</th>\n",
       "      <td>0</td>\n",
       "      <td>-926.185831</td>\n",
       "      <td>27</td>\n",
       "      <td>высшее</td>\n",
       "      <td>0</td>\n",
       "      <td>гражданский брак</td>\n",
       "      <td>1</td>\n",
       "      <td>M</td>\n",
       "      <td>компаньон</td>\n",
       "      <td>0</td>\n",
       "      <td>255763.565419</td>\n",
       "      <td>покупка жилья</td>\n",
       "    </tr>\n",
       "    <tr>\n",
       "      <th>6</th>\n",
       "      <td>0</td>\n",
       "      <td>-2879.202052</td>\n",
       "      <td>43</td>\n",
       "      <td>высшее</td>\n",
       "      <td>0</td>\n",
       "      <td>женат / замужем</td>\n",
       "      <td>0</td>\n",
       "      <td>F</td>\n",
       "      <td>компаньон</td>\n",
       "      <td>0</td>\n",
       "      <td>240525.971920</td>\n",
       "      <td>операции с жильем</td>\n",
       "    </tr>\n",
       "    <tr>\n",
       "      <th>7</th>\n",
       "      <td>0</td>\n",
       "      <td>-152.779569</td>\n",
       "      <td>50</td>\n",
       "      <td>СРЕДНЕЕ</td>\n",
       "      <td>1</td>\n",
       "      <td>женат / замужем</td>\n",
       "      <td>0</td>\n",
       "      <td>M</td>\n",
       "      <td>сотрудник</td>\n",
       "      <td>0</td>\n",
       "      <td>135823.934197</td>\n",
       "      <td>образование</td>\n",
       "    </tr>\n",
       "    <tr>\n",
       "      <th>8</th>\n",
       "      <td>2</td>\n",
       "      <td>-6929.865299</td>\n",
       "      <td>35</td>\n",
       "      <td>ВЫСШЕЕ</td>\n",
       "      <td>0</td>\n",
       "      <td>гражданский брак</td>\n",
       "      <td>1</td>\n",
       "      <td>F</td>\n",
       "      <td>сотрудник</td>\n",
       "      <td>0</td>\n",
       "      <td>95856.832424</td>\n",
       "      <td>на проведение свадьбы</td>\n",
       "    </tr>\n",
       "    <tr>\n",
       "      <th>9</th>\n",
       "      <td>0</td>\n",
       "      <td>-2188.756445</td>\n",
       "      <td>41</td>\n",
       "      <td>среднее</td>\n",
       "      <td>1</td>\n",
       "      <td>женат / замужем</td>\n",
       "      <td>0</td>\n",
       "      <td>M</td>\n",
       "      <td>сотрудник</td>\n",
       "      <td>0</td>\n",
       "      <td>144425.938277</td>\n",
       "      <td>покупка жилья для семьи</td>\n",
       "    </tr>\n",
       "    <tr>\n",
       "      <th>10</th>\n",
       "      <td>2</td>\n",
       "      <td>-4171.483647</td>\n",
       "      <td>36</td>\n",
       "      <td>высшее</td>\n",
       "      <td>0</td>\n",
       "      <td>женат / замужем</td>\n",
       "      <td>0</td>\n",
       "      <td>M</td>\n",
       "      <td>компаньон</td>\n",
       "      <td>0</td>\n",
       "      <td>113943.491460</td>\n",
       "      <td>покупка недвижимости</td>\n",
       "    </tr>\n",
       "    <tr>\n",
       "      <th>11</th>\n",
       "      <td>0</td>\n",
       "      <td>-792.701887</td>\n",
       "      <td>40</td>\n",
       "      <td>среднее</td>\n",
       "      <td>1</td>\n",
       "      <td>женат / замужем</td>\n",
       "      <td>0</td>\n",
       "      <td>F</td>\n",
       "      <td>сотрудник</td>\n",
       "      <td>0</td>\n",
       "      <td>77069.234271</td>\n",
       "      <td>покупка коммерческой недвижимости</td>\n",
       "    </tr>\n",
       "    <tr>\n",
       "      <th>12</th>\n",
       "      <td>0</td>\n",
       "      <td>NaN</td>\n",
       "      <td>65</td>\n",
       "      <td>среднее</td>\n",
       "      <td>1</td>\n",
       "      <td>гражданский брак</td>\n",
       "      <td>1</td>\n",
       "      <td>M</td>\n",
       "      <td>пенсионер</td>\n",
       "      <td>0</td>\n",
       "      <td>NaN</td>\n",
       "      <td>сыграть свадьбу</td>\n",
       "    </tr>\n",
       "    <tr>\n",
       "      <th>13</th>\n",
       "      <td>0</td>\n",
       "      <td>-1846.641941</td>\n",
       "      <td>54</td>\n",
       "      <td>неоконченное высшее</td>\n",
       "      <td>2</td>\n",
       "      <td>женат / замужем</td>\n",
       "      <td>0</td>\n",
       "      <td>F</td>\n",
       "      <td>сотрудник</td>\n",
       "      <td>0</td>\n",
       "      <td>130458.228857</td>\n",
       "      <td>приобретение автомобиля</td>\n",
       "    </tr>\n",
       "    <tr>\n",
       "      <th>14</th>\n",
       "      <td>0</td>\n",
       "      <td>-1844.956182</td>\n",
       "      <td>56</td>\n",
       "      <td>высшее</td>\n",
       "      <td>0</td>\n",
       "      <td>гражданский брак</td>\n",
       "      <td>1</td>\n",
       "      <td>F</td>\n",
       "      <td>компаньон</td>\n",
       "      <td>1</td>\n",
       "      <td>165127.911772</td>\n",
       "      <td>покупка жилой недвижимости</td>\n",
       "    </tr>\n",
       "    <tr>\n",
       "      <th>15</th>\n",
       "      <td>1</td>\n",
       "      <td>-972.364419</td>\n",
       "      <td>26</td>\n",
       "      <td>среднее</td>\n",
       "      <td>1</td>\n",
       "      <td>женат / замужем</td>\n",
       "      <td>0</td>\n",
       "      <td>F</td>\n",
       "      <td>сотрудник</td>\n",
       "      <td>0</td>\n",
       "      <td>116820.904450</td>\n",
       "      <td>строительство собственной недвижимости</td>\n",
       "    </tr>\n",
       "    <tr>\n",
       "      <th>16</th>\n",
       "      <td>0</td>\n",
       "      <td>-1719.934226</td>\n",
       "      <td>35</td>\n",
       "      <td>среднее</td>\n",
       "      <td>1</td>\n",
       "      <td>женат / замужем</td>\n",
       "      <td>0</td>\n",
       "      <td>F</td>\n",
       "      <td>сотрудник</td>\n",
       "      <td>0</td>\n",
       "      <td>289202.704229</td>\n",
       "      <td>недвижимость</td>\n",
       "    </tr>\n",
       "    <tr>\n",
       "      <th>17</th>\n",
       "      <td>0</td>\n",
       "      <td>-2369.999720</td>\n",
       "      <td>33</td>\n",
       "      <td>высшее</td>\n",
       "      <td>0</td>\n",
       "      <td>гражданский брак</td>\n",
       "      <td>1</td>\n",
       "      <td>M</td>\n",
       "      <td>сотрудник</td>\n",
       "      <td>0</td>\n",
       "      <td>90410.586745</td>\n",
       "      <td>строительство недвижимости</td>\n",
       "    </tr>\n",
       "    <tr>\n",
       "      <th>18</th>\n",
       "      <td>0</td>\n",
       "      <td>400281.136913</td>\n",
       "      <td>53</td>\n",
       "      <td>среднее</td>\n",
       "      <td>1</td>\n",
       "      <td>вдовец / вдова</td>\n",
       "      <td>2</td>\n",
       "      <td>F</td>\n",
       "      <td>пенсионер</td>\n",
       "      <td>0</td>\n",
       "      <td>56823.777243</td>\n",
       "      <td>на покупку подержанного автомобиля</td>\n",
       "    </tr>\n",
       "    <tr>\n",
       "      <th>19</th>\n",
       "      <td>0</td>\n",
       "      <td>-10038.818549</td>\n",
       "      <td>48</td>\n",
       "      <td>СРЕДНЕЕ</td>\n",
       "      <td>1</td>\n",
       "      <td>в разводе</td>\n",
       "      <td>3</td>\n",
       "      <td>F</td>\n",
       "      <td>сотрудник</td>\n",
       "      <td>0</td>\n",
       "      <td>242831.107982</td>\n",
       "      <td>на покупку своего автомобиля</td>\n",
       "    </tr>\n",
       "  </tbody>\n",
       "</table>\n",
       "</div>"
      ],
      "text/plain": [
       "    children  days_employed  dob_years            education  education_id  \\\n",
       "0          1   -8437.673028         42               высшее             0   \n",
       "1          1   -4024.803754         36              среднее             1   \n",
       "2          0   -5623.422610         33              Среднее             1   \n",
       "3          3   -4124.747207         32              среднее             1   \n",
       "4          0  340266.072047         53              среднее             1   \n",
       "5          0    -926.185831         27               высшее             0   \n",
       "6          0   -2879.202052         43               высшее             0   \n",
       "7          0    -152.779569         50              СРЕДНЕЕ             1   \n",
       "8          2   -6929.865299         35               ВЫСШЕЕ             0   \n",
       "9          0   -2188.756445         41              среднее             1   \n",
       "10         2   -4171.483647         36               высшее             0   \n",
       "11         0    -792.701887         40              среднее             1   \n",
       "12         0            NaN         65              среднее             1   \n",
       "13         0   -1846.641941         54  неоконченное высшее             2   \n",
       "14         0   -1844.956182         56               высшее             0   \n",
       "15         1    -972.364419         26              среднее             1   \n",
       "16         0   -1719.934226         35              среднее             1   \n",
       "17         0   -2369.999720         33               высшее             0   \n",
       "18         0  400281.136913         53              среднее             1   \n",
       "19         0  -10038.818549         48              СРЕДНЕЕ             1   \n",
       "\n",
       "       family_status  family_status_id gender income_type  debt  \\\n",
       "0    женат / замужем                 0      F   сотрудник     0   \n",
       "1    женат / замужем                 0      F   сотрудник     0   \n",
       "2    женат / замужем                 0      M   сотрудник     0   \n",
       "3    женат / замужем                 0      M   сотрудник     0   \n",
       "4   гражданский брак                 1      F   пенсионер     0   \n",
       "5   гражданский брак                 1      M   компаньон     0   \n",
       "6    женат / замужем                 0      F   компаньон     0   \n",
       "7    женат / замужем                 0      M   сотрудник     0   \n",
       "8   гражданский брак                 1      F   сотрудник     0   \n",
       "9    женат / замужем                 0      M   сотрудник     0   \n",
       "10   женат / замужем                 0      M   компаньон     0   \n",
       "11   женат / замужем                 0      F   сотрудник     0   \n",
       "12  гражданский брак                 1      M   пенсионер     0   \n",
       "13   женат / замужем                 0      F   сотрудник     0   \n",
       "14  гражданский брак                 1      F   компаньон     1   \n",
       "15   женат / замужем                 0      F   сотрудник     0   \n",
       "16   женат / замужем                 0      F   сотрудник     0   \n",
       "17  гражданский брак                 1      M   сотрудник     0   \n",
       "18    вдовец / вдова                 2      F   пенсионер     0   \n",
       "19         в разводе                 3      F   сотрудник     0   \n",
       "\n",
       "     total_income                                 purpose  \n",
       "0   253875.639453                           покупка жилья  \n",
       "1   112080.014102                 приобретение автомобиля  \n",
       "2   145885.952297                           покупка жилья  \n",
       "3   267628.550329              дополнительное образование  \n",
       "4   158616.077870                         сыграть свадьбу  \n",
       "5   255763.565419                           покупка жилья  \n",
       "6   240525.971920                       операции с жильем  \n",
       "7   135823.934197                             образование  \n",
       "8    95856.832424                   на проведение свадьбы  \n",
       "9   144425.938277                 покупка жилья для семьи  \n",
       "10  113943.491460                    покупка недвижимости  \n",
       "11   77069.234271       покупка коммерческой недвижимости  \n",
       "12            NaN                         сыграть свадьбу  \n",
       "13  130458.228857                 приобретение автомобиля  \n",
       "14  165127.911772              покупка жилой недвижимости  \n",
       "15  116820.904450  строительство собственной недвижимости  \n",
       "16  289202.704229                            недвижимость  \n",
       "17   90410.586745              строительство недвижимости  \n",
       "18   56823.777243      на покупку подержанного автомобиля  \n",
       "19  242831.107982            на покупку своего автомобиля  "
      ]
     },
     "execution_count": 2,
     "metadata": {},
     "output_type": "execute_result"
    }
   ],
   "source": [
    "data.head(20)"
   ]
  },
  {
   "cell_type": "markdown",
   "id": "e945b31e",
   "metadata": {
    "deletable": false,
    "editable": false,
    "id": "1c12e233"
   },
   "source": [
    "**Задание 3. Выведите основную информацию о датафрейме с помощью метода `info()`.**"
   ]
  },
  {
   "cell_type": "code",
   "execution_count": 3,
   "id": "039ece26",
   "metadata": {
    "deletable": false,
    "id": "2b757bca",
    "outputId": "15376089-8dad-46c9-b520-c05248d43158"
   },
   "outputs": [
    {
     "name": "stdout",
     "output_type": "stream",
     "text": [
      "<class 'pandas.core.frame.DataFrame'>\n",
      "RangeIndex: 21525 entries, 0 to 21524\n",
      "Data columns (total 12 columns):\n",
      " #   Column            Non-Null Count  Dtype  \n",
      "---  ------            --------------  -----  \n",
      " 0   children          21525 non-null  int64  \n",
      " 1   days_employed     19351 non-null  float64\n",
      " 2   dob_years         21525 non-null  int64  \n",
      " 3   education         21525 non-null  object \n",
      " 4   education_id      21525 non-null  int64  \n",
      " 5   family_status     21525 non-null  object \n",
      " 6   family_status_id  21525 non-null  int64  \n",
      " 7   gender            21525 non-null  object \n",
      " 8   income_type       21525 non-null  object \n",
      " 9   debt              21525 non-null  int64  \n",
      " 10  total_income      19351 non-null  float64\n",
      " 11  purpose           21525 non-null  object \n",
      "dtypes: float64(2), int64(5), object(5)\n",
      "memory usage: 2.0+ MB\n"
     ]
    }
   ],
   "source": [
    "data.info()"
   ]
  },
  {
   "cell_type": "markdown",
   "id": "51c7afa0",
   "metadata": {
    "deletable": false,
    "editable": false,
    "id": "333ec665"
   },
   "source": [
    "## Предобработка данных"
   ]
  },
  {
   "cell_type": "markdown",
   "id": "231f263e",
   "metadata": {
    "deletable": false,
    "editable": false,
    "id": "02d92d53"
   },
   "source": [
    "### Удаление пропусков"
   ]
  },
  {
   "cell_type": "markdown",
   "id": "e74e5a28",
   "metadata": {
    "deletable": false,
    "editable": false,
    "id": "cd84967c"
   },
   "source": [
    "**Задание 4. Выведите количество пропущенных значений для каждого столбца. Используйте комбинацию двух методов.**"
   ]
  },
  {
   "cell_type": "code",
   "execution_count": 4,
   "id": "fff2ce08",
   "metadata": {
    "deletable": false,
    "id": "7f9b2309",
    "outputId": "81f4d817-781c-465c-ed15-91ce4446810d"
   },
   "outputs": [
    {
     "data": {
      "text/plain": [
       "children               0\n",
       "days_employed       2174\n",
       "dob_years              0\n",
       "education              0\n",
       "education_id           0\n",
       "family_status          0\n",
       "family_status_id       0\n",
       "gender                 0\n",
       "income_type            0\n",
       "debt                   0\n",
       "total_income        2174\n",
       "purpose                0\n",
       "dtype: int64"
      ]
     },
     "execution_count": 4,
     "metadata": {},
     "output_type": "execute_result"
    }
   ],
   "source": [
    "data.isna().sum()"
   ]
  },
  {
   "cell_type": "markdown",
   "id": "13cefb23",
   "metadata": {
    "deletable": false,
    "editable": false,
    "id": "db86e27b"
   },
   "source": [
    "**Задание 5. В двух столбцах есть пропущенные значения. Один из них — `days_employed`. Пропуски в этом столбце вы обработаете на следующем этапе. Другой столбец с пропущенными значениями — `total_income` — хранит данные о доходах. На сумму дохода сильнее всего влияет тип занятости, поэтому заполнить пропуски в этом столбце нужно медианным значением по каждому типу из столбца `income_type`. Например, у человека с типом занятости `сотрудник` пропуск в столбце `total_income` должен быть заполнен медианным доходом среди всех записей с тем же типом.**"
   ]
  },
  {
   "cell_type": "code",
   "execution_count": 5,
   "id": "facad66a",
   "metadata": {
    "deletable": false,
    "id": "42006a93"
   },
   "outputs": [],
   "source": [
    "for t in data['income_type'].unique():\n",
    "    data.loc[(data['income_type'] == t) & (data['total_income'].isna()), 'total_income'] = \\\n",
    "    data.loc[(data['income_type'] == t), 'total_income'].median()"
   ]
  },
  {
   "cell_type": "markdown",
   "id": "cdfeaac9",
   "metadata": {
    "deletable": false,
    "editable": false,
    "id": "89da5ece"
   },
   "source": [
    "### Обработка аномальных значений"
   ]
  },
  {
   "cell_type": "markdown",
   "id": "ca18252b",
   "metadata": {
    "deletable": false,
    "editable": false,
    "id": "57964554"
   },
   "source": [
    "**Задание 6. В данных могут встречаться артефакты (аномалии) — значения, которые не отражают действительность и появились по какой-то ошибке. таким артефактом будет отрицательное количество дней трудового стажа в столбце `days_employed`. Для реальных данных это нормально. Обработайте значения в этом столбце: замените все отрицательные значения положительными с помощью метода `abs()`.**"
   ]
  },
  {
   "cell_type": "code",
   "execution_count": 6,
   "id": "19f4dd1a",
   "metadata": {
    "deletable": false,
    "id": "f6f055bf"
   },
   "outputs": [],
   "source": [
    "data['days_employed'] = data['days_employed'].abs()"
   ]
  },
  {
   "cell_type": "markdown",
   "id": "2382b9a2",
   "metadata": {
    "deletable": false,
    "editable": false,
    "id": "6107dd2f"
   },
   "source": [
    "**Задание 7. Для каждого типа занятости выведите медианное значение трудового стажа `days_employed` в днях.**"
   ]
  },
  {
   "cell_type": "code",
   "execution_count": 7,
   "id": "68bb98dc",
   "metadata": {
    "deletable": false,
    "id": "85a5faf6",
    "outputId": "801ef80e-522b-4668-f34e-565af7432bcf"
   },
   "outputs": [
    {
     "data": {
      "text/plain": [
       "income_type\n",
       "безработный        366413.652744\n",
       "в декрете            3296.759962\n",
       "госслужащий          2689.368353\n",
       "компаньон            1547.382223\n",
       "пенсионер          365213.306266\n",
       "предприниматель       520.848083\n",
       "сотрудник            1574.202821\n",
       "студент               578.751554\n",
       "Name: days_employed, dtype: float64"
      ]
     },
     "execution_count": 7,
     "metadata": {},
     "output_type": "execute_result"
    }
   ],
   "source": [
    "data.groupby('income_type')['days_employed'].agg('median')"
   ]
  },
  {
   "cell_type": "markdown",
   "id": "ab3d0312",
   "metadata": {
    "deletable": false,
    "editable": false,
    "id": "38d1a030"
   },
   "source": [
    "У двух типов (безработные и пенсионеры) получатся аномально большие значения. Исправить такие значения сложно, поэтому оставьте их как есть. Тем более этот столбец не понадобится вам для исследования."
   ]
  },
  {
   "cell_type": "markdown",
   "id": "32f9eab4",
   "metadata": {
    "deletable": false,
    "editable": false,
    "id": "d8a9f147"
   },
   "source": [
    "**Задание 8. Выведите перечень уникальных значений столбца `children`.**"
   ]
  },
  {
   "cell_type": "code",
   "execution_count": 8,
   "id": "9d364ea7",
   "metadata": {
    "deletable": false,
    "id": "ef5056eb",
    "outputId": "6975b15c-7f95-4697-d16d-a0c79b657b03"
   },
   "outputs": [
    {
     "data": {
      "text/plain": [
       "array([ 1,  0,  3,  2, -1,  4, 20,  5])"
      ]
     },
     "execution_count": 8,
     "metadata": {},
     "output_type": "execute_result"
    }
   ],
   "source": [
    "data['children'].unique()"
   ]
  },
  {
   "cell_type": "markdown",
   "id": "5a7fbb64",
   "metadata": {
    "deletable": false,
    "editable": false,
    "id": "40b9ebf2"
   },
   "source": [
    "**Задание 9. В столбце `children` есть два аномальных значения. Удалите строки, в которых встречаются такие аномальные значения из датафрейма `data`.**"
   ]
  },
  {
   "cell_type": "code",
   "execution_count": 9,
   "id": "91db5ea9",
   "metadata": {
    "deletable": false,
    "id": "3ff9801d"
   },
   "outputs": [],
   "source": [
    "data = data[(data['children'] != -1) & (data['children'] != 20)]"
   ]
  },
  {
   "cell_type": "markdown",
   "id": "7b7c13ed",
   "metadata": {
    "deletable": false,
    "editable": false,
    "id": "bbc4d0ce"
   },
   "source": [
    "**Задание 10. Ещё раз выведите перечень уникальных значений столбца `children`, чтобы убедиться, что артефакты удалены.**"
   ]
  },
  {
   "cell_type": "code",
   "execution_count": 10,
   "id": "ee1ab66e",
   "metadata": {
    "deletable": false,
    "id": "ad4fa8b7",
    "outputId": "b2097101-d49d-44d9-901b-32a65c9463d1"
   },
   "outputs": [
    {
     "data": {
      "text/plain": [
       "array([1, 0, 3, 2, 4, 5])"
      ]
     },
     "execution_count": 10,
     "metadata": {},
     "output_type": "execute_result"
    }
   ],
   "source": [
    "data['children'].unique()"
   ]
  },
  {
   "cell_type": "markdown",
   "id": "71a0a99c",
   "metadata": {
    "deletable": false,
    "editable": false,
    "id": "75440b63"
   },
   "source": [
    "### Удаление пропусков (продолжение)"
   ]
  },
  {
   "cell_type": "markdown",
   "id": "bf37f4da",
   "metadata": {
    "deletable": false,
    "editable": false,
    "id": "f4ea573f"
   },
   "source": [
    "**Задание 11. Заполните пропуски в столбце `days_employed` медианными значениями по каждого типа занятости `income_type`.**"
   ]
  },
  {
   "cell_type": "code",
   "execution_count": 11,
   "id": "55341369",
   "metadata": {
    "deletable": false,
    "id": "af6b1a7e"
   },
   "outputs": [],
   "source": [
    "for t in data['income_type'].unique():\n",
    "    data.loc[(data['income_type'] == t) & (data['days_employed'].isna()), 'days_employed'] = \\\n",
    "    data.loc[(data['income_type'] == t), 'days_employed'].median()"
   ]
  },
  {
   "cell_type": "markdown",
   "id": "d2042792",
   "metadata": {
    "deletable": false,
    "editable": false,
    "id": "2753f40d"
   },
   "source": [
    "**Задание 12. Убедитесь, что все пропуски заполнены. Проверьте себя и ещё раз выведите количество пропущенных значений для каждого столбца с помощью двух методов.**"
   ]
  },
  {
   "cell_type": "code",
   "execution_count": 12,
   "id": "5ecd2a63",
   "metadata": {
    "deletable": false,
    "id": "55f78bc2",
    "outputId": "8da1e4e1-358e-4e87-98c9-f261bce0a7b2"
   },
   "outputs": [
    {
     "data": {
      "text/plain": [
       "children            0\n",
       "days_employed       0\n",
       "dob_years           0\n",
       "education           0\n",
       "education_id        0\n",
       "family_status       0\n",
       "family_status_id    0\n",
       "gender              0\n",
       "income_type         0\n",
       "debt                0\n",
       "total_income        0\n",
       "purpose             0\n",
       "dtype: int64"
      ]
     },
     "execution_count": 12,
     "metadata": {},
     "output_type": "execute_result"
    }
   ],
   "source": [
    "data.isna().sum()"
   ]
  },
  {
   "cell_type": "markdown",
   "id": "019465ac",
   "metadata": {
    "deletable": false,
    "editable": false,
    "id": "ddc81e43"
   },
   "source": [
    "### Изменение типов данных"
   ]
  },
  {
   "cell_type": "markdown",
   "id": "99bd1af5",
   "metadata": {
    "deletable": false,
    "editable": false,
    "id": "42d19d24"
   },
   "source": [
    "**Задание 13. Замените вещественный тип данных в столбце `total_income` на целочисленный с помощью метода `astype()`.**"
   ]
  },
  {
   "cell_type": "code",
   "execution_count": 13,
   "id": "883db130",
   "metadata": {
    "deletable": false,
    "id": "920b65ad"
   },
   "outputs": [],
   "source": [
    "data['total_income'] = data['total_income'].astype(int)"
   ]
  },
  {
   "cell_type": "markdown",
   "id": "0599d0df",
   "metadata": {
    "deletable": false,
    "editable": false,
    "id": "80c420ba"
   },
   "source": [
    "### Обработка дубликатов"
   ]
  },
  {
   "cell_type": "markdown",
   "id": "c704b0ad",
   "metadata": {
    "deletable": false,
    "editable": false
   },
   "source": [
    "**Задание 14. Обработайте неявные дубликаты в столбце `education`. В этом столбце есть одни и те же значения, но записанные по-разному: с использованием заглавных и строчных букв. Приведите их к нижнему регистру. Проверьте остальные столбцы.**"
   ]
  },
  {
   "cell_type": "code",
   "execution_count": 14,
   "id": "26f64b39",
   "metadata": {
    "deletable": false
   },
   "outputs": [],
   "source": [
    "data['education'] = data['education'].str.lower()"
   ]
  },
  {
   "cell_type": "markdown",
   "id": "1d56bce0",
   "metadata": {
    "deletable": false,
    "editable": false,
    "id": "dc587695"
   },
   "source": [
    "**Задание 15. Выведите на экран количество строк-дубликатов в данных. Если такие строки присутствуют, удалите их.**"
   ]
  },
  {
   "cell_type": "code",
   "execution_count": 15,
   "id": "dfce04cd",
   "metadata": {
    "deletable": false,
    "id": "3ee445e4",
    "outputId": "9684deba-1934-42d1-99e1-cda61740f822"
   },
   "outputs": [
    {
     "data": {
      "text/plain": [
       "71"
      ]
     },
     "execution_count": 15,
     "metadata": {},
     "output_type": "execute_result"
    }
   ],
   "source": [
    "data.duplicated().sum()"
   ]
  },
  {
   "cell_type": "code",
   "execution_count": 16,
   "id": "ab78ebf8",
   "metadata": {
    "deletable": false,
    "id": "8575fe05"
   },
   "outputs": [],
   "source": [
    "data = data.drop_duplicates()"
   ]
  },
  {
   "cell_type": "markdown",
   "id": "5b925914",
   "metadata": {
    "deletable": false,
    "editable": false,
    "id": "9904cf55"
   },
   "source": [
    "### Категоризация данных"
   ]
  },
  {
   "cell_type": "markdown",
   "id": "9d1bda97",
   "metadata": {
    "deletable": false,
    "editable": false,
    "id": "72fcc8a2"
   },
   "source": [
    "**Задание 16. На основании диапазонов, указанных ниже, создайте в датафрейме `data` столбец `total_income_category` с категориями:**\n",
    "\n",
    "- 0–30000 — `'E'`;\n",
    "- 30001–50000 — `'D'`;\n",
    "- 50001–200000 — `'C'`;\n",
    "- 200001–1000000 — `'B'`;\n",
    "- 1000001 и выше — `'A'`.\n",
    "\n",
    "\n",
    "**Например, кредитополучателю с доходом 25000 нужно назначить категорию `'E'`, а клиенту, получающему 235000, — `'B'`. Используйте собственную функцию с именем `categorize_income()` и метод `apply()`.**"
   ]
  },
  {
   "cell_type": "code",
   "execution_count": 17,
   "id": "bc0bb955",
   "metadata": {
    "deletable": false,
    "id": "e1771346"
   },
   "outputs": [],
   "source": [
    "def categorize_income(income):\n",
    "    try:\n",
    "        if 0 <= income <= 30000:\n",
    "            return 'E'\n",
    "        elif 30001 <= income <= 50000:\n",
    "            return 'D'\n",
    "        elif 50001 <= income <= 200000:\n",
    "            return 'C'\n",
    "        elif 200001 <= income <= 1000000:\n",
    "            return 'B'\n",
    "        elif income >= 1000001:\n",
    "            return 'A'\n",
    "    except:\n",
    "        pass"
   ]
  },
  {
   "cell_type": "code",
   "execution_count": 18,
   "id": "4f12796b",
   "metadata": {
    "deletable": false,
    "id": "d5f3586d"
   },
   "outputs": [],
   "source": [
    "data['total_income_category'] = data['total_income'].apply(categorize_income)"
   ]
  },
  {
   "cell_type": "markdown",
   "id": "c9ea83c2",
   "metadata": {
    "deletable": false,
    "editable": false,
    "id": "dde49b5c"
   },
   "source": [
    "**Задание 17. Выведите на экран перечень уникальных целей взятия кредита из столбца `purpose`.**"
   ]
  },
  {
   "cell_type": "code",
   "execution_count": 19,
   "id": "2ecf2f90",
   "metadata": {
    "deletable": false,
    "id": "f67ce9b3",
    "outputId": "673c12d9-7d7e-4ae0-9812-c622c89dd244"
   },
   "outputs": [
    {
     "data": {
      "text/plain": [
       "array(['покупка жилья', 'приобретение автомобиля',\n",
       "       'дополнительное образование', 'сыграть свадьбу',\n",
       "       'операции с жильем', 'образование', 'на проведение свадьбы',\n",
       "       'покупка жилья для семьи', 'покупка недвижимости',\n",
       "       'покупка коммерческой недвижимости', 'покупка жилой недвижимости',\n",
       "       'строительство собственной недвижимости', 'недвижимость',\n",
       "       'строительство недвижимости', 'на покупку подержанного автомобиля',\n",
       "       'на покупку своего автомобиля',\n",
       "       'операции с коммерческой недвижимостью',\n",
       "       'строительство жилой недвижимости', 'жилье',\n",
       "       'операции со своей недвижимостью', 'автомобили',\n",
       "       'заняться образованием', 'сделка с подержанным автомобилем',\n",
       "       'получение образования', 'автомобиль', 'свадьба',\n",
       "       'получение дополнительного образования', 'покупка своего жилья',\n",
       "       'операции с недвижимостью', 'получение высшего образования',\n",
       "       'свой автомобиль', 'сделка с автомобилем',\n",
       "       'профильное образование', 'высшее образование',\n",
       "       'покупка жилья для сдачи', 'на покупку автомобиля', 'ремонт жилью',\n",
       "       'заняться высшим образованием'], dtype=object)"
      ]
     },
     "execution_count": 19,
     "metadata": {},
     "output_type": "execute_result"
    }
   ],
   "source": [
    "data['purpose'].unique()"
   ]
  },
  {
   "cell_type": "markdown",
   "id": "e5349c07",
   "metadata": {
    "deletable": false,
    "editable": false,
    "id": "85d0aef0"
   },
   "source": [
    "**Задание 18. Создайте функцию, которая на основании данных из столбца `purpose` сформирует новый столбец `purpose_category`, в который войдут следующие категории:**\n",
    "\n",
    "- `'операции с автомобилем'`,\n",
    "- `'операции с недвижимостью'`,\n",
    "- `'проведение свадьбы'`,\n",
    "- `'получение образования'`.\n",
    "\n",
    "**Например, если в столбце `purpose` находится подстрока `'на покупку автомобиля'`, то в столбце `purpose_category` должна появиться строка `'операции с автомобилем'`.**\n",
    "\n",
    "**Используйте собственную функцию с именем `categorize_purpose()` и метод `apply()`. Изучите данные в столбце `purpose` и определите, какие подстроки помогут вам правильно определить категорию.**"
   ]
  },
  {
   "cell_type": "code",
   "execution_count": 20,
   "id": "e8873cbc",
   "metadata": {
    "deletable": false,
    "id": "e149fab4"
   },
   "outputs": [],
   "source": [
    "def categorize_purpose(row):\n",
    "    try:\n",
    "        if 'автом' in row:\n",
    "            return 'операции с автомобилем'\n",
    "        elif 'жил' in row or 'недвиж' in row:\n",
    "            return 'операции с недвижимостью'\n",
    "        elif 'свад' in row:\n",
    "            return 'проведение свадьбы'\n",
    "        elif 'образов' in row:\n",
    "            return 'получение образования'\n",
    "    except:\n",
    "        return 'нет категории'"
   ]
  },
  {
   "cell_type": "code",
   "execution_count": 21,
   "id": "9dc864c3",
   "metadata": {
    "deletable": false,
    "id": "bf36e69b"
   },
   "outputs": [],
   "source": [
    "data['purpose_category'] = data['purpose'].apply(categorize_purpose)"
   ]
  },
  {
   "cell_type": "markdown",
   "id": "7b4eb919",
   "metadata": {
    "deletable": false,
    "editable": false,
    "id": "09b242bf"
   },
   "source": [
    "### Шаг 3. Исследуйте данные и ответьте на вопросы"
   ]
  },
  {
   "cell_type": "markdown",
   "id": "175ddfad",
   "metadata": {
    "deletable": false,
    "editable": false,
    "id": "c5d66278"
   },
   "source": [
    "#### 3.1 Есть ли зависимость между количеством детей и возвратом кредита в срок?"
   ]
  },
  {
   "cell_type": "code",
   "execution_count": 22,
   "id": "170db380",
   "metadata": {
    "deletable": false,
    "id": "2cacfc4a"
   },
   "outputs": [
    {
     "name": "stdout",
     "output_type": "stream",
     "text": [
      "          count   sum  pr_nevozvratov\n",
      "children                             \n",
      "0         14091  1063            7.54\n",
      "1          4808   444            9.23\n",
      "2          2052   194            9.45\n",
      "3           330    27            8.18\n",
      "4            41     4            9.76\n",
      "5             9     0            0.00\n"
     ]
    }
   ],
   "source": [
    "children_pivot = data.pivot_table(index=['children'],values = 'debt',aggfunc={'count','sum'})\n",
    "children_pivot['pr_nevozvratov'] = children_pivot['sum']*100/children_pivot['count'] \n",
    "children_pivot['pr_nevozvratov']=children_pivot['pr_nevozvratov'].round(decimals = 2)\n",
    "print(children_pivot)# Ваш код будет здесь. Вы можете создавать новые ячейки.\n",
    "#print('----------------------------------------------------------------------')\n",
    "#anomalia = data.loc[data['children'] == 5]\n",
    "#print(anomalia)"
   ]
  },
  {
   "cell_type": "markdown",
   "id": "25aa7a79",
   "metadata": {
    "deletable": false,
    "id": "3a6b99ec"
   },
   "source": [
    "**Вывод:При анализе гипотезы явная зависимость выявляется только при отсутсвии детей.\n",
    "Процент возврата у бездетных заемщиков гораздо ниже 7.54%. В остальных случая корреляции процента невозврата и количества детей не наблюдается.Заемщики с 1 , 2 , 4мя детьми показывает 9.23 9.45 и 9.76% соответственно. С 3мя детьми 8.18.\n",
    "Совсем вразрез гипотезе выглядит отсутстие просрочек у заемщиков с 5ю детьми. При выводе среза по этим данным по ключевым факторам какой-то устойчивой связи в показателях не было обнаружено, кроме семейного положения. Все заемщики либо в браке,либо в гражданском. Ниже эта гипотеза получит подтверждение.\n",
    "Однако, утверждать,что группа с 5ю надежнее других я бы не стал ,оприраясь только на семейное положение, т.к. 5 детей слишком серьезная нагрузка,а факторы которые позволяют избегать просрочек доподлинно не выяснены( возможно, все 9 заемщиков исключительно финансово дисциплинированны и ответственны. В скоринге эти факторы не отобразить).   \n",
    "** "
   ]
  },
  {
   "cell_type": "markdown",
   "id": "44171992",
   "metadata": {
    "deletable": false,
    "editable": false,
    "id": "97be82ca"
   },
   "source": [
    "#### 3.2 Есть ли зависимость между семейным положением и возвратом кредита в срок?"
   ]
  },
  {
   "cell_type": "code",
   "execution_count": 23,
   "id": "f64cf2f4",
   "metadata": {
    "deletable": false,
    "id": "dc3f7ee8"
   },
   "outputs": [
    {
     "name": "stdout",
     "output_type": "stream",
     "text": [
      "                       count  sum  pr_nevozvratov\n",
      "family_status                                    \n",
      "вдовец / вдова           951   63            6.62\n",
      "в разводе               1189   84            7.06\n",
      "женат / замужем        12261  927            7.56\n",
      "гражданский брак        4134  385            9.31\n",
      "Не женат / не замужем   2796  273            9.76\n"
     ]
    }
   ],
   "source": [
    "family_pivot = data.pivot_table(index=['family_status'],values = 'debt',aggfunc={'count','sum'})\n",
    "family_pivot['pr_nevozvratov'] = family_pivot['sum']*100/family_pivot['count']\n",
    "family_pivot['pr_nevozvratov']=family_pivot['pr_nevozvratov'].round(decimals = 2)\n",
    "print(family_pivot.sort_values(by='pr_nevozvratov'))\n",
    "# Ваш код будет здесь. Вы можете создавать новые ячейки."
   ]
  },
  {
   "cell_type": "markdown",
   "id": "46bdf110",
   "metadata": {
    "deletable": false,
    "id": "1cef7837"
   },
   "source": [
    "**Вывод:\n",
    "При анализе этой гипотезы видна четкая связь между семейным положением и возвратом кредита.\n",
    "Процент тех,кто был браке или сейчас находится , заметно ниже. 7,56% против 9,31% в гражданском и 9,76 % вообще в браке не состоящих.\n",
    "Это объясняется тем,что люди в браке как правило более ответственны.в том числе и в вопросах финансов. Также наличие тыла,который может в случае финансовых финансовых проблем подстраховать,еще больше снижает вероятность невыплат.   \n",
    "** "
   ]
  },
  {
   "cell_type": "markdown",
   "id": "a68ab4ea",
   "metadata": {
    "deletable": false,
    "editable": false,
    "id": "1e8b2fca"
   },
   "source": [
    "#### 3.3 Есть ли зависимость между уровнем дохода и возвратом кредита в срок?"
   ]
  },
  {
   "cell_type": "code",
   "execution_count": 24,
   "id": "c99be374",
   "metadata": {
    "deletable": false,
    "id": "cd7e3720"
   },
   "outputs": [
    {
     "name": "stdout",
     "output_type": "stream",
     "text": [
      "                       count   sum  pr_nevozvratov\n",
      "total_income_category                             \n",
      "A                         25     2            8.00\n",
      "B                       5014   354            7.06\n",
      "C                      15921  1353            8.50\n",
      "D                        349    21            6.02\n",
      "E                         22     2            9.09\n"
     ]
    }
   ],
   "source": [
    "dohod_pivot = data.pivot_table(index=['total_income_category'],values = 'debt',aggfunc={'count','sum'})\n",
    "dohod_pivot['pr_nevozvratov'] = dohod_pivot['sum']*100/dohod_pivot['count']\n",
    "dohod_pivot['pr_nevozvratov']=dohod_pivot['pr_nevozvratov'].round(decimals = 2)\n",
    "print(dohod_pivot)# Ваш код будет здесь. Вы можете создавать новые ячейки."
   ]
  },
  {
   "cell_type": "markdown",
   "id": "a9c5be1e",
   "metadata": {
    "deletable": false,
    "id": "e8593def"
   },
   "source": [
    "**Вывод:В целом анализ этой гипотезы  схож на результаты с количеством детей. Отсутствие четкой взаимосвязи между доходом и процентом невыплат.\n",
    "Ожидаемо, самый высокий процент невыплат у группы E - 9.09. Однако в абсолютных значениях это 2 случая из 22 заемщиков. Почти такая же картина в группе A c доходом более 1000000. Но говорить ,что они статистически сопоставимы я бы не стал.\n",
    "Обратимся к самой надежной по цифрам группе. Группа D у них процент самый низкий - 6,02.На мой взгляд это объясняется тем,что невысокий доход вынуждает обращаться к кредитным продуктам снова.А для этого нужна хорошая кредитная история.\n",
    "Самая многочисленная (и самая ненадежная ,если принять во внимание репрезентативность группы E) группа С. Здесь мне кажется обратная ситуация. Кредиты имеют \"разовый\" характер ,а высокий средний доход не боится штрафов за просрочку.  \n",
    "** "
   ]
  },
  {
   "cell_type": "markdown",
   "id": "cf9a1396",
   "metadata": {
    "deletable": false,
    "editable": false,
    "id": "99ecbd1f"
   },
   "source": [
    "#### 3.4 Как разные цели кредита влияют на его возврат в срок?"
   ]
  },
  {
   "cell_type": "code",
   "execution_count": 25,
   "id": "2bd4b151",
   "metadata": {
    "deletable": false,
    "id": "2b687290"
   },
   "outputs": [
    {
     "name": "stdout",
     "output_type": "stream",
     "text": [
      "                          count  sum  pr_nevozvratov\n",
      "purpose_category                                    \n",
      "операции с недвижимостью  10751  780            7.26\n",
      "проведение свадьбы         2313  183            7.91\n",
      "получение образования      3988  369            9.25\n",
      "операции с автомобилем     4279  400            9.35\n"
     ]
    }
   ],
   "source": [
    "target_pivot = data.pivot_table(index=['purpose_category'],values = 'debt',aggfunc={'count','sum'})\n",
    "target_pivot['pr_nevozvratov'] = target_pivot['sum']*100/target_pivot['count']\n",
    "target_pivot['pr_nevozvratov']=target_pivot['pr_nevozvratov'].round(decimals = 2)\n",
    "print(target_pivot.sort_values(by='pr_nevozvratov'))# Ваш код будет здесь. Вы можете создавать новые ячейки."
   ]
  },
  {
   "cell_type": "markdown",
   "id": "f86b15aa",
   "metadata": {
    "deletable": false,
    "id": "b4bb2ce6"
   },
   "source": [
    "**Вывод:В этой гипотезе необходимо разъяснение к каждой группе,т.к цели сравнивать между собой невозможно.\n",
    "-самая надежная цель это операции с недвижимостью (7,26%). Жилье это жизненная необходимость, поэтому риск здесь стремятся минимизировать,а высокие средние платежи не допускать просрочек.\n",
    "-проведение свадьбы (7,91%). Здесь вероятнее всего оказывает влияние традиции дарить молодоженам деньги и после окончания мероприятия данная сумма частично или полностью покрывает кредит. \n",
    "-получение образования (9,25%).Данная группа занимается инвестированием в себя, а значит в большинстве случаев на момент получения кредита у человека либо нет професии, либо он повышает квалификацию для увеличения дохода.\n",
    "-операции с автомобилем (9,35%). Данная группа вместе с кредитной нагрузкой получает еще расходы на обслуживание самого автомобиля, а на вторичном рынке нередки дорогостоящие поломки.  \n"
   ]
  },
  {
   "cell_type": "markdown",
   "id": "7b9e78ba",
   "metadata": {
    "deletable": false,
    "editable": false,
    "id": "09c3ac4c"
   },
   "source": [
    "#### 3.5 Приведите возможные причины появления пропусков в исходных данных."
   ]
  },
  {
   "cell_type": "markdown",
   "id": "9b3d366f",
   "metadata": {
    "deletable": false,
    "id": "9da2ceda"
   },
   "source": [
    "*Ответ:Первое,что бросается в глаза это одинаковое количество пропущенных данных в 2х столбцах. \n",
    "Возможно, эти данные как-то связаны напрямую в скоринговой системе и незаполнение одного данного ведет к пропуску вторго.\n",
    "Однако это столбцы совокупного дохода и трудового стажа. Вряд ли бы система рассмотрела кредитную заявку без дохода. Да и стаж тоже напрямую вряд ли зависит от совокупного дохода,т.к источников дохода может быть несколько ,а стаж закреплен за 1 трудовым местом.\n",
    "Возможно имеет место ошибка выгрузки данных*"
   ]
  },
  {
   "cell_type": "markdown",
   "id": "4114076f",
   "metadata": {
    "deletable": false,
    "editable": false,
    "id": "7b0487d6"
   },
   "source": [
    "#### 3.6 Объясните, почему заполнить пропуски медианным значением — лучшее решение для количественных переменных."
   ]
  },
  {
   "cell_type": "markdown",
   "id": "84083609",
   "metadata": {
    "deletable": false,
    "id": "7ecf2b8e"
   },
   "source": [
    "*Ответ:\n",
    "Потому что медиана учитывает разброс данных и устойчива к различного рода аномальным значениям (отрицательные значения ,значения min и max, значительно отличающиеся от среднего значения.)* "
   ]
  },
  {
   "cell_type": "markdown",
   "id": "af0d4e21",
   "metadata": {
    "deletable": false,
    "editable": false,
    "id": "6db5255a"
   },
   "source": [
    "### Шаг 4: общий вывод."
   ]
  },
  {
   "cell_type": "markdown",
   "id": "e01ad421",
   "metadata": {
    "deletable": false,
    "id": "bad65432"
   },
   "source": [
    "Напишите ваш общий вывод.\n",
    "В ходе проекта были проверены гипотезы зависимости семейного положения и количества детей клиента на факт погашения кредита в срок.\n",
    "- Отсутствие детей заментно повышает вероятность выплаты в срок виду отсутствия дополнительной финансовой нагрузки ,в то время как количество детей несильно влияет на это.Семьи с 1,2,4 детьми показывают примерно одинаковую долю невозврата.  \n",
    "- А вот семейное положение хорошо показывает разрыв между вероятностью выплаты вовремя кредита суругами и холостыми в пользу первых. Грамотное планирование помогает семьям даже с 5ю детьми избегать штрафов и просрочек.\n",
    "- Данные по совокупному доходу не показали устойчивой связи. Доли просрочек и в группе А и группе D показывают сопоставимые цифры. А самые надежные заемщики это люди со средним (группа D) доходом."
   ]
  }
 ],
 "metadata": {
  "ExecuteTimeLog": [
   {
    "duration": 423,
    "start_time": "2023-02-19T09:24:03.078Z"
   },
   {
    "duration": 25,
    "start_time": "2023-02-19T09:24:03.503Z"
   },
   {
    "duration": 17,
    "start_time": "2023-02-19T09:24:03.529Z"
   },
   {
    "duration": 10,
    "start_time": "2023-02-19T09:24:03.548Z"
   },
   {
    "duration": 33,
    "start_time": "2023-02-19T09:24:03.559Z"
   },
   {
    "duration": 3,
    "start_time": "2023-02-19T09:24:03.594Z"
   },
   {
    "duration": 8,
    "start_time": "2023-02-19T09:24:03.621Z"
   },
   {
    "duration": 5,
    "start_time": "2023-02-19T09:24:03.630Z"
   },
   {
    "duration": 8,
    "start_time": "2023-02-19T09:24:03.637Z"
   },
   {
    "duration": 5,
    "start_time": "2023-02-19T09:24:03.648Z"
   },
   {
    "duration": 38,
    "start_time": "2023-02-19T09:24:03.655Z"
   },
   {
    "duration": 12,
    "start_time": "2023-02-19T09:24:03.720Z"
   },
   {
    "duration": 5,
    "start_time": "2023-02-19T09:24:03.734Z"
   },
   {
    "duration": 15,
    "start_time": "2023-02-19T09:24:03.740Z"
   },
   {
    "duration": 24,
    "start_time": "2023-02-19T09:24:03.757Z"
   },
   {
    "duration": 49,
    "start_time": "2023-02-19T09:24:03.783Z"
   },
   {
    "duration": 4,
    "start_time": "2023-02-19T09:24:03.834Z"
   },
   {
    "duration": 12,
    "start_time": "2023-02-19T09:24:03.840Z"
   },
   {
    "duration": 8,
    "start_time": "2023-02-19T09:24:03.854Z"
   },
   {
    "duration": 4,
    "start_time": "2023-02-19T09:24:03.864Z"
   },
   {
    "duration": 14,
    "start_time": "2023-02-19T09:24:03.870Z"
   },
   {
    "duration": 3,
    "start_time": "2023-02-19T09:24:03.885Z"
   },
   {
    "duration": 32,
    "start_time": "2023-02-19T09:24:03.890Z"
   },
   {
    "duration": 4,
    "start_time": "2023-02-19T09:24:03.924Z"
   },
   {
    "duration": 4,
    "start_time": "2023-02-19T09:24:03.930Z"
   },
   {
    "duration": 55,
    "start_time": "2023-02-19T18:03:12.715Z"
   },
   {
    "duration": 596,
    "start_time": "2023-02-19T18:03:35.565Z"
   },
   {
    "duration": 24,
    "start_time": "2023-02-19T18:03:36.164Z"
   },
   {
    "duration": 17,
    "start_time": "2023-02-19T18:03:36.189Z"
   },
   {
    "duration": 10,
    "start_time": "2023-02-19T18:03:36.209Z"
   },
   {
    "duration": 64,
    "start_time": "2023-02-19T18:03:36.221Z"
   },
   {
    "duration": 4,
    "start_time": "2023-02-19T18:03:36.287Z"
   },
   {
    "duration": 33,
    "start_time": "2023-02-19T18:03:36.292Z"
   },
   {
    "duration": 5,
    "start_time": "2023-02-19T18:03:36.327Z"
   },
   {
    "duration": 33,
    "start_time": "2023-02-19T18:03:36.334Z"
   },
   {
    "duration": 11,
    "start_time": "2023-02-19T18:03:36.372Z"
   },
   {
    "duration": 38,
    "start_time": "2023-02-19T18:03:36.385Z"
   },
   {
    "duration": 11,
    "start_time": "2023-02-19T18:03:36.425Z"
   },
   {
    "duration": 15,
    "start_time": "2023-02-19T18:03:36.438Z"
   },
   {
    "duration": 17,
    "start_time": "2023-02-19T18:03:36.455Z"
   },
   {
    "duration": 30,
    "start_time": "2023-02-19T18:03:36.474Z"
   },
   {
    "duration": 20,
    "start_time": "2023-02-19T18:03:36.505Z"
   },
   {
    "duration": 20,
    "start_time": "2023-02-19T18:03:36.527Z"
   },
   {
    "duration": 16,
    "start_time": "2023-02-19T18:03:36.552Z"
   },
   {
    "duration": 39,
    "start_time": "2023-02-19T18:03:36.570Z"
   },
   {
    "duration": 11,
    "start_time": "2023-02-19T18:03:36.611Z"
   },
   {
    "duration": 13,
    "start_time": "2023-02-19T18:03:36.624Z"
   },
   {
    "duration": 32,
    "start_time": "2023-02-19T18:03:36.639Z"
   },
   {
    "duration": 43,
    "start_time": "2023-02-19T18:03:36.674Z"
   },
   {
    "duration": 0,
    "start_time": "2023-02-19T18:03:36.719Z"
   },
   {
    "duration": 0,
    "start_time": "2023-02-19T18:03:36.721Z"
   },
   {
    "duration": 16,
    "start_time": "2023-02-19T18:05:59.767Z"
   },
   {
    "duration": 116,
    "start_time": "2023-02-19T18:09:38.997Z"
   },
   {
    "duration": 21,
    "start_time": "2023-02-19T18:10:05.857Z"
   },
   {
    "duration": 25,
    "start_time": "2023-02-19T18:11:04.086Z"
   },
   {
    "duration": 24,
    "start_time": "2023-02-19T18:13:02.838Z"
   },
   {
    "duration": 25,
    "start_time": "2023-02-19T18:18:20.924Z"
   },
   {
    "duration": 18,
    "start_time": "2023-02-19T18:19:09.559Z"
   },
   {
    "duration": 20,
    "start_time": "2023-02-19T18:19:44.390Z"
   },
   {
    "duration": 50,
    "start_time": "2023-02-19T18:26:14.416Z"
   },
   {
    "duration": 20,
    "start_time": "2023-02-19T18:26:34.207Z"
   },
   {
    "duration": 20,
    "start_time": "2023-02-19T18:27:27.569Z"
   },
   {
    "duration": 18,
    "start_time": "2023-02-19T18:28:55.616Z"
   },
   {
    "duration": 23,
    "start_time": "2023-02-19T18:33:20.808Z"
   },
   {
    "duration": 25,
    "start_time": "2023-02-19T18:33:31.427Z"
   },
   {
    "duration": 22,
    "start_time": "2023-02-19T18:34:56.620Z"
   },
   {
    "duration": 20,
    "start_time": "2023-02-19T18:50:52.676Z"
   },
   {
    "duration": 31,
    "start_time": "2023-02-19T18:51:19.226Z"
   },
   {
    "duration": 47,
    "start_time": "2023-02-20T18:11:04.367Z"
   },
   {
    "duration": 479,
    "start_time": "2023-02-20T18:11:40.003Z"
   },
   {
    "duration": 21,
    "start_time": "2023-02-20T18:11:40.483Z"
   },
   {
    "duration": 14,
    "start_time": "2023-02-20T18:11:40.506Z"
   },
   {
    "duration": 10,
    "start_time": "2023-02-20T18:11:40.522Z"
   },
   {
    "duration": 45,
    "start_time": "2023-02-20T18:11:40.534Z"
   },
   {
    "duration": 4,
    "start_time": "2023-02-20T18:11:40.580Z"
   },
   {
    "duration": 13,
    "start_time": "2023-02-20T18:11:40.586Z"
   },
   {
    "duration": 4,
    "start_time": "2023-02-20T18:11:40.601Z"
   },
   {
    "duration": 8,
    "start_time": "2023-02-20T18:11:40.606Z"
   },
   {
    "duration": 4,
    "start_time": "2023-02-20T18:11:40.616Z"
   },
   {
    "duration": 58,
    "start_time": "2023-02-20T18:11:40.622Z"
   },
   {
    "duration": 11,
    "start_time": "2023-02-20T18:11:40.682Z"
   },
   {
    "duration": 9,
    "start_time": "2023-02-20T18:11:40.694Z"
   },
   {
    "duration": 12,
    "start_time": "2023-02-20T18:11:40.705Z"
   },
   {
    "duration": 41,
    "start_time": "2023-02-20T18:11:40.719Z"
   },
   {
    "duration": 17,
    "start_time": "2023-02-20T18:11:40.762Z"
   },
   {
    "duration": 4,
    "start_time": "2023-02-20T18:11:40.780Z"
   },
   {
    "duration": 13,
    "start_time": "2023-02-20T18:11:40.786Z"
   },
   {
    "duration": 10,
    "start_time": "2023-02-20T18:11:40.801Z"
   },
   {
    "duration": 4,
    "start_time": "2023-02-20T18:11:40.813Z"
   },
   {
    "duration": 36,
    "start_time": "2023-02-20T18:11:40.819Z"
   },
   {
    "duration": 19,
    "start_time": "2023-02-20T18:11:40.857Z"
   },
   {
    "duration": 15,
    "start_time": "2023-02-20T18:11:40.878Z"
   },
   {
    "duration": 15,
    "start_time": "2023-02-20T18:11:40.895Z"
   },
   {
    "duration": 42,
    "start_time": "2023-02-20T18:11:40.911Z"
   },
   {
    "duration": 28,
    "start_time": "2023-02-20T18:13:48.797Z"
   },
   {
    "duration": 25,
    "start_time": "2023-02-20T18:15:39.528Z"
   },
   {
    "duration": 17,
    "start_time": "2023-02-20T18:34:26.527Z"
   },
   {
    "duration": 18,
    "start_time": "2023-02-20T18:38:31.041Z"
   },
   {
    "duration": 15,
    "start_time": "2023-02-20T18:40:52.687Z"
   },
   {
    "duration": 20,
    "start_time": "2023-02-20T18:41:38.108Z"
   },
   {
    "duration": 15,
    "start_time": "2023-02-20T18:41:55.167Z"
   },
   {
    "duration": 20,
    "start_time": "2023-02-20T18:42:31.094Z"
   },
   {
    "duration": 78,
    "start_time": "2023-02-20T18:44:15.944Z"
   },
   {
    "duration": 20,
    "start_time": "2023-02-20T18:44:24.890Z"
   },
   {
    "duration": 24,
    "start_time": "2023-02-20T18:44:53.882Z"
   },
   {
    "duration": 25,
    "start_time": "2023-02-20T18:45:03.646Z"
   },
   {
    "duration": 25,
    "start_time": "2023-02-20T18:47:22.782Z"
   },
   {
    "duration": 18,
    "start_time": "2023-02-20T18:47:56.585Z"
   },
   {
    "duration": 26,
    "start_time": "2023-02-20T18:48:01.355Z"
   },
   {
    "duration": 16,
    "start_time": "2023-02-20T18:49:23.924Z"
   },
   {
    "duration": 33,
    "start_time": "2023-02-20T18:51:17.934Z"
   },
   {
    "duration": 19,
    "start_time": "2023-02-20T18:51:53.165Z"
   },
   {
    "duration": 63,
    "start_time": "2023-02-21T03:21:03.877Z"
   },
   {
    "duration": 1069,
    "start_time": "2023-02-21T03:21:17.208Z"
   },
   {
    "duration": 26,
    "start_time": "2023-02-21T03:21:18.279Z"
   },
   {
    "duration": 118,
    "start_time": "2023-02-21T03:21:18.307Z"
   },
   {
    "duration": 33,
    "start_time": "2023-02-21T03:21:18.427Z"
   },
   {
    "duration": 47,
    "start_time": "2023-02-21T03:21:18.462Z"
   },
   {
    "duration": 4,
    "start_time": "2023-02-21T03:21:18.511Z"
   },
   {
    "duration": 29,
    "start_time": "2023-02-21T03:21:18.516Z"
   },
   {
    "duration": 25,
    "start_time": "2023-02-21T03:21:18.546Z"
   },
   {
    "duration": 12,
    "start_time": "2023-02-21T03:21:18.573Z"
   },
   {
    "duration": 16,
    "start_time": "2023-02-21T03:21:18.589Z"
   },
   {
    "duration": 34,
    "start_time": "2023-02-21T03:21:18.607Z"
   },
   {
    "duration": 9,
    "start_time": "2023-02-21T03:21:18.643Z"
   },
   {
    "duration": 13,
    "start_time": "2023-02-21T03:21:18.653Z"
   },
   {
    "duration": 23,
    "start_time": "2023-02-21T03:21:18.667Z"
   },
   {
    "duration": 42,
    "start_time": "2023-02-21T03:21:18.692Z"
   },
   {
    "duration": 20,
    "start_time": "2023-02-21T03:21:18.736Z"
   },
   {
    "duration": 5,
    "start_time": "2023-02-21T03:21:18.757Z"
   },
   {
    "duration": 14,
    "start_time": "2023-02-21T03:21:18.763Z"
   },
   {
    "duration": 24,
    "start_time": "2023-02-21T03:21:18.779Z"
   },
   {
    "duration": 4,
    "start_time": "2023-02-21T03:21:18.805Z"
   },
   {
    "duration": 10,
    "start_time": "2023-02-21T03:21:18.811Z"
   },
   {
    "duration": 94,
    "start_time": "2023-02-21T03:21:18.822Z"
   },
   {
    "duration": 0,
    "start_time": "2023-02-21T03:21:18.919Z"
   },
   {
    "duration": 0,
    "start_time": "2023-02-21T03:21:18.920Z"
   },
   {
    "duration": 0,
    "start_time": "2023-02-21T03:21:18.922Z"
   },
   {
    "duration": 20,
    "start_time": "2023-02-21T03:21:51.213Z"
   },
   {
    "duration": 16,
    "start_time": "2023-02-21T03:24:08.331Z"
   },
   {
    "duration": 18,
    "start_time": "2023-02-21T03:24:55.185Z"
   },
   {
    "duration": 18,
    "start_time": "2023-02-21T03:25:16.320Z"
   },
   {
    "duration": 18,
    "start_time": "2023-02-21T03:26:15.226Z"
   },
   {
    "duration": 19,
    "start_time": "2023-02-21T03:27:56.724Z"
   },
   {
    "duration": 19,
    "start_time": "2023-02-21T03:29:49.546Z"
   },
   {
    "duration": 531,
    "start_time": "2023-02-21T17:35:43.411Z"
   },
   {
    "duration": 21,
    "start_time": "2023-02-21T17:35:43.944Z"
   },
   {
    "duration": 14,
    "start_time": "2023-02-21T17:35:43.968Z"
   },
   {
    "duration": 9,
    "start_time": "2023-02-21T17:35:43.983Z"
   },
   {
    "duration": 48,
    "start_time": "2023-02-21T17:35:43.993Z"
   },
   {
    "duration": 4,
    "start_time": "2023-02-21T17:35:44.042Z"
   },
   {
    "duration": 11,
    "start_time": "2023-02-21T17:35:44.048Z"
   },
   {
    "duration": 4,
    "start_time": "2023-02-21T17:35:44.061Z"
   },
   {
    "duration": 11,
    "start_time": "2023-02-21T17:35:44.067Z"
   },
   {
    "duration": 4,
    "start_time": "2023-02-21T17:35:44.081Z"
   },
   {
    "duration": 57,
    "start_time": "2023-02-21T17:35:44.086Z"
   },
   {
    "duration": 9,
    "start_time": "2023-02-21T17:35:44.144Z"
   },
   {
    "duration": 3,
    "start_time": "2023-02-21T17:35:44.155Z"
   },
   {
    "duration": 12,
    "start_time": "2023-02-21T17:35:44.160Z"
   },
   {
    "duration": 19,
    "start_time": "2023-02-21T17:35:44.173Z"
   },
   {
    "duration": 16,
    "start_time": "2023-02-21T17:35:44.194Z"
   },
   {
    "duration": 4,
    "start_time": "2023-02-21T17:35:44.237Z"
   },
   {
    "duration": 15,
    "start_time": "2023-02-21T17:35:44.243Z"
   },
   {
    "duration": 11,
    "start_time": "2023-02-21T17:35:44.260Z"
   },
   {
    "duration": 8,
    "start_time": "2023-02-21T17:35:44.273Z"
   },
   {
    "duration": 19,
    "start_time": "2023-02-21T17:35:44.282Z"
   },
   {
    "duration": 45,
    "start_time": "2023-02-21T17:35:44.303Z"
   },
   {
    "duration": 18,
    "start_time": "2023-02-21T17:35:44.350Z"
   },
   {
    "duration": 17,
    "start_time": "2023-02-21T17:35:44.370Z"
   },
   {
    "duration": 19,
    "start_time": "2023-02-21T17:35:44.388Z"
   },
   {
    "duration": 507,
    "start_time": "2023-02-22T13:15:33.929Z"
   },
   {
    "duration": 27,
    "start_time": "2023-02-22T13:15:34.438Z"
   },
   {
    "duration": 21,
    "start_time": "2023-02-22T13:15:34.466Z"
   },
   {
    "duration": 9,
    "start_time": "2023-02-22T13:15:34.489Z"
   },
   {
    "duration": 33,
    "start_time": "2023-02-22T13:15:34.500Z"
   },
   {
    "duration": 15,
    "start_time": "2023-02-22T13:15:34.534Z"
   },
   {
    "duration": 19,
    "start_time": "2023-02-22T13:15:34.551Z"
   },
   {
    "duration": 16,
    "start_time": "2023-02-22T13:15:34.571Z"
   },
   {
    "duration": 25,
    "start_time": "2023-02-22T13:15:34.589Z"
   },
   {
    "duration": 18,
    "start_time": "2023-02-22T13:15:34.615Z"
   },
   {
    "duration": 46,
    "start_time": "2023-02-22T13:15:34.635Z"
   },
   {
    "duration": 8,
    "start_time": "2023-02-22T13:15:34.683Z"
   },
   {
    "duration": 11,
    "start_time": "2023-02-22T13:15:34.693Z"
   },
   {
    "duration": 13,
    "start_time": "2023-02-22T13:15:34.706Z"
   },
   {
    "duration": 17,
    "start_time": "2023-02-22T13:15:34.720Z"
   },
   {
    "duration": 30,
    "start_time": "2023-02-22T13:15:34.738Z"
   },
   {
    "duration": 3,
    "start_time": "2023-02-22T13:15:34.769Z"
   },
   {
    "duration": 12,
    "start_time": "2023-02-22T13:15:34.774Z"
   },
   {
    "duration": 7,
    "start_time": "2023-02-22T13:15:34.787Z"
   },
   {
    "duration": 7,
    "start_time": "2023-02-22T13:15:34.795Z"
   },
   {
    "duration": 17,
    "start_time": "2023-02-22T13:15:34.803Z"
   },
   {
    "duration": 29,
    "start_time": "2023-02-22T13:15:34.821Z"
   },
   {
    "duration": 23,
    "start_time": "2023-02-22T13:15:34.851Z"
   },
   {
    "duration": 19,
    "start_time": "2023-02-22T13:15:34.876Z"
   },
   {
    "duration": 18,
    "start_time": "2023-02-22T13:15:34.897Z"
   }
  ],
  "colab": {
   "name": "dpp_template_part2.ipynb",
   "provenance": []
  },
  "kernelspec": {
   "display_name": "Python 3 (ipykernel)",
   "language": "python",
   "name": "python3"
  },
  "language_info": {
   "codemirror_mode": {
    "name": "ipython",
    "version": 3
   },
   "file_extension": ".py",
   "mimetype": "text/x-python",
   "name": "python",
   "nbconvert_exporter": "python",
   "pygments_lexer": "ipython3",
   "version": "3.9.5"
  },
  "toc": {
   "base_numbering": 1,
   "nav_menu": {},
   "number_sections": true,
   "sideBar": true,
   "skip_h1_title": true,
   "title_cell": "Table of Contents",
   "title_sidebar": "Contents",
   "toc_cell": false,
   "toc_position": {},
   "toc_section_display": true,
   "toc_window_display": true
  }
 },
 "nbformat": 4,
 "nbformat_minor": 5
}
