{
 "cells": [
  {
   "cell_type": "markdown",
   "metadata": {},
   "source": [
    "**Проект:\"Рекламная кампания интернет-магазина по продаже видео-игр \"Стримчик\" на 2017\"**"
   ]
  },
  {
   "cell_type": "markdown",
   "metadata": {},
   "source": [
    "**Описание исследования** \n",
    "\n",
    "**Место исследования:Интернет-магазине «Стримчик», который продаёт по всему миру компьютерные игры.**\n",
    "\n",
    "**Суть исследования: Выявить закономерности, определяющие успешность игры.**\n",
    "\n",
    "**Задачи исследования:Спланировать акценты рекламной кампании на 2017г.**\n",
    "\n",
    "**Исходные данные. Данные взяты из открытых источников**\n",
    "\n",
    "*Name — название игры*\n",
    "\n",
    "*Platform — платформа*\n",
    "\n",
    "*Year_of_Release — год выпуска*\n",
    "\n",
    "*Genre — жанр игры*\n",
    "\n",
    "*NA_sales — продажи в Северной Америке (миллионы проданных копий)*\n",
    "\n",
    "*EU_sales — продажи в Европе (миллионы проданных копий)*\n",
    "\n",
    "*JP_sales — продажи в Японии (миллионы проданных копий)*\n",
    "\n",
    "*Other_sales — продажи в других странах (миллионы проданных копий)*\n",
    "\n",
    "*Critic_Score — оценка критиков (максимум 100)*\n",
    "\n",
    "*User_Score — оценка пользователей (максимум 10)*\n",
    "\n",
    "*Rating — рейтинг от организации ESRB (англ. Entertainment Software Rating Board).*\n",
    "\n",
    "\n"
   ]
  },
  {
   "cell_type": "markdown",
   "metadata": {},
   "source": [
    "### Подготовка данных"
   ]
  },
  {
   "cell_type": "code",
   "execution_count": 1,
   "metadata": {},
   "outputs": [],
   "source": [
    "#Подключим библиотек для выполнения проекта\n",
    "import pandas as pd \n",
    "import numpy as np\n",
    "import matplotlib.pyplot as plt\n",
    "import scipy\n",
    "from scipy import stats as st"
   ]
  },
  {
   "cell_type": "code",
   "execution_count": 2,
   "metadata": {},
   "outputs": [
    {
     "name": "stdout",
     "output_type": "stream",
     "text": [
      "                       Name Platform  Year_of_Release         Genre  NA_sales  \\\n",
      "0                Wii Sports      Wii           2006.0        Sports     41.36   \n",
      "1         Super Mario Bros.      NES           1985.0      Platform     29.08   \n",
      "2            Mario Kart Wii      Wii           2008.0        Racing     15.68   \n",
      "3         Wii Sports Resort      Wii           2009.0        Sports     15.61   \n",
      "4  Pokemon Red/Pokemon Blue       GB           1996.0  Role-Playing     11.27   \n",
      "\n",
      "   EU_sales  JP_sales  Other_sales  Critic_Score User_Score Rating  \n",
      "0     28.96      3.77         8.45          76.0          8      E  \n",
      "1      3.58      6.81         0.77           NaN        NaN    NaN  \n",
      "2     12.76      3.79         3.29          82.0        8.3      E  \n",
      "3     10.93      3.28         2.95          80.0          8      E  \n",
      "4      8.89     10.22         1.00           NaN        NaN    NaN  \n"
     ]
    }
   ],
   "source": [
    "# Откроем файл и изучим данные\n",
    "data = pd.read_csv('/datasets/games.csv')\n",
    "print(data.head())\n"
   ]
  },
  {
   "cell_type": "code",
   "execution_count": 3,
   "metadata": {},
   "outputs": [
    {
     "name": "stdout",
     "output_type": "stream",
     "text": [
      "<class 'pandas.core.frame.DataFrame'>\n",
      "RangeIndex: 16715 entries, 0 to 16714\n",
      "Data columns (total 11 columns):\n",
      " #   Column           Non-Null Count  Dtype  \n",
      "---  ------           --------------  -----  \n",
      " 0   Name             16713 non-null  object \n",
      " 1   Platform         16715 non-null  object \n",
      " 2   Year_of_Release  16446 non-null  float64\n",
      " 3   Genre            16713 non-null  object \n",
      " 4   NA_sales         16715 non-null  float64\n",
      " 5   EU_sales         16715 non-null  float64\n",
      " 6   JP_sales         16715 non-null  float64\n",
      " 7   Other_sales      16715 non-null  float64\n",
      " 8   Critic_Score     8137 non-null   float64\n",
      " 9   User_Score       10014 non-null  object \n",
      " 10  Rating           9949 non-null   object \n",
      "dtypes: float64(6), object(5)\n",
      "memory usage: 1.4+ MB\n"
     ]
    }
   ],
   "source": [
    "# Посмотрим описание.\n",
    "data.info()"
   ]
  },
  {
   "cell_type": "code",
   "execution_count": 4,
   "metadata": {},
   "outputs": [],
   "source": [
    "# Проведем подготовку данных к анализу. Для начала приведем имена всех столбцов  к ниженму регистру.\n",
    "data.columns = data.columns.str.lower()\n"
   ]
  },
  {
   "cell_type": "code",
   "execution_count": 5,
   "metadata": {},
   "outputs": [
    {
     "data": {
      "text/plain": [
       "name                  2\n",
       "platform              0\n",
       "year_of_release     269\n",
       "genre                 2\n",
       "na_sales              0\n",
       "eu_sales              0\n",
       "jp_sales              0\n",
       "other_sales           0\n",
       "critic_score       8578\n",
       "user_score         6701\n",
       "rating             6766\n",
       "dtype: int64"
      ]
     },
     "execution_count": 5,
     "metadata": {},
     "output_type": "execute_result"
    }
   ],
   "source": [
    "# Теперь проверим на количество пропущенных данных наши данные.\n",
    "data.isna().sum()"
   ]
  },
  {
   "cell_type": "code",
   "execution_count": 6,
   "metadata": {},
   "outputs": [
    {
     "data": {
      "text/html": [
       "<div>\n",
       "<style scoped>\n",
       "    .dataframe tbody tr th:only-of-type {\n",
       "        vertical-align: middle;\n",
       "    }\n",
       "\n",
       "    .dataframe tbody tr th {\n",
       "        vertical-align: top;\n",
       "    }\n",
       "\n",
       "    .dataframe thead th {\n",
       "        text-align: right;\n",
       "    }\n",
       "</style>\n",
       "<table border=\"1\" class=\"dataframe\">\n",
       "  <thead>\n",
       "    <tr style=\"text-align: right;\">\n",
       "      <th></th>\n",
       "      <th>name</th>\n",
       "      <th>platform</th>\n",
       "      <th>year_of_release</th>\n",
       "      <th>genre</th>\n",
       "      <th>na_sales</th>\n",
       "      <th>eu_sales</th>\n",
       "      <th>jp_sales</th>\n",
       "      <th>other_sales</th>\n",
       "      <th>critic_score</th>\n",
       "      <th>user_score</th>\n",
       "      <th>rating</th>\n",
       "    </tr>\n",
       "  </thead>\n",
       "  <tbody>\n",
       "    <tr>\n",
       "      <th>659</th>\n",
       "      <td>NaN</td>\n",
       "      <td>GEN</td>\n",
       "      <td>1993.0</td>\n",
       "      <td>NaN</td>\n",
       "      <td>1.78</td>\n",
       "      <td>0.53</td>\n",
       "      <td>0.00</td>\n",
       "      <td>0.08</td>\n",
       "      <td>NaN</td>\n",
       "      <td>NaN</td>\n",
       "      <td>NaN</td>\n",
       "    </tr>\n",
       "    <tr>\n",
       "      <th>14244</th>\n",
       "      <td>NaN</td>\n",
       "      <td>GEN</td>\n",
       "      <td>1993.0</td>\n",
       "      <td>NaN</td>\n",
       "      <td>0.00</td>\n",
       "      <td>0.00</td>\n",
       "      <td>0.03</td>\n",
       "      <td>0.00</td>\n",
       "      <td>NaN</td>\n",
       "      <td>NaN</td>\n",
       "      <td>NaN</td>\n",
       "    </tr>\n",
       "  </tbody>\n",
       "</table>\n",
       "</div>"
      ],
      "text/plain": [
       "      name platform  year_of_release genre  na_sales  eu_sales  jp_sales  \\\n",
       "659    NaN      GEN           1993.0   NaN      1.78      0.53      0.00   \n",
       "14244  NaN      GEN           1993.0   NaN      0.00      0.00      0.03   \n",
       "\n",
       "       other_sales  critic_score user_score rating  \n",
       "659           0.08           NaN        NaN    NaN  \n",
       "14244         0.00           NaN        NaN    NaN  "
      ]
     },
     "execution_count": 6,
     "metadata": {},
     "output_type": "execute_result"
    }
   ],
   "source": [
    "# Некие анонимные игры, по которым практически полностью данные отсутствуют. Их спокойно можно удалить.\n",
    "data[data['name'].isnull()]"
   ]
  },
  {
   "cell_type": "code",
   "execution_count": 7,
   "metadata": {},
   "outputs": [],
   "source": [
    "# Удаление \n",
    "data = data.dropna(subset = ['name'])\n"
   ]
  },
  {
   "cell_type": "markdown",
   "metadata": {},
   "source": [
    "***С пропусками в годе выпуска я также решил удалить, т.к количество данных в принципе незначительно(менее 1.6%).***"
   ]
  },
  {
   "cell_type": "code",
   "execution_count": 8,
   "metadata": {},
   "outputs": [],
   "source": [
    "# Удаляем пропуски в год выпуска. \n",
    "data = data.dropna(subset = ['year_of_release'])"
   ]
  },
  {
   "cell_type": "markdown",
   "metadata": {},
   "source": [
    "***Пропуски в оставшихся 3х столбцах оставим без изменения, т.к.***\n",
    "\n",
    "***-слишком большой большой объем пропущенных данных во всех 3х столбцах***\n",
    "\n",
    "***-отсутствие логичной замены в столбце рейтинг***\n",
    "\n",
    "***-слишком большое влияние любой числовой замены в столбце оценок пользователей и критиков на анализ .***\n",
    "\n",
    "***По поводу причин такого количества пропусков у меня 2 версии. Первая это то,что на очень старых играх не собирались оценнки от критиков и геймеров, а вторая наоборот,то что на свежих релизах еще проставлены оценки.\n",
    "Пропуски в рейтингах игр связаны с тем,что ESRB была основана в 1994 году. ***\n",
    "\n",
    "***Ниже я вывел среза 2, которые в какой-то мере иллюстрирует мои предположения.***"
   ]
  },
  {
   "cell_type": "code",
   "execution_count": 9,
   "metadata": {},
   "outputs": [
    {
     "data": {
      "text/html": [
       "<div>\n",
       "<style scoped>\n",
       "    .dataframe tbody tr th:only-of-type {\n",
       "        vertical-align: middle;\n",
       "    }\n",
       "\n",
       "    .dataframe tbody tr th {\n",
       "        vertical-align: top;\n",
       "    }\n",
       "\n",
       "    .dataframe thead th {\n",
       "        text-align: right;\n",
       "    }\n",
       "</style>\n",
       "<table border=\"1\" class=\"dataframe\">\n",
       "  <thead>\n",
       "    <tr style=\"text-align: right;\">\n",
       "      <th></th>\n",
       "      <th>name</th>\n",
       "      <th>platform</th>\n",
       "      <th>year_of_release</th>\n",
       "      <th>genre</th>\n",
       "      <th>na_sales</th>\n",
       "      <th>eu_sales</th>\n",
       "      <th>jp_sales</th>\n",
       "      <th>other_sales</th>\n",
       "      <th>critic_score</th>\n",
       "      <th>user_score</th>\n",
       "      <th>rating</th>\n",
       "    </tr>\n",
       "  </thead>\n",
       "  <tbody>\n",
       "    <tr>\n",
       "      <th>1</th>\n",
       "      <td>Super Mario Bros.</td>\n",
       "      <td>NES</td>\n",
       "      <td>1985.0</td>\n",
       "      <td>Platform</td>\n",
       "      <td>29.08</td>\n",
       "      <td>3.58</td>\n",
       "      <td>6.81</td>\n",
       "      <td>0.77</td>\n",
       "      <td>NaN</td>\n",
       "      <td>NaN</td>\n",
       "      <td>NaN</td>\n",
       "    </tr>\n",
       "    <tr>\n",
       "      <th>5</th>\n",
       "      <td>Tetris</td>\n",
       "      <td>GB</td>\n",
       "      <td>1989.0</td>\n",
       "      <td>Puzzle</td>\n",
       "      <td>23.20</td>\n",
       "      <td>2.26</td>\n",
       "      <td>4.22</td>\n",
       "      <td>0.58</td>\n",
       "      <td>NaN</td>\n",
       "      <td>NaN</td>\n",
       "      <td>NaN</td>\n",
       "    </tr>\n",
       "    <tr>\n",
       "      <th>9</th>\n",
       "      <td>Duck Hunt</td>\n",
       "      <td>NES</td>\n",
       "      <td>1984.0</td>\n",
       "      <td>Shooter</td>\n",
       "      <td>26.93</td>\n",
       "      <td>0.63</td>\n",
       "      <td>0.28</td>\n",
       "      <td>0.47</td>\n",
       "      <td>NaN</td>\n",
       "      <td>NaN</td>\n",
       "      <td>NaN</td>\n",
       "    </tr>\n",
       "    <tr>\n",
       "      <th>18</th>\n",
       "      <td>Super Mario World</td>\n",
       "      <td>SNES</td>\n",
       "      <td>1990.0</td>\n",
       "      <td>Platform</td>\n",
       "      <td>12.78</td>\n",
       "      <td>3.75</td>\n",
       "      <td>3.54</td>\n",
       "      <td>0.55</td>\n",
       "      <td>NaN</td>\n",
       "      <td>NaN</td>\n",
       "      <td>NaN</td>\n",
       "    </tr>\n",
       "    <tr>\n",
       "      <th>21</th>\n",
       "      <td>Super Mario Land</td>\n",
       "      <td>GB</td>\n",
       "      <td>1989.0</td>\n",
       "      <td>Platform</td>\n",
       "      <td>10.83</td>\n",
       "      <td>2.71</td>\n",
       "      <td>4.18</td>\n",
       "      <td>0.42</td>\n",
       "      <td>NaN</td>\n",
       "      <td>NaN</td>\n",
       "      <td>NaN</td>\n",
       "    </tr>\n",
       "    <tr>\n",
       "      <th>22</th>\n",
       "      <td>Super Mario Bros. 3</td>\n",
       "      <td>NES</td>\n",
       "      <td>1988.0</td>\n",
       "      <td>Platform</td>\n",
       "      <td>9.54</td>\n",
       "      <td>3.44</td>\n",
       "      <td>3.84</td>\n",
       "      <td>0.46</td>\n",
       "      <td>NaN</td>\n",
       "      <td>NaN</td>\n",
       "      <td>NaN</td>\n",
       "    </tr>\n",
       "    <tr>\n",
       "      <th>50</th>\n",
       "      <td>Super Mario Land 2: 6 Golden Coins</td>\n",
       "      <td>GB</td>\n",
       "      <td>1992.0</td>\n",
       "      <td>Adventure</td>\n",
       "      <td>6.16</td>\n",
       "      <td>2.04</td>\n",
       "      <td>2.69</td>\n",
       "      <td>0.29</td>\n",
       "      <td>NaN</td>\n",
       "      <td>NaN</td>\n",
       "      <td>NaN</td>\n",
       "    </tr>\n",
       "    <tr>\n",
       "      <th>56</th>\n",
       "      <td>Super Mario All-Stars</td>\n",
       "      <td>SNES</td>\n",
       "      <td>1993.0</td>\n",
       "      <td>Platform</td>\n",
       "      <td>5.99</td>\n",
       "      <td>2.15</td>\n",
       "      <td>2.12</td>\n",
       "      <td>0.29</td>\n",
       "      <td>NaN</td>\n",
       "      <td>NaN</td>\n",
       "      <td>NaN</td>\n",
       "    </tr>\n",
       "    <tr>\n",
       "      <th>76</th>\n",
       "      <td>Super Mario Kart</td>\n",
       "      <td>SNES</td>\n",
       "      <td>1992.0</td>\n",
       "      <td>Racing</td>\n",
       "      <td>3.54</td>\n",
       "      <td>1.24</td>\n",
       "      <td>3.81</td>\n",
       "      <td>0.18</td>\n",
       "      <td>NaN</td>\n",
       "      <td>NaN</td>\n",
       "      <td>NaN</td>\n",
       "    </tr>\n",
       "    <tr>\n",
       "      <th>89</th>\n",
       "      <td>Pac-Man</td>\n",
       "      <td>2600</td>\n",
       "      <td>1982.0</td>\n",
       "      <td>Puzzle</td>\n",
       "      <td>7.28</td>\n",
       "      <td>0.45</td>\n",
       "      <td>0.00</td>\n",
       "      <td>0.08</td>\n",
       "      <td>NaN</td>\n",
       "      <td>NaN</td>\n",
       "      <td>NaN</td>\n",
       "    </tr>\n",
       "    <tr>\n",
       "      <th>98</th>\n",
       "      <td>Super Mario Bros. 2</td>\n",
       "      <td>NES</td>\n",
       "      <td>1988.0</td>\n",
       "      <td>Platform</td>\n",
       "      <td>5.39</td>\n",
       "      <td>1.18</td>\n",
       "      <td>0.70</td>\n",
       "      <td>0.19</td>\n",
       "      <td>NaN</td>\n",
       "      <td>NaN</td>\n",
       "      <td>NaN</td>\n",
       "    </tr>\n",
       "    <tr>\n",
       "      <th>124</th>\n",
       "      <td>The Legend of Zelda</td>\n",
       "      <td>NES</td>\n",
       "      <td>1986.0</td>\n",
       "      <td>Action</td>\n",
       "      <td>3.74</td>\n",
       "      <td>0.93</td>\n",
       "      <td>1.69</td>\n",
       "      <td>0.14</td>\n",
       "      <td>NaN</td>\n",
       "      <td>NaN</td>\n",
       "      <td>NaN</td>\n",
       "    </tr>\n",
       "    <tr>\n",
       "      <th>137</th>\n",
       "      <td>Street Fighter II: The World Warrior</td>\n",
       "      <td>SNES</td>\n",
       "      <td>1992.0</td>\n",
       "      <td>Fighting</td>\n",
       "      <td>2.47</td>\n",
       "      <td>0.83</td>\n",
       "      <td>2.87</td>\n",
       "      <td>0.12</td>\n",
       "      <td>NaN</td>\n",
       "      <td>NaN</td>\n",
       "      <td>NaN</td>\n",
       "    </tr>\n",
       "    <tr>\n",
       "      <th>145</th>\n",
       "      <td>Sonic the Hedgehog 2</td>\n",
       "      <td>GEN</td>\n",
       "      <td>1992.0</td>\n",
       "      <td>Platform</td>\n",
       "      <td>4.47</td>\n",
       "      <td>1.20</td>\n",
       "      <td>0.16</td>\n",
       "      <td>0.19</td>\n",
       "      <td>NaN</td>\n",
       "      <td>NaN</td>\n",
       "      <td>NaN</td>\n",
       "    </tr>\n",
       "    <tr>\n",
       "      <th>157</th>\n",
       "      <td>Tetris</td>\n",
       "      <td>NES</td>\n",
       "      <td>1988.0</td>\n",
       "      <td>Puzzle</td>\n",
       "      <td>2.97</td>\n",
       "      <td>0.69</td>\n",
       "      <td>1.81</td>\n",
       "      <td>0.11</td>\n",
       "      <td>NaN</td>\n",
       "      <td>NaN</td>\n",
       "      <td>NaN</td>\n",
       "    </tr>\n",
       "  </tbody>\n",
       "</table>\n",
       "</div>"
      ],
      "text/plain": [
       "                                     name platform  year_of_release  \\\n",
       "1                       Super Mario Bros.      NES           1985.0   \n",
       "5                                  Tetris       GB           1989.0   \n",
       "9                               Duck Hunt      NES           1984.0   \n",
       "18                      Super Mario World     SNES           1990.0   \n",
       "21                       Super Mario Land       GB           1989.0   \n",
       "22                    Super Mario Bros. 3      NES           1988.0   \n",
       "50     Super Mario Land 2: 6 Golden Coins       GB           1992.0   \n",
       "56                  Super Mario All-Stars     SNES           1993.0   \n",
       "76                       Super Mario Kart     SNES           1992.0   \n",
       "89                                Pac-Man     2600           1982.0   \n",
       "98                    Super Mario Bros. 2      NES           1988.0   \n",
       "124                   The Legend of Zelda      NES           1986.0   \n",
       "137  Street Fighter II: The World Warrior     SNES           1992.0   \n",
       "145                  Sonic the Hedgehog 2      GEN           1992.0   \n",
       "157                                Tetris      NES           1988.0   \n",
       "\n",
       "         genre  na_sales  eu_sales  jp_sales  other_sales  critic_score  \\\n",
       "1     Platform     29.08      3.58      6.81         0.77           NaN   \n",
       "5       Puzzle     23.20      2.26      4.22         0.58           NaN   \n",
       "9      Shooter     26.93      0.63      0.28         0.47           NaN   \n",
       "18    Platform     12.78      3.75      3.54         0.55           NaN   \n",
       "21    Platform     10.83      2.71      4.18         0.42           NaN   \n",
       "22    Platform      9.54      3.44      3.84         0.46           NaN   \n",
       "50   Adventure      6.16      2.04      2.69         0.29           NaN   \n",
       "56    Platform      5.99      2.15      2.12         0.29           NaN   \n",
       "76      Racing      3.54      1.24      3.81         0.18           NaN   \n",
       "89      Puzzle      7.28      0.45      0.00         0.08           NaN   \n",
       "98    Platform      5.39      1.18      0.70         0.19           NaN   \n",
       "124     Action      3.74      0.93      1.69         0.14           NaN   \n",
       "137   Fighting      2.47      0.83      2.87         0.12           NaN   \n",
       "145   Platform      4.47      1.20      0.16         0.19           NaN   \n",
       "157     Puzzle      2.97      0.69      1.81         0.11           NaN   \n",
       "\n",
       "    user_score rating  \n",
       "1          NaN    NaN  \n",
       "5          NaN    NaN  \n",
       "9          NaN    NaN  \n",
       "18         NaN    NaN  \n",
       "21         NaN    NaN  \n",
       "22         NaN    NaN  \n",
       "50         NaN    NaN  \n",
       "56         NaN    NaN  \n",
       "76         NaN    NaN  \n",
       "89         NaN    NaN  \n",
       "98         NaN    NaN  \n",
       "124        NaN    NaN  \n",
       "137        NaN    NaN  \n",
       "145        NaN    NaN  \n",
       "157        NaN    NaN  "
      ]
     },
     "execution_count": 9,
     "metadata": {},
     "output_type": "execute_result"
    }
   ],
   "source": [
    "data.loc[data['year_of_release'] < 1994].head(15)"
   ]
  },
  {
   "cell_type": "code",
   "execution_count": 10,
   "metadata": {},
   "outputs": [
    {
     "data": {
      "text/html": [
       "<div>\n",
       "<style scoped>\n",
       "    .dataframe tbody tr th:only-of-type {\n",
       "        vertical-align: middle;\n",
       "    }\n",
       "\n",
       "    .dataframe tbody tr th {\n",
       "        vertical-align: top;\n",
       "    }\n",
       "\n",
       "    .dataframe thead th {\n",
       "        text-align: right;\n",
       "    }\n",
       "</style>\n",
       "<table border=\"1\" class=\"dataframe\">\n",
       "  <thead>\n",
       "    <tr style=\"text-align: right;\">\n",
       "      <th></th>\n",
       "      <th>name</th>\n",
       "      <th>platform</th>\n",
       "      <th>year_of_release</th>\n",
       "      <th>genre</th>\n",
       "      <th>na_sales</th>\n",
       "      <th>eu_sales</th>\n",
       "      <th>jp_sales</th>\n",
       "      <th>other_sales</th>\n",
       "      <th>critic_score</th>\n",
       "      <th>user_score</th>\n",
       "      <th>rating</th>\n",
       "    </tr>\n",
       "  </thead>\n",
       "  <tbody>\n",
       "    <tr>\n",
       "      <th>94</th>\n",
       "      <td>FIFA 17</td>\n",
       "      <td>PS4</td>\n",
       "      <td>2016.0</td>\n",
       "      <td>Sports</td>\n",
       "      <td>0.66</td>\n",
       "      <td>5.75</td>\n",
       "      <td>0.08</td>\n",
       "      <td>1.11</td>\n",
       "      <td>85.0</td>\n",
       "      <td>5</td>\n",
       "      <td>E</td>\n",
       "    </tr>\n",
       "    <tr>\n",
       "      <th>108</th>\n",
       "      <td>Pokemon Sun/Moon</td>\n",
       "      <td>3DS</td>\n",
       "      <td>2016.0</td>\n",
       "      <td>Role-Playing</td>\n",
       "      <td>2.98</td>\n",
       "      <td>1.45</td>\n",
       "      <td>2.26</td>\n",
       "      <td>0.45</td>\n",
       "      <td>NaN</td>\n",
       "      <td>NaN</td>\n",
       "      <td>NaN</td>\n",
       "    </tr>\n",
       "    <tr>\n",
       "      <th>171</th>\n",
       "      <td>Uncharted 4: A Thief's End</td>\n",
       "      <td>PS4</td>\n",
       "      <td>2016.0</td>\n",
       "      <td>Shooter</td>\n",
       "      <td>1.85</td>\n",
       "      <td>2.50</td>\n",
       "      <td>0.19</td>\n",
       "      <td>0.85</td>\n",
       "      <td>93.0</td>\n",
       "      <td>7.9</td>\n",
       "      <td>T</td>\n",
       "    </tr>\n",
       "    <tr>\n",
       "      <th>245</th>\n",
       "      <td>Call of Duty: Infinite Warfare</td>\n",
       "      <td>PS4</td>\n",
       "      <td>2016.0</td>\n",
       "      <td>Shooter</td>\n",
       "      <td>1.61</td>\n",
       "      <td>2.00</td>\n",
       "      <td>0.15</td>\n",
       "      <td>0.71</td>\n",
       "      <td>77.0</td>\n",
       "      <td>3.4</td>\n",
       "      <td>M</td>\n",
       "    </tr>\n",
       "    <tr>\n",
       "      <th>289</th>\n",
       "      <td>Battlefield 1</td>\n",
       "      <td>PS4</td>\n",
       "      <td>2016.0</td>\n",
       "      <td>Shooter</td>\n",
       "      <td>1.10</td>\n",
       "      <td>2.15</td>\n",
       "      <td>0.21</td>\n",
       "      <td>0.61</td>\n",
       "      <td>88.0</td>\n",
       "      <td>8.4</td>\n",
       "      <td>M</td>\n",
       "    </tr>\n",
       "    <tr>\n",
       "      <th>325</th>\n",
       "      <td>Tom Clancy's The Division</td>\n",
       "      <td>PS4</td>\n",
       "      <td>2016.0</td>\n",
       "      <td>Shooter</td>\n",
       "      <td>1.35</td>\n",
       "      <td>1.70</td>\n",
       "      <td>0.15</td>\n",
       "      <td>0.60</td>\n",
       "      <td>80.0</td>\n",
       "      <td>7</td>\n",
       "      <td>M</td>\n",
       "    </tr>\n",
       "    <tr>\n",
       "      <th>571</th>\n",
       "      <td>FIFA 17</td>\n",
       "      <td>XOne</td>\n",
       "      <td>2016.0</td>\n",
       "      <td>Sports</td>\n",
       "      <td>0.43</td>\n",
       "      <td>2.05</td>\n",
       "      <td>0.00</td>\n",
       "      <td>0.17</td>\n",
       "      <td>84.0</td>\n",
       "      <td>5.5</td>\n",
       "      <td>E</td>\n",
       "    </tr>\n",
       "    <tr>\n",
       "      <th>640</th>\n",
       "      <td>Call of Duty: Infinite Warfare</td>\n",
       "      <td>XOne</td>\n",
       "      <td>2016.0</td>\n",
       "      <td>Shooter</td>\n",
       "      <td>1.46</td>\n",
       "      <td>0.74</td>\n",
       "      <td>0.00</td>\n",
       "      <td>0.22</td>\n",
       "      <td>78.0</td>\n",
       "      <td>3.1</td>\n",
       "      <td>M</td>\n",
       "    </tr>\n",
       "    <tr>\n",
       "      <th>708</th>\n",
       "      <td>Far Cry: Primal</td>\n",
       "      <td>PS4</td>\n",
       "      <td>2016.0</td>\n",
       "      <td>Action</td>\n",
       "      <td>0.60</td>\n",
       "      <td>1.25</td>\n",
       "      <td>0.06</td>\n",
       "      <td>0.35</td>\n",
       "      <td>76.0</td>\n",
       "      <td>6.3</td>\n",
       "      <td>M</td>\n",
       "    </tr>\n",
       "    <tr>\n",
       "      <th>709</th>\n",
       "      <td>Battlefield 1</td>\n",
       "      <td>XOne</td>\n",
       "      <td>2016.0</td>\n",
       "      <td>Shooter</td>\n",
       "      <td>1.28</td>\n",
       "      <td>0.77</td>\n",
       "      <td>0.00</td>\n",
       "      <td>0.20</td>\n",
       "      <td>87.0</td>\n",
       "      <td>8.2</td>\n",
       "      <td>M</td>\n",
       "    </tr>\n",
       "    <tr>\n",
       "      <th>758</th>\n",
       "      <td>Tom Clancy's The Division</td>\n",
       "      <td>XOne</td>\n",
       "      <td>2016.0</td>\n",
       "      <td>Shooter</td>\n",
       "      <td>1.29</td>\n",
       "      <td>0.68</td>\n",
       "      <td>0.00</td>\n",
       "      <td>0.20</td>\n",
       "      <td>80.0</td>\n",
       "      <td>6.9</td>\n",
       "      <td>M</td>\n",
       "    </tr>\n",
       "    <tr>\n",
       "      <th>767</th>\n",
       "      <td>Overwatch</td>\n",
       "      <td>PS4</td>\n",
       "      <td>2016.0</td>\n",
       "      <td>Shooter</td>\n",
       "      <td>0.81</td>\n",
       "      <td>0.85</td>\n",
       "      <td>0.15</td>\n",
       "      <td>0.33</td>\n",
       "      <td>90.0</td>\n",
       "      <td>6.1</td>\n",
       "      <td>T</td>\n",
       "    </tr>\n",
       "    <tr>\n",
       "      <th>921</th>\n",
       "      <td>NBA 2K17</td>\n",
       "      <td>PS4</td>\n",
       "      <td>2016.0</td>\n",
       "      <td>Sports</td>\n",
       "      <td>1.25</td>\n",
       "      <td>0.27</td>\n",
       "      <td>0.02</td>\n",
       "      <td>0.34</td>\n",
       "      <td>88.0</td>\n",
       "      <td>6.7</td>\n",
       "      <td>E</td>\n",
       "    </tr>\n",
       "    <tr>\n",
       "      <th>968</th>\n",
       "      <td>Mafia III</td>\n",
       "      <td>PS4</td>\n",
       "      <td>2016.0</td>\n",
       "      <td>Action</td>\n",
       "      <td>0.42</td>\n",
       "      <td>1.08</td>\n",
       "      <td>0.03</td>\n",
       "      <td>0.28</td>\n",
       "      <td>68.0</td>\n",
       "      <td>5.1</td>\n",
       "      <td>M</td>\n",
       "    </tr>\n",
       "    <tr>\n",
       "      <th>1007</th>\n",
       "      <td>Madden NFL 17</td>\n",
       "      <td>PS4</td>\n",
       "      <td>2016.0</td>\n",
       "      <td>Sports</td>\n",
       "      <td>1.25</td>\n",
       "      <td>0.17</td>\n",
       "      <td>0.00</td>\n",
       "      <td>0.32</td>\n",
       "      <td>82.0</td>\n",
       "      <td>4.9</td>\n",
       "      <td>E</td>\n",
       "    </tr>\n",
       "    <tr>\n",
       "      <th>1056</th>\n",
       "      <td>No Man's Sky</td>\n",
       "      <td>PS4</td>\n",
       "      <td>2016.0</td>\n",
       "      <td>Action</td>\n",
       "      <td>0.63</td>\n",
       "      <td>0.76</td>\n",
       "      <td>0.03</td>\n",
       "      <td>0.27</td>\n",
       "      <td>71.0</td>\n",
       "      <td>4.5</td>\n",
       "      <td>T</td>\n",
       "    </tr>\n",
       "    <tr>\n",
       "      <th>1107</th>\n",
       "      <td>Dark Souls III</td>\n",
       "      <td>PS4</td>\n",
       "      <td>2016.0</td>\n",
       "      <td>Role-Playing</td>\n",
       "      <td>0.65</td>\n",
       "      <td>0.45</td>\n",
       "      <td>0.34</td>\n",
       "      <td>0.22</td>\n",
       "      <td>89.0</td>\n",
       "      <td>8.8</td>\n",
       "      <td>M</td>\n",
       "    </tr>\n",
       "    <tr>\n",
       "      <th>1216</th>\n",
       "      <td>Ratchet &amp; Clank (2016)</td>\n",
       "      <td>PS4</td>\n",
       "      <td>2016.0</td>\n",
       "      <td>Platform</td>\n",
       "      <td>0.50</td>\n",
       "      <td>0.76</td>\n",
       "      <td>0.04</td>\n",
       "      <td>0.24</td>\n",
       "      <td>NaN</td>\n",
       "      <td>NaN</td>\n",
       "      <td>NaN</td>\n",
       "    </tr>\n",
       "    <tr>\n",
       "      <th>1275</th>\n",
       "      <td>Doom (2016)</td>\n",
       "      <td>PS4</td>\n",
       "      <td>2016.0</td>\n",
       "      <td>Shooter</td>\n",
       "      <td>0.54</td>\n",
       "      <td>0.69</td>\n",
       "      <td>0.02</td>\n",
       "      <td>0.24</td>\n",
       "      <td>NaN</td>\n",
       "      <td>NaN</td>\n",
       "      <td>NaN</td>\n",
       "    </tr>\n",
       "    <tr>\n",
       "      <th>1439</th>\n",
       "      <td>Gears of War 4</td>\n",
       "      <td>XOne</td>\n",
       "      <td>2016.0</td>\n",
       "      <td>Shooter</td>\n",
       "      <td>0.78</td>\n",
       "      <td>0.44</td>\n",
       "      <td>0.00</td>\n",
       "      <td>0.12</td>\n",
       "      <td>84.0</td>\n",
       "      <td>6.2</td>\n",
       "      <td>M</td>\n",
       "    </tr>\n",
       "  </tbody>\n",
       "</table>\n",
       "</div>"
      ],
      "text/plain": [
       "                                name platform  year_of_release         genre  \\\n",
       "94                           FIFA 17      PS4           2016.0        Sports   \n",
       "108                 Pokemon Sun/Moon      3DS           2016.0  Role-Playing   \n",
       "171       Uncharted 4: A Thief's End      PS4           2016.0       Shooter   \n",
       "245   Call of Duty: Infinite Warfare      PS4           2016.0       Shooter   \n",
       "289                    Battlefield 1      PS4           2016.0       Shooter   \n",
       "325        Tom Clancy's The Division      PS4           2016.0       Shooter   \n",
       "571                          FIFA 17     XOne           2016.0        Sports   \n",
       "640   Call of Duty: Infinite Warfare     XOne           2016.0       Shooter   \n",
       "708                  Far Cry: Primal      PS4           2016.0        Action   \n",
       "709                    Battlefield 1     XOne           2016.0       Shooter   \n",
       "758        Tom Clancy's The Division     XOne           2016.0       Shooter   \n",
       "767                        Overwatch      PS4           2016.0       Shooter   \n",
       "921                         NBA 2K17      PS4           2016.0        Sports   \n",
       "968                        Mafia III      PS4           2016.0        Action   \n",
       "1007                   Madden NFL 17      PS4           2016.0        Sports   \n",
       "1056                    No Man's Sky      PS4           2016.0        Action   \n",
       "1107                  Dark Souls III      PS4           2016.0  Role-Playing   \n",
       "1216          Ratchet & Clank (2016)      PS4           2016.0      Platform   \n",
       "1275                     Doom (2016)      PS4           2016.0       Shooter   \n",
       "1439                  Gears of War 4     XOne           2016.0       Shooter   \n",
       "\n",
       "      na_sales  eu_sales  jp_sales  other_sales  critic_score user_score  \\\n",
       "94        0.66      5.75      0.08         1.11          85.0          5   \n",
       "108       2.98      1.45      2.26         0.45           NaN        NaN   \n",
       "171       1.85      2.50      0.19         0.85          93.0        7.9   \n",
       "245       1.61      2.00      0.15         0.71          77.0        3.4   \n",
       "289       1.10      2.15      0.21         0.61          88.0        8.4   \n",
       "325       1.35      1.70      0.15         0.60          80.0          7   \n",
       "571       0.43      2.05      0.00         0.17          84.0        5.5   \n",
       "640       1.46      0.74      0.00         0.22          78.0        3.1   \n",
       "708       0.60      1.25      0.06         0.35          76.0        6.3   \n",
       "709       1.28      0.77      0.00         0.20          87.0        8.2   \n",
       "758       1.29      0.68      0.00         0.20          80.0        6.9   \n",
       "767       0.81      0.85      0.15         0.33          90.0        6.1   \n",
       "921       1.25      0.27      0.02         0.34          88.0        6.7   \n",
       "968       0.42      1.08      0.03         0.28          68.0        5.1   \n",
       "1007      1.25      0.17      0.00         0.32          82.0        4.9   \n",
       "1056      0.63      0.76      0.03         0.27          71.0        4.5   \n",
       "1107      0.65      0.45      0.34         0.22          89.0        8.8   \n",
       "1216      0.50      0.76      0.04         0.24           NaN        NaN   \n",
       "1275      0.54      0.69      0.02         0.24           NaN        NaN   \n",
       "1439      0.78      0.44      0.00         0.12          84.0        6.2   \n",
       "\n",
       "     rating  \n",
       "94        E  \n",
       "108     NaN  \n",
       "171       T  \n",
       "245       M  \n",
       "289       M  \n",
       "325       M  \n",
       "571       E  \n",
       "640       M  \n",
       "708       M  \n",
       "709       M  \n",
       "758       M  \n",
       "767       T  \n",
       "921       E  \n",
       "968       M  \n",
       "1007      E  \n",
       "1056      T  \n",
       "1107      M  \n",
       "1216    NaN  \n",
       "1275    NaN  \n",
       "1439      M  "
      ]
     },
     "execution_count": 10,
     "metadata": {},
     "output_type": "execute_result"
    }
   ],
   "source": [
    "data.loc[data['year_of_release'] == 2016].head(20)"
   ]
  },
  {
   "cell_type": "markdown",
   "metadata": {},
   "source": [
    "*** Проверим данные на соответствие типу:***\n",
    " \n",
    " 0   name               object        +\n",
    " \n",
    " 1   platform           object        +\n",
    " \n",
    " 2   year_of_release    float64       - (необходимо преобразовать целочисленное)\n",
    " \n",
    " 3   genre              object        +\n",
    " \n",
    " 4   na_sales           float64       +\n",
    " \n",
    " 5   eu_sales           float64       +\n",
    " \n",
    " 6   jp_sales           float64       +\n",
    " \n",
    " 7   other_sales        float64       +\n",
    " \n",
    " 8   critic_score       float64       +\n",
    " \n",
    " 9   user_score         object        - (необходимо перевести в числовое)\n",
    " \n",
    " 10  rating             object        +"
   ]
  },
  {
   "cell_type": "code",
   "execution_count": 11,
   "metadata": {},
   "outputs": [],
   "source": [
    "# Преобразуем year_of_release\n",
    "data['year_of_release']=data['year_of_release'].astype(int)"
   ]
  },
  {
   "cell_type": "code",
   "execution_count": 12,
   "metadata": {},
   "outputs": [
    {
     "data": {
      "text/plain": [
       "array(['8', nan, '8.3', '8.5', '6.6', '8.4', '8.6', '7.7', '6.3', '7.4',\n",
       "       '8.2', '9', '7.9', '8.1', '8.7', '7.1', '3.4', '5.3', '4.8', '3.2',\n",
       "       '8.9', '6.4', '7.8', '7.5', '2.6', '7.2', '9.2', '7', '7.3', '4.3',\n",
       "       '7.6', '5.7', '5', '9.1', '6.5', 'tbd', '8.8', '6.9', '9.4', '6.8',\n",
       "       '6.1', '6.7', '5.4', '4', '4.9', '4.5', '9.3', '6.2', '4.2', '6',\n",
       "       '3.7', '4.1', '5.8', '5.6', '5.5', '4.4', '4.6', '5.9', '3.9',\n",
       "       '3.1', '2.9', '5.2', '3.3', '4.7', '5.1', '3.5', '2.5', '1.9', '3',\n",
       "       '2.7', '2.2', '2', '9.5', '2.1', '3.6', '2.8', '1.8', '3.8', '0',\n",
       "       '1.6', '9.6', '2.4', '1.7', '1.1', '0.3', '1.5', '0.7', '1.2',\n",
       "       '2.3', '0.5', '1.3', '0.2', '0.6', '1.4', '0.9', '1', '9.7'],\n",
       "      dtype=object)"
      ]
     },
     "execution_count": 12,
     "metadata": {},
     "output_type": "execute_result"
    }
   ],
   "source": [
    "# Значения в столбце user_score. Необходимо выяснить почему тип данных object\n",
    "data['user_score'].unique()"
   ]
  },
  {
   "cell_type": "code",
   "execution_count": 13,
   "metadata": {},
   "outputs": [],
   "source": [
    "# Среди значений затесалась аббревиатура \"tbd\".To Be Determined, то есть \"Будет определено\". Очень часто подобное сокращение можно встретить в анонсах компьютерных игр в графе \"Дата выхода\"\n",
    "#Заменим на NaN и преобразуем во Float\n",
    "data.loc[data['user_score'] == 'tbd', 'user_score'] = np.nan\n",
    "data['user_score'] = data['user_score'].astype('float')\n"
   ]
  },
  {
   "cell_type": "markdown",
   "metadata": {},
   "source": [
    "Таким образом мы избавились от части пропусков и изменили тип данных в некоторых столбцах."
   ]
  },
  {
   "cell_type": "code",
   "execution_count": 14,
   "metadata": {},
   "outputs": [
    {
     "data": {
      "text/plain": [
       "0"
      ]
     },
     "execution_count": 14,
     "metadata": {},
     "output_type": "execute_result"
    }
   ],
   "source": [
    "# Проверим на явные дубликаты\n",
    "data.duplicated().sum()"
   ]
  },
  {
   "cell_type": "code",
   "execution_count": 15,
   "metadata": {},
   "outputs": [
    {
     "data": {
      "text/html": [
       "<div>\n",
       "<style scoped>\n",
       "    .dataframe tbody tr th:only-of-type {\n",
       "        vertical-align: middle;\n",
       "    }\n",
       "\n",
       "    .dataframe tbody tr th {\n",
       "        vertical-align: top;\n",
       "    }\n",
       "\n",
       "    .dataframe thead th {\n",
       "        text-align: right;\n",
       "    }\n",
       "</style>\n",
       "<table border=\"1\" class=\"dataframe\">\n",
       "  <thead>\n",
       "    <tr style=\"text-align: right;\">\n",
       "      <th></th>\n",
       "      <th>name</th>\n",
       "      <th>platform</th>\n",
       "      <th>year_of_release</th>\n",
       "      <th>genre</th>\n",
       "      <th>na_sales</th>\n",
       "      <th>eu_sales</th>\n",
       "      <th>jp_sales</th>\n",
       "      <th>other_sales</th>\n",
       "      <th>critic_score</th>\n",
       "      <th>user_score</th>\n",
       "      <th>rating</th>\n",
       "    </tr>\n",
       "  </thead>\n",
       "  <tbody>\n",
       "    <tr>\n",
       "      <th>604</th>\n",
       "      <td>Madden NFL 13</td>\n",
       "      <td>PS3</td>\n",
       "      <td>2012</td>\n",
       "      <td>Sports</td>\n",
       "      <td>2.11</td>\n",
       "      <td>0.22</td>\n",
       "      <td>0.00</td>\n",
       "      <td>0.23</td>\n",
       "      <td>83.0</td>\n",
       "      <td>5.5</td>\n",
       "      <td>E</td>\n",
       "    </tr>\n",
       "    <tr>\n",
       "      <th>1190</th>\n",
       "      <td>Need for Speed: Most Wanted</td>\n",
       "      <td>X360</td>\n",
       "      <td>2012</td>\n",
       "      <td>Racing</td>\n",
       "      <td>0.62</td>\n",
       "      <td>0.78</td>\n",
       "      <td>0.01</td>\n",
       "      <td>0.15</td>\n",
       "      <td>83.0</td>\n",
       "      <td>8.5</td>\n",
       "      <td>T</td>\n",
       "    </tr>\n",
       "    <tr>\n",
       "      <th>1591</th>\n",
       "      <td>Need for Speed: Most Wanted</td>\n",
       "      <td>X360</td>\n",
       "      <td>2005</td>\n",
       "      <td>Racing</td>\n",
       "      <td>1.00</td>\n",
       "      <td>0.13</td>\n",
       "      <td>0.02</td>\n",
       "      <td>0.10</td>\n",
       "      <td>83.0</td>\n",
       "      <td>8.5</td>\n",
       "      <td>T</td>\n",
       "    </tr>\n",
       "    <tr>\n",
       "      <th>5972</th>\n",
       "      <td>Need for Speed: Most Wanted</td>\n",
       "      <td>PC</td>\n",
       "      <td>2005</td>\n",
       "      <td>Racing</td>\n",
       "      <td>0.02</td>\n",
       "      <td>0.23</td>\n",
       "      <td>0.00</td>\n",
       "      <td>0.04</td>\n",
       "      <td>82.0</td>\n",
       "      <td>8.5</td>\n",
       "      <td>T</td>\n",
       "    </tr>\n",
       "    <tr>\n",
       "      <th>11715</th>\n",
       "      <td>Need for Speed: Most Wanted</td>\n",
       "      <td>PC</td>\n",
       "      <td>2012</td>\n",
       "      <td>Racing</td>\n",
       "      <td>0.00</td>\n",
       "      <td>0.06</td>\n",
       "      <td>0.00</td>\n",
       "      <td>0.02</td>\n",
       "      <td>82.0</td>\n",
       "      <td>8.5</td>\n",
       "      <td>T</td>\n",
       "    </tr>\n",
       "    <tr>\n",
       "      <th>16230</th>\n",
       "      <td>Madden NFL 13</td>\n",
       "      <td>PS3</td>\n",
       "      <td>2012</td>\n",
       "      <td>Sports</td>\n",
       "      <td>0.00</td>\n",
       "      <td>0.01</td>\n",
       "      <td>0.00</td>\n",
       "      <td>0.00</td>\n",
       "      <td>83.0</td>\n",
       "      <td>5.5</td>\n",
       "      <td>E</td>\n",
       "    </tr>\n",
       "  </tbody>\n",
       "</table>\n",
       "</div>"
      ],
      "text/plain": [
       "                              name platform  year_of_release   genre  \\\n",
       "604                  Madden NFL 13      PS3             2012  Sports   \n",
       "1190   Need for Speed: Most Wanted     X360             2012  Racing   \n",
       "1591   Need for Speed: Most Wanted     X360             2005  Racing   \n",
       "5972   Need for Speed: Most Wanted       PC             2005  Racing   \n",
       "11715  Need for Speed: Most Wanted       PC             2012  Racing   \n",
       "16230                Madden NFL 13      PS3             2012  Sports   \n",
       "\n",
       "       na_sales  eu_sales  jp_sales  other_sales  critic_score  user_score  \\\n",
       "604        2.11      0.22      0.00         0.23          83.0         5.5   \n",
       "1190       0.62      0.78      0.01         0.15          83.0         8.5   \n",
       "1591       1.00      0.13      0.02         0.10          83.0         8.5   \n",
       "5972       0.02      0.23      0.00         0.04          82.0         8.5   \n",
       "11715      0.00      0.06      0.00         0.02          82.0         8.5   \n",
       "16230      0.00      0.01      0.00         0.00          83.0         5.5   \n",
       "\n",
       "      rating  \n",
       "604        E  \n",
       "1190       T  \n",
       "1591       T  \n",
       "5972       T  \n",
       "11715      T  \n",
       "16230      E  "
      ]
     },
     "execution_count": 15,
     "metadata": {},
     "output_type": "execute_result"
    }
   ],
   "source": [
    "#Явных дубликатов нет,посмотрим на неявные. Выберем пару \"игра-консоль\" и посмотрим дубликаты там.\n",
    "data.loc[data.duplicated(subset=['name','platform'],keep= False)]"
   ]
  },
  {
   "cell_type": "markdown",
   "metadata": {},
   "source": [
    "*** Вылезли 3 пары, но обратите внимание на год выхода. В 2012 вышло переиздание игры NFS:most wanted на PC и Xbox 360. Поэтому это не дубли,а вполне самостоятельные игры.***\n",
    "\n",
    "*** А вот игру \"Madden NFL 13\" на PS3 необходимо удалить.Год,платформа,названия идентичны. Причем необходимо сохранить игру с первым вхождением, т.к. в дубле отсутствуют данные о продажах ***\n"
   ]
  },
  {
   "cell_type": "code",
   "execution_count": 16,
   "metadata": {},
   "outputs": [],
   "source": [
    "# Добавим в подмножества год релиза,чтобы не зацепить ремастеры и параметр,который сохранит первое вхождение.\n",
    "data=data.drop_duplicates(subset=['name','platform','year_of_release'],keep='first')"
   ]
  },
  {
   "cell_type": "markdown",
   "metadata": {},
   "source": [
    "***Т.о на весь датасет у нас оказался всего один дубликат,который мы удалили.***"
   ]
  },
  {
   "cell_type": "code",
   "execution_count": 17,
   "metadata": {},
   "outputs": [],
   "source": [
    "#  суммы всех продаж\n",
    "data['total_sales'] = data['na_sales'] + data['eu_sales'] + data['jp_sales'] + data['other_sales']\n"
   ]
  },
  {
   "cell_type": "markdown",
   "metadata": {},
   "source": [
    "### Исследовательский анализ данных"
   ]
  },
  {
   "cell_type": "code",
   "execution_count": 18,
   "metadata": {},
   "outputs": [
    {
     "data": {
      "text/plain": [
       "Text(0, 0.5, 'Количество вышедших игр')"
      ]
     },
     "execution_count": 18,
     "metadata": {},
     "output_type": "execute_result"
    },
    {
     "data": {
      "image/png": "[encoded data removed]",
      "text/plain": [
       "<Figure size 432x288 with 1 Axes>"
      ]
     },
     "metadata": {
      "needs_background": "light"
     },
     "output_type": "display_data"
    }
   ],
   "source": [
    "# Посмторим сколько игр выпускалось в разные годы.Проведем разбивку по годам и посторим график распределения.\n",
    "data_year = data.groupby('year_of_release')['name'].count()\n",
    "data_year.plot(title='Количество игр по годам')\n",
    "plt.xlabel(\"Год выпуска\")\n",
    "plt.ylabel(\"Количество вышедших игр\")"
   ]
  },
  {
   "cell_type": "markdown",
   "metadata": {},
   "source": [
    "***Как мы видим, резкий рост производства видеоигр начался с 2000х в эпоху \"шестого поколения\" ,когда домашние консоли перешли на оптические носители(СD диски вмещали в деяятки раз больше информации),что позволило разарботчикам значительно улучшить качество игр и соответственно рост продаж. В это время выходят PS3 и Xbox360. А в 2005м выходит уже \"седьмое поколение\" PS4 и Xbox one, что продолжило экспоненциальный рост,вплоть до кризиса 2008 года. Потом происходит резкий спад,многие крупные игроки такие как EA , Activision пересматривают свою политику в сторону AAA-проектов, которые гарантировано принесут прибыль,но и количество игр соответственно падает.\n",
    "Поскольку на приставки 6го покколения уже не выпускают новых игр, то смысла рассматривать их для стратегии на будущее нет.***"
   ]
  },
  {
   "cell_type": "code",
   "execution_count": 19,
   "metadata": {},
   "outputs": [
    {
     "data": {
      "text/plain": [
       "platform\n",
       "PS2     1233.56\n",
       "X360     961.24\n",
       "PS3      931.33\n",
       "Wii      891.18\n",
       "DS       802.78\n",
       "PS       727.58\n",
       "PS4      314.14\n",
       "GBA      312.88\n",
       "PSP      289.53\n",
       "3DS      257.81\n",
       "Name: total_sales, dtype: float64"
      ]
     },
     "execution_count": 19,
     "metadata": {},
     "output_type": "execute_result"
    }
   ],
   "source": [
    "#Найдем платформы с наибольшими суммарными продажами и построим распределение по годам\n",
    "top_ten = data.groupby('platform')['total_sales'].sum().sort_values(ascending=False).head(10)\n",
    "top_ten"
   ]
  },
  {
   "cell_type": "code",
   "execution_count": 20,
   "metadata": {},
   "outputs": [
    {
     "data": {
      "text/plain": [
       "Text(0, 0.5, 'Продажи в млн.шт')"
      ]
     },
     "execution_count": 20,
     "metadata": {},
     "output_type": "execute_result"
    },
    {
     "data": {
      "image/png": "[encoded data removed]",
      "text/plain": [
       "<Figure size 1008x432 with 1 Axes>"
      ]
     },
     "metadata": {
      "needs_background": "light"
     },
     "output_type": "display_data"
    }
   ],
   "source": [
    "# Знаю,фильтрация \"колхозная\".Если подскажите как напрямую из top_ten индексы вытащить,то подскажите,пожалуйста.\n",
    "# список самых продаваемых платформ.\n",
    "top = ['PS2','X360','PS3','PS3','Wii','DS','PS','PS4','GBA','PSP','3DS']\n",
    "# Фильтруем через список основной датасет.\n",
    "top_data = data[data.platform.isin(top)]\n",
    "# Через сводную строим график продаж по годам на каждую платформу.\n",
    "top_data.pivot_table(index = 'year_of_release',columns='platform',values = 'total_sales',aggfunc='sum')\\\n",
    ".plot(figsize=(14,6))\n",
    "plt.title(\"Продажи по платформам по годам.\")\n",
    "plt.xlabel(\"Год выхода\")\n",
    "plt.ylabel(\"Продажи в млн.шт\")\n"
   ]
  },
  {
   "cell_type": "markdown",
   "metadata": {},
   "source": [
    "***Как мы видим у всех графиков примерно одинаковый цикл существования - плюс-минус 10 лет. С каждым годом \"тяжесть\" игр растет, \"железо\" текущего поколения перестает быть актуальным,пока совсем сходит на нет.***\n",
    "\n",
    "***Еще бы я отметил одну особенность, которая пригодится для дальнейшего анализа:все платформы из топ 10 имееют волнообразную\n",
    "форму,т.е на старте количество игр растет,пока не выходит на пик(это примерно середина цикла,затем также падает к концу).***\n",
    "\n",
    "***Таким образом для того,чтобы сделать прогноз на будущее, нужно \"срезать\" данные для актуальных консолей и платформ. Примем за отсечку 2014 год,чтобы зацепить все актуальные консоли.***\n"
   ]
  },
  {
   "cell_type": "code",
   "execution_count": 21,
   "metadata": {},
   "outputs": [],
   "source": [
    "# Отсечем неактуальные данные, перезаписав датасет.\n",
    "data = data.query('year_of_release >= 2014')\n"
   ]
  },
  {
   "cell_type": "code",
   "execution_count": 22,
   "metadata": {},
   "outputs": [
    {
     "name": "stdout",
     "output_type": "stream",
     "text": [
      "platform\n",
      "PS4     288.15\n",
      "XOne    140.36\n",
      "3DS      86.68\n",
      "PS3      68.18\n",
      "X360     48.22\n",
      "WiiU     42.98\n",
      "PC       27.05\n",
      "PSV      22.40\n",
      "Wii       5.07\n",
      "PSP       0.36\n",
      "Name: total_sales, dtype: float64\n"
     ]
    },
    {
     "data": {
      "text/plain": [
       "<matplotlib.legend.Legend at 0x7f77e326f4c0>"
      ]
     },
     "execution_count": 22,
     "metadata": {},
     "output_type": "execute_result"
    },
    {
     "data": {
      "image/png": "[encoded data removed]",
      "text/plain": [
       "<Figure size 1008x432 with 1 Axes>"
      ]
     },
     "metadata": {
      "needs_background": "light"
     },
     "output_type": "display_data"
    }
   ],
   "source": [
    "#Проанализируем платформы по продажам и их тенденции. Выберите несколько потенциально прибыльных платформ.\n",
    "#Воспользуемся теми же графиками и методами,что и ранее,но уже на обновленном датасете.\n",
    "print(data.groupby('platform')['total_sales'].sum().sort_values(ascending=False).head(10))\n",
    "data.pivot_table(index = 'year_of_release',columns='platform',values = 'total_sales',aggfunc='sum')\\\n",
    ".plot(figsize=(14,6))\n",
    "plt.title(\"Продажи по платформам с 2014.\")\n",
    "plt.xlabel(\"Год выхода\")\n",
    "plt.ylabel(\"Продажи в млн.шт\")\n",
    "plt.legend(bbox_to_anchor=(1,1))"
   ]
  },
  {
   "cell_type": "markdown",
   "metadata": {},
   "source": [
    "***Как мы видим, у абсолютно всех платформ нисходящий тренд и спад,который характерен для заката любой консоли, независимо от компании производителя. Однако, у 3х из них до конца \"цикла\" еще 4-6 лет, а спад обусловнен кризисом 2008г.***\n",
    "\n",
    "***Это PS4,XOne,WiiU. Именно эти консоли потенциально принесут наибольшую прибыль.***\n",
    "\n",
    "***Еще на этом же графике выделяется график платформы PC, т.е персональных компьютеров. Его главное отличие это отсутствие ярко выраженного пика роста и последующего падения. Это вполне логично,т.к у компьютеров обновляемое железо и как такового жизненного цикла со сменой названия у него нет. Да,продажи у него не самые высокие ,зато стабильные. Поэтому отбрасывать эту ветку для развития продаж точно не стоит.***\n",
    "\n"
   ]
  },
  {
   "cell_type": "code",
   "execution_count": 23,
   "metadata": {},
   "outputs": [
    {
     "data": {
      "text/html": [
       "<div>\n",
       "<style scoped>\n",
       "    .dataframe tbody tr th:only-of-type {\n",
       "        vertical-align: middle;\n",
       "    }\n",
       "\n",
       "    .dataframe tbody tr th {\n",
       "        vertical-align: top;\n",
       "    }\n",
       "\n",
       "    .dataframe thead th {\n",
       "        text-align: right;\n",
       "    }\n",
       "</style>\n",
       "<table border=\"1\" class=\"dataframe\">\n",
       "  <thead>\n",
       "    <tr style=\"text-align: right;\">\n",
       "      <th>platform</th>\n",
       "      <th>3DS</th>\n",
       "      <th>PC</th>\n",
       "      <th>PS3</th>\n",
       "      <th>PS4</th>\n",
       "      <th>PSP</th>\n",
       "      <th>PSV</th>\n",
       "      <th>Wii</th>\n",
       "      <th>WiiU</th>\n",
       "      <th>X360</th>\n",
       "      <th>XOne</th>\n",
       "    </tr>\n",
       "  </thead>\n",
       "  <tbody>\n",
       "    <tr>\n",
       "      <th>count</th>\n",
       "      <td>212.000000</td>\n",
       "      <td>151.000000</td>\n",
       "      <td>219.000000</td>\n",
       "      <td>376.000000</td>\n",
       "      <td>13.000000</td>\n",
       "      <td>295.000000</td>\n",
       "      <td>11.000000</td>\n",
       "      <td>73.000000</td>\n",
       "      <td>111.000000</td>\n",
       "      <td>228.000000</td>\n",
       "    </tr>\n",
       "    <tr>\n",
       "      <th>mean</th>\n",
       "      <td>0.408868</td>\n",
       "      <td>0.179139</td>\n",
       "      <td>0.311324</td>\n",
       "      <td>0.766356</td>\n",
       "      <td>0.027692</td>\n",
       "      <td>0.075932</td>\n",
       "      <td>0.460909</td>\n",
       "      <td>0.588767</td>\n",
       "      <td>0.434414</td>\n",
       "      <td>0.615614</td>\n",
       "    </tr>\n",
       "    <tr>\n",
       "      <th>std</th>\n",
       "      <td>1.188368</td>\n",
       "      <td>0.329359</td>\n",
       "      <td>0.633059</td>\n",
       "      <td>1.614969</td>\n",
       "      <td>0.027735</td>\n",
       "      <td>0.141591</td>\n",
       "      <td>0.625451</td>\n",
       "      <td>1.161467</td>\n",
       "      <td>0.628967</td>\n",
       "      <td>1.046513</td>\n",
       "    </tr>\n",
       "    <tr>\n",
       "      <th>min</th>\n",
       "      <td>0.010000</td>\n",
       "      <td>0.010000</td>\n",
       "      <td>0.010000</td>\n",
       "      <td>0.010000</td>\n",
       "      <td>0.010000</td>\n",
       "      <td>0.010000</td>\n",
       "      <td>0.010000</td>\n",
       "      <td>0.010000</td>\n",
       "      <td>0.010000</td>\n",
       "      <td>0.010000</td>\n",
       "    </tr>\n",
       "    <tr>\n",
       "      <th>25%</th>\n",
       "      <td>0.030000</td>\n",
       "      <td>0.020000</td>\n",
       "      <td>0.040000</td>\n",
       "      <td>0.057500</td>\n",
       "      <td>0.010000</td>\n",
       "      <td>0.020000</td>\n",
       "      <td>0.035000</td>\n",
       "      <td>0.050000</td>\n",
       "      <td>0.070000</td>\n",
       "      <td>0.050000</td>\n",
       "    </tr>\n",
       "    <tr>\n",
       "      <th>50%</th>\n",
       "      <td>0.090000</td>\n",
       "      <td>0.060000</td>\n",
       "      <td>0.110000</td>\n",
       "      <td>0.185000</td>\n",
       "      <td>0.020000</td>\n",
       "      <td>0.040000</td>\n",
       "      <td>0.180000</td>\n",
       "      <td>0.190000</td>\n",
       "      <td>0.180000</td>\n",
       "      <td>0.205000</td>\n",
       "    </tr>\n",
       "    <tr>\n",
       "      <th>75%</th>\n",
       "      <td>0.250000</td>\n",
       "      <td>0.200000</td>\n",
       "      <td>0.325000</td>\n",
       "      <td>0.690000</td>\n",
       "      <td>0.020000</td>\n",
       "      <td>0.090000</td>\n",
       "      <td>0.755000</td>\n",
       "      <td>0.570000</td>\n",
       "      <td>0.505000</td>\n",
       "      <td>0.632500</td>\n",
       "    </tr>\n",
       "    <tr>\n",
       "      <th>max</th>\n",
       "      <td>11.680000</td>\n",
       "      <td>3.050000</td>\n",
       "      <td>5.270000</td>\n",
       "      <td>14.630000</td>\n",
       "      <td>0.090000</td>\n",
       "      <td>1.960000</td>\n",
       "      <td>2.010000</td>\n",
       "      <td>7.090000</td>\n",
       "      <td>4.280000</td>\n",
       "      <td>7.390000</td>\n",
       "    </tr>\n",
       "  </tbody>\n",
       "</table>\n",
       "</div>"
      ],
      "text/plain": [
       "platform         3DS          PC         PS3         PS4        PSP  \\\n",
       "count     212.000000  151.000000  219.000000  376.000000  13.000000   \n",
       "mean        0.408868    0.179139    0.311324    0.766356   0.027692   \n",
       "std         1.188368    0.329359    0.633059    1.614969   0.027735   \n",
       "min         0.010000    0.010000    0.010000    0.010000   0.010000   \n",
       "25%         0.030000    0.020000    0.040000    0.057500   0.010000   \n",
       "50%         0.090000    0.060000    0.110000    0.185000   0.020000   \n",
       "75%         0.250000    0.200000    0.325000    0.690000   0.020000   \n",
       "max        11.680000    3.050000    5.270000   14.630000   0.090000   \n",
       "\n",
       "platform         PSV        Wii       WiiU        X360        XOne  \n",
       "count     295.000000  11.000000  73.000000  111.000000  228.000000  \n",
       "mean        0.075932   0.460909   0.588767    0.434414    0.615614  \n",
       "std         0.141591   0.625451   1.161467    0.628967    1.046513  \n",
       "min         0.010000   0.010000   0.010000    0.010000    0.010000  \n",
       "25%         0.020000   0.035000   0.050000    0.070000    0.050000  \n",
       "50%         0.040000   0.180000   0.190000    0.180000    0.205000  \n",
       "75%         0.090000   0.755000   0.570000    0.505000    0.632500  \n",
       "max         1.960000   2.010000   7.090000    4.280000    7.390000  "
      ]
     },
     "execution_count": 23,
     "metadata": {},
     "output_type": "execute_result"
    }
   ],
   "source": [
    "# Сгруппируем данные по суммарным продажам в разрезе платформ. И посмотрим описательную статистику по квартилям.\n",
    "data.pivot_table(index = 'name', columns = 'platform', values = 'total_sales', aggfunc = 'sum').describe()"
   ]
  },
  {
   "cell_type": "markdown",
   "metadata": {},
   "source": [
    "*** Судя по описательной статистике все 'ящики' лежат в пределах 0.8 млн. Поставим это ограничение и построим графики ***"
   ]
  },
  {
   "cell_type": "code",
   "execution_count": 24,
   "metadata": {},
   "outputs": [
    {
     "data": {
      "text/plain": [
       "Text(0, 0.5, 'Продажи в млн.шт')"
      ]
     },
     "execution_count": 24,
     "metadata": {},
     "output_type": "execute_result"
    },
    {
     "data": {
      "image/png": "[encoded data removed]",
      "text/plain": [
       "<Figure size 432x288 with 1 Axes>"
      ]
     },
     "metadata": {
      "needs_background": "light"
     },
     "output_type": "display_data"
    }
   ],
   "source": [
    "# Box-plot\n",
    "data.pivot_table(index = 'name', columns = 'platform', values = 'total_sales', aggfunc = 'sum').boxplot()\n",
    "plt.ylim(0,0.8)\n",
    "plt.title(\"Box-plot по платформам.\")\n",
    "plt.xlabel(\"Платформы\")\n",
    "plt.ylabel(\"Продажи в млн.шт\")"
   ]
  },
  {
   "cell_type": "markdown",
   "metadata": {},
   "source": [
    "***Как видно из boxplota в лидерах продаж игры на консолях Sony (PS4), Microsoft (Xbox360 и XboxONe) и Nintendo (Wii и WiiU).\n",
    "Их медианы лежат почти в 2 раза выше остальных платформ,да и \"ящики\" намного шире.***\n",
    "\n",
    "***Однако,стоит помнить, что это лидеры во всех 2х компаниях - это связки 6 и 7го поколения, а 6е поколение уже заканчивает свой цикл.Игры на Xbox360 до сих пор хорошо продаются,потому что Microsoft крайне пассивно ведет политику на новом поколении.На Xbox оне мало эксклюзивов, так называемых \"system sellers\" и игры продолжают выходить на 6е и 7е поколение.В отличие от Sony,которая сразу взяла с места в карьер. Ну, а продажи на Wii это фан-база японских геймеров.\n",
    "Не стоит совсем выкидывать Xbox360,Wii из ассортимента,но лучше сосредоточится на громких релизах в их сегменте.***"
   ]
  },
  {
   "cell_type": "markdown",
   "metadata": {},
   "source": [
    "***Посмотрим, как влияют на продажи внутри одной популярной платформы отзывы пользователей и критиков. Построим диаграмму рассеяния и посчитайте корреляцию между отзывами и продажами.***\n",
    "\n",
    "***В качестве объекта исследования я выбрал PS3.***"
   ]
  },
  {
   "cell_type": "code",
   "execution_count": 25,
   "metadata": {},
   "outputs": [
    {
     "data": {
      "text/plain": [
       "Text(0, 0.5, 'Продажи в млн.шт')"
      ]
     },
     "execution_count": 25,
     "metadata": {},
     "output_type": "execute_result"
    },
    {
     "data": {
      "image/png": "[encoded data removed]",
      "text/plain": [
       "<Figure size 432x288 with 1 Axes>"
      ]
     },
     "metadata": {
      "needs_background": "light"
     },
     "output_type": "display_data"
    }
   ],
   "source": [
    "# Выделим данные по интересующей нас консоли\n",
    "ps3 = data.query('platform == \"PS3\"')\n",
    "# Построим диаграмму рассеяния между оценками критиков и общих продаж\n",
    "ps3.plot(x='critic_score', y='total_sales', kind='scatter',grid=True)\n",
    "plt.title(\"Корреляция оценок критиков и продаж.\")\n",
    "plt.xlabel(\"Оценка критиков\")\n",
    "plt.ylabel(\"Продажи в млн.шт\")"
   ]
  },
  {
   "cell_type": "markdown",
   "metadata": {},
   "source": [
    "***Как мы видим из этой диаграммы значительная часть самых продаваемых игр лежит в зоне рейтинга от 70 до 100,что соответсвует\n",
    "высоко оцененным критиками играм.Здесь наблюдается зависимость чем выше рейтинг тем выше продажи.***"
   ]
  },
  {
   "cell_type": "code",
   "execution_count": 26,
   "metadata": {},
   "outputs": [
    {
     "data": {
      "text/plain": [
       "Text(0, 0.5, 'Продажи в млн.шт')"
      ]
     },
     "execution_count": 26,
     "metadata": {},
     "output_type": "execute_result"
    },
    {
     "data": {
      "image/png": "[encoded data removed]",
      "text/plain": [
       "<Figure size 432x288 with 1 Axes>"
      ]
     },
     "metadata": {
      "needs_background": "light"
     },
     "output_type": "display_data"
    }
   ],
   "source": [
    "# Построим диаграмму рассеяния между оценками геймеров и общих продаж\n",
    "ps3.plot(x='user_score', y='total_sales', kind='scatter',grid=True)\n",
    "plt.title(\"Корреляция оценок геймеров и продаж.\")\n",
    "plt.xlabel(\"Оценка геймеров\")\n",
    "plt.ylabel(\"Продажи в млн.шт\")"
   ]
  },
  {
   "cell_type": "markdown",
   "metadata": {},
   "source": [
    "***А вот с оценками геймеров все не так однозначно,что в принципе логично - много людей + много мнений + возможность ставить десятичные оценки = гораздо более размытая диаграмма по сравнению с оценками критиков.***\n",
    "\n",
    "***Проверим через коэффициент корреляции.***"
   ]
  },
  {
   "cell_type": "code",
   "execution_count": 27,
   "metadata": {},
   "outputs": [
    {
     "data": {
      "text/html": [
       "<div>\n",
       "<style scoped>\n",
       "    .dataframe tbody tr th:only-of-type {\n",
       "        vertical-align: middle;\n",
       "    }\n",
       "\n",
       "    .dataframe tbody tr th {\n",
       "        vertical-align: top;\n",
       "    }\n",
       "\n",
       "    .dataframe thead th {\n",
       "        text-align: right;\n",
       "    }\n",
       "</style>\n",
       "<table border=\"1\" class=\"dataframe\">\n",
       "  <thead>\n",
       "    <tr style=\"text-align: right;\">\n",
       "      <th></th>\n",
       "      <th>critic_score</th>\n",
       "      <th>user_score</th>\n",
       "      <th>total_sales</th>\n",
       "    </tr>\n",
       "  </thead>\n",
       "  <tbody>\n",
       "    <tr>\n",
       "      <th>critic_score</th>\n",
       "      <td>1.000000</td>\n",
       "      <td>0.693445</td>\n",
       "      <td>0.446575</td>\n",
       "    </tr>\n",
       "    <tr>\n",
       "      <th>user_score</th>\n",
       "      <td>0.693445</td>\n",
       "      <td>1.000000</td>\n",
       "      <td>-0.166761</td>\n",
       "    </tr>\n",
       "    <tr>\n",
       "      <th>total_sales</th>\n",
       "      <td>0.446575</td>\n",
       "      <td>-0.166761</td>\n",
       "      <td>1.000000</td>\n",
       "    </tr>\n",
       "  </tbody>\n",
       "</table>\n",
       "</div>"
      ],
      "text/plain": [
       "              critic_score  user_score  total_sales\n",
       "critic_score      1.000000    0.693445     0.446575\n",
       "user_score        0.693445    1.000000    -0.166761\n",
       "total_sales       0.446575   -0.166761     1.000000"
      ]
     },
     "execution_count": 27,
     "metadata": {},
     "output_type": "execute_result"
    }
   ],
   "source": [
    "# Выделим корреляциооные столбцы и посчитаем корреляцию\n",
    "ps3 = ps3[['critic_score','user_score', 'total_sales']]\n",
    "ps3.corr()"
   ]
  },
  {
   "cell_type": "markdown",
   "metadata": {},
   "source": [
    "***В целом выводы подтвердились - срденей силы прямая связь между оценками критиков(44%) и слабая обратная связи с оченками геймеров (-16,6%)***\n"
   ]
  },
  {
   "cell_type": "code",
   "execution_count": 28,
   "metadata": {},
   "outputs": [
    {
     "name": "stdout",
     "output_type": "stream",
     "text": [
      "Платформа: X360, Коэффициент кореляции критиков: 0.5257228356581523\n",
      "Платформа: X360, Коэффициент кореляции геймеров: -0.13844457094566498\n",
      "------------\n",
      "Платформа: WiiU, Коэффициент кореляции критиков: 0.3702014124808842\n",
      "Платформа: WiiU, Коэффициент кореляции геймеров: 0.4079264579217078\n",
      "------------\n",
      "Платформа: PS4, Коэффициент кореляции критиков: 0.40266141068104144\n",
      "Платформа: PS4, Коэффициент кореляции геймеров: -0.04013158947269716\n",
      "------------\n",
      "Платформа: XOne, Коэффициент кореляции критиков: 0.42867694370333287\n",
      "Платформа: XOne, Коэффициент кореляции геймеров: -0.07038392806475892\n",
      "------------\n"
     ]
    }
   ],
   "source": [
    "# Проведем корреляцирнный анализ для потенциально прибыльных приставок \n",
    "top = ['X360','WiiU','PS4','XOne']\n",
    "top_data = data[data.platform.isin(top)]\n",
    "# Напишем цикл,который \n",
    "for platform in top:\n",
    "    print(f'Платформа: {platform}, Коэффициент кореляции критиков:',top_data[top_data['platform']==platform]\\\n",
    "          .corr().loc['critic_score','total_sales'])\n",
    "    print(f'Платформа: {platform}, Коэффициент кореляции геймеров:',top_data[top_data['platform']==platform]\\\n",
    "          .corr().loc['user_score','total_sales'])\n",
    "    print('------------')\n",
    "    \n"
   ]
  },
  {
   "cell_type": "markdown",
   "metadata": {},
   "source": [
    "***Как мы видим,цифры несильно отличаются от PS3. или средняя прямая связь с оценками критиков и практически нулевая с оценками геймеров. И причины примерно такие же. ***\n",
    "\n",
    "*** Однако,есть платформа ,которая выделяется. Это - \"WiiU\". На этой платформе связь оценок геймеров выше оценок критиков(ненамного,но по меркам остальных консолей целый прецидент) и связь одинаковой силы. Но это и не секрет- компания Nintendo славится своей фан-базой***\n",
    "\n"
   ]
  },
  {
   "cell_type": "code",
   "execution_count": 29,
   "metadata": {},
   "outputs": [
    {
     "name": "stdout",
     "output_type": "stream",
     "text": [
      "AxesSubplot(0.135,0.125;0.755x0.755)\n",
      "AxesSubplot(0.135,0.125;0.755x0.755)\n"
     ]
    },
    {
     "data": {
      "text/html": [
       "<div>\n",
       "<style scoped>\n",
       "    .dataframe tbody tr th:only-of-type {\n",
       "        vertical-align: middle;\n",
       "    }\n",
       "\n",
       "    .dataframe tbody tr th {\n",
       "        vertical-align: top;\n",
       "    }\n",
       "\n",
       "    .dataframe thead th {\n",
       "        text-align: right;\n",
       "    }\n",
       "</style>\n",
       "<table border=\"1\" class=\"dataframe\">\n",
       "  <thead>\n",
       "    <tr style=\"text-align: right;\">\n",
       "      <th></th>\n",
       "      <th>total_sales</th>\n",
       "      <th>name</th>\n",
       "      <th>relation</th>\n",
       "    </tr>\n",
       "    <tr>\n",
       "      <th>genre</th>\n",
       "      <th></th>\n",
       "      <th></th>\n",
       "      <th></th>\n",
       "    </tr>\n",
       "  </thead>\n",
       "  <tbody>\n",
       "    <tr>\n",
       "      <th>Action</th>\n",
       "      <td>199.36</td>\n",
       "      <td>619</td>\n",
       "      <td>0.322068</td>\n",
       "    </tr>\n",
       "    <tr>\n",
       "      <th>Shooter</th>\n",
       "      <td>170.94</td>\n",
       "      <td>128</td>\n",
       "      <td>1.335469</td>\n",
       "    </tr>\n",
       "    <tr>\n",
       "      <th>Sports</th>\n",
       "      <td>109.48</td>\n",
       "      <td>161</td>\n",
       "      <td>0.680000</td>\n",
       "    </tr>\n",
       "    <tr>\n",
       "      <th>Role-Playing</th>\n",
       "      <td>101.44</td>\n",
       "      <td>221</td>\n",
       "      <td>0.459005</td>\n",
       "    </tr>\n",
       "    <tr>\n",
       "      <th>Misc</th>\n",
       "      <td>37.55</td>\n",
       "      <td>113</td>\n",
       "      <td>0.332301</td>\n",
       "    </tr>\n",
       "    <tr>\n",
       "      <th>Fighting</th>\n",
       "      <td>28.22</td>\n",
       "      <td>60</td>\n",
       "      <td>0.470333</td>\n",
       "    </tr>\n",
       "    <tr>\n",
       "      <th>Racing</th>\n",
       "      <td>27.52</td>\n",
       "      <td>69</td>\n",
       "      <td>0.398841</td>\n",
       "    </tr>\n",
       "    <tr>\n",
       "      <th>Platform</th>\n",
       "      <td>18.09</td>\n",
       "      <td>38</td>\n",
       "      <td>0.476053</td>\n",
       "    </tr>\n",
       "    <tr>\n",
       "      <th>Adventure</th>\n",
       "      <td>17.55</td>\n",
       "      <td>185</td>\n",
       "      <td>0.094865</td>\n",
       "    </tr>\n",
       "    <tr>\n",
       "      <th>Simulation</th>\n",
       "      <td>13.13</td>\n",
       "      <td>44</td>\n",
       "      <td>0.298409</td>\n",
       "    </tr>\n",
       "    <tr>\n",
       "      <th>Strategy</th>\n",
       "      <td>3.96</td>\n",
       "      <td>37</td>\n",
       "      <td>0.107027</td>\n",
       "    </tr>\n",
       "    <tr>\n",
       "      <th>Puzzle</th>\n",
       "      <td>2.21</td>\n",
       "      <td>14</td>\n",
       "      <td>0.157857</td>\n",
       "    </tr>\n",
       "  </tbody>\n",
       "</table>\n",
       "</div>"
      ],
      "text/plain": [
       "              total_sales  name  relation\n",
       "genre                                    \n",
       "Action             199.36   619  0.322068\n",
       "Shooter            170.94   128  1.335469\n",
       "Sports             109.48   161  0.680000\n",
       "Role-Playing       101.44   221  0.459005\n",
       "Misc                37.55   113  0.332301\n",
       "Fighting            28.22    60  0.470333\n",
       "Racing              27.52    69  0.398841\n",
       "Platform            18.09    38  0.476053\n",
       "Adventure           17.55   185  0.094865\n",
       "Simulation          13.13    44  0.298409\n",
       "Strategy             3.96    37  0.107027\n",
       "Puzzle               2.21    14  0.157857"
      ]
     },
     "execution_count": 29,
     "metadata": {},
     "output_type": "execute_result"
    },
    {
     "data": {
      "image/png": "[encoded data removed]",
      "text/plain": [
       "<Figure size 720x720 with 1 Axes>"
      ]
     },
     "metadata": {},
     "output_type": "display_data"
    },
    {
     "data": {
      "image/png": "[encoded data removed]",
      "text/plain": [
       "<Figure size 720x720 with 1 Axes>"
      ]
     },
     "metadata": {},
     "output_type": "display_data"
    }
   ],
   "source": [
    "#Посмотрите на общее распределение игр по жанрам.\n",
    "\n",
    "# Сводная продаж по жанрам\n",
    "genre = data.pivot_table(index = 'genre', values = 'total_sales', aggfunc = 'sum').sort_values\\\n",
    "(by='total_sales',ascending=False)\n",
    "# круговая по продажам\n",
    "print(genre.plot(y='total_sales',kind='pie',figsize=(10,10)))\n",
    "plt.legend(bbox_to_anchor=(1,1))\n",
    "plt.title(\"Диарамма количеству продаж игр по жанрам.\")\n",
    "# Сводная количество игр по жанрам\n",
    "count_genre = data.pivot_table(index = 'genre', values = 'name', aggfunc = 'count').sort_values\\\n",
    "(by='name',ascending=False)\n",
    "#  круговая по количеству игр\n",
    "print(count_genre.plot(y='name',kind='pie',figsize=(10,10)))\n",
    "plt.legend(bbox_to_anchor=(1,1))\n",
    "plt.title(\"Диарамма количеству выпущенных игр по жанрам.\")\n",
    "\n",
    "# объеденим таблицы для оценки \n",
    "analis_genre = genre.merge(count_genre, on='genre')\n",
    "analis_genre['relation'] = analis_genre['total_sales']/analis_genre['name']\n",
    "analis_genre"
   ]
  },
  {
   "cell_type": "markdown",
   "metadata": {},
   "source": [
    "***По круговым диаграммам видно насколько первая 5ка(Action,Sports,Shooter,Misc,Role-Playing) жанров перевешивает по продажам(да и по соотношению выпущенных игр) по отношению ко всем остальным.***\n",
    "\n",
    "***Итак, по продажам у нас абсолютный лидер, это жанр \"Action\", однако, стоит заметить,что игр этого жанра выпускается запредельное количество. Почти в 2,5 раза больше ближайшего жанра. И коэф соотношения 0,32. Спросом пользуется не каждая игра. При наполнении ассортимента стоит это помнить.***\n",
    "\n",
    "***Неплохое соотношении в этом плане в категории \"Sport\" . Тоже весомые продажи с соотношением 0.68 . Здесь с ассортиментом все просто - делайте ставку на \"Fifa N\", где N это текущий год, не прогадаете)***\n",
    "\n",
    "***Ну, и абсолютный победитель  в этом плане \"Shooter\", 2й объем продаж и фантастические 1,33 млн на каждую выпущенную игру.***\n",
    " \n",
    "\n",
    "***Совсем невысокие коэф продаж у Strategy и Adventure,хотя  Adventure в чистом виде как жанр практически не выходит и зачастую \"склеен\" с жанром \"Action\", да и вообще наблюдается тенденция к объединению жанров.А стратегии выходят только на ПК.  ***"
   ]
  },
  {
   "cell_type": "markdown",
   "metadata": {},
   "source": [
    "### Портрет игрока."
   ]
  },
  {
   "cell_type": "markdown",
   "metadata": {},
   "source": [
    "Исследуем предпочтения пользователей в 3х регионах Европе,Америке и Японии."
   ]
  },
  {
   "cell_type": "code",
   "execution_count": 30,
   "metadata": {},
   "outputs": [
    {
     "data": {
      "text/plain": [
       "Text(0, 0.5, 'Продажи в млн.шт')"
      ]
     },
     "execution_count": 30,
     "metadata": {},
     "output_type": "execute_result"
    },
    {
     "data": {
      "image/png": "[encoded data removed]",
      "text/plain": [
       "<Figure size 432x288 with 1 Axes>"
      ]
     },
     "metadata": {
      "needs_background": "light"
     },
     "output_type": "display_data"
    },
    {
     "data": {
      "image/png": "[encoded data removed]",
      "text/plain": [
       "<Figure size 432x288 with 1 Axes>"
      ]
     },
     "metadata": {
      "needs_background": "light"
     },
     "output_type": "display_data"
    },
    {
     "data": {
      "image/png": "[encoded data removed]",
      "text/plain": [
       "<Figure size 432x288 with 1 Axes>"
      ]
     },
     "metadata": {
      "needs_background": "light"
     },
     "output_type": "display_data"
    }
   ],
   "source": [
    "# Рассмотрим 5 самых популярных платформ во всех регионах через графики.\n",
    "data.pivot_table(index = 'platform', values = 'na_sales', aggfunc = 'sum').sort_values(by='na_sales', ascending=False)\\\n",
    "[:5].plot(kind ='bar',grid = True)\n",
    "plt.title(\"Продажи игр по платформам в Америке.\")\n",
    "plt.xlabel(\"Платформы\")\n",
    "plt.ylabel(\"Продажи в млн.шт\")\n",
    "\n",
    "data.pivot_table(index = 'platform', values = 'eu_sales', aggfunc = 'sum').sort_values(by='eu_sales', ascending=False)\\\n",
    "[:5].plot(kind='bar',grid = True)\n",
    "plt.title(\"Продажи игр по платформам в Европе.\")\n",
    "plt.xlabel(\"Платформы\")\n",
    "plt.ylabel(\"Продажи в млн.шт\")\n",
    "\n",
    "data.pivot_table(index = 'platform', values = 'jp_sales', aggfunc = 'sum').sort_values(by='jp_sales', ascending=False)\\\n",
    "[:5].plot(kind='bar',grid = True)\n",
    "plt.title(\"Продажи игр по платформам в Японии.\")\n",
    "plt.xlabel(\"Платформы\")\n",
    "plt.ylabel(\"Продажи в млн.шт\")"
   ]
  },
  {
   "cell_type": "markdown",
   "metadata": {},
   "source": [
    "***Как мы видим,  американский и европейский рынок плотно оккупирован текущим поколением консолей.Лидер приставка от Сони, на втором от Майкрософт.В Америке продажи Xbox игр выше, поддерживают местного производителя).В вот в Японии все 5 мест за японскими производителями.***"
   ]
  },
  {
   "cell_type": "code",
   "execution_count": 31,
   "metadata": {},
   "outputs": [
    {
     "data": {
      "text/plain": [
       "Text(0, 0.5, 'Продажи в млн.шт')"
      ]
     },
     "execution_count": 31,
     "metadata": {},
     "output_type": "execute_result"
    },
    {
     "data": {
      "image/png": "[encoded data removed]",
      "text/plain": [
       "<Figure size 432x288 with 1 Axes>"
      ]
     },
     "metadata": {
      "needs_background": "light"
     },
     "output_type": "display_data"
    },
    {
     "data": {
      "image/png": "[encoded data removed]",
      "text/plain": [
       "<Figure size 432x288 with 1 Axes>"
      ]
     },
     "metadata": {
      "needs_background": "light"
     },
     "output_type": "display_data"
    },
    {
     "data": {
      "image/png": "[encoded data removed]",
      "text/plain": [
       "<Figure size 432x288 with 1 Axes>"
      ]
     },
     "metadata": {
      "needs_background": "light"
     },
     "output_type": "display_data"
    }
   ],
   "source": [
    "# Рассмотрим 5 самых популярных жанров во всех регионах через графики.\n",
    "data.pivot_table(index = 'genre', values = 'na_sales', aggfunc = 'sum').sort_values(by='na_sales', ascending=False)[:5]\\\n",
    ".plot(kind ='bar',grid = True)\n",
    "plt.title(\"Продажи игр по жанрам в Америке.\")\n",
    "plt.xlabel(\"Жанры\")\n",
    "plt.ylabel(\"Продажи в млн.шт\")\n",
    "\n",
    "data.pivot_table(index = 'genre', values = 'eu_sales', aggfunc = 'sum').sort_values(by='eu_sales', ascending=False)[:5]\\\n",
    ".plot(kind ='bar',grid = True)\n",
    "plt.title(\"Продажи игр по жанрам в Европе.\")\n",
    "plt.xlabel(\"Жанры\")\n",
    "plt.ylabel(\"Продажи в млн.шт\")\n",
    "\n",
    "data.pivot_table(index = 'genre', values = 'jp_sales', aggfunc = 'sum').sort_values(by='jp_sales', ascending=False)[:5]\\\n",
    ".plot(kind ='bar',grid = True)\n",
    "plt.title(\"Продажи игр по жанрам в Японии.\")\n",
    "plt.xlabel(\"Жанры\")\n",
    "plt.ylabel(\"Продажи в млн.шт\")"
   ]
  },
  {
   "cell_type": "markdown",
   "metadata": {},
   "source": [
    "***Япония-другая планета) Игры не исключения. пока весь остальной мир бегает,стреляет и играет в спортивные симуляторы, японцы предпочитают ролевые игры. Да и уровень продаж существенно отличается,все-таки народа в Японии существенно меньше,чем в США и Европе. ***"
   ]
  },
  {
   "cell_type": "code",
   "execution_count": 32,
   "metadata": {},
   "outputs": [],
   "source": [
    "# Чтобы не потерять игры на которых вообще нет рейтинга поставим \"заглушку\" \"no_rat\"\n",
    "data['rating']=data['rating'].fillna(\"no_ratio\")"
   ]
  },
  {
   "cell_type": "code",
   "execution_count": 33,
   "metadata": {},
   "outputs": [
    {
     "data": {
      "text/plain": [
       "Text(0, 0.5, 'Продажи в млн.шт')"
      ]
     },
     "execution_count": 33,
     "metadata": {},
     "output_type": "execute_result"
    },
    {
     "data": {
      "image/png": "[encoded data removed]",
      "text/plain": [
       "<Figure size 432x288 with 1 Axes>"
      ]
     },
     "metadata": {
      "needs_background": "light"
     },
     "output_type": "display_data"
    },
    {
     "data": {
      "image/png": "[encoded data removed]",
      "text/plain": [
       "<Figure size 432x288 with 1 Axes>"
      ]
     },
     "metadata": {
      "needs_background": "light"
     },
     "output_type": "display_data"
    },
    {
     "data": {
      "image/png": "[encoded data removed]",
      "text/plain": [
       "<Figure size 432x288 with 1 Axes>"
      ]
     },
     "metadata": {
      "needs_background": "light"
     },
     "output_type": "display_data"
    }
   ],
   "source": [
    "# Рассмотрим 5 самых оценок во всех регионах через графики.\n",
    "data.pivot_table(index = 'rating', values = 'na_sales', aggfunc = 'sum').sort_values(by='na_sales', ascending=False)\\\n",
    "[:5].plot(kind ='bar',grid = True)\n",
    "plt.title(\"Продажи игр по жанрам в Америке.\")\n",
    "plt.xlabel(\"Рейтинг 'ERSB' \")\n",
    "plt.ylabel(\"Продажи в млн.шт\")\n",
    "\n",
    "data.pivot_table(index = 'rating', values = 'jp_sales', aggfunc = 'sum').sort_values(by='jp_sales', ascending=False)\\\n",
    "[:5].plot(kind ='bar',grid = True)\n",
    "plt.title(\"Продажи игр по жанрам в Японии.\")\n",
    "plt.xlabel(\"Рейтинг 'ERSB' \")\n",
    "plt.ylabel(\"Продажи в млн.шт\")\n",
    "\n",
    "data.pivot_table(index = 'rating', values = 'eu_sales', aggfunc = 'sum').sort_values(by='eu_sales', ascending=False)\\\n",
    "[:5].plot(kind ='bar',grid = True)\n",
    "plt.title(\"Продажи игр по жанрам в Европе.\")\n",
    "plt.xlabel(\"Рейтинг 'ERSB' \")\n",
    "plt.ylabel(\"Продажи в млн.шт\")"
   ]
  },
  {
   "cell_type": "markdown",
   "metadata": {},
   "source": [
    " ***Для Европы и Америки в целом картины схожи. На первом месте рейтинг M(Mature)-только для взрослых, здесь мы вспоминаем какой жанр у нас крайне популярен и понимаем,что было бы странно,если шутеры(да и многие экшн игры) имели другой рейтинг. ***\n",
    " \n",
    "***А вот в Японии интересная картина. Там в лидерах игры без оценок.Но мы-то помним,что Япония это другая планета). Скорее всего тут в лидерах игры,которые выпущены на территории самой Японии и оценку в ERSB не проходили ***\n"
   ]
  },
  {
   "cell_type": "markdown",
   "metadata": {},
   "source": [
    "### Проверка гипотез."
   ]
  },
  {
   "cell_type": "markdown",
   "metadata": {},
   "source": [
    "***Поскольку у насс достаточно большая выборка(>50),тогда среднее число выборок будет нормально распределено и для проверки наших гипотез мы воспользуемся двусторонним T-тест (или тест Стьюдента),который решает задачу доказательства наличия различий средних значений количественной переменной в случае, когда имеются лишь две сравниваемые группы и независимые группы.***\n",
    "\n",
    "***Для результатов с 99-процентным уровнем достоверности значение выставим alpha = 0,01***\n",
    "\n",
    "\n",
    "***Сформулируем гипотезы и начнем проверку.***\n",
    "\n",
    "***Гипотеза №1:Средние пользовательские рейтинги платформ Xbox One и PC одинаковые. Сформулируем сначала нулевую и альтернативную гипотезу.А затем проверим их.***\n",
    "\n",
    "***Н0 (нулевая гипотеза) - средние пользовательские рейтинги платформ Xbox One и PC одинаковые.***\n",
    "\n",
    "***Н1 (альтернативная гипотеза) - средние пользовательские рейтинги платформ Xbox One и PC отличаются между собой.***"
   ]
  },
  {
   "cell_type": "code",
   "execution_count": 34,
   "metadata": {},
   "outputs": [
    {
     "name": "stdout",
     "output_type": "stream",
     "text": [
      "0.11601398086668832\n",
      "Не получилось отвергнуть нулевую гипотезу\n"
     ]
    }
   ],
   "source": [
    "#Зададим пороговое значение \n",
    "alpha = 0.01\n",
    "#Выведем необходимые нам данные для проверки гипотезы.Сразу необходимо удалить пустые значения, иначе критерий будет равен Nan.\n",
    "pc_rating = data.loc[data['platform']== 'PC']['user_score'].dropna().values\n",
    "one_rating = data.loc[data['platform']== 'XOne']['user_score'].dropna().values\n",
    "# Рассчитаем T-критерий.Выставим опции equal_var = False он выполняет t-тест Welchs, который не предполагает равную дисперсию совокупности.\n",
    "results = st.ttest_ind(pc_rating, one_rating, equal_var=False)\n",
    "# вывод значения p-value на экран \n",
    "print(results.pvalue)\n",
    "# условный оператор с выводом строки с ответом\n",
    "if results.pvalue < alpha:\n",
    "    print(\"Отвергаем нулевую гипотезу\")\n",
    "else:\n",
    "    print(\"Не получилось отвергнуть нулевую гипотезу\") "
   ]
  },
  {
   "cell_type": "markdown",
   "metadata": {},
   "source": [
    "***Итак, мы не можем отвергнуть нулевую гипотезу, а значит рейтинги на этих 2х платформах равны.***\n",
    "\n",
    "***В целом , это закономерный результат исходя из того,что XBox это приставка корпорации \"Microsoft\" и все игры,выходящие на данную консоль портируются на PC, на которой стоит ОС \"Windows\", а это 75% ПК. ***"
   ]
  },
  {
   "cell_type": "markdown",
   "metadata": {},
   "source": [
    "***Теперь проверим гипотезу,что средние пользовательские рейтинги жанров Action (англ. «действие», экшен-игры) и Sports (англ. «спортивные соревнования») разные.\n",
    "Сформулируем гипотезы.\n",
    "Н0 (нулевая гипотеза) - средние пользовательские рейтинги жанров Action и Sports одинаковые.***\n",
    "\n",
    "***Н1 (альтернативная гипотеза) - средние пользовательские рейтинги жанров Action и Sports отличаются между собой.***"
   ]
  },
  {
   "cell_type": "code",
   "execution_count": 35,
   "metadata": {},
   "outputs": [
    {
     "name": "stdout",
     "output_type": "stream",
     "text": [
      "1.1825550382644557e-14\n",
      "Отвергаем нулевую гипотезу\n"
     ]
    }
   ],
   "source": [
    "#Зададим пороговое значение \n",
    "alpha = 0.01\n",
    "#Выведем необходимые нам данные для проверки гипотезы.\n",
    "action_rating = data.loc[data['genre']== 'Action']['user_score'].dropna().values\n",
    "sport_rating = data.loc[data['genre']== 'Sports']['user_score'].dropna().values\n",
    "results = st.ttest_ind(action_rating, sport_rating, equal_var=False)\n",
    "# вывод значения p-value на экран \n",
    "print(results.pvalue)\n",
    "# условный оператор с выводом строки с ответом\n",
    "if results.pvalue < alpha:\n",
    "    print(\"Отвергаем нулевую гипотезу\")\n",
    "else:\n",
    "    print(\"Не получилось отвергнуть нулевую гипотезу\") "
   ]
  },
  {
   "cell_type": "markdown",
   "metadata": {},
   "source": [
    "***В этом случае мы отвергаем нулевую и принимаем альтернативную - рейтинги отличаются между собой. Здесь все просто. Разные жанры - разные методы оценки у игроков, разные рейтинги. Мы лишь подтвердили это с помощью статистики.***"
   ]
  },
  {
   "cell_type": "markdown",
   "metadata": {},
   "source": [
    "### Выводы\n",
    "\n"
   ]
  },
  {
   "cell_type": "markdown",
   "metadata": {},
   "source": [
    "***В ходе нашего исследования были проанализированы данные по продаже игр на разных платформах за период с 1984 - 2016. И целью было спланировать рекламную компанию на 2017г. Ниже подведены итоги исследования***\n",
    "\n",
    "***В ходе исследовательского анализа мы проанализировали:***\n",
    "\n",
    "- Был выявлен примерный жизненный цикл консолей.Выявленный цикл позволил отрезать неактульные данные и уже на вновь сформированном датасете проанализировать игры на каких платформах будут продаваться. Большинство консолей из списка либо завершили, либо завершают цикл.Актуальными на сегодняшний день остаются из 6го поколения : Xbox360 и WII(рекомендации по ассортименту 6го поколения в соответствующем блоке) .И все приставки 7го поколения: PS4,XBoxOne,WiiU. Особый акцент рекомендую сделать на играх PS4, т.к она на лидирующих позициях в 2х из 3 регионов.И лишь в Японии продажи уступают, там Сони на 2месте.\n",
    "\n",
    "- Была проанализирована корреляционная зависимость продаж игр от оценок геймеров и критиков. Корреляционная зависимость была выявлена лишь от оценок критиков, да и связь эта средней силы , максимальный коэффициент составляет 40%. Оценки критиков важны,но не определяющий фактор.\n",
    "\n",
    "- Был произведен анализ продаж игр в зависимости от жанра. Здесь сразу стоит оговориться,что очень сильно влияет регион продаж. В Еропе и Америке это жанр Action,Shooter,Sports, а в Японии это Role-play и Action. Наиболее безопасным жанром являются шутеры, на каждую выпущенную игру приходится более миллиона продаж. В то время как Action игры около 320 000, т.е стоит помнить что размах в продажах тех или иных экш-игр может быть очень большой.В этом жанре я бы рекомендовал сделать ставку на AAA проекты от крупных игроков (EA,Sony,SquareEnix и т.д).\n",
    "- Касаемо рейтингов,то ориентируемся на сектор с буквой \"M\", т.е только для взрослых.\n",
    "- Еще один важный  момент по региональной политике заключается в том,что Япония самый нишевый рынок из всех. Там предпочитают и другие игры нежели в Европе и Америке и предпочитают своих производителей и по приставкам и по играм.\n",
    "\n",
    "*** Если обощить все вышенаписанное, до однострочных выводов то,***\n",
    "\n",
    "***-Если приставка,то PS4. Независимо от региона.***\n",
    "\n",
    "***Если жанр, то Shooters и Action (AAA-проекты от крупных игроков) с рейтингом \"М\" для Европы и Америки.*** \n",
    "\n",
    "***Role-play(японских разработчиков) и Action (AAA-проекты от крупных игроков) для Японии.***\n",
    "\n"
   ]
  }
 ],
 "metadata": {
  "ExecuteTimeLog": [
   {
    "duration": 42,
    "start_time": "2023-03-28T10:59:43.790Z"
   },
   {
    "duration": 375,
    "start_time": "2023-03-28T10:59:57.486Z"
   },
   {
    "duration": 101,
    "start_time": "2023-03-28T10:59:57.862Z"
   },
   {
    "duration": 56,
    "start_time": "2023-03-28T11:00:29.444Z"
   },
   {
    "duration": 52,
    "start_time": "2023-03-28T11:02:26.348Z"
   },
   {
    "duration": 13,
    "start_time": "2023-03-28T11:05:50.788Z"
   },
   {
    "duration": 56,
    "start_time": "2023-03-28T11:07:49.288Z"
   },
   {
    "duration": 12,
    "start_time": "2023-03-28T11:08:06.200Z"
   },
   {
    "duration": 13,
    "start_time": "2023-03-28T11:16:29.934Z"
   },
   {
    "duration": 10,
    "start_time": "2023-03-28T11:20:58.990Z"
   },
   {
    "duration": 44,
    "start_time": "2023-03-28T11:32:01.644Z"
   },
   {
    "duration": 45,
    "start_time": "2023-03-28T11:32:09.463Z"
   },
   {
    "duration": 7,
    "start_time": "2023-03-28T11:32:26.109Z"
   },
   {
    "duration": 6,
    "start_time": "2023-03-28T11:32:54.843Z"
   },
   {
    "duration": 6,
    "start_time": "2023-03-28T11:33:23.881Z"
   },
   {
    "duration": 317,
    "start_time": "2023-03-28T11:33:33.319Z"
   },
   {
    "duration": 50,
    "start_time": "2023-03-28T11:33:33.641Z"
   },
   {
    "duration": 18,
    "start_time": "2023-03-28T11:33:33.692Z"
   },
   {
    "duration": 3,
    "start_time": "2023-03-28T11:33:33.711Z"
   },
   {
    "duration": 71,
    "start_time": "2023-03-28T11:33:33.715Z"
   },
   {
    "duration": 7,
    "start_time": "2023-03-28T11:34:11.600Z"
   },
   {
    "duration": 7,
    "start_time": "2023-03-28T11:34:40.756Z"
   },
   {
    "duration": 8,
    "start_time": "2023-03-28T11:36:29.965Z"
   },
   {
    "duration": 6,
    "start_time": "2023-03-28T11:36:55.618Z"
   },
   {
    "duration": 7,
    "start_time": "2023-03-28T11:38:06.763Z"
   },
   {
    "duration": 4,
    "start_time": "2023-03-28T11:42:16.292Z"
   },
   {
    "duration": 5,
    "start_time": "2023-03-28T11:42:39.109Z"
   },
   {
    "duration": 10,
    "start_time": "2023-03-28T11:45:07.203Z"
   },
   {
    "duration": 8,
    "start_time": "2023-03-28T11:45:13.672Z"
   },
   {
    "duration": 13,
    "start_time": "2023-03-28T11:50:49.523Z"
   },
   {
    "duration": 14,
    "start_time": "2023-03-28T11:51:27.758Z"
   },
   {
    "duration": 45,
    "start_time": "2023-03-28T11:51:54.669Z"
   },
   {
    "duration": 11,
    "start_time": "2023-03-28T11:52:11.979Z"
   },
   {
    "duration": 14,
    "start_time": "2023-03-28T11:52:22.442Z"
   },
   {
    "duration": 12,
    "start_time": "2023-03-28T11:52:45.211Z"
   },
   {
    "duration": 8,
    "start_time": "2023-03-28T11:58:18.021Z"
   },
   {
    "duration": 5,
    "start_time": "2023-03-28T11:58:25.316Z"
   },
   {
    "duration": 9,
    "start_time": "2023-03-28T11:58:35.002Z"
   },
   {
    "duration": 379,
    "start_time": "2023-03-28T11:58:48.668Z"
   },
   {
    "duration": 54,
    "start_time": "2023-03-28T11:58:49.049Z"
   },
   {
    "duration": 14,
    "start_time": "2023-03-28T11:58:49.104Z"
   },
   {
    "duration": 13,
    "start_time": "2023-03-28T11:58:49.120Z"
   },
   {
    "duration": 14,
    "start_time": "2023-03-28T11:58:49.134Z"
   },
   {
    "duration": 24,
    "start_time": "2023-03-28T11:58:49.150Z"
   },
   {
    "duration": 5,
    "start_time": "2023-03-28T11:58:49.176Z"
   },
   {
    "duration": 28,
    "start_time": "2023-03-28T11:58:49.183Z"
   },
   {
    "duration": 360,
    "start_time": "2023-03-28T12:00:23.835Z"
   },
   {
    "duration": 55,
    "start_time": "2023-03-28T12:00:24.197Z"
   },
   {
    "duration": 13,
    "start_time": "2023-03-28T12:00:24.253Z"
   },
   {
    "duration": 3,
    "start_time": "2023-03-28T12:00:24.268Z"
   },
   {
    "duration": 14,
    "start_time": "2023-03-28T12:00:24.273Z"
   },
   {
    "duration": 14,
    "start_time": "2023-03-28T12:00:24.288Z"
   },
   {
    "duration": 7,
    "start_time": "2023-03-28T12:00:24.303Z"
   },
   {
    "duration": 11,
    "start_time": "2023-03-28T12:00:24.311Z"
   },
   {
    "duration": 7,
    "start_time": "2023-03-28T12:00:56.758Z"
   },
   {
    "duration": 325,
    "start_time": "2023-03-28T12:01:02.818Z"
   },
   {
    "duration": 50,
    "start_time": "2023-03-28T12:01:03.145Z"
   },
   {
    "duration": 12,
    "start_time": "2023-03-28T12:01:03.196Z"
   },
   {
    "duration": 2,
    "start_time": "2023-03-28T12:01:03.210Z"
   },
   {
    "duration": 13,
    "start_time": "2023-03-28T12:01:03.214Z"
   },
   {
    "duration": 14,
    "start_time": "2023-03-28T12:01:03.228Z"
   },
   {
    "duration": 6,
    "start_time": "2023-03-28T12:01:03.243Z"
   },
   {
    "duration": 21,
    "start_time": "2023-03-28T12:01:03.250Z"
   },
   {
    "duration": 835,
    "start_time": "2023-03-28T13:33:07.222Z"
   },
   {
    "duration": 12,
    "start_time": "2023-03-28T13:33:34.072Z"
   },
   {
    "duration": 4,
    "start_time": "2023-03-28T13:34:46.880Z"
   },
   {
    "duration": 26,
    "start_time": "2023-03-28T13:57:14.739Z"
   },
   {
    "duration": 51,
    "start_time": "2023-03-28T13:57:30.760Z"
   },
   {
    "duration": 26,
    "start_time": "2023-03-28T13:58:34.839Z"
   },
   {
    "duration": 10,
    "start_time": "2023-03-28T14:01:53.950Z"
   },
   {
    "duration": 7,
    "start_time": "2023-03-28T14:02:28.062Z"
   },
   {
    "duration": 13,
    "start_time": "2023-03-28T14:04:03.832Z"
   },
   {
    "duration": 329,
    "start_time": "2023-03-28T14:04:22.729Z"
   },
   {
    "duration": 52,
    "start_time": "2023-03-28T14:04:23.060Z"
   },
   {
    "duration": 14,
    "start_time": "2023-03-28T14:04:23.114Z"
   },
   {
    "duration": 2,
    "start_time": "2023-03-28T14:04:23.130Z"
   },
   {
    "duration": 21,
    "start_time": "2023-03-28T14:04:23.134Z"
   },
   {
    "duration": 16,
    "start_time": "2023-03-28T14:04:23.157Z"
   },
   {
    "duration": 8,
    "start_time": "2023-03-28T14:04:23.175Z"
   },
   {
    "duration": 3,
    "start_time": "2023-03-28T14:04:23.185Z"
   },
   {
    "duration": 15,
    "start_time": "2023-03-28T14:04:23.190Z"
   },
   {
    "duration": 50,
    "start_time": "2023-03-28T14:04:43.496Z"
   },
   {
    "duration": 16,
    "start_time": "2023-03-28T14:05:03.461Z"
   },
   {
    "duration": 390,
    "start_time": "2023-03-28T14:10:56.068Z"
   },
   {
    "duration": 55,
    "start_time": "2023-03-28T14:10:56.459Z"
   },
   {
    "duration": 21,
    "start_time": "2023-03-28T14:10:56.516Z"
   },
   {
    "duration": 4,
    "start_time": "2023-03-28T14:10:56.540Z"
   },
   {
    "duration": 18,
    "start_time": "2023-03-28T14:10:56.545Z"
   },
   {
    "duration": 17,
    "start_time": "2023-03-28T14:10:56.564Z"
   },
   {
    "duration": 9,
    "start_time": "2023-03-28T14:10:56.582Z"
   },
   {
    "duration": 90,
    "start_time": "2023-03-28T14:10:56.593Z"
   },
   {
    "duration": 0,
    "start_time": "2023-03-28T14:10:56.685Z"
   },
   {
    "duration": 355,
    "start_time": "2023-03-28T14:11:31.687Z"
   },
   {
    "duration": 50,
    "start_time": "2023-03-28T14:11:32.044Z"
   },
   {
    "duration": 12,
    "start_time": "2023-03-28T14:11:32.096Z"
   },
   {
    "duration": 3,
    "start_time": "2023-03-28T14:11:32.110Z"
   },
   {
    "duration": 23,
    "start_time": "2023-03-28T14:11:32.114Z"
   },
   {
    "duration": 14,
    "start_time": "2023-03-28T14:11:32.139Z"
   },
   {
    "duration": 16,
    "start_time": "2023-03-28T14:11:32.155Z"
   },
   {
    "duration": 2,
    "start_time": "2023-03-28T14:11:32.173Z"
   },
   {
    "duration": 90,
    "start_time": "2023-03-28T14:11:32.176Z"
   },
   {
    "duration": 8,
    "start_time": "2023-03-28T14:12:27.252Z"
   },
   {
    "duration": 388,
    "start_time": "2023-03-28T14:12:33.956Z"
   },
   {
    "duration": 52,
    "start_time": "2023-03-28T14:12:34.346Z"
   },
   {
    "duration": 11,
    "start_time": "2023-03-28T14:12:34.399Z"
   },
   {
    "duration": 2,
    "start_time": "2023-03-28T14:12:34.412Z"
   },
   {
    "duration": 15,
    "start_time": "2023-03-28T14:12:34.416Z"
   },
   {
    "duration": 13,
    "start_time": "2023-03-28T14:12:34.432Z"
   },
   {
    "duration": 59,
    "start_time": "2023-03-28T14:12:34.469Z"
   },
   {
    "duration": 0,
    "start_time": "2023-03-28T14:12:34.530Z"
   },
   {
    "duration": 8,
    "start_time": "2023-03-28T14:12:52.310Z"
   },
   {
    "duration": 343,
    "start_time": "2023-03-28T14:12:57.814Z"
   },
   {
    "duration": 53,
    "start_time": "2023-03-28T14:12:58.158Z"
   },
   {
    "duration": 12,
    "start_time": "2023-03-28T14:12:58.213Z"
   },
   {
    "duration": 3,
    "start_time": "2023-03-28T14:12:58.228Z"
   },
   {
    "duration": 18,
    "start_time": "2023-03-28T14:12:58.233Z"
   },
   {
    "duration": 16,
    "start_time": "2023-03-28T14:12:58.253Z"
   },
   {
    "duration": 17,
    "start_time": "2023-03-28T14:12:58.270Z"
   },
   {
    "duration": 3,
    "start_time": "2023-03-28T14:12:58.288Z"
   },
   {
    "duration": 11,
    "start_time": "2023-03-28T14:21:26.088Z"
   },
   {
    "duration": 354,
    "start_time": "2023-03-28T14:24:35.691Z"
   },
   {
    "duration": 50,
    "start_time": "2023-03-28T14:24:36.046Z"
   },
   {
    "duration": 11,
    "start_time": "2023-03-28T14:24:36.098Z"
   },
   {
    "duration": 2,
    "start_time": "2023-03-28T14:24:36.111Z"
   },
   {
    "duration": 13,
    "start_time": "2023-03-28T14:24:36.115Z"
   },
   {
    "duration": 12,
    "start_time": "2023-03-28T14:24:36.129Z"
   },
   {
    "duration": 26,
    "start_time": "2023-03-28T14:24:36.142Z"
   },
   {
    "duration": 3,
    "start_time": "2023-03-28T14:24:36.170Z"
   },
   {
    "duration": 26,
    "start_time": "2023-03-28T14:24:36.174Z"
   },
   {
    "duration": 15,
    "start_time": "2023-03-28T14:37:56.585Z"
   },
   {
    "duration": 28,
    "start_time": "2023-03-28T14:38:18.900Z"
   },
   {
    "duration": 23,
    "start_time": "2023-03-28T14:39:35.938Z"
   },
   {
    "duration": 24,
    "start_time": "2023-03-28T14:40:25.730Z"
   },
   {
    "duration": 19,
    "start_time": "2023-03-28T14:40:39.520Z"
   },
   {
    "duration": 19,
    "start_time": "2023-03-28T14:45:04.509Z"
   },
   {
    "duration": 18,
    "start_time": "2023-03-28T14:46:03.834Z"
   },
   {
    "duration": 9,
    "start_time": "2023-03-28T14:58:42.680Z"
   },
   {
    "duration": 16,
    "start_time": "2023-03-28T14:59:06.111Z"
   },
   {
    "duration": 786,
    "start_time": "2023-03-28T15:01:37.536Z"
   },
   {
    "duration": 4,
    "start_time": "2023-03-28T15:01:43.600Z"
   },
   {
    "duration": 8,
    "start_time": "2023-03-28T15:03:10.732Z"
   },
   {
    "duration": 4,
    "start_time": "2023-03-28T15:03:41.656Z"
   },
   {
    "duration": 3,
    "start_time": "2023-03-28T15:11:58.716Z"
   },
   {
    "duration": 350,
    "start_time": "2023-03-28T15:12:05.099Z"
   },
   {
    "duration": 50,
    "start_time": "2023-03-28T15:12:05.451Z"
   },
   {
    "duration": 11,
    "start_time": "2023-03-28T15:12:05.503Z"
   },
   {
    "duration": 9,
    "start_time": "2023-03-28T15:12:05.516Z"
   },
   {
    "duration": 16,
    "start_time": "2023-03-28T15:12:05.527Z"
   },
   {
    "duration": 25,
    "start_time": "2023-03-28T15:12:05.544Z"
   },
   {
    "duration": 7,
    "start_time": "2023-03-28T15:12:05.571Z"
   },
   {
    "duration": 7,
    "start_time": "2023-03-28T15:12:05.579Z"
   },
   {
    "duration": 33,
    "start_time": "2023-03-28T15:12:05.587Z"
   },
   {
    "duration": 18,
    "start_time": "2023-03-28T15:12:05.621Z"
   },
   {
    "duration": 4,
    "start_time": "2023-03-28T15:12:05.640Z"
   },
   {
    "duration": 24,
    "start_time": "2023-03-28T15:12:05.646Z"
   },
   {
    "duration": 7,
    "start_time": "2023-03-28T15:12:05.671Z"
   },
   {
    "duration": 10,
    "start_time": "2023-03-28T15:13:58.577Z"
   },
   {
    "duration": 16,
    "start_time": "2023-03-28T15:14:09.961Z"
   },
   {
    "duration": 22,
    "start_time": "2023-03-28T15:15:41.099Z"
   },
   {
    "duration": 19,
    "start_time": "2023-03-28T15:16:46.778Z"
   },
   {
    "duration": 28,
    "start_time": "2023-03-28T15:17:12.560Z"
   },
   {
    "duration": 17,
    "start_time": "2023-03-28T15:17:22.741Z"
   },
   {
    "duration": 745,
    "start_time": "2023-03-28T15:18:56.964Z"
   },
   {
    "duration": 7,
    "start_time": "2023-03-28T15:20:04.905Z"
   },
   {
    "duration": 402,
    "start_time": "2023-03-29T06:36:33.896Z"
   },
   {
    "duration": 102,
    "start_time": "2023-03-29T06:36:34.300Z"
   },
   {
    "duration": 14,
    "start_time": "2023-03-29T06:36:34.404Z"
   },
   {
    "duration": 3,
    "start_time": "2023-03-29T06:36:34.420Z"
   },
   {
    "duration": 14,
    "start_time": "2023-03-29T06:36:34.425Z"
   },
   {
    "duration": 14,
    "start_time": "2023-03-29T06:36:34.441Z"
   },
   {
    "duration": 13,
    "start_time": "2023-03-29T06:36:34.457Z"
   },
   {
    "duration": 32,
    "start_time": "2023-03-29T06:36:34.472Z"
   },
   {
    "duration": 18,
    "start_time": "2023-03-29T06:36:34.505Z"
   },
   {
    "duration": 20,
    "start_time": "2023-03-29T06:36:34.525Z"
   },
   {
    "duration": 4,
    "start_time": "2023-03-29T06:36:34.546Z"
   },
   {
    "duration": 12,
    "start_time": "2023-03-29T06:36:34.552Z"
   },
   {
    "duration": 8,
    "start_time": "2023-03-29T06:36:34.565Z"
   },
   {
    "duration": 41,
    "start_time": "2023-03-29T06:36:34.575Z"
   },
   {
    "duration": 8,
    "start_time": "2023-03-29T06:36:34.617Z"
   },
   {
    "duration": 25,
    "start_time": "2023-03-29T06:36:46.189Z"
   },
   {
    "duration": 20,
    "start_time": "2023-03-29T06:36:54.607Z"
   },
   {
    "duration": 2,
    "start_time": "2023-03-29T06:37:31.431Z"
   },
   {
    "duration": 2,
    "start_time": "2023-03-29T06:38:16.895Z"
   },
   {
    "duration": 9,
    "start_time": "2023-03-29T06:45:30.184Z"
   },
   {
    "duration": 12,
    "start_time": "2023-03-29T06:45:47.780Z"
   },
   {
    "duration": 14,
    "start_time": "2023-03-29T06:45:58.311Z"
   },
   {
    "duration": 413,
    "start_time": "2023-03-29T06:47:50.382Z"
   },
   {
    "duration": 52,
    "start_time": "2023-03-29T06:47:50.796Z"
   },
   {
    "duration": 14,
    "start_time": "2023-03-29T06:47:50.850Z"
   },
   {
    "duration": 10,
    "start_time": "2023-03-29T06:47:50.865Z"
   },
   {
    "duration": 16,
    "start_time": "2023-03-29T06:47:50.878Z"
   },
   {
    "duration": 15,
    "start_time": "2023-03-29T06:47:50.896Z"
   },
   {
    "duration": 9,
    "start_time": "2023-03-29T06:47:50.912Z"
   },
   {
    "duration": 5,
    "start_time": "2023-03-29T06:47:50.923Z"
   },
   {
    "duration": 25,
    "start_time": "2023-03-29T06:47:50.930Z"
   },
   {
    "duration": 23,
    "start_time": "2023-03-29T06:47:50.957Z"
   },
   {
    "duration": 21,
    "start_time": "2023-03-29T06:47:50.982Z"
   },
   {
    "duration": 15,
    "start_time": "2023-03-29T06:47:51.005Z"
   },
   {
    "duration": 19,
    "start_time": "2023-03-29T06:47:51.022Z"
   },
   {
    "duration": 20,
    "start_time": "2023-03-29T06:47:51.044Z"
   },
   {
    "duration": 9,
    "start_time": "2023-03-29T06:47:51.066Z"
   },
   {
    "duration": 34,
    "start_time": "2023-03-29T06:47:51.077Z"
   },
   {
    "duration": 26,
    "start_time": "2023-03-29T06:53:59.402Z"
   },
   {
    "duration": 534,
    "start_time": "2023-03-29T06:55:28.923Z"
   },
   {
    "duration": 117,
    "start_time": "2023-03-29T06:57:28.889Z"
   },
   {
    "duration": 6,
    "start_time": "2023-03-29T06:58:00.140Z"
   },
   {
    "duration": 204,
    "start_time": "2023-03-29T07:00:10.877Z"
   },
   {
    "duration": 175,
    "start_time": "2023-03-29T07:02:41.682Z"
   },
   {
    "duration": 8,
    "start_time": "2023-03-29T07:03:15.033Z"
   },
   {
    "duration": 7,
    "start_time": "2023-03-29T07:03:18.623Z"
   },
   {
    "duration": 206,
    "start_time": "2023-03-29T07:03:26.103Z"
   },
   {
    "duration": 143,
    "start_time": "2023-03-29T07:04:39.656Z"
   },
   {
    "duration": 7,
    "start_time": "2023-03-29T07:33:26.173Z"
   },
   {
    "duration": 7,
    "start_time": "2023-03-29T07:34:32.560Z"
   },
   {
    "duration": 10,
    "start_time": "2023-03-29T07:45:05.395Z"
   },
   {
    "duration": 10,
    "start_time": "2023-03-29T07:45:07.726Z"
   },
   {
    "duration": 13,
    "start_time": "2023-03-29T07:45:24.882Z"
   },
   {
    "duration": 16,
    "start_time": "2023-03-29T07:46:14.595Z"
   },
   {
    "duration": 7,
    "start_time": "2023-03-29T07:48:47.734Z"
   },
   {
    "duration": 85,
    "start_time": "2023-03-29T07:54:07.743Z"
   },
   {
    "duration": 9,
    "start_time": "2023-03-29T07:54:21.809Z"
   },
   {
    "duration": 6,
    "start_time": "2023-03-29T07:55:23.807Z"
   },
   {
    "duration": 7,
    "start_time": "2023-03-29T07:55:28.591Z"
   },
   {
    "duration": 414,
    "start_time": "2023-03-29T07:55:34.304Z"
   },
   {
    "duration": 55,
    "start_time": "2023-03-29T07:55:34.720Z"
   },
   {
    "duration": 14,
    "start_time": "2023-03-29T07:55:34.777Z"
   },
   {
    "duration": 3,
    "start_time": "2023-03-29T07:55:34.793Z"
   },
   {
    "duration": 15,
    "start_time": "2023-03-29T07:55:34.803Z"
   },
   {
    "duration": 15,
    "start_time": "2023-03-29T07:55:34.819Z"
   },
   {
    "duration": 8,
    "start_time": "2023-03-29T07:55:34.836Z"
   },
   {
    "duration": 7,
    "start_time": "2023-03-29T07:55:34.845Z"
   },
   {
    "duration": 50,
    "start_time": "2023-03-29T07:55:34.853Z"
   },
   {
    "duration": 22,
    "start_time": "2023-03-29T07:55:34.906Z"
   },
   {
    "duration": 5,
    "start_time": "2023-03-29T07:55:34.930Z"
   },
   {
    "duration": 16,
    "start_time": "2023-03-29T07:55:34.936Z"
   },
   {
    "duration": 10,
    "start_time": "2023-03-29T07:55:34.954Z"
   },
   {
    "duration": 41,
    "start_time": "2023-03-29T07:55:34.966Z"
   },
   {
    "duration": 8,
    "start_time": "2023-03-29T07:55:35.008Z"
   },
   {
    "duration": 412,
    "start_time": "2023-03-29T07:55:35.018Z"
   },
   {
    "duration": 84,
    "start_time": "2023-03-29T07:55:35.432Z"
   },
   {
    "duration": 0,
    "start_time": "2023-03-29T07:55:35.518Z"
   },
   {
    "duration": 7,
    "start_time": "2023-03-29T07:55:44.714Z"
   },
   {
    "duration": 5,
    "start_time": "2023-03-29T07:58:32.791Z"
   },
   {
    "duration": 18,
    "start_time": "2023-03-29T07:59:23.364Z"
   },
   {
    "duration": 8,
    "start_time": "2023-03-29T08:03:28.697Z"
   },
   {
    "duration": 372,
    "start_time": "2023-03-29T08:03:39.157Z"
   },
   {
    "duration": 53,
    "start_time": "2023-03-29T08:03:39.531Z"
   },
   {
    "duration": 16,
    "start_time": "2023-03-29T08:03:39.586Z"
   },
   {
    "duration": 3,
    "start_time": "2023-03-29T08:03:39.604Z"
   },
   {
    "duration": 18,
    "start_time": "2023-03-29T08:03:39.609Z"
   },
   {
    "duration": 16,
    "start_time": "2023-03-29T08:03:39.630Z"
   },
   {
    "duration": 10,
    "start_time": "2023-03-29T08:03:39.648Z"
   },
   {
    "duration": 26,
    "start_time": "2023-03-29T08:03:39.660Z"
   },
   {
    "duration": 34,
    "start_time": "2023-03-29T08:03:39.688Z"
   },
   {
    "duration": 29,
    "start_time": "2023-03-29T08:03:39.724Z"
   },
   {
    "duration": 25,
    "start_time": "2023-03-29T08:03:39.755Z"
   },
   {
    "duration": 8,
    "start_time": "2023-03-29T08:03:39.783Z"
   },
   {
    "duration": 9,
    "start_time": "2023-03-29T08:03:39.793Z"
   },
   {
    "duration": 24,
    "start_time": "2023-03-29T08:03:39.804Z"
   },
   {
    "duration": 8,
    "start_time": "2023-03-29T08:03:39.830Z"
   },
   {
    "duration": 428,
    "start_time": "2023-03-29T08:03:39.840Z"
   },
   {
    "duration": 9,
    "start_time": "2023-03-29T08:03:40.270Z"
   },
   {
    "duration": 22,
    "start_time": "2023-03-29T08:03:40.281Z"
   },
   {
    "duration": 80,
    "start_time": "2023-03-29T08:03:40.304Z"
   },
   {
    "duration": 9,
    "start_time": "2023-03-29T08:03:51.119Z"
   },
   {
    "duration": 9,
    "start_time": "2023-03-29T08:04:39.454Z"
   },
   {
    "duration": 7,
    "start_time": "2023-03-29T08:04:50.795Z"
   },
   {
    "duration": 7,
    "start_time": "2023-03-29T08:05:09.429Z"
   },
   {
    "duration": 369,
    "start_time": "2023-03-29T08:05:25.348Z"
   },
   {
    "duration": 53,
    "start_time": "2023-03-29T08:05:25.719Z"
   },
   {
    "duration": 15,
    "start_time": "2023-03-29T08:05:25.774Z"
   },
   {
    "duration": 3,
    "start_time": "2023-03-29T08:05:25.791Z"
   },
   {
    "duration": 14,
    "start_time": "2023-03-29T08:05:25.798Z"
   },
   {
    "duration": 14,
    "start_time": "2023-03-29T08:05:25.814Z"
   },
   {
    "duration": 10,
    "start_time": "2023-03-29T08:05:25.830Z"
   },
   {
    "duration": 8,
    "start_time": "2023-03-29T08:05:25.842Z"
   },
   {
    "duration": 21,
    "start_time": "2023-03-29T08:05:25.851Z"
   },
   {
    "duration": 23,
    "start_time": "2023-03-29T08:05:25.902Z"
   },
   {
    "duration": 4,
    "start_time": "2023-03-29T08:05:25.927Z"
   },
   {
    "duration": 10,
    "start_time": "2023-03-29T08:05:25.933Z"
   },
   {
    "duration": 10,
    "start_time": "2023-03-29T08:05:25.945Z"
   },
   {
    "duration": 54,
    "start_time": "2023-03-29T08:05:25.957Z"
   },
   {
    "duration": 8,
    "start_time": "2023-03-29T08:05:26.013Z"
   },
   {
    "duration": 391,
    "start_time": "2023-03-29T08:05:26.023Z"
   },
   {
    "duration": 8,
    "start_time": "2023-03-29T08:05:26.416Z"
   },
   {
    "duration": 3,
    "start_time": "2023-03-29T08:05:26.426Z"
   },
   {
    "duration": 73,
    "start_time": "2023-03-29T08:05:46.099Z"
   },
   {
    "duration": 10,
    "start_time": "2023-03-29T08:07:42.709Z"
   },
   {
    "duration": 10,
    "start_time": "2023-03-29T08:08:20.058Z"
   },
   {
    "duration": 10,
    "start_time": "2023-03-29T08:08:41.403Z"
   },
   {
    "duration": 8,
    "start_time": "2023-03-29T08:08:53.590Z"
   },
   {
    "duration": 8,
    "start_time": "2023-03-29T08:09:24.912Z"
   },
   {
    "duration": 7,
    "start_time": "2023-03-29T08:09:59.368Z"
   },
   {
    "duration": 13,
    "start_time": "2023-03-29T08:10:48.034Z"
   },
   {
    "duration": 9,
    "start_time": "2023-03-29T08:10:59.567Z"
   },
   {
    "duration": 6,
    "start_time": "2023-03-29T08:11:19.909Z"
   },
   {
    "duration": 7,
    "start_time": "2023-03-29T08:11:31.842Z"
   },
   {
    "duration": 9,
    "start_time": "2023-03-29T08:11:41.660Z"
   },
   {
    "duration": 10,
    "start_time": "2023-03-29T08:11:53.950Z"
   },
   {
    "duration": 44,
    "start_time": "2023-03-29T08:12:41.248Z"
   },
   {
    "duration": 9,
    "start_time": "2023-03-29T08:12:47.033Z"
   },
   {
    "duration": 3,
    "start_time": "2023-03-29T08:12:53.393Z"
   },
   {
    "duration": 13,
    "start_time": "2023-03-29T08:13:02.995Z"
   },
   {
    "duration": 8,
    "start_time": "2023-03-29T08:13:23.355Z"
   },
   {
    "duration": 59,
    "start_time": "2023-03-29T08:15:41.855Z"
   },
   {
    "duration": 3,
    "start_time": "2023-03-29T08:15:59.791Z"
   },
   {
    "duration": 5,
    "start_time": "2023-03-29T08:16:07.750Z"
   },
   {
    "duration": 7,
    "start_time": "2023-03-29T08:17:16.991Z"
   },
   {
    "duration": 10,
    "start_time": "2023-03-29T08:17:27.604Z"
   },
   {
    "duration": 33,
    "start_time": "2023-03-29T08:18:18.162Z"
   },
   {
    "duration": 58,
    "start_time": "2023-03-29T08:23:05.649Z"
   },
   {
    "duration": 50,
    "start_time": "2023-03-29T08:23:14.367Z"
   },
   {
    "duration": 45,
    "start_time": "2023-03-29T08:23:19.362Z"
   },
   {
    "duration": 45,
    "start_time": "2023-03-29T08:23:25.705Z"
   },
   {
    "duration": 12,
    "start_time": "2023-03-29T08:23:31.104Z"
   },
   {
    "duration": 44,
    "start_time": "2023-03-29T08:25:09.938Z"
   },
   {
    "duration": 47,
    "start_time": "2023-03-29T08:25:33.395Z"
   },
   {
    "duration": 52,
    "start_time": "2023-03-29T08:27:08.058Z"
   },
   {
    "duration": 18,
    "start_time": "2023-03-29T08:31:07.573Z"
   },
   {
    "duration": 24,
    "start_time": "2023-03-29T08:32:27.911Z"
   },
   {
    "duration": 152,
    "start_time": "2023-03-29T08:33:15.893Z"
   },
   {
    "duration": 151,
    "start_time": "2023-03-29T08:33:44.656Z"
   },
   {
    "duration": 24,
    "start_time": "2023-03-29T08:34:02.810Z"
   },
   {
    "duration": 43,
    "start_time": "2023-03-29T08:35:07.847Z"
   },
   {
    "duration": 22,
    "start_time": "2023-03-29T08:36:19.052Z"
   },
   {
    "duration": 4,
    "start_time": "2023-03-29T08:36:25.558Z"
   },
   {
    "duration": 52,
    "start_time": "2023-03-29T08:36:32.105Z"
   },
   {
    "duration": 421,
    "start_time": "2023-03-29T08:36:39.994Z"
   },
   {
    "duration": 39,
    "start_time": "2023-03-29T08:37:42.698Z"
   },
   {
    "duration": 26,
    "start_time": "2023-03-29T08:38:38.397Z"
   },
   {
    "duration": 470,
    "start_time": "2023-03-29T08:39:10.193Z"
   },
   {
    "duration": 4,
    "start_time": "2023-03-29T08:43:25.788Z"
   },
   {
    "duration": 952,
    "start_time": "2023-03-29T08:43:29.694Z"
   },
   {
    "duration": 277,
    "start_time": "2023-03-29T08:44:19.940Z"
   },
   {
    "duration": 258,
    "start_time": "2023-03-29T08:44:54.503Z"
   },
   {
    "duration": 42,
    "start_time": "2023-03-29T08:45:26.151Z"
   },
   {
    "duration": 46,
    "start_time": "2023-03-29T08:45:35.710Z"
   },
   {
    "duration": 53,
    "start_time": "2023-03-29T08:45:48.064Z"
   },
   {
    "duration": 251,
    "start_time": "2023-03-29T08:45:56.425Z"
   },
   {
    "duration": 263,
    "start_time": "2023-03-29T08:55:25.545Z"
   },
   {
    "duration": 271,
    "start_time": "2023-03-29T08:55:36.100Z"
   },
   {
    "duration": 274,
    "start_time": "2023-03-29T08:55:47.563Z"
   },
   {
    "duration": 10,
    "start_time": "2023-03-29T09:27:14.046Z"
   },
   {
    "duration": 7,
    "start_time": "2023-03-29T09:27:27.606Z"
   },
   {
    "duration": 6,
    "start_time": "2023-03-29T09:28:15.780Z"
   },
   {
    "duration": 15,
    "start_time": "2023-03-29T09:28:27.751Z"
   },
   {
    "duration": 15,
    "start_time": "2023-03-29T09:29:03.085Z"
   },
   {
    "duration": 8,
    "start_time": "2023-03-29T09:34:24.786Z"
   },
   {
    "duration": 61,
    "start_time": "2023-03-29T09:35:30.393Z"
   },
   {
    "duration": 365,
    "start_time": "2023-03-29T09:35:35.992Z"
   },
   {
    "duration": 373,
    "start_time": "2023-03-29T09:46:11.493Z"
   },
   {
    "duration": 119,
    "start_time": "2023-03-29T10:20:59.501Z"
   },
   {
    "duration": 185,
    "start_time": "2023-03-29T10:21:15.122Z"
   },
   {
    "duration": 126,
    "start_time": "2023-03-29T10:21:38.954Z"
   },
   {
    "duration": 313,
    "start_time": "2023-03-29T10:23:39.358Z"
   },
   {
    "duration": 135,
    "start_time": "2023-03-29T10:31:23.247Z"
   },
   {
    "duration": 340,
    "start_time": "2023-03-29T10:31:35.012Z"
   },
   {
    "duration": 663,
    "start_time": "2023-03-29T10:34:11.759Z"
   },
   {
    "duration": 54,
    "start_time": "2023-03-29T10:34:12.424Z"
   },
   {
    "duration": 16,
    "start_time": "2023-03-29T10:34:12.480Z"
   },
   {
    "duration": 3,
    "start_time": "2023-03-29T10:34:12.498Z"
   },
   {
    "duration": 19,
    "start_time": "2023-03-29T10:34:12.503Z"
   },
   {
    "duration": 15,
    "start_time": "2023-03-29T10:34:12.524Z"
   },
   {
    "duration": 8,
    "start_time": "2023-03-29T10:34:12.541Z"
   },
   {
    "duration": 10,
    "start_time": "2023-03-29T10:34:12.550Z"
   },
   {
    "duration": 21,
    "start_time": "2023-03-29T10:34:12.561Z"
   },
   {
    "duration": 22,
    "start_time": "2023-03-29T10:34:12.604Z"
   },
   {
    "duration": 8,
    "start_time": "2023-03-29T10:34:12.627Z"
   },
   {
    "duration": 5,
    "start_time": "2023-03-29T10:34:12.636Z"
   },
   {
    "duration": 14,
    "start_time": "2023-03-29T10:34:12.643Z"
   },
   {
    "duration": 30,
    "start_time": "2023-03-29T10:34:12.659Z"
   },
   {
    "duration": 19,
    "start_time": "2023-03-29T10:34:12.690Z"
   },
   {
    "duration": 175,
    "start_time": "2023-03-29T10:34:12.710Z"
   },
   {
    "duration": 16,
    "start_time": "2023-03-29T10:34:12.887Z"
   },
   {
    "duration": 302,
    "start_time": "2023-03-29T10:34:12.905Z"
   },
   {
    "duration": 8,
    "start_time": "2023-03-29T10:34:13.209Z"
   },
   {
    "duration": 379,
    "start_time": "2023-03-29T10:34:13.219Z"
   },
   {
    "duration": 225,
    "start_time": "2023-03-29T10:34:13.600Z"
   },
   {
    "duration": 393,
    "start_time": "2023-03-29T10:34:34.859Z"
   },
   {
    "duration": 297,
    "start_time": "2023-03-29T10:34:52.993Z"
   },
   {
    "duration": 313,
    "start_time": "2023-03-29T10:35:12.338Z"
   },
   {
    "duration": 349,
    "start_time": "2023-03-29T10:35:21.963Z"
   },
   {
    "duration": 312,
    "start_time": "2023-03-29T10:35:31.297Z"
   },
   {
    "duration": 342,
    "start_time": "2023-03-29T10:54:31.533Z"
   },
   {
    "duration": 352,
    "start_time": "2023-03-29T10:55:31.623Z"
   },
   {
    "duration": 90,
    "start_time": "2023-03-29T16:45:13.971Z"
   },
   {
    "duration": 1084,
    "start_time": "2023-03-29T16:45:21.471Z"
   },
   {
    "duration": 221,
    "start_time": "2023-03-29T16:45:22.557Z"
   },
   {
    "duration": 24,
    "start_time": "2023-03-29T16:45:22.782Z"
   },
   {
    "duration": 5,
    "start_time": "2023-03-29T16:45:22.809Z"
   },
   {
    "duration": 22,
    "start_time": "2023-03-29T16:45:22.816Z"
   },
   {
    "duration": 25,
    "start_time": "2023-03-29T16:45:22.855Z"
   },
   {
    "duration": 31,
    "start_time": "2023-03-29T16:45:22.884Z"
   },
   {
    "duration": 19,
    "start_time": "2023-03-29T16:45:22.918Z"
   },
   {
    "duration": 35,
    "start_time": "2023-03-29T16:45:22.939Z"
   },
   {
    "duration": 44,
    "start_time": "2023-03-29T16:45:22.977Z"
   },
   {
    "duration": 22,
    "start_time": "2023-03-29T16:45:23.023Z"
   },
   {
    "duration": 17,
    "start_time": "2023-03-29T16:45:23.051Z"
   },
   {
    "duration": 22,
    "start_time": "2023-03-29T16:45:23.070Z"
   },
   {
    "duration": 38,
    "start_time": "2023-03-29T16:45:23.094Z"
   },
   {
    "duration": 10,
    "start_time": "2023-03-29T16:45:23.134Z"
   },
   {
    "duration": 262,
    "start_time": "2023-03-29T16:45:23.146Z"
   },
   {
    "duration": 11,
    "start_time": "2023-03-29T16:45:23.410Z"
   },
   {
    "duration": 412,
    "start_time": "2023-03-29T16:45:23.424Z"
   },
   {
    "duration": 8,
    "start_time": "2023-03-29T16:45:23.838Z"
   },
   {
    "duration": 424,
    "start_time": "2023-03-29T16:45:23.848Z"
   },
   {
    "duration": 471,
    "start_time": "2023-03-29T16:45:24.277Z"
   },
   {
    "duration": 412,
    "start_time": "2023-03-29T16:45:24.754Z"
   },
   {
    "duration": 361,
    "start_time": "2023-03-29T16:49:17.507Z"
   },
   {
    "duration": 369,
    "start_time": "2023-03-29T17:03:07.698Z"
   },
   {
    "duration": 105,
    "start_time": "2023-03-29T17:19:38.129Z"
   },
   {
    "duration": 42,
    "start_time": "2023-03-29T17:20:08.062Z"
   },
   {
    "duration": 82,
    "start_time": "2023-03-29T17:21:26.747Z"
   },
   {
    "duration": 71,
    "start_time": "2023-03-29T17:21:31.461Z"
   },
   {
    "duration": 16,
    "start_time": "2023-03-29T17:21:57.564Z"
   },
   {
    "duration": 13,
    "start_time": "2023-03-29T17:23:11.819Z"
   },
   {
    "duration": 13,
    "start_time": "2023-03-29T17:24:29.662Z"
   },
   {
    "duration": 16,
    "start_time": "2023-03-29T17:24:58.308Z"
   },
   {
    "duration": 21,
    "start_time": "2023-03-29T17:25:31.443Z"
   },
   {
    "duration": 15,
    "start_time": "2023-03-29T17:25:51.857Z"
   },
   {
    "duration": 18,
    "start_time": "2023-03-29T17:30:06.165Z"
   },
   {
    "duration": 15,
    "start_time": "2023-03-29T17:39:42.466Z"
   },
   {
    "duration": 14,
    "start_time": "2023-03-29T17:40:25.102Z"
   },
   {
    "duration": 145,
    "start_time": "2023-03-29T17:54:43.478Z"
   },
   {
    "duration": 148,
    "start_time": "2023-03-29T17:56:16.944Z"
   },
   {
    "duration": 11,
    "start_time": "2023-03-29T17:57:06.335Z"
   },
   {
    "duration": 127,
    "start_time": "2023-03-29T17:57:57.716Z"
   },
   {
    "duration": 45,
    "start_time": "2023-03-30T04:11:12.856Z"
   },
   {
    "duration": 6,
    "start_time": "2023-03-30T04:14:52.355Z"
   },
   {
    "duration": 755,
    "start_time": "2023-03-30T04:15:58.031Z"
   },
   {
    "duration": 94,
    "start_time": "2023-03-30T04:15:58.789Z"
   },
   {
    "duration": 12,
    "start_time": "2023-03-30T04:15:58.884Z"
   },
   {
    "duration": 5,
    "start_time": "2023-03-30T04:15:58.898Z"
   },
   {
    "duration": 12,
    "start_time": "2023-03-30T04:15:58.904Z"
   },
   {
    "duration": 12,
    "start_time": "2023-03-30T04:15:58.918Z"
   },
   {
    "duration": 6,
    "start_time": "2023-03-30T04:15:58.931Z"
   },
   {
    "duration": 5,
    "start_time": "2023-03-30T04:15:58.968Z"
   },
   {
    "duration": 15,
    "start_time": "2023-03-30T04:15:58.975Z"
   },
   {
    "duration": 18,
    "start_time": "2023-03-30T04:15:58.992Z"
   },
   {
    "duration": 3,
    "start_time": "2023-03-30T04:15:59.012Z"
   },
   {
    "duration": 6,
    "start_time": "2023-03-30T04:15:59.017Z"
   },
   {
    "duration": 48,
    "start_time": "2023-03-30T04:15:59.024Z"
   },
   {
    "duration": 17,
    "start_time": "2023-03-30T04:15:59.073Z"
   },
   {
    "duration": 6,
    "start_time": "2023-03-30T04:15:59.092Z"
   },
   {
    "duration": 173,
    "start_time": "2023-03-30T04:15:59.100Z"
   },
   {
    "duration": 7,
    "start_time": "2023-03-30T04:15:59.275Z"
   },
   {
    "duration": 241,
    "start_time": "2023-03-30T04:15:59.283Z"
   },
   {
    "duration": 8,
    "start_time": "2023-03-30T04:15:59.526Z"
   },
   {
    "duration": 302,
    "start_time": "2023-03-30T04:15:59.535Z"
   },
   {
    "duration": 307,
    "start_time": "2023-03-30T04:15:59.839Z"
   },
   {
    "duration": 284,
    "start_time": "2023-03-30T04:16:00.148Z"
   },
   {
    "duration": 120,
    "start_time": "2023-03-30T04:16:00.433Z"
   },
   {
    "duration": 132,
    "start_time": "2023-03-30T04:16:00.554Z"
   },
   {
    "duration": 9,
    "start_time": "2023-03-30T04:16:00.687Z"
   },
   {
    "duration": 85,
    "start_time": "2023-03-30T04:16:00.698Z"
   },
   {
    "duration": 8,
    "start_time": "2023-03-30T04:19:13.962Z"
   },
   {
    "duration": 7,
    "start_time": "2023-03-30T04:19:35.373Z"
   },
   {
    "duration": 8,
    "start_time": "2023-03-30T04:19:47.602Z"
   },
   {
    "duration": 10377,
    "start_time": "2023-03-30T04:21:04.388Z"
   },
   {
    "duration": 550,
    "start_time": "2023-03-30T04:27:49.102Z"
   },
   {
    "duration": 92,
    "start_time": "2023-03-30T04:27:49.654Z"
   },
   {
    "duration": 13,
    "start_time": "2023-03-30T04:27:49.748Z"
   },
   {
    "duration": 2,
    "start_time": "2023-03-30T04:27:49.763Z"
   },
   {
    "duration": 10,
    "start_time": "2023-03-30T04:27:49.767Z"
   },
   {
    "duration": 12,
    "start_time": "2023-03-30T04:27:49.779Z"
   },
   {
    "duration": 8,
    "start_time": "2023-03-30T04:27:49.792Z"
   },
   {
    "duration": 5,
    "start_time": "2023-03-30T04:27:49.801Z"
   },
   {
    "duration": 19,
    "start_time": "2023-03-30T04:27:49.807Z"
   },
   {
    "duration": 53,
    "start_time": "2023-03-30T04:27:49.829Z"
   },
   {
    "duration": 4,
    "start_time": "2023-03-30T04:27:49.883Z"
   },
   {
    "duration": 8,
    "start_time": "2023-03-30T04:27:49.888Z"
   },
   {
    "duration": 7,
    "start_time": "2023-03-30T04:27:49.898Z"
   },
   {
    "duration": 16,
    "start_time": "2023-03-30T04:27:49.907Z"
   },
   {
    "duration": 7,
    "start_time": "2023-03-30T04:27:49.925Z"
   },
   {
    "duration": 158,
    "start_time": "2023-03-30T04:27:49.933Z"
   },
   {
    "duration": 6,
    "start_time": "2023-03-30T04:27:50.093Z"
   },
   {
    "duration": 238,
    "start_time": "2023-03-30T04:27:50.100Z"
   },
   {
    "duration": 6,
    "start_time": "2023-03-30T04:27:50.339Z"
   },
   {
    "duration": 292,
    "start_time": "2023-03-30T04:27:50.346Z"
   },
   {
    "duration": 311,
    "start_time": "2023-03-30T04:27:50.640Z"
   },
   {
    "duration": 263,
    "start_time": "2023-03-30T04:27:50.953Z"
   },
   {
    "duration": 114,
    "start_time": "2023-03-30T04:27:51.217Z"
   },
   {
    "duration": 114,
    "start_time": "2023-03-30T04:27:51.332Z"
   },
   {
    "duration": 21,
    "start_time": "2023-03-30T04:27:51.448Z"
   },
   {
    "duration": 9017,
    "start_time": "2023-03-30T04:27:51.470Z"
   },
   {
    "duration": 9487,
    "start_time": "2023-03-30T04:28:11.642Z"
   },
   {
    "duration": 778,
    "start_time": "2023-03-30T04:38:57.713Z"
   },
   {
    "duration": 774,
    "start_time": "2023-03-30T04:39:19.638Z"
   },
   {
    "duration": 1993,
    "start_time": "2023-03-30T04:40:04.734Z"
   },
   {
    "duration": 32,
    "start_time": "2023-03-30T04:40:38.790Z"
   },
   {
    "duration": 20,
    "start_time": "2023-03-30T04:41:30.872Z"
   },
   {
    "duration": 729,
    "start_time": "2023-03-30T04:42:45.070Z"
   },
   {
    "duration": 701,
    "start_time": "2023-03-30T04:43:06.261Z"
   },
   {
    "duration": 20,
    "start_time": "2023-03-30T04:43:40.116Z"
   },
   {
    "duration": 37,
    "start_time": "2023-03-30T04:44:43.811Z"
   },
   {
    "duration": 37,
    "start_time": "2023-03-30T04:44:59.348Z"
   },
   {
    "duration": 34,
    "start_time": "2023-03-30T04:50:27.750Z"
   },
   {
    "duration": 38,
    "start_time": "2023-03-30T04:51:01.161Z"
   },
   {
    "duration": 719,
    "start_time": "2023-03-30T04:52:52.112Z"
   },
   {
    "duration": 51,
    "start_time": "2023-03-30T04:52:52.833Z"
   },
   {
    "duration": 12,
    "start_time": "2023-03-30T04:52:52.885Z"
   },
   {
    "duration": 10,
    "start_time": "2023-03-30T04:52:52.898Z"
   },
   {
    "duration": 27,
    "start_time": "2023-03-30T04:52:52.909Z"
   },
   {
    "duration": 13,
    "start_time": "2023-03-30T04:52:52.937Z"
   },
   {
    "duration": 7,
    "start_time": "2023-03-30T04:52:52.951Z"
   },
   {
    "duration": 5,
    "start_time": "2023-03-30T04:52:52.959Z"
   },
   {
    "duration": 22,
    "start_time": "2023-03-30T04:52:52.965Z"
   },
   {
    "duration": 18,
    "start_time": "2023-03-30T04:52:52.989Z"
   },
   {
    "duration": 4,
    "start_time": "2023-03-30T04:52:53.008Z"
   },
   {
    "duration": 5,
    "start_time": "2023-03-30T04:52:53.014Z"
   },
   {
    "duration": 55,
    "start_time": "2023-03-30T04:52:53.020Z"
   },
   {
    "duration": 16,
    "start_time": "2023-03-30T04:52:53.077Z"
   },
   {
    "duration": 7,
    "start_time": "2023-03-30T04:52:53.094Z"
   },
   {
    "duration": 167,
    "start_time": "2023-03-30T04:52:53.103Z"
   },
   {
    "duration": 7,
    "start_time": "2023-03-30T04:52:53.272Z"
   },
   {
    "duration": 255,
    "start_time": "2023-03-30T04:52:53.280Z"
   },
   {
    "duration": 6,
    "start_time": "2023-03-30T04:52:53.537Z"
   },
   {
    "duration": 317,
    "start_time": "2023-03-30T04:52:53.544Z"
   },
   {
    "duration": 291,
    "start_time": "2023-03-30T04:52:53.868Z"
   },
   {
    "duration": 274,
    "start_time": "2023-03-30T04:52:54.160Z"
   },
   {
    "duration": 119,
    "start_time": "2023-03-30T04:52:54.436Z"
   },
   {
    "duration": 123,
    "start_time": "2023-03-30T04:52:54.556Z"
   },
   {
    "duration": 9,
    "start_time": "2023-03-30T04:52:54.680Z"
   },
   {
    "duration": 32,
    "start_time": "2023-03-30T04:52:54.690Z"
   },
   {
    "duration": 604,
    "start_time": "2023-03-30T05:07:59.279Z"
   },
   {
    "duration": 53,
    "start_time": "2023-03-30T05:07:59.885Z"
   },
   {
    "duration": 12,
    "start_time": "2023-03-30T05:07:59.940Z"
   },
   {
    "duration": 4,
    "start_time": "2023-03-30T05:07:59.953Z"
   },
   {
    "duration": 12,
    "start_time": "2023-03-30T05:07:59.969Z"
   },
   {
    "duration": 19,
    "start_time": "2023-03-30T05:07:59.983Z"
   },
   {
    "duration": 9,
    "start_time": "2023-03-30T05:08:00.003Z"
   },
   {
    "duration": 24,
    "start_time": "2023-03-30T05:08:00.014Z"
   },
   {
    "duration": 41,
    "start_time": "2023-03-30T05:08:00.040Z"
   },
   {
    "duration": 18,
    "start_time": "2023-03-30T05:08:00.086Z"
   },
   {
    "duration": 6,
    "start_time": "2023-03-30T05:08:00.106Z"
   },
   {
    "duration": 28,
    "start_time": "2023-03-30T05:08:00.114Z"
   },
   {
    "duration": 25,
    "start_time": "2023-03-30T05:08:00.144Z"
   },
   {
    "duration": 26,
    "start_time": "2023-03-30T05:08:00.181Z"
   },
   {
    "duration": 23,
    "start_time": "2023-03-30T05:08:00.209Z"
   },
   {
    "duration": 186,
    "start_time": "2023-03-30T05:08:00.234Z"
   },
   {
    "duration": 8,
    "start_time": "2023-03-30T05:08:00.422Z"
   },
   {
    "duration": 314,
    "start_time": "2023-03-30T05:08:00.431Z"
   },
   {
    "duration": 6,
    "start_time": "2023-03-30T05:08:00.747Z"
   },
   {
    "duration": 333,
    "start_time": "2023-03-30T05:08:00.754Z"
   },
   {
    "duration": 319,
    "start_time": "2023-03-30T05:08:01.089Z"
   },
   {
    "duration": 298,
    "start_time": "2023-03-30T05:08:01.410Z"
   },
   {
    "duration": 145,
    "start_time": "2023-03-30T05:08:01.709Z"
   },
   {
    "duration": 140,
    "start_time": "2023-03-30T05:08:01.856Z"
   },
   {
    "duration": 13,
    "start_time": "2023-03-30T05:08:01.999Z"
   },
   {
    "duration": 63,
    "start_time": "2023-03-30T05:08:02.014Z"
   },
   {
    "duration": 6,
    "start_time": "2023-03-30T05:08:48.979Z"
   },
   {
    "duration": 69,
    "start_time": "2023-03-30T05:14:20.712Z"
   },
   {
    "duration": 12,
    "start_time": "2023-03-30T05:14:33.357Z"
   },
   {
    "duration": 3,
    "start_time": "2023-03-30T05:16:00.757Z"
   },
   {
    "duration": 729,
    "start_time": "2023-03-30T05:16:05.981Z"
   },
   {
    "duration": 719,
    "start_time": "2023-03-30T05:17:06.701Z"
   },
   {
    "duration": 14,
    "start_time": "2023-03-30T05:17:18.218Z"
   },
   {
    "duration": 13,
    "start_time": "2023-03-30T05:17:47.206Z"
   },
   {
    "duration": 290,
    "start_time": "2023-03-30T05:18:17.405Z"
   },
   {
    "duration": 282,
    "start_time": "2023-03-30T05:18:53.789Z"
   },
   {
    "duration": 363,
    "start_time": "2023-03-30T05:19:03.682Z"
   },
   {
    "duration": 18,
    "start_time": "2023-03-30T05:20:46.076Z"
   },
   {
    "duration": 287,
    "start_time": "2023-03-30T05:21:54.314Z"
   },
   {
    "duration": 319,
    "start_time": "2023-03-30T05:28:16.688Z"
   },
   {
    "duration": 301,
    "start_time": "2023-03-30T05:38:37.923Z"
   },
   {
    "duration": 53,
    "start_time": "2023-03-30T05:39:09.883Z"
   },
   {
    "duration": 403,
    "start_time": "2023-03-30T05:39:20.488Z"
   },
   {
    "duration": 48,
    "start_time": "2023-03-30T05:42:44.238Z"
   },
   {
    "duration": 304,
    "start_time": "2023-03-30T05:42:53.021Z"
   },
   {
    "duration": 4,
    "start_time": "2023-03-30T05:46:15.889Z"
   },
   {
    "duration": 347,
    "start_time": "2023-03-30T05:46:32.353Z"
   },
   {
    "duration": 5,
    "start_time": "2023-03-30T05:47:11.221Z"
   },
   {
    "duration": 332,
    "start_time": "2023-03-30T05:47:18.080Z"
   },
   {
    "duration": 1011,
    "start_time": "2023-03-30T05:47:42.852Z"
   },
   {
    "duration": 727,
    "start_time": "2023-03-30T05:48:04.942Z"
   },
   {
    "duration": 633,
    "start_time": "2023-03-30T06:11:33.548Z"
   },
   {
    "duration": 591,
    "start_time": "2023-03-30T06:14:00.606Z"
   },
   {
    "duration": 676,
    "start_time": "2023-03-30T06:20:58.616Z"
   },
   {
    "duration": 742,
    "start_time": "2023-03-31T07:28:01.307Z"
   },
   {
    "duration": 200,
    "start_time": "2023-03-31T07:28:02.050Z"
   },
   {
    "duration": 11,
    "start_time": "2023-03-31T07:28:02.252Z"
   },
   {
    "duration": 33,
    "start_time": "2023-03-31T07:28:02.265Z"
   },
   {
    "duration": 39,
    "start_time": "2023-03-31T07:28:02.300Z"
   },
   {
    "duration": 30,
    "start_time": "2023-03-31T07:28:02.340Z"
   },
   {
    "duration": 13,
    "start_time": "2023-03-31T07:28:02.372Z"
   },
   {
    "duration": 49,
    "start_time": "2023-03-31T07:28:02.386Z"
   },
   {
    "duration": 33,
    "start_time": "2023-03-31T07:28:02.436Z"
   },
   {
    "duration": 33,
    "start_time": "2023-03-31T07:28:02.471Z"
   },
   {
    "duration": 22,
    "start_time": "2023-03-31T07:28:02.506Z"
   },
   {
    "duration": 39,
    "start_time": "2023-03-31T07:28:02.529Z"
   },
   {
    "duration": 36,
    "start_time": "2023-03-31T07:28:02.569Z"
   },
   {
    "duration": 36,
    "start_time": "2023-03-31T07:28:02.606Z"
   },
   {
    "duration": 25,
    "start_time": "2023-03-31T07:28:02.644Z"
   },
   {
    "duration": 178,
    "start_time": "2023-03-31T07:28:02.670Z"
   },
   {
    "duration": 7,
    "start_time": "2023-03-31T07:28:02.850Z"
   },
   {
    "duration": 246,
    "start_time": "2023-03-31T07:28:02.858Z"
   },
   {
    "duration": 6,
    "start_time": "2023-03-31T07:28:03.105Z"
   },
   {
    "duration": 287,
    "start_time": "2023-03-31T07:28:03.112Z"
   },
   {
    "duration": 283,
    "start_time": "2023-03-31T07:28:03.400Z"
   },
   {
    "duration": 247,
    "start_time": "2023-03-31T07:28:03.684Z"
   },
   {
    "duration": 106,
    "start_time": "2023-03-31T07:28:03.932Z"
   },
   {
    "duration": 108,
    "start_time": "2023-03-31T07:28:04.040Z"
   },
   {
    "duration": 8,
    "start_time": "2023-03-31T07:28:04.150Z"
   },
   {
    "duration": 53,
    "start_time": "2023-03-31T07:28:04.159Z"
   },
   {
    "duration": 557,
    "start_time": "2023-03-31T07:28:04.213Z"
   },
   {
    "duration": 67,
    "start_time": "2023-03-31T08:05:15.607Z"
   },
   {
    "duration": 7,
    "start_time": "2023-03-31T08:05:54.921Z"
   },
   {
    "duration": 12,
    "start_time": "2023-03-31T08:07:01.234Z"
   },
   {
    "duration": 12,
    "start_time": "2023-03-31T08:08:00.624Z"
   },
   {
    "duration": 12,
    "start_time": "2023-03-31T08:08:32.664Z"
   },
   {
    "duration": 13,
    "start_time": "2023-03-31T08:08:46.660Z"
   },
   {
    "duration": 10,
    "start_time": "2023-03-31T08:12:05.774Z"
   },
   {
    "duration": 14,
    "start_time": "2023-03-31T08:12:35.529Z"
   },
   {
    "duration": 14,
    "start_time": "2023-03-31T08:16:43.341Z"
   },
   {
    "duration": 12,
    "start_time": "2023-03-31T08:16:49.286Z"
   },
   {
    "duration": 13,
    "start_time": "2023-03-31T08:17:34.724Z"
   },
   {
    "duration": 78,
    "start_time": "2023-03-31T08:26:51.828Z"
   },
   {
    "duration": 350,
    "start_time": "2023-03-31T08:27:35.617Z"
   },
   {
    "duration": 337,
    "start_time": "2023-03-31T08:28:14.868Z"
   },
   {
    "duration": 13,
    "start_time": "2023-03-31T08:28:45.873Z"
   },
   {
    "duration": 1209,
    "start_time": "2023-03-31T08:33:16.644Z"
   },
   {
    "duration": 1150,
    "start_time": "2023-03-31T08:33:35.376Z"
   },
   {
    "duration": 1211,
    "start_time": "2023-03-31T08:34:28.018Z"
   },
   {
    "duration": 1962,
    "start_time": "2023-03-31T08:34:52.800Z"
   },
   {
    "duration": 557,
    "start_time": "2023-03-31T08:36:29.584Z"
   },
   {
    "duration": 12,
    "start_time": "2023-03-31T08:54:25.772Z"
   },
   {
    "duration": 16,
    "start_time": "2023-03-31T08:55:22.568Z"
   },
   {
    "duration": 11,
    "start_time": "2023-03-31T08:55:33.657Z"
   },
   {
    "duration": 12,
    "start_time": "2023-03-31T08:56:54.333Z"
   },
   {
    "duration": 17,
    "start_time": "2023-03-31T09:07:32.097Z"
   },
   {
    "duration": 111,
    "start_time": "2023-03-31T09:07:40.407Z"
   },
   {
    "duration": 115,
    "start_time": "2023-03-31T09:07:59.017Z"
   },
   {
    "duration": 114,
    "start_time": "2023-03-31T09:08:57.426Z"
   },
   {
    "duration": 120,
    "start_time": "2023-03-31T09:10:51.581Z"
   },
   {
    "duration": 3,
    "start_time": "2023-03-31T09:19:04.802Z"
   },
   {
    "duration": 10,
    "start_time": "2023-03-31T09:20:24.384Z"
   },
   {
    "duration": 11,
    "start_time": "2023-03-31T09:21:26.088Z"
   },
   {
    "duration": 7,
    "start_time": "2023-03-31T09:21:39.743Z"
   },
   {
    "duration": 11,
    "start_time": "2023-03-31T09:22:02.701Z"
   },
   {
    "duration": 10,
    "start_time": "2023-03-31T09:22:35.200Z"
   },
   {
    "duration": 11,
    "start_time": "2023-03-31T09:24:11.239Z"
   },
   {
    "duration": 12,
    "start_time": "2023-03-31T09:24:46.637Z"
   },
   {
    "duration": 117,
    "start_time": "2023-03-31T09:32:35.026Z"
   },
   {
    "duration": 12,
    "start_time": "2023-03-31T09:33:05.810Z"
   },
   {
    "duration": 233,
    "start_time": "2023-03-31T09:44:51.321Z"
   },
   {
    "duration": 145,
    "start_time": "2023-03-31T09:44:57.539Z"
   },
   {
    "duration": 138,
    "start_time": "2023-03-31T09:45:16.678Z"
   },
   {
    "duration": 3,
    "start_time": "2023-03-31T09:45:49.058Z"
   },
   {
    "duration": 8,
    "start_time": "2023-03-31T09:46:38.465Z"
   },
   {
    "duration": 14,
    "start_time": "2023-03-31T09:46:48.769Z"
   },
   {
    "duration": 11,
    "start_time": "2023-03-31T09:48:05.881Z"
   },
   {
    "duration": 11,
    "start_time": "2023-03-31T09:48:53.812Z"
   },
   {
    "duration": 13,
    "start_time": "2023-03-31T09:51:21.787Z"
   },
   {
    "duration": 407,
    "start_time": "2023-03-31T09:57:37.714Z"
   },
   {
    "duration": 378,
    "start_time": "2023-03-31T10:00:34.304Z"
   },
   {
    "duration": 324,
    "start_time": "2023-03-31T10:02:10.163Z"
   },
   {
    "duration": 337,
    "start_time": "2023-03-31T10:02:31.750Z"
   },
   {
    "duration": 404,
    "start_time": "2023-03-31T10:03:25.484Z"
   },
   {
    "duration": 108,
    "start_time": "2023-03-31T10:04:31.714Z"
   },
   {
    "duration": 411,
    "start_time": "2023-03-31T10:04:37.105Z"
   },
   {
    "duration": 97,
    "start_time": "2023-03-31T10:08:42.363Z"
   },
   {
    "duration": 17,
    "start_time": "2023-03-31T10:11:40.230Z"
   },
   {
    "duration": 96,
    "start_time": "2023-03-31T10:11:46.548Z"
   },
   {
    "duration": 321,
    "start_time": "2023-03-31T10:24:16.500Z"
   },
   {
    "duration": 6,
    "start_time": "2023-03-31T10:39:38.213Z"
   },
   {
    "duration": 9,
    "start_time": "2023-03-31T10:40:33.550Z"
   },
   {
    "duration": 7,
    "start_time": "2023-03-31T10:41:06.789Z"
   },
   {
    "duration": 12,
    "start_time": "2023-03-31T10:44:51.332Z"
   },
   {
    "duration": 1095,
    "start_time": "2023-03-31T10:46:09.465Z"
   },
   {
    "duration": 55,
    "start_time": "2023-03-31T10:46:10.561Z"
   },
   {
    "duration": 12,
    "start_time": "2023-03-31T10:46:10.617Z"
   },
   {
    "duration": 11,
    "start_time": "2023-03-31T10:46:10.631Z"
   },
   {
    "duration": 22,
    "start_time": "2023-03-31T10:46:10.643Z"
   },
   {
    "duration": 15,
    "start_time": "2023-03-31T10:46:10.667Z"
   },
   {
    "duration": 25,
    "start_time": "2023-03-31T10:46:10.683Z"
   },
   {
    "duration": 5,
    "start_time": "2023-03-31T10:46:10.710Z"
   },
   {
    "duration": 20,
    "start_time": "2023-03-31T10:46:10.716Z"
   },
   {
    "duration": 26,
    "start_time": "2023-03-31T10:46:10.738Z"
   },
   {
    "duration": 5,
    "start_time": "2023-03-31T10:46:10.765Z"
   },
   {
    "duration": 24,
    "start_time": "2023-03-31T10:46:10.772Z"
   },
   {
    "duration": 8,
    "start_time": "2023-03-31T10:46:10.797Z"
   },
   {
    "duration": 17,
    "start_time": "2023-03-31T10:46:10.806Z"
   },
   {
    "duration": 4,
    "start_time": "2023-03-31T10:46:10.824Z"
   },
   {
    "duration": 150,
    "start_time": "2023-03-31T10:46:10.829Z"
   },
   {
    "duration": 7,
    "start_time": "2023-03-31T10:46:10.980Z"
   },
   {
    "duration": 243,
    "start_time": "2023-03-31T10:46:10.988Z"
   },
   {
    "duration": 16,
    "start_time": "2023-03-31T10:46:11.233Z"
   },
   {
    "duration": 286,
    "start_time": "2023-03-31T10:46:11.250Z"
   },
   {
    "duration": 255,
    "start_time": "2023-03-31T10:46:11.538Z"
   },
   {
    "duration": 256,
    "start_time": "2023-03-31T10:46:11.794Z"
   },
   {
    "duration": 112,
    "start_time": "2023-03-31T10:46:12.052Z"
   },
   {
    "duration": 174,
    "start_time": "2023-03-31T10:46:12.166Z"
   },
   {
    "duration": 12,
    "start_time": "2023-03-31T10:46:12.342Z"
   },
   {
    "duration": 46,
    "start_time": "2023-03-31T10:46:12.355Z"
   },
   {
    "duration": 577,
    "start_time": "2023-03-31T10:46:12.402Z"
   },
   {
    "duration": 356,
    "start_time": "2023-03-31T10:46:12.982Z"
   },
   {
    "duration": 379,
    "start_time": "2023-03-31T10:46:13.340Z"
   },
   {
    "duration": 358,
    "start_time": "2023-03-31T10:46:13.721Z"
   },
   {
    "duration": 9,
    "start_time": "2023-03-31T10:46:14.081Z"
   },
   {
    "duration": 8,
    "start_time": "2023-03-31T10:47:03.257Z"
   },
   {
    "duration": 10,
    "start_time": "2023-03-31T10:47:29.284Z"
   },
   {
    "duration": 7,
    "start_time": "2023-03-31T10:47:48.564Z"
   },
   {
    "duration": 8,
    "start_time": "2023-03-31T10:53:45.691Z"
   },
   {
    "duration": 8,
    "start_time": "2023-03-31T11:02:30.544Z"
   },
   {
    "duration": 8,
    "start_time": "2023-03-31T11:02:43.439Z"
   },
   {
    "duration": 9,
    "start_time": "2023-03-31T11:31:24.951Z"
   },
   {
    "duration": 1459,
    "start_time": "2023-04-01T03:14:44.200Z"
   },
   {
    "duration": 220,
    "start_time": "2023-04-01T03:14:45.661Z"
   },
   {
    "duration": 14,
    "start_time": "2023-04-01T03:14:45.882Z"
   },
   {
    "duration": 3,
    "start_time": "2023-04-01T03:14:45.898Z"
   },
   {
    "duration": 13,
    "start_time": "2023-04-01T03:14:45.903Z"
   },
   {
    "duration": 14,
    "start_time": "2023-04-01T03:14:45.918Z"
   },
   {
    "duration": 22,
    "start_time": "2023-04-01T03:14:45.934Z"
   },
   {
    "duration": 18,
    "start_time": "2023-04-01T03:14:45.958Z"
   },
   {
    "duration": 25,
    "start_time": "2023-04-01T03:14:45.980Z"
   },
   {
    "duration": 24,
    "start_time": "2023-04-01T03:14:46.008Z"
   },
   {
    "duration": 10,
    "start_time": "2023-04-01T03:14:46.034Z"
   },
   {
    "duration": 8,
    "start_time": "2023-04-01T03:14:46.045Z"
   },
   {
    "duration": 9,
    "start_time": "2023-04-01T03:14:46.055Z"
   },
   {
    "duration": 36,
    "start_time": "2023-04-01T03:14:46.065Z"
   },
   {
    "duration": 4,
    "start_time": "2023-04-01T03:14:46.103Z"
   },
   {
    "duration": 178,
    "start_time": "2023-04-01T03:14:46.108Z"
   },
   {
    "duration": 9,
    "start_time": "2023-04-01T03:14:46.288Z"
   },
   {
    "duration": 316,
    "start_time": "2023-04-01T03:14:46.299Z"
   },
   {
    "duration": 8,
    "start_time": "2023-04-01T03:14:46.617Z"
   },
   {
    "duration": 345,
    "start_time": "2023-04-01T03:14:46.626Z"
   },
   {
    "duration": 308,
    "start_time": "2023-04-01T03:14:46.972Z"
   },
   {
    "duration": 323,
    "start_time": "2023-04-01T03:14:47.287Z"
   },
   {
    "duration": 148,
    "start_time": "2023-04-01T03:14:47.612Z"
   },
   {
    "duration": 209,
    "start_time": "2023-04-01T03:14:47.762Z"
   },
   {
    "duration": 16,
    "start_time": "2023-04-01T03:14:47.973Z"
   },
   {
    "duration": 43,
    "start_time": "2023-04-01T03:14:47.991Z"
   },
   {
    "duration": 830,
    "start_time": "2023-04-01T03:14:48.035Z"
   },
   {
    "duration": 464,
    "start_time": "2023-04-01T03:14:48.868Z"
   },
   {
    "duration": 455,
    "start_time": "2023-04-01T03:14:49.334Z"
   },
   {
    "duration": 474,
    "start_time": "2023-04-01T03:14:49.791Z"
   },
   {
    "duration": 10,
    "start_time": "2023-04-01T03:14:50.266Z"
   },
   {
    "duration": 34,
    "start_time": "2023-04-01T03:14:50.287Z"
   },
   {
    "duration": 9,
    "start_time": "2023-04-01T03:24:45.861Z"
   },
   {
    "duration": 9,
    "start_time": "2023-04-01T03:58:26.231Z"
   },
   {
    "duration": 12,
    "start_time": "2023-04-01T03:58:45.464Z"
   },
   {
    "duration": 11,
    "start_time": "2023-04-01T03:59:06.285Z"
   },
   {
    "duration": 11,
    "start_time": "2023-04-01T04:00:18.003Z"
   },
   {
    "duration": 11,
    "start_time": "2023-04-01T04:00:28.774Z"
   },
   {
    "duration": 5,
    "start_time": "2023-04-01T05:45:45.578Z"
   },
   {
    "duration": 1140,
    "start_time": "2023-04-01T05:46:27.073Z"
   },
   {
    "duration": 63,
    "start_time": "2023-04-01T05:46:28.215Z"
   },
   {
    "duration": 1272,
    "start_time": "2023-04-01T05:46:28.280Z"
   },
   {
    "duration": 0,
    "start_time": "2023-04-01T05:46:29.556Z"
   },
   {
    "duration": 0,
    "start_time": "2023-04-01T05:46:29.557Z"
   },
   {
    "duration": 0,
    "start_time": "2023-04-01T05:46:29.559Z"
   },
   {
    "duration": 0,
    "start_time": "2023-04-01T05:46:29.560Z"
   },
   {
    "duration": 0,
    "start_time": "2023-04-01T05:46:29.562Z"
   },
   {
    "duration": 0,
    "start_time": "2023-04-01T05:46:29.563Z"
   },
   {
    "duration": 0,
    "start_time": "2023-04-01T05:46:29.565Z"
   },
   {
    "duration": 0,
    "start_time": "2023-04-01T05:46:29.566Z"
   },
   {
    "duration": 0,
    "start_time": "2023-04-01T05:46:29.567Z"
   },
   {
    "duration": 0,
    "start_time": "2023-04-01T05:46:29.569Z"
   },
   {
    "duration": 0,
    "start_time": "2023-04-01T05:46:29.570Z"
   },
   {
    "duration": 0,
    "start_time": "2023-04-01T05:46:29.570Z"
   },
   {
    "duration": 0,
    "start_time": "2023-04-01T05:46:29.571Z"
   },
   {
    "duration": 0,
    "start_time": "2023-04-01T05:46:29.573Z"
   },
   {
    "duration": 0,
    "start_time": "2023-04-01T05:46:29.574Z"
   },
   {
    "duration": 0,
    "start_time": "2023-04-01T05:46:29.575Z"
   },
   {
    "duration": 0,
    "start_time": "2023-04-01T05:46:29.577Z"
   },
   {
    "duration": 0,
    "start_time": "2023-04-01T05:46:29.578Z"
   },
   {
    "duration": 0,
    "start_time": "2023-04-01T05:46:29.579Z"
   },
   {
    "duration": 0,
    "start_time": "2023-04-01T05:46:29.581Z"
   },
   {
    "duration": 0,
    "start_time": "2023-04-01T05:46:29.582Z"
   },
   {
    "duration": 0,
    "start_time": "2023-04-01T05:46:29.583Z"
   },
   {
    "duration": 0,
    "start_time": "2023-04-01T05:46:29.584Z"
   },
   {
    "duration": 0,
    "start_time": "2023-04-01T05:46:29.585Z"
   },
   {
    "duration": 0,
    "start_time": "2023-04-01T05:46:29.586Z"
   },
   {
    "duration": 0,
    "start_time": "2023-04-01T05:46:29.587Z"
   },
   {
    "duration": 0,
    "start_time": "2023-04-01T05:46:29.588Z"
   },
   {
    "duration": 1,
    "start_time": "2023-04-01T05:46:29.589Z"
   },
   {
    "duration": 0,
    "start_time": "2023-04-01T05:46:29.591Z"
   },
   {
    "duration": 0,
    "start_time": "2023-04-01T05:46:29.592Z"
   },
   {
    "duration": 0,
    "start_time": "2023-04-01T05:46:29.593Z"
   },
   {
    "duration": 1118,
    "start_time": "2023-04-01T05:46:59.843Z"
   },
   {
    "duration": 77,
    "start_time": "2023-04-01T05:47:00.963Z"
   },
   {
    "duration": 21,
    "start_time": "2023-04-01T05:47:01.043Z"
   },
   {
    "duration": 43,
    "start_time": "2023-04-01T05:47:01.068Z"
   },
   {
    "duration": 105,
    "start_time": "2023-04-01T05:47:01.113Z"
   },
   {
    "duration": 64,
    "start_time": "2023-04-01T05:47:01.220Z"
   },
   {
    "duration": 61,
    "start_time": "2023-04-01T05:47:01.286Z"
   },
   {
    "duration": 49,
    "start_time": "2023-04-01T05:47:01.348Z"
   },
   {
    "duration": 53,
    "start_time": "2023-04-01T05:47:01.399Z"
   },
   {
    "duration": 83,
    "start_time": "2023-04-01T05:47:01.455Z"
   },
   {
    "duration": 55,
    "start_time": "2023-04-01T05:47:01.540Z"
   },
   {
    "duration": 37,
    "start_time": "2023-04-01T05:47:01.597Z"
   },
   {
    "duration": 39,
    "start_time": "2023-04-01T05:47:01.635Z"
   },
   {
    "duration": 52,
    "start_time": "2023-04-01T05:47:01.676Z"
   },
   {
    "duration": 19,
    "start_time": "2023-04-01T05:47:01.730Z"
   },
   {
    "duration": 209,
    "start_time": "2023-04-01T05:47:01.750Z"
   },
   {
    "duration": 10,
    "start_time": "2023-04-01T05:47:01.961Z"
   },
   {
    "duration": 326,
    "start_time": "2023-04-01T05:47:01.973Z"
   },
   {
    "duration": 9,
    "start_time": "2023-04-01T05:47:02.301Z"
   },
   {
    "duration": 362,
    "start_time": "2023-04-01T05:47:02.312Z"
   },
   {
    "duration": 317,
    "start_time": "2023-04-01T05:47:02.676Z"
   },
   {
    "duration": 345,
    "start_time": "2023-04-01T05:47:02.995Z"
   },
   {
    "duration": 147,
    "start_time": "2023-04-01T05:47:03.342Z"
   },
   {
    "duration": 148,
    "start_time": "2023-04-01T05:47:03.491Z"
   },
   {
    "duration": 11,
    "start_time": "2023-04-01T05:47:03.641Z"
   },
   {
    "duration": 56,
    "start_time": "2023-04-01T05:47:03.653Z"
   },
   {
    "duration": 878,
    "start_time": "2023-04-01T05:47:03.711Z"
   },
   {
    "duration": 460,
    "start_time": "2023-04-01T05:47:04.594Z"
   },
   {
    "duration": 94,
    "start_time": "2023-04-01T05:47:05.057Z"
   },
   {
    "duration": 0,
    "start_time": "2023-04-01T05:47:05.153Z"
   },
   {
    "duration": 0,
    "start_time": "2023-04-01T05:47:05.155Z"
   },
   {
    "duration": 0,
    "start_time": "2023-04-01T05:47:05.157Z"
   },
   {
    "duration": 0,
    "start_time": "2023-04-01T05:47:05.158Z"
   },
   {
    "duration": 1136,
    "start_time": "2023-04-01T05:48:05.007Z"
   },
   {
    "duration": 62,
    "start_time": "2023-04-01T05:48:06.145Z"
   },
   {
    "duration": 14,
    "start_time": "2023-04-01T05:48:06.209Z"
   },
   {
    "duration": 3,
    "start_time": "2023-04-01T05:48:06.225Z"
   },
   {
    "duration": 24,
    "start_time": "2023-04-01T05:48:06.230Z"
   },
   {
    "duration": 30,
    "start_time": "2023-04-01T05:48:06.255Z"
   },
   {
    "duration": 23,
    "start_time": "2023-04-01T05:48:06.287Z"
   },
   {
    "duration": 19,
    "start_time": "2023-04-01T05:48:06.311Z"
   },
   {
    "duration": 23,
    "start_time": "2023-04-01T05:48:06.332Z"
   },
   {
    "duration": 22,
    "start_time": "2023-04-01T05:48:06.358Z"
   },
   {
    "duration": 4,
    "start_time": "2023-04-01T05:48:06.382Z"
   },
   {
    "duration": 13,
    "start_time": "2023-04-01T05:48:06.387Z"
   },
   {
    "duration": 16,
    "start_time": "2023-04-01T05:48:06.401Z"
   },
   {
    "duration": 30,
    "start_time": "2023-04-01T05:48:06.419Z"
   },
   {
    "duration": 80,
    "start_time": "2023-04-01T05:48:06.451Z"
   },
   {
    "duration": 186,
    "start_time": "2023-04-01T05:48:06.533Z"
   },
   {
    "duration": 9,
    "start_time": "2023-04-01T05:48:06.721Z"
   },
   {
    "duration": 322,
    "start_time": "2023-04-01T05:48:06.732Z"
   },
   {
    "duration": 7,
    "start_time": "2023-04-01T05:48:07.056Z"
   },
   {
    "duration": 349,
    "start_time": "2023-04-01T05:48:07.064Z"
   },
   {
    "duration": 311,
    "start_time": "2023-04-01T05:48:07.415Z"
   },
   {
    "duration": 330,
    "start_time": "2023-04-01T05:48:07.728Z"
   },
   {
    "duration": 145,
    "start_time": "2023-04-01T05:48:08.060Z"
   },
   {
    "duration": 204,
    "start_time": "2023-04-01T05:48:08.206Z"
   },
   {
    "duration": 10,
    "start_time": "2023-04-01T05:48:08.412Z"
   },
   {
    "duration": 43,
    "start_time": "2023-04-01T05:48:08.424Z"
   },
   {
    "duration": 765,
    "start_time": "2023-04-01T05:48:08.468Z"
   },
   {
    "duration": 460,
    "start_time": "2023-04-01T05:48:09.236Z"
   },
   {
    "duration": 476,
    "start_time": "2023-04-01T05:48:09.698Z"
   },
   {
    "duration": 493,
    "start_time": "2023-04-01T05:48:10.176Z"
   },
   {
    "duration": 23,
    "start_time": "2023-04-01T05:48:10.671Z"
   },
   {
    "duration": 18,
    "start_time": "2023-04-01T05:48:10.696Z"
   },
   {
    "duration": 87,
    "start_time": "2023-04-01T05:48:10.716Z"
   },
   {
    "duration": 1002,
    "start_time": "2023-04-01T08:31:43.887Z"
   },
   {
    "duration": 107,
    "start_time": "2023-04-01T08:31:44.891Z"
   },
   {
    "duration": 11,
    "start_time": "2023-04-01T08:31:45.000Z"
   },
   {
    "duration": 33,
    "start_time": "2023-04-01T08:31:45.013Z"
   },
   {
    "duration": 33,
    "start_time": "2023-04-01T08:31:45.048Z"
   },
   {
    "duration": 17,
    "start_time": "2023-04-01T08:31:45.082Z"
   },
   {
    "duration": 8,
    "start_time": "2023-04-01T08:31:45.100Z"
   },
   {
    "duration": 6,
    "start_time": "2023-04-01T08:31:45.109Z"
   },
   {
    "duration": 25,
    "start_time": "2023-04-01T08:31:45.116Z"
   },
   {
    "duration": 42,
    "start_time": "2023-04-01T08:31:45.143Z"
   },
   {
    "duration": 4,
    "start_time": "2023-04-01T08:31:45.186Z"
   },
   {
    "duration": 7,
    "start_time": "2023-04-01T08:31:45.191Z"
   },
   {
    "duration": 8,
    "start_time": "2023-04-01T08:31:45.199Z"
   },
   {
    "duration": 18,
    "start_time": "2023-04-01T08:31:45.209Z"
   },
   {
    "duration": 4,
    "start_time": "2023-04-01T08:31:45.229Z"
   },
   {
    "duration": 196,
    "start_time": "2023-04-01T08:31:45.234Z"
   },
   {
    "duration": 7,
    "start_time": "2023-04-01T08:31:45.432Z"
   },
   {
    "duration": 322,
    "start_time": "2023-04-01T08:31:45.441Z"
   },
   {
    "duration": 9,
    "start_time": "2023-04-01T08:31:45.765Z"
   },
   {
    "duration": 393,
    "start_time": "2023-04-01T08:31:45.776Z"
   },
   {
    "duration": 320,
    "start_time": "2023-04-01T08:31:46.171Z"
   },
   {
    "duration": 344,
    "start_time": "2023-04-01T08:31:46.492Z"
   },
   {
    "duration": 140,
    "start_time": "2023-04-01T08:31:46.838Z"
   },
   {
    "duration": 215,
    "start_time": "2023-04-01T08:31:46.980Z"
   },
   {
    "duration": 10,
    "start_time": "2023-04-01T08:31:47.197Z"
   },
   {
    "duration": 36,
    "start_time": "2023-04-01T08:31:47.208Z"
   },
   {
    "duration": 682,
    "start_time": "2023-04-01T08:31:47.246Z"
   },
   {
    "duration": 410,
    "start_time": "2023-04-01T08:31:47.929Z"
   },
   {
    "duration": 429,
    "start_time": "2023-04-01T08:31:48.341Z"
   },
   {
    "duration": 426,
    "start_time": "2023-04-01T08:31:48.773Z"
   },
   {
    "duration": 8,
    "start_time": "2023-04-01T08:31:49.201Z"
   },
   {
    "duration": 9,
    "start_time": "2023-04-01T08:31:49.211Z"
   },
   {
    "duration": 46,
    "start_time": "2023-04-01T10:12:12.764Z"
   },
   {
    "duration": 1336,
    "start_time": "2023-04-01T10:12:34.040Z"
   },
   {
    "duration": 105,
    "start_time": "2023-04-01T10:12:35.379Z"
   },
   {
    "duration": 14,
    "start_time": "2023-04-01T10:12:35.486Z"
   },
   {
    "duration": 11,
    "start_time": "2023-04-01T10:12:35.503Z"
   },
   {
    "duration": 21,
    "start_time": "2023-04-01T10:12:35.516Z"
   },
   {
    "duration": 17,
    "start_time": "2023-04-01T10:12:35.539Z"
   },
   {
    "duration": 24,
    "start_time": "2023-04-01T10:12:35.558Z"
   },
   {
    "duration": 6,
    "start_time": "2023-04-01T10:12:35.584Z"
   },
   {
    "duration": 25,
    "start_time": "2023-04-01T10:12:35.592Z"
   },
   {
    "duration": 31,
    "start_time": "2023-04-01T10:12:35.619Z"
   },
   {
    "duration": 26,
    "start_time": "2023-04-01T10:12:35.651Z"
   },
   {
    "duration": 20,
    "start_time": "2023-04-01T10:12:35.678Z"
   },
   {
    "duration": 10,
    "start_time": "2023-04-01T10:12:35.700Z"
   },
   {
    "duration": 24,
    "start_time": "2023-04-01T10:12:35.711Z"
   },
   {
    "duration": 14,
    "start_time": "2023-04-01T10:12:35.737Z"
   },
   {
    "duration": 33,
    "start_time": "2023-04-01T10:12:35.753Z"
   },
   {
    "duration": 175,
    "start_time": "2023-04-01T10:12:35.788Z"
   },
   {
    "duration": 12,
    "start_time": "2023-04-01T10:12:35.964Z"
   },
   {
    "duration": 370,
    "start_time": "2023-04-01T10:12:35.978Z"
   },
   {
    "duration": 8,
    "start_time": "2023-04-01T10:12:36.350Z"
   },
   {
    "duration": 371,
    "start_time": "2023-04-01T10:12:36.360Z"
   },
   {
    "duration": 348,
    "start_time": "2023-04-01T10:12:36.734Z"
   },
   {
    "duration": 356,
    "start_time": "2023-04-01T10:12:37.084Z"
   },
   {
    "duration": 193,
    "start_time": "2023-04-01T10:12:37.442Z"
   },
   {
    "duration": 215,
    "start_time": "2023-04-01T10:12:37.637Z"
   },
   {
    "duration": 13,
    "start_time": "2023-04-01T10:12:37.853Z"
   },
   {
    "duration": 40,
    "start_time": "2023-04-01T10:12:37.875Z"
   },
   {
    "duration": 781,
    "start_time": "2023-04-01T10:12:37.918Z"
   },
   {
    "duration": 463,
    "start_time": "2023-04-01T10:12:38.701Z"
   },
   {
    "duration": 474,
    "start_time": "2023-04-01T10:12:39.166Z"
   },
   {
    "duration": 439,
    "start_time": "2023-04-01T10:12:39.642Z"
   },
   {
    "duration": 11,
    "start_time": "2023-04-01T10:12:40.082Z"
   },
   {
    "duration": 16,
    "start_time": "2023-04-01T10:12:40.094Z"
   },
   {
    "duration": 13,
    "start_time": "2023-04-01T10:13:59.574Z"
   },
   {
    "duration": 111,
    "start_time": "2023-04-01T10:15:41.204Z"
   },
   {
    "duration": 11,
    "start_time": "2023-04-01T10:16:26.751Z"
   },
   {
    "duration": 10,
    "start_time": "2023-04-01T10:19:02.681Z"
   },
   {
    "duration": 13,
    "start_time": "2023-04-01T10:26:27.217Z"
   },
   {
    "duration": 11,
    "start_time": "2023-04-01T10:31:15.120Z"
   },
   {
    "duration": 9,
    "start_time": "2023-04-01T10:44:35.214Z"
   },
   {
    "duration": 1130,
    "start_time": "2023-04-01T10:45:45.259Z"
   },
   {
    "duration": 63,
    "start_time": "2023-04-01T10:45:46.391Z"
   },
   {
    "duration": 14,
    "start_time": "2023-04-01T10:45:46.456Z"
   },
   {
    "duration": 3,
    "start_time": "2023-04-01T10:45:46.472Z"
   },
   {
    "duration": 10,
    "start_time": "2023-04-01T10:45:46.477Z"
   },
   {
    "duration": 16,
    "start_time": "2023-04-01T10:45:46.489Z"
   },
   {
    "duration": 8,
    "start_time": "2023-04-01T10:45:46.507Z"
   },
   {
    "duration": 6,
    "start_time": "2023-04-01T10:45:46.517Z"
   },
   {
    "duration": 19,
    "start_time": "2023-04-01T10:45:46.525Z"
   },
   {
    "duration": 24,
    "start_time": "2023-04-01T10:45:46.574Z"
   },
   {
    "duration": 5,
    "start_time": "2023-04-01T10:45:46.600Z"
   },
   {
    "duration": 13,
    "start_time": "2023-04-01T10:45:46.607Z"
   },
   {
    "duration": 9,
    "start_time": "2023-04-01T10:45:46.622Z"
   },
   {
    "duration": 18,
    "start_time": "2023-04-01T10:45:46.633Z"
   },
   {
    "duration": 7,
    "start_time": "2023-04-01T10:45:46.675Z"
   },
   {
    "duration": 18,
    "start_time": "2023-04-01T10:45:46.683Z"
   },
   {
    "duration": 4,
    "start_time": "2023-04-01T10:45:46.703Z"
   },
   {
    "duration": 187,
    "start_time": "2023-04-01T10:45:46.709Z"
   },
   {
    "duration": 8,
    "start_time": "2023-04-01T10:45:46.898Z"
   },
   {
    "duration": 300,
    "start_time": "2023-04-01T10:45:46.908Z"
   },
   {
    "duration": 7,
    "start_time": "2023-04-01T10:45:47.210Z"
   },
   {
    "duration": 337,
    "start_time": "2023-04-01T10:45:47.219Z"
   },
   {
    "duration": 309,
    "start_time": "2023-04-01T10:45:47.558Z"
   },
   {
    "duration": 328,
    "start_time": "2023-04-01T10:45:47.869Z"
   },
   {
    "duration": 143,
    "start_time": "2023-04-01T10:45:48.198Z"
   },
   {
    "duration": 211,
    "start_time": "2023-04-01T10:45:48.343Z"
   },
   {
    "duration": 9,
    "start_time": "2023-04-01T10:45:48.556Z"
   },
   {
    "duration": 38,
    "start_time": "2023-04-01T10:45:48.577Z"
   },
   {
    "duration": 721,
    "start_time": "2023-04-01T10:45:48.616Z"
   },
   {
    "duration": 423,
    "start_time": "2023-04-01T10:45:49.339Z"
   },
   {
    "duration": 450,
    "start_time": "2023-04-01T10:45:49.764Z"
   },
   {
    "duration": 432,
    "start_time": "2023-04-01T10:45:50.215Z"
   },
   {
    "duration": 10,
    "start_time": "2023-04-01T10:45:50.648Z"
   },
   {
    "duration": 21,
    "start_time": "2023-04-01T10:45:50.660Z"
   },
   {
    "duration": 17,
    "start_time": "2023-04-01T10:47:41.557Z"
   },
   {
    "duration": 1075,
    "start_time": "2023-04-01T10:48:44.430Z"
   },
   {
    "duration": 57,
    "start_time": "2023-04-01T10:48:45.508Z"
   },
   {
    "duration": 16,
    "start_time": "2023-04-01T10:48:45.567Z"
   },
   {
    "duration": 3,
    "start_time": "2023-04-01T10:48:45.586Z"
   },
   {
    "duration": 11,
    "start_time": "2023-04-01T10:48:45.591Z"
   },
   {
    "duration": 17,
    "start_time": "2023-04-01T10:48:45.603Z"
   },
   {
    "duration": 8,
    "start_time": "2023-04-01T10:48:45.622Z"
   },
   {
    "duration": 6,
    "start_time": "2023-04-01T10:48:45.632Z"
   },
   {
    "duration": 54,
    "start_time": "2023-04-01T10:48:45.639Z"
   },
   {
    "duration": 25,
    "start_time": "2023-04-01T10:48:45.697Z"
   },
   {
    "duration": 4,
    "start_time": "2023-04-01T10:48:45.723Z"
   },
   {
    "duration": 6,
    "start_time": "2023-04-01T10:48:45.729Z"
   },
   {
    "duration": 39,
    "start_time": "2023-04-01T10:48:45.736Z"
   },
   {
    "duration": 7,
    "start_time": "2023-04-01T10:48:45.777Z"
   },
   {
    "duration": 20,
    "start_time": "2023-04-01T10:48:45.785Z"
   },
   {
    "duration": 19,
    "start_time": "2023-04-01T10:48:45.807Z"
   },
   {
    "duration": 5,
    "start_time": "2023-04-01T10:48:45.828Z"
   },
   {
    "duration": 196,
    "start_time": "2023-04-01T10:48:45.834Z"
   },
   {
    "duration": 9,
    "start_time": "2023-04-01T10:48:46.031Z"
   },
   {
    "duration": 327,
    "start_time": "2023-04-01T10:48:46.041Z"
   },
   {
    "duration": 7,
    "start_time": "2023-04-01T10:48:46.370Z"
   },
   {
    "duration": 376,
    "start_time": "2023-04-01T10:48:46.378Z"
   },
   {
    "duration": 304,
    "start_time": "2023-04-01T10:48:46.756Z"
   },
   {
    "duration": 324,
    "start_time": "2023-04-01T10:48:47.062Z"
   },
   {
    "duration": 143,
    "start_time": "2023-04-01T10:48:47.387Z"
   },
   {
    "duration": 211,
    "start_time": "2023-04-01T10:48:47.531Z"
   },
   {
    "duration": 13,
    "start_time": "2023-04-01T10:48:47.744Z"
   },
   {
    "duration": 58,
    "start_time": "2023-04-01T10:48:47.761Z"
   },
   {
    "duration": 741,
    "start_time": "2023-04-01T10:48:47.820Z"
   },
   {
    "duration": 429,
    "start_time": "2023-04-01T10:48:48.563Z"
   },
   {
    "duration": 456,
    "start_time": "2023-04-01T10:48:48.994Z"
   },
   {
    "duration": 450,
    "start_time": "2023-04-01T10:48:49.451Z"
   },
   {
    "duration": 10,
    "start_time": "2023-04-01T10:48:49.903Z"
   },
   {
    "duration": 20,
    "start_time": "2023-04-01T10:48:49.915Z"
   },
   {
    "duration": 1075,
    "start_time": "2023-04-01T10:50:11.603Z"
   },
   {
    "duration": 58,
    "start_time": "2023-04-01T10:50:12.680Z"
   },
   {
    "duration": 14,
    "start_time": "2023-04-01T10:50:12.740Z"
   },
   {
    "duration": 7,
    "start_time": "2023-04-01T10:50:12.756Z"
   },
   {
    "duration": 13,
    "start_time": "2023-04-01T10:50:12.764Z"
   },
   {
    "duration": 15,
    "start_time": "2023-04-01T10:50:12.778Z"
   },
   {
    "duration": 8,
    "start_time": "2023-04-01T10:50:12.794Z"
   },
   {
    "duration": 10,
    "start_time": "2023-04-01T10:50:12.804Z"
   },
   {
    "duration": 20,
    "start_time": "2023-04-01T10:50:12.816Z"
   },
   {
    "duration": 50,
    "start_time": "2023-04-01T10:50:12.840Z"
   },
   {
    "duration": 4,
    "start_time": "2023-04-01T10:50:12.893Z"
   },
   {
    "duration": 6,
    "start_time": "2023-04-01T10:50:12.899Z"
   },
   {
    "duration": 10,
    "start_time": "2023-04-01T10:50:12.906Z"
   },
   {
    "duration": 15,
    "start_time": "2023-04-01T10:50:12.917Z"
   },
   {
    "duration": 62,
    "start_time": "2023-04-01T10:50:12.934Z"
   },
   {
    "duration": 4,
    "start_time": "2023-04-01T10:50:12.998Z"
   },
   {
    "duration": 184,
    "start_time": "2023-04-01T10:50:13.004Z"
   },
   {
    "duration": 8,
    "start_time": "2023-04-01T10:50:13.190Z"
   },
   {
    "duration": 297,
    "start_time": "2023-04-01T10:50:13.200Z"
   },
   {
    "duration": 8,
    "start_time": "2023-04-01T10:50:13.498Z"
   },
   {
    "duration": 367,
    "start_time": "2023-04-01T10:50:13.508Z"
   },
   {
    "duration": 394,
    "start_time": "2023-04-01T10:50:13.877Z"
   },
   {
    "duration": 350,
    "start_time": "2023-04-01T10:50:14.275Z"
   },
   {
    "duration": 149,
    "start_time": "2023-04-01T10:50:14.626Z"
   },
   {
    "duration": 225,
    "start_time": "2023-04-01T10:50:14.777Z"
   },
   {
    "duration": 10,
    "start_time": "2023-04-01T10:50:15.004Z"
   },
   {
    "duration": 61,
    "start_time": "2023-04-01T10:50:15.016Z"
   },
   {
    "duration": 764,
    "start_time": "2023-04-01T10:50:15.080Z"
   },
   {
    "duration": 459,
    "start_time": "2023-04-01T10:50:15.845Z"
   },
   {
    "duration": 486,
    "start_time": "2023-04-01T10:50:16.306Z"
   },
   {
    "duration": 454,
    "start_time": "2023-04-01T10:50:16.794Z"
   },
   {
    "duration": 9,
    "start_time": "2023-04-01T10:50:17.250Z"
   },
   {
    "duration": 13,
    "start_time": "2023-04-01T10:50:17.276Z"
   },
   {
    "duration": 1092,
    "start_time": "2023-04-01T10:55:08.461Z"
   },
   {
    "duration": 57,
    "start_time": "2023-04-01T10:55:09.555Z"
   },
   {
    "duration": 15,
    "start_time": "2023-04-01T10:55:09.613Z"
   },
   {
    "duration": 3,
    "start_time": "2023-04-01T10:55:09.629Z"
   },
   {
    "duration": 12,
    "start_time": "2023-04-01T10:55:09.634Z"
   },
   {
    "duration": 36,
    "start_time": "2023-04-01T10:55:09.648Z"
   },
   {
    "duration": 9,
    "start_time": "2023-04-01T10:55:09.686Z"
   },
   {
    "duration": 6,
    "start_time": "2023-04-01T10:55:09.696Z"
   },
   {
    "duration": 20,
    "start_time": "2023-04-01T10:55:09.704Z"
   },
   {
    "duration": 49,
    "start_time": "2023-04-01T10:55:09.726Z"
   },
   {
    "duration": 3,
    "start_time": "2023-04-01T10:55:09.777Z"
   },
   {
    "duration": 7,
    "start_time": "2023-04-01T10:55:09.782Z"
   },
   {
    "duration": 8,
    "start_time": "2023-04-01T10:55:09.790Z"
   },
   {
    "duration": 15,
    "start_time": "2023-04-01T10:55:09.801Z"
   },
   {
    "duration": 19,
    "start_time": "2023-04-01T10:55:09.818Z"
   },
   {
    "duration": 60,
    "start_time": "2023-04-01T10:55:09.839Z"
   },
   {
    "duration": 164,
    "start_time": "2023-04-01T10:55:09.901Z"
   },
   {
    "duration": 12,
    "start_time": "2023-04-01T10:55:10.067Z"
   },
   {
    "duration": 296,
    "start_time": "2023-04-01T10:55:10.081Z"
   },
   {
    "duration": 8,
    "start_time": "2023-04-01T10:55:10.379Z"
   },
   {
    "duration": 356,
    "start_time": "2023-04-01T10:55:10.389Z"
   },
   {
    "duration": 238,
    "start_time": "2023-04-01T10:55:10.747Z"
   },
   {
    "duration": 253,
    "start_time": "2023-04-01T10:55:10.987Z"
   },
   {
    "duration": 139,
    "start_time": "2023-04-01T10:55:11.242Z"
   },
   {
    "duration": 143,
    "start_time": "2023-04-01T10:55:11.383Z"
   },
   {
    "duration": 10,
    "start_time": "2023-04-01T10:55:11.527Z"
   },
   {
    "duration": 43,
    "start_time": "2023-04-01T10:55:11.539Z"
   },
   {
    "duration": 809,
    "start_time": "2023-04-01T10:55:11.583Z"
   },
   {
    "duration": 444,
    "start_time": "2023-04-01T10:55:12.394Z"
   },
   {
    "duration": 439,
    "start_time": "2023-04-01T10:55:12.839Z"
   },
   {
    "duration": 452,
    "start_time": "2023-04-01T10:55:13.280Z"
   },
   {
    "duration": 8,
    "start_time": "2023-04-01T10:55:13.734Z"
   },
   {
    "duration": 20,
    "start_time": "2023-04-01T10:55:13.744Z"
   },
   {
    "duration": 45,
    "start_time": "2023-04-01T11:01:16.410Z"
   },
   {
    "duration": 311,
    "start_time": "2023-04-01T11:04:16.326Z"
   },
   {
    "duration": 238,
    "start_time": "2023-04-01T11:09:43.349Z"
   },
   {
    "duration": 6,
    "start_time": "2023-04-01T11:19:14.927Z"
   },
   {
    "duration": 5,
    "start_time": "2023-04-01T11:20:22.997Z"
   },
   {
    "duration": 1177,
    "start_time": "2023-04-01T11:21:14.781Z"
   },
   {
    "duration": 56,
    "start_time": "2023-04-01T11:21:15.961Z"
   },
   {
    "duration": 15,
    "start_time": "2023-04-01T11:21:16.018Z"
   },
   {
    "duration": 3,
    "start_time": "2023-04-01T11:21:16.035Z"
   },
   {
    "duration": 17,
    "start_time": "2023-04-01T11:21:16.040Z"
   },
   {
    "duration": 25,
    "start_time": "2023-04-01T11:21:16.059Z"
   },
   {
    "duration": 9,
    "start_time": "2023-04-01T11:21:16.085Z"
   },
   {
    "duration": 11,
    "start_time": "2023-04-01T11:21:16.096Z"
   },
   {
    "duration": 26,
    "start_time": "2023-04-01T11:21:16.109Z"
   },
   {
    "duration": 41,
    "start_time": "2023-04-01T11:21:16.137Z"
   },
   {
    "duration": 25,
    "start_time": "2023-04-01T11:21:16.180Z"
   },
   {
    "duration": 21,
    "start_time": "2023-04-01T11:21:16.207Z"
   },
   {
    "duration": 26,
    "start_time": "2023-04-01T11:21:16.230Z"
   },
   {
    "duration": 30,
    "start_time": "2023-04-01T11:21:16.259Z"
   },
   {
    "duration": 21,
    "start_time": "2023-04-01T11:21:16.290Z"
   },
   {
    "duration": 5,
    "start_time": "2023-04-01T11:21:16.313Z"
   },
   {
    "duration": 187,
    "start_time": "2023-04-01T11:21:16.319Z"
   },
   {
    "duration": 9,
    "start_time": "2023-04-01T11:21:16.508Z"
   },
   {
    "duration": 313,
    "start_time": "2023-04-01T11:21:16.519Z"
   },
   {
    "duration": 8,
    "start_time": "2023-04-01T11:21:16.834Z"
   },
   {
    "duration": 325,
    "start_time": "2023-04-01T11:21:16.843Z"
   },
   {
    "duration": 238,
    "start_time": "2023-04-01T11:21:17.170Z"
   },
   {
    "duration": 241,
    "start_time": "2023-04-01T11:21:17.410Z"
   },
   {
    "duration": 137,
    "start_time": "2023-04-01T11:21:17.652Z"
   },
   {
    "duration": 147,
    "start_time": "2023-04-01T11:21:17.792Z"
   },
   {
    "duration": 11,
    "start_time": "2023-04-01T11:21:17.940Z"
   },
   {
    "duration": 44,
    "start_time": "2023-04-01T11:21:17.953Z"
   },
   {
    "duration": 829,
    "start_time": "2023-04-01T11:21:17.998Z"
   },
   {
    "duration": 457,
    "start_time": "2023-04-01T11:21:18.829Z"
   },
   {
    "duration": 444,
    "start_time": "2023-04-01T11:21:19.288Z"
   },
   {
    "duration": 5,
    "start_time": "2023-04-01T11:21:19.734Z"
   },
   {
    "duration": 452,
    "start_time": "2023-04-01T11:21:19.740Z"
   },
   {
    "duration": 8,
    "start_time": "2023-04-01T11:21:20.194Z"
   },
   {
    "duration": 9,
    "start_time": "2023-04-01T11:21:20.203Z"
   },
   {
    "duration": 48,
    "start_time": "2023-04-01T11:22:45.735Z"
   },
   {
    "duration": 7,
    "start_time": "2023-04-01T11:23:07.112Z"
   },
   {
    "duration": 13,
    "start_time": "2023-04-01T11:28:21.931Z"
   },
   {
    "duration": 10,
    "start_time": "2023-04-01T11:28:32.959Z"
   },
   {
    "duration": 115,
    "start_time": "2023-04-01T11:30:10.257Z"
   },
   {
    "duration": 8,
    "start_time": "2023-04-01T11:30:25.301Z"
   },
   {
    "duration": 6,
    "start_time": "2023-04-01T11:39:57.207Z"
   },
   {
    "duration": 8,
    "start_time": "2023-04-01T11:41:32.904Z"
   },
   {
    "duration": 1094,
    "start_time": "2023-04-01T11:41:48.031Z"
   },
   {
    "duration": 62,
    "start_time": "2023-04-01T11:41:49.127Z"
   },
   {
    "duration": 15,
    "start_time": "2023-04-01T11:41:49.191Z"
   },
   {
    "duration": 16,
    "start_time": "2023-04-01T11:41:49.208Z"
   },
   {
    "duration": 28,
    "start_time": "2023-04-01T11:41:49.227Z"
   },
   {
    "duration": 22,
    "start_time": "2023-04-01T11:41:49.257Z"
   },
   {
    "duration": 8,
    "start_time": "2023-04-01T11:41:49.281Z"
   },
   {
    "duration": 14,
    "start_time": "2023-04-01T11:41:49.290Z"
   },
   {
    "duration": 23,
    "start_time": "2023-04-01T11:41:49.306Z"
   },
   {
    "duration": 29,
    "start_time": "2023-04-01T11:41:49.331Z"
   },
   {
    "duration": 13,
    "start_time": "2023-04-01T11:41:49.362Z"
   },
   {
    "duration": 14,
    "start_time": "2023-04-01T11:41:49.376Z"
   },
   {
    "duration": 15,
    "start_time": "2023-04-01T11:41:49.392Z"
   },
   {
    "duration": 14,
    "start_time": "2023-04-01T11:41:49.411Z"
   },
   {
    "duration": 19,
    "start_time": "2023-04-01T11:41:49.426Z"
   },
   {
    "duration": 5,
    "start_time": "2023-04-01T11:41:49.447Z"
   },
   {
    "duration": 173,
    "start_time": "2023-04-01T11:41:49.475Z"
   },
   {
    "duration": 8,
    "start_time": "2023-04-01T11:41:49.650Z"
   },
   {
    "duration": 321,
    "start_time": "2023-04-01T11:41:49.660Z"
   },
   {
    "duration": 8,
    "start_time": "2023-04-01T11:41:49.983Z"
   },
   {
    "duration": 323,
    "start_time": "2023-04-01T11:41:49.993Z"
   },
   {
    "duration": 281,
    "start_time": "2023-04-01T11:41:50.318Z"
   },
   {
    "duration": 255,
    "start_time": "2023-04-01T11:41:50.601Z"
   },
   {
    "duration": 164,
    "start_time": "2023-04-01T11:41:50.858Z"
   },
   {
    "duration": 153,
    "start_time": "2023-04-01T11:41:51.024Z"
   },
   {
    "duration": 12,
    "start_time": "2023-04-01T11:41:51.180Z"
   },
   {
    "duration": 34,
    "start_time": "2023-04-01T11:41:51.194Z"
   },
   {
    "duration": 878,
    "start_time": "2023-04-01T11:41:51.231Z"
   },
   {
    "duration": 464,
    "start_time": "2023-04-01T11:41:52.111Z"
   },
   {
    "duration": 458,
    "start_time": "2023-04-01T11:41:52.577Z"
   },
   {
    "duration": 9,
    "start_time": "2023-04-01T11:41:53.037Z"
   },
   {
    "duration": 494,
    "start_time": "2023-04-01T11:41:53.048Z"
   },
   {
    "duration": 8,
    "start_time": "2023-04-01T11:41:53.544Z"
   },
   {
    "duration": 22,
    "start_time": "2023-04-01T11:41:53.554Z"
   },
   {
    "duration": 4,
    "start_time": "2023-04-01T11:43:31.936Z"
   },
   {
    "duration": 1116,
    "start_time": "2023-04-01T11:45:48.614Z"
   },
   {
    "duration": 73,
    "start_time": "2023-04-01T11:45:49.733Z"
   },
   {
    "duration": 23,
    "start_time": "2023-04-01T11:45:49.808Z"
   },
   {
    "duration": 4,
    "start_time": "2023-04-01T11:45:49.833Z"
   },
   {
    "duration": 13,
    "start_time": "2023-04-01T11:45:49.839Z"
   },
   {
    "duration": 32,
    "start_time": "2023-04-01T11:45:49.854Z"
   },
   {
    "duration": 8,
    "start_time": "2023-04-01T11:45:49.888Z"
   },
   {
    "duration": 20,
    "start_time": "2023-04-01T11:45:49.898Z"
   },
   {
    "duration": 19,
    "start_time": "2023-04-01T11:45:49.920Z"
   },
   {
    "duration": 35,
    "start_time": "2023-04-01T11:45:49.941Z"
   },
   {
    "duration": 6,
    "start_time": "2023-04-01T11:45:49.978Z"
   },
   {
    "duration": 6,
    "start_time": "2023-04-01T11:45:49.985Z"
   },
   {
    "duration": 32,
    "start_time": "2023-04-01T11:45:49.992Z"
   },
   {
    "duration": 42,
    "start_time": "2023-04-01T11:45:50.027Z"
   },
   {
    "duration": 36,
    "start_time": "2023-04-01T11:45:50.071Z"
   },
   {
    "duration": 4,
    "start_time": "2023-04-01T11:45:50.109Z"
   },
   {
    "duration": 178,
    "start_time": "2023-04-01T11:45:50.115Z"
   },
   {
    "duration": 8,
    "start_time": "2023-04-01T11:45:50.295Z"
   },
   {
    "duration": 331,
    "start_time": "2023-04-01T11:45:50.305Z"
   },
   {
    "duration": 7,
    "start_time": "2023-04-01T11:45:50.638Z"
   },
   {
    "duration": 316,
    "start_time": "2023-04-01T11:45:50.647Z"
   },
   {
    "duration": 239,
    "start_time": "2023-04-01T11:45:50.965Z"
   },
   {
    "duration": 251,
    "start_time": "2023-04-01T11:45:51.205Z"
   },
   {
    "duration": 159,
    "start_time": "2023-04-01T11:45:51.457Z"
   },
   {
    "duration": 139,
    "start_time": "2023-04-01T11:45:51.618Z"
   },
   {
    "duration": 24,
    "start_time": "2023-04-01T11:45:51.759Z"
   },
   {
    "duration": 30,
    "start_time": "2023-04-01T11:45:51.785Z"
   },
   {
    "duration": 867,
    "start_time": "2023-04-01T11:45:51.817Z"
   },
   {
    "duration": 452,
    "start_time": "2023-04-01T11:45:52.686Z"
   },
   {
    "duration": 465,
    "start_time": "2023-04-01T11:45:53.140Z"
   },
   {
    "duration": 6,
    "start_time": "2023-04-01T11:45:53.607Z"
   },
   {
    "duration": 491,
    "start_time": "2023-04-01T11:45:53.615Z"
   },
   {
    "duration": 13,
    "start_time": "2023-04-01T11:45:54.109Z"
   },
   {
    "duration": 14,
    "start_time": "2023-04-01T11:45:54.124Z"
   },
   {
    "duration": 31,
    "start_time": "2023-04-01T11:50:32.389Z"
   },
   {
    "duration": 36,
    "start_time": "2023-04-01T11:51:14.128Z"
   },
   {
    "duration": 25,
    "start_time": "2023-04-01T11:59:12.719Z"
   },
   {
    "duration": 24,
    "start_time": "2023-04-01T12:00:15.149Z"
   },
   {
    "duration": 1224,
    "start_time": "2023-04-02T02:46:54.070Z"
   },
   {
    "duration": 214,
    "start_time": "2023-04-02T02:46:55.296Z"
   },
   {
    "duration": 12,
    "start_time": "2023-04-02T02:46:55.512Z"
   },
   {
    "duration": 3,
    "start_time": "2023-04-02T02:46:55.526Z"
   },
   {
    "duration": 20,
    "start_time": "2023-04-02T02:46:55.531Z"
   },
   {
    "duration": 16,
    "start_time": "2023-04-02T02:46:55.552Z"
   },
   {
    "duration": 9,
    "start_time": "2023-04-02T02:46:55.569Z"
   },
   {
    "duration": 6,
    "start_time": "2023-04-02T02:46:55.579Z"
   },
   {
    "duration": 18,
    "start_time": "2023-04-02T02:46:55.586Z"
   },
   {
    "duration": 40,
    "start_time": "2023-04-02T02:46:55.606Z"
   },
   {
    "duration": 4,
    "start_time": "2023-04-02T02:46:55.648Z"
   },
   {
    "duration": 7,
    "start_time": "2023-04-02T02:46:55.654Z"
   },
   {
    "duration": 12,
    "start_time": "2023-04-02T02:46:55.662Z"
   },
   {
    "duration": 17,
    "start_time": "2023-04-02T02:46:55.675Z"
   },
   {
    "duration": 17,
    "start_time": "2023-04-02T02:46:55.694Z"
   },
   {
    "duration": 5,
    "start_time": "2023-04-02T02:46:55.734Z"
   },
   {
    "duration": 150,
    "start_time": "2023-04-02T02:46:55.741Z"
   },
   {
    "duration": 8,
    "start_time": "2023-04-02T02:46:55.893Z"
   },
   {
    "duration": 273,
    "start_time": "2023-04-02T02:46:55.902Z"
   },
   {
    "duration": 6,
    "start_time": "2023-04-02T02:46:56.177Z"
   },
   {
    "duration": 260,
    "start_time": "2023-04-02T02:46:56.185Z"
   },
   {
    "duration": 210,
    "start_time": "2023-04-02T02:46:56.446Z"
   },
   {
    "duration": 203,
    "start_time": "2023-04-02T02:46:56.657Z"
   },
   {
    "duration": 128,
    "start_time": "2023-04-02T02:46:56.861Z"
   },
   {
    "duration": 119,
    "start_time": "2023-04-02T02:46:56.991Z"
   },
   {
    "duration": 9,
    "start_time": "2023-04-02T02:46:57.111Z"
   },
   {
    "duration": 41,
    "start_time": "2023-04-02T02:46:57.122Z"
   },
   {
    "duration": 721,
    "start_time": "2023-04-02T02:46:57.166Z"
   },
   {
    "duration": 390,
    "start_time": "2023-04-02T02:46:57.888Z"
   },
   {
    "duration": 390,
    "start_time": "2023-04-02T02:46:58.280Z"
   },
   {
    "duration": 3,
    "start_time": "2023-04-02T02:46:58.672Z"
   },
   {
    "duration": 422,
    "start_time": "2023-04-02T02:46:58.676Z"
   },
   {
    "duration": 8,
    "start_time": "2023-04-02T02:46:59.099Z"
   },
   {
    "duration": 33,
    "start_time": "2023-04-02T02:46:59.108Z"
   },
   {
    "duration": 93,
    "start_time": "2023-04-02T03:05:00.538Z"
   },
   {
    "duration": 14,
    "start_time": "2023-04-02T03:07:37.874Z"
   },
   {
    "duration": 6,
    "start_time": "2023-04-02T03:08:00.823Z"
   },
   {
    "duration": 12,
    "start_time": "2023-04-02T03:11:09.630Z"
   },
   {
    "duration": 10,
    "start_time": "2023-04-02T03:11:27.838Z"
   },
   {
    "duration": 5,
    "start_time": "2023-04-02T03:11:52.617Z"
   },
   {
    "duration": 12,
    "start_time": "2023-04-02T03:12:51.092Z"
   },
   {
    "duration": 7,
    "start_time": "2023-04-02T03:13:23.497Z"
   },
   {
    "duration": 4,
    "start_time": "2023-04-02T03:15:33.769Z"
   },
   {
    "duration": 5,
    "start_time": "2023-04-02T03:15:49.797Z"
   },
   {
    "duration": 11,
    "start_time": "2023-04-02T03:16:08.733Z"
   },
   {
    "duration": 7,
    "start_time": "2023-04-02T03:16:27.394Z"
   },
   {
    "duration": 7,
    "start_time": "2023-04-02T03:21:24.840Z"
   },
   {
    "duration": 1887,
    "start_time": "2023-04-02T03:26:10.642Z"
   },
   {
    "duration": 14,
    "start_time": "2023-04-02T03:27:13.168Z"
   },
   {
    "duration": 364,
    "start_time": "2023-04-02T03:51:26.027Z"
   },
   {
    "duration": 15,
    "start_time": "2023-04-02T03:51:46.439Z"
   },
   {
    "duration": 11,
    "start_time": "2023-04-02T03:57:08.756Z"
   },
   {
    "duration": 11,
    "start_time": "2023-04-02T03:58:35.285Z"
   },
   {
    "duration": 8,
    "start_time": "2023-04-02T03:59:01.729Z"
   },
   {
    "duration": 7,
    "start_time": "2023-04-02T03:59:49.264Z"
   },
   {
    "duration": 11,
    "start_time": "2023-04-02T04:07:12.327Z"
   },
   {
    "duration": 7,
    "start_time": "2023-04-02T04:11:21.159Z"
   },
   {
    "duration": 8,
    "start_time": "2023-04-02T04:12:13.438Z"
   },
   {
    "duration": 7,
    "start_time": "2023-04-02T04:12:26.579Z"
   },
   {
    "duration": 7,
    "start_time": "2023-04-02T04:12:31.301Z"
   },
   {
    "duration": 10,
    "start_time": "2023-04-02T04:16:02.883Z"
   },
   {
    "duration": 1022,
    "start_time": "2023-04-02T04:16:33.267Z"
   },
   {
    "duration": 63,
    "start_time": "2023-04-02T04:16:34.291Z"
   },
   {
    "duration": 14,
    "start_time": "2023-04-02T04:16:34.355Z"
   },
   {
    "duration": 3,
    "start_time": "2023-04-02T04:16:34.371Z"
   },
   {
    "duration": 15,
    "start_time": "2023-04-02T04:16:34.376Z"
   },
   {
    "duration": 17,
    "start_time": "2023-04-02T04:16:34.393Z"
   },
   {
    "duration": 8,
    "start_time": "2023-04-02T04:16:34.434Z"
   },
   {
    "duration": 7,
    "start_time": "2023-04-02T04:16:34.443Z"
   },
   {
    "duration": 18,
    "start_time": "2023-04-02T04:16:34.452Z"
   },
   {
    "duration": 21,
    "start_time": "2023-04-02T04:16:34.473Z"
   },
   {
    "duration": 5,
    "start_time": "2023-04-02T04:16:34.495Z"
   },
   {
    "duration": 36,
    "start_time": "2023-04-02T04:16:34.501Z"
   },
   {
    "duration": 13,
    "start_time": "2023-04-02T04:16:34.539Z"
   },
   {
    "duration": 23,
    "start_time": "2023-04-02T04:16:34.554Z"
   },
   {
    "duration": 25,
    "start_time": "2023-04-02T04:16:34.580Z"
   },
   {
    "duration": 6,
    "start_time": "2023-04-02T04:16:34.607Z"
   },
   {
    "duration": 188,
    "start_time": "2023-04-02T04:16:34.634Z"
   },
   {
    "duration": 11,
    "start_time": "2023-04-02T04:16:34.824Z"
   },
   {
    "duration": 290,
    "start_time": "2023-04-02T04:16:34.837Z"
   },
   {
    "duration": 7,
    "start_time": "2023-04-02T04:16:35.129Z"
   },
   {
    "duration": 315,
    "start_time": "2023-04-02T04:16:35.137Z"
   },
   {
    "duration": 204,
    "start_time": "2023-04-02T04:16:35.454Z"
   },
   {
    "duration": 205,
    "start_time": "2023-04-02T04:16:35.660Z"
   },
   {
    "duration": 115,
    "start_time": "2023-04-02T04:16:35.866Z"
   },
   {
    "duration": 122,
    "start_time": "2023-04-02T04:16:35.983Z"
   },
   {
    "duration": 11,
    "start_time": "2023-04-02T04:16:36.107Z"
   },
   {
    "duration": 20,
    "start_time": "2023-04-02T04:16:36.134Z"
   },
   {
    "duration": 724,
    "start_time": "2023-04-02T04:16:36.156Z"
   },
   {
    "duration": 389,
    "start_time": "2023-04-02T04:16:36.881Z"
   },
   {
    "duration": 375,
    "start_time": "2023-04-02T04:16:37.272Z"
   },
   {
    "duration": 4,
    "start_time": "2023-04-02T04:16:37.648Z"
   },
   {
    "duration": 396,
    "start_time": "2023-04-02T04:16:37.653Z"
   },
   {
    "duration": 7,
    "start_time": "2023-04-02T04:16:38.050Z"
   },
   {
    "duration": 11,
    "start_time": "2023-04-02T04:16:38.059Z"
   },
   {
    "duration": 15,
    "start_time": "2023-04-02T04:20:49.754Z"
   },
   {
    "duration": 10,
    "start_time": "2023-04-02T04:21:01.165Z"
   },
   {
    "duration": 9,
    "start_time": "2023-04-02T04:21:06.025Z"
   },
   {
    "duration": 1126,
    "start_time": "2023-04-02T04:21:13.743Z"
   },
   {
    "duration": 61,
    "start_time": "2023-04-02T04:21:14.871Z"
   },
   {
    "duration": 17,
    "start_time": "2023-04-02T04:21:14.933Z"
   },
   {
    "duration": 6,
    "start_time": "2023-04-02T04:21:14.952Z"
   },
   {
    "duration": 26,
    "start_time": "2023-04-02T04:21:14.960Z"
   },
   {
    "duration": 43,
    "start_time": "2023-04-02T04:21:14.988Z"
   },
   {
    "duration": 27,
    "start_time": "2023-04-02T04:21:15.034Z"
   },
   {
    "duration": 18,
    "start_time": "2023-04-02T04:21:15.063Z"
   },
   {
    "duration": 26,
    "start_time": "2023-04-02T04:21:15.083Z"
   },
   {
    "duration": 32,
    "start_time": "2023-04-02T04:21:15.112Z"
   },
   {
    "duration": 11,
    "start_time": "2023-04-02T04:21:15.145Z"
   },
   {
    "duration": 12,
    "start_time": "2023-04-02T04:21:15.158Z"
   },
   {
    "duration": 13,
    "start_time": "2023-04-02T04:21:15.171Z"
   },
   {
    "duration": 23,
    "start_time": "2023-04-02T04:21:15.185Z"
   },
   {
    "duration": 18,
    "start_time": "2023-04-02T04:21:15.209Z"
   },
   {
    "duration": 5,
    "start_time": "2023-04-02T04:21:15.229Z"
   },
   {
    "duration": 163,
    "start_time": "2023-04-02T04:21:15.236Z"
   },
   {
    "duration": 8,
    "start_time": "2023-04-02T04:21:15.401Z"
   },
   {
    "duration": 309,
    "start_time": "2023-04-02T04:21:15.410Z"
   },
   {
    "duration": 6,
    "start_time": "2023-04-02T04:21:15.721Z"
   },
   {
    "duration": 280,
    "start_time": "2023-04-02T04:21:15.729Z"
   },
   {
    "duration": 215,
    "start_time": "2023-04-02T04:21:16.010Z"
   },
   {
    "duration": 208,
    "start_time": "2023-04-02T04:21:16.234Z"
   },
   {
    "duration": 134,
    "start_time": "2023-04-02T04:21:16.443Z"
   },
   {
    "duration": 135,
    "start_time": "2023-04-02T04:21:16.579Z"
   },
   {
    "duration": 9,
    "start_time": "2023-04-02T04:21:16.716Z"
   },
   {
    "duration": 19,
    "start_time": "2023-04-02T04:21:16.735Z"
   },
   {
    "duration": 767,
    "start_time": "2023-04-02T04:21:16.756Z"
   },
   {
    "duration": 393,
    "start_time": "2023-04-02T04:21:17.525Z"
   },
   {
    "duration": 384,
    "start_time": "2023-04-02T04:21:17.919Z"
   },
   {
    "duration": 3,
    "start_time": "2023-04-02T04:21:18.305Z"
   },
   {
    "duration": 432,
    "start_time": "2023-04-02T04:21:18.309Z"
   },
   {
    "duration": 11,
    "start_time": "2023-04-02T04:21:18.744Z"
   },
   {
    "duration": 14,
    "start_time": "2023-04-02T04:21:18.757Z"
   },
   {
    "duration": 1175,
    "start_time": "2023-04-02T04:22:20.006Z"
   },
   {
    "duration": 63,
    "start_time": "2023-04-02T04:22:21.182Z"
   },
   {
    "duration": 13,
    "start_time": "2023-04-02T04:22:21.247Z"
   },
   {
    "duration": 22,
    "start_time": "2023-04-02T04:22:21.262Z"
   },
   {
    "duration": 16,
    "start_time": "2023-04-02T04:22:21.286Z"
   },
   {
    "duration": 38,
    "start_time": "2023-04-02T04:22:21.303Z"
   },
   {
    "duration": 11,
    "start_time": "2023-04-02T04:22:21.342Z"
   },
   {
    "duration": 12,
    "start_time": "2023-04-02T04:22:21.354Z"
   },
   {
    "duration": 44,
    "start_time": "2023-04-02T04:22:21.367Z"
   },
   {
    "duration": 19,
    "start_time": "2023-04-02T04:22:21.414Z"
   },
   {
    "duration": 8,
    "start_time": "2023-04-02T04:22:21.434Z"
   },
   {
    "duration": 33,
    "start_time": "2023-04-02T04:22:21.443Z"
   },
   {
    "duration": 42,
    "start_time": "2023-04-02T04:22:21.478Z"
   },
   {
    "duration": 70,
    "start_time": "2023-04-02T04:22:21.521Z"
   },
   {
    "duration": 45,
    "start_time": "2023-04-02T04:22:21.593Z"
   },
   {
    "duration": 9,
    "start_time": "2023-04-02T04:22:21.640Z"
   },
   {
    "duration": 163,
    "start_time": "2023-04-02T04:22:21.651Z"
   },
   {
    "duration": 8,
    "start_time": "2023-04-02T04:22:21.815Z"
   },
   {
    "duration": 286,
    "start_time": "2023-04-02T04:22:21.825Z"
   },
   {
    "duration": 6,
    "start_time": "2023-04-02T04:22:22.113Z"
   },
   {
    "duration": 308,
    "start_time": "2023-04-02T04:22:22.120Z"
   },
   {
    "duration": 226,
    "start_time": "2023-04-02T04:22:22.429Z"
   },
   {
    "duration": 215,
    "start_time": "2023-04-02T04:22:22.656Z"
   },
   {
    "duration": 134,
    "start_time": "2023-04-02T04:22:22.873Z"
   },
   {
    "duration": 127,
    "start_time": "2023-04-02T04:22:23.009Z"
   },
   {
    "duration": 10,
    "start_time": "2023-04-02T04:22:23.137Z"
   },
   {
    "duration": 21,
    "start_time": "2023-04-02T04:22:23.148Z"
   },
   {
    "duration": 754,
    "start_time": "2023-04-02T04:22:23.172Z"
   },
   {
    "duration": 384,
    "start_time": "2023-04-02T04:22:23.928Z"
   },
   {
    "duration": 456,
    "start_time": "2023-04-02T04:22:24.314Z"
   },
   {
    "duration": 4,
    "start_time": "2023-04-02T04:22:24.771Z"
   },
   {
    "duration": 429,
    "start_time": "2023-04-02T04:22:24.776Z"
   },
   {
    "duration": 9,
    "start_time": "2023-04-02T04:22:25.206Z"
   },
   {
    "duration": 32,
    "start_time": "2023-04-02T04:22:25.217Z"
   },
   {
    "duration": 1301,
    "start_time": "2023-04-02T06:53:18.368Z"
   },
   {
    "duration": 194,
    "start_time": "2023-04-02T06:53:19.671Z"
   },
   {
    "duration": 15,
    "start_time": "2023-04-02T06:53:19.866Z"
   },
   {
    "duration": 9,
    "start_time": "2023-04-02T06:53:19.883Z"
   },
   {
    "duration": 17,
    "start_time": "2023-04-02T06:53:19.893Z"
   },
   {
    "duration": 16,
    "start_time": "2023-04-02T06:53:19.911Z"
   },
   {
    "duration": 10,
    "start_time": "2023-04-02T06:53:19.928Z"
   },
   {
    "duration": 6,
    "start_time": "2023-04-02T06:53:19.939Z"
   },
   {
    "duration": 19,
    "start_time": "2023-04-02T06:53:19.947Z"
   },
   {
    "duration": 23,
    "start_time": "2023-04-02T06:53:19.988Z"
   },
   {
    "duration": 12,
    "start_time": "2023-04-02T06:53:20.013Z"
   },
   {
    "duration": 17,
    "start_time": "2023-04-02T06:53:20.027Z"
   },
   {
    "duration": 42,
    "start_time": "2023-04-02T06:53:20.046Z"
   },
   {
    "duration": 18,
    "start_time": "2023-04-02T06:53:20.090Z"
   },
   {
    "duration": 22,
    "start_time": "2023-04-02T06:53:20.110Z"
   },
   {
    "duration": 5,
    "start_time": "2023-04-02T06:53:20.133Z"
   },
   {
    "duration": 187,
    "start_time": "2023-04-02T06:53:20.139Z"
   },
   {
    "duration": 8,
    "start_time": "2023-04-02T06:53:20.328Z"
   },
   {
    "duration": 361,
    "start_time": "2023-04-02T06:53:20.338Z"
   },
   {
    "duration": 7,
    "start_time": "2023-04-02T06:53:20.701Z"
   },
   {
    "duration": 314,
    "start_time": "2023-04-02T06:53:20.709Z"
   },
   {
    "duration": 248,
    "start_time": "2023-04-02T06:53:21.025Z"
   },
   {
    "duration": 227,
    "start_time": "2023-04-02T06:53:21.275Z"
   },
   {
    "duration": 140,
    "start_time": "2023-04-02T06:53:21.504Z"
   },
   {
    "duration": 135,
    "start_time": "2023-04-02T06:53:21.645Z"
   },
   {
    "duration": 13,
    "start_time": "2023-04-02T06:53:21.781Z"
   },
   {
    "duration": 22,
    "start_time": "2023-04-02T06:53:21.796Z"
   },
   {
    "duration": 791,
    "start_time": "2023-04-02T06:53:21.821Z"
   },
   {
    "duration": 418,
    "start_time": "2023-04-02T06:53:22.614Z"
   },
   {
    "duration": 424,
    "start_time": "2023-04-02T06:53:23.034Z"
   },
   {
    "duration": 3,
    "start_time": "2023-04-02T06:53:23.461Z"
   },
   {
    "duration": 561,
    "start_time": "2023-04-02T06:53:23.466Z"
   },
   {
    "duration": 62,
    "start_time": "2023-04-02T06:53:24.029Z"
   },
   {
    "duration": 14,
    "start_time": "2023-04-02T06:53:24.093Z"
   },
   {
    "duration": 468,
    "start_time": "2023-04-02T07:07:03.194Z"
   },
   {
    "duration": 9,
    "start_time": "2023-04-02T07:07:25.533Z"
   },
   {
    "duration": 79,
    "start_time": "2023-04-02T07:07:33.009Z"
   },
   {
    "duration": 94,
    "start_time": "2023-04-02T07:07:42.946Z"
   },
   {
    "duration": 131,
    "start_time": "2023-04-02T07:07:55.554Z"
   },
   {
    "duration": 6,
    "start_time": "2023-04-02T07:09:42.659Z"
   },
   {
    "duration": 1230,
    "start_time": "2023-04-02T07:10:15.266Z"
   },
   {
    "duration": 81,
    "start_time": "2023-04-02T07:10:16.501Z"
   },
   {
    "duration": 27,
    "start_time": "2023-04-02T07:10:16.584Z"
   },
   {
    "duration": 29,
    "start_time": "2023-04-02T07:10:16.616Z"
   },
   {
    "duration": 33,
    "start_time": "2023-04-02T07:10:16.647Z"
   },
   {
    "duration": 56,
    "start_time": "2023-04-02T07:10:16.682Z"
   },
   {
    "duration": 41,
    "start_time": "2023-04-02T07:10:16.739Z"
   },
   {
    "duration": 38,
    "start_time": "2023-04-02T07:10:16.781Z"
   },
   {
    "duration": 44,
    "start_time": "2023-04-02T07:10:16.821Z"
   },
   {
    "duration": 41,
    "start_time": "2023-04-02T07:10:16.868Z"
   },
   {
    "duration": 22,
    "start_time": "2023-04-02T07:10:16.911Z"
   },
   {
    "duration": 39,
    "start_time": "2023-04-02T07:10:16.935Z"
   },
   {
    "duration": 54,
    "start_time": "2023-04-02T07:10:16.976Z"
   },
   {
    "duration": 33,
    "start_time": "2023-04-02T07:10:17.032Z"
   },
   {
    "duration": 40,
    "start_time": "2023-04-02T07:10:17.067Z"
   },
   {
    "duration": 17,
    "start_time": "2023-04-02T07:10:17.113Z"
   },
   {
    "duration": 30,
    "start_time": "2023-04-02T07:10:17.132Z"
   },
   {
    "duration": 9,
    "start_time": "2023-04-02T07:10:17.164Z"
   },
   {
    "duration": 277,
    "start_time": "2023-04-02T07:10:17.174Z"
   },
   {
    "duration": 11,
    "start_time": "2023-04-02T07:10:17.454Z"
   },
   {
    "duration": 408,
    "start_time": "2023-04-02T07:10:17.467Z"
   },
   {
    "duration": 11,
    "start_time": "2023-04-02T07:10:17.894Z"
   },
   {
    "duration": 888,
    "start_time": "2023-04-02T07:10:17.907Z"
   },
   {
    "duration": 532,
    "start_time": "2023-04-02T07:10:18.801Z"
   },
   {
    "duration": 688,
    "start_time": "2023-04-02T07:10:19.335Z"
   },
   {
    "duration": 309,
    "start_time": "2023-04-02T07:10:20.026Z"
   },
   {
    "duration": 232,
    "start_time": "2023-04-02T07:10:20.338Z"
   },
   {
    "duration": 30,
    "start_time": "2023-04-02T07:10:20.575Z"
   },
   {
    "duration": 56,
    "start_time": "2023-04-02T07:10:20.612Z"
   },
   {
    "duration": 976,
    "start_time": "2023-04-02T07:10:20.670Z"
   },
   {
    "duration": 491,
    "start_time": "2023-04-02T07:10:21.648Z"
   },
   {
    "duration": 519,
    "start_time": "2023-04-02T07:10:22.141Z"
   },
   {
    "duration": 4,
    "start_time": "2023-04-02T07:10:22.662Z"
   },
   {
    "duration": 507,
    "start_time": "2023-04-02T07:10:22.668Z"
   },
   {
    "duration": 18,
    "start_time": "2023-04-02T07:10:23.177Z"
   },
   {
    "duration": 35,
    "start_time": "2023-04-02T07:10:23.199Z"
   },
   {
    "duration": 1446,
    "start_time": "2023-04-02T07:39:40.376Z"
   },
   {
    "duration": 62,
    "start_time": "2023-04-02T07:39:41.824Z"
   },
   {
    "duration": 29,
    "start_time": "2023-04-02T07:39:41.893Z"
   },
   {
    "duration": 10,
    "start_time": "2023-04-02T07:39:41.924Z"
   },
   {
    "duration": 20,
    "start_time": "2023-04-02T07:39:41.935Z"
   },
   {
    "duration": 17,
    "start_time": "2023-04-02T07:39:41.956Z"
   },
   {
    "duration": 8,
    "start_time": "2023-04-02T07:39:41.975Z"
   },
   {
    "duration": 52,
    "start_time": "2023-04-02T07:39:41.985Z"
   },
   {
    "duration": 33,
    "start_time": "2023-04-02T07:39:42.038Z"
   },
   {
    "duration": 34,
    "start_time": "2023-04-02T07:39:42.074Z"
   },
   {
    "duration": 9,
    "start_time": "2023-04-02T07:39:42.110Z"
   },
   {
    "duration": 20,
    "start_time": "2023-04-02T07:39:42.121Z"
   },
   {
    "duration": 11,
    "start_time": "2023-04-02T07:39:42.143Z"
   },
   {
    "duration": 17,
    "start_time": "2023-04-02T07:39:42.156Z"
   },
   {
    "duration": 30,
    "start_time": "2023-04-02T07:39:42.174Z"
   },
   {
    "duration": 15,
    "start_time": "2023-04-02T07:39:42.205Z"
   },
   {
    "duration": 9,
    "start_time": "2023-04-02T07:39:42.223Z"
   },
   {
    "duration": 220,
    "start_time": "2023-04-02T07:39:42.234Z"
   },
   {
    "duration": 8,
    "start_time": "2023-04-02T07:39:42.456Z"
   },
   {
    "duration": 353,
    "start_time": "2023-04-02T07:39:42.466Z"
   },
   {
    "duration": 6,
    "start_time": "2023-04-02T07:39:42.822Z"
   },
   {
    "duration": 349,
    "start_time": "2023-04-02T07:39:42.831Z"
   },
   {
    "duration": 279,
    "start_time": "2023-04-02T07:39:43.199Z"
   },
   {
    "duration": 260,
    "start_time": "2023-04-02T07:39:43.480Z"
   },
   {
    "duration": 180,
    "start_time": "2023-04-02T07:39:43.743Z"
   },
   {
    "duration": 148,
    "start_time": "2023-04-02T07:39:43.925Z"
   },
   {
    "duration": 37,
    "start_time": "2023-04-02T07:39:44.076Z"
   },
   {
    "duration": 36,
    "start_time": "2023-04-02T07:39:44.119Z"
   },
   {
    "duration": 905,
    "start_time": "2023-04-02T07:39:44.157Z"
   },
   {
    "duration": 503,
    "start_time": "2023-04-02T07:39:45.064Z"
   },
   {
    "duration": 495,
    "start_time": "2023-04-02T07:39:45.569Z"
   },
   {
    "duration": 4,
    "start_time": "2023-04-02T07:39:46.065Z"
   },
   {
    "duration": 525,
    "start_time": "2023-04-02T07:39:46.071Z"
   },
   {
    "duration": 19,
    "start_time": "2023-04-02T07:39:46.605Z"
   },
   {
    "duration": 16,
    "start_time": "2023-04-02T07:39:46.626Z"
   },
   {
    "duration": 6,
    "start_time": "2023-04-02T08:14:07.237Z"
   },
   {
    "duration": 1197,
    "start_time": "2023-04-02T08:14:15.365Z"
   },
   {
    "duration": 62,
    "start_time": "2023-04-02T08:14:16.564Z"
   },
   {
    "duration": 16,
    "start_time": "2023-04-02T08:14:16.628Z"
   },
   {
    "duration": 3,
    "start_time": "2023-04-02T08:14:16.646Z"
   },
   {
    "duration": 19,
    "start_time": "2023-04-02T08:14:16.651Z"
   },
   {
    "duration": 27,
    "start_time": "2023-04-02T08:14:16.671Z"
   },
   {
    "duration": 8,
    "start_time": "2023-04-02T08:14:16.699Z"
   },
   {
    "duration": 6,
    "start_time": "2023-04-02T08:14:16.708Z"
   },
   {
    "duration": 18,
    "start_time": "2023-04-02T08:14:16.715Z"
   },
   {
    "duration": 23,
    "start_time": "2023-04-02T08:14:16.735Z"
   },
   {
    "duration": 29,
    "start_time": "2023-04-02T08:14:16.760Z"
   },
   {
    "duration": 12,
    "start_time": "2023-04-02T08:14:16.791Z"
   },
   {
    "duration": 15,
    "start_time": "2023-04-02T08:14:16.804Z"
   },
   {
    "duration": 19,
    "start_time": "2023-04-02T08:14:16.821Z"
   },
   {
    "duration": 20,
    "start_time": "2023-04-02T08:14:16.842Z"
   },
   {
    "duration": 10,
    "start_time": "2023-04-02T08:14:16.887Z"
   },
   {
    "duration": 7,
    "start_time": "2023-04-02T08:14:16.899Z"
   },
   {
    "duration": 173,
    "start_time": "2023-04-02T08:14:16.908Z"
   },
   {
    "duration": 7,
    "start_time": "2023-04-02T08:14:17.088Z"
   },
   {
    "duration": 286,
    "start_time": "2023-04-02T08:14:17.097Z"
   },
   {
    "duration": 7,
    "start_time": "2023-04-02T08:14:17.384Z"
   },
   {
    "duration": 314,
    "start_time": "2023-04-02T08:14:17.393Z"
   },
   {
    "duration": 233,
    "start_time": "2023-04-02T08:14:17.710Z"
   },
   {
    "duration": 226,
    "start_time": "2023-04-02T08:14:17.945Z"
   },
   {
    "duration": 155,
    "start_time": "2023-04-02T08:14:18.173Z"
   },
   {
    "duration": 131,
    "start_time": "2023-04-02T08:14:18.330Z"
   },
   {
    "duration": 25,
    "start_time": "2023-04-02T08:14:18.463Z"
   },
   {
    "duration": 49,
    "start_time": "2023-04-02T08:14:18.491Z"
   },
   {
    "duration": 821,
    "start_time": "2023-04-02T08:14:18.541Z"
   },
   {
    "duration": 406,
    "start_time": "2023-04-02T08:14:19.363Z"
   },
   {
    "duration": 459,
    "start_time": "2023-04-02T08:14:19.771Z"
   },
   {
    "duration": 4,
    "start_time": "2023-04-02T08:14:20.232Z"
   },
   {
    "duration": 470,
    "start_time": "2023-04-02T08:14:20.237Z"
   },
   {
    "duration": 8,
    "start_time": "2023-04-02T08:14:20.709Z"
   },
   {
    "duration": 18,
    "start_time": "2023-04-02T08:14:20.719Z"
   },
   {
    "duration": 23,
    "start_time": "2023-04-02T08:17:34.486Z"
   },
   {
    "duration": 231,
    "start_time": "2023-04-02T08:56:41.576Z"
   },
   {
    "duration": 47,
    "start_time": "2023-04-02T08:57:35.423Z"
   },
   {
    "duration": 327,
    "start_time": "2023-04-02T09:03:43.242Z"
   },
   {
    "duration": 219,
    "start_time": "2023-04-02T09:09:53.969Z"
   },
   {
    "duration": 224,
    "start_time": "2023-04-02T09:10:07.754Z"
   },
   {
    "duration": 203,
    "start_time": "2023-04-02T09:13:59.277Z"
   },
   {
    "duration": 229,
    "start_time": "2023-04-02T09:17:46.981Z"
   },
   {
    "duration": 1439,
    "start_time": "2023-04-02T09:35:05.943Z"
   },
   {
    "duration": 68,
    "start_time": "2023-04-02T09:35:07.384Z"
   },
   {
    "duration": 14,
    "start_time": "2023-04-02T09:35:07.454Z"
   },
   {
    "duration": 4,
    "start_time": "2023-04-02T09:35:07.470Z"
   },
   {
    "duration": 17,
    "start_time": "2023-04-02T09:35:07.475Z"
   },
   {
    "duration": 25,
    "start_time": "2023-04-02T09:35:07.501Z"
   },
   {
    "duration": 11,
    "start_time": "2023-04-02T09:35:07.528Z"
   },
   {
    "duration": 6,
    "start_time": "2023-04-02T09:35:07.541Z"
   },
   {
    "duration": 42,
    "start_time": "2023-04-02T09:35:07.548Z"
   },
   {
    "duration": 40,
    "start_time": "2023-04-02T09:35:07.595Z"
   },
   {
    "duration": 4,
    "start_time": "2023-04-02T09:35:07.637Z"
   },
   {
    "duration": 9,
    "start_time": "2023-04-02T09:35:07.643Z"
   },
   {
    "duration": 11,
    "start_time": "2023-04-02T09:35:07.653Z"
   },
   {
    "duration": 25,
    "start_time": "2023-04-02T09:35:07.666Z"
   },
   {
    "duration": 25,
    "start_time": "2023-04-02T09:35:07.694Z"
   },
   {
    "duration": 9,
    "start_time": "2023-04-02T09:35:07.721Z"
   },
   {
    "duration": 5,
    "start_time": "2023-04-02T09:35:07.732Z"
   },
   {
    "duration": 208,
    "start_time": "2023-04-02T09:35:07.738Z"
   },
   {
    "duration": 9,
    "start_time": "2023-04-02T09:35:07.947Z"
   },
   {
    "duration": 329,
    "start_time": "2023-04-02T09:35:07.958Z"
   },
   {
    "duration": 11,
    "start_time": "2023-04-02T09:35:08.289Z"
   },
   {
    "duration": 345,
    "start_time": "2023-04-02T09:35:08.303Z"
   },
   {
    "duration": 59,
    "start_time": "2023-04-02T09:35:08.650Z"
   },
   {
    "duration": 269,
    "start_time": "2023-04-02T09:35:08.711Z"
   },
   {
    "duration": 170,
    "start_time": "2023-04-02T09:35:08.988Z"
   },
   {
    "duration": 158,
    "start_time": "2023-04-02T09:35:09.163Z"
   },
   {
    "duration": 10,
    "start_time": "2023-04-02T09:35:09.323Z"
   },
   {
    "duration": 19,
    "start_time": "2023-04-02T09:35:09.336Z"
   },
   {
    "duration": 814,
    "start_time": "2023-04-02T09:35:09.356Z"
   },
   {
    "duration": 604,
    "start_time": "2023-04-02T09:35:10.172Z"
   },
   {
    "duration": 515,
    "start_time": "2023-04-02T09:35:10.778Z"
   },
   {
    "duration": 6,
    "start_time": "2023-04-02T09:35:11.295Z"
   },
   {
    "duration": 444,
    "start_time": "2023-04-02T09:35:11.303Z"
   },
   {
    "duration": 8,
    "start_time": "2023-04-02T09:35:11.749Z"
   },
   {
    "duration": 13,
    "start_time": "2023-04-02T09:35:11.758Z"
   },
   {
    "duration": 1208,
    "start_time": "2023-04-02T09:46:18.252Z"
   },
   {
    "duration": 59,
    "start_time": "2023-04-02T09:46:19.462Z"
   },
   {
    "duration": 13,
    "start_time": "2023-04-02T09:46:19.523Z"
   },
   {
    "duration": 3,
    "start_time": "2023-04-02T09:46:19.538Z"
   },
   {
    "duration": 12,
    "start_time": "2023-04-02T09:46:19.543Z"
   },
   {
    "duration": 33,
    "start_time": "2023-04-02T09:46:19.557Z"
   },
   {
    "duration": 7,
    "start_time": "2023-04-02T09:46:19.592Z"
   },
   {
    "duration": 9,
    "start_time": "2023-04-02T09:46:19.601Z"
   },
   {
    "duration": 23,
    "start_time": "2023-04-02T09:46:19.612Z"
   },
   {
    "duration": 24,
    "start_time": "2023-04-02T09:46:19.638Z"
   },
   {
    "duration": 26,
    "start_time": "2023-04-02T09:46:19.665Z"
   },
   {
    "duration": 7,
    "start_time": "2023-04-02T09:46:19.692Z"
   },
   {
    "duration": 11,
    "start_time": "2023-04-02T09:46:19.701Z"
   },
   {
    "duration": 21,
    "start_time": "2023-04-02T09:46:19.714Z"
   },
   {
    "duration": 20,
    "start_time": "2023-04-02T09:46:19.737Z"
   },
   {
    "duration": 31,
    "start_time": "2023-04-02T09:46:19.758Z"
   },
   {
    "duration": 5,
    "start_time": "2023-04-02T09:46:19.791Z"
   },
   {
    "duration": 179,
    "start_time": "2023-04-02T09:46:19.797Z"
   },
   {
    "duration": 16,
    "start_time": "2023-04-02T09:46:19.978Z"
   },
   {
    "duration": 311,
    "start_time": "2023-04-02T09:46:19.996Z"
   },
   {
    "duration": 7,
    "start_time": "2023-04-02T09:46:20.308Z"
   },
   {
    "duration": 381,
    "start_time": "2023-04-02T09:46:20.317Z"
   },
   {
    "duration": 49,
    "start_time": "2023-04-02T09:46:20.700Z"
   },
   {
    "duration": 254,
    "start_time": "2023-04-02T09:46:20.751Z"
   },
   {
    "duration": 159,
    "start_time": "2023-04-02T09:46:21.007Z"
   },
   {
    "duration": 134,
    "start_time": "2023-04-02T09:46:21.168Z"
   },
   {
    "duration": 10,
    "start_time": "2023-04-02T09:46:21.304Z"
   },
   {
    "duration": 22,
    "start_time": "2023-04-02T09:46:21.317Z"
   },
   {
    "duration": 740,
    "start_time": "2023-04-02T09:46:21.340Z"
   },
   {
    "duration": 488,
    "start_time": "2023-04-02T09:46:22.081Z"
   },
   {
    "duration": 451,
    "start_time": "2023-04-02T09:46:22.571Z"
   },
   {
    "duration": 3,
    "start_time": "2023-04-02T09:46:23.024Z"
   },
   {
    "duration": 413,
    "start_time": "2023-04-02T09:46:23.029Z"
   },
   {
    "duration": 8,
    "start_time": "2023-04-02T09:46:23.444Z"
   },
   {
    "duration": 14,
    "start_time": "2023-04-02T09:46:23.454Z"
   },
   {
    "duration": 407,
    "start_time": "2023-04-02T11:10:03.134Z"
   },
   {
    "duration": 117,
    "start_time": "2023-04-02T11:32:57.697Z"
   },
   {
    "duration": 1326,
    "start_time": "2023-04-02T11:39:22.531Z"
   },
   {
    "duration": 82,
    "start_time": "2023-04-02T11:39:23.859Z"
   },
   {
    "duration": 15,
    "start_time": "2023-04-02T11:39:23.942Z"
   },
   {
    "duration": 3,
    "start_time": "2023-04-02T11:39:23.960Z"
   },
   {
    "duration": 23,
    "start_time": "2023-04-02T11:39:23.965Z"
   },
   {
    "duration": 26,
    "start_time": "2023-04-02T11:39:23.990Z"
   },
   {
    "duration": 32,
    "start_time": "2023-04-02T11:39:24.017Z"
   },
   {
    "duration": 7,
    "start_time": "2023-04-02T11:39:24.052Z"
   },
   {
    "duration": 30,
    "start_time": "2023-04-02T11:39:24.062Z"
   },
   {
    "duration": 54,
    "start_time": "2023-04-02T11:39:24.101Z"
   },
   {
    "duration": 6,
    "start_time": "2023-04-02T11:39:24.157Z"
   },
   {
    "duration": 7,
    "start_time": "2023-04-02T11:39:24.165Z"
   },
   {
    "duration": 60,
    "start_time": "2023-04-02T11:39:24.174Z"
   },
   {
    "duration": 18,
    "start_time": "2023-04-02T11:39:24.236Z"
   },
   {
    "duration": 20,
    "start_time": "2023-04-02T11:39:24.256Z"
   },
   {
    "duration": 14,
    "start_time": "2023-04-02T11:39:24.278Z"
   },
   {
    "duration": 44,
    "start_time": "2023-04-02T11:39:24.294Z"
   },
   {
    "duration": 207,
    "start_time": "2023-04-02T11:39:24.340Z"
   },
   {
    "duration": 11,
    "start_time": "2023-04-02T11:39:24.550Z"
   },
   {
    "duration": 403,
    "start_time": "2023-04-02T11:39:24.564Z"
   },
   {
    "duration": 7,
    "start_time": "2023-04-02T11:39:24.968Z"
   },
   {
    "duration": 420,
    "start_time": "2023-04-02T11:39:24.977Z"
   },
   {
    "duration": 61,
    "start_time": "2023-04-02T11:39:25.400Z"
   },
   {
    "duration": 303,
    "start_time": "2023-04-02T11:39:25.464Z"
   },
   {
    "duration": 200,
    "start_time": "2023-04-02T11:39:25.769Z"
   },
   {
    "duration": 290,
    "start_time": "2023-04-02T11:39:25.972Z"
   },
   {
    "duration": 13,
    "start_time": "2023-04-02T11:39:26.264Z"
   },
   {
    "duration": 29,
    "start_time": "2023-04-02T11:39:26.293Z"
   },
   {
    "duration": 1044,
    "start_time": "2023-04-02T11:39:26.324Z"
   },
   {
    "duration": 611,
    "start_time": "2023-04-02T11:39:27.370Z"
   },
   {
    "duration": 593,
    "start_time": "2023-04-02T11:39:27.987Z"
   },
   {
    "duration": 4,
    "start_time": "2023-04-02T11:39:28.582Z"
   },
   {
    "duration": 571,
    "start_time": "2023-04-02T11:39:28.599Z"
   },
   {
    "duration": 8,
    "start_time": "2023-04-02T11:39:29.173Z"
   },
   {
    "duration": 52,
    "start_time": "2023-04-02T11:39:29.183Z"
   },
   {
    "duration": 113,
    "start_time": "2023-04-02T11:43:53.131Z"
   },
   {
    "duration": 410,
    "start_time": "2023-04-02T11:44:14.219Z"
   },
   {
    "duration": 631,
    "start_time": "2023-04-02T11:44:34.449Z"
   },
   {
    "duration": 406,
    "start_time": "2023-04-02T11:44:44.028Z"
   },
   {
    "duration": 444,
    "start_time": "2023-04-02T11:45:38.959Z"
   },
   {
    "duration": 340,
    "start_time": "2023-04-02T11:45:50.912Z"
   },
   {
    "duration": 128,
    "start_time": "2023-04-02T11:47:35.331Z"
   },
   {
    "duration": 471,
    "start_time": "2023-04-02T11:47:41.313Z"
   },
   {
    "duration": 948,
    "start_time": "2023-04-02T11:49:13.392Z"
   },
   {
    "duration": 1009,
    "start_time": "2023-04-02T11:49:41.963Z"
   },
   {
    "duration": 521,
    "start_time": "2023-04-02T11:53:33.252Z"
   },
   {
    "duration": 610,
    "start_time": "2023-04-02T11:55:32.775Z"
   },
   {
    "duration": 635,
    "start_time": "2023-04-02T11:55:56.915Z"
   },
   {
    "duration": 1328,
    "start_time": "2023-04-02T11:56:12.807Z"
   },
   {
    "duration": 89,
    "start_time": "2023-04-02T11:56:14.138Z"
   },
   {
    "duration": 20,
    "start_time": "2023-04-02T11:56:14.234Z"
   },
   {
    "duration": 13,
    "start_time": "2023-04-02T11:56:14.257Z"
   },
   {
    "duration": 27,
    "start_time": "2023-04-02T11:56:14.272Z"
   },
   {
    "duration": 48,
    "start_time": "2023-04-02T11:56:14.303Z"
   },
   {
    "duration": 10,
    "start_time": "2023-04-02T11:56:14.354Z"
   },
   {
    "duration": 7,
    "start_time": "2023-04-02T11:56:14.366Z"
   },
   {
    "duration": 70,
    "start_time": "2023-04-02T11:56:14.375Z"
   },
   {
    "duration": 24,
    "start_time": "2023-04-02T11:56:14.447Z"
   },
   {
    "duration": 6,
    "start_time": "2023-04-02T11:56:14.473Z"
   },
   {
    "duration": 53,
    "start_time": "2023-04-02T11:56:14.482Z"
   },
   {
    "duration": 24,
    "start_time": "2023-04-02T11:56:14.540Z"
   },
   {
    "duration": 18,
    "start_time": "2023-04-02T11:56:14.567Z"
   },
   {
    "duration": 36,
    "start_time": "2023-04-02T11:56:14.587Z"
   },
   {
    "duration": 32,
    "start_time": "2023-04-02T11:56:14.625Z"
   },
   {
    "duration": 7,
    "start_time": "2023-04-02T11:56:14.660Z"
   },
   {
    "duration": 269,
    "start_time": "2023-04-02T11:56:14.669Z"
   },
   {
    "duration": 11,
    "start_time": "2023-04-02T11:56:14.940Z"
   },
   {
    "duration": 406,
    "start_time": "2023-04-02T11:56:14.953Z"
   },
   {
    "duration": 7,
    "start_time": "2023-04-02T11:56:15.361Z"
   },
   {
    "duration": 378,
    "start_time": "2023-04-02T11:56:15.370Z"
   },
   {
    "duration": 59,
    "start_time": "2023-04-02T11:56:15.750Z"
   },
   {
    "duration": 296,
    "start_time": "2023-04-02T11:56:15.812Z"
   },
   {
    "duration": 205,
    "start_time": "2023-04-02T11:56:16.112Z"
   },
   {
    "duration": 223,
    "start_time": "2023-04-02T11:56:16.319Z"
   },
   {
    "duration": 14,
    "start_time": "2023-04-02T11:56:16.548Z"
   },
   {
    "duration": 21,
    "start_time": "2023-04-02T11:56:16.563Z"
   },
   {
    "duration": 999,
    "start_time": "2023-04-02T11:56:16.598Z"
   },
   {
    "duration": 492,
    "start_time": "2023-04-02T11:56:17.600Z"
   },
   {
    "duration": 541,
    "start_time": "2023-04-02T11:56:18.094Z"
   },
   {
    "duration": 5,
    "start_time": "2023-04-02T11:56:18.637Z"
   },
   {
    "duration": 533,
    "start_time": "2023-04-02T11:56:18.645Z"
   },
   {
    "duration": 25,
    "start_time": "2023-04-02T11:56:19.180Z"
   },
   {
    "duration": 30,
    "start_time": "2023-04-02T11:56:19.212Z"
   },
   {
    "duration": 969,
    "start_time": "2023-04-02T12:00:00.902Z"
   },
   {
    "duration": 24,
    "start_time": "2023-04-02T12:00:25.328Z"
   },
   {
    "duration": 370,
    "start_time": "2023-04-02T12:00:41.673Z"
   },
   {
    "duration": 192,
    "start_time": "2023-04-02T12:18:31.533Z"
   },
   {
    "duration": 1321,
    "start_time": "2023-04-02T12:19:07.410Z"
   },
   {
    "duration": 88,
    "start_time": "2023-04-02T12:19:08.734Z"
   },
   {
    "duration": 16,
    "start_time": "2023-04-02T12:19:08.825Z"
   },
   {
    "duration": 3,
    "start_time": "2023-04-02T12:19:08.843Z"
   },
   {
    "duration": 14,
    "start_time": "2023-04-02T12:19:08.848Z"
   },
   {
    "duration": 40,
    "start_time": "2023-04-02T12:19:08.864Z"
   },
   {
    "duration": 30,
    "start_time": "2023-04-02T12:19:08.906Z"
   },
   {
    "duration": 8,
    "start_time": "2023-04-02T12:19:08.938Z"
   },
   {
    "duration": 22,
    "start_time": "2023-04-02T12:19:08.948Z"
   },
   {
    "duration": 37,
    "start_time": "2023-04-02T12:19:08.971Z"
   },
   {
    "duration": 22,
    "start_time": "2023-04-02T12:19:09.019Z"
   },
   {
    "duration": 10,
    "start_time": "2023-04-02T12:19:09.044Z"
   },
   {
    "duration": 15,
    "start_time": "2023-04-02T12:19:09.056Z"
   },
   {
    "duration": 55,
    "start_time": "2023-04-02T12:19:09.074Z"
   },
   {
    "duration": 37,
    "start_time": "2023-04-02T12:19:09.132Z"
   },
   {
    "duration": 12,
    "start_time": "2023-04-02T12:19:09.171Z"
   },
   {
    "duration": 8,
    "start_time": "2023-04-02T12:19:09.184Z"
   },
   {
    "duration": 235,
    "start_time": "2023-04-02T12:19:09.193Z"
   },
   {
    "duration": 9,
    "start_time": "2023-04-02T12:19:09.431Z"
   },
   {
    "duration": 384,
    "start_time": "2023-04-02T12:19:09.443Z"
   },
   {
    "duration": 8,
    "start_time": "2023-04-02T12:19:09.829Z"
   },
   {
    "duration": 382,
    "start_time": "2023-04-02T12:19:09.839Z"
   },
   {
    "duration": 50,
    "start_time": "2023-04-02T12:19:10.224Z"
   },
   {
    "duration": 367,
    "start_time": "2023-04-02T12:19:10.276Z"
   },
   {
    "duration": 197,
    "start_time": "2023-04-02T12:19:10.645Z"
   },
   {
    "duration": 203,
    "start_time": "2023-04-02T12:19:10.844Z"
   },
   {
    "duration": 14,
    "start_time": "2023-04-02T12:19:11.051Z"
   },
   {
    "duration": 36,
    "start_time": "2023-04-02T12:19:11.066Z"
   },
   {
    "duration": 992,
    "start_time": "2023-04-02T12:19:11.104Z"
   },
   {
    "duration": 520,
    "start_time": "2023-04-02T12:19:12.104Z"
   },
   {
    "duration": 575,
    "start_time": "2023-04-02T12:19:12.627Z"
   },
   {
    "duration": 10,
    "start_time": "2023-04-02T12:19:13.210Z"
   },
   {
    "duration": 521,
    "start_time": "2023-04-02T12:19:13.231Z"
   },
   {
    "duration": 11,
    "start_time": "2023-04-02T12:19:13.754Z"
   },
   {
    "duration": 23,
    "start_time": "2023-04-02T12:19:13.768Z"
   },
   {
    "duration": 356,
    "start_time": "2023-04-02T12:27:20.371Z"
   },
   {
    "duration": 1463,
    "start_time": "2023-04-02T12:27:36.584Z"
   },
   {
    "duration": 78,
    "start_time": "2023-04-02T12:27:38.049Z"
   },
   {
    "duration": 18,
    "start_time": "2023-04-02T12:27:38.131Z"
   },
   {
    "duration": 15,
    "start_time": "2023-04-02T12:27:38.152Z"
   },
   {
    "duration": 24,
    "start_time": "2023-04-02T12:27:38.171Z"
   },
   {
    "duration": 59,
    "start_time": "2023-04-02T12:27:38.197Z"
   },
   {
    "duration": 11,
    "start_time": "2023-04-02T12:27:38.258Z"
   },
   {
    "duration": 10,
    "start_time": "2023-04-02T12:27:38.270Z"
   },
   {
    "duration": 57,
    "start_time": "2023-04-02T12:27:38.282Z"
   },
   {
    "duration": 25,
    "start_time": "2023-04-02T12:27:38.342Z"
   },
   {
    "duration": 9,
    "start_time": "2023-04-02T12:27:38.369Z"
   },
   {
    "duration": 14,
    "start_time": "2023-04-02T12:27:38.380Z"
   },
   {
    "duration": 36,
    "start_time": "2023-04-02T12:27:38.396Z"
   },
   {
    "duration": 27,
    "start_time": "2023-04-02T12:27:38.435Z"
   },
   {
    "duration": 28,
    "start_time": "2023-04-02T12:27:38.465Z"
   },
   {
    "duration": 19,
    "start_time": "2023-04-02T12:27:38.495Z"
   },
   {
    "duration": 25,
    "start_time": "2023-04-02T12:27:38.516Z"
   },
   {
    "duration": 215,
    "start_time": "2023-04-02T12:27:38.543Z"
   },
   {
    "duration": 11,
    "start_time": "2023-04-02T12:27:38.759Z"
   },
   {
    "duration": 444,
    "start_time": "2023-04-02T12:27:38.771Z"
   },
   {
    "duration": 10,
    "start_time": "2023-04-02T12:27:39.218Z"
   },
   {
    "duration": 369,
    "start_time": "2023-04-02T12:27:39.230Z"
   },
   {
    "duration": 71,
    "start_time": "2023-04-02T12:27:39.604Z"
   },
   {
    "duration": 326,
    "start_time": "2023-04-02T12:27:39.678Z"
   },
   {
    "duration": 182,
    "start_time": "2023-04-02T12:27:40.005Z"
   },
   {
    "duration": 176,
    "start_time": "2023-04-02T12:27:40.189Z"
   },
   {
    "duration": 31,
    "start_time": "2023-04-02T12:27:40.367Z"
   },
   {
    "duration": 62,
    "start_time": "2023-04-02T12:27:40.406Z"
   },
   {
    "duration": 1147,
    "start_time": "2023-04-02T12:27:40.470Z"
   },
   {
    "duration": 520,
    "start_time": "2023-04-02T12:27:41.619Z"
   },
   {
    "duration": 576,
    "start_time": "2023-04-02T12:27:42.141Z"
   },
   {
    "duration": 6,
    "start_time": "2023-04-02T12:27:42.719Z"
   },
   {
    "duration": 520,
    "start_time": "2023-04-02T12:27:42.727Z"
   },
   {
    "duration": 9,
    "start_time": "2023-04-02T12:27:43.249Z"
   },
   {
    "duration": 29,
    "start_time": "2023-04-02T12:27:43.260Z"
   },
   {
    "duration": 175,
    "start_time": "2023-04-02T12:28:59.207Z"
   },
   {
    "duration": 173,
    "start_time": "2023-04-02T12:29:19.886Z"
   },
   {
    "duration": 190,
    "start_time": "2023-04-02T12:44:13.826Z"
   },
   {
    "duration": 178,
    "start_time": "2023-04-02T12:44:31.721Z"
   },
   {
    "duration": 442,
    "start_time": "2023-04-02T12:47:46.417Z"
   },
   {
    "duration": 1492,
    "start_time": "2023-04-02T12:47:54.874Z"
   },
   {
    "duration": 91,
    "start_time": "2023-04-02T12:47:56.369Z"
   },
   {
    "duration": 329,
    "start_time": "2023-04-02T12:47:56.462Z"
   },
   {
    "duration": 29,
    "start_time": "2023-04-02T12:47:56.794Z"
   },
   {
    "duration": 29,
    "start_time": "2023-04-02T12:47:56.828Z"
   },
   {
    "duration": 23,
    "start_time": "2023-04-02T12:47:56.859Z"
   },
   {
    "duration": 13,
    "start_time": "2023-04-02T12:47:56.884Z"
   },
   {
    "duration": 37,
    "start_time": "2023-04-02T12:47:56.899Z"
   },
   {
    "duration": 21,
    "start_time": "2023-04-02T12:47:56.938Z"
   },
   {
    "duration": 35,
    "start_time": "2023-04-02T12:47:56.963Z"
   },
   {
    "duration": 29,
    "start_time": "2023-04-02T12:47:57.002Z"
   },
   {
    "duration": 16,
    "start_time": "2023-04-02T12:47:57.032Z"
   },
   {
    "duration": 12,
    "start_time": "2023-04-02T12:47:57.050Z"
   },
   {
    "duration": 26,
    "start_time": "2023-04-02T12:47:57.064Z"
   },
   {
    "duration": 54,
    "start_time": "2023-04-02T12:47:57.092Z"
   },
   {
    "duration": 10,
    "start_time": "2023-04-02T12:47:57.148Z"
   },
   {
    "duration": 8,
    "start_time": "2023-04-02T12:47:57.159Z"
   },
   {
    "duration": 231,
    "start_time": "2023-04-02T12:47:57.169Z"
   },
   {
    "duration": 29,
    "start_time": "2023-04-02T12:47:57.402Z"
   },
   {
    "duration": 379,
    "start_time": "2023-04-02T12:47:57.432Z"
   },
   {
    "duration": 11,
    "start_time": "2023-04-02T12:47:57.813Z"
   },
   {
    "duration": 487,
    "start_time": "2023-04-02T12:47:57.826Z"
   },
   {
    "duration": 128,
    "start_time": "2023-04-02T12:47:58.315Z"
   },
   {
    "duration": 743,
    "start_time": "2023-04-02T12:47:58.488Z"
   },
   {
    "duration": 498,
    "start_time": "2023-04-02T12:47:59.234Z"
   },
   {
    "duration": 483,
    "start_time": "2023-04-02T12:47:59.734Z"
   },
   {
    "duration": 16,
    "start_time": "2023-04-02T12:48:00.219Z"
   },
   {
    "duration": 83,
    "start_time": "2023-04-02T12:48:00.241Z"
   },
   {
    "duration": 1550,
    "start_time": "2023-04-02T12:48:00.326Z"
   },
   {
    "duration": 510,
    "start_time": "2023-04-02T12:48:01.879Z"
   },
   {
    "duration": 555,
    "start_time": "2023-04-02T12:48:02.391Z"
   },
   {
    "duration": 3,
    "start_time": "2023-04-02T12:48:02.948Z"
   },
   {
    "duration": 534,
    "start_time": "2023-04-02T12:48:02.953Z"
   },
   {
    "duration": 13,
    "start_time": "2023-04-02T12:48:03.489Z"
   },
   {
    "duration": 35,
    "start_time": "2023-04-02T12:48:03.504Z"
   },
   {
    "duration": 1352,
    "start_time": "2023-04-02T12:49:07.716Z"
   },
   {
    "duration": 89,
    "start_time": "2023-04-02T12:49:09.070Z"
   },
   {
    "duration": 22,
    "start_time": "2023-04-02T12:49:09.162Z"
   },
   {
    "duration": 42,
    "start_time": "2023-04-02T12:49:09.186Z"
   },
   {
    "duration": 20,
    "start_time": "2023-04-02T12:49:09.231Z"
   },
   {
    "duration": 17,
    "start_time": "2023-04-02T12:49:09.253Z"
   },
   {
    "duration": 10,
    "start_time": "2023-04-02T12:49:09.271Z"
   },
   {
    "duration": 46,
    "start_time": "2023-04-02T12:49:09.283Z"
   },
   {
    "duration": 26,
    "start_time": "2023-04-02T12:49:09.332Z"
   },
   {
    "duration": 40,
    "start_time": "2023-04-02T12:49:09.361Z"
   },
   {
    "duration": 27,
    "start_time": "2023-04-02T12:49:09.403Z"
   },
   {
    "duration": 7,
    "start_time": "2023-04-02T12:49:09.432Z"
   },
   {
    "duration": 13,
    "start_time": "2023-04-02T12:49:09.442Z"
   },
   {
    "duration": 22,
    "start_time": "2023-04-02T12:49:09.459Z"
   },
   {
    "duration": 30,
    "start_time": "2023-04-02T12:49:09.483Z"
   },
   {
    "duration": 23,
    "start_time": "2023-04-02T12:49:09.515Z"
   },
   {
    "duration": 6,
    "start_time": "2023-04-02T12:49:09.540Z"
   },
   {
    "duration": 247,
    "start_time": "2023-04-02T12:49:09.548Z"
   },
   {
    "duration": 20,
    "start_time": "2023-04-02T12:49:09.803Z"
   },
   {
    "duration": 404,
    "start_time": "2023-04-02T12:49:09.826Z"
   },
   {
    "duration": 9,
    "start_time": "2023-04-02T12:49:10.232Z"
   },
   {
    "duration": 674,
    "start_time": "2023-04-02T12:49:10.243Z"
   },
   {
    "duration": 120,
    "start_time": "2023-04-02T12:49:10.920Z"
   },
   {
    "duration": 717,
    "start_time": "2023-04-02T12:49:11.087Z"
   },
   {
    "duration": 491,
    "start_time": "2023-04-02T12:49:11.811Z"
   },
   {
    "duration": 421,
    "start_time": "2023-04-02T12:49:12.304Z"
   },
   {
    "duration": 73,
    "start_time": "2023-04-02T12:49:12.727Z"
   },
   {
    "duration": 93,
    "start_time": "2023-04-02T12:49:12.804Z"
   },
   {
    "duration": 1292,
    "start_time": "2023-04-02T12:49:12.901Z"
   },
   {
    "duration": 501,
    "start_time": "2023-04-02T12:49:14.196Z"
   },
   {
    "duration": 555,
    "start_time": "2023-04-02T12:49:14.700Z"
   },
   {
    "duration": 4,
    "start_time": "2023-04-02T12:49:15.257Z"
   },
   {
    "duration": 483,
    "start_time": "2023-04-02T12:49:15.263Z"
   },
   {
    "duration": 9,
    "start_time": "2023-04-02T12:49:15.748Z"
   },
   {
    "duration": 34,
    "start_time": "2023-04-02T12:49:15.759Z"
   },
   {
    "duration": 346,
    "start_time": "2023-04-02T12:50:30.177Z"
   },
   {
    "duration": 302,
    "start_time": "2023-04-02T12:50:49.152Z"
   },
   {
    "duration": 1067,
    "start_time": "2023-04-02T12:54:39.362Z"
   },
   {
    "duration": 505,
    "start_time": "2023-04-02T12:57:13.834Z"
   },
   {
    "duration": 564,
    "start_time": "2023-04-02T12:57:42.616Z"
   },
   {
    "duration": 636,
    "start_time": "2023-04-02T12:58:01.519Z"
   },
   {
    "duration": 553,
    "start_time": "2023-04-02T12:58:24.975Z"
   },
   {
    "duration": 810,
    "start_time": "2023-04-02T12:58:49.828Z"
   },
   {
    "duration": 726,
    "start_time": "2023-04-02T13:01:12.011Z"
   },
   {
    "duration": 94,
    "start_time": "2023-04-02T13:02:07.622Z"
   },
   {
    "duration": 567,
    "start_time": "2023-04-02T13:02:34.714Z"
   },
   {
    "duration": 533,
    "start_time": "2023-04-02T13:02:57.183Z"
   },
   {
    "duration": 590,
    "start_time": "2023-04-02T13:03:30.021Z"
   },
   {
    "duration": 1278,
    "start_time": "2023-04-02T13:04:17.660Z"
   },
   {
    "duration": 93,
    "start_time": "2023-04-02T13:04:18.940Z"
   },
   {
    "duration": 18,
    "start_time": "2023-04-02T13:04:19.035Z"
   },
   {
    "duration": 4,
    "start_time": "2023-04-02T13:04:19.055Z"
   },
   {
    "duration": 20,
    "start_time": "2023-04-02T13:04:19.060Z"
   },
   {
    "duration": 25,
    "start_time": "2023-04-02T13:04:19.081Z"
   },
   {
    "duration": 27,
    "start_time": "2023-04-02T13:04:19.108Z"
   },
   {
    "duration": 11,
    "start_time": "2023-04-02T13:04:19.137Z"
   },
   {
    "duration": 24,
    "start_time": "2023-04-02T13:04:19.149Z"
   },
   {
    "duration": 48,
    "start_time": "2023-04-02T13:04:19.176Z"
   },
   {
    "duration": 4,
    "start_time": "2023-04-02T13:04:19.228Z"
   },
   {
    "duration": 11,
    "start_time": "2023-04-02T13:04:19.234Z"
   },
   {
    "duration": 8,
    "start_time": "2023-04-02T13:04:19.247Z"
   },
   {
    "duration": 32,
    "start_time": "2023-04-02T13:04:19.256Z"
   },
   {
    "duration": 36,
    "start_time": "2023-04-02T13:04:19.290Z"
   },
   {
    "duration": 17,
    "start_time": "2023-04-02T13:04:19.329Z"
   },
   {
    "duration": 12,
    "start_time": "2023-04-02T13:04:19.348Z"
   },
   {
    "duration": 216,
    "start_time": "2023-04-02T13:04:19.362Z"
   },
   {
    "duration": 20,
    "start_time": "2023-04-02T13:04:19.581Z"
   },
   {
    "duration": 385,
    "start_time": "2023-04-02T13:04:19.607Z"
   },
   {
    "duration": 12,
    "start_time": "2023-04-02T13:04:19.995Z"
   },
   {
    "duration": 426,
    "start_time": "2023-04-02T13:04:20.009Z"
   },
   {
    "duration": 74,
    "start_time": "2023-04-02T13:04:20.441Z"
   },
   {
    "duration": 400,
    "start_time": "2023-04-02T13:04:20.517Z"
   },
   {
    "duration": 258,
    "start_time": "2023-04-02T13:04:20.920Z"
   },
   {
    "duration": 223,
    "start_time": "2023-04-02T13:04:21.180Z"
   },
   {
    "duration": 32,
    "start_time": "2023-04-02T13:04:21.405Z"
   },
   {
    "duration": 80,
    "start_time": "2023-04-02T13:04:21.443Z"
   },
   {
    "duration": 1164,
    "start_time": "2023-04-02T13:04:21.526Z"
   },
   {
    "duration": 564,
    "start_time": "2023-04-02T13:04:22.693Z"
   },
   {
    "duration": 586,
    "start_time": "2023-04-02T13:04:23.259Z"
   },
   {
    "duration": 4,
    "start_time": "2023-04-02T13:04:23.847Z"
   },
   {
    "duration": 602,
    "start_time": "2023-04-02T13:04:23.853Z"
   },
   {
    "duration": 14,
    "start_time": "2023-04-02T13:04:24.457Z"
   },
   {
    "duration": 13,
    "start_time": "2023-04-02T13:04:24.473Z"
   }
  ],
  "kernelspec": {
   "display_name": "Python 3 (ipykernel)",
   "language": "python",
   "name": "python3"
  },
  "language_info": {
   "codemirror_mode": {
    "name": "ipython",
    "version": 3
   },
   "file_extension": ".py",
   "mimetype": "text/x-python",
   "name": "python",
   "nbconvert_exporter": "python",
   "pygments_lexer": "ipython3",
   "version": "3.9.5"
  },
  "toc": {
   "base_numbering": 1,
   "nav_menu": {},
   "number_sections": true,
   "sideBar": true,
   "skip_h1_title": true,
   "title_cell": "Table of Contents",
   "title_sidebar": "Contents",
   "toc_cell": false,
   "toc_position": {},
   "toc_section_display": true,
   "toc_window_display": true
  }
 },
 "nbformat": 4,
 "nbformat_minor": 2
}
