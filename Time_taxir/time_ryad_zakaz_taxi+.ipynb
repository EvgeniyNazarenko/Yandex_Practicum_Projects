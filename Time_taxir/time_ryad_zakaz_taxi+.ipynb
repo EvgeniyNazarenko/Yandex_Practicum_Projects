{
 "cells": [
  {
   "cell_type": "markdown",
   "metadata": {
    "toc": true
   },
   "source": [
    "<h1>Содержание<span class=\"tocSkip\"></span></h1>\n",
    "<div class=\"toc\"><ul class=\"toc-item\"><li><ul class=\"toc-item\"><li><ul class=\"toc-item\"><li><span><a href=\"#Полезные-ссылки:\" data-toc-modified-id=\"Полезные-ссылки:-0.0.1\"><span class=\"toc-item-num\">0.0.1&nbsp;&nbsp;</span><font color=\"orange\">Полезные ссылки:</font></a></span></li></ul></li><li><span><a href=\"#Общее-впечатление\" data-toc-modified-id=\"Общее-впечатление-0.1\"><span class=\"toc-item-num\">0.1&nbsp;&nbsp;</span><font color=\"orange\">Общее впечатление</font></a></span></li><li><span><a href=\"#Общее-впечатление-(ревью-2)\" data-toc-modified-id=\"Общее-впечатление-(ревью-2)-0.2\"><span class=\"toc-item-num\">0.2&nbsp;&nbsp;</span><font color=\"orange\">Общее впечатление (ревью 2)</font></a></span></li></ul></li><li><span><a href=\"#Подготовка\" data-toc-modified-id=\"Подготовка-1\"><span class=\"toc-item-num\">1&nbsp;&nbsp;</span>Подготовка</a></span></li><li><span><a href=\"#Анализ\" data-toc-modified-id=\"Анализ-2\"><span class=\"toc-item-num\">2&nbsp;&nbsp;</span>Анализ</a></span></li><li><span><a href=\"#Обучение\" data-toc-modified-id=\"Обучение-3\"><span class=\"toc-item-num\">3&nbsp;&nbsp;</span>Обучение</a></span><ul class=\"toc-item\"><li><span><a href=\"#Модель-линейной-регрессии.\" data-toc-modified-id=\"Модель-линейной-регрессии.-3.1\"><span class=\"toc-item-num\">3.1&nbsp;&nbsp;</span>Модель линейной регрессии.</a></span></li><li><span><a href=\"#Модель-случайного-леса\" data-toc-modified-id=\"Модель-случайного-леса-3.2\"><span class=\"toc-item-num\">3.2&nbsp;&nbsp;</span>Модель случайного леса</a></span></li><li><span><a href=\"#Модель-Catboost\" data-toc-modified-id=\"Модель-Catboost-3.3\"><span class=\"toc-item-num\">3.3&nbsp;&nbsp;</span>Модель Catboost</a></span></li><li><span><a href=\"#Модель-LightGBM\" data-toc-modified-id=\"Модель-LightGBM-3.4\"><span class=\"toc-item-num\">3.4&nbsp;&nbsp;</span>Модель LightGBM</a></span></li></ul></li><li><span><a href=\"#Тестирование\" data-toc-modified-id=\"Тестирование-4\"><span class=\"toc-item-num\">4&nbsp;&nbsp;</span>Тестирование</a></span></li><li><span><a href=\"#Выводы\" data-toc-modified-id=\"Выводы-5\"><span class=\"toc-item-num\">5&nbsp;&nbsp;</span>Выводы</a></span></li><li><span><a href=\"#Чек-лист-проверки\" data-toc-modified-id=\"Чек-лист-проверки-6\"><span class=\"toc-item-num\">6&nbsp;&nbsp;</span>Чек-лист проверки</a></span></li></ul></div>"
   ]
  },
  {
   "cell_type": "markdown",
   "metadata": {},
   "source": [
    "#  Прогнозирование заказов такси"
   ]
  },
  {
   "cell_type": "markdown",
   "metadata": {},
   "source": [
    "Компания «Чётенькое такси» собрала исторические данные о заказах такси в аэропортах. Чтобы привлекать больше водителей в период пиковой нагрузки, нужно спрогнозировать количество заказов такси на следующий час. Постройте модель для такого предсказания.\n",
    "\n",
    "Значение метрики *RMSE* на тестовой выборке должно быть не больше 48.\n",
    "\n",
    "Вам нужно:\n",
    "\n",
    "1. Загрузить данные и выполнить их ресемплирование по одному часу.\n",
    "2. Проанализировать данные.\n",
    "3. Обучить разные модели с различными гиперпараметрами. Сделать тестовую выборку размером 10% от исходных данных.\n",
    "4. Проверить данные на тестовой выборке и сделать выводы.\n",
    "\n",
    "\n",
    "Данные лежат в файле `taxi.csv`. Количество заказов находится в столбце `num_orders` (от англ. *number of orders*, «число заказов»)."
   ]
  },
  {
   "cell_type": "markdown",
   "metadata": {},
   "source": [
    "## Подготовка"
   ]
  },
  {
   "cell_type": "code",
   "execution_count": 1,
   "metadata": {},
   "outputs": [
    {
     "name": "stdout",
     "output_type": "stream",
     "text": [
      "Requirement already satisfied: optuna in /opt/conda/lib/python3.9/site-packages (3.2.0)\n",
      "Requirement already satisfied: PyYAML in /opt/conda/lib/python3.9/site-packages (from optuna) (6.0)\n",
      "Requirement already satisfied: cmaes>=0.9.1 in /opt/conda/lib/python3.9/site-packages (from optuna) (0.9.1)\n",
      "Requirement already satisfied: packaging>=20.0 in /opt/conda/lib/python3.9/site-packages (from optuna) (21.3)\n",
      "Requirement already satisfied: tqdm in /opt/conda/lib/python3.9/site-packages (from optuna) (4.61.2)\n",
      "Requirement already satisfied: sqlalchemy>=1.3.0 in /opt/conda/lib/python3.9/site-packages (from optuna) (1.4.20)\n",
      "Requirement already satisfied: colorlog in /opt/conda/lib/python3.9/site-packages (from optuna) (6.7.0)\n",
      "Requirement already satisfied: alembic>=1.5.0 in /opt/conda/lib/python3.9/site-packages (from optuna) (1.6.5)\n",
      "Requirement already satisfied: numpy in /opt/conda/lib/python3.9/site-packages (from optuna) (1.21.1)\n",
      "Requirement already satisfied: python-editor>=0.3 in /opt/conda/lib/python3.9/site-packages (from alembic>=1.5.0->optuna) (1.0.4)\n",
      "Requirement already satisfied: Mako in /opt/conda/lib/python3.9/site-packages (from alembic>=1.5.0->optuna) (1.1.4)\n",
      "Requirement already satisfied: python-dateutil in /opt/conda/lib/python3.9/site-packages (from alembic>=1.5.0->optuna) (2.8.1)\n",
      "Requirement already satisfied: pyparsing!=3.0.5,>=2.0.2 in /opt/conda/lib/python3.9/site-packages (from packaging>=20.0->optuna) (2.4.7)\n",
      "Requirement already satisfied: greenlet!=0.4.17 in /opt/conda/lib/python3.9/site-packages (from sqlalchemy>=1.3.0->optuna) (1.1.0)\n",
      "Requirement already satisfied: MarkupSafe>=0.9.2 in /opt/conda/lib/python3.9/site-packages (from Mako->alembic>=1.5.0->optuna) (2.1.1)\n",
      "Requirement already satisfied: six>=1.5 in /opt/conda/lib/python3.9/site-packages (from python-dateutil->alembic>=1.5.0->optuna) (1.16.0)\n"
     ]
    }
   ],
   "source": [
    "import pandas as pd\n",
    "import numpy as np\n",
    "from sklearn.model_selection import RandomizedSearchCV\n",
    "from sklearn.model_selection import TimeSeriesSplit\n",
    "from sklearn.model_selection import train_test_split\n",
    "from sklearn.linear_model import LinearRegression\n",
    "from sklearn.ensemble import RandomForestRegressor\n",
    "from sklearn.metrics import mean_squared_error\n",
    "from catboost import CatBoostRegressor\n",
    "from lightgbm import LGBMRegressor\n",
    "import lightgbm as lgb\n",
    "from statsmodels.tsa.seasonal import seasonal_decompose\n",
    "import matplotlib.pyplot as plt\n",
    "!pip install optuna\n",
    "import optuna\n",
    "import warnings\n",
    "warnings.filterwarnings(\"ignore\")\n",
    "\n"
   ]
  },
  {
   "cell_type": "code",
   "execution_count": 2,
   "metadata": {},
   "outputs": [
    {
     "name": "stdout",
     "output_type": "stream",
     "text": [
      "<class 'pandas.core.frame.DataFrame'>\n",
      "DatetimeIndex: 26496 entries, 2018-03-01 00:00:00 to 2018-08-31 23:50:00\n",
      "Data columns (total 1 columns):\n",
      " #   Column      Non-Null Count  Dtype\n",
      "---  ------      --------------  -----\n",
      " 0   num_orders  26496 non-null  int64\n",
      "dtypes: int64(1)\n",
      "memory usage: 414.0 KB\n"
     ]
    }
   ],
   "source": [
    "# При чтении сразу передадим параметры для распознавания даты и использовании их как индекса\n",
    "data=pd.read_csv('/datasets/taxi.csv',index_col=[0], parse_dates=[0])\n",
    "data.info()"
   ]
  },
  {
   "cell_type": "code",
   "execution_count": 3,
   "metadata": {},
   "outputs": [
    {
     "data": {
      "text/html": [
       "<div>\n",
       "<style scoped>\n",
       "    .dataframe tbody tr th:only-of-type {\n",
       "        vertical-align: middle;\n",
       "    }\n",
       "\n",
       "    .dataframe tbody tr th {\n",
       "        vertical-align: top;\n",
       "    }\n",
       "\n",
       "    .dataframe thead th {\n",
       "        text-align: right;\n",
       "    }\n",
       "</style>\n",
       "<table border=\"1\" class=\"dataframe\">\n",
       "  <thead>\n",
       "    <tr style=\"text-align: right;\">\n",
       "      <th></th>\n",
       "      <th>num_orders</th>\n",
       "    </tr>\n",
       "    <tr>\n",
       "      <th>datetime</th>\n",
       "      <th></th>\n",
       "    </tr>\n",
       "  </thead>\n",
       "  <tbody>\n",
       "    <tr>\n",
       "      <th>2018-03-01 00:00:00</th>\n",
       "      <td>9</td>\n",
       "    </tr>\n",
       "    <tr>\n",
       "      <th>2018-03-01 00:10:00</th>\n",
       "      <td>14</td>\n",
       "    </tr>\n",
       "    <tr>\n",
       "      <th>2018-03-01 00:20:00</th>\n",
       "      <td>28</td>\n",
       "    </tr>\n",
       "    <tr>\n",
       "      <th>2018-03-01 00:30:00</th>\n",
       "      <td>20</td>\n",
       "    </tr>\n",
       "    <tr>\n",
       "      <th>2018-03-01 00:40:00</th>\n",
       "      <td>32</td>\n",
       "    </tr>\n",
       "    <tr>\n",
       "      <th>2018-03-01 00:50:00</th>\n",
       "      <td>21</td>\n",
       "    </tr>\n",
       "    <tr>\n",
       "      <th>2018-03-01 01:00:00</th>\n",
       "      <td>7</td>\n",
       "    </tr>\n",
       "    <tr>\n",
       "      <th>2018-03-01 01:10:00</th>\n",
       "      <td>5</td>\n",
       "    </tr>\n",
       "    <tr>\n",
       "      <th>2018-03-01 01:20:00</th>\n",
       "      <td>17</td>\n",
       "    </tr>\n",
       "    <tr>\n",
       "      <th>2018-03-01 01:30:00</th>\n",
       "      <td>12</td>\n",
       "    </tr>\n",
       "  </tbody>\n",
       "</table>\n",
       "</div>"
      ],
      "text/plain": [
       "                     num_orders\n",
       "datetime                       \n",
       "2018-03-01 00:00:00           9\n",
       "2018-03-01 00:10:00          14\n",
       "2018-03-01 00:20:00          28\n",
       "2018-03-01 00:30:00          20\n",
       "2018-03-01 00:40:00          32\n",
       "2018-03-01 00:50:00          21\n",
       "2018-03-01 01:00:00           7\n",
       "2018-03-01 01:10:00           5\n",
       "2018-03-01 01:20:00          17\n",
       "2018-03-01 01:30:00          12"
      ]
     },
     "execution_count": 3,
     "metadata": {},
     "output_type": "execute_result"
    }
   ],
   "source": [
    "data.head(10)"
   ]
  },
  {
   "cell_type": "markdown",
   "metadata": {},
   "source": [
    "***Данные разбиты на 10минутные интервалы.При ресемплировании будем использовать функцию суммы.***"
   ]
  },
  {
   "cell_type": "code",
   "execution_count": 4,
   "metadata": {},
   "outputs": [
    {
     "data": {
      "text/html": [
       "<div>\n",
       "<style scoped>\n",
       "    .dataframe tbody tr th:only-of-type {\n",
       "        vertical-align: middle;\n",
       "    }\n",
       "\n",
       "    .dataframe tbody tr th {\n",
       "        vertical-align: top;\n",
       "    }\n",
       "\n",
       "    .dataframe thead th {\n",
       "        text-align: right;\n",
       "    }\n",
       "</style>\n",
       "<table border=\"1\" class=\"dataframe\">\n",
       "  <thead>\n",
       "    <tr style=\"text-align: right;\">\n",
       "      <th></th>\n",
       "      <th>num_orders</th>\n",
       "    </tr>\n",
       "  </thead>\n",
       "  <tbody>\n",
       "    <tr>\n",
       "      <th>count</th>\n",
       "      <td>26496.000000</td>\n",
       "    </tr>\n",
       "    <tr>\n",
       "      <th>mean</th>\n",
       "      <td>14.070463</td>\n",
       "    </tr>\n",
       "    <tr>\n",
       "      <th>std</th>\n",
       "      <td>9.211330</td>\n",
       "    </tr>\n",
       "    <tr>\n",
       "      <th>min</th>\n",
       "      <td>0.000000</td>\n",
       "    </tr>\n",
       "    <tr>\n",
       "      <th>25%</th>\n",
       "      <td>8.000000</td>\n",
       "    </tr>\n",
       "    <tr>\n",
       "      <th>50%</th>\n",
       "      <td>13.000000</td>\n",
       "    </tr>\n",
       "    <tr>\n",
       "      <th>75%</th>\n",
       "      <td>19.000000</td>\n",
       "    </tr>\n",
       "    <tr>\n",
       "      <th>max</th>\n",
       "      <td>119.000000</td>\n",
       "    </tr>\n",
       "  </tbody>\n",
       "</table>\n",
       "</div>"
      ],
      "text/plain": [
       "         num_orders\n",
       "count  26496.000000\n",
       "mean      14.070463\n",
       "std        9.211330\n",
       "min        0.000000\n",
       "25%        8.000000\n",
       "50%       13.000000\n",
       "75%       19.000000\n",
       "max      119.000000"
      ]
     },
     "execution_count": 4,
     "metadata": {},
     "output_type": "execute_result"
    }
   ],
   "source": [
    "#Посмотрим описательную статистику по заказа\n",
    "data.describe()"
   ]
  },
  {
   "cell_type": "markdown",
   "metadata": {},
   "source": [
    "***ВЫбросов нет,нулевые значения возможны в ночные часы.***"
   ]
  },
  {
   "cell_type": "code",
   "execution_count": 5,
   "metadata": {},
   "outputs": [
    {
     "data": {
      "text/plain": [
       "num_orders    0\n",
       "dtype: int64"
      ]
     },
     "execution_count": 5,
     "metadata": {},
     "output_type": "execute_result"
    }
   ],
   "source": [
    "#Проверим пропуски\n",
    "data.isna().sum()"
   ]
  },
  {
   "cell_type": "code",
   "execution_count": 6,
   "metadata": {},
   "outputs": [
    {
     "data": {
      "text/plain": [
       "True"
      ]
     },
     "execution_count": 6,
     "metadata": {},
     "output_type": "execute_result"
    }
   ],
   "source": [
    "#Проверим в правильном ли порядке стоят даты\n",
    "data=data.sort_index(ascending=True)\n",
    "data.index.is_monotonic"
   ]
  },
  {
   "cell_type": "code",
   "execution_count": 7,
   "metadata": {},
   "outputs": [
    {
     "data": {
      "text/html": [
       "<div>\n",
       "<style scoped>\n",
       "    .dataframe tbody tr th:only-of-type {\n",
       "        vertical-align: middle;\n",
       "    }\n",
       "\n",
       "    .dataframe tbody tr th {\n",
       "        vertical-align: top;\n",
       "    }\n",
       "\n",
       "    .dataframe thead th {\n",
       "        text-align: right;\n",
       "    }\n",
       "</style>\n",
       "<table border=\"1\" class=\"dataframe\">\n",
       "  <thead>\n",
       "    <tr style=\"text-align: right;\">\n",
       "      <th></th>\n",
       "      <th>num_orders</th>\n",
       "    </tr>\n",
       "    <tr>\n",
       "      <th>datetime</th>\n",
       "      <th></th>\n",
       "    </tr>\n",
       "  </thead>\n",
       "  <tbody>\n",
       "    <tr>\n",
       "      <th>2018-03-01 00:00:00</th>\n",
       "      <td>124</td>\n",
       "    </tr>\n",
       "    <tr>\n",
       "      <th>2018-03-01 01:00:00</th>\n",
       "      <td>85</td>\n",
       "    </tr>\n",
       "    <tr>\n",
       "      <th>2018-03-01 02:00:00</th>\n",
       "      <td>71</td>\n",
       "    </tr>\n",
       "    <tr>\n",
       "      <th>2018-03-01 03:00:00</th>\n",
       "      <td>66</td>\n",
       "    </tr>\n",
       "    <tr>\n",
       "      <th>2018-03-01 04:00:00</th>\n",
       "      <td>43</td>\n",
       "    </tr>\n",
       "  </tbody>\n",
       "</table>\n",
       "</div>"
      ],
      "text/plain": [
       "                     num_orders\n",
       "datetime                       \n",
       "2018-03-01 00:00:00         124\n",
       "2018-03-01 01:00:00          85\n",
       "2018-03-01 02:00:00          71\n",
       "2018-03-01 03:00:00          66\n",
       "2018-03-01 04:00:00          43"
      ]
     },
     "execution_count": 7,
     "metadata": {},
     "output_type": "execute_result"
    }
   ],
   "source": [
    "#Проведем ресемплирование по часу\n",
    "data = data.resample('1H').sum()\n",
    "data.head()"
   ]
  },
  {
   "cell_type": "markdown",
   "metadata": {},
   "source": [
    "***Данные приведены к условию задачи***"
   ]
  },
  {
   "cell_type": "markdown",
   "metadata": {},
   "source": [
    "## Анализ"
   ]
  },
  {
   "cell_type": "code",
   "execution_count": 8,
   "metadata": {},
   "outputs": [
    {
     "data": {
      "image/png": "[encoded data removed]",
      "text/plain": [
       "<Figure size 1224x432 with 1 Axes>"
      ]
     },
     "metadata": {
      "needs_background": "light"
     },
     "output_type": "display_data"
    }
   ],
   "source": [
    "#Построим график ресемплированных данных\n",
    "figsize = (17, 6)\n",
    "data.plot(figsize=figsize)\n",
    "plt.title('График ресемпла')\n",
    "plt.xlabel('Месяцы')\n",
    "plt.ylabel('Кол-во заказов')\n",
    "plt.show()"
   ]
  },
  {
   "cell_type": "code",
   "execution_count": 9,
   "metadata": {},
   "outputs": [
    {
     "data": {
      "image/png": "[encoded data removed]",
      "text/plain": [
       "<Figure size 1224x432 with 1 Axes>"
      ]
     },
     "metadata": {
      "needs_background": "light"
     },
     "output_type": "display_data"
    },
    {
     "data": {
      "image/png": "[encoded data removed]",
      "text/plain": [
       "<Figure size 1224x432 with 1 Axes>"
      ]
     },
     "metadata": {
      "needs_background": "light"
     },
     "output_type": "display_data"
    },
    {
     "data": {
      "image/png": "[encoded data removed]",
      "text/plain": [
       "<Figure size 1224x432 with 1 Axes>"
      ]
     },
     "metadata": {
      "needs_background": "light"
     },
     "output_type": "display_data"
    },
    {
     "data": {
      "image/png": "[encoded data removed]",
      "text/plain": [
       "<Figure size 1224x432 with 1 Axes>"
      ]
     },
     "metadata": {
      "needs_background": "light"
     },
     "output_type": "display_data"
    }
   ],
   "source": [
    "#Разложим на тренд, сезонность и остаток\n",
    "decomposed_data = seasonal_decompose(data)\n",
    "#Постороим график тренда\n",
    "decomposed_data.trend.plot(figsize=figsize)\n",
    "plt.title('График тренд')\n",
    "plt.xlabel('Месяцы')\n",
    "plt.ylabel('Кол-во заказов')\n",
    "plt.show()\n",
    "#Постороим график сезонности\n",
    "decomposed_data.seasonal.plot(figsize=figsize)\n",
    "plt.title('График сезонности')\n",
    "plt.xlabel('Месяцы')\n",
    "plt.ylabel('Кол-во заказов')\n",
    "plt.show()\n",
    "\n",
    "#Сезонная составляющая не очень информативна,срежем данные на неделю.\n",
    "data_aug = data['2018-08-01':]\n",
    "decomposed_data_aug = seasonal_decompose(data_aug)\n",
    "decomposed_data_aug.seasonal.plot(figsize=figsize)\n",
    "plt.title('График сезонности за август')\n",
    "plt.xlabel('Месяцы')\n",
    "plt.ylabel('Кол-во заказов')\n",
    "plt.show()\n",
    "#Постороим график остатков\n",
    "decomposed_data.resid.plot(figsize=figsize)\n",
    "plt.title('График остатков')\n",
    "plt.xlabel('Месяцы')\n",
    "plt.ylabel('Кол-во заказов')\n",
    "plt.show()"
   ]
  },
  {
   "cell_type": "markdown",
   "metadata": {},
   "source": [
    "***После seasonal_decompose можно сделать следущие выводы:***\n",
    "\n",
    "-Данные имеют восходящий тренд к концу лета,когда проходит время отпусков и люди возвращаются.\n",
    "\n",
    "-Наблюдается сезонность с периодом 1 сутки\n",
    "\n",
    "-Остатки не содержат систематические паттерны.\n",
    "\n",
    "***Далее нам надо будет проверить ряд на стационарность***"
   ]
  },
  {
   "cell_type": "code",
   "execution_count": 10,
   "metadata": {},
   "outputs": [
    {
     "data": {
      "text/plain": [
       "Text(0, 0.5, 'Кол-во заказов')"
      ]
     },
     "execution_count": 10,
     "metadata": {},
     "output_type": "execute_result"
    },
    {
     "data": {
      "image/png": "[encoded data removed]",
      "text/plain": [
       "<Figure size 1224x432 with 1 Axes>"
      ]
     },
     "metadata": {
      "needs_background": "light"
     },
     "output_type": "display_data"
    }
   ],
   "source": [
    "#Добавим к данным скользящее среднее и скользящее стандартное отклонение\n",
    "data['mean'] = data['num_orders'].rolling(10).mean()\n",
    "data['std'] = data['num_orders'].rolling(10).std()\n",
    "data.plot(figsize=figsize)\n",
    "plt.title('График заказов,скользящего среднего и стандартного отклонения')\n",
    "plt.xlabel('Месяцы')\n",
    "plt.ylabel('Кол-во заказов')"
   ]
  },
  {
   "cell_type": "markdown",
   "metadata": {},
   "source": [
    "***Стационарные временные ряды (англ. stationary time series) — это ряды, у которых среднее и стандартное отклонение не меняются. Как мы видим среднее и стандартное отклоненеие меняется вместе с трендом,а следовательно наш ряд нельзя считать стационарным,а значит при создании признаков нам будет необходимо добавлять разности временного ряда,которые более стационарны, чем сам ряд.***"
   ]
  },
  {
   "cell_type": "code",
   "execution_count": 11,
   "metadata": {},
   "outputs": [],
   "source": [
    "#Удалим,т.к в дальнейшем добавить ,чтобы потом сделать размер окна динамическим в фунции признаков.\n",
    "data=data.drop(['mean','std'],axis=1)"
   ]
  },
  {
   "cell_type": "markdown",
   "metadata": {},
   "source": [
    "## Обучение"
   ]
  },
  {
   "cell_type": "markdown",
   "metadata": {},
   "source": [
    "***Для начала напишем функцию,которая создаст признаки,необходимые для обучения моделей***"
   ]
  },
  {
   "cell_type": "code",
   "execution_count": 12,
   "metadata": {},
   "outputs": [],
   "source": [
    "\n",
    "def make_features(data, max_lag, rolling_mean_size):\n",
    "    data['dayofweek'] = data.index.dayofweek#День недели\n",
    "    data['hour'] = data.index.hour#Час\n",
    "    data['day'] = data.index.day#Число\n",
    "    data['month'] = data.index.month#Меесяц\n",
    "    #Добавлем разности временного с ряда с плавающим лагом\n",
    "    for lag in range(1, max_lag + 1):\n",
    "        data['lag_{}'.format(lag)] = data['num_orders'].shift(lag)\n",
    "     #Добавляем скользящее среднее с плавающим окном\n",
    "    data['rolling_mean'] = data['num_orders'].shift().rolling(rolling_mean_size).mean()\n",
    "    return data\n",
    "     "
   ]
  },
  {
   "cell_type": "markdown",
   "metadata": {},
   "source": [
    "### Модель линейной регрессии."
   ]
  },
  {
   "cell_type": "code",
   "execution_count": 13,
   "metadata": {},
   "outputs": [],
   "source": [
    "#Создаем признаки \n",
    "make_features(data,100,100)\n",
    "#Делим на трейн,валид и тест.Отключаем перемешивание для корректного обучения.\n",
    "train, valid = train_test_split(data, shuffle=False, test_size=.2)\n",
    "train = train.dropna()\n",
    "\n",
    "valid, test = train_test_split(valid, shuffle=False, test_size=.5)\n",
    "\n",
    "features_train = train.drop('num_orders', axis=1)\n",
    "target_train = train.num_orders\n",
    "\n",
    "features_valid = valid.drop('num_orders', axis=1)\n",
    "target_valid = valid.num_orders\n",
    "\n",
    "features_test = test.drop('num_orders', axis=1)\n",
    "target_test = test.num_orders"
   ]
  },
  {
   "cell_type": "code",
   "execution_count": 14,
   "metadata": {},
   "outputs": [
    {
     "name": "stdout",
     "output_type": "stream",
     "text": [
      "RMSE на модели линейной регрессии 30.02225233341899\n"
     ]
    }
   ],
   "source": [
    "# Инициируем модель\n",
    "model = LinearRegression()\n",
    "model.fit(features_train, target_train)\n",
    "predictions = model.predict(features_valid)   \n",
    "rmse = mean_squared_error(target_valid, predictions) ** .5\n",
    "print('RMSE на модели линейной регрессии',rmse)\n"
   ]
  },
  {
   "cell_type": "markdown",
   "metadata": {},
   "source": [
    "### Модель случайного леса"
   ]
  },
  {
   "cell_type": "code",
   "execution_count": 15,
   "metadata": {},
   "outputs": [
    {
     "name": "stdout",
     "output_type": "stream",
     "text": [
      "RMSE на модели случайного леса 31.717743762655925  с параметрами {'random_state': 12345, 'n_estimators': 100, 'max_depth': 10}\n"
     ]
    }
   ],
   "source": [
    "#Инициируем модель\n",
    "model=RandomForestRegressor()\n",
    "# Создание TimeSeriesSplit с указанием количества разбиений\n",
    "tscv = TimeSeriesSplit(n_splits=5)\n",
    "#Задаем параметры перебора\n",
    "parametrs={'n_estimators':[1,100],\n",
    "            'max_depth':[1,10],\n",
    "            'random_state':[12345]}\n",
    "# Ищем лучшие ГП по метрике MSE\n",
    "taxi_ord = RandomizedSearchCV(model,parametrs, cv=tscv,scoring ='neg_root_mean_squared_error')\n",
    "taxi_ord.fit(features_train, target_train)\n",
    "predictions=taxi_ord.predict(features_valid)\n",
    "rmse = mean_squared_error(target_valid, predictions) ** .5\n",
    "print('RMSE на модели случайного леса',rmse, \" с параметрами\",taxi_ord.best_params_)"
   ]
  },
  {
   "cell_type": "markdown",
   "metadata": {},
   "source": [
    "### Модель Catboost"
   ]
  },
  {
   "cell_type": "code",
   "execution_count": 16,
   "metadata": {},
   "outputs": [],
   "source": [
    "#Для перебора гиперпараметров воспользуемся Optuna\n",
    "#определим функцию оптимизации\n",
    "def objective(trial):\n",
    "    params = {'iterations':100,\n",
    "             'depth':trial.suggest_int('depth',2,10),\n",
    "             }\n",
    "    model=CatBoostRegressor(**params,verbose=False)\n",
    "    model.fit(features_train,target_train)\n",
    "    pred_test=model.predict(features_valid)\n",
    "    rmse=mean_squared_error(target_valid,pred_test)**0.5\n",
    "    return rmse"
   ]
  },
  {
   "cell_type": "code",
   "execution_count": 17,
   "metadata": {},
   "outputs": [
    {
     "name": "stderr",
     "output_type": "stream",
     "text": [
      "[I 2023-07-08 06:31:38,672] A new study created in memory with name: no-name-4f0de1e4-9d30-4909-b383-98a78a2df790\n",
      "Custom logger is already specified. Specify more than one logger at same time is not thread safe.Custom logger is already specified. Specify more than one logger at same time is not thread safe.Custom logger is already specified. Specify more than one logger at same time is not thread safe.Custom logger is already specified. Specify more than one logger at same time is not thread safe.Custom logger is already specified. Specify more than one logger at same time is not thread safe.Custom logger is already specified. Specify more than one logger at same time is not thread safe.Custom logger is already specified. Specify more than one logger at same time is not thread safe.[I 2023-07-08 06:31:49,478] Trial 2 finished with value: 31.432725732356662 and parameters: {'depth': 3}. Best is trial 2 with value: 31.432725732356662.\n",
      "[I 2023-07-08 06:31:50,273] Trial 5 finished with value: 31.432725732356662 and parameters: {'depth': 3}. Best is trial 2 with value: 31.432725732356662.\n",
      "[I 2023-07-08 06:31:53,274] Trial 1 finished with value: 30.436143175979954 and parameters: {'depth': 5}. Best is trial 1 with value: 30.436143175979954.\n",
      "[I 2023-07-08 06:31:53,672] Trial 0 finished with value: 30.436143175979954 and parameters: {'depth': 5}. Best is trial 1 with value: 30.436143175979954.\n",
      "[I 2023-07-08 06:31:57,674] Trial 7 finished with value: 30.436143175979954 and parameters: {'depth': 5}. Best is trial 1 with value: 30.436143175979954.\n",
      "[I 2023-07-08 06:32:05,476] Trial 4 finished with value: 31.238272981805387 and parameters: {'depth': 6}. Best is trial 1 with value: 30.436143175979954.\n",
      "[I 2023-07-08 06:32:11,173] Trial 8 finished with value: 30.436143175979954 and parameters: {'depth': 5}. Best is trial 1 with value: 30.436143175979954.\n",
      "[I 2023-07-08 06:32:11,479] Trial 9 finished with value: 30.436143175979954 and parameters: {'depth': 5}. Best is trial 1 with value: 30.436143175979954.\n",
      "[I 2023-07-08 06:32:14,875] Trial 12 finished with value: 30.662814812123546 and parameters: {'depth': 4}. Best is trial 1 with value: 30.436143175979954.\n",
      "[I 2023-07-08 06:32:28,876] Trial 13 finished with value: 30.436143175979954 and parameters: {'depth': 5}. Best is trial 1 with value: 30.436143175979954.\n",
      "[I 2023-07-08 06:32:33,074] Trial 14 finished with value: 30.436143175979954 and parameters: {'depth': 5}. Best is trial 1 with value: 30.436143175979954.\n",
      "[I 2023-07-08 06:32:58,777] Trial 15 finished with value: 31.97579082220924 and parameters: {'depth': 7}. Best is trial 1 with value: 30.436143175979954.\n",
      "[I 2023-07-08 06:33:59,472] Trial 18 finished with value: 32.2445550652324 and parameters: {'depth': 8}. Best is trial 1 with value: 30.436143175979954.\n",
      "[I 2023-07-08 06:34:25,077] Trial 19 finished with value: 32.2445550652324 and parameters: {'depth': 8}. Best is trial 1 with value: 30.436143175979954.\n",
      "[I 2023-07-08 06:34:26,186] Trial 10 finished with value: 31.558136397811037 and parameters: {'depth': 9}. Best is trial 1 with value: 30.436143175979954.\n",
      "Custom logger is already specified. Specify more than one logger at same time is not thread safe.[I 2023-07-08 06:34:26,374] Trial 11 finished with value: 31.558136397811037 and parameters: {'depth': 9}. Best is trial 1 with value: 30.436143175979954.\n",
      "[I 2023-07-08 06:34:36,214] Trial 22 finished with value: 31.1960072724885 and parameters: {'depth': 2}. Best is trial 1 with value: 30.436143175979954.\n",
      "[I 2023-07-08 06:34:36,485] Trial 23 finished with value: 31.1960072724885 and parameters: {'depth': 2}. Best is trial 1 with value: 30.436143175979954.\n",
      "[I 2023-07-08 06:34:49,869] Trial 16 finished with value: 31.558136397811037 and parameters: {'depth': 9}. Best is trial 1 with value: 30.436143175979954.\n",
      "[I 2023-07-08 06:35:06,172] Trial 17 finished with value: 31.558136397811037 and parameters: {'depth': 9}. Best is trial 1 with value: 30.436143175979954.\n",
      "[I 2023-07-08 06:35:25,875] Trial 25 finished with value: 31.97579082220924 and parameters: {'depth': 7}. Best is trial 1 with value: 30.436143175979954.\n",
      "[I 2023-07-08 06:35:26,177] Trial 24 finished with value: 31.97579082220924 and parameters: {'depth': 7}. Best is trial 1 with value: 30.436143175979954.\n",
      "[I 2023-07-08 06:35:28,570] Trial 6 finished with value: 33.01175094137041 and parameters: {'depth': 10}. Best is trial 1 with value: 30.436143175979954.\n",
      "[I 2023-07-08 06:35:30,568] Trial 3 finished with value: 33.01175094137041 and parameters: {'depth': 10}. Best is trial 1 with value: 30.436143175979954.\n",
      "[I 2023-07-08 06:35:39,376] Trial 26 finished with value: 31.97579082220924 and parameters: {'depth': 7}. Best is trial 1 with value: 30.436143175979954.\n",
      "[I 2023-07-08 06:35:41,973] Trial 29 finished with value: 30.662814812123546 and parameters: {'depth': 4}. Best is trial 1 with value: 30.436143175979954.\n",
      "[I 2023-07-08 06:35:44,876] Trial 30 finished with value: 30.662814812123546 and parameters: {'depth': 4}. Best is trial 1 with value: 30.436143175979954.\n",
      "[I 2023-07-08 06:35:47,573] Trial 31 finished with value: 30.662814812123546 and parameters: {'depth': 4}. Best is trial 1 with value: 30.436143175979954.\n",
      "[I 2023-07-08 06:35:49,974] Trial 27 finished with value: 31.97579082220924 and parameters: {'depth': 7}. Best is trial 1 with value: 30.436143175979954.\n",
      "[I 2023-07-08 06:35:53,376] Trial 28 finished with value: 31.238272981805387 and parameters: {'depth': 6}. Best is trial 1 with value: 30.436143175979954.\n",
      "[I 2023-07-08 06:35:54,777] Trial 32 finished with value: 30.662814812123546 and parameters: {'depth': 4}. Best is trial 1 with value: 30.436143175979954.\n",
      "[I 2023-07-08 06:36:12,586] Trial 33 finished with value: 31.238272981805387 and parameters: {'depth': 6}. Best is trial 1 with value: 30.436143175979954.\n",
      "[I 2023-07-08 06:36:15,669] Trial 34 finished with value: 31.238272981805387 and parameters: {'depth': 6}. Best is trial 1 with value: 30.436143175979954.\n",
      "[I 2023-07-08 06:36:16,677] Trial 35 finished with value: 31.238272981805387 and parameters: {'depth': 6}. Best is trial 1 with value: 30.436143175979954.\n",
      "[I 2023-07-08 06:36:20,475] Trial 36 finished with value: 31.238272981805387 and parameters: {'depth': 6}. Best is trial 1 with value: 30.436143175979954.\n",
      "[I 2023-07-08 06:36:21,580] Trial 37 finished with value: 31.238272981805387 and parameters: {'depth': 6}. Best is trial 1 with value: 30.436143175979954.\n",
      "[I 2023-07-08 06:36:23,881] Trial 38 finished with value: 31.238272981805387 and parameters: {'depth': 6}. Best is trial 1 with value: 30.436143175979954.\n",
      "[I 2023-07-08 06:36:31,974] Trial 42 finished with value: 31.432725732356662 and parameters: {'depth': 3}. Best is trial 1 with value: 30.436143175979954.\n",
      "[I 2023-07-08 06:36:31,975] Trial 39 finished with value: 30.436143175979954 and parameters: {'depth': 5}. Best is trial 1 with value: 30.436143175979954.\n",
      "Custom logger is already specified. Specify more than one logger at same time is not thread safe.[I 2023-07-08 06:36:33,673] Trial 40 finished with value: 30.436143175979954 and parameters: {'depth': 5}. Best is trial 1 with value: 30.436143175979954.\n",
      "[I 2023-07-08 06:36:35,714] Trial 41 finished with value: 30.436143175979954 and parameters: {'depth': 5}. Best is trial 1 with value: 30.436143175979954.\n",
      "[I 2023-07-08 06:36:35,873] Trial 44 finished with value: 31.432725732356662 and parameters: {'depth': 3}. Best is trial 1 with value: 30.436143175979954.\n",
      "[I 2023-07-08 06:36:39,073] Trial 43 finished with value: 30.436143175979954 and parameters: {'depth': 5}. Best is trial 1 with value: 30.436143175979954.\n",
      "[I 2023-07-08 06:36:42,869] Trial 45 finished with value: 31.432725732356662 and parameters: {'depth': 3}. Best is trial 1 with value: 30.436143175979954.\n",
      "[I 2023-07-08 06:36:43,181] Trial 46 finished with value: 31.432725732356662 and parameters: {'depth': 3}. Best is trial 1 with value: 30.436143175979954.\n",
      "[I 2023-07-08 06:36:51,074] Trial 47 finished with value: 30.436143175979954 and parameters: {'depth': 5}. Best is trial 1 with value: 30.436143175979954.\n",
      "[I 2023-07-08 06:36:54,581] Trial 49 finished with value: 30.436143175979954 and parameters: {'depth': 5}. Best is trial 1 with value: 30.436143175979954.\n",
      "[I 2023-07-08 06:36:55,380] Trial 48 finished with value: 30.436143175979954 and parameters: {'depth': 5}. Best is trial 1 with value: 30.436143175979954.\n",
      "[I 2023-07-08 06:36:58,378] Trial 50 finished with value: 30.436143175979954 and parameters: {'depth': 5}. Best is trial 1 with value: 30.436143175979954.\n",
      "[I 2023-07-08 06:37:01,980] Trial 52 finished with value: 30.436143175979954 and parameters: {'depth': 5}. Best is trial 1 with value: 30.436143175979954.\n",
      "[I 2023-07-08 06:37:02,774] Trial 51 finished with value: 30.436143175979954 and parameters: {'depth': 5}. Best is trial 1 with value: 30.436143175979954.\n",
      "[I 2023-07-08 06:37:10,173] Trial 54 finished with value: 30.662814812123546 and parameters: {'depth': 4}. Best is trial 1 with value: 30.436143175979954.\n",
      "[I 2023-07-08 06:37:10,274] Trial 55 finished with value: 30.662814812123546 and parameters: {'depth': 4}. Best is trial 1 with value: 30.436143175979954.\n",
      "[I 2023-07-08 06:37:10,674] Trial 53 finished with value: 30.436143175979954 and parameters: {'depth': 5}. Best is trial 1 with value: 30.436143175979954.\n",
      "[I 2023-07-08 06:37:12,370] Trial 20 finished with value: 33.01175094137041 and parameters: {'depth': 10}. Best is trial 1 with value: 30.436143175979954.\n",
      "[I 2023-07-08 06:37:13,469] Trial 56 finished with value: 30.662814812123546 and parameters: {'depth': 4}. Best is trial 1 with value: 30.436143175979954.\n",
      "[I 2023-07-08 06:37:14,773] Trial 57 finished with value: 30.662814812123546 and parameters: {'depth': 4}. Best is trial 1 with value: 30.436143175979954.\n",
      "[I 2023-07-08 06:37:15,277] Trial 58 finished with value: 30.662814812123546 and parameters: {'depth': 4}. Best is trial 1 with value: 30.436143175979954.\n",
      "[I 2023-07-08 06:37:22,370] Trial 21 finished with value: 33.01175094137041 and parameters: {'depth': 10}. Best is trial 1 with value: 30.436143175979954.\n",
      "[I 2023-07-08 06:37:23,067] Trial 60 finished with value: 30.662814812123546 and parameters: {'depth': 4}. Best is trial 1 with value: 30.436143175979954.\n",
      "[I 2023-07-08 06:37:23,176] Trial 59 finished with value: 30.662814812123546 and parameters: {'depth': 4}. Best is trial 1 with value: 30.436143175979954.\n",
      "[I 2023-07-08 06:37:23,514] Trial 61 finished with value: 30.662814812123546 and parameters: {'depth': 4}. Best is trial 1 with value: 30.436143175979954.\n",
      "[I 2023-07-08 06:37:24,277] Trial 62 finished with value: 30.662814812123546 and parameters: {'depth': 4}. Best is trial 1 with value: 30.436143175979954.\n",
      "[I 2023-07-08 06:37:25,878] Trial 63 finished with value: 30.662814812123546 and parameters: {'depth': 4}. Best is trial 1 with value: 30.436143175979954.\n",
      "[I 2023-07-08 06:37:39,174] Trial 64 finished with value: 31.238272981805387 and parameters: {'depth': 6}. Best is trial 1 with value: 30.436143175979954.\n",
      "[I 2023-07-08 06:37:40,275] Trial 65 finished with value: 31.238272981805387 and parameters: {'depth': 6}. Best is trial 1 with value: 30.436143175979954.\n",
      "[I 2023-07-08 06:37:48,273] Trial 66 finished with value: 31.238272981805387 and parameters: {'depth': 6}. Best is trial 1 with value: 30.436143175979954.\n",
      "[I 2023-07-08 06:37:48,813] Trial 67 finished with value: 31.238272981805387 and parameters: {'depth': 6}. Best is trial 1 with value: 30.436143175979954.\n",
      "[I 2023-07-08 06:37:49,213] Trial 69 finished with value: 31.238272981805387 and parameters: {'depth': 6}. Best is trial 1 with value: 30.436143175979954.\n",
      "[I 2023-07-08 06:37:49,496] Trial 68 finished with value: 31.238272981805387 and parameters: {'depth': 6}. Best is trial 1 with value: 30.436143175979954.\n",
      "[I 2023-07-08 06:37:49,868] Trial 70 finished with value: 31.238272981805387 and parameters: {'depth': 6}. Best is trial 1 with value: 30.436143175979954.\n",
      "[I 2023-07-08 06:37:51,676] Trial 71 finished with value: 31.238272981805387 and parameters: {'depth': 6}. Best is trial 1 with value: 30.436143175979954.\n",
      "[I 2023-07-08 06:37:56,697] Trial 72 finished with value: 30.436143175979954 and parameters: {'depth': 5}. Best is trial 1 with value: 30.436143175979954.\n",
      "[I 2023-07-08 06:37:58,073] Trial 73 finished with value: 30.436143175979954 and parameters: {'depth': 5}. Best is trial 1 with value: 30.436143175979954.\n",
      "[I 2023-07-08 06:38:05,467] Trial 77 finished with value: 30.436143175979954 and parameters: {'depth': 5}. Best is trial 1 with value: 30.436143175979954.\n",
      "[I 2023-07-08 06:38:05,513] Trial 75 finished with value: 30.436143175979954 and parameters: {'depth': 5}. Best is trial 1 with value: 30.436143175979954.\n",
      "[I 2023-07-08 06:38:05,583] Trial 74 finished with value: 30.436143175979954 and parameters: {'depth': 5}. Best is trial 1 with value: 30.436143175979954.\n",
      "Custom logger is already specified. Specify more than one logger at same time is not thread safe.[I 2023-07-08 06:38:06,237] Trial 76 finished with value: 30.436143175979954 and parameters: {'depth': 5}. Best is trial 1 with value: 30.436143175979954.\n",
      "[I 2023-07-08 06:38:06,377] Trial 78 finished with value: 30.436143175979954 and parameters: {'depth': 5}. Best is trial 1 with value: 30.436143175979954.\n",
      "[I 2023-07-08 06:38:08,282] Trial 79 finished with value: 30.436143175979954 and parameters: {'depth': 5}. Best is trial 1 with value: 30.436143175979954.\n",
      "[I 2023-07-08 06:38:12,880] Trial 80 finished with value: 30.436143175979954 and parameters: {'depth': 5}. Best is trial 1 with value: 30.436143175979954.\n",
      "[I 2023-07-08 06:38:15,179] Trial 81 finished with value: 30.436143175979954 and parameters: {'depth': 5}. Best is trial 1 with value: 30.436143175979954.\n",
      "[I 2023-07-08 06:38:23,088] Trial 82 finished with value: 30.436143175979954 and parameters: {'depth': 5}. Best is trial 1 with value: 30.436143175979954.\n",
      "[I 2023-07-08 06:38:23,980] Trial 84 finished with value: 30.436143175979954 and parameters: {'depth': 5}. Best is trial 1 with value: 30.436143175979954.\n",
      "[I 2023-07-08 06:38:24,676] Trial 83 finished with value: 30.436143175979954 and parameters: {'depth': 5}. Best is trial 1 with value: 30.436143175979954.\n",
      "[I 2023-07-08 06:38:33,274] Trial 88 finished with value: 30.436143175979954 and parameters: {'depth': 5}. Best is trial 1 with value: 30.436143175979954.\n",
      "[I 2023-07-08 06:38:34,879] Trial 89 finished with value: 30.436143175979954 and parameters: {'depth': 5}. Best is trial 1 with value: 30.436143175979954.\n",
      "[I 2023-07-08 06:38:43,378] Trial 90 finished with value: 30.436143175979954 and parameters: {'depth': 5}. Best is trial 1 with value: 30.436143175979954.\n",
      "[I 2023-07-08 06:38:43,679] Trial 85 finished with value: 31.97579082220924 and parameters: {'depth': 7}. Best is trial 1 with value: 30.436143175979954.\n",
      "[I 2023-07-08 06:38:45,175] Trial 91 finished with value: 30.436143175979954 and parameters: {'depth': 5}. Best is trial 1 with value: 30.436143175979954.\n",
      "[I 2023-07-08 06:38:46,391] Trial 87 finished with value: 31.97579082220924 and parameters: {'depth': 7}. Best is trial 1 with value: 30.436143175979954.\n",
      "[I 2023-07-08 06:38:59,176] Trial 95 finished with value: 30.662814812123546 and parameters: {'depth': 4}. Best is trial 1 with value: 30.436143175979954.\n",
      "[I 2023-07-08 06:38:59,274] Trial 96 finished with value: 30.662814812123546 and parameters: {'depth': 4}. Best is trial 1 with value: 30.436143175979954.\n",
      "[I 2023-07-08 06:39:00,775] Trial 97 finished with value: 30.662814812123546 and parameters: {'depth': 4}. Best is trial 1 with value: 30.436143175979954.\n",
      "[I 2023-07-08 06:39:03,868] Trial 98 finished with value: 30.436143175979954 and parameters: {'depth': 5}. Best is trial 1 with value: 30.436143175979954.\n",
      "[I 2023-07-08 06:39:04,975] Trial 92 finished with value: 31.97579082220924 and parameters: {'depth': 7}. Best is trial 1 with value: 30.436143175979954.\n",
      "[I 2023-07-08 06:39:07,076] Trial 86 finished with value: 32.2445550652324 and parameters: {'depth': 8}. Best is trial 1 with value: 30.436143175979954.\n",
      "[I 2023-07-08 06:39:08,472] Trial 93 finished with value: 31.97579082220924 and parameters: {'depth': 7}. Best is trial 1 with value: 30.436143175979954.\n",
      "[I 2023-07-08 06:39:08,922] Trial 94 finished with value: 31.97579082220924 and parameters: {'depth': 7}. Best is trial 1 with value: 30.436143175979954.\n",
      "[I 2023-07-08 06:39:09,072] Trial 99 finished with value: 30.436143175979954 and parameters: {'depth': 5}. Best is trial 1 with value: 30.436143175979954.\n"
     ]
    },
    {
     "name": "stdout",
     "output_type": "stream",
     "text": [
      "{'depth': 5}\n"
     ]
    }
   ],
   "source": [
    "#Создадим объект study и запустим оптимизацию\n",
    "study=optuna.create_study(direction='minimize')\n",
    "study.optimize(objective,n_trials=100,n_jobs=-1)\n",
    "##Вытащим лучшие гиперпараметры \n",
    "best_params=study.best_params\n",
    "print(best_params)"
   ]
  },
  {
   "cell_type": "code",
   "execution_count": 18,
   "metadata": {},
   "outputs": [
    {
     "name": "stdout",
     "output_type": "stream",
     "text": [
      "Минимальное значение метрики Rmse 30.436143175979954\n"
     ]
    }
   ],
   "source": [
    "print('Минимальное значение метрики Rmse',study.best_trial.value)"
   ]
  },
  {
   "cell_type": "markdown",
   "metadata": {},
   "source": [
    "### Модель LightGBM"
   ]
  },
  {
   "cell_type": "code",
   "execution_count": 19,
   "metadata": {},
   "outputs": [],
   "source": [
    "def trial(trial):\n",
    "    # Определение гиперпараметров для оптимизации\n",
    "        params = {\n",
    "        'objective': 'regression',\n",
    "        'metric': 'mean_squared_error',\n",
    "        'verbosity': -1,\n",
    "        'boosting_type': 'gbdt',\n",
    "        'num_leaves': trial.suggest_int('num_leaves', 10, 100),\n",
    "        'bagging_fraction': trial.suggest_uniform('bagging_fraction', 0.1, 1.0),\n",
    "        'min_child_samples': trial.suggest_int('min_child_samples', 1, 50)}\n",
    "        # Создание модели LightGBM\n",
    "        model = lgb.LGBMRegressor(**params)\n",
    "        # Обучение модели\n",
    "        model.fit(features_train,target_train, eval_set=[(features_valid,target_valid)],)\n",
    "        pred_val = model.predict(features_valid)\n",
    "        rmse=mean_squared_error(target_valid,pred_val)**0.5\n",
    "        return rmse"
   ]
  },
  {
   "cell_type": "code",
   "execution_count": 20,
   "metadata": {},
   "outputs": [
    {
     "name": "stderr",
     "output_type": "stream",
     "text": [
      "[I 2023-07-08 06:39:09,124] A new study created in memory with name: no-name-ec21d9ba-8230-46b6-804f-ed8d0b6b79a2\n"
     ]
    },
    {
     "name": "stdout",
     "output_type": "stream",
     "text": [
      "[LightGBM] [Warning] bagging_fraction is set=0.30797172676723183, subsample=1.0 will be ignored. Current value: bagging_fraction=0.30797172676723183\n",
      "[LightGBM] [Warning] bagging_fraction is set=0.8017354348544425, subsample=1.0 will be ignored. Current value: bagging_fraction=0.8017354348544425\n",
      "[LightGBM] [Warning] bagging_fraction is set=0.52071338905882, subsample=1.0 will be ignored. Current value: bagging_fraction=0.52071338905882\n",
      "[LightGBM] [Warning] bagging_fraction is set=0.20029579182252172, subsample=1.0 will be ignored. Current value: bagging_fraction=0.20029579182252172\n",
      "[LightGBM] [Warning] bagging_fraction is set=0.5569881708302974, subsample=1.0 will be ignored. Current value: bagging_fraction=0.5569881708302974\n",
      "[LightGBM] [Warning] bagging_fraction is set=0.468262550438022, subsample=1.0 will be ignored. Current value: bagging_fraction=0.468262550438022\n",
      "[LightGBM] [Warning] bagging_fraction is set=0.6132546632469269, subsample=1.0 will be ignored. Current value: bagging_fraction=0.6132546632469269\n",
      "[1]\tvalid_0's l2: 3044.49\n",
      "[LightGBM] [Warning] bagging_fraction is set=0.6379786603543038, subsample=1.0 will be ignored. Current value: bagging_fraction=0.6379786603543038\n",
      "[2]\tvalid_0's l2: 2766.06\n",
      "[3]\tvalid_0's l2: 2527.56\n",
      "[1]\tvalid_0's l2: 3007.62\n",
      "[4]\tvalid_0's l2: 2306.63\n",
      "[1]\tvalid_0's l2: 3002.71\n",
      "[5]\tvalid_0's l2: 2101.55\n",
      "[1]\tvalid_0's l2: 3010.08\n",
      "[1]\tvalid_0's l2: 3011.14\n",
      "[2]\tvalid_0's l2: 2705.13[1]\tvalid_0's l2: 3014.66\n",
      "\n",
      "[1]\tvalid_0's l2: 3009.76\n",
      "[6]\tvalid_0's l2: 1943.67\n",
      "[2]\tvalid_0's l2: 2738.78\n",
      "[3]\tvalid_0's l2: 2459.39\n",
      "[1]\tvalid_0's l2: 2994.69\n",
      "[2]\tvalid_0's l2: 2689.7\n",
      "[2]\tvalid_0's l2: 2733.49\n",
      "[7]\tvalid_0's l2: 1825.58\n",
      "[2]\tvalid_0's l2: 2722.42\n",
      "[3]\tvalid_0's l2: 2480.46\n",
      "[4]\tvalid_0's l2: 2260.08\n",
      "[2]\tvalid_0's l2: 2726.26\n",
      "[3]\tvalid_0's l2: 2429.84\n",
      "[3]\tvalid_0's l2: 2494.24\n",
      "[8]\tvalid_0's l2: 1722.01\n",
      "[3]\tvalid_0's l2: 2493.2\n",
      "[4]\tvalid_0's l2: 2286.15\n",
      "[5]\tvalid_0's l2: 2087.18\n",
      "[9]\tvalid_0's l2: 1633.77\n",
      "[2]\tvalid_0's l2: 2695.46\n",
      "[3]\tvalid_0's l2: 2493.03\n",
      "[4]\tvalid_0's l2: 2220.45\n",
      "[4]\tvalid_0's l2: 2294.22\n",
      "[5]\tvalid_0's l2: 2120.15\n",
      "[10]\tvalid_0's l2: 1548.34\n",
      "[6]\tvalid_0's l2: 1927.21\n",
      "[4]\tvalid_0's l2: 2283.72\n",
      "[5]\tvalid_0's l2: 2055.35\n",
      "[4]\tvalid_0's l2: 2293.22\n",
      "[3]\tvalid_0's l2: 2446.06\n",
      "[6]\tvalid_0's l2: 1950.64\n",
      "[11]\tvalid_0's l2: 1475.97\n",
      "[5]\tvalid_0's l2: 2108.2\n",
      "[6]\tvalid_0's l2: 1907.51\n",
      "[7]\tvalid_0's l2: 1800.36\n",
      "[7]\tvalid_0's l2: 1820.33\n",
      "[12]\tvalid_0's l2: 1417.79\n",
      "[5]\tvalid_0's l2: 2110.1\n",
      "[4]\tvalid_0's l2: 2248.21\n",
      "[13]\tvalid_0's l2: 1366.92\n",
      "[5]\tvalid_0's l2: 2105.02\n",
      "[6]\tvalid_0's l2: 1953.18\n",
      "[8]\tvalid_0's l2: 1715.11\n",
      "[8]\tvalid_0's l2: 1695.33\n",
      "[7]\tvalid_0's l2: 1779.01\n",
      "[14]\tvalid_0's l2: 1317.42\n",
      "[6]\tvalid_0's l2: 1969.64\n",
      "[6]\tvalid_0's l2: 1950.35\n",
      "[9]\tvalid_0's l2: 1625.45\n",
      "[15]\tvalid_0's l2: 1283.97\n",
      "[9]\tvalid_0's l2: 1600\n",
      "[5]\tvalid_0's l2: 2059.09\n",
      "[8]\tvalid_0's l2: 1661.13\n",
      "[7]\tvalid_0's l2: 1834.8\n",
      "[10]\tvalid_0's l2: 1542.74\n",
      "[7]\tvalid_0's l2: 1821.64\n",
      "[16]\tvalid_0's l2: 1245.72\n",
      "[7]\tvalid_0's l2: 1834.3\n",
      "[10]\tvalid_0's l2: 1520.95\n",
      "[11]\tvalid_0's l2: 1474.14\n",
      "[17]\tvalid_0's l2: 1219.47\n",
      "[9]\tvalid_0's l2: 1586.58\n",
      "[12]\tvalid_0's l2: 1422.86\n",
      "[6]\tvalid_0's l2: 1909.35\n",
      "[8]\tvalid_0's l2: 1731.58\n",
      "[18]\tvalid_0's l2: 1193.08\n",
      "[8]\tvalid_0's l2: 1724.84\n",
      "[8]\tvalid_0's l2: 1704.23\n",
      "[13]\tvalid_0's l2: 1364.68\n",
      "[11]\tvalid_0's l2: 1446.19\n",
      "[10]\tvalid_0's l2: 1504.78\n",
      "[19]\tvalid_0's l2: 1172.02\n",
      "[14]\tvalid_0's l2: 1320.74\n",
      "[7]\tvalid_0's l2: 1779.44\n",
      "[9]\tvalid_0's l2: 1634.54\n",
      "[9]\tvalid_0's l2: 1625.06\n",
      "[12]\tvalid_0's l2: 1384.88\n",
      "[20]\tvalid_0's l2: 1144.26\n",
      "[11]\tvalid_0's l2: 1438.8\n",
      "[9]\tvalid_0's l2: 1614.06\n",
      "[15]\tvalid_0's l2: 1276.61\n",
      "[21]\tvalid_0's l2: 1127.77\n",
      "[10]\tvalid_0's l2: 1544.33\n",
      "[8]\tvalid_0's l2: 1669.34\n",
      "[13]\tvalid_0's l2: 1336.32\n",
      "[16]\tvalid_0's l2: 1242.93\n",
      "[12]\tvalid_0's l2: 1382.78\n",
      "[10]\tvalid_0's l2: 1563.54\n",
      "[10]\tvalid_0's l2: 1540.07\n",
      "[22]\tvalid_0's l2: 1115.28\n",
      "[23]\tvalid_0's l2: 1106.23\n",
      "[17]\tvalid_0's l2: 1217.32\n",
      "[11]\tvalid_0's l2: 1477.68\n",
      "[14]\tvalid_0's l2: 1293.35\n",
      "[9]\tvalid_0's l2: 1580.77\n",
      "[13]\tvalid_0's l2: 1337.59\n",
      "[11]\tvalid_0's l2: 1476.46\n",
      "[24]\tvalid_0's l2: 1088.72\n",
      "[18]\tvalid_0's l2: 1184.62\n",
      "[11]\tvalid_0's l2: 1490.5\n",
      "[25]\tvalid_0's l2: 1076.81\n",
      "[15]\tvalid_0's l2: 1256.74\n",
      "[12]\tvalid_0's l2: 1411.96\n",
      "[14]\tvalid_0's l2: 1295.25[10]\tvalid_0's l2: 1511.06\n",
      "\n",
      "[26]\tvalid_0's l2: 1062.02\n",
      "[12]\tvalid_0's l2: 1409.45\n",
      "[19]\tvalid_0's l2: 1163.21\n",
      "[27]\tvalid_0's l2: 1053.53\n",
      "[20]\tvalid_0's l2: 1149.09\n",
      "[15]\tvalid_0's l2: 1266.96\n",
      "[12]\tvalid_0's l2: 1433.14\n",
      "[28]\tvalid_0's l2: 1042.54\n",
      "[13]\tvalid_0's l2: 1352.92\n",
      "[16]\tvalid_0's l2: 1222.95\n",
      "[11]\tvalid_0's l2: 1453.81\n",
      "[21]\tvalid_0's l2: 1122.69\n",
      "[13]\tvalid_0's l2: 1355.78\n",
      "[29]\tvalid_0's l2: 1037.32\n",
      "[16]\tvalid_0's l2: 1233.05\n",
      "[22]\tvalid_0's l2: 1105.74\n",
      "[30]\tvalid_0's l2: 1025.76\n",
      "[17]\tvalid_0's l2: 1199.66\n",
      "[13]\tvalid_0's l2: 1377.92\n",
      "[14]\tvalid_0's l2: 1303.31\n",
      "[23]\tvalid_0's l2: 1090.67\n",
      "[31]\tvalid_0's l2: 1012.78\n",
      "[17]\tvalid_0's l2: 1198.07\n",
      "[12]\tvalid_0's l2: 1395.07\n",
      "[14]\tvalid_0's l2: 1318.37\n",
      "[32]\tvalid_0's l2: 1006.74\n",
      "[24]\tvalid_0's l2: 1077.42\n",
      "[18]\tvalid_0's l2: 1175.19\n",
      "[14]\tvalid_0's l2: 1335.62\n",
      "[18]\tvalid_0's l2: 1177.23\n",
      "[15]\tvalid_0's l2: 1257.17\n",
      "[33]\tvalid_0's l2: 999.966\n",
      "[15]\tvalid_0's l2: 1290.43\n",
      "[25]\tvalid_0's l2: 1064.54\n",
      "[19]\tvalid_0's l2: 1157.6\n",
      "[16]\tvalid_0's l2: 1226.12\n",
      "[13]\tvalid_0's l2: 1344.12\n",
      "[34]\tvalid_0's l2: 991.488\n",
      "[19]\tvalid_0's l2: 1155.75\n",
      "[15]\tvalid_0's l2: 1288.97\n",
      "[26]\tvalid_0's l2: 1053.91\n",
      "[20]\tvalid_0's l2: 1132.52\n",
      "[35]\tvalid_0's l2: 987.308\n",
      "[16]\tvalid_0's l2: 1264.53\n",
      "[17]\tvalid_0's l2: 1193.88\n",
      "[14]\tvalid_0's l2: 1292.12\n",
      "[20]\tvalid_0's l2: 1134.35\n",
      "[36]\tvalid_0's l2: 979.596\n",
      "[21]\tvalid_0's l2: 1116.93\n",
      "[16]\tvalid_0's l2: 1257.66\n",
      "[27]\tvalid_0's l2: 1040.45\n",
      "[37]\tvalid_0's l2: 975.43\n",
      "[17]\tvalid_0's l2: 1243.28\n",
      "[22]\tvalid_0's l2: 1097.44\n",
      "[18]\tvalid_0's l2: 1169.19\n",
      "[28]\tvalid_0's l2: 1030.02\n",
      "[17]\tvalid_0's l2: 1229.1\n",
      "[15]\tvalid_0's l2: 1242.08\n",
      "[21]\tvalid_0's l2: 1112.27\n",
      "[38]\tvalid_0's l2: 970.099\n",
      "[23]\tvalid_0's l2: 1081.88\n",
      "[18]\tvalid_0's l2: 1222.54\n",
      "[29]\tvalid_0's l2: 1020.87\n",
      "[39]\tvalid_0's l2: 971.619\n",
      "[30]\tvalid_0's l2: 1016.02\n",
      "[19]\tvalid_0's l2: 1141.88\n",
      "[18]\tvalid_0's l2: 1198.51\n",
      "[40]\tvalid_0's l2: 967.596\n",
      "[24]\tvalid_0's l2: 1060.89\n",
      "[22]\tvalid_0's l2: 1099.29\n",
      "[31]\tvalid_0's l2: 1009.61\n",
      "[16]\tvalid_0's l2: 1207.75\n",
      "[19]\tvalid_0's l2: 1198.48\n",
      "[41]\tvalid_0's l2: 965.805\n",
      "[20]\tvalid_0's l2: 1124.75\n",
      "[32]\tvalid_0's l2: 1003.97\n",
      "[23]\tvalid_0's l2: 1082.99\n",
      "[42]\tvalid_0's l2: 969.461\n",
      "[19]\tvalid_0's l2: 1173.15\n",
      "[17]\tvalid_0's l2: 1182.12\n",
      "[25]\tvalid_0's l2: 1052.09[43]\tvalid_0's l2: 967.93\n",
      "\n",
      "[33]\tvalid_0's l2: 998.489\n",
      "[21]\tvalid_0's l2: 1111.53\n",
      "[20]\tvalid_0's l2: 1174.11\n",
      "[24]\tvalid_0's l2: 1067.96\n",
      "[44]\tvalid_0's l2: 963.023\n",
      "[34]\tvalid_0's l2: 991.41\n",
      "[45]\tvalid_0's l2: 961.253\n",
      "[21]\tvalid_0's l2: 1157.35\n",
      "[20]\tvalid_0's l2: 1148.83\n",
      "[18]\tvalid_0's l2: 1157.15\n",
      "[22]\tvalid_0's l2: 1093.18\n",
      "[26]\tvalid_0's l2: 1042.02\n",
      "[35]\tvalid_0's l2: 986.535\n",
      "[25]\tvalid_0's l2: 1054.69\n",
      "[46]\tvalid_0's l2: 961.26\n",
      "[21]\tvalid_0's l2: 1126.37\n",
      "[36]\tvalid_0's l2: 981.153\n",
      "[23]\tvalid_0's l2: 1076.7\n",
      "[47]\tvalid_0's l2: 962.054\n",
      "[22]\tvalid_0's l2: 1136.31\n",
      "[19]\tvalid_0's l2: 1135.12\n",
      "[26]\tvalid_0's l2: 1042.07\n",
      "[37]\tvalid_0's l2: 976.885\n",
      "[27]\tvalid_0's l2: 1030.92\n",
      "[48]\tvalid_0's l2: 957.859\n",
      "[22]\tvalid_0's l2: 1109.83\n",
      "[49]\tvalid_0's l2: 956.476\n",
      "[24]\tvalid_0's l2: 1063.75\n",
      "[38]\tvalid_0's l2: 973.424\n",
      "[23]\tvalid_0's l2: 1123.58\n",
      "[20]\tvalid_0's l2: 1118.77[50]\tvalid_0's l2: 954.479\n",
      "\n",
      "[27]\tvalid_0's l2: 1031.58\n",
      "[28]\tvalid_0's l2: 1020.29\n",
      "[39]\tvalid_0's l2: 966.047\n",
      "[51]\tvalid_0's l2: 954.703\n",
      "[23]\tvalid_0's l2: 1094.05\n",
      "[40]\tvalid_0's l2: 965.466\n",
      "[25]\tvalid_0's l2: 1049.47\n",
      "[24]\tvalid_0's l2: 1112.51\n",
      "[52]\tvalid_0's l2: 953.934\n",
      "[28]\tvalid_0's l2: 1026.84\n",
      "[29]\tvalid_0's l2: 1011.96\n",
      "[21]\tvalid_0's l2: 1109.22\n",
      "[41]\tvalid_0's l2: 960.2\n",
      "[53]\tvalid_0's l2: 955.04\n",
      "[24]\tvalid_0's l2: 1080.88\n",
      "[54]\tvalid_0's l2: 956.132\n",
      "[25]\tvalid_0's l2: 1096.74\n",
      "[26]\tvalid_0's l2: 1041.56\n",
      "[30]\tvalid_0's l2: 1002.76\n",
      "[42]\tvalid_0's l2: 957.256\n",
      "[55]\tvalid_0's l2: 953.346\n",
      "[29]\tvalid_0's l2: 1022.57\n",
      "[22]\tvalid_0's l2: 1093.5\n",
      "[43]\tvalid_0's l2: 954.83\n",
      "[26]\tvalid_0's l2: 1086.14[25]\tvalid_0's l2: 1061.78\n",
      "\n",
      "[56]\tvalid_0's l2: 956.779\n",
      "[27]\tvalid_0's l2: 1031.29\n",
      "[31]\tvalid_0's l2: 995.364\n",
      "[44]\tvalid_0's l2: 951.007\n",
      "[57]\tvalid_0's l2: 955.026\n",
      "[30]\tvalid_0's l2: 1017.29\n",
      "[27]\tvalid_0's l2: 1073.66\n",
      "[45]\tvalid_0's l2: 949.048\n",
      "[26]\tvalid_0's l2: 1051.61[58]\tvalid_0's l2: 956.456\n",
      "\n",
      "[23]\tvalid_0's l2: 1084.24\n",
      "[32]\tvalid_0's l2: 987.093\n",
      "[28]\tvalid_0's l2: 1023.22\n",
      "[59]\tvalid_0's l2: 953.169\n",
      "[31]\tvalid_0's l2: 1011.25\n",
      "[46]\tvalid_0's l2: 950.018\n",
      "[60]\tvalid_0's l2: 953.842\n",
      "[27]\tvalid_0's l2: 1048.92\n",
      "[47]\tvalid_0's l2: 945.02\n",
      "[29]\tvalid_0's l2: 1017.07\n",
      "[28]\tvalid_0's l2: 1063.17\n",
      "[32]\tvalid_0's l2: 1010.4\n",
      "[33]\tvalid_0's l2: 977.255\n",
      "[24]\tvalid_0's l2: 1070.61\n",
      "[61]\tvalid_0's l2: 955.768\n",
      "[48]\tvalid_0's l2: 944.989\n",
      "[62]\tvalid_0's l2: 955.538\n",
      "[30]\tvalid_0's l2: 1010.6\n",
      "[34]\tvalid_0's l2: 972.593\n",
      "[29]\tvalid_0's l2: 1053.6\n",
      "[33]\tvalid_0's l2: 1005.18\n",
      "[63]\tvalid_0's l2: 956.064\n",
      "[49]\tvalid_0's l2: 942.752\n",
      "[28]\tvalid_0's l2: 1039.07\n",
      "[25]\tvalid_0's l2: 1061.73\n",
      "[64]\tvalid_0's l2: 952.861\n",
      "[65]\tvalid_0's l2: 953.303\n",
      "[35]\tvalid_0's l2: 969.021\n",
      "[31]\tvalid_0's l2: 1003.59\n",
      "[50]\tvalid_0's l2: 942.56\n",
      "[30]\tvalid_0's l2: 1051.28\n",
      "[66]\tvalid_0's l2: 952.812\n",
      "[34]\tvalid_0's l2: 997.911\n",
      "[26]\tvalid_0's l2: 1055.63\n",
      "[29]\tvalid_0's l2: 1030.25\n",
      "[67]\tvalid_0's l2: 952.903\n",
      "[51]\tvalid_0's l2: 941.644\n",
      "[36]\tvalid_0's l2: 963.168\n",
      "[35]\tvalid_0's l2: 996.879[32]\tvalid_0's l2: 996.259\n",
      "\n",
      "[68]\tvalid_0's l2: 955.82\n",
      "[52]\tvalid_0's l2: 942.134\n",
      "[31]\tvalid_0's l2: 1045.46\n",
      "[69]\tvalid_0's l2: 957.76\n",
      "[30]\tvalid_0's l2: 1019.25\n",
      "[37]\tvalid_0's l2: 962.936\n",
      "[27]\tvalid_0's l2: 1048.85\n",
      "[53]\tvalid_0's l2: 940.129\n",
      "[36]\tvalid_0's l2: 990.028\n",
      "[70]\tvalid_0's l2: 957.425\n",
      "[33]\tvalid_0's l2: 984.244\n",
      "[71]\tvalid_0's l2: 955.852\n",
      "[54]\tvalid_0's l2: 936.585\n",
      "[32]\tvalid_0's l2: 1035.96\n",
      "[31]\tvalid_0's l2: 1014.64\n",
      "[38]\tvalid_0's l2: 961.084\n",
      "[72]\tvalid_0's l2: 957.173\n",
      "[37]\tvalid_0's l2: 985.898\n",
      "[28]\tvalid_0's l2: 1044.26\n",
      "[34]\tvalid_0's l2: 980.456\n",
      "[55]\tvalid_0's l2: 933.203\n",
      "[73]\tvalid_0's l2: 956.798\n",
      "[74]\tvalid_0's l2: 955.956\n",
      "[33]\tvalid_0's l2: 1032.68\n",
      "[56]\tvalid_0's l2: 932.609\n",
      "[32]\tvalid_0's l2: 1008.34\n",
      "[38]\tvalid_0's l2: 982.263\n",
      "[39]\tvalid_0's l2: 958.799\n",
      "[35]\tvalid_0's l2: 977.016\n",
      "[75]\tvalid_0's l2: 955.962\n",
      "[29]\tvalid_0's l2: 1035.09\n",
      "[57]\tvalid_0's l2: 931.92\n",
      "[76]\tvalid_0's l2: 956.39\n",
      "[39]\tvalid_0's l2: 980.345\n",
      "[34]\tvalid_0's l2: 1030.87\n",
      "[40]\tvalid_0's l2: 954.381\n",
      "[36]\tvalid_0's l2: 972.805\n",
      "[77]\tvalid_0's l2: 956.509\n",
      "[33]\tvalid_0's l2: 1001.5\n",
      "[58]\tvalid_0's l2: 931.358\n",
      "[59]\tvalid_0's l2: 931.917\n",
      "[30]\tvalid_0's l2: 1024.91\n",
      "[78]\tvalid_0's l2: 956.388\n",
      "[40]\tvalid_0's l2: 977.458[35]\tvalid_0's l2: 1026.58\n",
      "[41]\tvalid_0's l2: 951.423\n",
      "\n",
      "[37]\tvalid_0's l2: 967.558\n",
      "[60]\tvalid_0's l2: 930.998\n",
      "[79]\tvalid_0's l2: 957.224\n",
      "[34]\tvalid_0's l2: 991.412\n",
      "[80]\tvalid_0's l2: 957.947\n",
      "[61]\tvalid_0's l2: 931.879\n",
      "[41]\tvalid_0's l2: 973.947\n",
      "[42]\tvalid_0's l2: 944.101\n",
      "[36]\tvalid_0's l2: 1021.51\n",
      "[31]\tvalid_0's l2: 1019.38\n",
      "[81]\tvalid_0's l2: 957.711\n",
      "[38]\tvalid_0's l2: 959.661\n",
      "[62]\tvalid_0's l2: 930.593\n",
      "[82]\tvalid_0's l2: 961.663\n",
      "[42]\tvalid_0's l2: 972.127\n",
      "[43]\tvalid_0's l2: 943.826\n",
      "[35]\tvalid_0's l2: 992.04\n",
      "[83]\tvalid_0's l2: 961.253\n",
      "[37]\tvalid_0's l2: 1015.04\n",
      "[63]\tvalid_0's l2: 929.251\n",
      "[39]\tvalid_0's l2: 955.894\n",
      "[32]\tvalid_0's l2: 1015.49\n",
      "[84]\tvalid_0's l2: 962.628\n",
      "[64]\tvalid_0's l2: 928.734\n",
      "[44]\tvalid_0's l2: 941.701\n",
      "[43]\tvalid_0's l2: 971.029\n",
      "[85]\tvalid_0's l2: 962.806\n",
      "[36]\tvalid_0's l2: 986.209\n",
      "[38]\tvalid_0's l2: 1015.38\n",
      "[65]\tvalid_0's l2: 926.848\n",
      "[40]\tvalid_0's l2: 953.944\n",
      "[45]\tvalid_0's l2: 939.776\n",
      "[86]\tvalid_0's l2: 962.187\n",
      "[44]\tvalid_0's l2: 968.503\n",
      "[33]\tvalid_0's l2: 1012.26\n",
      "[66]\tvalid_0's l2: 926.781\n",
      "[41]\tvalid_0's l2: 953.655\n",
      "[87]\tvalid_0's l2: 961.114\n",
      "[37]\tvalid_0's l2: 981.322\n",
      "[39]\tvalid_0's l2: 1014.03\n",
      "[67]\tvalid_0's l2: 926.644\n",
      "[88]\tvalid_0's l2: 962.402\n",
      "[46]\tvalid_0's l2: 942.102\n",
      "[45]\tvalid_0's l2: 968.411\n",
      "[34]\tvalid_0's l2: 1008.59\n",
      "[68]\tvalid_0's l2: 927.767\n",
      "[89]\tvalid_0's l2: 965.363\n",
      "[42]\tvalid_0's l2: 949.06\n",
      "[47]\tvalid_0's l2: 938.713\n",
      "[38]\tvalid_0's l2: 977.295\n",
      "[46]\tvalid_0's l2: 966.221\n",
      "[40]\tvalid_0's l2: 1008.48\n",
      "[90]\tvalid_0's l2: 965.222\n",
      "[69]\tvalid_0's l2: 926.723\n",
      "[35]\tvalid_0's l2: 1003.69\n",
      "[91]\tvalid_0's l2: 964.066\n",
      "[43]\tvalid_0's l2: 945.855\n",
      "[70]\tvalid_0's l2: 927.3\n",
      "[47]\tvalid_0's l2: 963.483\n",
      "[48]\tvalid_0's l2: 938.105[92]\tvalid_0's l2: 965.222\n",
      "\n",
      "[41]\tvalid_0's l2: 1006.51\n",
      "[39]\tvalid_0's l2: 976.289\n",
      "[71]\tvalid_0's l2: 926.275\n",
      "[93]\tvalid_0's l2: 964.995\n",
      "[44]\tvalid_0's l2: 943.862\n",
      "[48]\tvalid_0's l2: 963.446\n",
      "[94]\tvalid_0's l2: 965.677\n",
      "[49]\tvalid_0's l2: 935.783\n",
      "[36]\tvalid_0's l2: 998.074\n",
      "[72]\tvalid_0's l2: 925.763\n",
      "[95]\tvalid_0's l2: 965.544\n",
      "[42]\tvalid_0's l2: 1003.76\n",
      "[40]\tvalid_0's l2: 969.806\n",
      "[45]\tvalid_0's l2: 941.098\n",
      "[49]\tvalid_0's l2: 957.824\n",
      "[73]\tvalid_0's l2: 925.171\n",
      "[96]\tvalid_0's l2: 964.514\n",
      "[50]\tvalid_0's l2: 933.857\n",
      "[37]\tvalid_0's l2: 993.648\n",
      "[97]\tvalid_0's l2: 963.186\n",
      "[50]\tvalid_0's l2: 954.232[43]\tvalid_0's l2: 1002.88\n",
      "\n",
      "[74]\tvalid_0's l2: 925.538\n",
      "[46]\tvalid_0's l2: 939.395\n",
      "[98]\tvalid_0's l2: 963.074\n",
      "[41]\tvalid_0's l2: 964.585\n",
      "[75]\tvalid_0's l2: 926.795\n",
      "[99]\tvalid_0's l2: 962.083\n",
      "[51]\tvalid_0's l2: 935.47\n",
      "[51]\tvalid_0's l2: 955.898\n",
      "[100]\tvalid_0's l2: 962.661\n",
      "[38]\tvalid_0's l2: 991.883\n"
     ]
    },
    {
     "name": "stderr",
     "output_type": "stream",
     "text": [
      "[I 2023-07-08 06:39:36,283] Trial 0 finished with value: 31.02678484910469 and parameters: {'num_leaves': 34, 'bagging_fraction': 0.30797172676723183, 'min_child_samples': 6}. Best is trial 0 with value: 31.02678484910469.\n"
     ]
    },
    {
     "name": "stdout",
     "output_type": "stream",
     "text": [
      "[76]\tvalid_0's l2: 926.857\n",
      "[LightGBM] [Warning] bagging_fraction is set=0.8685169990523679, subsample=1.0 will be ignored. Current value: bagging_fraction=0.8685169990523679\n",
      "[47]\tvalid_0's l2: 940.015[44]\tvalid_0's l2: 1003.33\n",
      "\n",
      "[42]\tvalid_0's l2: 964.86\n",
      "[77]\tvalid_0's l2: 926.705\n",
      "[52]\tvalid_0's l2: 936.024\n",
      "[52]\tvalid_0's l2: 955.629\n",
      "[1]\tvalid_0's l2: 3022.19\n",
      "[43]\tvalid_0's l2: 965.258\n",
      "[45]\tvalid_0's l2: 1000.57\n",
      "[78]\tvalid_0's l2: 926.151\n",
      "[48]\tvalid_0's l2: 938.799\n",
      "[2]\tvalid_0's l2: 2745.65\n",
      "[39]\tvalid_0's l2: 985.856\n",
      "[53]\tvalid_0's l2: 953.591\n",
      "[53]\tvalid_0's l2: 935.235\n",
      "[79]\tvalid_0's l2: 926.387\n",
      "[3]\tvalid_0's l2: 2517.8\n",
      "[44]\tvalid_0's l2: 963.502\n",
      "[40]\tvalid_0's l2: 980.453\n",
      "[46]\tvalid_0's l2: 1000.98\n",
      "[49]\tvalid_0's l2: 939.076\n",
      "[80]\tvalid_0's l2: 926.429\n",
      "[54]\tvalid_0's l2: 951.608\n",
      "[54]\tvalid_0's l2: 935.177\n",
      "[4]\tvalid_0's l2: 2313.93\n",
      "[81]\tvalid_0's l2: 927.46\n",
      "[41]\tvalid_0's l2: 974.926\n",
      "[50]\tvalid_0's l2: 939.382\n",
      "[47]\tvalid_0's l2: 999.099\n",
      "[45]\tvalid_0's l2: 960.323\n",
      "[55]\tvalid_0's l2: 951.847\n",
      "[55]\tvalid_0's l2: 933.966\n",
      "[5]\tvalid_0's l2: 2148.97\n",
      "[82]\tvalid_0's l2: 926.856\n",
      "[51]\tvalid_0's l2: 936.329\n",
      "[48]\tvalid_0's l2: 996.095\n",
      "[42]\tvalid_0's l2: 966.854\n",
      "[6]\tvalid_0's l2: 1998.31\n",
      "[56]\tvalid_0's l2: 952.328\n",
      "[83]\tvalid_0's l2: 927.389\n",
      "[46]\tvalid_0's l2: 957.366\n",
      "[56]\tvalid_0's l2: 933.612\n",
      "[7]\tvalid_0's l2: 1876.97\n",
      "[84]\tvalid_0's l2: 926.297\n",
      "[57]\tvalid_0's l2: 951.891\n",
      "[8]\tvalid_0's l2: 1762.78\n",
      "[49]\tvalid_0's l2: 994.622\n",
      "[52]\tvalid_0's l2: 935.325\n",
      "[57]\tvalid_0's l2: 930.553\n",
      "[43]\tvalid_0's l2: 966.627\n",
      "[85]\tvalid_0's l2: 925.197\n",
      "[47]\tvalid_0's l2: 956.372\n",
      "[58]\tvalid_0's l2: 951.62\n",
      "[9]\tvalid_0's l2: 1671.7\n",
      "[50]\tvalid_0's l2: 993.381\n",
      "[86]\tvalid_0's l2: 926.855\n",
      "[53]\tvalid_0's l2: 936.607\n",
      "[58]\tvalid_0's l2: 931.317\n",
      "[10]\tvalid_0's l2: 1585.89\n",
      "[87]\tvalid_0's l2: 926.928\n",
      "[44]\tvalid_0's l2: 964.061\n",
      "[48]\tvalid_0's l2: 955.027\n",
      "[51]\tvalid_0's l2: 990.971\n",
      "[11]\tvalid_0's l2: 1511.45\n",
      "[59]\tvalid_0's l2: 952.742\n",
      "[88]\tvalid_0's l2: 926.516\n",
      "[59]\tvalid_0's l2: 931.11\n",
      "[54]\tvalid_0's l2: 938.768\n",
      "[49]\tvalid_0's l2: 953.597\n",
      "[12]\tvalid_0's l2: 1454.97\n",
      "[89]\tvalid_0's l2: 928.249\n",
      "[60]\tvalid_0's l2: 953.201\n",
      "[45]\tvalid_0's l2: 964.167\n",
      "[52]\tvalid_0's l2: 991.982\n",
      "[55]\tvalid_0's l2: 939.502\n",
      "[60]\tvalid_0's l2: 933.338\n",
      "[50]\tvalid_0's l2: 954\n",
      "[90]\tvalid_0's l2: 928.34\n",
      "[13]\tvalid_0's l2: 1407.15\n",
      "[61]\tvalid_0's l2: 953.351\n",
      "[61]\tvalid_0's l2: 933.78\n",
      "[91]\tvalid_0's l2: 929.564\n",
      "[14]\tvalid_0's l2: 1364.55\n",
      "[46]\tvalid_0's l2: 961.777\n",
      "[51]\tvalid_0's l2: 951.577\n",
      "[56]\tvalid_0's l2: 937.985\n",
      "[53]\tvalid_0's l2: 991.543\n",
      "[92]\tvalid_0's l2: 927.795\n",
      "[15]\tvalid_0's l2: 1323.09\n",
      "[62]\tvalid_0's l2: 955.5\n",
      "[62]\tvalid_0's l2: 933.352\n",
      "[47]\tvalid_0's l2: 959.696\n",
      "[57]\tvalid_0's l2: 937.041\n",
      "[16]\tvalid_0's l2: 1287.06\n",
      "[93]\tvalid_0's l2: 928.386\n",
      "[54]\tvalid_0's l2: 990.726\n",
      "[63]\tvalid_0's l2: 935.685\n",
      "[63]\tvalid_0's l2: 955.611\n",
      "[17]\tvalid_0's l2: 1258.88\n",
      "[52]\tvalid_0's l2: 949.998\n",
      "[94]\tvalid_0's l2: 928.347\n",
      "[18]\tvalid_0's l2: 1239.79\n",
      "[48]\tvalid_0's l2: 960.306\n",
      "[95]\tvalid_0's l2: 928.533\n",
      "[55]\tvalid_0's l2: 991.8[58]\tvalid_0's l2: 935.067\n",
      "\n",
      "[64]\tvalid_0's l2: 933.998\n",
      "[64]\tvalid_0's l2: 955.277\n",
      "[19]\tvalid_0's l2: 1216.66\n",
      "[53]\tvalid_0's l2: 949.774\n",
      "[96]\tvalid_0's l2: 929.051\n",
      "[65]\tvalid_0's l2: 934.218\n",
      "[59]\tvalid_0's l2: 934.294\n",
      "[49]\tvalid_0's l2: 960.21\n",
      "[56]\tvalid_0's l2: 993.669\n",
      "[20]\tvalid_0's l2: 1191.16\n",
      "[65]\tvalid_0's l2: 955.173\n",
      "[97]\tvalid_0's l2: 929.069\n",
      "[54]\tvalid_0's l2: 948.036\n",
      "[98]\tvalid_0's l2: 927.815\n",
      "[66]\tvalid_0's l2: 934.93\n",
      "[21]\tvalid_0's l2: 1167.66\n",
      "[50]\tvalid_0's l2: 960.192\n",
      "[99]\tvalid_0's l2: 925.968\n",
      "[66]\tvalid_0's l2: 956.458\n",
      "[60]\tvalid_0's l2: 934.794\n",
      "[22]\tvalid_0's l2: 1147.64\n",
      "[57]\tvalid_0's l2: 994.547\n",
      "[55]\tvalid_0's l2: 945.914\n",
      "[67]\tvalid_0's l2: 933.642\n",
      "[23]\tvalid_0's l2: 1129.08\n",
      "[100]\tvalid_0's l2: 924.698\n"
     ]
    },
    {
     "name": "stderr",
     "output_type": "stream",
     "text": [
      "[I 2023-07-08 06:39:44,480] Trial 7 finished with value: 30.408845934478872 and parameters: {'num_leaves': 49, 'bagging_fraction': 0.5569881708302974, 'min_child_samples': 35}. Best is trial 7 with value: 30.408845934478872.\n"
     ]
    },
    {
     "name": "stdout",
     "output_type": "stream",
     "text": [
      "[LightGBM] [Warning] bagging_fraction is set=0.612270708457468, subsample=1.0 will be ignored. Current value: bagging_fraction=0.612270708457468\n",
      "[68]\tvalid_0's l2: 935.322\n",
      "[61]\tvalid_0's l2: 931.944\n",
      "[67]\tvalid_0's l2: 956.703\n",
      "[58]\tvalid_0's l2: 993.75\n",
      "[56]\tvalid_0's l2: 946.23\n",
      "[51]\tvalid_0's l2: 959.07\n",
      "[24]\tvalid_0's l2: 1113.53\n",
      "[62]\tvalid_0's l2: 930.232\n",
      "[68]\tvalid_0's l2: 954.619\n",
      "[1]\tvalid_0's l2: 3011.64\n",
      "[69]\tvalid_0's l2: 937.389\n",
      "[25]\tvalid_0's l2: 1104.44\n",
      "[59]\tvalid_0's l2: 994.548\n",
      "[52]\tvalid_0's l2: 959.557\n",
      "[57]\tvalid_0's l2: 946.52\n",
      "[26]\tvalid_0's l2: 1087.37\n",
      "[63]\tvalid_0's l2: 930.391\n",
      "[69]\tvalid_0's l2: 953.051\n",
      "[70]\tvalid_0's l2: 937.264\n",
      "[60]\tvalid_0's l2: 995.615\n",
      "[27]\tvalid_0's l2: 1076.85\n",
      "[2]\tvalid_0's l2: 2705.38\n",
      "[70]\tvalid_0's l2: 953.623\n",
      "[58]\tvalid_0's l2: 947.434\n",
      "[64]\tvalid_0's l2: 929.977\n",
      "[28]\tvalid_0's l2: 1066.36\n",
      "[71]\tvalid_0's l2: 936.649\n",
      "[53]\tvalid_0's l2: 959.181\n",
      "[29]\tvalid_0's l2: 1055.98\n",
      "[61]\tvalid_0's l2: 994.728\n",
      "[71]\tvalid_0's l2: 953.819\n",
      "[30]\tvalid_0's l2: 1045.51\n",
      "[3]\tvalid_0's l2: 2457.34\n",
      "[59]\tvalid_0's l2: 947.666\n",
      "[65]\tvalid_0's l2: 929.286\n",
      "[72]\tvalid_0's l2: 937.417\n",
      "[54]\tvalid_0's l2: 959.086\n",
      "[72]\tvalid_0's l2: 953.338\n",
      "[31]\tvalid_0's l2: 1034.87\n",
      "[62]\tvalid_0's l2: 993.389\n",
      "[66]\tvalid_0's l2: 928.42\n",
      "[73]\tvalid_0's l2: 934.584\n",
      "[4]\tvalid_0's l2: 2246.03\n",
      "[55]\tvalid_0's l2: 956.497\n",
      "[60]\tvalid_0's l2: 949.033\n",
      "[32]\tvalid_0's l2: 1026.85\n",
      "[73]\tvalid_0's l2: 953.575\n",
      "[74]\tvalid_0's l2: 934.762\n",
      "[63]\tvalid_0's l2: 994.199\n",
      "[33]\tvalid_0's l2: 1020.86\n",
      "[67]\tvalid_0's l2: 927.746\n",
      "[74]\tvalid_0's l2: 954.221\n",
      "[61]\tvalid_0's l2: 946.969\n",
      "[56]\tvalid_0's l2: 954.679\n",
      "[5]\tvalid_0's l2: 2073.19\n",
      "[64]\tvalid_0's l2: 992.964\n",
      "[75]\tvalid_0's l2: 933.899\n",
      "[34]\tvalid_0's l2: 1014.29\n",
      "[68]\tvalid_0's l2: 929.078\n",
      "[75]\tvalid_0's l2: 953.891\n",
      "[57]\tvalid_0's l2: 954.586\n",
      "[62]\tvalid_0's l2: 946.502\n",
      "[65]\tvalid_0's l2: 993.129\n",
      "[35]\tvalid_0's l2: 1004.46\n",
      "[76]\tvalid_0's l2: 933.298\n",
      "[6]\tvalid_0's l2: 1913.84\n",
      "[36]\tvalid_0's l2: 998.86\n",
      "[76]\tvalid_0's l2: 953.6\n",
      "[58]\tvalid_0's l2: 953.302\n",
      "[69]\tvalid_0's l2: 930.586\n",
      "[63]\tvalid_0's l2: 945.281\n",
      "[77]\tvalid_0's l2: 931.579\n",
      "[37]\tvalid_0's l2: 994.085[66]\tvalid_0's l2: 992.563\n",
      "\n",
      "[7]\tvalid_0's l2: 1789.08\n",
      "[77]\tvalid_0's l2: 954.025\n",
      "[70]\tvalid_0's l2: 930.55\n",
      "[64]\tvalid_0's l2: 944.171\n",
      "[38]\tvalid_0's l2: 992.808\n",
      "[78]\tvalid_0's l2: 931.895\n",
      "[59]\tvalid_0's l2: 953.146\n",
      "[67]\tvalid_0's l2: 991.175\n",
      "[39]\tvalid_0's l2: 982.571\n",
      "[78]\tvalid_0's l2: 954.944\n",
      "[8]\tvalid_0's l2: 1682.1\n",
      "[71]\tvalid_0's l2: 931.015\n",
      "[40]\tvalid_0's l2: 977.654\n",
      "[60]\tvalid_0's l2: 954.037\n",
      "[79]\tvalid_0's l2: 932.976\n",
      "[65]\tvalid_0's l2: 943.627\n",
      "[68]\tvalid_0's l2: 991.559\n",
      "[79]\tvalid_0's l2: 954.787\n",
      "[41]\tvalid_0's l2: 977.032\n",
      "[72]\tvalid_0's l2: 930.489\n",
      "[80]\tvalid_0's l2: 933.413\n",
      "[9]\tvalid_0's l2: 1601.05\n",
      "[66]\tvalid_0's l2: 942.608\n",
      "[61]\tvalid_0's l2: 954.539\n",
      "[80]\tvalid_0's l2: 952.744\n",
      "[42]\tvalid_0's l2: 972.877\n",
      "[69]\tvalid_0's l2: 992.558\n",
      "[81]\tvalid_0's l2: 935.39\n",
      "[73]\tvalid_0's l2: 929.811\n",
      "[43]\tvalid_0's l2: 972.372\n",
      "[67]\tvalid_0's l2: 942.362\n",
      "[81]\tvalid_0's l2: 952.518\n",
      "[10]\tvalid_0's l2: 1525.04\n",
      "[62]\tvalid_0's l2: 954.656\n",
      "[70]\tvalid_0's l2: 992.835\n",
      "[82]\tvalid_0's l2: 935.752\n",
      "[44]\tvalid_0's l2: 971.564\n",
      "[45]\tvalid_0's l2: 968.96\n",
      "[82]\tvalid_0's l2: 953.037\n",
      "[74]\tvalid_0's l2: 926.249\n",
      "[68]\tvalid_0's l2: 941.315\n",
      "[83]\tvalid_0's l2: 936.103\n",
      "[63]\tvalid_0's l2: 957.341\n",
      "[11]\tvalid_0's l2: 1452.88\n",
      "[71]\tvalid_0's l2: 993.609\n",
      "[46]\tvalid_0's l2: 969.252\n",
      "[75]\tvalid_0's l2: 924.709\n",
      "[83]\tvalid_0's l2: 955.133\n",
      "[84]\tvalid_0's l2: 936.281\n",
      "[72]\tvalid_0's l2: 993.487\n",
      "[47]\tvalid_0's l2: 970.728\n",
      "[69]\tvalid_0's l2: 942.339\n",
      "[64]\tvalid_0's l2: 956.631\n",
      "[12]\tvalid_0's l2: 1382.31\n",
      "[48]\tvalid_0's l2: 966.323\n",
      "[84]\tvalid_0's l2: 955.244\n",
      "[85]\tvalid_0's l2: 937.298\n",
      "[76]\tvalid_0's l2: 924.153\n",
      "[73]\tvalid_0's l2: 993.085\n",
      "[49]\tvalid_0's l2: 967.3\n",
      "[70]\tvalid_0's l2: 941.784\n",
      "[65]\tvalid_0's l2: 956.317\n",
      "[85]\tvalid_0's l2: 957.277\n",
      "[86]\tvalid_0's l2: 935.504\n",
      "[13]\tvalid_0's l2: 1329.85\n",
      "[77]\tvalid_0's l2: 923.083\n",
      "[50]\tvalid_0's l2: 968.805\n",
      "[74]\tvalid_0's l2: 992.833\n",
      "[51]\tvalid_0's l2: 967.394\n",
      "[66]\tvalid_0's l2: 957.023\n",
      "[71]\tvalid_0's l2: 942.601\n",
      "[86]\tvalid_0's l2: 957.551\n",
      "[75]\tvalid_0's l2: 993.581\n",
      "[87]\tvalid_0's l2: 936.335\n",
      "[14]\tvalid_0's l2: 1283.29\n",
      "[78]\tvalid_0's l2: 922.421\n",
      "[52]\tvalid_0's l2: 967.741\n",
      "[67]\tvalid_0's l2: 957.028\n",
      "[87]\tvalid_0's l2: 956.83\n",
      "[88]\tvalid_0's l2: 935.86\n",
      "[76]\tvalid_0's l2: 992.907\n",
      "[53]\tvalid_0's l2: 965.029\n",
      "[79]\tvalid_0's l2: 920.717\n",
      "[15]\tvalid_0's l2: 1240.2\n",
      "[72]\tvalid_0's l2: 941.928\n",
      "[54]\tvalid_0's l2: 964.371\n",
      "[68]\tvalid_0's l2: 956.984\n",
      "[89]\tvalid_0's l2: 936.172\n",
      "[55]\tvalid_0's l2: 966.394\n",
      "[88]\tvalid_0's l2: 957.436\n",
      "[77]\tvalid_0's l2: 992.951\n",
      "[80]\tvalid_0's l2: 919.835\n",
      "[16]\tvalid_0's l2: 1204.13\n",
      "[73]\tvalid_0's l2: 940.588\n",
      "[56]\tvalid_0's l2: 966.281\n",
      "[81]\tvalid_0's l2: 920.135\n",
      "[78]\tvalid_0's l2: 993.132\n",
      "[89]\tvalid_0's l2: 957.586\n",
      "[90]\tvalid_0's l2: 935.788\n",
      "[69]\tvalid_0's l2: 956.802\n",
      "[57]\tvalid_0's l2: 967.098\n",
      "[82]\tvalid_0's l2: 919.397\n",
      "[17]\tvalid_0's l2: 1175.98\n",
      "[74]\tvalid_0's l2: 941.244\n",
      "[91]\tvalid_0's l2: 935.796\n",
      "[58]\tvalid_0's l2: 966.633\n",
      "[90]\tvalid_0's l2: 957.761\n",
      "[79]\tvalid_0's l2: 993.178\n",
      "[70]\tvalid_0's l2: 957.632\n",
      "[83]\tvalid_0's l2: 919.291\n",
      "[59]\tvalid_0's l2: 969.066\n",
      "[91]\tvalid_0's l2: 957.145\n",
      "[92]\tvalid_0's l2: 935.262\n",
      "[75]\tvalid_0's l2: 942.657\n",
      "[18]\tvalid_0's l2: 1156.45\n",
      "[80]\tvalid_0's l2: 994.083\n",
      "[60]\tvalid_0's l2: 967.93\n",
      "[71]\tvalid_0's l2: 959.374\n",
      "[92]\tvalid_0's l2: 956.888\n",
      "[84]\tvalid_0's l2: 920.334\n",
      "[93]\tvalid_0's l2: 935.501\n",
      "[61]\tvalid_0's l2: 966.798\n",
      "[81]\tvalid_0's l2: 993.448\n",
      "[19]\tvalid_0's l2: 1140.74\n",
      "[76]\tvalid_0's l2: 944.52\n",
      "[62]\tvalid_0's l2: 967.762\n",
      "[72]\tvalid_0's l2: 960.014\n",
      "[93]\tvalid_0's l2: 957.269\n",
      "[85]\tvalid_0's l2: 919.196\n",
      "[94]\tvalid_0's l2: 935.332\n",
      "[82]\tvalid_0's l2: 994.167\n",
      "[63]\tvalid_0's l2: 967.223\n",
      "[77]\tvalid_0's l2: 943.159\n",
      "[73]\tvalid_0's l2: 959.908\n",
      "[94]\tvalid_0's l2: 957.073\n",
      "[95]\tvalid_0's l2: 934.837\n",
      "[20]\tvalid_0's l2: 1115.41\n",
      "[86]\tvalid_0's l2: 920.231\n",
      "[64]\tvalid_0's l2: 966.845\n",
      "[95]\tvalid_0's l2: 957.421\n",
      "[78]\tvalid_0's l2: 943.242\n",
      "[83]\tvalid_0's l2: 994.566\n",
      "[21]\tvalid_0's l2: 1096.06\n",
      "[65]\tvalid_0's l2: 965.558\n",
      "[96]\tvalid_0's l2: 934.224\n",
      "[74]\tvalid_0's l2: 959.171\n",
      "[87]\tvalid_0's l2: 920.074\n",
      "[96]\tvalid_0's l2: 957.871\n",
      "[79]\tvalid_0's l2: 941.569\n",
      "[84]\tvalid_0's l2: 994.578\n",
      "[66]\tvalid_0's l2: 967.443\n",
      "[97]\tvalid_0's l2: 933.85\n",
      "[88]\tvalid_0's l2: 919.614\n",
      "[75]\tvalid_0's l2: 958.817\n",
      "[22]\tvalid_0's l2: 1086.02\n",
      "[97]\tvalid_0's l2: 957.875\n",
      "[67]\tvalid_0's l2: 967.262\n",
      "[80]\tvalid_0's l2: 940.695\n",
      "[85]\tvalid_0's l2: 994.409\n",
      "[98]\tvalid_0's l2: 932.468\n",
      "[89]\tvalid_0's l2: 918.88\n",
      "[68]\tvalid_0's l2: 965.192\n",
      "[76]\tvalid_0's l2: 959.012\n",
      "[23]\tvalid_0's l2: 1073.44\n",
      "[98]\tvalid_0's l2: 958.237\n",
      "[99]\tvalid_0's l2: 932.247\n",
      "[69]\tvalid_0's l2: 965.661\n",
      "[90]\tvalid_0's l2: 919.428\n",
      "[81]\tvalid_0's l2: 940.622\n",
      "[86]\tvalid_0's l2: 993.237\n",
      "[99]\tvalid_0's l2: 958.68\n",
      "[77]\tvalid_0's l2: 959.45\n",
      "[70]\tvalid_0's l2: 965.709\n",
      "[24]\tvalid_0's l2: 1061.22\n",
      "[100]\tvalid_0's l2: 958.296\n",
      "[100]\tvalid_0's l2: 932.636\n"
     ]
    },
    {
     "name": "stderr",
     "output_type": "stream",
     "text": [
      "[I 2023-07-08 06:40:02,206] Trial 4 finished with value: 30.95635481865229 and parameters: {'num_leaves': 65, 'bagging_fraction': 0.468262550438022, 'min_child_samples': 8}. Best is trial 7 with value: 30.408845934478872.\n",
      "[I 2023-07-08 06:40:02,298] Trial 1 finished with value: 30.539083403505142 and parameters: {'num_leaves': 82, 'bagging_fraction': 0.8017354348544425, 'min_child_samples': 33}. Best is trial 7 with value: 30.408845934478872.\n"
     ]
    },
    {
     "name": "stdout",
     "output_type": "stream",
     "text": [
      "[LightGBM] [Warning] bagging_fraction is set=0.26164196511147186, subsample=1.0 will be ignored. Current value: bagging_fraction=0.26164196511147186\n",
      "[82]\tvalid_0's l2: 941.178\n",
      "[LightGBM] [Warning] bagging_fraction is set=0.5944906737185965, subsample=1.0 will be ignored. Current value: bagging_fraction=0.5944906737185965\n",
      "[71]\tvalid_0's l2: 965.711[87]\tvalid_0's l2: 993.029\n",
      "\n",
      "[91]\tvalid_0's l2: 919.706\n",
      "[78]\tvalid_0's l2: 958.82\n",
      "[25]\tvalid_0's l2: 1050.49\n",
      "[1]\tvalid_0's l2: 3055.13\n",
      "[72]\tvalid_0's l2: 966.111\n",
      "[1]\tvalid_0's l2: 3027.95\n",
      "[2]\tvalid_0's l2: 2802.67\n",
      "[3]\tvalid_0's l2: 2573.93\n",
      "[92]\tvalid_0's l2: 918.333\n",
      "[88]\tvalid_0's l2: 992.665\n",
      "[79]\tvalid_0's l2: 958.754\n",
      "[4]\tvalid_0's l2: 2375.04\n",
      "[73]\tvalid_0's l2: 965.457\n",
      "[2]\tvalid_0's l2: 2756.18\n",
      "[83]\tvalid_0's l2: 941.361\n",
      "[5]\tvalid_0's l2: 2198.9\n",
      "[6]\tvalid_0's l2: 2054.17\n",
      "[3]\tvalid_0's l2: 2511.84[74]\tvalid_0's l2: 964.573\n",
      "\n",
      "[26]\tvalid_0's l2: 1040.2\n",
      "[89]\tvalid_0's l2: 991.941\n",
      "[93]\tvalid_0's l2: 916.186\n",
      "[7]\tvalid_0's l2: 1920.03\n",
      "[75]\tvalid_0's l2: 965.095\n",
      "[80]\tvalid_0's l2: 958.725\n",
      "[8]\tvalid_0's l2: 1810.17\n",
      "[4]\tvalid_0's l2: 2301.01\n",
      "[90]\tvalid_0's l2: 992.026\n",
      "[94]\tvalid_0's l2: 916.217\n",
      "[9]\tvalid_0's l2: 1714.95\n",
      "[76]\tvalid_0's l2: 963.705\n",
      "[10]\tvalid_0's l2: 1639.96\n",
      "[5]\tvalid_0's l2: 2133.94\n",
      "[11]\tvalid_0's l2: 1568.21\n",
      "[84]\tvalid_0's l2: 942.111\n",
      "[12]\tvalid_0's l2: 1501.36\n",
      "[77]\tvalid_0's l2: 964.728\n",
      "[27]\tvalid_0's l2: 1029.06\n",
      "[6]\tvalid_0's l2: 1984.45\n",
      "[13]\tvalid_0's l2: 1451.38\n",
      "[95]\tvalid_0's l2: 914.967\n",
      "[81]\tvalid_0's l2: 958.408\n",
      "[14]\tvalid_0's l2: 1411.59\n",
      "[91]\tvalid_0's l2: 992.315\n",
      "[78]\tvalid_0's l2: 965.017\n",
      "[15]\tvalid_0's l2: 1357.89\n",
      "[7]\tvalid_0's l2: 1863.1\n",
      "[16]\tvalid_0's l2: 1323.87\n",
      "[85]\tvalid_0's l2: 941.754\n",
      "[79]\tvalid_0's l2: 966.353\n",
      "[28]\tvalid_0's l2: 1019.24\n",
      "[17]\tvalid_0's l2: 1287.13\n",
      "[96]\tvalid_0's l2: 913.816\n",
      "[82]\tvalid_0's l2: 959.071\n",
      "[8]\tvalid_0's l2: 1757.98\n",
      "[18]\tvalid_0's l2: 1260.08\n",
      "[92]\tvalid_0's l2: 992.363\n",
      "[80]\tvalid_0's l2: 964.499\n",
      "[19]\tvalid_0's l2: 1229.17\n",
      "[20]\tvalid_0's l2: 1206.99\n",
      "[86]\tvalid_0's l2: 940.569\n",
      "[21]\tvalid_0's l2: 1177.51\n",
      "[9]\tvalid_0's l2: 1659.92\n",
      "[22]\tvalid_0's l2: 1167.69\n",
      "[29]\tvalid_0's l2: 1010.3\n",
      "[97]\tvalid_0's l2: 913.991\n",
      "[81]\tvalid_0's l2: 964.95\n",
      "[93]\tvalid_0's l2: 992.934\n",
      "[23]\tvalid_0's l2: 1147.48\n",
      "[24]\tvalid_0's l2: 1132.77\n",
      "[10]\tvalid_0's l2: 1574.65\n",
      "[83]\tvalid_0's l2: 959.156\n",
      "[25]\tvalid_0's l2: 1115.56\n",
      "[82]\tvalid_0's l2: 964.203\n",
      "[87]\tvalid_0's l2: 940.35\n",
      "[98]\tvalid_0's l2: 913.336\n",
      "[26]\tvalid_0's l2: 1098.96\n",
      "[11]\tvalid_0's l2: 1498.4\n",
      "[27]\tvalid_0's l2: 1090.42\n",
      "[94]\tvalid_0's l2: 994.096\n",
      "[30]\tvalid_0's l2: 1003.68\n",
      "[83]\tvalid_0's l2: 964.708\n",
      "[28]\tvalid_0's l2: 1080.11\n",
      "[12]\tvalid_0's l2: 1442.29\n",
      "[29]\tvalid_0's l2: 1072.68\n",
      "[88]\tvalid_0's l2: 938.927\n",
      "[84]\tvalid_0's l2: 959.172\n",
      "[95]\tvalid_0's l2: 993.464\n",
      "[99]\tvalid_0's l2: 913.838\n",
      "[30]\tvalid_0's l2: 1062.63\n",
      "[84]\tvalid_0's l2: 966.343\n",
      "[13]\tvalid_0's l2: 1397.9\n",
      "[31]\tvalid_0's l2: 1048.71\n",
      "[32]\tvalid_0's l2: 1045.25\n",
      "[31]\tvalid_0's l2: 994.809\n",
      "[89]\tvalid_0's l2: 939.333\n",
      "[85]\tvalid_0's l2: 968.89\n",
      "[96]\tvalid_0's l2: 993.699\n",
      "[33]\tvalid_0's l2: 1038.96\n",
      "[14]\tvalid_0's l2: 1351.64\n"
     ]
    },
    {
     "name": "stderr",
     "output_type": "stream",
     "text": [
      "[I 2023-07-08 06:40:07,580] Trial 3 finished with value: 30.206473438944865 and parameters: {'num_leaves': 76, 'bagging_fraction': 0.6379786603543038, 'min_child_samples': 39}. Best is trial 3 with value: 30.206473438944865.\n"
     ]
    },
    {
     "name": "stdout",
     "output_type": "stream",
     "text": [
      "[100]\tvalid_0's l2: 912.431\n",
      "[85]\tvalid_0's l2: 959.684\n",
      "[34]\tvalid_0's l2: 1034.21\n",
      "[35]\tvalid_0's l2: 1024.09\n",
      "[LightGBM] [Warning] bagging_fraction is set=0.7311885513289548, subsample=1.0 will be ignored. Current value: bagging_fraction=0.7311885513289548\n",
      "[15]\tvalid_0's l2: 1306.36\n",
      "[86]\tvalid_0's l2: 970.264\n",
      "[90]\tvalid_0's l2: 938.762\n",
      "[36]\tvalid_0's l2: 1019.97\n",
      "[16]\tvalid_0's l2: 1267.82\n",
      "[32]\tvalid_0's l2: 985.933\n",
      "[87]\tvalid_0's l2: 970.197\n",
      "[37]\tvalid_0's l2: 1007.19\n",
      "[97]\tvalid_0's l2: 993.409\n",
      "[1]\tvalid_0's l2: 3044.01\n",
      "[17]\tvalid_0's l2: 1238.25\n",
      "[38]\tvalid_0's l2: 1000.1\n",
      "[86]\tvalid_0's l2: 959.143\n",
      "[2]\tvalid_0's l2: 2794.05\n",
      "[39]\tvalid_0's l2: 995.278\n",
      "[88]\tvalid_0's l2: 968.852\n",
      "[40]\tvalid_0's l2: 987.505\n",
      "[3]\tvalid_0's l2: 2549.36\n",
      "[18]\tvalid_0's l2: 1208.48\n",
      "[91]\tvalid_0's l2: 937.314\n",
      "[98]\tvalid_0's l2: 993.086\n",
      "[41]\tvalid_0's l2: 981.419\n",
      "[33]\tvalid_0's l2: 982.583\n",
      "[4]\tvalid_0's l2: 2352.58\n",
      "[42]\tvalid_0's l2: 978.516\n",
      "[19]\tvalid_0's l2: 1182.54\n",
      "[43]\tvalid_0's l2: 976.913\n",
      "[89]\tvalid_0's l2: 970.819\n",
      "[87]\tvalid_0's l2: 959.323\n",
      "[5]\tvalid_0's l2: 2173.96\n",
      "[44]\tvalid_0's l2: 973.758\n",
      "[92]\tvalid_0's l2: 937.888\n",
      "[6]\tvalid_0's l2: 2018.44\n",
      "[99]\tvalid_0's l2: 992.689\n",
      "[90]\tvalid_0's l2: 971.966\n",
      "[45]\tvalid_0's l2: 972.288\n",
      "[20]\tvalid_0's l2: 1167.27\n",
      "[7]\tvalid_0's l2: 1885.8\n",
      "[46]\tvalid_0's l2: 969.66\n",
      "[21]\tvalid_0's l2: 1149.29\n",
      "[47]\tvalid_0's l2: 968.214\n",
      "[91]\tvalid_0's l2: 972.979\n",
      "[8]\tvalid_0's l2: 1769.86\n",
      "[88]\tvalid_0's l2: 959.588\n",
      "[34]\tvalid_0's l2: 975.975\n",
      "[48]\tvalid_0's l2: 961.73\n",
      "[93]\tvalid_0's l2: 937.638\n",
      "[9]\tvalid_0's l2: 1688.32\n",
      "[22]\tvalid_0's l2: 1136.65\n",
      "[100]\tvalid_0's l2: 993.344\n"
     ]
    },
    {
     "name": "stderr",
     "output_type": "stream",
     "text": [
      "[I 2023-07-08 06:40:09,894] Trial 5 finished with value: 31.51736557080157 and parameters: {'num_leaves': 88, 'bagging_fraction': 0.20029579182252172, 'min_child_samples': 23}. Best is trial 3 with value: 30.206473438944865.\n"
     ]
    },
    {
     "name": "stdout",
     "output_type": "stream",
     "text": [
      "[49]\tvalid_0's l2: 959.048\n",
      "[LightGBM] [Warning] bagging_fraction is set=0.4630232801161457, subsample=1.0 will be ignored. Current value: bagging_fraction=0.4630232801161457\n",
      "[92]\tvalid_0's l2: 973.167\n",
      "[50]\tvalid_0's l2: 956.156\n",
      "[10]\tvalid_0's l2: 1621.3\n",
      "[51]\tvalid_0's l2: 951.006\n",
      "[11]\tvalid_0's l2: 1550.47\n",
      "[23]\tvalid_0's l2: 1123.49\n",
      "[52]\tvalid_0's l2: 947.547\n",
      "[89]\tvalid_0's l2: 960.061\n",
      "[35]\tvalid_0's l2: 973.664\n",
      "[93]\tvalid_0's l2: 973.55\n",
      "[12]\tvalid_0's l2: 1483.15\n",
      "[53]\tvalid_0's l2: 938.268\n",
      "[54]\tvalid_0's l2: 938.141\n",
      "[94]\tvalid_0's l2: 975.301\n",
      "[24]\tvalid_0's l2: 1103.68\n",
      "[94]\tvalid_0's l2: 937.635\n",
      "[1]\tvalid_0's l2: 3001.47\n",
      "[13]\tvalid_0's l2: 1433.86\n",
      "[55]\tvalid_0's l2: 937.743\n",
      "[56]\tvalid_0's l2: 935.757\n",
      "[14]\tvalid_0's l2: 1375.54\n",
      "[90]\tvalid_0's l2: 959.627\n",
      "[95]\tvalid_0's l2: 976.472\n",
      "[25]\tvalid_0's l2: 1084.41\n",
      "[36]\tvalid_0's l2: 971.813\n",
      "[57]\tvalid_0's l2: 932.465\n",
      "[15]\tvalid_0's l2: 1332.33\n",
      "[2]\tvalid_0's l2: 2699.07\n",
      "[95]\tvalid_0's l2: 938.026\n",
      "[58]\tvalid_0's l2: 933.004\n",
      "[26]\tvalid_0's l2: 1065.5\n",
      "[16]\tvalid_0's l2: 1304.3\n",
      "[59]\tvalid_0's l2: 934.279\n",
      "[17]\tvalid_0's l2: 1278.92\n",
      "[96]\tvalid_0's l2: 976.271\n",
      "[60]\tvalid_0's l2: 930.241\n",
      "[27]\tvalid_0's l2: 1054.13\n",
      "[61]\tvalid_0's l2: 929.162\n",
      "[37]\tvalid_0's l2: 968.332\n",
      "[18]\tvalid_0's l2: 1255.37\n",
      "[91]\tvalid_0's l2: 959.331\n",
      "[62]\tvalid_0's l2: 924.28\n",
      "[3]\tvalid_0's l2: 2447.12\n",
      "[19]\tvalid_0's l2: 1227.7\n",
      "[28]\tvalid_0's l2: 1040.51\n",
      "[97]\tvalid_0's l2: 978.091\n",
      "[96]\tvalid_0's l2: 938.168\n",
      "[63]\tvalid_0's l2: 924.709\n",
      "[64]\tvalid_0's l2: 925.555\n",
      "[20]\tvalid_0's l2: 1203.59\n",
      "[65]\tvalid_0's l2: 923.538\n",
      "[98]\tvalid_0's l2: 980.812\n",
      "[21]\tvalid_0's l2: 1181.49\n",
      "[29]\tvalid_0's l2: 1029.99\n",
      "[66]\tvalid_0's l2: 923.447\n",
      "[92]\tvalid_0's l2: 959.192\n",
      "[38]\tvalid_0's l2: 965.735\n",
      "[97]\tvalid_0's l2: 938.687\n",
      "[4]\tvalid_0's l2: 2226.39\n",
      "[67]\tvalid_0's l2: 920.776\n",
      "[22]\tvalid_0's l2: 1161.42\n",
      "[30]\tvalid_0's l2: 1021.88\n",
      "[99]\tvalid_0's l2: 981.301\n",
      "[68]\tvalid_0's l2: 921.462\n",
      "[23]\tvalid_0's l2: 1147.45\n",
      "[69]\tvalid_0's l2: 919.534\n",
      "[24]\tvalid_0's l2: 1126.99\n",
      "[31]\tvalid_0's l2: 1014.85\n",
      "[70]\tvalid_0's l2: 919.263\n"
     ]
    },
    {
     "name": "stderr",
     "output_type": "stream",
     "text": [
      "[I 2023-07-08 06:40:13,076] Trial 8 finished with value: 31.334820173271556 and parameters: {'num_leaves': 81, 'bagging_fraction': 0.8685169990523679, 'min_child_samples': 48}. Best is trial 3 with value: 30.206473438944865.\n"
     ]
    },
    {
     "name": "stdout",
     "output_type": "stream",
     "text": [
      "[93]\tvalid_0's l2: 958.993\n",
      "[5]\tvalid_0's l2: 2072.96\n",
      "[100]\tvalid_0's l2: 981.871\n",
      "[39]\tvalid_0's l2: 963.45\n",
      "[71]\tvalid_0's l2: 918.892\n",
      "[25]\tvalid_0's l2: 1113.32\n",
      "[LightGBM] [Warning] bagging_fraction is set=0.7086559114586328, subsample=1.0 will be ignored. Current value: bagging_fraction=0.7086559114586328\n",
      "[98]\tvalid_0's l2: 937.908\n",
      "[72]\tvalid_0's l2: 923.791\n",
      "[26]\tvalid_0's l2: 1099.58\n",
      "[32]\tvalid_0's l2: 1011.12\n",
      "[73]\tvalid_0's l2: 921.555\n",
      "[27]\tvalid_0's l2: 1086.83\n",
      "[74]\tvalid_0's l2: 921.415\n",
      "[28]\tvalid_0's l2: 1082.2\n",
      "[75]\tvalid_0's l2: 921.181\n",
      "[33]\tvalid_0's l2: 999.652\n",
      "[76]\tvalid_0's l2: 920.888\n",
      "[6]\tvalid_0's l2: 1920.57\n",
      "[29]\tvalid_0's l2: 1073.84\n",
      "[99]\tvalid_0's l2: 937.898\n",
      "[40]\tvalid_0's l2: 963.484\n",
      "[77]\tvalid_0's l2: 922.025\n",
      "[94]\tvalid_0's l2: 958.976\n",
      "[34]\tvalid_0's l2: 990.915\n",
      "[30]\tvalid_0's l2: 1058.75\n",
      "[78]\tvalid_0's l2: 921.642\n",
      "[1]\tvalid_0's l2: 3008.1\n",
      "[31]\tvalid_0's l2: 1049.68\n",
      "[79]\tvalid_0's l2: 919.451\n",
      "[35]\tvalid_0's l2: 982.745\n",
      "[7]\tvalid_0's l2: 1792.43\n",
      "[80]\tvalid_0's l2: 921.635\n",
      "[41]\tvalid_0's l2: 960.916\n",
      "[32]\tvalid_0's l2: 1041.7\n",
      "[81]\tvalid_0's l2: 923.309\n",
      "[2]\tvalid_0's l2: 2706.41\n",
      "[36]\tvalid_0's l2: 979.668\n",
      "[100]\tvalid_0's l2: 938.38\n",
      "[82]\tvalid_0's l2: 922.263\n",
      "[83]\tvalid_0's l2: 923.036\n"
     ]
    },
    {
     "name": "stderr",
     "output_type": "stream",
     "text": [
      "[I 2023-07-08 06:40:14,594] Trial 2 finished with value: 30.632992002662572 and parameters: {'num_leaves': 99, 'bagging_fraction': 0.52071338905882, 'min_child_samples': 26}. Best is trial 3 with value: 30.206473438944865.\n"
     ]
    },
    {
     "name": "stdout",
     "output_type": "stream",
     "text": [
      "[33]\tvalid_0's l2: 1027.46\n",
      "[84]\tvalid_0's l2: 921.335\n",
      "[LightGBM] [Warning] bagging_fraction is set=0.21614301280080672, subsample=1.0 will be ignored. Current value: bagging_fraction=0.21614301280080672\n",
      "[95]\tvalid_0's l2: 958.896\n",
      "[8]\tvalid_0's l2: 1678.34\n",
      "[34]\tvalid_0's l2: 1028.65\n",
      "[37]\tvalid_0's l2: 968.525\n",
      "[85]\tvalid_0's l2: 922.78\n",
      "[42]\tvalid_0's l2: 957.043\n",
      "[35]\tvalid_0's l2: 1024.93\n",
      "[86]\tvalid_0's l2: 922.68\n",
      "[1]\tvalid_0's l2: 3052.54\n",
      "[87]\tvalid_0's l2: 923.609\n",
      "[3]\tvalid_0's l2: 2453.2\n",
      "[38]\tvalid_0's l2: 967.246\n",
      "[36]\tvalid_0's l2: 1021.81\n",
      "[88]\tvalid_0's l2: 926.29\n",
      "[96]\tvalid_0's l2: 959.17\n",
      "[2]\tvalid_0's l2: 2789.49\n",
      "[89]\tvalid_0's l2: 922.292\n",
      "[37]\tvalid_0's l2: 1012.21\n",
      "[9]\tvalid_0's l2: 1574.35\n",
      "[90]\tvalid_0's l2: 922.845\n",
      "[39]\tvalid_0's l2: 963.075\n",
      "[3]\tvalid_0's l2: 2556.1\n",
      "[43]\tvalid_0's l2: 954.542\n",
      "[4]\tvalid_0's l2: 2243.07\n",
      "[38]\tvalid_0's l2: 1000.47\n",
      "[91]\tvalid_0's l2: 923.448\n",
      "[92]\tvalid_0's l2: 923.698\n",
      "[4]\tvalid_0's l2: 2362.19\n",
      "[39]\tvalid_0's l2: 994.122\n",
      "[40]\tvalid_0's l2: 959.345\n",
      "[93]\tvalid_0's l2: 926.602\n",
      "[10]\tvalid_0's l2: 1487.6\n",
      "[5]\tvalid_0's l2: 2081.64\n",
      "[5]\tvalid_0's l2: 2194.93[94]\tvalid_0's l2: 925.525\n",
      "\n",
      "[40]\tvalid_0's l2: 991.519\n",
      "[97]\tvalid_0's l2: 958.694\n",
      "[44]\tvalid_0's l2: 952.188\n",
      "[95]\tvalid_0's l2: 924.888\n",
      "[41]\tvalid_0's l2: 984.331\n",
      "[96]\tvalid_0's l2: 927.937\n",
      "[41]\tvalid_0's l2: 957.482\n",
      "[97]\tvalid_0's l2: 927.325\n",
      "[6]\tvalid_0's l2: 2046.75\n",
      "[42]\tvalid_0's l2: 984.298\n",
      "[98]\tvalid_0's l2: 926.797\n",
      "[11]\tvalid_0's l2: 1413.63\n",
      "[6]\tvalid_0's l2: 1921.23\n",
      "[43]\tvalid_0's l2: 980.64\n",
      "[7]\tvalid_0's l2: 1901.05\n",
      "[42]\tvalid_0's l2: 958.399\n",
      "[99]\tvalid_0's l2: 927.343\n"
     ]
    },
    {
     "name": "stderr",
     "output_type": "stream",
     "text": [
      "[I 2023-07-08 06:40:16,979] Trial 11 finished with value: 30.434672575350028 and parameters: {'num_leaves': 16, 'bagging_fraction': 0.5944906737185965, 'min_child_samples': 44}. Best is trial 3 with value: 30.206473438944865.\n"
     ]
    },
    {
     "name": "stdout",
     "output_type": "stream",
     "text": [
      "[98]\tvalid_0's l2: 958.647\n",
      "[45]\tvalid_0's l2: 951.831\n",
      "[44]\tvalid_0's l2: 975.781\n",
      "[8]\tvalid_0's l2: 1787.2\n",
      "[100]\tvalid_0's l2: 926.269\n",
      "[45]\tvalid_0's l2: 973.7\n",
      "[43]\tvalid_0's l2: 952.066\n",
      "[LightGBM] [Warning] bagging_fraction is set=0.6543592598475216, subsample=1.0 will be ignored. Current value: bagging_fraction=0.6543592598475216\n",
      "[9]\tvalid_0's l2: 1688\n",
      "[46]\tvalid_0's l2: 975.087\n",
      "[7]\tvalid_0's l2: 1786.23\n",
      "[10]\tvalid_0's l2: 1611.42\n",
      "[44]\tvalid_0's l2: 951.08\n",
      "[11]\tvalid_0's l2: 1556.64\n",
      "[47]\tvalid_0's l2: 975.063\n",
      "[12]\tvalid_0's l2: 1352.31\n",
      "[46]\tvalid_0's l2: 949.711\n",
      "[99]\tvalid_0's l2: 958.398\n",
      "[45]\tvalid_0's l2: 950.6\n",
      "[48]\tvalid_0's l2: 971.79\n",
      "[12]\tvalid_0's l2: 1498.32\n",
      "[49]\tvalid_0's l2: 965.833\n",
      "[8]\tvalid_0's l2: 1675.98\n",
      "[13]\tvalid_0's l2: 1457.39\n",
      "[1]\tvalid_0's l2: 3006.95\n",
      "[46]\tvalid_0's l2: 946.977\n",
      "[50]\tvalid_0's l2: 964.839\n",
      "[13]\tvalid_0's l2: 1307.81\n",
      "[14]\tvalid_0's l2: 1412.7\n",
      "[100]\tvalid_0's l2: 958.674\n",
      "[51]\tvalid_0's l2: 964.095\n",
      "[47]\tvalid_0's l2: 950.306\n"
     ]
    },
    {
     "name": "stderr",
     "output_type": "stream",
     "text": [
      "[I 2023-07-08 06:40:18,283] Trial 6 finished with value: 30.962462538310447 and parameters: {'num_leaves': 82, 'bagging_fraction': 0.6132546632469269, 'min_child_samples': 3}. Best is trial 3 with value: 30.206473438944865.\n"
     ]
    },
    {
     "name": "stdout",
     "output_type": "stream",
     "text": [
      "[15]\tvalid_0's l2: 1373.89\n",
      "[47]\tvalid_0's l2: 947.78\n",
      "[52]\tvalid_0's l2: 964.191\n",
      "[LightGBM] [Warning] bagging_fraction is set=0.9739826425281648, subsample=1.0 will be ignored. Current value: bagging_fraction=0.9739826425281648\n",
      "[9]\tvalid_0's l2: 1591.26\n",
      "[16]\tvalid_0's l2: 1333.28[2]\tvalid_0's l2: 2723.66\n",
      "\n",
      "[14]\tvalid_0's l2: 1255.98\n",
      "[53]\tvalid_0's l2: 961.316\n",
      "[48]\tvalid_0's l2: 948.629\n",
      "[48]\tvalid_0's l2: 947.11\n",
      "[17]\tvalid_0's l2: 1295.87\n",
      "[54]\tvalid_0's l2: 962.714\n",
      "[18]\tvalid_0's l2: 1269.06\n",
      "[55]\tvalid_0's l2: 959.915\n",
      "[3]\tvalid_0's l2: 2490.41\n",
      "[10]\tvalid_0's l2: 1508.19\n",
      "[49]\tvalid_0's l2: 947.631\n",
      "[1]\tvalid_0's l2: 3015.17\n",
      "[15]\tvalid_0's l2: 1216.76\n",
      "[56]\tvalid_0's l2: 957.1\n",
      "[19]\tvalid_0's l2: 1239.2\n",
      "[57]\tvalid_0's l2: 955.822\n",
      "[20]\tvalid_0's l2: 1212.6\n",
      "[50]\tvalid_0's l2: 946.549\n",
      "[49]\tvalid_0's l2: 946.42\n",
      "[2]\tvalid_0's l2: 2705.44\n",
      "[11]\tvalid_0's l2: 1443.09\n",
      "[58]\tvalid_0's l2: 957.164\n",
      "[21]\tvalid_0's l2: 1192.8\n",
      "[4]\tvalid_0's l2: 2279.29\n",
      "[59]\tvalid_0's l2: 957.938\n",
      "[51]\tvalid_0's l2: 947.024\n",
      "[16]\tvalid_0's l2: 1188.41\n",
      "[22]\tvalid_0's l2: 1167.21\n",
      "[60]\tvalid_0's l2: 959.919\n",
      "[3]\tvalid_0's l2: 2451.11\n",
      "[50]\tvalid_0's l2: 942.201\n",
      "[23]\tvalid_0's l2: 1140.52\n",
      "[52]\tvalid_0's l2: 945.616\n",
      "[61]\tvalid_0's l2: 960.142\n",
      "[12]\tvalid_0's l2: 1378.96\n",
      "[5]\tvalid_0's l2: 2118.61\n",
      "[62]\tvalid_0's l2: 958.774\n",
      "[24]\tvalid_0's l2: 1129.66\n",
      "[17]\tvalid_0's l2: 1160.76\n",
      "[53]\tvalid_0's l2: 945.57\n",
      "[63]\tvalid_0's l2: 956.426\n",
      "[4]\tvalid_0's l2: 2241.14\n",
      "[25]\tvalid_0's l2: 1115.92\n",
      "[64]\tvalid_0's l2: 956.623\n",
      "[54]\tvalid_0's l2: 942.701\n",
      "[51]\tvalid_0's l2: 942.628\n",
      "[26]\tvalid_0's l2: 1102.37\n",
      "[13]\tvalid_0's l2: 1329.14\n",
      "[65]\tvalid_0's l2: 956.788\n",
      "[27]\tvalid_0's l2: 1087.39\n",
      "[18]\tvalid_0's l2: 1140.66\n",
      "[55]\tvalid_0's l2: 945.092\n",
      "[6]\tvalid_0's l2: 1965.6\n",
      "[66]\tvalid_0's l2: 951.845\n",
      "[5]\tvalid_0's l2: 2082.28\n",
      "[28]\tvalid_0's l2: 1077.17\n",
      "[67]\tvalid_0's l2: 951.161\n",
      "[7]\tvalid_0's l2: 1841.64\n",
      "[52]\tvalid_0's l2: 941.777\n",
      "[56]\tvalid_0's l2: 944.248\n",
      "[14]\tvalid_0's l2: 1282.65\n",
      "[68]\tvalid_0's l2: 952.476\n",
      "[29]\tvalid_0's l2: 1069.21\n",
      "[57]\tvalid_0's l2: 943.4\n",
      "[69]\tvalid_0's l2: 953.879\n",
      "[19]\tvalid_0's l2: 1117\n",
      "[6]\tvalid_0's l2: 1920.43\n",
      "[30]\tvalid_0's l2: 1064.07\n",
      "[15]\tvalid_0's l2: 1237.26\n",
      "[70]\tvalid_0's l2: 953.612\n",
      "[53]\tvalid_0's l2: 941.718\n",
      "[8]\tvalid_0's l2: 1730.3\n",
      "[31]\tvalid_0's l2: 1052.79\n",
      "[58]\tvalid_0's l2: 941.428\n",
      "[71]\tvalid_0's l2: 953.006\n",
      "[32]\tvalid_0's l2: 1047.69\n",
      "[7]\tvalid_0's l2: 1793.56\n",
      "[72]\tvalid_0's l2: 950.618\n",
      "[20]\tvalid_0's l2: 1100.43\n",
      "[59]\tvalid_0's l2: 941.377\n",
      "[33]\tvalid_0's l2: 1037.81\n",
      "[73]\tvalid_0's l2: 950.455\n",
      "[9]\tvalid_0's l2: 1640.45\n",
      "[16]\tvalid_0's l2: 1208.87\n",
      "[54]\tvalid_0's l2: 941.465\n",
      "[74]\tvalid_0's l2: 948.753\n",
      "[34]\tvalid_0's l2: 1032.1\n",
      "[60]\tvalid_0's l2: 939.345\n",
      "[8]\tvalid_0's l2: 1669.27\n",
      "[75]\tvalid_0's l2: 948.674\n",
      "[35]\tvalid_0's l2: 1027.75[76]\tvalid_0's l2: 949.536\n",
      "\n",
      "[36]\tvalid_0's l2: 1016.27\n",
      "[17]\tvalid_0's l2: 1175.65\n",
      "[21]\tvalid_0's l2: 1084.59\n",
      "[37]\tvalid_0's l2: 1012.64\n",
      "[10]\tvalid_0's l2: 1552.83\n",
      "[77]\tvalid_0's l2: 949.946\n",
      "[55]\tvalid_0's l2: 940.613[61]\tvalid_0's l2: 939.672\n",
      "\n",
      "[38]\tvalid_0's l2: 1011.65\n",
      "[78]\tvalid_0's l2: 948.747\n",
      "[9]\tvalid_0's l2: 1579.47\n",
      "[39]\tvalid_0's l2: 1003.91\n",
      "[79]\tvalid_0's l2: 948.911\n",
      "[62]\tvalid_0's l2: 940.5\n",
      "[18]\tvalid_0's l2: 1146.21\n",
      "[40]\tvalid_0's l2: 1003.83\n",
      "[80]\tvalid_0's l2: 948.041\n",
      "[22]\tvalid_0's l2: 1069.58\n",
      "[11]\tvalid_0's l2: 1482.74\n",
      "[56]\tvalid_0's l2: 938.177\n",
      "[63]\tvalid_0's l2: 936.102\n",
      "[41]\tvalid_0's l2: 998.357\n",
      "[10]\tvalid_0's l2: 1486.42\n",
      "[81]\tvalid_0's l2: 945.57\n",
      "[42]\tvalid_0's l2: 996.272\n",
      "[82]\tvalid_0's l2: 944.632\n",
      "[19]\tvalid_0's l2: 1133.81\n",
      "[64]\tvalid_0's l2: 935.025\n",
      "[83]\tvalid_0's l2: 943.968\n",
      "[43]\tvalid_0's l2: 998.157\n",
      "[11]\tvalid_0's l2: 1425.43\n",
      "[84]\tvalid_0's l2: 945.3\n",
      "[65]\tvalid_0's l2: 933.61\n",
      "[12]\tvalid_0's l2: 1422.37\n",
      "[23]\tvalid_0's l2: 1052.38\n",
      "[85]\tvalid_0's l2: 944.543\n",
      "[44]\tvalid_0's l2: 992.408\n",
      "[57]\tvalid_0's l2: 938.052\n",
      "[45]\tvalid_0's l2: 985.389\n",
      "[12]\tvalid_0's l2: 1372.26\n",
      "[66]\tvalid_0's l2: 931.745\n",
      "[86]\tvalid_0's l2: 942.083\n",
      "[20]\tvalid_0's l2: 1113.45\n",
      "[46]\tvalid_0's l2: 982.585\n",
      "[87]\tvalid_0's l2: 941.05\n",
      "[24]\tvalid_0's l2: 1041.08\n",
      "[13]\tvalid_0's l2: 1372.94\n",
      "[88]\tvalid_0's l2: 940.448\n",
      "[47]\tvalid_0's l2: 979.092\n",
      "[67]\tvalid_0's l2: 929.838\n",
      "[58]\tvalid_0's l2: 937.826\n",
      "[89]\tvalid_0's l2: 939.258\n",
      "[13]\tvalid_0's l2: 1324.83\n",
      "[48]\tvalid_0's l2: 977.096\n",
      "[90]\tvalid_0's l2: 940.066\n",
      "[21]\tvalid_0's l2: 1089.82\n",
      "[49]\tvalid_0's l2: 969.75\n",
      "[68]\tvalid_0's l2: 929.532[91]\tvalid_0's l2: 940.62\n",
      "\n",
      "[25]\tvalid_0's l2: 1022.29\n",
      "[92]\tvalid_0's l2: 938.883\n",
      "[50]\tvalid_0's l2: 971.036\n",
      "[14]\tvalid_0's l2: 1326.09\n",
      "[93]\tvalid_0's l2: 938.373\n",
      "[14]\tvalid_0's l2: 1281.76\n",
      "[69]\tvalid_0's l2: 932.524\n",
      "[51]\tvalid_0's l2: 970.338\n",
      "[22]\tvalid_0's l2: 1072.94\n",
      "[94]\tvalid_0's l2: 939.365\n",
      "[59]\tvalid_0's l2: 935.748\n",
      "[95]\tvalid_0's l2: 940.045\n",
      "[26]\tvalid_0's l2: 1014.83\n",
      "[70]\tvalid_0's l2: 931.31\n",
      "[52]\tvalid_0's l2: 969.054\n",
      "[15]\tvalid_0's l2: 1243.65\n",
      "[96]\tvalid_0's l2: 940.081\n",
      "[53]\tvalid_0's l2: 968.232\n",
      "[97]\tvalid_0's l2: 940.362\n",
      "[15]\tvalid_0's l2: 1283.19\n",
      "[54]\tvalid_0's l2: 967.431\n",
      "[60]\tvalid_0's l2: 937.983\n",
      "[71]\tvalid_0's l2: 931.726\n",
      "[16]\tvalid_0's l2: 1209.95\n",
      "[98]\tvalid_0's l2: 942.46\n",
      "[23]\tvalid_0's l2: 1061.41\n",
      "[55]\tvalid_0's l2: 965.425\n",
      "[99]\tvalid_0's l2: 942.048\n",
      "[27]\tvalid_0's l2: 1006.9\n",
      "[100]\tvalid_0's l2: 942.995\n",
      "[72]\tvalid_0's l2: 930.973\n",
      "[56]\tvalid_0's l2: 963.654\n"
     ]
    },
    {
     "name": "stderr",
     "output_type": "stream",
     "text": [
      "[I 2023-07-08 06:40:27,089] Trial 12 finished with value: 30.708222875108596 and parameters: {'num_leaves': 22, 'bagging_fraction': 0.7311885513289548, 'min_child_samples': 38}. Best is trial 3 with value: 30.206473438944865.\n"
     ]
    },
    {
     "name": "stdout",
     "output_type": "stream",
     "text": [
      "[LightGBM] [Warning] bagging_fraction is set=0.9302331991556787, subsample=1.0 will be ignored. Current value: bagging_fraction=0.9302331991556787\n",
      "[24]\tvalid_0's l2: 1047.74\n",
      "[17]\tvalid_0's l2: 1185.04\n",
      "[57]\tvalid_0's l2: 964.21\n",
      "[16]\tvalid_0's l2: 1249.45\n",
      "[58]\tvalid_0's l2: 954.941\n",
      "[73]\tvalid_0's l2: 932.256\n",
      "[61]\tvalid_0's l2: 937.969\n",
      "[59]\tvalid_0's l2: 956.647\n",
      "[28]\tvalid_0's l2: 999.013\n",
      "[25]\tvalid_0's l2: 1036.84\n",
      "[60]\tvalid_0's l2: 954.981\n",
      "[18]\tvalid_0's l2: 1165.7\n",
      "[74]\tvalid_0's l2: 932.204\n",
      "[1]\tvalid_0's l2: 3012.01\n",
      "[61]\tvalid_0's l2: 953.761\n",
      "[62]\tvalid_0's l2: 951.951\n",
      "[17]\tvalid_0's l2: 1218.03\n",
      "[62]\tvalid_0's l2: 937.228\n",
      "[26]\tvalid_0's l2: 1031\n",
      "[75]\tvalid_0's l2: 932.195\n",
      "[29]\tvalid_0's l2: 987.268\n",
      "[63]\tvalid_0's l2: 950.886\n",
      "[19]\tvalid_0's l2: 1141.26\n",
      "[2]\tvalid_0's l2: 2733.17\n",
      "[64]\tvalid_0's l2: 949.372\n",
      "[76]\tvalid_0's l2: 932.23\n",
      "[18]\tvalid_0's l2: 1189.07\n",
      "[65]\tvalid_0's l2: 949.921\n",
      "[77]\tvalid_0's l2: 932.95\n",
      "[20]\tvalid_0's l2: 1121.65\n",
      "[63]\tvalid_0's l2: 937.226\n",
      "[3]\tvalid_0's l2: 2475.2\n",
      "[30]\tvalid_0's l2: 982.282\n",
      "[66]\tvalid_0's l2: 949.795\n",
      "[27]\tvalid_0's l2: 1020.55\n",
      "[67]\tvalid_0's l2: 953.36\n",
      "[78]\tvalid_0's l2: 931.042\n",
      "[4]\tvalid_0's l2: 2263.18\n",
      "[68]\tvalid_0's l2: 952.516\n",
      "[19]\tvalid_0's l2: 1166.98\n",
      "[31]\tvalid_0's l2: 978.319\n",
      "[21]\tvalid_0's l2: 1104.52\n",
      "[28]\tvalid_0's l2: 1011.1\n",
      "[69]\tvalid_0's l2: 950.126\n",
      "[79]\tvalid_0's l2: 930.794\n",
      "[64]\tvalid_0's l2: 936.26\n",
      "[5]\tvalid_0's l2: 2089.6\n",
      "[70]\tvalid_0's l2: 948.324\n",
      "[22]\tvalid_0's l2: 1088.06\n",
      "[80]\tvalid_0's l2: 930.515\n",
      "[71]\tvalid_0's l2: 947.644\n",
      "[20]\tvalid_0's l2: 1147.74\n",
      "[65]\tvalid_0's l2: 937.653\n",
      "[32]\tvalid_0's l2: 973.765\n",
      "[72]\tvalid_0's l2: 947.792\n",
      "[29]\tvalid_0's l2: 1004.28\n",
      "[6]\tvalid_0's l2: 1923.74\n",
      "[81]\tvalid_0's l2: 931.527\n",
      "[73]\tvalid_0's l2: 949.035\n",
      "[23]\tvalid_0's l2: 1068.67\n",
      "[74]\tvalid_0's l2: 949.347\n",
      "[66]\tvalid_0's l2: 937.376\n",
      "[33]\tvalid_0's l2: 968.869\n",
      "[75]\tvalid_0's l2: 949.521\n",
      "[7]\tvalid_0's l2: 1794.83\n",
      "[21]\tvalid_0's l2: 1136.39\n",
      "[82]\tvalid_0's l2: 929.815\n",
      "[30]\tvalid_0's l2: 1000.55\n",
      "[24]\tvalid_0's l2: 1051.54\n",
      "[76]\tvalid_0's l2: 947.759\n",
      "[8]\tvalid_0's l2: 1704.77\n",
      "[83]\tvalid_0's l2: 930.228\n",
      "[67]\tvalid_0's l2: 935.905\n",
      "[31]\tvalid_0's l2: 994.739\n",
      "[77]\tvalid_0's l2: 948.167\n",
      "[78]\tvalid_0's l2: 949.694\n",
      "[34]\tvalid_0's l2: 968.107\n",
      "[25]\tvalid_0's l2: 1041.55\n",
      "[22]\tvalid_0's l2: 1115.53\n",
      "[79]\tvalid_0's l2: 949.708\n",
      "[84]\tvalid_0's l2: 930.264\n",
      "[9]\tvalid_0's l2: 1597.94\n",
      "[80]\tvalid_0's l2: 947.854\n",
      "[81]\tvalid_0's l2: 949.109[32]\tvalid_0's l2: 988.736\n",
      "\n",
      "[68]\tvalid_0's l2: 935.56\n",
      "[85]\tvalid_0's l2: 930.088\n",
      "[10]\tvalid_0's l2: 1516.28\n",
      "[82]\tvalid_0's l2: 948.494\n",
      "[26]\tvalid_0's l2: 1035.06\n",
      "[35]\tvalid_0's l2: 964.635\n",
      "[23]\tvalid_0's l2: 1100.02\n",
      "[83]\tvalid_0's l2: 946.453\n",
      "[86]\tvalid_0's l2: 931.332\n",
      "[27]\tvalid_0's l2: 1021.59\n",
      "[11]\tvalid_0's l2: 1445.71\n",
      "[33]\tvalid_0's l2: 983.246\n",
      "[84]\tvalid_0's l2: 947.218\n",
      "[85]\tvalid_0's l2: 947.12\n",
      "[36]\tvalid_0's l2: 964.095\n",
      "[69]\tvalid_0's l2: 934.662\n",
      "[87]\tvalid_0's l2: 931.122\n",
      "[86]\tvalid_0's l2: 947.769\n",
      "[24]\tvalid_0's l2: 1084.15\n",
      "[28]\tvalid_0's l2: 1011.24\n",
      "[12]\tvalid_0's l2: 1384.99\n",
      "[34]\tvalid_0's l2: 977.026\n",
      "[87]\tvalid_0's l2: 947.596\n",
      "[88]\tvalid_0's l2: 932.11\n",
      "[88]\tvalid_0's l2: 947.561\n",
      "[89]\tvalid_0's l2: 931.776\n",
      "[70]\tvalid_0's l2: 934.773\n",
      "[37]\tvalid_0's l2: 961.339\n",
      "[13]\tvalid_0's l2: 1335.46\n",
      "[89]\tvalid_0's l2: 947.248\n",
      "[29]\tvalid_0's l2: 1004.98\n",
      "[25]\tvalid_0's l2: 1071.3\n",
      "[90]\tvalid_0's l2: 948.031\n",
      "[90]\tvalid_0's l2: 931.319\n",
      "[35]\tvalid_0's l2: 977.094\n",
      "[14]\tvalid_0's l2: 1288.8\n",
      "[91]\tvalid_0's l2: 947.769\n",
      "[30]\tvalid_0's l2: 998.199\n",
      "[38]\tvalid_0's l2: 960.585\n",
      "[71]\tvalid_0's l2: 933.553\n",
      "[91]\tvalid_0's l2: 931.149\n",
      "[92]\tvalid_0's l2: 947.58\n",
      "[15]\tvalid_0's l2: 1250.64\n",
      "[26]\tvalid_0's l2: 1060.64\n",
      "[93]\tvalid_0's l2: 947.39\n",
      "[92]\tvalid_0's l2: 931.519\n",
      "[36]\tvalid_0's l2: 972.685\n",
      "[31]\tvalid_0's l2: 990.943\n",
      "[94]\tvalid_0's l2: 947.088\n",
      "[16]\tvalid_0's l2: 1216.53\n",
      "[95]\tvalid_0's l2: 945.58\n",
      "[39]\tvalid_0's l2: 953.816\n",
      "[32]\tvalid_0's l2: 984.998\n",
      "[37]\tvalid_0's l2: 968.776\n",
      "[93]\tvalid_0's l2: 931.39\n",
      "[96]\tvalid_0's l2: 945.632\n",
      "[72]\tvalid_0's l2: 934.699\n",
      "[27]\tvalid_0's l2: 1051\n",
      "[17]\tvalid_0's l2: 1195.25\n",
      "[97]\tvalid_0's l2: 946.157\n",
      "[98]\tvalid_0's l2: 944.826\n",
      "[40]\tvalid_0's l2: 951.724\n",
      "[18]\tvalid_0's l2: 1174.82\n",
      "[94]\tvalid_0's l2: 932.867\n",
      "[33]\tvalid_0's l2: 980.317\n",
      "[99]\tvalid_0's l2: 940.852\n",
      "[28]\tvalid_0's l2: 1041.59\n",
      "[38]\tvalid_0's l2: 968.659\n"
     ]
    },
    {
     "name": "stderr",
     "output_type": "stream",
     "text": [
      "[I 2023-07-08 06:40:34,895] Trial 15 finished with value: 30.698330266551324 and parameters: {'num_leaves': 17, 'bagging_fraction': 0.21614301280080672, 'min_child_samples': 7}. Best is trial 3 with value: 30.206473438944865.\n"
     ]
    },
    {
     "name": "stdout",
     "output_type": "stream",
     "text": [
      "[100]\tvalid_0's l2: 942.387\n",
      "[95]\tvalid_0's l2: 931.501\n",
      "[19]\tvalid_0's l2: 1150.01\n",
      "[73]\tvalid_0's l2: 935.088\n",
      "[41]\tvalid_0's l2: 950.57\n",
      "[LightGBM] [Warning] bagging_fraction is set=0.7269166820324879, subsample=1.0 will be ignored. Current value: bagging_fraction=0.7269166820324879\n",
      "[34]\tvalid_0's l2: 974.383\n",
      "[96]\tvalid_0's l2: 931.17\n",
      "[29]\tvalid_0's l2: 1035.1\n",
      "[20]\tvalid_0's l2: 1132.46\n",
      "[39]\tvalid_0's l2: 964.118\n",
      "[1]\tvalid_0's l2: 3014.45\n",
      "[74]\tvalid_0's l2: 935.207\n",
      "[97]\tvalid_0's l2: 933.056\n",
      "[35]\tvalid_0's l2: 970.312\n",
      "[42]\tvalid_0's l2: 948.136\n",
      "[21]\tvalid_0's l2: 1119.97\n",
      "[30]\tvalid_0's l2: 1032.13\n",
      "[98]\tvalid_0's l2: 933.533\n",
      "[2]\tvalid_0's l2: 2716.16\n",
      "[40]\tvalid_0's l2: 960.89\n",
      "[22]\tvalid_0's l2: 1101.66\n",
      "[75]\tvalid_0's l2: 936.862\n",
      "[99]\tvalid_0's l2: 932.051\n",
      "[36]\tvalid_0's l2: 964.86\n",
      "[43]\tvalid_0's l2: 945.043\n",
      "[31]\tvalid_0's l2: 1023.89\n",
      "[100]\tvalid_0's l2: 931.824\n",
      "[23]\tvalid_0's l2: 1086.66\n",
      "[3]\tvalid_0's l2: 2464.51\n"
     ]
    },
    {
     "name": "stderr",
     "output_type": "stream",
     "text": [
      "[I 2023-07-08 06:40:36,595] Trial 10 finished with value: 30.525793454087403 and parameters: {'num_leaves': 45, 'bagging_fraction': 0.26164196511147186, 'min_child_samples': 40}. Best is trial 3 with value: 30.206473438944865.\n"
     ]
    },
    {
     "name": "stdout",
     "output_type": "stream",
     "text": [
      "[LightGBM] [Warning] bagging_fraction is set=0.9529945505127998, subsample=1.0 will be ignored. Current value: bagging_fraction=0.9529945505127998\n",
      "[41]\tvalid_0's l2: 955.899\n",
      "[37]\tvalid_0's l2: 964.056\n",
      "[76]\tvalid_0's l2: 936.147\n",
      "[24]\tvalid_0's l2: 1074.77\n",
      "[44]\tvalid_0's l2: 943.294\n",
      "[4]\tvalid_0's l2: 2256.42\n",
      "[32]\tvalid_0's l2: 1010.67\n",
      "[38]\tvalid_0's l2: 963.825\n",
      "[25]\tvalid_0's l2: 1063.28\n",
      "[42]\tvalid_0's l2: 954.641\n",
      "[5]\tvalid_0's l2: 2076.39\n",
      "[1]\tvalid_0's l2: 3012.88\n",
      "[77]\tvalid_0's l2: 935.606\n",
      "[45]\tvalid_0's l2: 939.539\n",
      "[26]\tvalid_0's l2: 1045.94\n",
      "[39]\tvalid_0's l2: 957.179\n",
      "[6]\tvalid_0's l2: 1925.61\n",
      "[43]\tvalid_0's l2: 951.53\n",
      "[2]\tvalid_0's l2: 2715.89\n",
      "[33]\tvalid_0's l2: 1007.72\n",
      "[78]\tvalid_0's l2: 935.093\n",
      "[27]\tvalid_0's l2: 1034.67\n",
      "[7]\tvalid_0's l2: 1804.16\n",
      "[46]\tvalid_0's l2: 938.222\n",
      "[40]\tvalid_0's l2: 956.6\n",
      "[3]\tvalid_0's l2: 2462.33\n",
      "[44]\tvalid_0's l2: 951.585\n",
      "[28]\tvalid_0's l2: 1029.69\n",
      "[34]\tvalid_0's l2: 1003.32\n",
      "[8]\tvalid_0's l2: 1693.84\n",
      "[79]\tvalid_0's l2: 935.72\n",
      "[4]\tvalid_0's l2: 2253.97\n",
      "[41]\tvalid_0's l2: 953.442\n",
      "[29]\tvalid_0's l2: 1016.73\n",
      "[45]\tvalid_0's l2: 952.229\n",
      "[35]\tvalid_0's l2: 993.074\n",
      "[47]\tvalid_0's l2: 937.351\n",
      "[9]\tvalid_0's l2: 1608.69\n",
      "[30]\tvalid_0's l2: 1012.07\n",
      "[5]\tvalid_0's l2: 2079.77\n",
      "[46]\tvalid_0's l2: 952.943\n",
      "[42]\tvalid_0's l2: 950.265\n",
      "[80]\tvalid_0's l2: 937.509\n",
      "[10]\tvalid_0's l2: 1531.2\n",
      "[31]\tvalid_0's l2: 1002.35\n",
      "[48]\tvalid_0's l2: 934.422\n",
      "[36]\tvalid_0's l2: 984.519\n",
      "[32]\tvalid_0's l2: 991.538\n",
      "[6]\tvalid_0's l2: 1932.54\n",
      "[43]\tvalid_0's l2: 948.895\n",
      "[11]\tvalid_0's l2: 1466.5\n",
      "[47]\tvalid_0's l2: 947.837\n",
      "[81]\tvalid_0's l2: 936.975\n",
      "[7]\tvalid_0's l2: 1814.26\n",
      "[33]\tvalid_0's l2: 985.222\n",
      "[49]\tvalid_0's l2: 932.764\n",
      "[37]\tvalid_0's l2: 979.796\n",
      "[44]\tvalid_0's l2: 948.112\n",
      "[12]\tvalid_0's l2: 1405.07\n",
      "[48]\tvalid_0's l2: 947.388\n",
      "[34]\tvalid_0's l2: 981.615\n",
      "[82]\tvalid_0's l2: 936.31\n",
      "[8]\tvalid_0's l2: 1694.53\n",
      "[13]\tvalid_0's l2: 1350.46\n",
      "[50]\tvalid_0's l2: 931.625\n",
      "[45]\tvalid_0's l2: 945.366\n",
      "[35]\tvalid_0's l2: 974.694\n",
      "[9]\tvalid_0's l2: 1613.72\n",
      "[38]\tvalid_0's l2: 975.407\n",
      "[83]\tvalid_0's l2: 935.862\n",
      "[49]\tvalid_0's l2: 946.085\n",
      "[14]\tvalid_0's l2: 1311.78\n",
      "[36]\tvalid_0's l2: 971.054\n",
      "[46]\tvalid_0's l2: 946.703\n",
      "[51]\tvalid_0's l2: 932.407\n",
      "[10]\tvalid_0's l2: 1541.71[15]\tvalid_0's l2: 1268.09\n",
      "\n",
      "[50]\tvalid_0's l2: 945.589\n",
      "[37]\tvalid_0's l2: 965.109\n",
      "[39]\tvalid_0's l2: 972.765\n",
      "[84]\tvalid_0's l2: 935.849\n",
      "[47]\tvalid_0's l2: 944.724\n",
      "[16]\tvalid_0's l2: 1237.29\n",
      "[52]\tvalid_0's l2: 929.925\n",
      "[11]\tvalid_0's l2: 1474.93\n",
      "[51]\tvalid_0's l2: 944.674\n",
      "[38]\tvalid_0's l2: 961.88\n",
      "[40]\tvalid_0's l2: 968.855\n",
      "[48]\tvalid_0's l2: 941.345\n",
      "[85]\tvalid_0's l2: 936.225\n",
      "[17]\tvalid_0's l2: 1208.71\n",
      "[39]\tvalid_0's l2: 951.892\n",
      "[12]\tvalid_0's l2: 1426.22\n",
      "[53]\tvalid_0's l2: 929.216\n",
      "[52]\tvalid_0's l2: 941.645\n",
      "[40]\tvalid_0's l2: 948.025\n",
      "[49]\tvalid_0's l2: 939.337[18]\tvalid_0's l2: 1191.3\n",
      "\n",
      "[41]\tvalid_0's l2: 965.772\n",
      "[13]\tvalid_0's l2: 1378.29\n",
      "[41]\tvalid_0's l2: 945.02\n",
      "[86]\tvalid_0's l2: 935.992\n",
      "[54]\tvalid_0's l2: 925.893\n",
      "[53]\tvalid_0's l2: 941.028\n",
      "[19]\tvalid_0's l2: 1161.12\n",
      "[50]\tvalid_0's l2: 938.702\n",
      "[14]\tvalid_0's l2: 1340.93\n",
      "[42]\tvalid_0's l2: 961.914\n",
      "[42]\tvalid_0's l2: 937.307\n",
      "[20]\tvalid_0's l2: 1146.01\n",
      "[55]\tvalid_0's l2: 926.308\n",
      "[54]\tvalid_0's l2: 940.186\n",
      "[51]\tvalid_0's l2: 935.039\n",
      "[43]\tvalid_0's l2: 940.251\n",
      "[15]\tvalid_0's l2: 1305.65\n",
      "[87]\tvalid_0's l2: 936.062\n",
      "[21]\tvalid_0's l2: 1132.1\n",
      "[43]\tvalid_0's l2: 960.455\n",
      "[44]\tvalid_0's l2: 937.404\n",
      "[55]\tvalid_0's l2: 937.047\n",
      "[16]\tvalid_0's l2: 1271.66\n",
      "[52]\tvalid_0's l2: 932.723\n",
      "[56]\tvalid_0's l2: 923.944[22]\tvalid_0's l2: 1112.42\n",
      "\n",
      "[88]\tvalid_0's l2: 935.089\n",
      "[45]\tvalid_0's l2: 938.234\n",
      "[17]\tvalid_0's l2: 1245.19\n",
      "[23]\tvalid_0's l2: 1102.35\n",
      "[56]\tvalid_0's l2: 935.846\n",
      "[53]\tvalid_0's l2: 933.117\n",
      "[44]\tvalid_0's l2: 959.256\n",
      "[89]\tvalid_0's l2: 934.404\n",
      "[57]\tvalid_0's l2: 921.54\n",
      "[18]\tvalid_0's l2: 1217.84\n",
      "[46]\tvalid_0's l2: 934.989\n",
      "[24]\tvalid_0's l2: 1085.65\n",
      "[54]\tvalid_0's l2: 934.661\n",
      "[57]\tvalid_0's l2: 934.948\n",
      "[45]\tvalid_0's l2: 961.49\n",
      "[47]\tvalid_0's l2: 931.947\n",
      "[58]\tvalid_0's l2: 920.377\n",
      "[19]\tvalid_0's l2: 1199.73\n",
      "[25]\tvalid_0's l2: 1074.43\n",
      "[90]\tvalid_0's l2: 934.28\n",
      "[55]\tvalid_0's l2: 935.615\n",
      "[58]\tvalid_0's l2: 935.587\n",
      "[48]\tvalid_0's l2: 932.304\n",
      "[46]\tvalid_0's l2: 958.474\n",
      "[59]\tvalid_0's l2: 919.052\n",
      "[26]\tvalid_0's l2: 1063.09\n",
      "[56]\tvalid_0's l2: 935.378\n",
      "[20]\tvalid_0's l2: 1180.72\n",
      "[49]\tvalid_0's l2: 929.162\n",
      "[91]\tvalid_0's l2: 934.676\n",
      "[59]\tvalid_0's l2: 934.815\n",
      "[57]\tvalid_0's l2: 932.89\n",
      "[27]\tvalid_0's l2: 1053.1\n",
      "[21]\tvalid_0's l2: 1157.91\n",
      "[47]\tvalid_0's l2: 956.073\n",
      "[50]\tvalid_0's l2: 927.417\n",
      "[60]\tvalid_0's l2: 916.979\n",
      "[28]\tvalid_0's l2: 1047.13\n",
      "[58]\tvalid_0's l2: 932.761\n",
      "[60]\tvalid_0's l2: 934.52\n",
      "[22]\tvalid_0's l2: 1132.03\n",
      "[51]\tvalid_0's l2: 924.322\n",
      "[92]\tvalid_0's l2: 934.671\n",
      "[29]\tvalid_0's l2: 1038.65\n",
      "[48]\tvalid_0's l2: 956.299\n",
      "[61]\tvalid_0's l2: 916.348\n",
      "[59]\tvalid_0's l2: 932.964\n",
      "[52]\tvalid_0's l2: 924.154\n",
      "[61]\tvalid_0's l2: 933.762\n",
      "[23]\tvalid_0's l2: 1114.92\n",
      "[30]\tvalid_0's l2: 1023.74\n",
      "[93]\tvalid_0's l2: 934.253\n",
      "[60]\tvalid_0's l2: 932.703\n",
      "[53]\tvalid_0's l2: 923.544\n",
      "[62]\tvalid_0's l2: 932.692\n",
      "[31]\tvalid_0's l2: 1017.17\n",
      "[24]\tvalid_0's l2: 1095.19\n",
      "[49]\tvalid_0's l2: 954.264[62]\tvalid_0's l2: 916.882\n",
      "\n",
      "[94]\tvalid_0's l2: 933.755\n",
      "[54]\tvalid_0's l2: 922.998\n",
      "[61]\tvalid_0's l2: 930.057\n",
      "[63]\tvalid_0's l2: 930.516\n",
      "[32]\tvalid_0's l2: 1008.35\n",
      "[25]\tvalid_0's l2: 1084\n",
      "[63]\tvalid_0's l2: 917.771\n",
      "[50]\tvalid_0's l2: 950.036\n",
      "[55]\tvalid_0's l2: 922.017\n",
      "[33]\tvalid_0's l2: 1001.18\n",
      "[62]\tvalid_0's l2: 930.381\n",
      "[64]\tvalid_0's l2: 930.995\n",
      "[95]\tvalid_0's l2: 933.882\n",
      "[26]\tvalid_0's l2: 1072.7\n",
      "[34]\tvalid_0's l2: 998.911\n",
      "[56]\tvalid_0's l2: 920.819\n",
      "[63]\tvalid_0's l2: 929.541\n",
      "[64]\tvalid_0's l2: 916.824\n",
      "[51]\tvalid_0's l2: 948.265\n",
      "[65]\tvalid_0's l2: 932.01\n",
      "[27]\tvalid_0's l2: 1067.89\n",
      "[35]\tvalid_0's l2: 993.231\n",
      "[57]\tvalid_0's l2: 920.174\n",
      "[96]\tvalid_0's l2: 933.793\n",
      "[64]\tvalid_0's l2: 929.068\n",
      "[66]\tvalid_0's l2: 932.679\n",
      "[36]\tvalid_0's l2: 988.067\n",
      "[65]\tvalid_0's l2: 916.779\n",
      "[52]\tvalid_0's l2: 947.567\n",
      "[58]\tvalid_0's l2: 921.525\n",
      "[28]\tvalid_0's l2: 1054.85\n",
      "[37]\tvalid_0's l2: 981.635\n",
      "[65]\tvalid_0's l2: 928.84\n",
      "[97]\tvalid_0's l2: 933.713\n",
      "[59]\tvalid_0's l2: 923.301[67]\tvalid_0's l2: 933.762\n",
      "\n",
      "[38]\tvalid_0's l2: 977.001\n",
      "[53]\tvalid_0's l2: 949.586\n",
      "[29]\tvalid_0's l2: 1044.19\n",
      "[66]\tvalid_0's l2: 916.636\n",
      "[66]\tvalid_0's l2: 927.727\n",
      "[60]\tvalid_0's l2: 921.818\n",
      "[68]\tvalid_0's l2: 932.982\n",
      "[98]\tvalid_0's l2: 933.785\n",
      "[30]\tvalid_0's l2: 1039.16\n",
      "[61]\tvalid_0's l2: 920.28\n",
      "[39]\tvalid_0's l2: 977.435\n",
      "[67]\tvalid_0's l2: 917.498\n",
      "[67]\tvalid_0's l2: 927.139\n",
      "[54]\tvalid_0's l2: 949.298\n",
      "[40]\tvalid_0's l2: 977.026\n",
      "[31]\tvalid_0's l2: 1033.7\n",
      "[69]\tvalid_0's l2: 934.391\n",
      "[62]\tvalid_0's l2: 923.041\n",
      "[99]\tvalid_0's l2: 933.937\n",
      "[68]\tvalid_0's l2: 927.963\n",
      "[32]\tvalid_0's l2: 1027.69\n",
      "[68]\tvalid_0's l2: 917.057\n",
      "[41]\tvalid_0's l2: 976.823[63]\tvalid_0's l2: 921.983\n",
      "\n",
      "[55]\tvalid_0's l2: 949.828\n",
      "[70]\tvalid_0's l2: 933.792\n"
     ]
    },
    {
     "name": "stderr",
     "output_type": "stream",
     "text": [
      "[I 2023-07-08 06:40:52,372] Trial 9 finished with value: 30.550900556870953 and parameters: {'num_leaves': 69, 'bagging_fraction': 0.612270708457468, 'min_child_samples': 12}. Best is trial 3 with value: 30.206473438944865.\n"
     ]
    },
    {
     "name": "stdout",
     "output_type": "stream",
     "text": [
      "[69]\tvalid_0's l2: 927.605\n",
      "[100]\tvalid_0's l2: 933.358\n",
      "[33]\tvalid_0's l2: 1017.23\n",
      "[64]\tvalid_0's l2: 920.591[42]\tvalid_0's l2: 972.372\n",
      "\n",
      "[LightGBM] [Warning] bagging_fraction is set=0.9085976329689973, subsample=1.0 will be ignored. Current value: bagging_fraction=0.9085976329689973\n",
      "[69]\tvalid_0's l2: 917.032\n",
      "[71]\tvalid_0's l2: 934.786\n",
      "[56]\tvalid_0's l2: 949.363\n",
      "[34]\tvalid_0's l2: 1012.47\n",
      "[65]\tvalid_0's l2: 919.83\n",
      "[70]\tvalid_0's l2: 926.47\n",
      "[43]\tvalid_0's l2: 970.866\n",
      "[35]\tvalid_0's l2: 1010.57\n",
      "[72]\tvalid_0's l2: 935.319\n",
      "[70]\tvalid_0's l2: 917.933\n",
      "[71]\tvalid_0's l2: 927.625\n",
      "[57]\tvalid_0's l2: 948.875\n",
      "[1]\tvalid_0's l2: 3014.45\n",
      "[66]\tvalid_0's l2: 919.7\n",
      "[36]\tvalid_0's l2: 1004.13[44]\tvalid_0's l2: 970.617\n",
      "\n",
      "[2]\tvalid_0's l2: 2724.59\n",
      "[73]\tvalid_0's l2: 935.181\n",
      "[72]\tvalid_0's l2: 927.208\n",
      "[67]\tvalid_0's l2: 920.269\n",
      "[71]\tvalid_0's l2: 916.78\n",
      "[45]\tvalid_0's l2: 967.179\n",
      "[37]\tvalid_0's l2: 995.375\n",
      "[58]\tvalid_0's l2: 949.582\n",
      "[3]\tvalid_0's l2: 2479.12\n",
      "[68]\tvalid_0's l2: 918.836\n",
      "[74]\tvalid_0's l2: 935.245\n",
      "[73]\tvalid_0's l2: 928.229\n",
      "[72]\tvalid_0's l2: 916.598\n",
      "[46]\tvalid_0's l2: 963.653\n",
      "[4]\tvalid_0's l2: 2263.57\n",
      "[69]\tvalid_0's l2: 918.742\n",
      "[38]\tvalid_0's l2: 989.359\n",
      "[59]\tvalid_0's l2: 946.927\n",
      "[74]\tvalid_0's l2: 928.456\n",
      "[75]\tvalid_0's l2: 934.807\n",
      "[47]\tvalid_0's l2: 963.601\n",
      "[73]\tvalid_0's l2: 915.412\n",
      "[5]\tvalid_0's l2: 2088.06\n",
      "[70]\tvalid_0's l2: 917.708\n",
      "[39]\tvalid_0's l2: 985.07\n",
      "[48]\tvalid_0's l2: 959.16\n",
      "[75]\tvalid_0's l2: 929.158\n",
      "[60]\tvalid_0's l2: 946.965\n",
      "[76]\tvalid_0's l2: 935.15\n",
      "[6]\tvalid_0's l2: 1940.06\n",
      "[71]\tvalid_0's l2: 915.631\n",
      "[40]\tvalid_0's l2: 982.784\n",
      "[49]\tvalid_0's l2: 958.754\n",
      "[74]\tvalid_0's l2: 915.031\n",
      "[76]\tvalid_0's l2: 928.798\n",
      "[72]\tvalid_0's l2: 915.232\n",
      "[7]\tvalid_0's l2: 1812.48\n",
      "[77]\tvalid_0's l2: 936.245\n",
      "[41]\tvalid_0's l2: 981.853\n",
      "[50]\tvalid_0's l2: 956.813\n",
      "[61]\tvalid_0's l2: 946.895\n",
      "[77]\tvalid_0's l2: 929.246\n",
      "[73]\tvalid_0's l2: 915.205\n",
      "[75]\tvalid_0's l2: 916.33\n",
      "[78]\tvalid_0's l2: 936.563\n",
      "[8]\tvalid_0's l2: 1711.38\n",
      "[42]\tvalid_0's l2: 983.081\n",
      "[51]\tvalid_0's l2: 954.03\n",
      "[74]\tvalid_0's l2: 914.84\n",
      "[76]\tvalid_0's l2: 916.873\n",
      "[78]\tvalid_0's l2: 929.517\n",
      "[9]\tvalid_0's l2: 1607.8\n",
      "[62]\tvalid_0's l2: 946.424\n",
      "[52]\tvalid_0's l2: 955.005\n",
      "[79]\tvalid_0's l2: 936.311\n",
      "[43]\tvalid_0's l2: 983.946\n",
      "[75]\tvalid_0's l2: 914.941\n",
      "[79]\tvalid_0's l2: 930.175\n",
      "[10]\tvalid_0's l2: 1524.73\n",
      "[53]\tvalid_0's l2: 951.884\n",
      "[77]\tvalid_0's l2: 915.924\n",
      "[44]\tvalid_0's l2: 983.728\n",
      "[80]\tvalid_0's l2: 935.75\n",
      "[63]\tvalid_0's l2: 944.785\n",
      "[54]\tvalid_0's l2: 953.045\n",
      "[76]\tvalid_0's l2: 914.056\n",
      "[80]\tvalid_0's l2: 930.071\n",
      "[11]\tvalid_0's l2: 1453.24\n",
      "[45]\tvalid_0's l2: 980.497\n",
      "[64]\tvalid_0's l2: 943.273\n",
      "[81]\tvalid_0's l2: 935.106\n",
      "[78]\tvalid_0's l2: 915.496\n",
      "[55]\tvalid_0's l2: 951.228\n",
      "[81]\tvalid_0's l2: 930.162\n",
      "[77]\tvalid_0's l2: 915.574\n",
      "[12]\tvalid_0's l2: 1403.27\n",
      "[46]\tvalid_0's l2: 978.672\n",
      "[78]\tvalid_0's l2: 916.55\n",
      "[56]\tvalid_0's l2: 951.186\n",
      "[82]\tvalid_0's l2: 934.515\n",
      "[65]\tvalid_0's l2: 942.747\n",
      "[79]\tvalid_0's l2: 915.096\n",
      "[13]\tvalid_0's l2: 1357.37\n",
      "[82]\tvalid_0's l2: 930.361\n",
      "[47]\tvalid_0's l2: 979.716\n",
      "[57]\tvalid_0's l2: 949.573\n",
      "[79]\tvalid_0's l2: 916.849\n",
      "[14]\tvalid_0's l2: 1315.36\n",
      "[83]\tvalid_0's l2: 931.197\n",
      "[83]\tvalid_0's l2: 934.538\n",
      "[80]\tvalid_0's l2: 914.647[48]\tvalid_0's l2: 975.097\n",
      "\n",
      "[66]\tvalid_0's l2: 942.644\n",
      "[80]\tvalid_0's l2: 915.85\n",
      "[58]\tvalid_0's l2: 947.963\n",
      "[15]\tvalid_0's l2: 1267.74\n",
      "[49]\tvalid_0's l2: 974.234[84]\tvalid_0's l2: 931.326\n",
      "\n",
      "[81]\tvalid_0's l2: 916.968\n",
      "[84]\tvalid_0's l2: 934.972\n",
      "[59]\tvalid_0's l2: 946.399\n",
      "[67]\tvalid_0's l2: 939.25\n",
      "[81]\tvalid_0's l2: 913.412\n",
      "[16]\tvalid_0's l2: 1226.1\n",
      "[50]\tvalid_0's l2: 973.376\n",
      "[82]\tvalid_0's l2: 917.331\n",
      "[85]\tvalid_0's l2: 930.91\n",
      "[85]\tvalid_0's l2: 935.784\n",
      "[60]\tvalid_0's l2: 948.428\n",
      "[83]\tvalid_0's l2: 915.628\n",
      "[17]\tvalid_0's l2: 1197.36\n",
      "[82]\tvalid_0's l2: 913.818\n",
      "[68]\tvalid_0's l2: 941.685\n",
      "[51]\tvalid_0's l2: 973.28\n",
      "[86]\tvalid_0's l2: 935.191[86]\tvalid_0's l2: 929.172\n",
      "[61]\tvalid_0's l2: 949.135\n",
      "\n",
      "[18]\tvalid_0's l2: 1169.6\n",
      "[84]\tvalid_0's l2: 916.004\n",
      "[83]\tvalid_0's l2: 913.18\n",
      "[87]\tvalid_0's l2: 935.032\n",
      "[52]\tvalid_0's l2: 971.577\n",
      "[62]\tvalid_0's l2: 944.647\n",
      "[69]\tvalid_0's l2: 942.217\n",
      "[87]\tvalid_0's l2: 929.674\n",
      "[19]\tvalid_0's l2: 1145.71\n",
      "[85]\tvalid_0's l2: 916.702\n",
      "[63]\tvalid_0's l2: 945.9\n",
      "[53]\tvalid_0's l2: 971.356\n",
      "[88]\tvalid_0's l2: 930.042\n",
      "[88]\tvalid_0's l2: 934.637\n",
      "[20]\tvalid_0's l2: 1124.11\n",
      "[84]\tvalid_0's l2: 913.454[86]\tvalid_0's l2: 915.708\n",
      "\n",
      "[70]\tvalid_0's l2: 941.794\n",
      "[54]\tvalid_0's l2: 970.258[64]\tvalid_0's l2: 947.964\n",
      "\n",
      "[89]\tvalid_0's l2: 929.137\n",
      "[89]\tvalid_0's l2: 934.357\n",
      "[21]\tvalid_0's l2: 1103.94\n",
      "[87]\tvalid_0's l2: 914.801\n",
      "[85]\tvalid_0's l2: 913.13\n",
      "[65]\tvalid_0's l2: 948.19\n",
      "[55]\tvalid_0's l2: 968.556\n",
      "[88]\tvalid_0's l2: 914.66\n",
      "[90]\tvalid_0's l2: 929.438\n",
      "[71]\tvalid_0's l2: 942.513\n",
      "[22]\tvalid_0's l2: 1090.12\n",
      "[90]\tvalid_0's l2: 932.832\n",
      "[66]\tvalid_0's l2: 949.685\n",
      "[89]\tvalid_0's l2: 915.744\n",
      "[91]\tvalid_0's l2: 929.891\n",
      "[56]\tvalid_0's l2: 967.64\n",
      "[67]\tvalid_0's l2: 950.443\n",
      "[72]\tvalid_0's l2: 943.641\n",
      "[86]\tvalid_0's l2: 913.491\n",
      "[23]\tvalid_0's l2: 1073.2\n",
      "[91]\tvalid_0's l2: 933.916\n",
      "[90]\tvalid_0's l2: 915.455\n",
      "[92]\tvalid_0's l2: 930.188\n",
      "[57]\tvalid_0's l2: 968.799\n",
      "[68]\tvalid_0's l2: 953.599\n",
      "[91]\tvalid_0's l2: 915.813\n",
      "[24]\tvalid_0's l2: 1061.81\n",
      "[87]\tvalid_0's l2: 913.417\n",
      "[73]\tvalid_0's l2: 944.453\n",
      "[93]\tvalid_0's l2: 928.959\n",
      "[92]\tvalid_0's l2: 934.229\n",
      "[69]\tvalid_0's l2: 955.376\n",
      "[58]\tvalid_0's l2: 968.196\n",
      "[92]\tvalid_0's l2: 917.116\n",
      "[25]\tvalid_0's l2: 1054.98\n",
      "[94]\tvalid_0's l2: 928.928\n",
      "[93]\tvalid_0's l2: 933.831\n",
      "[74]\tvalid_0's l2: 943.123\n",
      "[88]\tvalid_0's l2: 912.88\n",
      "[93]\tvalid_0's l2: 916.082\n",
      "[70]\tvalid_0's l2: 954.221[59]\tvalid_0's l2: 967.426\n",
      "\n",
      "[26]\tvalid_0's l2: 1043.61\n",
      "[95]\tvalid_0's l2: 929.221\n",
      "[94]\tvalid_0's l2: 915.68\n",
      "[71]\tvalid_0's l2: 952.54\n",
      "[94]\tvalid_0's l2: 934.945\n",
      "[95]\tvalid_0's l2: 914.722\n",
      "[60]\tvalid_0's l2: 966.216\n",
      "[75]\tvalid_0's l2: 942.033\n",
      "[89]\tvalid_0's l2: 912.192\n",
      "[96]\tvalid_0's l2: 929.68\n",
      "[27]\tvalid_0's l2: 1027.61\n",
      "[95]\tvalid_0's l2: 934.507\n",
      "[96]\tvalid_0's l2: 915.336[72]\tvalid_0's l2: 953.892\n",
      "\n",
      "[61]\tvalid_0's l2: 966.187\n",
      "[28]\tvalid_0's l2: 1020.09\n",
      "[97]\tvalid_0's l2: 929.175\n",
      "[90]\tvalid_0's l2: 912.138\n",
      "[73]\tvalid_0's l2: 954.037\n",
      "[76]\tvalid_0's l2: 942.461\n",
      "[97]\tvalid_0's l2: 915.497\n",
      "[98]\tvalid_0's l2: 929.067\n",
      "[62]\tvalid_0's l2: 965.969\n",
      "[96]\tvalid_0's l2: 936.185\n",
      "[29]\tvalid_0's l2: 1007.11\n",
      "[98]\tvalid_0's l2: 915.138\n",
      "[74]\tvalid_0's l2: 954.363\n",
      "[97]\tvalid_0's l2: 935.368\n",
      "[30]\tvalid_0's l2: 1003.17\n",
      "[99]\tvalid_0's l2: 929.182\n",
      "[77]\tvalid_0's l2: 943.108\n",
      "[91]\tvalid_0's l2: 911.394\n",
      "[63]\tvalid_0's l2: 964.872\n",
      "[99]\tvalid_0's l2: 913.613\n"
     ]
    },
    {
     "name": "stderr",
     "output_type": "stream",
     "text": [
      "[I 2023-07-08 06:41:07,175] Trial 17 finished with value: 30.489092426042653 and parameters: {'num_leaves': 59, 'bagging_fraction': 0.9739826425281648, 'min_child_samples': 17}. Best is trial 3 with value: 30.206473438944865.\n"
     ]
    },
    {
     "name": "stdout",
     "output_type": "stream",
     "text": [
      "[75]\tvalid_0's l2: 955.765\n",
      "[100]\tvalid_0's l2: 929.585\n",
      "[31]\tvalid_0's l2: 991.55\n"
     ]
    },
    {
     "name": "stderr",
     "output_type": "stream",
     "text": [
      "[I 2023-07-08 06:41:07,379] Trial 18 finished with value: 30.21072187775147 and parameters: {'num_leaves': 51, 'bagging_fraction': 0.9302331991556787, 'min_child_samples': 33}. Best is trial 3 with value: 30.206473438944865.\n"
     ]
    },
    {
     "name": "stdout",
     "output_type": "stream",
     "text": [
      "[100]\tvalid_0's l2: 912.688\n",
      "[92]\tvalid_0's l2: 911.133\n",
      "[98]\tvalid_0's l2: 936.17\n",
      "[64]\tvalid_0's l2: 966.565\n",
      "[76]\tvalid_0's l2: 955.522\n",
      "[LightGBM] [Warning] bagging_fraction is set=0.4158280828474437, subsample=1.0 will be ignored. Current value: bagging_fraction=0.4158280828474437\n",
      "[LightGBM] [Warning] bagging_fraction is set=0.9916051843343597, subsample=1.0 will be ignored. Current value: bagging_fraction=0.9916051843343597\n",
      "[78]\tvalid_0's l2: 942.375\n",
      "[93]\tvalid_0's l2: 911.151\n",
      "[77]\tvalid_0's l2: 956.826\n",
      "[32]\tvalid_0's l2: 987.643\n",
      "[65]\tvalid_0's l2: 966.32\n",
      "[99]\tvalid_0's l2: 935.826\n",
      "[1]\tvalid_0's l2: 3019.03\n",
      "[1]\tvalid_0's l2: 3012.68\n",
      "[33]\tvalid_0's l2: 981.582\n",
      "[78]\tvalid_0's l2: 956.456\n",
      "[2]\tvalid_0's l2: 2733.55\n",
      "[66]\tvalid_0's l2: 966.218\n",
      "[79]\tvalid_0's l2: 941.493\n",
      "[100]\tvalid_0's l2: 935.791\n",
      "[94]\tvalid_0's l2: 910.895\n",
      "[2]\tvalid_0's l2: 2719.27\n",
      "[3]\tvalid_0's l2: 2494.67\n"
     ]
    },
    {
     "name": "stderr",
     "output_type": "stream",
     "text": [
      "[I 2023-07-08 06:41:08,581] Trial 14 finished with value: 30.590700519402564 and parameters: {'num_leaves': 55, 'bagging_fraction': 0.7086559114586328, 'min_child_samples': 15}. Best is trial 3 with value: 30.206473438944865.\n"
     ]
    },
    {
     "name": "stdout",
     "output_type": "stream",
     "text": [
      "[79]\tvalid_0's l2: 955.011\n",
      "[34]\tvalid_0's l2: 979.085\n",
      "[67]\tvalid_0's l2: 967.12\n",
      "[LightGBM] [Warning] bagging_fraction is set=0.9754252316198575, subsample=1.0 will be ignored. Current value: bagging_fraction=0.9754252316198575\n",
      "[4]\tvalid_0's l2: 2285.4\n",
      "[3]\tvalid_0's l2: 2477.18\n",
      "[80]\tvalid_0's l2: 955.052\n",
      "[80]\tvalid_0's l2: 942.386\n",
      "[35]\tvalid_0's l2: 975.401\n",
      "[95]\tvalid_0's l2: 910.169\n",
      "[68]\tvalid_0's l2: 967.206\n",
      "[5]\tvalid_0's l2: 2107\n",
      "[1]\tvalid_0's l2: 3018.6\n",
      "[4]\tvalid_0's l2: 2259.79\n",
      "[81]\tvalid_0's l2: 955.785\n",
      "[6]\tvalid_0's l2: 1960.89\n",
      "[36]\tvalid_0's l2: 973.07\n",
      "[5]\tvalid_0's l2: 2084.39\n",
      "[2]\tvalid_0's l2: 2734.64\n",
      "[81]\tvalid_0's l2: 941.712\n",
      "[69]\tvalid_0's l2: 968.681\n",
      "[96]\tvalid_0's l2: 909.803\n",
      "[82]\tvalid_0's l2: 953.791\n",
      "[7]\tvalid_0's l2: 1836.43\n",
      "[3]\tvalid_0's l2: 2495.8\n",
      "[6]\tvalid_0's l2: 1934.02\n",
      "[37]\tvalid_0's l2: 974.709\n",
      "[83]\tvalid_0's l2: 952.138\n",
      "[8]\tvalid_0's l2: 1710.15[97]\tvalid_0's l2: 909.312\n",
      "\n",
      "[4]\tvalid_0's l2: 2298.62\n",
      "[70]\tvalid_0's l2: 969.322\n",
      "[82]\tvalid_0's l2: 943.372\n",
      "[7]\tvalid_0's l2: 1798.15\n",
      "[38]\tvalid_0's l2: 968.351\n",
      "[5]\tvalid_0's l2: 2125.78\n",
      "[9]\tvalid_0's l2: 1616.6\n",
      "[84]\tvalid_0's l2: 953.016\n",
      "[8]\tvalid_0's l2: 1690.11\n",
      "[71]\tvalid_0's l2: 971.32\n",
      "[85]\tvalid_0's l2: 952.694\n",
      "[98]\tvalid_0's l2: 909.393\n",
      "[83]\tvalid_0's l2: 944.151\n",
      "[39]\tvalid_0's l2: 960.877\n",
      "[6]\tvalid_0's l2: 1975.54\n",
      "[10]\tvalid_0's l2: 1535.72\n",
      "[9]\tvalid_0's l2: 1606.44\n",
      "[72]\tvalid_0's l2: 972.493\n",
      "[7]\tvalid_0's l2: 1824.53\n",
      "[11]\tvalid_0's l2: 1456\n",
      "[99]\tvalid_0's l2: 909.638\n",
      "[86]\tvalid_0's l2: 952.31\n",
      "[10]\tvalid_0's l2: 1523.66\n",
      "[40]\tvalid_0's l2: 956.009\n",
      "[8]\tvalid_0's l2: 1717.67\n",
      "[73]\tvalid_0's l2: 970.26\n",
      "[84]\tvalid_0's l2: 944.277\n",
      "[12]\tvalid_0's l2: 1395.72\n",
      "[11]\tvalid_0's l2: 1458.59\n"
     ]
    },
    {
     "name": "stderr",
     "output_type": "stream",
     "text": [
      "[I 2023-07-08 06:41:11,995] Trial 13 finished with value: 30.15041888367542 and parameters: {'num_leaves': 77, 'bagging_fraction': 0.4630232801161457, 'min_child_samples': 16}. Best is trial 13 with value: 30.15041888367542.\n"
     ]
    },
    {
     "name": "stdout",
     "output_type": "stream",
     "text": [
      "[41]\tvalid_0's l2: 956.301\n",
      "[100]\tvalid_0's l2: 909.048\n",
      "[87]\tvalid_0's l2: 952.533\n",
      "[9]\tvalid_0's l2: 1622.31\n",
      "[74]\tvalid_0's l2: 969.998\n",
      "[12]\tvalid_0's l2: 1400.59\n",
      "[LightGBM] [Warning] bagging_fraction is set=0.39151741457148603, subsample=1.0 will be ignored. Current value: bagging_fraction=0.39151741457148603\n",
      "[13]\tvalid_0's l2: 1350.68\n",
      "[88]\tvalid_0's l2: 953.217\n",
      "[10]\tvalid_0's l2: 1541.75\n",
      "[85]\tvalid_0's l2: 944.744\n",
      "[42]\tvalid_0's l2: 953.905\n",
      "[14]\tvalid_0's l2: 1310.26\n",
      "[13]\tvalid_0's l2: 1348.51\n",
      "[11]\tvalid_0's l2: 1477.63\n",
      "[75]\tvalid_0's l2: 970.95\n",
      "[89]\tvalid_0's l2: 952.286\n",
      "[15]\tvalid_0's l2: 1272.22\n",
      "[43]\tvalid_0's l2: 947.073\n",
      "[12]\tvalid_0's l2: 1410.79\n",
      "[86]\tvalid_0's l2: 946.051\n",
      "[14]\tvalid_0's l2: 1309.89\n",
      "[90]\tvalid_0's l2: 952.72\n",
      "[1]\tvalid_0's l2: 3016.43\n",
      "[16]\tvalid_0's l2: 1242.86\n",
      "[76]\tvalid_0's l2: 968.306\n",
      "[13]\tvalid_0's l2: 1360.83\n",
      "[44]\tvalid_0's l2: 948.046\n",
      "[15]\tvalid_0's l2: 1266.62\n",
      "[14]\tvalid_0's l2: 1312.86\n",
      "[17]\tvalid_0's l2: 1211.93\n",
      "[77]\tvalid_0's l2: 968.725\n",
      "[91]\tvalid_0's l2: 951.254\n",
      "[2]\tvalid_0's l2: 2722.48\n",
      "[87]\tvalid_0's l2: 947.09\n",
      "[45]\tvalid_0's l2: 945.414\n",
      "[15]\tvalid_0's l2: 1271.58\n",
      "[16]\tvalid_0's l2: 1241.49\n",
      "[18]\tvalid_0's l2: 1190.81\n",
      "[92]\tvalid_0's l2: 949.811\n",
      "[78]\tvalid_0's l2: 969.205\n",
      "[16]\tvalid_0's l2: 1236.95\n",
      "[46]\tvalid_0's l2: 943.719\n",
      "[17]\tvalid_0's l2: 1217.54[3]\tvalid_0's l2: 2463.39\n",
      "\n",
      "[19]\tvalid_0's l2: 1160.68\n",
      "[17]\tvalid_0's l2: 1212.98\n",
      "[88]\tvalid_0's l2: 949.342\n",
      "[47]\tvalid_0's l2: 943.595\n",
      "[93]\tvalid_0's l2: 950.509\n",
      "[79]\tvalid_0's l2: 968.482\n",
      "[18]\tvalid_0's l2: 1190.48\n",
      "[18]\tvalid_0's l2: 1187.16\n",
      "[20]\tvalid_0's l2: 1128.77\n",
      "[4]\tvalid_0's l2: 2266.64\n",
      "[48]\tvalid_0's l2: 942.268\n",
      "[19]\tvalid_0's l2: 1164.76\n",
      "[21]\tvalid_0's l2: 1109.17\n",
      "[94]\tvalid_0's l2: 949.903\n",
      "[19]\tvalid_0's l2: 1161.72\n",
      "[80]\tvalid_0's l2: 968.86\n",
      "[89]\tvalid_0's l2: 948.6\n",
      "[22]\tvalid_0's l2: 1087.97\n",
      "[95]\tvalid_0's l2: 950.352\n",
      "[49]\tvalid_0's l2: 942.02\n",
      "[5]\tvalid_0's l2: 2104.07\n",
      "[20]\tvalid_0's l2: 1140.41\n",
      "[20]\tvalid_0's l2: 1136.41\n",
      "[81]\tvalid_0's l2: 969.155\n",
      "[23]\tvalid_0's l2: 1076.05\n",
      "[90]\tvalid_0's l2: 949.653\n",
      "[21]\tvalid_0's l2: 1122.6\n",
      "[21]\tvalid_0's l2: 1120.59\n",
      "[96]\tvalid_0's l2: 951.804\n",
      "[50]\tvalid_0's l2: 941.121\n",
      "[6]\tvalid_0's l2: 1945.71\n",
      "[24]\tvalid_0's l2: 1068.78\n",
      "[82]\tvalid_0's l2: 969.666\n",
      "[22]\tvalid_0's l2: 1105.05\n",
      "[97]\tvalid_0's l2: 951.46\n",
      "[23]\tvalid_0's l2: 1087.67\n",
      "[22]\tvalid_0's l2: 1103.08\n",
      "[25]\tvalid_0's l2: 1057.43\n",
      "[51]\tvalid_0's l2: 942.574\n",
      "[83]\tvalid_0's l2: 970.64\n",
      "[91]\tvalid_0's l2: 948.86\n",
      "[7]\tvalid_0's l2: 1810.73\n",
      "[26]\tvalid_0's l2: 1039.85\n",
      "[24]\tvalid_0's l2: 1072.54\n",
      "[98]\tvalid_0's l2: 952.196\n",
      "[23]\tvalid_0's l2: 1088.28\n",
      "[52]\tvalid_0's l2: 944.934\n",
      "[27]\tvalid_0's l2: 1032.21\n",
      "[24]\tvalid_0's l2: 1079.59\n",
      "[25]\tvalid_0's l2: 1059.13\n",
      "[84]\tvalid_0's l2: 970.148\n",
      "[28]\tvalid_0's l2: 1021.24\n",
      "[8]\tvalid_0's l2: 1701.39\n",
      "[92]\tvalid_0's l2: 947.146\n",
      "[99]\tvalid_0's l2: 952.392\n",
      "[26]\tvalid_0's l2: 1050.32\n",
      "[53]\tvalid_0's l2: 944.325\n",
      "[25]\tvalid_0's l2: 1070.45\n",
      "[29]\tvalid_0's l2: 1021.52\n",
      "[85]\tvalid_0's l2: 970.521\n",
      "[100]\tvalid_0's l2: 952.481\n"
     ]
    },
    {
     "name": "stderr",
     "output_type": "stream",
     "text": [
      "[I 2023-07-08 06:41:17,394] Trial 19 finished with value: 30.8622867442414 and parameters: {'num_leaves': 52, 'bagging_fraction': 0.7269166820324879, 'min_child_samples': 31}. Best is trial 13 with value: 30.15041888367542.\n"
     ]
    },
    {
     "name": "stdout",
     "output_type": "stream",
     "text": [
      "[9]\tvalid_0's l2: 1614.29\n",
      "[27]\tvalid_0's l2: 1037.83\n",
      "[30]\tvalid_0's l2: 1017.5\n",
      "[26]\tvalid_0's l2: 1059.08\n",
      "[LightGBM] [Warning] bagging_fraction is set=0.4012723978741749, subsample=1.0 will be ignored. Current value: bagging_fraction=0.4012723978741749\n",
      "[54]\tvalid_0's l2: 941.076\n",
      "[27]\tvalid_0's l2: 1049.83\n",
      "[93]\tvalid_0's l2: 946.74\n",
      "[28]\tvalid_0's l2: 1031.79\n",
      "[86]\tvalid_0's l2: 970.599\n",
      "[31]\tvalid_0's l2: 1007.66\n",
      "[55]\tvalid_0's l2: 940.735\n",
      "[10]\tvalid_0's l2: 1535.04\n",
      "[29]\tvalid_0's l2: 1014.94\n",
      "[28]\tvalid_0's l2: 1033.84\n",
      "[32]\tvalid_0's l2: 1002.32\n",
      "[94]\tvalid_0's l2: 948.071[30]\tvalid_0's l2: 1004.62\n",
      "\n",
      "[87]\tvalid_0's l2: 970.101\n",
      "[56]\tvalid_0's l2: 940.503\n",
      "[1]\tvalid_0's l2: 3015.09\n",
      "[29]\tvalid_0's l2: 1020.51\n",
      "[11]\tvalid_0's l2: 1456.85\n",
      "[31]\tvalid_0's l2: 994.661\n",
      "[33]\tvalid_0's l2: 994.584\n",
      "[34]\tvalid_0's l2: 989.806\n",
      "[30]\tvalid_0's l2: 1013.54\n",
      "[57]\tvalid_0's l2: 938.89\n",
      "[88]\tvalid_0's l2: 970.542\n",
      "[32]\tvalid_0's l2: 988.974\n",
      "[2]\tvalid_0's l2: 2730.67\n",
      "[95]\tvalid_0's l2: 947.624\n",
      "[12]\tvalid_0's l2: 1389.15\n",
      "[35]\tvalid_0's l2: 984.7\n",
      "[58]\tvalid_0's l2: 938.147\n",
      "[31]\tvalid_0's l2: 1007.08\n",
      "[33]\tvalid_0's l2: 989.363\n",
      "[89]\tvalid_0's l2: 970.036\n",
      "[36]\tvalid_0's l2: 979.862\n",
      "[3]\tvalid_0's l2: 2495.61\n",
      "[34]\tvalid_0's l2: 987.366\n",
      "[13]\tvalid_0's l2: 1338.87\n",
      "[59]\tvalid_0's l2: 941.289\n",
      "[32]\tvalid_0's l2: 1005.22\n",
      "[90]\tvalid_0's l2: 970.035\n",
      "[37]\tvalid_0's l2: 974.825\n",
      "[96]\tvalid_0's l2: 946.769\n",
      "[35]\tvalid_0's l2: 983.596\n",
      "[4]\tvalid_0's l2: 2285.48\n",
      "[33]\tvalid_0's l2: 998.928\n",
      "[36]\tvalid_0's l2: 978.01\n",
      "[38]\tvalid_0's l2: 969.095\n",
      "[60]\tvalid_0's l2: 941.685\n",
      "[91]\tvalid_0's l2: 968.975\n",
      "[14]\tvalid_0's l2: 1303.07\n",
      "[34]\tvalid_0's l2: 991.466\n",
      "[97]\tvalid_0's l2: 945.734\n",
      "[5]\tvalid_0's l2: 2119.04\n",
      "[39]\tvalid_0's l2: 964.995\n",
      "[37]\tvalid_0's l2: 974.66\n",
      "[61]\tvalid_0's l2: 942.807\n",
      "[92]\tvalid_0's l2: 969.232\n",
      "[35]\tvalid_0's l2: 985.669\n",
      "[40]\tvalid_0's l2: 960.06\n",
      "[15]\tvalid_0's l2: 1259.35\n",
      "[38]\tvalid_0's l2: 970.222\n",
      "[41]\tvalid_0's l2: 956.434\n",
      "[62]\tvalid_0's l2: 941.49\n",
      "[36]\tvalid_0's l2: 980.716\n",
      "[6]\tvalid_0's l2: 1956.79\n",
      "[39]\tvalid_0's l2: 965.807\n",
      "[16]\tvalid_0's l2: 1219.71\n",
      "[98]\tvalid_0's l2: 945.392\n",
      "[42]\tvalid_0's l2: 952.938\n",
      "[93]\tvalid_0's l2: 969.795\n",
      "[40]\tvalid_0's l2: 955.566\n",
      "[37]\tvalid_0's l2: 980.689\n",
      "[63]\tvalid_0's l2: 943.193\n",
      "[43]\tvalid_0's l2: 949.838\n",
      "[41]\tvalid_0's l2: 953.985\n",
      "[7]\tvalid_0's l2: 1816.98\n",
      "[17]\tvalid_0's l2: 1189.7\n",
      "[99]\tvalid_0's l2: 944.583\n",
      "[64]\tvalid_0's l2: 943.074\n",
      "[94]\tvalid_0's l2: 969.07\n",
      "[38]\tvalid_0's l2: 977.98\n",
      "[42]\tvalid_0's l2: 953.181\n",
      "[44]\tvalid_0's l2: 945.168\n",
      "[95]\tvalid_0's l2: 969.354\n",
      "[43]\tvalid_0's l2: 948.46\n",
      "[45]\tvalid_0's l2: 943.685\n",
      "[39]\tvalid_0's l2: 977.802\n",
      "[65]\tvalid_0's l2: 942.593\n",
      "[8]\tvalid_0's l2: 1721.27\n",
      "[18]\tvalid_0's l2: 1161.91\n"
     ]
    },
    {
     "name": "stderr",
     "output_type": "stream",
     "text": [
      "[I 2023-07-08 06:41:22,568] Trial 16 finished with value: 30.753108514138116 and parameters: {'num_leaves': 85, 'bagging_fraction': 0.6543592598475216, 'min_child_samples': 35}. Best is trial 13 with value: 30.15041888367542.\n"
     ]
    },
    {
     "name": "stdout",
     "output_type": "stream",
     "text": [
      "[100]\tvalid_0's l2: 945.754\n",
      "[44]\tvalid_0's l2: 946.799\n",
      "[46]\tvalid_0's l2: 942.896\n",
      "[96]\tvalid_0's l2: 969.233\n",
      "[LightGBM] [Warning] bagging_fraction is set=0.4197842776652226, subsample=1.0 will be ignored. Current value: bagging_fraction=0.4197842776652226\n",
      "[66]\tvalid_0's l2: 942.289\n",
      "[40]\tvalid_0's l2: 977.622\n",
      "[9]\tvalid_0's l2: 1636.22\n",
      "[45]\tvalid_0's l2: 944.605\n",
      "[47]\tvalid_0's l2: 940.931\n",
      "[19]\tvalid_0's l2: 1142.22\n",
      "[46]\tvalid_0's l2: 941.673\n",
      "[41]\tvalid_0's l2: 974.91\n",
      "[10]\tvalid_0's l2: 1557.54\n",
      "[97]\tvalid_0's l2: 969.855\n",
      "[67]\tvalid_0's l2: 943.007\n",
      "[48]\tvalid_0's l2: 942.027\n",
      "[20]\tvalid_0's l2: 1120\n",
      "[1]\tvalid_0's l2: 3016.42\n",
      "[47]\tvalid_0's l2: 940.845\n",
      "[49]\tvalid_0's l2: 940.049\n",
      "[98]\tvalid_0's l2: 970.994\n",
      "[11]\tvalid_0's l2: 1485.08\n",
      "[42]\tvalid_0's l2: 975.777\n",
      "[68]\tvalid_0's l2: 942.44\n",
      "[48]\tvalid_0's l2: 937.206\n",
      "[50]\tvalid_0's l2: 939.676\n",
      "[21]\tvalid_0's l2: 1098.89\n",
      "[99]\tvalid_0's l2: 971.523\n",
      "[43]\tvalid_0's l2: 970.486\n",
      "[69]\tvalid_0's l2: 943.844\n",
      "[2]\tvalid_0's l2: 2711.36\n",
      "[51]\tvalid_0's l2: 937.276\n",
      "[49]\tvalid_0's l2: 932.588\n",
      "[12]\tvalid_0's l2: 1414.47\n",
      "[50]\tvalid_0's l2: 931.654\n",
      "[70]\tvalid_0's l2: 943.318\n",
      "[52]\tvalid_0's l2: 934.284\n",
      "[44]\tvalid_0's l2: 972.372\n",
      "[22]\tvalid_0's l2: 1075.6\n",
      "[13]\tvalid_0's l2: 1353.05\n"
     ]
    },
    {
     "name": "stderr",
     "output_type": "stream",
     "text": [
      "[I 2023-07-08 06:41:24,769] Trial 20 finished with value: 31.17719023144684 and parameters: {'num_leaves': 60, 'bagging_fraction': 0.9529945505127998, 'min_child_samples': 30}. Best is trial 13 with value: 30.15041888367542.\n"
     ]
    },
    {
     "name": "stdout",
     "output_type": "stream",
     "text": [
      "[100]\tvalid_0's l2: 972.017\n",
      "[51]\tvalid_0's l2: 933.132\n",
      "[45]\tvalid_0's l2: 972.85\n",
      "[52]\tvalid_0's l2: 930.173\n",
      "[46]\tvalid_0's l2: 971.125\n",
      "[3]\tvalid_0's l2: 2458.53\n",
      "[14]\tvalid_0's l2: 1320.48\n",
      "[53]\tvalid_0's l2: 936.312\n",
      "[LightGBM] [Warning] bagging_fraction is set=0.42601439806287855, subsample=1.0 will be ignored. Current value: bagging_fraction=0.42601439806287855\n",
      "[23]\tvalid_0's l2: 1061.95\n",
      "[71]\tvalid_0's l2: 943.465\n",
      "[47]\tvalid_0's l2: 968.389\n",
      "[54]\tvalid_0's l2: 936.112\n",
      "[53]\tvalid_0's l2: 928.423\n",
      "[4]\tvalid_0's l2: 2242.44\n",
      "[15]\tvalid_0's l2: 1279.15\n",
      "[54]\tvalid_0's l2: 925.443\n",
      "[48]\tvalid_0's l2: 964.541\n",
      "[72]\tvalid_0's l2: 942.069\n",
      "[24]\tvalid_0's l2: 1047.97\n",
      "[55]\tvalid_0's l2: 934.573\n",
      "[49]\tvalid_0's l2: 962.73\n",
      "[55]\tvalid_0's l2: 926.793\n",
      "[1]\tvalid_0's l2: 3012.69\n",
      "[73]\tvalid_0's l2: 942.326\n",
      "[56]\tvalid_0's l2: 933.441\n",
      "[16]\tvalid_0's l2: 1252.92\n",
      "[5]\tvalid_0's l2: 2070.63\n",
      "[56]\tvalid_0's l2: 926.88\n",
      "[25]\tvalid_0's l2: 1038.38\n",
      "[57]\tvalid_0's l2: 931.773\n",
      "[50]\tvalid_0's l2: 961.948\n",
      "[57]\tvalid_0's l2: 922.08\n",
      "[74]\tvalid_0's l2: 941.772\n",
      "[2]\tvalid_0's l2: 2728.97\n",
      "[17]\tvalid_0's l2: 1221.12\n",
      "[51]\tvalid_0's l2: 962.294\n",
      "[58]\tvalid_0's l2: 931.05\n",
      "[58]\tvalid_0's l2: 923.157\n",
      "[26]\tvalid_0's l2: 1028.75\n",
      "[6]\tvalid_0's l2: 1930.55\n",
      "[59]\tvalid_0's l2: 930.73\n",
      "[52]\tvalid_0's l2: 961.646\n",
      "[75]\tvalid_0's l2: 942.663\n",
      "[59]\tvalid_0's l2: 922.581\n",
      "[3]\tvalid_0's l2: 2469.92\n",
      "[27]\tvalid_0's l2: 1017.79\n",
      "[18]\tvalid_0's l2: 1192.71\n",
      "[53]\tvalid_0's l2: 960.424\n",
      "[60]\tvalid_0's l2: 931.907\n",
      "[60]\tvalid_0's l2: 921.235\n",
      "[7]\tvalid_0's l2: 1799.04\n",
      "[76]\tvalid_0's l2: 941.215\n",
      "[61]\tvalid_0's l2: 931.044\n",
      "[61]\tvalid_0's l2: 920.98\n",
      "[54]\tvalid_0's l2: 961.833\n",
      "[28]\tvalid_0's l2: 1005.16\n",
      "[4]\tvalid_0's l2: 2255.11\n",
      "[77]\tvalid_0's l2: 941.106\n",
      "[62]\tvalid_0's l2: 922.93\n",
      "[62]\tvalid_0's l2: 931.576\n",
      "[19]\tvalid_0's l2: 1162.51\n",
      "[55]\tvalid_0's l2: 959.598\n",
      "[8]\tvalid_0's l2: 1689.04\n",
      "[63]\tvalid_0's l2: 923.542\n",
      "[29]\tvalid_0's l2: 998.856\n",
      "[63]\tvalid_0's l2: 932.508\n",
      "[78]\tvalid_0's l2: 940.17\n",
      "[5]\tvalid_0's l2: 2095.09\n",
      "[64]\tvalid_0's l2: 921.045\n",
      "[56]\tvalid_0's l2: 959.023\n",
      "[20]\tvalid_0's l2: 1143.74\n",
      "[64]\tvalid_0's l2: 931.933\n",
      "[9]\tvalid_0's l2: 1591.18\n",
      "[79]\tvalid_0's l2: 940.264\n",
      "[30]\tvalid_0's l2: 992.485\n",
      "[65]\tvalid_0's l2: 921.4\n",
      "[57]\tvalid_0's l2: 958.245\n",
      "[6]\tvalid_0's l2: 1926.83\n",
      "[65]\tvalid_0's l2: 935.324\n",
      "[66]\tvalid_0's l2: 921.067\n",
      "[21]\tvalid_0's l2: 1123.58\n",
      "[58]\tvalid_0's l2: 954.644\n",
      "[80]\tvalid_0's l2: 940.129\n",
      "[66]\tvalid_0's l2: 937.164\n",
      "[10]\tvalid_0's l2: 1531.24\n",
      "[67]\tvalid_0's l2: 918.973\n",
      "[31]\tvalid_0's l2: 982.371\n",
      "[7]\tvalid_0's l2: 1802.58\n",
      "[68]\tvalid_0's l2: 918.406\n",
      "[59]\tvalid_0's l2: 952.737\n",
      "[22]\tvalid_0's l2: 1110.5\n",
      "[67]\tvalid_0's l2: 937.016\n",
      "[81]\tvalid_0's l2: 940.007\n",
      "[69]\tvalid_0's l2: 919.327\n",
      "[32]\tvalid_0's l2: 973.206\n",
      "[11]\tvalid_0's l2: 1455.4\n",
      "[68]\tvalid_0's l2: 938.225\n",
      "[60]\tvalid_0's l2: 951.382\n",
      "[70]\tvalid_0's l2: 919.422\n",
      "[8]\tvalid_0's l2: 1696.82\n",
      "[23]\tvalid_0's l2: 1098.49\n",
      "[82]\tvalid_0's l2: 939.78\n",
      "[69]\tvalid_0's l2: 940.342\n",
      "[61]\tvalid_0's l2: 952.008\n",
      "[33]\tvalid_0's l2: 971.442\n",
      "[71]\tvalid_0's l2: 917.075\n",
      "[24]\tvalid_0's l2: 1086.63\n",
      "[12]\tvalid_0's l2: 1397.67\n",
      "[70]\tvalid_0's l2: 939.855\n",
      "[9]\tvalid_0's l2: 1612.6\n",
      "[83]\tvalid_0's l2: 940.968\n",
      "[72]\tvalid_0's l2: 917.046\n",
      "[34]\tvalid_0's l2: 963.994\n",
      "[62]\tvalid_0's l2: 951.998\n",
      "[73]\tvalid_0's l2: 917.07\n",
      "[71]\tvalid_0's l2: 939.782\n",
      "[84]\tvalid_0's l2: 940.796\n",
      "[25]\tvalid_0's l2: 1074.34\n",
      "[63]\tvalid_0's l2: 953.519\n",
      "[74]\tvalid_0's l2: 916.384\n",
      "[10]\tvalid_0's l2: 1525.4\n",
      "[13]\tvalid_0's l2: 1351.09\n",
      "[72]\tvalid_0's l2: 937.192\n",
      "[35]\tvalid_0's l2: 966.167\n",
      "[85]\tvalid_0's l2: 940.553\n",
      "[75]\tvalid_0's l2: 916.569\n",
      "[64]\tvalid_0's l2: 954.31\n",
      "[14]\tvalid_0's l2: 1308.21\n",
      "[73]\tvalid_0's l2: 940.883\n",
      "[26]\tvalid_0's l2: 1066.74\n",
      "[11]\tvalid_0's l2: 1447.4\n",
      "[76]\tvalid_0's l2: 916.857\n",
      "[65]\tvalid_0's l2: 953.565\n",
      "[86]\tvalid_0's l2: 939.866\n",
      "[36]\tvalid_0's l2: 959.994\n",
      "[74]\tvalid_0's l2: 943.73\n",
      "[15]\tvalid_0's l2: 1272.68\n",
      "[77]\tvalid_0's l2: 917.772\n",
      "[66]\tvalid_0's l2: 952.94\n",
      "[27]\tvalid_0's l2: 1060.43\n",
      "[12]\tvalid_0's l2: 1392.24\n",
      "[87]\tvalid_0's l2: 940.705\n",
      "[75]\tvalid_0's l2: 941.832\n",
      "[78]\tvalid_0's l2: 917.712\n",
      "[37]\tvalid_0's l2: 953.001\n",
      "[79]\tvalid_0's l2: 917.616\n",
      "[67]\tvalid_0's l2: 950.353\n",
      "[88]\tvalid_0's l2: 938.823\n",
      "[28]\tvalid_0's l2: 1051.02\n",
      "[16]\tvalid_0's l2: 1239.06\n",
      "[76]\tvalid_0's l2: 940.926\n",
      "[80]\tvalid_0's l2: 921.076\n",
      "[13]\tvalid_0's l2: 1337.7\n",
      "[68]\tvalid_0's l2: 948.791\n",
      "[38]\tvalid_0's l2: 948.003\n",
      "[89]\tvalid_0's l2: 938.14\n",
      "[77]\tvalid_0's l2: 942.653\n",
      "[81]\tvalid_0's l2: 920.053\n",
      "[17]\tvalid_0's l2: 1217.08\n",
      "[29]\tvalid_0's l2: 1044.23\n",
      "[69]\tvalid_0's l2: 950.133\n",
      "[82]\tvalid_0's l2: 918.865\n",
      "[78]\tvalid_0's l2: 940.125\n",
      "[90]\tvalid_0's l2: 937.649\n",
      "[14]\tvalid_0's l2: 1300.15\n",
      "[39]\tvalid_0's l2: 942.468\n",
      "[83]\tvalid_0's l2: 919.828\n",
      "[70]\tvalid_0's l2: 949.891\n",
      "[30]\tvalid_0's l2: 1039.34\n",
      "[79]\tvalid_0's l2: 940.268\n",
      "[18]\tvalid_0's l2: 1190.42\n",
      "[84]\tvalid_0's l2: 923.127\n",
      "[91]\tvalid_0's l2: 936.354\n",
      "[80]\tvalid_0's l2: 938.95\n",
      "[15]\tvalid_0's l2: 1263.14[71]\tvalid_0's l2: 950.09\n",
      "\n",
      "[85]\tvalid_0's l2: 925.375\n",
      "[81]\tvalid_0's l2: 939.01\n",
      "[40]\tvalid_0's l2: 941.195\n",
      "[19]\tvalid_0's l2: 1169.94\n",
      "[31]\tvalid_0's l2: 1034.01\n",
      "[92]\tvalid_0's l2: 935.736\n",
      "[72]\tvalid_0's l2: 950.381\n",
      "[86]\tvalid_0's l2: 926.199\n",
      "[82]\tvalid_0's l2: 939.101\n",
      "[16]\tvalid_0's l2: 1225.7\n",
      "[73]\tvalid_0's l2: 948.999\n",
      "[41]\tvalid_0's l2: 934.758\n",
      "[93]\tvalid_0's l2: 936.776\n",
      "[32]\tvalid_0's l2: 1026.24\n",
      "[87]\tvalid_0's l2: 924.421\n",
      "[83]\tvalid_0's l2: 939.5\n",
      "[20]\tvalid_0's l2: 1147.59\n",
      "[74]\tvalid_0's l2: 950.788\n",
      "[88]\tvalid_0's l2: 924.919\n",
      "[84]\tvalid_0's l2: 938.812\n",
      "[94]\tvalid_0's l2: 937.192\n",
      "[17]\tvalid_0's l2: 1199.19\n",
      "[75]\tvalid_0's l2: 948.304\n",
      "[42]\tvalid_0's l2: 930.521\n",
      "[85]\tvalid_0's l2: 936.881\n",
      "[89]\tvalid_0's l2: 924.281\n",
      "[33]\tvalid_0's l2: 1019.16\n",
      "[90]\tvalid_0's l2: 925.461\n",
      "[76]\tvalid_0's l2: 945.633\n",
      "[21]\tvalid_0's l2: 1128.11\n",
      "[95]\tvalid_0's l2: 936.609\n",
      "[86]\tvalid_0's l2: 935.524\n",
      "[18]\tvalid_0's l2: 1169.44\n",
      "[43]\tvalid_0's l2: 930.623\n",
      "[91]\tvalid_0's l2: 925.159\n",
      "[77]\tvalid_0's l2: 944.209\n",
      "[96]\tvalid_0's l2: 935.654\n",
      "[92]\tvalid_0's l2: 924.442\n",
      "[87]\tvalid_0's l2: 935.902\n",
      "[34]\tvalid_0's l2: 1015.58\n",
      "[22]\tvalid_0's l2: 1114.03\n",
      "[78]\tvalid_0's l2: 943.066\n",
      "[19]\tvalid_0's l2: 1142.8\n",
      "[93]\tvalid_0's l2: 924.502\n",
      "[88]\tvalid_0's l2: 935.571\n",
      "[44]\tvalid_0's l2: 927.562\n",
      "[97]\tvalid_0's l2: 935.644\n",
      "[94]\tvalid_0's l2: 926.22\n",
      "[35]\tvalid_0's l2: 1009.53\n",
      "[23]\tvalid_0's l2: 1098.59\n",
      "[89]\tvalid_0's l2: 934.721\n",
      "[79]\tvalid_0's l2: 944.158\n",
      "[45]\tvalid_0's l2: 924.332\n",
      "[20]\tvalid_0's l2: 1118.47\n",
      "[98]\tvalid_0's l2: 936.007\n",
      "[95]\tvalid_0's l2: 924.821\n",
      "[80]\tvalid_0's l2: 944.104\n",
      "[36]\tvalid_0's l2: 1007.68\n",
      "[90]\tvalid_0's l2: 934.647\n",
      "[24]\tvalid_0's l2: 1083.76\n",
      "[99]\tvalid_0's l2: 934.433\n",
      "[96]\tvalid_0's l2: 922.854\n",
      "[21]\tvalid_0's l2: 1105.83\n",
      "[91]\tvalid_0's l2: 934.996\n",
      "[46]\tvalid_0's l2: 922.128\n",
      "[97]\tvalid_0's l2: 920.11\n",
      "[81]\tvalid_0's l2: 942.766\n"
     ]
    },
    {
     "name": "stderr",
     "output_type": "stream",
     "text": [
      "[I 2023-07-08 06:41:37,569] Trial 21 finished with value: 30.539730837832526 and parameters: {'num_leaves': 56, 'bagging_fraction': 0.9085976329689973, 'min_child_samples': 30}. Best is trial 13 with value: 30.15041888367542.\n"
     ]
    },
    {
     "name": "stdout",
     "output_type": "stream",
     "text": [
      "[98]\tvalid_0's l2: 918.352\n",
      "[37]\tvalid_0's l2: 1003.38\n",
      "[100]\tvalid_0's l2: 932.675\n",
      "[92]\tvalid_0's l2: 936.391\n",
      "[82]\tvalid_0's l2: 941.74\n",
      "[25]\tvalid_0's l2: 1070.94\n",
      "[47]\tvalid_0's l2: 918.21\n",
      "[22]\tvalid_0's l2: 1086.31\n",
      "[99]\tvalid_0's l2: 917.581\n",
      "[LightGBM] [Warning] bagging_fraction is set=0.40617767635035285, subsample=1.0 will be ignored. Current value: bagging_fraction=0.40617767635035285\n",
      "[83]\tvalid_0's l2: 942.962\n",
      "[93]\tvalid_0's l2: 936.864\n"
     ]
    },
    {
     "name": "stderr",
     "output_type": "stream",
     "text": [
      "[I 2023-07-08 06:41:38,074] Trial 24 finished with value: 30.319647421845026 and parameters: {'num_leaves': 34, 'bagging_fraction': 0.9754252316198575, 'min_child_samples': 29}. Best is trial 13 with value: 30.15041888367542.\n"
     ]
    },
    {
     "name": "stdout",
     "output_type": "stream",
     "text": [
      "[38]\tvalid_0's l2: 999.151\n",
      "[100]\tvalid_0's l2: 919.281\n",
      "[26]\tvalid_0's l2: 1059.22\n",
      "[94]\tvalid_0's l2: 935.802\n",
      "[84]\tvalid_0's l2: 942.118\n",
      "[48]\tvalid_0's l2: 916.713\n",
      "[23]\tvalid_0's l2: 1071.31\n",
      "[95]\tvalid_0's l2: 935.32\n",
      "[39]\tvalid_0's l2: 997.622\n",
      "[85]\tvalid_0's l2: 940.902\n",
      "[1]\tvalid_0's l2: 3016.38\n",
      "[27]\tvalid_0's l2: 1052.05\n",
      "[96]\tvalid_0's l2: 934.382\n",
      "[49]\tvalid_0's l2: 916.508\n",
      "[24]\tvalid_0's l2: 1055.01\n",
      "[86]\tvalid_0's l2: 939.77\n",
      "[97]\tvalid_0's l2: 934.082\n",
      "[40]\tvalid_0's l2: 992.156\n",
      "[28]\tvalid_0's l2: 1043.53\n",
      "[2]\tvalid_0's l2: 2711.19\n",
      "[98]\tvalid_0's l2: 934.015\n",
      "[25]\tvalid_0's l2: 1040.83\n",
      "[87]\tvalid_0's l2: 939.76\n",
      "[50]\tvalid_0's l2: 916.807\n",
      "[99]\tvalid_0's l2: 933.499\n"
     ]
    },
    {
     "name": "stderr",
     "output_type": "stream",
     "text": [
      "[I 2023-07-08 06:41:39,680] Trial 23 finished with value: 30.555354472536894 and parameters: {'num_leaves': 37, 'bagging_fraction': 0.9916051843343597, 'min_child_samples': 29}. Best is trial 13 with value: 30.15041888367542.\n"
     ]
    },
    {
     "name": "stdout",
     "output_type": "stream",
     "text": [
      "[41]\tvalid_0's l2: 989.861\n",
      "[88]\tvalid_0's l2: 940.122\n",
      "[3]\tvalid_0's l2: 2458.05\n",
      "[100]\tvalid_0's l2: 933.63\n",
      "[29]\tvalid_0's l2: 1029.5\n",
      "[26]\tvalid_0's l2: 1035.62\n",
      "[51]\tvalid_0's l2: 914.379\n",
      "[89]\tvalid_0's l2: 940.409\n",
      "[42]\tvalid_0's l2: 989.324\n",
      "[4]\tvalid_0's l2: 2244.82\n",
      "[90]\tvalid_0's l2: 940.603\n",
      "[30]\tvalid_0's l2: 1018\n",
      "[52]\tvalid_0's l2: 913.632\n",
      "[27]\tvalid_0's l2: 1024.54\n",
      "[91]\tvalid_0's l2: 939.444\n",
      "[43]\tvalid_0's l2: 986.329\n",
      "[5]\tvalid_0's l2: 2078.23\n",
      "[92]\tvalid_0's l2: 939.681\n",
      "[44]\tvalid_0's l2: 983.589\n",
      "[53]\tvalid_0's l2: 912.027\n",
      "[31]\tvalid_0's l2: 1012.68\n",
      "[28]\tvalid_0's l2: 1015.16\n",
      "[93]\tvalid_0's l2: 940.165\n",
      "[45]\tvalid_0's l2: 980.339\n",
      "[6]\tvalid_0's l2: 1927.17\n",
      "[29]\tvalid_0's l2: 1004.72\n",
      "[54]\tvalid_0's l2: 911.049\n",
      "[32]\tvalid_0's l2: 1007.48\n",
      "[94]\tvalid_0's l2: 941.648\n",
      "[30]\tvalid_0's l2: 994.324\n",
      "[46]\tvalid_0's l2: 977.3\n",
      "[95]\tvalid_0's l2: 939.485\n",
      "[55]\tvalid_0's l2: 911.742\n",
      "[7]\tvalid_0's l2: 1791.72\n",
      "[33]\tvalid_0's l2: 1001.46\n",
      "[96]\tvalid_0's l2: 937.713\n",
      "[31]\tvalid_0's l2: 988.141\n",
      "[47]\tvalid_0's l2: 975.174\n",
      "[56]\tvalid_0's l2: 912.096\n",
      "[97]\tvalid_0's l2: 938.385\n",
      "[8]\tvalid_0's l2: 1678.24\n",
      "[34]\tvalid_0's l2: 996.107\n",
      "[32]\tvalid_0's l2: 982.046\n",
      "[98]\tvalid_0's l2: 938.847\n",
      "[48]\tvalid_0's l2: 974.104\n",
      "[9]\tvalid_0's l2: 1578.59\n",
      "[57]\tvalid_0's l2: 913.266\n",
      "[99]\tvalid_0's l2: 939.801\n",
      "[33]\tvalid_0's l2: 977.02\n",
      "[49]\tvalid_0's l2: 975.029\n",
      "[35]\tvalid_0's l2: 990.626\n",
      "[10]\tvalid_0's l2: 1514.45\n"
     ]
    },
    {
     "name": "stderr",
     "output_type": "stream",
     "text": [
      "[I 2023-07-08 06:41:42,785] Trial 22 finished with value: 30.67069938256619 and parameters: {'num_leaves': 45, 'bagging_fraction': 0.4158280828474437, 'min_child_samples': 32}. Best is trial 13 with value: 30.15041888367542.\n"
     ]
    },
    {
     "name": "stdout",
     "output_type": "stream",
     "text": [
      "[100]\tvalid_0's l2: 940.692\n",
      "[34]\tvalid_0's l2: 975.138\n",
      "[58]\tvalid_0's l2: 912.854\n",
      "[50]\tvalid_0's l2: 972.258\n",
      "[36]\tvalid_0's l2: 983.382\n",
      "[11]\tvalid_0's l2: 1461.28\n",
      "[37]\tvalid_0's l2: 982.127\n",
      "[59]\tvalid_0's l2: 912.089\n",
      "[35]\tvalid_0's l2: 969.047\n",
      "[51]\tvalid_0's l2: 970.004\n",
      "[12]\tvalid_0's l2: 1408.76\n",
      "[60]\tvalid_0's l2: 912.254\n",
      "[38]\tvalid_0's l2: 982.2\n",
      "[36]\tvalid_0's l2: 965.75\n",
      "[52]\tvalid_0's l2: 970.749\n",
      "[13]\tvalid_0's l2: 1359.56\n",
      "[61]\tvalid_0's l2: 909.834\n",
      "[39]\tvalid_0's l2: 975.708\n",
      "[53]\tvalid_0's l2: 970.81\n",
      "[37]\tvalid_0's l2: 959.607\n",
      "[62]\tvalid_0's l2: 910.606\n",
      "[14]\tvalid_0's l2: 1325.53\n",
      "[40]\tvalid_0's l2: 972.796\n",
      "[38]\tvalid_0's l2: 954.738\n",
      "[54]\tvalid_0's l2: 970.675\n",
      "[63]\tvalid_0's l2: 909.881\n",
      "[15]\tvalid_0's l2: 1285.67\n",
      "[39]\tvalid_0's l2: 951.538\n",
      "[41]\tvalid_0's l2: 969.801\n",
      "[64]\tvalid_0's l2: 911.207\n",
      "[55]\tvalid_0's l2: 970.637\n",
      "[40]\tvalid_0's l2: 948.025\n",
      "[16]\tvalid_0's l2: 1256.63\n",
      "[42]\tvalid_0's l2: 966.3\n",
      "[56]\tvalid_0's l2: 966.497\n",
      "[65]\tvalid_0's l2: 911.151\n",
      "[17]\tvalid_0's l2: 1224.13\n",
      "[41]\tvalid_0's l2: 944.258\n",
      "[43]\tvalid_0's l2: 963.955\n",
      "[66]\tvalid_0's l2: 909.652\n",
      "[57]\tvalid_0's l2: 966.736\n",
      "[18]\tvalid_0's l2: 1200.14\n",
      "[42]\tvalid_0's l2: 944.823\n",
      "[44]\tvalid_0's l2: 961.134\n",
      "[58]\tvalid_0's l2: 965.878\n",
      "[67]\tvalid_0's l2: 909.082\n",
      "[19]\tvalid_0's l2: 1185.02\n",
      "[43]\tvalid_0's l2: 942.775\n",
      "[45]\tvalid_0's l2: 963.111\n",
      "[68]\tvalid_0's l2: 907.804\n",
      "[59]\tvalid_0's l2: 963.959\n",
      "[20]\tvalid_0's l2: 1162.75\n",
      "[44]\tvalid_0's l2: 940.292\n",
      "[46]\tvalid_0's l2: 961.336\n",
      "[69]\tvalid_0's l2: 908.434\n",
      "[60]\tvalid_0's l2: 964.034\n",
      "[21]\tvalid_0's l2: 1145.74\n",
      "[45]\tvalid_0's l2: 938.685\n",
      "[70]\tvalid_0's l2: 907.94\n",
      "[47]\tvalid_0's l2: 961.543\n",
      "[61]\tvalid_0's l2: 963.402\n",
      "[22]\tvalid_0's l2: 1127.48\n",
      "[46]\tvalid_0's l2: 936.045\n",
      "[71]\tvalid_0's l2: 909.295\n",
      "[48]\tvalid_0's l2: 960.761\n",
      "[62]\tvalid_0's l2: 964.841\n",
      "[23]\tvalid_0's l2: 1107.82\n",
      "[47]\tvalid_0's l2: 928.973\n",
      "[72]\tvalid_0's l2: 908.658\n",
      "[49]\tvalid_0's l2: 959.181\n",
      "[24]\tvalid_0's l2: 1088.8\n",
      "[63]\tvalid_0's l2: 966.35\n",
      "[48]\tvalid_0's l2: 926.61\n",
      "[73]\tvalid_0's l2: 907.093\n",
      "[50]\tvalid_0's l2: 957.618\n",
      "[49]\tvalid_0's l2: 922.676\n",
      "[25]\tvalid_0's l2: 1074.7\n",
      "[64]\tvalid_0's l2: 967.36\n",
      "[74]\tvalid_0's l2: 907.426\n",
      "[51]\tvalid_0's l2: 956.089\n",
      "[26]\tvalid_0's l2: 1062.95\n",
      "[50]\tvalid_0's l2: 923.095\n",
      "[65]\tvalid_0's l2: 968.045\n",
      "[52]\tvalid_0's l2: 954.453\n",
      "[75]\tvalid_0's l2: 907.097\n",
      "[51]\tvalid_0's l2: 919.739\n",
      "[27]\tvalid_0's l2: 1054.28\n",
      "[66]\tvalid_0's l2: 968.184\n",
      "[53]\tvalid_0's l2: 952.601\n",
      "[52]\tvalid_0's l2: 916.732\n",
      "[76]\tvalid_0's l2: 906.565\n",
      "[67]\tvalid_0's l2: 967.841\n",
      "[28]\tvalid_0's l2: 1049.17\n",
      "[54]\tvalid_0's l2: 950.856\n",
      "[53]\tvalid_0's l2: 916.988\n",
      "[68]\tvalid_0's l2: 969.059\n",
      "[29]\tvalid_0's l2: 1046.55[77]\tvalid_0's l2: 907.66\n",
      "\n",
      "[55]\tvalid_0's l2: 950.695\n",
      "[54]\tvalid_0's l2: 915.076\n",
      "[78]\tvalid_0's l2: 906.664\n",
      "[69]\tvalid_0's l2: 968.155\n",
      "[30]\tvalid_0's l2: 1040.14\n",
      "[55]\tvalid_0's l2: 916.763\n",
      "[79]\tvalid_0's l2: 907.306\n",
      "[56]\tvalid_0's l2: 949.762\n",
      "[70]\tvalid_0's l2: 967.591\n",
      "[31]\tvalid_0's l2: 1036.89\n",
      "[57]\tvalid_0's l2: 950.002\n",
      "[56]\tvalid_0's l2: 918.252\n",
      "[80]\tvalid_0's l2: 906.288\n",
      "[58]\tvalid_0's l2: 950.644\n",
      "[32]\tvalid_0's l2: 1030.64\n",
      "[71]\tvalid_0's l2: 967.199\n",
      "[57]\tvalid_0's l2: 919.699\n",
      "[81]\tvalid_0's l2: 905.473\n",
      "[72]\tvalid_0's l2: 966.663\n",
      "[59]\tvalid_0's l2: 950.279\n",
      "[33]\tvalid_0's l2: 1026.43\n",
      "[58]\tvalid_0's l2: 919.761\n",
      "[82]\tvalid_0's l2: 905.103\n",
      "[73]\tvalid_0's l2: 967.825\n",
      "[60]\tvalid_0's l2: 950.6\n",
      "[83]\tvalid_0's l2: 905.878\n",
      "[59]\tvalid_0's l2: 919.549\n",
      "[34]\tvalid_0's l2: 1021.12\n",
      "[74]\tvalid_0's l2: 968.282\n",
      "[61]\tvalid_0's l2: 949.067\n",
      "[60]\tvalid_0's l2: 920.328\n",
      "[35]\tvalid_0's l2: 1020.1\n",
      "[75]\tvalid_0's l2: 968.482\n",
      "[84]\tvalid_0's l2: 905.689\n",
      "[62]\tvalid_0's l2: 949.812\n",
      "[61]\tvalid_0's l2: 922.668\n",
      "[36]\tvalid_0's l2: 1015.63\n",
      "[85]\tvalid_0's l2: 905.739\n",
      "[76]\tvalid_0's l2: 968.482\n",
      "[63]\tvalid_0's l2: 947.911\n",
      "[62]\tvalid_0's l2: 922.951\n",
      "[86]\tvalid_0's l2: 905.938\n",
      "[77]\tvalid_0's l2: 967.926\n",
      "[37]\tvalid_0's l2: 1014.19\n",
      "[63]\tvalid_0's l2: 920.624\n",
      "[64]\tvalid_0's l2: 947.936\n",
      "[87]\tvalid_0's l2: 905.772\n",
      "[38]\tvalid_0's l2: 1008.83\n",
      "[78]\tvalid_0's l2: 969.217\n",
      "[88]\tvalid_0's l2: 904.53\n",
      "[64]\tvalid_0's l2: 920.678\n",
      "[65]\tvalid_0's l2: 948.416\n",
      "[79]\tvalid_0's l2: 968.595\n",
      "[39]\tvalid_0's l2: 1005.23\n",
      "[89]\tvalid_0's l2: 904.849\n",
      "[65]\tvalid_0's l2: 920.406\n",
      "[66]\tvalid_0's l2: 945.902\n",
      "[80]\tvalid_0's l2: 968.823\n",
      "[90]\tvalid_0's l2: 904.404\n",
      "[40]\tvalid_0's l2: 1000.08\n",
      "[66]\tvalid_0's l2: 919.478\n",
      "[81]\tvalid_0's l2: 968.512\n",
      "[67]\tvalid_0's l2: 945.581\n",
      "[91]\tvalid_0's l2: 904.309\n",
      "[41]\tvalid_0's l2: 1001.4\n",
      "[82]\tvalid_0's l2: 969.648\n",
      "[68]\tvalid_0's l2: 947.476\n",
      "[67]\tvalid_0's l2: 918.999\n",
      "[92]\tvalid_0's l2: 904.309\n",
      "[42]\tvalid_0's l2: 998.442\n",
      "[83]\tvalid_0's l2: 970.512\n",
      "[68]\tvalid_0's l2: 919.416\n",
      "[69]\tvalid_0's l2: 948.958\n",
      "[93]\tvalid_0's l2: 904.724\n",
      "[43]\tvalid_0's l2: 998.029\n",
      "[84]\tvalid_0's l2: 971.171\n",
      "[69]\tvalid_0's l2: 919.76\n",
      "[70]\tvalid_0's l2: 949.884\n",
      "[94]\tvalid_0's l2: 905.137\n",
      "[70]\tvalid_0's l2: 919.533\n",
      "[85]\tvalid_0's l2: 971.001\n",
      "[44]\tvalid_0's l2: 994.143\n",
      "[71]\tvalid_0's l2: 949.715\n",
      "[95]\tvalid_0's l2: 903.247\n",
      "[86]\tvalid_0's l2: 969.714\n",
      "[71]\tvalid_0's l2: 918.014\n",
      "[45]\tvalid_0's l2: 990.624\n",
      "[96]\tvalid_0's l2: 903.27\n",
      "[72]\tvalid_0's l2: 948.253\n",
      "[87]\tvalid_0's l2: 969.891\n",
      "[72]\tvalid_0's l2: 919.138\n",
      "[46]\tvalid_0's l2: 990.473\n",
      "[73]\tvalid_0's l2: 947.653\n",
      "[97]\tvalid_0's l2: 903.923\n",
      "[88]\tvalid_0's l2: 970.954\n",
      "[73]\tvalid_0's l2: 918.357\n",
      "[47]\tvalid_0's l2: 990.15\n",
      "[74]\tvalid_0's l2: 948.195\n",
      "[98]\tvalid_0's l2: 903.167\n",
      "[89]\tvalid_0's l2: 970.183\n",
      "[75]\tvalid_0's l2: 947.918\n",
      "[99]\tvalid_0's l2: 902.432\n",
      "[74]\tvalid_0's l2: 918.22\n",
      "[48]\tvalid_0's l2: 990.332\n"
     ]
    },
    {
     "name": "stderr",
     "output_type": "stream",
     "text": [
      "[I 2023-07-08 06:41:56,594] Trial 25 finished with value: 30.039273884862936 and parameters: {'num_leaves': 70, 'bagging_fraction': 0.39151741457148603, 'min_child_samples': 26}. Best is trial 25 with value: 30.039273884862936.\n"
     ]
    },
    {
     "name": "stdout",
     "output_type": "stream",
     "text": [
      "[90]\tvalid_0's l2: 971\n",
      "[76]\tvalid_0's l2: 948.036\n",
      "[100]\tvalid_0's l2: 902.358\n",
      "[75]\tvalid_0's l2: 919.737\n",
      "[49]\tvalid_0's l2: 990.484\n",
      "[91]\tvalid_0's l2: 969.582\n",
      "[76]\tvalid_0's l2: 918.559\n",
      "[50]\tvalid_0's l2: 990.637\n",
      "[77]\tvalid_0's l2: 949.247\n",
      "[77]\tvalid_0's l2: 919.05\n",
      "[92]\tvalid_0's l2: 969.522\n",
      "[51]\tvalid_0's l2: 987.802\n",
      "[78]\tvalid_0's l2: 949.313\n",
      "[93]\tvalid_0's l2: 969.233\n",
      "[78]\tvalid_0's l2: 918.828\n",
      "[94]\tvalid_0's l2: 968.952\n",
      "[52]\tvalid_0's l2: 984.937[79]\tvalid_0's l2: 949.823\n",
      "\n",
      "[79]\tvalid_0's l2: 918.809\n",
      "[95]\tvalid_0's l2: 968.227\n",
      "[80]\tvalid_0's l2: 918.669\n",
      "[80]\tvalid_0's l2: 950.254\n",
      "[53]\tvalid_0's l2: 984.571\n",
      "[96]\tvalid_0's l2: 967.923\n",
      "[81]\tvalid_0's l2: 950.751\n",
      "[81]\tvalid_0's l2: 917.291\n",
      "[54]\tvalid_0's l2: 984.056\n",
      "[97]\tvalid_0's l2: 967.802\n",
      "[82]\tvalid_0's l2: 916.346\n",
      "[82]\tvalid_0's l2: 950.818\n",
      "[55]\tvalid_0's l2: 983.252\n",
      "[98]\tvalid_0's l2: 966.727\n",
      "[83]\tvalid_0's l2: 949.3[83]\tvalid_0's l2: 916.122\n",
      "\n",
      "[99]\tvalid_0's l2: 967.184\n",
      "[56]\tvalid_0's l2: 984.141\n",
      "[84]\tvalid_0's l2: 915.377\n",
      "[84]\tvalid_0's l2: 948.757\n"
     ]
    },
    {
     "name": "stderr",
     "output_type": "stream",
     "text": [
      "[I 2023-07-08 06:41:59,383] Trial 26 finished with value: 31.110809514973585 and parameters: {'num_leaves': 69, 'bagging_fraction': 0.4012723978741749, 'min_child_samples': 22}. Best is trial 25 with value: 30.039273884862936.\n"
     ]
    },
    {
     "name": "stdout",
     "output_type": "stream",
     "text": [
      "[57]\tvalid_0's l2: 984.745\n",
      "[100]\tvalid_0's l2: 967.882\n",
      "[85]\tvalid_0's l2: 914.551\n",
      "[85]\tvalid_0's l2: 948.62\n",
      "[58]\tvalid_0's l2: 986.167\n",
      "[86]\tvalid_0's l2: 914.342\n",
      "[86]\tvalid_0's l2: 948.454\n",
      "[59]\tvalid_0's l2: 985.395\n",
      "[87]\tvalid_0's l2: 914.304\n",
      "[88]\tvalid_0's l2: 913.503\n",
      "[87]\tvalid_0's l2: 947.67\n",
      "[60]\tvalid_0's l2: 984.829\n",
      "[89]\tvalid_0's l2: 913.293\n",
      "[88]\tvalid_0's l2: 947.384\n",
      "[61]\tvalid_0's l2: 984.148\n",
      "[90]\tvalid_0's l2: 913.327\n",
      "[89]\tvalid_0's l2: 947.233\n",
      "[62]\tvalid_0's l2: 984.21\n",
      "[91]\tvalid_0's l2: 912.596\n",
      "[90]\tvalid_0's l2: 947.03\n",
      "[63]\tvalid_0's l2: 983.786\n",
      "[92]\tvalid_0's l2: 913.015\n",
      "[91]\tvalid_0's l2: 946.567\n",
      "[64]\tvalid_0's l2: 982.917\n",
      "[93]\tvalid_0's l2: 912.955\n",
      "[92]\tvalid_0's l2: 945.466\n",
      "[65]\tvalid_0's l2: 982.009\n",
      "[94]\tvalid_0's l2: 912.502\n",
      "[93]\tvalid_0's l2: 946.629\n",
      "[95]\tvalid_0's l2: 912.425\n",
      "[66]\tvalid_0's l2: 980.658\n",
      "[94]\tvalid_0's l2: 946.975\n",
      "[96]\tvalid_0's l2: 912.245\n",
      "[67]\tvalid_0's l2: 981.222\n",
      "[95]\tvalid_0's l2: 946.71\n",
      "[97]\tvalid_0's l2: 913.06\n",
      "[68]\tvalid_0's l2: 982.061\n",
      "[96]\tvalid_0's l2: 946.755\n",
      "[98]\tvalid_0's l2: 912.75\n",
      "[69]\tvalid_0's l2: 980.506\n",
      "[99]\tvalid_0's l2: 912.712\n"
     ]
    },
    {
     "name": "stderr",
     "output_type": "stream",
     "text": [
      "[I 2023-07-08 06:42:02,498] Trial 28 finished with value: 30.195753795949802 and parameters: {'num_leaves': 69, 'bagging_fraction': 0.42601439806287855, 'min_child_samples': 23}. Best is trial 25 with value: 30.039273884862936.\n"
     ]
    },
    {
     "name": "stdout",
     "output_type": "stream",
     "text": [
      "[97]\tvalid_0's l2: 946.332\n",
      "[100]\tvalid_0's l2: 911.784\n",
      "[70]\tvalid_0's l2: 980.274\n",
      "[98]\tvalid_0's l2: 947.044\n",
      "[71]\tvalid_0's l2: 980.26\n",
      "[99]\tvalid_0's l2: 947.367\n"
     ]
    },
    {
     "name": "stderr",
     "output_type": "stream",
     "text": [
      "[I 2023-07-08 06:42:02,905] Trial 27 finished with value: 30.76444863406577 and parameters: {'num_leaves': 73, 'bagging_fraction': 0.4197842776652226, 'min_child_samples': 21}. Best is trial 25 with value: 30.039273884862936.\n"
     ]
    },
    {
     "name": "stdout",
     "output_type": "stream",
     "text": [
      "[72]\tvalid_0's l2: 979.766\n",
      "[100]\tvalid_0's l2: 946.451\n",
      "[73]\tvalid_0's l2: 980.062\n",
      "[74]\tvalid_0's l2: 980.371\n",
      "[75]\tvalid_0's l2: 978.923\n",
      "[76]\tvalid_0's l2: 979.04\n",
      "[77]\tvalid_0's l2: 978.903\n",
      "[78]\tvalid_0's l2: 978.719\n",
      "[79]\tvalid_0's l2: 978.961\n",
      "[80]\tvalid_0's l2: 978.69\n",
      "[81]\tvalid_0's l2: 978.153\n",
      "[82]\tvalid_0's l2: 978.153\n",
      "[83]\tvalid_0's l2: 977.96\n",
      "[84]\tvalid_0's l2: 977.971\n",
      "[85]\tvalid_0's l2: 978.94\n",
      "[86]\tvalid_0's l2: 978.874\n",
      "[87]\tvalid_0's l2: 977.804\n",
      "[88]\tvalid_0's l2: 978.238\n",
      "[89]\tvalid_0's l2: 978.648\n",
      "[90]\tvalid_0's l2: 979.326\n",
      "[91]\tvalid_0's l2: 978.772\n",
      "[92]\tvalid_0's l2: 979.435\n",
      "[93]\tvalid_0's l2: 978.723\n",
      "[94]\tvalid_0's l2: 978.388\n",
      "[95]\tvalid_0's l2: 978.262\n",
      "[96]\tvalid_0's l2: 977.9\n",
      "[97]\tvalid_0's l2: 977.555\n",
      "[98]\tvalid_0's l2: 976.769\n",
      "[99]\tvalid_0's l2: 976.462\n"
     ]
    },
    {
     "name": "stderr",
     "output_type": "stream",
     "text": [
      "[I 2023-07-08 06:43:50,298] Trial 29 finished with value: 31.242864147318983 and parameters: {'num_leaves': 74, 'bagging_fraction': 0.40617767635035285, 'min_child_samples': 21}. Best is trial 25 with value: 30.039273884862936.\n"
     ]
    },
    {
     "name": "stdout",
     "output_type": "stream",
     "text": [
      "[100]\tvalid_0's l2: 976.117\n"
     ]
    }
   ],
   "source": [
    "## Обучение модели с определенными гиперпараметрами\n",
    "study = optuna.create_study(direction='minimize')\n",
    "study.optimize(trial, n_trials=30,n_jobs=-1)"
   ]
  },
  {
   "cell_type": "code",
   "execution_count": 21,
   "metadata": {},
   "outputs": [
    {
     "name": "stdout",
     "output_type": "stream",
     "text": [
      "{'num_leaves': 70, 'bagging_fraction': 0.39151741457148603, 'min_child_samples': 26}\n",
      "Метрика RMSE на лучших гиперпараметрах: 30.039273884862936\n"
     ]
    }
   ],
   "source": [
    "best_params = study.best_params\n",
    "print(best_params)\n",
    "best_mse = study.best_value\n",
    "print('Метрика RMSE на лучших гиперпараметрах:',best_mse)"
   ]
  },
  {
   "cell_type": "code",
   "execution_count": 22,
   "metadata": {},
   "outputs": [
    {
     "name": "stdout",
     "output_type": "stream",
     "text": [
      "                         RMSE\n",
      "Линейная регрессия      30.02\n",
      "RandomForrestRegressor  31.71\n",
      "CatBoostRegressor       30.43\n",
      "LGBMRegressor           30.07\n"
     ]
    }
   ],
   "source": [
    "#Выведем результате в удобоваримой таблице\n",
    "index = ['Линейная регрессия ',\n",
    "         'RandomForrestRegressor',\n",
    "         'CatBoostRegressor',\n",
    "         'LGBMRegressor'\n",
    "        ]\n",
    "\n",
    "data = {'RMSE':[30.02,31.71,30.43,30.07]}\n",
    "print(pd.DataFrame(data=data, index=index))"
   ]
  },
  {
   "cell_type": "markdown",
   "metadata": {},
   "source": [
    "***Таким образом лучшее значение метрики из всех моделей показала модель линеной регрессии ***"
   ]
  },
  {
   "cell_type": "markdown",
   "metadata": {},
   "source": [
    "## Тестирование"
   ]
  },
  {
   "cell_type": "code",
   "execution_count": 28,
   "metadata": {},
   "outputs": [
    {
     "name": "stdout",
     "output_type": "stream",
     "text": [
      "Метрика RMSE на тестовой выборке 43.18923316180771\n"
     ]
    },
    {
     "data": {
      "text/plain": [
       "Text(0, 0.5, 'Кол-во заказов')"
      ]
     },
     "execution_count": 28,
     "metadata": {},
     "output_type": "execute_result"
    },
    {
     "data": {
      "image/png": "[encoded data removed]",
      "text/plain": [
       "<Figure size 1224x432 with 1 Axes>"
      ]
     },
     "metadata": {
      "needs_background": "light"
     },
     "output_type": "display_data"
    }
   ],
   "source": [
    "# Проверим модель на тестовой выборке.\n",
    "model = LinearRegression()\n",
    "model.fit(features_train, target_train)\n",
    "pred_test=model.predict(features_test)\n",
    "RMSE=mean_squared_error(target_test,pred_test)**0.5\n",
    "print('Метрика RMSE на тестовой выборке',RMSE)\n",
    "plt.figure(figsize=figsize)\n",
    "plt.plot(target_test.index, target_test,'b-',target_test.index,pred_test,'r-')\n",
    "plt.title('График предсказанных данных и тестовых')\n",
    "plt.xlabel('дата')\n",
    "plt.ylabel('Кол-во заказов')"
   ]
  },
  {
   "cell_type": "markdown",
   "metadata": {},
   "source": [
    "***Метрика тестовой выборки уловлетворяет условию задачи ***"
   ]
  },
  {
   "cell_type": "markdown",
   "metadata": {},
   "source": [
    "## Выводы"
   ]
  },
  {
   "cell_type": "markdown",
   "metadata": {},
   "source": [
    "*** В рамках данной задачи были изучен временной ряд с количеством заказов такси за 9 месяцев***\n",
    "\n",
    "*** На этапе предобработки было произведено ресемплирование с периодом в 1 час. ***\n",
    "\n",
    "*** На этапе анализа была произведена проверка на сезонность,тренд,остатки и стационарность ряда ***\n",
    "\n",
    "*** На этапе обучения была написана функция добавляющая лаги и скользящее среднее. ***\n",
    "\n",
    "*** Обучены 4 модели с перебором гипер параметров:Линейная регрессия ,случайного леса, Catboost,LgbLight ***\n",
    "\n",
    "*** Чуть лучше значение RMSE на валидационной выборке показала линейная регрессия. RMSE по тестовой выборке оказался в пределах поставленной задачи.*** "
   ]
  }
 ],
 "metadata": {
  "ExecuteTimeLog": [
   {
    "duration": 55,
    "start_time": "2023-07-04T17:12:53.456Z"
   },
   {
    "duration": 405,
    "start_time": "2023-07-04T17:13:03.913Z"
   },
   {
    "duration": 350,
    "start_time": "2023-07-04T17:13:04.321Z"
   },
   {
    "duration": 49,
    "start_time": "2023-07-04T17:13:22.793Z"
   },
   {
    "duration": 1716,
    "start_time": "2023-07-04T17:15:52.041Z"
   },
   {
    "duration": 18,
    "start_time": "2023-07-04T17:16:25.219Z"
   },
   {
    "duration": 26,
    "start_time": "2023-07-04T17:19:45.932Z"
   },
   {
    "duration": 68,
    "start_time": "2023-07-04T17:22:01.531Z"
   },
   {
    "duration": 5,
    "start_time": "2023-07-04T17:27:42.496Z"
   },
   {
    "duration": 7,
    "start_time": "2023-07-04T17:30:27.499Z"
   },
   {
    "duration": 9,
    "start_time": "2023-07-04T17:30:57.307Z"
   },
   {
    "duration": 9,
    "start_time": "2023-07-04T17:31:37.951Z"
   },
   {
    "duration": 11,
    "start_time": "2023-07-04T17:32:04.095Z"
   },
   {
    "duration": 412,
    "start_time": "2023-07-04T17:32:28.132Z"
   },
   {
    "duration": 50,
    "start_time": "2023-07-04T17:32:28.546Z"
   },
   {
    "duration": 17,
    "start_time": "2023-07-04T17:32:28.598Z"
   },
   {
    "duration": 15,
    "start_time": "2023-07-04T17:32:28.617Z"
   },
   {
    "duration": 5,
    "start_time": "2023-07-04T17:32:28.634Z"
   },
   {
    "duration": 7,
    "start_time": "2023-07-04T17:32:28.640Z"
   },
   {
    "duration": 64,
    "start_time": "2023-07-04T17:33:18.858Z"
   },
   {
    "duration": 420,
    "start_time": "2023-07-04T17:33:46.139Z"
   },
   {
    "duration": 55,
    "start_time": "2023-07-04T17:33:46.561Z"
   },
   {
    "duration": 20,
    "start_time": "2023-07-04T17:33:46.618Z"
   },
   {
    "duration": 18,
    "start_time": "2023-07-04T17:33:46.641Z"
   },
   {
    "duration": 30,
    "start_time": "2023-07-04T17:33:46.661Z"
   },
   {
    "duration": 75,
    "start_time": "2023-07-04T17:33:46.692Z"
   },
   {
    "duration": 398,
    "start_time": "2023-07-04T17:34:05.202Z"
   },
   {
    "duration": 51,
    "start_time": "2023-07-04T17:34:05.602Z"
   },
   {
    "duration": 19,
    "start_time": "2023-07-04T17:34:05.655Z"
   },
   {
    "duration": 17,
    "start_time": "2023-07-04T17:34:05.676Z"
   },
   {
    "duration": 5,
    "start_time": "2023-07-04T17:34:05.695Z"
   },
   {
    "duration": 10,
    "start_time": "2023-07-04T17:34:05.701Z"
   },
   {
    "duration": 65,
    "start_time": "2023-07-04T17:34:31.123Z"
   },
   {
    "duration": 10,
    "start_time": "2023-07-04T17:34:54.715Z"
   },
   {
    "duration": 428,
    "start_time": "2023-07-04T17:35:04.831Z"
   },
   {
    "duration": 53,
    "start_time": "2023-07-04T17:35:05.261Z"
   },
   {
    "duration": 20,
    "start_time": "2023-07-04T17:35:05.316Z"
   },
   {
    "duration": 19,
    "start_time": "2023-07-04T17:35:05.338Z"
   },
   {
    "duration": 9,
    "start_time": "2023-07-04T17:35:05.359Z"
   },
   {
    "duration": 18,
    "start_time": "2023-07-04T17:35:05.369Z"
   },
   {
    "duration": 65,
    "start_time": "2023-07-04T17:35:46.273Z"
   },
   {
    "duration": 3,
    "start_time": "2023-07-04T17:47:32.959Z"
   },
   {
    "duration": 9,
    "start_time": "2023-07-04T17:47:37.607Z"
   },
   {
    "duration": 981,
    "start_time": "2023-07-04T17:48:02.064Z"
   },
   {
    "duration": 63,
    "start_time": "2023-07-04T17:48:03.047Z"
   },
   {
    "duration": 33,
    "start_time": "2023-07-04T17:48:03.112Z"
   },
   {
    "duration": 11,
    "start_time": "2023-07-04T17:48:03.148Z"
   },
   {
    "duration": 28,
    "start_time": "2023-07-04T17:48:03.165Z"
   },
   {
    "duration": 6,
    "start_time": "2023-07-04T17:48:03.195Z"
   },
   {
    "duration": 1625,
    "start_time": "2023-07-04T17:48:03.204Z"
   },
   {
    "duration": 8,
    "start_time": "2023-07-04T17:50:12.504Z"
   },
   {
    "duration": 436,
    "start_time": "2023-07-04T17:54:48.551Z"
   },
   {
    "duration": 63,
    "start_time": "2023-07-04T17:54:48.989Z"
   },
   {
    "duration": 22,
    "start_time": "2023-07-04T17:54:49.054Z"
   },
   {
    "duration": 15,
    "start_time": "2023-07-04T17:54:49.080Z"
   },
   {
    "duration": 45,
    "start_time": "2023-07-04T17:54:49.097Z"
   },
   {
    "duration": 85,
    "start_time": "2023-07-04T17:54:49.143Z"
   },
   {
    "duration": 16,
    "start_time": "2023-07-04T17:54:49.230Z"
   },
   {
    "duration": 102,
    "start_time": "2023-07-04T17:54:49.248Z"
   },
   {
    "duration": 62,
    "start_time": "2023-07-04T17:56:43.719Z"
   },
   {
    "duration": 5,
    "start_time": "2023-07-04T17:58:08.360Z"
   },
   {
    "duration": 417,
    "start_time": "2023-07-04T17:58:16.020Z"
   },
   {
    "duration": 68,
    "start_time": "2023-07-04T17:58:16.439Z"
   },
   {
    "duration": 12,
    "start_time": "2023-07-04T17:58:16.509Z"
   },
   {
    "duration": 20,
    "start_time": "2023-07-04T17:58:16.522Z"
   },
   {
    "duration": 4,
    "start_time": "2023-07-04T17:58:16.544Z"
   },
   {
    "duration": 18,
    "start_time": "2023-07-04T17:58:16.550Z"
   },
   {
    "duration": 11,
    "start_time": "2023-07-04T17:58:16.571Z"
   },
   {
    "duration": 50,
    "start_time": "2023-07-04T18:01:22.250Z"
   },
   {
    "duration": 452,
    "start_time": "2023-07-04T18:01:43.924Z"
   },
   {
    "duration": 77,
    "start_time": "2023-07-04T18:01:44.379Z"
   },
   {
    "duration": 22,
    "start_time": "2023-07-04T18:01:44.459Z"
   },
   {
    "duration": 26,
    "start_time": "2023-07-04T18:01:44.483Z"
   },
   {
    "duration": 9,
    "start_time": "2023-07-04T18:01:44.512Z"
   },
   {
    "duration": 11,
    "start_time": "2023-07-04T18:01:44.524Z"
   },
   {
    "duration": 128,
    "start_time": "2023-07-04T18:01:44.537Z"
   },
   {
    "duration": 8,
    "start_time": "2023-07-04T18:02:52.216Z"
   },
   {
    "duration": 61,
    "start_time": "2023-07-04T18:04:35.714Z"
   },
   {
    "duration": 7,
    "start_time": "2023-07-04T18:08:10.323Z"
   },
   {
    "duration": 410,
    "start_time": "2023-07-04T18:08:21.624Z"
   },
   {
    "duration": 68,
    "start_time": "2023-07-04T18:08:22.036Z"
   },
   {
    "duration": 13,
    "start_time": "2023-07-04T18:08:22.106Z"
   },
   {
    "duration": 13,
    "start_time": "2023-07-04T18:08:22.121Z"
   },
   {
    "duration": 6,
    "start_time": "2023-07-04T18:08:22.135Z"
   },
   {
    "duration": 8,
    "start_time": "2023-07-04T18:08:22.161Z"
   },
   {
    "duration": 15,
    "start_time": "2023-07-04T18:08:22.172Z"
   },
   {
    "duration": 406,
    "start_time": "2023-07-04T18:09:38.710Z"
   },
   {
    "duration": 71,
    "start_time": "2023-07-04T18:09:39.118Z"
   },
   {
    "duration": 14,
    "start_time": "2023-07-04T18:09:39.191Z"
   },
   {
    "duration": 15,
    "start_time": "2023-07-04T18:09:39.207Z"
   },
   {
    "duration": 6,
    "start_time": "2023-07-04T18:09:39.224Z"
   },
   {
    "duration": 32,
    "start_time": "2023-07-04T18:09:39.232Z"
   },
   {
    "duration": 11,
    "start_time": "2023-07-04T18:09:39.267Z"
   },
   {
    "duration": 13,
    "start_time": "2023-07-04T18:10:12.679Z"
   },
   {
    "duration": 736,
    "start_time": "2023-07-04T18:13:36.697Z"
   },
   {
    "duration": 706,
    "start_time": "2023-07-04T18:14:15.219Z"
   },
   {
    "duration": 67,
    "start_time": "2023-07-04T18:14:15.928Z"
   },
   {
    "duration": 11,
    "start_time": "2023-07-04T18:14:15.996Z"
   },
   {
    "duration": 13,
    "start_time": "2023-07-04T18:14:16.009Z"
   },
   {
    "duration": 11,
    "start_time": "2023-07-04T18:14:16.024Z"
   },
   {
    "duration": 23,
    "start_time": "2023-07-04T18:14:16.037Z"
   },
   {
    "duration": 14,
    "start_time": "2023-07-04T18:14:16.062Z"
   },
   {
    "duration": 363,
    "start_time": "2023-07-04T18:14:16.078Z"
   },
   {
    "duration": 72,
    "start_time": "2023-07-04T18:16:38.527Z"
   },
   {
    "duration": 114,
    "start_time": "2023-07-04T18:17:57.555Z"
   },
   {
    "duration": 0,
    "start_time": "2023-07-04T18:17:57.671Z"
   },
   {
    "duration": 0,
    "start_time": "2023-07-04T18:17:57.672Z"
   },
   {
    "duration": 0,
    "start_time": "2023-07-04T18:17:57.673Z"
   },
   {
    "duration": 0,
    "start_time": "2023-07-04T18:17:57.674Z"
   },
   {
    "duration": 0,
    "start_time": "2023-07-04T18:17:57.675Z"
   },
   {
    "duration": 0,
    "start_time": "2023-07-04T18:17:57.676Z"
   },
   {
    "duration": 0,
    "start_time": "2023-07-04T18:17:57.677Z"
   },
   {
    "duration": 0,
    "start_time": "2023-07-04T18:17:57.678Z"
   },
   {
    "duration": 100,
    "start_time": "2023-07-04T18:18:47.342Z"
   },
   {
    "duration": 1789,
    "start_time": "2023-07-04T18:19:26.742Z"
   },
   {
    "duration": 57,
    "start_time": "2023-07-04T18:19:28.533Z"
   },
   {
    "duration": 11,
    "start_time": "2023-07-04T18:19:28.591Z"
   },
   {
    "duration": 13,
    "start_time": "2023-07-04T18:19:28.604Z"
   },
   {
    "duration": 5,
    "start_time": "2023-07-04T18:19:28.620Z"
   },
   {
    "duration": 6,
    "start_time": "2023-07-04T18:19:28.626Z"
   },
   {
    "duration": 37,
    "start_time": "2023-07-04T18:19:28.634Z"
   },
   {
    "duration": 328,
    "start_time": "2023-07-04T18:19:28.673Z"
   },
   {
    "duration": 341,
    "start_time": "2023-07-04T18:19:29.002Z"
   },
   {
    "duration": 65,
    "start_time": "2023-07-06T03:32:28.188Z"
   },
   {
    "duration": 1655,
    "start_time": "2023-07-06T03:32:50.664Z"
   },
   {
    "duration": 142,
    "start_time": "2023-07-06T03:32:52.321Z"
   },
   {
    "duration": 9,
    "start_time": "2023-07-06T03:32:52.465Z"
   },
   {
    "duration": 15,
    "start_time": "2023-07-06T03:32:52.477Z"
   },
   {
    "duration": 6,
    "start_time": "2023-07-06T03:32:52.493Z"
   },
   {
    "duration": 9,
    "start_time": "2023-07-06T03:32:52.500Z"
   },
   {
    "duration": 15,
    "start_time": "2023-07-06T03:32:52.511Z"
   },
   {
    "duration": 294,
    "start_time": "2023-07-06T03:32:52.527Z"
   },
   {
    "duration": 602,
    "start_time": "2023-07-06T03:32:52.822Z"
   },
   {
    "duration": 127,
    "start_time": "2023-07-06T03:44:37.951Z"
   },
   {
    "duration": 1572,
    "start_time": "2023-07-06T03:44:51.695Z"
   },
   {
    "duration": 55,
    "start_time": "2023-07-06T03:44:53.269Z"
   },
   {
    "duration": 11,
    "start_time": "2023-07-06T03:44:53.326Z"
   },
   {
    "duration": 32,
    "start_time": "2023-07-06T03:44:53.340Z"
   },
   {
    "duration": 23,
    "start_time": "2023-07-06T03:44:53.373Z"
   },
   {
    "duration": 16,
    "start_time": "2023-07-06T03:44:53.398Z"
   },
   {
    "duration": 49,
    "start_time": "2023-07-06T03:44:53.416Z"
   },
   {
    "duration": 346,
    "start_time": "2023-07-06T03:44:53.467Z"
   },
   {
    "duration": 568,
    "start_time": "2023-07-06T03:44:53.816Z"
   },
   {
    "duration": 130,
    "start_time": "2023-07-06T03:44:54.386Z"
   },
   {
    "duration": 277,
    "start_time": "2023-07-06T03:45:55.878Z"
   },
   {
    "duration": 1618,
    "start_time": "2023-07-06T03:52:55.955Z"
   },
   {
    "duration": 59,
    "start_time": "2023-07-06T03:52:57.575Z"
   },
   {
    "duration": 17,
    "start_time": "2023-07-06T03:52:57.636Z"
   },
   {
    "duration": 23,
    "start_time": "2023-07-06T03:52:57.655Z"
   },
   {
    "duration": 7,
    "start_time": "2023-07-06T03:52:57.681Z"
   },
   {
    "duration": 4,
    "start_time": "2023-07-06T03:52:57.690Z"
   },
   {
    "duration": 37,
    "start_time": "2023-07-06T03:52:57.696Z"
   },
   {
    "duration": 28,
    "start_time": "2023-07-06T03:52:57.735Z"
   },
   {
    "duration": 479,
    "start_time": "2023-07-06T03:52:57.766Z"
   },
   {
    "duration": 143,
    "start_time": "2023-07-06T03:52:58.247Z"
   },
   {
    "duration": 0,
    "start_time": "2023-07-06T03:52:58.392Z"
   },
   {
    "duration": 1539,
    "start_time": "2023-07-06T03:55:16.577Z"
   },
   {
    "duration": 66,
    "start_time": "2023-07-06T03:55:18.118Z"
   },
   {
    "duration": 9,
    "start_time": "2023-07-06T03:55:18.185Z"
   },
   {
    "duration": 11,
    "start_time": "2023-07-06T03:55:18.195Z"
   },
   {
    "duration": 5,
    "start_time": "2023-07-06T03:55:18.208Z"
   },
   {
    "duration": 8,
    "start_time": "2023-07-06T03:55:18.214Z"
   },
   {
    "duration": 14,
    "start_time": "2023-07-06T03:55:18.224Z"
   },
   {
    "duration": 41,
    "start_time": "2023-07-06T03:55:18.241Z"
   },
   {
    "duration": 421,
    "start_time": "2023-07-06T03:55:18.283Z"
   },
   {
    "duration": 122,
    "start_time": "2023-07-06T03:55:18.706Z"
   },
   {
    "duration": 0,
    "start_time": "2023-07-06T03:55:18.829Z"
   },
   {
    "duration": 1574,
    "start_time": "2023-07-06T03:58:29.925Z"
   },
   {
    "duration": 67,
    "start_time": "2023-07-06T03:58:31.501Z"
   },
   {
    "duration": 9,
    "start_time": "2023-07-06T03:58:31.570Z"
   },
   {
    "duration": 39,
    "start_time": "2023-07-06T03:58:31.580Z"
   },
   {
    "duration": 37,
    "start_time": "2023-07-06T03:58:31.621Z"
   },
   {
    "duration": 25,
    "start_time": "2023-07-06T03:58:31.660Z"
   },
   {
    "duration": 23,
    "start_time": "2023-07-06T03:58:31.687Z"
   },
   {
    "duration": 309,
    "start_time": "2023-07-06T03:58:31.711Z"
   },
   {
    "duration": 597,
    "start_time": "2023-07-06T03:58:32.022Z"
   },
   {
    "duration": 271,
    "start_time": "2023-07-06T03:58:32.620Z"
   },
   {
    "duration": 115,
    "start_time": "2023-07-06T04:01:19.167Z"
   },
   {
    "duration": 740,
    "start_time": "2023-07-06T04:02:08.429Z"
   },
   {
    "duration": 1527,
    "start_time": "2023-07-06T04:02:24.130Z"
   },
   {
    "duration": 57,
    "start_time": "2023-07-06T04:02:25.659Z"
   },
   {
    "duration": 9,
    "start_time": "2023-07-06T04:02:25.718Z"
   },
   {
    "duration": 47,
    "start_time": "2023-07-06T04:02:25.729Z"
   },
   {
    "duration": 5,
    "start_time": "2023-07-06T04:02:25.777Z"
   },
   {
    "duration": 6,
    "start_time": "2023-07-06T04:02:25.783Z"
   },
   {
    "duration": 13,
    "start_time": "2023-07-06T04:02:25.790Z"
   },
   {
    "duration": 291,
    "start_time": "2023-07-06T04:02:25.805Z"
   },
   {
    "duration": 779,
    "start_time": "2023-07-06T04:02:26.099Z"
   },
   {
    "duration": 284,
    "start_time": "2023-07-06T04:02:26.880Z"
   },
   {
    "duration": 1071,
    "start_time": "2023-07-06T04:10:53.304Z"
   },
   {
    "duration": 1760,
    "start_time": "2023-07-06T04:12:45.955Z"
   },
   {
    "duration": 60,
    "start_time": "2023-07-06T04:12:47.717Z"
   },
   {
    "duration": 12,
    "start_time": "2023-07-06T04:12:47.779Z"
   },
   {
    "duration": 18,
    "start_time": "2023-07-06T04:12:47.793Z"
   },
   {
    "duration": 11,
    "start_time": "2023-07-06T04:12:47.812Z"
   },
   {
    "duration": 23,
    "start_time": "2023-07-06T04:12:47.824Z"
   },
   {
    "duration": 18,
    "start_time": "2023-07-06T04:12:47.849Z"
   },
   {
    "duration": 297,
    "start_time": "2023-07-06T04:12:47.869Z"
   },
   {
    "duration": 1088,
    "start_time": "2023-07-06T04:12:48.168Z"
   },
   {
    "duration": 254,
    "start_time": "2023-07-06T04:12:49.258Z"
   },
   {
    "duration": 1111,
    "start_time": "2023-07-06T04:13:23.766Z"
   },
   {
    "duration": 1023,
    "start_time": "2023-07-06T04:14:48.399Z"
   },
   {
    "duration": 1543,
    "start_time": "2023-07-06T04:19:05.628Z"
   },
   {
    "duration": 52,
    "start_time": "2023-07-06T04:19:07.173Z"
   },
   {
    "duration": 20,
    "start_time": "2023-07-06T04:19:07.227Z"
   },
   {
    "duration": 18,
    "start_time": "2023-07-06T04:19:07.248Z"
   },
   {
    "duration": 5,
    "start_time": "2023-07-06T04:19:07.268Z"
   },
   {
    "duration": 5,
    "start_time": "2023-07-06T04:19:07.275Z"
   },
   {
    "duration": 13,
    "start_time": "2023-07-06T04:19:07.282Z"
   },
   {
    "duration": 324,
    "start_time": "2023-07-06T04:19:07.297Z"
   },
   {
    "duration": 1121,
    "start_time": "2023-07-06T04:19:07.622Z"
   },
   {
    "duration": 1701,
    "start_time": "2023-07-06T04:26:52.989Z"
   },
   {
    "duration": 240,
    "start_time": "2023-07-06T04:27:26.145Z"
   },
   {
    "duration": 409,
    "start_time": "2023-07-06T04:46:41.365Z"
   },
   {
    "duration": 11,
    "start_time": "2023-07-06T12:31:20.903Z"
   },
   {
    "duration": 2062,
    "start_time": "2023-07-06T12:31:29.035Z"
   },
   {
    "duration": 303,
    "start_time": "2023-07-06T12:31:31.101Z"
   },
   {
    "duration": 15,
    "start_time": "2023-07-06T12:31:31.406Z"
   },
   {
    "duration": 56,
    "start_time": "2023-07-06T12:31:31.423Z"
   },
   {
    "duration": 18,
    "start_time": "2023-07-06T12:31:31.481Z"
   },
   {
    "duration": 20,
    "start_time": "2023-07-06T12:31:31.503Z"
   },
   {
    "duration": 38,
    "start_time": "2023-07-06T12:31:31.526Z"
   },
   {
    "duration": 545,
    "start_time": "2023-07-06T12:31:31.566Z"
   },
   {
    "duration": 1371,
    "start_time": "2023-07-06T12:31:32.114Z"
   },
   {
    "duration": 399,
    "start_time": "2023-07-06T12:31:33.487Z"
   },
   {
    "duration": 9,
    "start_time": "2023-07-06T12:31:33.889Z"
   },
   {
    "duration": 25,
    "start_time": "2023-07-06T12:44:51.297Z"
   },
   {
    "duration": 27,
    "start_time": "2023-07-06T12:47:51.303Z"
   },
   {
    "duration": 17,
    "start_time": "2023-07-06T12:48:07.258Z"
   },
   {
    "duration": 19,
    "start_time": "2023-07-06T12:48:14.718Z"
   },
   {
    "duration": 350,
    "start_time": "2023-07-06T12:55:17.992Z"
   },
   {
    "duration": 14,
    "start_time": "2023-07-06T12:56:09.855Z"
   },
   {
    "duration": 40,
    "start_time": "2023-07-06T12:57:35.385Z"
   },
   {
    "duration": 25,
    "start_time": "2023-07-06T12:59:24.598Z"
   },
   {
    "duration": 115,
    "start_time": "2023-07-06T13:06:40.397Z"
   },
   {
    "duration": 125,
    "start_time": "2023-07-06T13:09:35.305Z"
   },
   {
    "duration": 18,
    "start_time": "2023-07-06T13:10:08.285Z"
   },
   {
    "duration": 39,
    "start_time": "2023-07-06T13:11:16.181Z"
   },
   {
    "duration": 1873,
    "start_time": "2023-07-06T13:11:31.787Z"
   },
   {
    "duration": 92,
    "start_time": "2023-07-06T13:11:33.662Z"
   },
   {
    "duration": 15,
    "start_time": "2023-07-06T13:11:33.756Z"
   },
   {
    "duration": 13,
    "start_time": "2023-07-06T13:11:33.774Z"
   },
   {
    "duration": 9,
    "start_time": "2023-07-06T13:11:33.789Z"
   },
   {
    "duration": 35,
    "start_time": "2023-07-06T13:11:33.800Z"
   },
   {
    "duration": 17,
    "start_time": "2023-07-06T13:11:33.836Z"
   },
   {
    "duration": 420,
    "start_time": "2023-07-06T13:11:33.855Z"
   },
   {
    "duration": 1424,
    "start_time": "2023-07-06T13:11:34.278Z"
   },
   {
    "duration": 408,
    "start_time": "2023-07-06T13:11:35.704Z"
   },
   {
    "duration": 5,
    "start_time": "2023-07-06T13:11:36.114Z"
   },
   {
    "duration": 53,
    "start_time": "2023-07-06T13:11:36.121Z"
   },
   {
    "duration": 48,
    "start_time": "2023-07-06T13:11:36.176Z"
   },
   {
    "duration": 274,
    "start_time": "2023-07-06T13:11:36.228Z"
   },
   {
    "duration": 28,
    "start_time": "2023-07-06T13:12:01.930Z"
   },
   {
    "duration": 14,
    "start_time": "2023-07-06T13:14:17.382Z"
   },
   {
    "duration": 14,
    "start_time": "2023-07-06T13:14:24.140Z"
   },
   {
    "duration": 43,
    "start_time": "2023-07-06T13:15:02.601Z"
   },
   {
    "duration": 43,
    "start_time": "2023-07-06T13:15:20.782Z"
   },
   {
    "duration": 52,
    "start_time": "2023-07-06T13:15:36.445Z"
   },
   {
    "duration": 39,
    "start_time": "2023-07-06T13:17:14.702Z"
   },
   {
    "duration": 1774,
    "start_time": "2023-07-06T13:17:27.681Z"
   },
   {
    "duration": 68,
    "start_time": "2023-07-06T13:17:29.457Z"
   },
   {
    "duration": 14,
    "start_time": "2023-07-06T13:17:29.531Z"
   },
   {
    "duration": 40,
    "start_time": "2023-07-06T13:17:29.548Z"
   },
   {
    "duration": 22,
    "start_time": "2023-07-06T13:17:29.591Z"
   },
   {
    "duration": 25,
    "start_time": "2023-07-06T13:17:29.617Z"
   },
   {
    "duration": 37,
    "start_time": "2023-07-06T13:17:29.644Z"
   },
   {
    "duration": 439,
    "start_time": "2023-07-06T13:17:29.683Z"
   },
   {
    "duration": 1417,
    "start_time": "2023-07-06T13:17:30.124Z"
   },
   {
    "duration": 457,
    "start_time": "2023-07-06T13:17:31.544Z"
   },
   {
    "duration": 18,
    "start_time": "2023-07-06T13:17:32.003Z"
   },
   {
    "duration": 63,
    "start_time": "2023-07-06T13:17:32.024Z"
   },
   {
    "duration": 20,
    "start_time": "2023-07-06T13:17:32.089Z"
   },
   {
    "duration": 25,
    "start_time": "2023-07-06T13:17:32.112Z"
   },
   {
    "duration": 19,
    "start_time": "2023-07-06T13:17:39.654Z"
   },
   {
    "duration": 21,
    "start_time": "2023-07-06T13:17:45.096Z"
   },
   {
    "duration": 23,
    "start_time": "2023-07-06T13:18:20.813Z"
   },
   {
    "duration": 1713,
    "start_time": "2023-07-06T13:18:56.149Z"
   },
   {
    "duration": 63,
    "start_time": "2023-07-06T13:18:57.864Z"
   },
   {
    "duration": 13,
    "start_time": "2023-07-06T13:18:57.929Z"
   },
   {
    "duration": 37,
    "start_time": "2023-07-06T13:18:57.944Z"
   },
   {
    "duration": 46,
    "start_time": "2023-07-06T13:18:57.982Z"
   },
   {
    "duration": 20,
    "start_time": "2023-07-06T13:18:58.030Z"
   },
   {
    "duration": 26,
    "start_time": "2023-07-06T13:18:58.051Z"
   },
   {
    "duration": 373,
    "start_time": "2023-07-06T13:18:58.078Z"
   },
   {
    "duration": 1336,
    "start_time": "2023-07-06T13:18:58.453Z"
   },
   {
    "duration": 447,
    "start_time": "2023-07-06T13:18:59.792Z"
   },
   {
    "duration": 6,
    "start_time": "2023-07-06T13:19:00.241Z"
   },
   {
    "duration": 112,
    "start_time": "2023-07-06T13:19:00.249Z"
   },
   {
    "duration": 29,
    "start_time": "2023-07-06T13:19:00.363Z"
   },
   {
    "duration": 26,
    "start_time": "2023-07-06T13:19:00.394Z"
   },
   {
    "duration": 10,
    "start_time": "2023-07-06T13:19:13.346Z"
   },
   {
    "duration": 11,
    "start_time": "2023-07-06T13:19:19.032Z"
   },
   {
    "duration": 28,
    "start_time": "2023-07-06T13:19:24.710Z"
   },
   {
    "duration": 154,
    "start_time": "2023-07-06T13:31:32.901Z"
   },
   {
    "duration": 10,
    "start_time": "2023-07-06T13:31:52.440Z"
   },
   {
    "duration": 22,
    "start_time": "2023-07-06T13:32:00.986Z"
   },
   {
    "duration": 15,
    "start_time": "2023-07-06T13:33:08.876Z"
   },
   {
    "duration": 1905,
    "start_time": "2023-07-06T13:33:21.198Z"
   },
   {
    "duration": 76,
    "start_time": "2023-07-06T13:33:23.106Z"
   },
   {
    "duration": 12,
    "start_time": "2023-07-06T13:33:23.184Z"
   },
   {
    "duration": 38,
    "start_time": "2023-07-06T13:33:23.199Z"
   },
   {
    "duration": 12,
    "start_time": "2023-07-06T13:33:23.240Z"
   },
   {
    "duration": 13,
    "start_time": "2023-07-06T13:33:23.254Z"
   },
   {
    "duration": 33,
    "start_time": "2023-07-06T13:33:23.269Z"
   },
   {
    "duration": 499,
    "start_time": "2023-07-06T13:33:23.304Z"
   },
   {
    "duration": 1566,
    "start_time": "2023-07-06T13:33:23.806Z"
   },
   {
    "duration": 464,
    "start_time": "2023-07-06T13:33:25.376Z"
   },
   {
    "duration": 7,
    "start_time": "2023-07-06T13:33:25.843Z"
   },
   {
    "duration": 120,
    "start_time": "2023-07-06T13:33:25.852Z"
   },
   {
    "duration": 21,
    "start_time": "2023-07-06T13:33:25.974Z"
   },
   {
    "duration": 41,
    "start_time": "2023-07-06T13:33:25.996Z"
   },
   {
    "duration": 24,
    "start_time": "2023-07-06T13:35:26.132Z"
   },
   {
    "duration": 12,
    "start_time": "2023-07-06T13:35:55.749Z"
   },
   {
    "duration": 21,
    "start_time": "2023-07-06T13:35:57.310Z"
   },
   {
    "duration": 1668,
    "start_time": "2023-07-06T13:36:06.601Z"
   },
   {
    "duration": 64,
    "start_time": "2023-07-06T13:36:08.272Z"
   },
   {
    "duration": 11,
    "start_time": "2023-07-06T13:36:08.338Z"
   },
   {
    "duration": 21,
    "start_time": "2023-07-06T13:36:08.352Z"
   },
   {
    "duration": 11,
    "start_time": "2023-07-06T13:36:08.375Z"
   },
   {
    "duration": 59,
    "start_time": "2023-07-06T13:36:08.388Z"
   },
   {
    "duration": 48,
    "start_time": "2023-07-06T13:36:08.449Z"
   },
   {
    "duration": 372,
    "start_time": "2023-07-06T13:36:08.499Z"
   },
   {
    "duration": 1351,
    "start_time": "2023-07-06T13:36:08.873Z"
   },
   {
    "duration": 371,
    "start_time": "2023-07-06T13:36:10.226Z"
   },
   {
    "duration": 4,
    "start_time": "2023-07-06T13:36:10.599Z"
   },
   {
    "duration": 57,
    "start_time": "2023-07-06T13:36:10.605Z"
   },
   {
    "duration": 11,
    "start_time": "2023-07-06T13:36:10.664Z"
   },
   {
    "duration": 47,
    "start_time": "2023-07-06T13:36:10.676Z"
   },
   {
    "duration": 7,
    "start_time": "2023-07-06T13:36:41.886Z"
   },
   {
    "duration": 109,
    "start_time": "2023-07-06T13:37:25.742Z"
   },
   {
    "duration": 781,
    "start_time": "2023-07-06T13:37:28.353Z"
   },
   {
    "duration": 2155,
    "start_time": "2023-07-06T13:37:45.606Z"
   },
   {
    "duration": 65,
    "start_time": "2023-07-06T13:37:47.764Z"
   },
   {
    "duration": 15,
    "start_time": "2023-07-06T13:37:47.835Z"
   },
   {
    "duration": 30,
    "start_time": "2023-07-06T13:37:47.853Z"
   },
   {
    "duration": 19,
    "start_time": "2023-07-06T13:37:47.886Z"
   },
   {
    "duration": 26,
    "start_time": "2023-07-06T13:37:47.907Z"
   },
   {
    "duration": 25,
    "start_time": "2023-07-06T13:37:47.935Z"
   },
   {
    "duration": 377,
    "start_time": "2023-07-06T13:37:47.962Z"
   },
   {
    "duration": 1311,
    "start_time": "2023-07-06T13:37:48.341Z"
   },
   {
    "duration": 467,
    "start_time": "2023-07-06T13:37:49.654Z"
   },
   {
    "duration": 6,
    "start_time": "2023-07-06T13:37:50.127Z"
   },
   {
    "duration": 190,
    "start_time": "2023-07-06T13:37:50.137Z"
   },
   {
    "duration": 401,
    "start_time": "2023-07-06T13:37:50.329Z"
   },
   {
    "duration": 24,
    "start_time": "2023-07-06T13:38:04.096Z"
   },
   {
    "duration": 635,
    "start_time": "2023-07-06T13:38:06.407Z"
   },
   {
    "duration": 21,
    "start_time": "2023-07-06T13:38:50.890Z"
   },
   {
    "duration": 641,
    "start_time": "2023-07-06T13:38:52.609Z"
   },
   {
    "duration": 1976,
    "start_time": "2023-07-06T13:39:32.586Z"
   },
   {
    "duration": 72,
    "start_time": "2023-07-06T13:39:34.564Z"
   },
   {
    "duration": 15,
    "start_time": "2023-07-06T13:39:34.640Z"
   },
   {
    "duration": 16,
    "start_time": "2023-07-06T13:39:34.658Z"
   },
   {
    "duration": 7,
    "start_time": "2023-07-06T13:39:34.676Z"
   },
   {
    "duration": 45,
    "start_time": "2023-07-06T13:39:34.685Z"
   },
   {
    "duration": 24,
    "start_time": "2023-07-06T13:39:34.735Z"
   },
   {
    "duration": 366,
    "start_time": "2023-07-06T13:39:34.761Z"
   },
   {
    "duration": 1425,
    "start_time": "2023-07-06T13:39:35.129Z"
   },
   {
    "duration": 381,
    "start_time": "2023-07-06T13:39:36.557Z"
   },
   {
    "duration": 5,
    "start_time": "2023-07-06T13:39:36.940Z"
   },
   {
    "duration": 28,
    "start_time": "2023-07-06T13:39:36.947Z"
   },
   {
    "duration": 49,
    "start_time": "2023-07-06T13:39:36.977Z"
   },
   {
    "duration": 10,
    "start_time": "2023-07-06T13:41:40.382Z"
   },
   {
    "duration": 17,
    "start_time": "2023-07-06T13:41:43.126Z"
   },
   {
    "duration": 35,
    "start_time": "2023-07-06T13:41:45.237Z"
   },
   {
    "duration": 125,
    "start_time": "2023-07-06T13:42:32.509Z"
   },
   {
    "duration": 4,
    "start_time": "2023-07-06T13:43:07.334Z"
   },
   {
    "duration": 1741,
    "start_time": "2023-07-06T13:43:17.368Z"
   },
   {
    "duration": 69,
    "start_time": "2023-07-06T13:43:19.111Z"
   },
   {
    "duration": 11,
    "start_time": "2023-07-06T13:43:19.182Z"
   },
   {
    "duration": 12,
    "start_time": "2023-07-06T13:43:19.195Z"
   },
   {
    "duration": 12,
    "start_time": "2023-07-06T13:43:19.209Z"
   },
   {
    "duration": 7,
    "start_time": "2023-07-06T13:43:19.223Z"
   },
   {
    "duration": 17,
    "start_time": "2023-07-06T13:43:19.236Z"
   },
   {
    "duration": 344,
    "start_time": "2023-07-06T13:43:19.255Z"
   },
   {
    "duration": 1378,
    "start_time": "2023-07-06T13:43:19.602Z"
   },
   {
    "duration": 436,
    "start_time": "2023-07-06T13:43:20.983Z"
   },
   {
    "duration": 6,
    "start_time": "2023-07-06T13:43:21.421Z"
   },
   {
    "duration": 53,
    "start_time": "2023-07-06T13:43:21.429Z"
   },
   {
    "duration": 39,
    "start_time": "2023-07-06T13:43:21.484Z"
   },
   {
    "duration": 19,
    "start_time": "2023-07-06T13:43:21.530Z"
   },
   {
    "duration": 1776,
    "start_time": "2023-07-06T13:47:53.033Z"
   },
   {
    "duration": 84,
    "start_time": "2023-07-06T13:47:54.811Z"
   },
   {
    "duration": 12,
    "start_time": "2023-07-06T13:47:54.896Z"
   },
   {
    "duration": 30,
    "start_time": "2023-07-06T13:47:54.910Z"
   },
   {
    "duration": 7,
    "start_time": "2023-07-06T13:47:54.942Z"
   },
   {
    "duration": 12,
    "start_time": "2023-07-06T13:47:54.952Z"
   },
   {
    "duration": 40,
    "start_time": "2023-07-06T13:47:54.967Z"
   },
   {
    "duration": 378,
    "start_time": "2023-07-06T13:47:55.009Z"
   },
   {
    "duration": 1301,
    "start_time": "2023-07-06T13:47:55.389Z"
   },
   {
    "duration": 385,
    "start_time": "2023-07-06T13:47:56.692Z"
   },
   {
    "duration": 6,
    "start_time": "2023-07-06T13:47:57.080Z"
   },
   {
    "duration": 72,
    "start_time": "2023-07-06T13:47:57.087Z"
   },
   {
    "duration": 13,
    "start_time": "2023-07-06T13:47:57.161Z"
   },
   {
    "duration": 43,
    "start_time": "2023-07-06T13:47:57.176Z"
   },
   {
    "duration": 1894,
    "start_time": "2023-07-06T13:49:05.942Z"
   },
   {
    "duration": 59,
    "start_time": "2023-07-06T13:49:07.839Z"
   },
   {
    "duration": 13,
    "start_time": "2023-07-06T13:49:07.900Z"
   },
   {
    "duration": 31,
    "start_time": "2023-07-06T13:49:07.915Z"
   },
   {
    "duration": 6,
    "start_time": "2023-07-06T13:49:07.948Z"
   },
   {
    "duration": 12,
    "start_time": "2023-07-06T13:49:07.956Z"
   },
   {
    "duration": 26,
    "start_time": "2023-07-06T13:49:07.970Z"
   },
   {
    "duration": 369,
    "start_time": "2023-07-06T13:49:07.998Z"
   },
   {
    "duration": 1465,
    "start_time": "2023-07-06T13:49:08.370Z"
   },
   {
    "duration": 522,
    "start_time": "2023-07-06T13:49:09.839Z"
   },
   {
    "duration": 9,
    "start_time": "2023-07-06T13:49:10.364Z"
   },
   {
    "duration": 81,
    "start_time": "2023-07-06T13:49:10.376Z"
   },
   {
    "duration": 13,
    "start_time": "2023-07-06T13:49:10.462Z"
   },
   {
    "duration": 60,
    "start_time": "2023-07-06T13:49:10.477Z"
   },
   {
    "duration": 1728,
    "start_time": "2023-07-06T13:52:39.697Z"
   },
   {
    "duration": 64,
    "start_time": "2023-07-06T13:52:41.427Z"
   },
   {
    "duration": 15,
    "start_time": "2023-07-06T13:52:41.493Z"
   },
   {
    "duration": 27,
    "start_time": "2023-07-06T13:52:41.511Z"
   },
   {
    "duration": 23,
    "start_time": "2023-07-06T13:52:41.541Z"
   },
   {
    "duration": 24,
    "start_time": "2023-07-06T13:52:41.566Z"
   },
   {
    "duration": 19,
    "start_time": "2023-07-06T13:52:41.592Z"
   },
   {
    "duration": 350,
    "start_time": "2023-07-06T13:52:41.613Z"
   },
   {
    "duration": 1267,
    "start_time": "2023-07-06T13:52:41.964Z"
   },
   {
    "duration": 3,
    "start_time": "2023-07-06T13:52:43.233Z"
   },
   {
    "duration": 11,
    "start_time": "2023-07-06T13:52:43.237Z"
   },
   {
    "duration": 74,
    "start_time": "2023-07-06T13:52:43.250Z"
   },
   {
    "duration": 13,
    "start_time": "2023-07-06T13:52:43.326Z"
   },
   {
    "duration": 13,
    "start_time": "2023-07-06T13:52:43.342Z"
   },
   {
    "duration": 1849,
    "start_time": "2023-07-06T13:58:53.612Z"
   },
   {
    "duration": 65,
    "start_time": "2023-07-06T13:58:55.463Z"
   },
   {
    "duration": 11,
    "start_time": "2023-07-06T13:58:55.535Z"
   },
   {
    "duration": 13,
    "start_time": "2023-07-06T13:58:55.548Z"
   },
   {
    "duration": 7,
    "start_time": "2023-07-06T13:58:55.563Z"
   },
   {
    "duration": 13,
    "start_time": "2023-07-06T13:58:55.572Z"
   },
   {
    "duration": 32,
    "start_time": "2023-07-06T13:58:55.587Z"
   },
   {
    "duration": 338,
    "start_time": "2023-07-06T13:58:55.621Z"
   },
   {
    "duration": 1243,
    "start_time": "2023-07-06T13:58:55.961Z"
   },
   {
    "duration": 465,
    "start_time": "2023-07-06T13:58:57.217Z"
   },
   {
    "duration": 172,
    "start_time": "2023-07-06T13:58:57.684Z"
   },
   {
    "duration": 0,
    "start_time": "2023-07-06T13:58:57.858Z"
   },
   {
    "duration": 0,
    "start_time": "2023-07-06T13:58:57.860Z"
   },
   {
    "duration": 0,
    "start_time": "2023-07-06T13:58:57.862Z"
   },
   {
    "duration": 0,
    "start_time": "2023-07-06T13:58:57.864Z"
   },
   {
    "duration": 1850,
    "start_time": "2023-07-06T14:00:17.992Z"
   },
   {
    "duration": 64,
    "start_time": "2023-07-06T14:00:19.845Z"
   },
   {
    "duration": 15,
    "start_time": "2023-07-06T14:00:19.912Z"
   },
   {
    "duration": 29,
    "start_time": "2023-07-06T14:00:19.930Z"
   },
   {
    "duration": 8,
    "start_time": "2023-07-06T14:00:19.961Z"
   },
   {
    "duration": 16,
    "start_time": "2023-07-06T14:00:19.972Z"
   },
   {
    "duration": 33,
    "start_time": "2023-07-06T14:00:19.990Z"
   },
   {
    "duration": 374,
    "start_time": "2023-07-06T14:00:20.025Z"
   },
   {
    "duration": 1545,
    "start_time": "2023-07-06T14:00:20.401Z"
   },
   {
    "duration": 395,
    "start_time": "2023-07-06T14:00:21.948Z"
   },
   {
    "duration": 4,
    "start_time": "2023-07-06T14:00:22.345Z"
   },
   {
    "duration": 69,
    "start_time": "2023-07-06T14:00:22.351Z"
   },
   {
    "duration": 16,
    "start_time": "2023-07-06T14:00:22.427Z"
   },
   {
    "duration": 11,
    "start_time": "2023-07-06T14:00:22.445Z"
   },
   {
    "duration": 2193,
    "start_time": "2023-07-06T14:01:14.895Z"
   },
   {
    "duration": 70,
    "start_time": "2023-07-06T14:01:17.090Z"
   },
   {
    "duration": 11,
    "start_time": "2023-07-06T14:01:17.162Z"
   },
   {
    "duration": 17,
    "start_time": "2023-07-06T14:01:17.175Z"
   },
   {
    "duration": 6,
    "start_time": "2023-07-06T14:01:17.194Z"
   },
   {
    "duration": 33,
    "start_time": "2023-07-06T14:01:17.201Z"
   },
   {
    "duration": 20,
    "start_time": "2023-07-06T14:01:17.236Z"
   },
   {
    "duration": 405,
    "start_time": "2023-07-06T14:01:17.262Z"
   },
   {
    "duration": 1386,
    "start_time": "2023-07-06T14:01:17.670Z"
   },
   {
    "duration": 2,
    "start_time": "2023-07-06T14:01:19.058Z"
   },
   {
    "duration": 34,
    "start_time": "2023-07-06T14:01:19.063Z"
   },
   {
    "duration": 85,
    "start_time": "2023-07-06T14:01:19.100Z"
   },
   {
    "duration": 14,
    "start_time": "2023-07-06T14:01:19.188Z"
   },
   {
    "duration": 43,
    "start_time": "2023-07-06T14:01:19.205Z"
   },
   {
    "duration": 1595,
    "start_time": "2023-07-06T14:08:16.944Z"
   },
   {
    "duration": 57,
    "start_time": "2023-07-06T14:08:18.541Z"
   },
   {
    "duration": 11,
    "start_time": "2023-07-06T14:08:18.599Z"
   },
   {
    "duration": 20,
    "start_time": "2023-07-06T14:08:18.613Z"
   },
   {
    "duration": 6,
    "start_time": "2023-07-06T14:08:18.635Z"
   },
   {
    "duration": 7,
    "start_time": "2023-07-06T14:08:18.643Z"
   },
   {
    "duration": 14,
    "start_time": "2023-07-06T14:08:18.652Z"
   },
   {
    "duration": 362,
    "start_time": "2023-07-06T14:08:18.667Z"
   },
   {
    "duration": 1339,
    "start_time": "2023-07-06T14:08:19.031Z"
   },
   {
    "duration": 372,
    "start_time": "2023-07-06T14:08:20.373Z"
   },
   {
    "duration": 5,
    "start_time": "2023-07-06T14:08:20.747Z"
   },
   {
    "duration": 15,
    "start_time": "2023-07-06T14:08:20.754Z"
   },
   {
    "duration": 81,
    "start_time": "2023-07-06T14:08:20.771Z"
   },
   {
    "duration": 11,
    "start_time": "2023-07-06T14:08:20.854Z"
   },
   {
    "duration": 48,
    "start_time": "2023-07-06T14:08:20.867Z"
   },
   {
    "duration": 9,
    "start_time": "2023-07-07T03:15:46.029Z"
   },
   {
    "duration": 1455,
    "start_time": "2023-07-07T03:16:11.376Z"
   },
   {
    "duration": 52,
    "start_time": "2023-07-07T03:16:12.833Z"
   },
   {
    "duration": 9,
    "start_time": "2023-07-07T03:16:12.886Z"
   },
   {
    "duration": 15,
    "start_time": "2023-07-07T03:16:12.897Z"
   },
   {
    "duration": 5,
    "start_time": "2023-07-07T03:16:12.913Z"
   },
   {
    "duration": 5,
    "start_time": "2023-07-07T03:16:12.919Z"
   },
   {
    "duration": 14,
    "start_time": "2023-07-07T03:16:12.925Z"
   },
   {
    "duration": 264,
    "start_time": "2023-07-07T03:16:12.940Z"
   },
   {
    "duration": 1034,
    "start_time": "2023-07-07T03:16:13.206Z"
   },
   {
    "duration": 311,
    "start_time": "2023-07-07T03:16:14.242Z"
   },
   {
    "duration": 4,
    "start_time": "2023-07-07T03:16:14.555Z"
   },
   {
    "duration": 9,
    "start_time": "2023-07-07T03:16:14.561Z"
   },
   {
    "duration": 33,
    "start_time": "2023-07-07T03:16:14.571Z"
   },
   {
    "duration": 28,
    "start_time": "2023-07-07T03:16:14.605Z"
   },
   {
    "duration": 1635,
    "start_time": "2023-07-07T03:17:29.015Z"
   },
   {
    "duration": 56,
    "start_time": "2023-07-07T03:17:30.652Z"
   },
   {
    "duration": 18,
    "start_time": "2023-07-07T03:17:30.709Z"
   },
   {
    "duration": 52,
    "start_time": "2023-07-07T03:17:30.729Z"
   },
   {
    "duration": 43,
    "start_time": "2023-07-07T03:17:30.782Z"
   },
   {
    "duration": 33,
    "start_time": "2023-07-07T03:17:30.826Z"
   },
   {
    "duration": 27,
    "start_time": "2023-07-07T03:17:30.861Z"
   },
   {
    "duration": 279,
    "start_time": "2023-07-07T03:17:30.889Z"
   },
   {
    "duration": 1049,
    "start_time": "2023-07-07T03:17:31.170Z"
   },
   {
    "duration": 308,
    "start_time": "2023-07-07T03:17:32.222Z"
   },
   {
    "duration": 4,
    "start_time": "2023-07-07T03:17:32.532Z"
   },
   {
    "duration": 31,
    "start_time": "2023-07-07T03:17:32.537Z"
   },
   {
    "duration": 40,
    "start_time": "2023-07-07T03:17:32.570Z"
   },
   {
    "duration": 19,
    "start_time": "2023-07-07T03:17:32.612Z"
   },
   {
    "duration": 4371,
    "start_time": "2023-07-07T03:21:45.444Z"
   },
   {
    "duration": 116,
    "start_time": "2023-07-07T03:26:38.776Z"
   },
   {
    "duration": 6199,
    "start_time": "2023-07-07T03:26:47.159Z"
   },
   {
    "duration": 58,
    "start_time": "2023-07-07T03:26:53.361Z"
   },
   {
    "duration": 13,
    "start_time": "2023-07-07T03:26:53.421Z"
   },
   {
    "duration": 14,
    "start_time": "2023-07-07T03:26:53.435Z"
   },
   {
    "duration": 5,
    "start_time": "2023-07-07T03:26:53.450Z"
   },
   {
    "duration": 9,
    "start_time": "2023-07-07T03:26:53.456Z"
   },
   {
    "duration": 15,
    "start_time": "2023-07-07T03:26:53.466Z"
   },
   {
    "duration": 294,
    "start_time": "2023-07-07T03:26:53.482Z"
   },
   {
    "duration": 1093,
    "start_time": "2023-07-07T03:26:53.778Z"
   },
   {
    "duration": 311,
    "start_time": "2023-07-07T03:26:54.873Z"
   },
   {
    "duration": 4,
    "start_time": "2023-07-07T03:26:55.185Z"
   },
   {
    "duration": 5,
    "start_time": "2023-07-07T03:26:55.191Z"
   },
   {
    "duration": 20,
    "start_time": "2023-07-07T03:26:55.197Z"
   },
   {
    "duration": 9,
    "start_time": "2023-07-07T03:26:55.231Z"
   },
   {
    "duration": 315,
    "start_time": "2023-07-07T03:26:55.242Z"
   },
   {
    "duration": 6051,
    "start_time": "2023-07-07T03:27:49.028Z"
   },
   {
    "duration": 57,
    "start_time": "2023-07-07T03:27:55.081Z"
   },
   {
    "duration": 10,
    "start_time": "2023-07-07T03:27:55.139Z"
   },
   {
    "duration": 19,
    "start_time": "2023-07-07T03:27:55.150Z"
   },
   {
    "duration": 5,
    "start_time": "2023-07-07T03:27:55.170Z"
   },
   {
    "duration": 8,
    "start_time": "2023-07-07T03:27:55.176Z"
   },
   {
    "duration": 14,
    "start_time": "2023-07-07T03:27:55.186Z"
   },
   {
    "duration": 286,
    "start_time": "2023-07-07T03:27:55.202Z"
   },
   {
    "duration": 1038,
    "start_time": "2023-07-07T03:27:55.490Z"
   },
   {
    "duration": 326,
    "start_time": "2023-07-07T03:27:56.531Z"
   },
   {
    "duration": 5,
    "start_time": "2023-07-07T03:27:56.858Z"
   },
   {
    "duration": 8,
    "start_time": "2023-07-07T03:27:56.864Z"
   },
   {
    "duration": 24,
    "start_time": "2023-07-07T03:27:56.873Z"
   },
   {
    "duration": 34,
    "start_time": "2023-07-07T03:27:56.899Z"
   },
   {
    "duration": 105,
    "start_time": "2023-07-07T03:27:56.936Z"
   },
   {
    "duration": 130,
    "start_time": "2023-07-07T03:36:41.704Z"
   },
   {
    "duration": 5426,
    "start_time": "2023-07-07T03:38:34.759Z"
   },
   {
    "duration": 9108,
    "start_time": "2023-07-07T03:38:49.848Z"
   },
   {
    "duration": 9169,
    "start_time": "2023-07-07T03:43:49.888Z"
   },
   {
    "duration": 8937,
    "start_time": "2023-07-07T03:44:06.640Z"
   },
   {
    "duration": 11,
    "start_time": "2023-07-07T03:50:35.232Z"
   },
   {
    "duration": 6071,
    "start_time": "2023-07-07T03:50:45.326Z"
   },
   {
    "duration": 56,
    "start_time": "2023-07-07T03:50:51.400Z"
   },
   {
    "duration": 10,
    "start_time": "2023-07-07T03:50:51.458Z"
   },
   {
    "duration": 14,
    "start_time": "2023-07-07T03:50:51.469Z"
   },
   {
    "duration": 4,
    "start_time": "2023-07-07T03:50:51.485Z"
   },
   {
    "duration": 10,
    "start_time": "2023-07-07T03:50:51.490Z"
   },
   {
    "duration": 32,
    "start_time": "2023-07-07T03:50:51.501Z"
   },
   {
    "duration": 297,
    "start_time": "2023-07-07T03:50:51.534Z"
   },
   {
    "duration": 1035,
    "start_time": "2023-07-07T03:50:51.832Z"
   },
   {
    "duration": 306,
    "start_time": "2023-07-07T03:50:52.869Z"
   },
   {
    "duration": 4,
    "start_time": "2023-07-07T03:50:53.176Z"
   },
   {
    "duration": 10,
    "start_time": "2023-07-07T03:50:53.182Z"
   },
   {
    "duration": 30,
    "start_time": "2023-07-07T03:50:53.194Z"
   },
   {
    "duration": 12,
    "start_time": "2023-07-07T03:50:53.225Z"
   },
   {
    "duration": 9555,
    "start_time": "2023-07-07T03:50:53.242Z"
   },
   {
    "duration": 4,
    "start_time": "2023-07-07T03:51:02.798Z"
   },
   {
    "duration": 3864,
    "start_time": "2023-07-07T03:51:02.803Z"
   },
   {
    "duration": 5,
    "start_time": "2023-07-07T03:52:00.387Z"
   },
   {
    "duration": 6006,
    "start_time": "2023-07-07T03:52:08.335Z"
   },
   {
    "duration": 58,
    "start_time": "2023-07-07T03:52:14.344Z"
   },
   {
    "duration": 11,
    "start_time": "2023-07-07T03:52:14.404Z"
   },
   {
    "duration": 20,
    "start_time": "2023-07-07T03:52:14.417Z"
   },
   {
    "duration": 8,
    "start_time": "2023-07-07T03:52:14.438Z"
   },
   {
    "duration": 18,
    "start_time": "2023-07-07T03:52:14.448Z"
   },
   {
    "duration": 23,
    "start_time": "2023-07-07T03:52:14.468Z"
   },
   {
    "duration": 315,
    "start_time": "2023-07-07T03:52:14.493Z"
   },
   {
    "duration": 1055,
    "start_time": "2023-07-07T03:52:14.810Z"
   },
   {
    "duration": 307,
    "start_time": "2023-07-07T03:52:15.867Z"
   },
   {
    "duration": 4,
    "start_time": "2023-07-07T03:52:16.175Z"
   },
   {
    "duration": 17,
    "start_time": "2023-07-07T03:52:16.181Z"
   },
   {
    "duration": 25,
    "start_time": "2023-07-07T03:52:16.200Z"
   },
   {
    "duration": 13,
    "start_time": "2023-07-07T03:52:16.227Z"
   },
   {
    "duration": 9220,
    "start_time": "2023-07-07T03:52:16.242Z"
   },
   {
    "duration": 3,
    "start_time": "2023-07-07T03:52:25.463Z"
   },
   {
    "duration": 10973,
    "start_time": "2023-07-07T03:52:25.467Z"
   },
   {
    "duration": 11213,
    "start_time": "2023-07-07T03:53:23.279Z"
   },
   {
    "duration": 28314,
    "start_time": "2023-07-07T03:54:03.503Z"
   },
   {
    "duration": 4,
    "start_time": "2023-07-07T04:03:52.715Z"
   },
   {
    "duration": 2123,
    "start_time": "2023-07-07T04:03:55.947Z"
   },
   {
    "duration": 5,
    "start_time": "2023-07-07T04:05:36.367Z"
   },
   {
    "duration": 1324,
    "start_time": "2023-07-07T04:05:37.698Z"
   },
   {
    "duration": 4,
    "start_time": "2023-07-07T04:07:29.275Z"
   },
   {
    "duration": 58888,
    "start_time": "2023-07-07T04:07:30.043Z"
   },
   {
    "duration": 3,
    "start_time": "2023-07-07T04:15:57.615Z"
   },
   {
    "duration": 4,
    "start_time": "2023-07-07T04:19:53.931Z"
   },
   {
    "duration": 4,
    "start_time": "2023-07-07T04:23:00.607Z"
   },
   {
    "duration": 4,
    "start_time": "2023-07-07T04:26:12.590Z"
   },
   {
    "duration": 33521,
    "start_time": "2023-07-07T04:26:13.531Z"
   },
   {
    "duration": 3,
    "start_time": "2023-07-07T04:27:33.483Z"
   },
   {
    "duration": 114879,
    "start_time": "2023-07-07T04:27:34.966Z"
   },
   {
    "duration": 4,
    "start_time": "2023-07-07T04:30:14.738Z"
   },
   {
    "duration": 10,
    "start_time": "2023-07-07T04:32:12.459Z"
   },
   {
    "duration": 10,
    "start_time": "2023-07-07T04:32:58.366Z"
   },
   {
    "duration": 4,
    "start_time": "2023-07-07T04:34:17.151Z"
   },
   {
    "duration": 94195,
    "start_time": "2023-07-07T04:34:19.255Z"
   },
   {
    "duration": 81,
    "start_time": "2023-07-07T04:35:53.452Z"
   },
   {
    "duration": 5,
    "start_time": "2023-07-07T04:38:03.662Z"
   },
   {
    "duration": 4,
    "start_time": "2023-07-07T04:38:31.703Z"
   },
   {
    "duration": 102378,
    "start_time": "2023-07-07T04:38:32.555Z"
   },
   {
    "duration": 4,
    "start_time": "2023-07-07T04:42:04.862Z"
   },
   {
    "duration": 5,
    "start_time": "2023-07-07T04:42:21.174Z"
   },
   {
    "duration": 108278,
    "start_time": "2023-07-07T04:42:24.166Z"
   },
   {
    "duration": 4,
    "start_time": "2023-07-07T04:44:22.834Z"
   },
   {
    "duration": 2,
    "start_time": "2023-07-07T04:49:23.914Z"
   },
   {
    "duration": 6,
    "start_time": "2023-07-07T04:49:41.882Z"
   },
   {
    "duration": 5,
    "start_time": "2023-07-07T05:54:08.225Z"
   },
   {
    "duration": 120152,
    "start_time": "2023-07-07T05:54:09.389Z"
   },
   {
    "duration": 4,
    "start_time": "2023-07-07T05:57:46.189Z"
   },
   {
    "duration": 6057,
    "start_time": "2023-07-07T05:58:30.929Z"
   },
   {
    "duration": 56,
    "start_time": "2023-07-07T05:58:36.989Z"
   },
   {
    "duration": 11,
    "start_time": "2023-07-07T05:58:37.047Z"
   },
   {
    "duration": 16,
    "start_time": "2023-07-07T05:58:37.060Z"
   },
   {
    "duration": 6,
    "start_time": "2023-07-07T05:58:37.077Z"
   },
   {
    "duration": 10,
    "start_time": "2023-07-07T05:58:37.084Z"
   },
   {
    "duration": 37,
    "start_time": "2023-07-07T05:58:37.095Z"
   },
   {
    "duration": 287,
    "start_time": "2023-07-07T05:58:37.134Z"
   },
   {
    "duration": 1058,
    "start_time": "2023-07-07T05:58:37.422Z"
   },
   {
    "duration": 308,
    "start_time": "2023-07-07T05:58:38.483Z"
   },
   {
    "duration": 4,
    "start_time": "2023-07-07T05:58:38.793Z"
   },
   {
    "duration": 21,
    "start_time": "2023-07-07T05:58:38.798Z"
   },
   {
    "duration": 46,
    "start_time": "2023-07-07T05:58:38.820Z"
   },
   {
    "duration": 11,
    "start_time": "2023-07-07T05:58:38.868Z"
   },
   {
    "duration": 9109,
    "start_time": "2023-07-07T05:58:38.932Z"
   },
   {
    "duration": 4,
    "start_time": "2023-07-07T05:58:48.042Z"
   },
   {
    "duration": 69328,
    "start_time": "2023-07-07T05:58:48.047Z"
   },
   {
    "duration": 4,
    "start_time": "2023-07-07T05:59:57.377Z"
   },
   {
    "duration": 71,
    "start_time": "2023-07-07T05:59:57.383Z"
   },
   {
    "duration": 126094,
    "start_time": "2023-07-07T05:59:57.456Z"
   },
   {
    "duration": 3,
    "start_time": "2023-07-07T06:02:03.552Z"
   },
   {
    "duration": 49,
    "start_time": "2023-07-07T06:02:03.633Z"
   },
   {
    "duration": 79,
    "start_time": "2023-07-07T06:02:03.684Z"
   },
   {
    "duration": 112,
    "start_time": "2023-07-07T06:02:55.441Z"
   },
   {
    "duration": 6,
    "start_time": "2023-07-07T06:07:12.193Z"
   },
   {
    "duration": 5,
    "start_time": "2023-07-07T06:09:44.793Z"
   },
   {
    "duration": 138,
    "start_time": "2023-07-07T06:10:04.637Z"
   },
   {
    "duration": 79,
    "start_time": "2023-07-07T06:10:20.777Z"
   },
   {
    "duration": 126,
    "start_time": "2023-07-07T06:13:36.785Z"
   },
   {
    "duration": 15,
    "start_time": "2023-07-07T06:15:07.101Z"
   },
   {
    "duration": 6491,
    "start_time": "2023-07-07T06:15:16.858Z"
   },
   {
    "duration": 60,
    "start_time": "2023-07-07T06:15:23.352Z"
   },
   {
    "duration": 11,
    "start_time": "2023-07-07T06:15:23.414Z"
   },
   {
    "duration": 16,
    "start_time": "2023-07-07T06:15:23.426Z"
   },
   {
    "duration": 5,
    "start_time": "2023-07-07T06:15:23.443Z"
   },
   {
    "duration": 13,
    "start_time": "2023-07-07T06:15:23.449Z"
   },
   {
    "duration": 27,
    "start_time": "2023-07-07T06:15:23.463Z"
   },
   {
    "duration": 273,
    "start_time": "2023-07-07T06:15:23.491Z"
   },
   {
    "duration": 1087,
    "start_time": "2023-07-07T06:15:23.766Z"
   },
   {
    "duration": 303,
    "start_time": "2023-07-07T06:15:24.856Z"
   },
   {
    "duration": 4,
    "start_time": "2023-07-07T06:15:25.161Z"
   },
   {
    "duration": 16,
    "start_time": "2023-07-07T06:15:25.166Z"
   },
   {
    "duration": 65,
    "start_time": "2023-07-07T06:15:25.183Z"
   },
   {
    "duration": 18,
    "start_time": "2023-07-07T06:15:25.249Z"
   },
   {
    "duration": 9226,
    "start_time": "2023-07-07T06:15:25.338Z"
   },
   {
    "duration": 5,
    "start_time": "2023-07-07T06:15:34.566Z"
   },
   {
    "duration": 72057,
    "start_time": "2023-07-07T06:15:34.573Z"
   },
   {
    "duration": 3,
    "start_time": "2023-07-07T06:16:46.631Z"
   },
   {
    "duration": 9,
    "start_time": "2023-07-07T06:16:46.635Z"
   },
   {
    "duration": 201291,
    "start_time": "2023-07-07T06:16:46.646Z"
   },
   {
    "duration": 4,
    "start_time": "2023-07-07T06:20:07.939Z"
   },
   {
    "duration": 20,
    "start_time": "2023-07-07T06:20:07.944Z"
   },
   {
    "duration": 115,
    "start_time": "2023-07-07T06:20:07.966Z"
   },
   {
    "duration": 14,
    "start_time": "2023-07-07T06:21:05.449Z"
   },
   {
    "duration": 13,
    "start_time": "2023-07-07T06:21:42.185Z"
   },
   {
    "duration": 899,
    "start_time": "2023-07-07T06:25:12.590Z"
   },
   {
    "duration": 716,
    "start_time": "2023-07-07T06:26:04.833Z"
   },
   {
    "duration": 695,
    "start_time": "2023-07-07T06:26:53.645Z"
   },
   {
    "duration": 81,
    "start_time": "2023-07-07T06:27:35.748Z"
   },
   {
    "duration": 79,
    "start_time": "2023-07-07T06:27:48.930Z"
   },
   {
    "duration": 92,
    "start_time": "2023-07-07T06:27:57.784Z"
   },
   {
    "duration": 1208,
    "start_time": "2023-07-07T06:28:23.926Z"
   },
   {
    "duration": 1108,
    "start_time": "2023-07-07T06:29:11.841Z"
   },
   {
    "duration": 1051,
    "start_time": "2023-07-07T06:30:05.491Z"
   },
   {
    "duration": 3,
    "start_time": "2023-07-07T06:31:13.142Z"
   },
   {
    "duration": 6161,
    "start_time": "2023-07-07T06:31:22.828Z"
   },
   {
    "duration": 58,
    "start_time": "2023-07-07T06:31:28.991Z"
   },
   {
    "duration": 10,
    "start_time": "2023-07-07T06:31:29.051Z"
   },
   {
    "duration": 20,
    "start_time": "2023-07-07T06:31:29.063Z"
   },
   {
    "duration": 5,
    "start_time": "2023-07-07T06:31:29.084Z"
   },
   {
    "duration": 10,
    "start_time": "2023-07-07T06:31:29.090Z"
   },
   {
    "duration": 15,
    "start_time": "2023-07-07T06:31:29.101Z"
   },
   {
    "duration": 311,
    "start_time": "2023-07-07T06:31:29.117Z"
   },
   {
    "duration": 1045,
    "start_time": "2023-07-07T06:31:29.430Z"
   },
   {
    "duration": 309,
    "start_time": "2023-07-07T06:31:30.478Z"
   },
   {
    "duration": 4,
    "start_time": "2023-07-07T06:31:30.789Z"
   },
   {
    "duration": 94,
    "start_time": "2023-07-07T06:31:30.794Z"
   },
   {
    "duration": 105,
    "start_time": "2023-07-07T06:31:30.889Z"
   },
   {
    "duration": 61,
    "start_time": "2023-07-07T06:31:30.996Z"
   },
   {
    "duration": 9257,
    "start_time": "2023-07-07T06:31:31.059Z"
   },
   {
    "duration": 3,
    "start_time": "2023-07-07T06:31:40.317Z"
   },
   {
    "duration": 59044,
    "start_time": "2023-07-07T06:31:40.322Z"
   },
   {
    "duration": 3,
    "start_time": "2023-07-07T06:32:39.368Z"
   },
   {
    "duration": 6,
    "start_time": "2023-07-07T06:32:39.373Z"
   },
   {
    "duration": 94663,
    "start_time": "2023-07-07T06:32:39.380Z"
   },
   {
    "duration": 4,
    "start_time": "2023-07-07T06:34:14.045Z"
   },
   {
    "duration": 13,
    "start_time": "2023-07-07T06:34:14.051Z"
   },
   {
    "duration": 67,
    "start_time": "2023-07-07T06:34:14.065Z"
   },
   {
    "duration": 1109,
    "start_time": "2023-07-07T06:34:14.134Z"
   },
   {
    "duration": 2233,
    "start_time": "2023-07-07T06:39:34.014Z"
   },
   {
    "duration": 15,
    "start_time": "2023-07-07T06:49:17.253Z"
   },
   {
    "duration": 6081,
    "start_time": "2023-07-07T06:49:41.049Z"
   },
   {
    "duration": 57,
    "start_time": "2023-07-07T06:49:47.133Z"
   },
   {
    "duration": 10,
    "start_time": "2023-07-07T06:49:47.192Z"
   },
   {
    "duration": 13,
    "start_time": "2023-07-07T06:49:47.204Z"
   },
   {
    "duration": 6,
    "start_time": "2023-07-07T06:49:47.218Z"
   },
   {
    "duration": 12,
    "start_time": "2023-07-07T06:49:47.231Z"
   },
   {
    "duration": 14,
    "start_time": "2023-07-07T06:49:47.245Z"
   },
   {
    "duration": 300,
    "start_time": "2023-07-07T06:49:47.261Z"
   },
   {
    "duration": 1111,
    "start_time": "2023-07-07T06:49:47.563Z"
   },
   {
    "duration": 340,
    "start_time": "2023-07-07T06:49:48.676Z"
   },
   {
    "duration": 5,
    "start_time": "2023-07-07T06:49:49.017Z"
   },
   {
    "duration": 16,
    "start_time": "2023-07-07T06:49:49.032Z"
   },
   {
    "duration": 115,
    "start_time": "2023-07-07T06:49:49.049Z"
   },
   {
    "duration": 270,
    "start_time": "2023-07-07T06:49:49.166Z"
   },
   {
    "duration": 61146,
    "start_time": "2023-07-07T06:49:49.439Z"
   },
   {
    "duration": 3,
    "start_time": "2023-07-07T06:50:50.587Z"
   },
   {
    "duration": 453969,
    "start_time": "2023-07-07T06:50:50.591Z"
   },
   {
    "duration": 4,
    "start_time": "2023-07-07T06:58:24.563Z"
   },
   {
    "duration": 19,
    "start_time": "2023-07-07T06:58:24.568Z"
   },
   {
    "duration": 165265,
    "start_time": "2023-07-07T06:58:24.588Z"
   },
   {
    "duration": 3,
    "start_time": "2023-07-07T07:01:09.855Z"
   },
   {
    "duration": 7,
    "start_time": "2023-07-07T07:01:09.931Z"
   },
   {
    "duration": 4494,
    "start_time": "2023-07-07T07:01:09.939Z"
   },
   {
    "duration": 8,
    "start_time": "2023-07-07T07:02:56.681Z"
   },
   {
    "duration": 151,
    "start_time": "2023-07-07T07:04:51.982Z"
   },
   {
    "duration": 109,
    "start_time": "2023-07-07T07:06:45.226Z"
   },
   {
    "duration": 4418,
    "start_time": "2023-07-07T07:28:13.253Z"
   },
   {
    "duration": 56,
    "start_time": "2023-07-07T07:28:17.673Z"
   },
   {
    "duration": 10,
    "start_time": "2023-07-07T07:28:17.730Z"
   },
   {
    "duration": 22,
    "start_time": "2023-07-07T07:28:17.742Z"
   },
   {
    "duration": 25,
    "start_time": "2023-07-07T07:28:17.765Z"
   },
   {
    "duration": 11,
    "start_time": "2023-07-07T07:28:17.792Z"
   },
   {
    "duration": 15,
    "start_time": "2023-07-07T07:28:17.805Z"
   },
   {
    "duration": 274,
    "start_time": "2023-07-07T07:28:17.823Z"
   },
   {
    "duration": 1049,
    "start_time": "2023-07-07T07:28:18.098Z"
   },
   {
    "duration": 311,
    "start_time": "2023-07-07T07:28:19.150Z"
   },
   {
    "duration": 5,
    "start_time": "2023-07-07T07:28:19.462Z"
   },
   {
    "duration": 10,
    "start_time": "2023-07-07T07:28:19.468Z"
   },
   {
    "duration": 108,
    "start_time": "2023-07-07T07:28:19.479Z"
   },
   {
    "duration": 244,
    "start_time": "2023-07-07T07:28:19.589Z"
   },
   {
    "duration": 217,
    "start_time": "2023-07-07T07:28:19.835Z"
   },
   {
    "duration": 0,
    "start_time": "2023-07-07T07:28:20.054Z"
   },
   {
    "duration": 0,
    "start_time": "2023-07-07T07:28:20.056Z"
   },
   {
    "duration": 0,
    "start_time": "2023-07-07T07:28:20.057Z"
   },
   {
    "duration": 0,
    "start_time": "2023-07-07T07:28:20.059Z"
   },
   {
    "duration": 0,
    "start_time": "2023-07-07T07:28:20.060Z"
   },
   {
    "duration": 0,
    "start_time": "2023-07-07T07:28:20.061Z"
   },
   {
    "duration": 0,
    "start_time": "2023-07-07T07:28:20.062Z"
   },
   {
    "duration": 0,
    "start_time": "2023-07-07T07:28:20.063Z"
   },
   {
    "duration": 4115,
    "start_time": "2023-07-07T07:32:03.018Z"
   },
   {
    "duration": 57,
    "start_time": "2023-07-07T07:32:07.135Z"
   },
   {
    "duration": 10,
    "start_time": "2023-07-07T07:32:07.194Z"
   },
   {
    "duration": 12,
    "start_time": "2023-07-07T07:32:07.206Z"
   },
   {
    "duration": 16,
    "start_time": "2023-07-07T07:32:07.220Z"
   },
   {
    "duration": 8,
    "start_time": "2023-07-07T07:32:07.237Z"
   },
   {
    "duration": 24,
    "start_time": "2023-07-07T07:32:07.246Z"
   },
   {
    "duration": 280,
    "start_time": "2023-07-07T07:32:07.272Z"
   },
   {
    "duration": 1114,
    "start_time": "2023-07-07T07:32:07.554Z"
   },
   {
    "duration": 304,
    "start_time": "2023-07-07T07:32:08.671Z"
   },
   {
    "duration": 4,
    "start_time": "2023-07-07T07:32:08.977Z"
   },
   {
    "duration": 5,
    "start_time": "2023-07-07T07:32:08.983Z"
   },
   {
    "duration": 101,
    "start_time": "2023-07-07T07:32:08.990Z"
   },
   {
    "duration": 340,
    "start_time": "2023-07-07T07:32:09.094Z"
   },
   {
    "duration": 61934,
    "start_time": "2023-07-07T07:32:09.437Z"
   },
   {
    "duration": 5,
    "start_time": "2023-07-07T07:33:11.373Z"
   },
   {
    "duration": 486327,
    "start_time": "2023-07-07T07:33:11.380Z"
   },
   {
    "duration": 4,
    "start_time": "2023-07-07T07:41:17.708Z"
   },
   {
    "duration": 13,
    "start_time": "2023-07-07T07:41:17.714Z"
   },
   {
    "duration": 230219,
    "start_time": "2023-07-07T07:41:17.729Z"
   },
   {
    "duration": 5,
    "start_time": "2023-07-07T07:45:07.949Z"
   },
   {
    "duration": 83,
    "start_time": "2023-07-07T07:45:07.955Z"
   },
   {
    "duration": 193,
    "start_time": "2023-07-07T07:45:08.040Z"
   },
   {
    "duration": 124,
    "start_time": "2023-07-08T05:17:34.935Z"
   },
   {
    "duration": 57,
    "start_time": "2023-07-08T05:24:23.940Z"
   },
   {
    "duration": 6722,
    "start_time": "2023-07-08T05:24:56.940Z"
   },
   {
    "duration": 158,
    "start_time": "2023-07-08T05:25:03.663Z"
   },
   {
    "duration": 11,
    "start_time": "2023-07-08T05:25:03.822Z"
   },
   {
    "duration": 13,
    "start_time": "2023-07-08T05:25:03.835Z"
   },
   {
    "duration": 5,
    "start_time": "2023-07-08T05:25:03.850Z"
   },
   {
    "duration": 13,
    "start_time": "2023-07-08T05:25:03.856Z"
   },
   {
    "duration": 24,
    "start_time": "2023-07-08T05:25:03.871Z"
   },
   {
    "duration": 384,
    "start_time": "2023-07-08T05:25:03.896Z"
   },
   {
    "duration": 1210,
    "start_time": "2023-07-08T05:25:04.283Z"
   },
   {
    "duration": 330,
    "start_time": "2023-07-08T05:25:05.496Z"
   },
   {
    "duration": 4,
    "start_time": "2023-07-08T05:25:05.828Z"
   },
   {
    "duration": 28,
    "start_time": "2023-07-08T05:25:05.833Z"
   },
   {
    "duration": 114,
    "start_time": "2023-07-08T05:25:05.862Z"
   },
   {
    "duration": 209,
    "start_time": "2023-07-08T05:25:05.978Z"
   },
   {
    "duration": 63132,
    "start_time": "2023-07-08T05:25:06.189Z"
   },
   {
    "duration": 6,
    "start_time": "2023-07-08T05:26:09.323Z"
   },
   {
    "duration": 3995,
    "start_time": "2023-07-08T05:36:59.171Z"
   },
   {
    "duration": 57,
    "start_time": "2023-07-08T05:37:03.168Z"
   },
   {
    "duration": 12,
    "start_time": "2023-07-08T05:37:03.227Z"
   },
   {
    "duration": 23,
    "start_time": "2023-07-08T05:37:03.241Z"
   },
   {
    "duration": 17,
    "start_time": "2023-07-08T05:37:03.265Z"
   },
   {
    "duration": 24,
    "start_time": "2023-07-08T05:37:03.284Z"
   },
   {
    "duration": 35,
    "start_time": "2023-07-08T05:37:03.309Z"
   },
   {
    "duration": 330,
    "start_time": "2023-07-08T05:37:03.346Z"
   },
   {
    "duration": 1183,
    "start_time": "2023-07-08T05:37:03.678Z"
   },
   {
    "duration": 322,
    "start_time": "2023-07-08T05:37:04.869Z"
   },
   {
    "duration": 5,
    "start_time": "2023-07-08T05:37:05.193Z"
   },
   {
    "duration": 35,
    "start_time": "2023-07-08T05:37:05.200Z"
   },
   {
    "duration": 112,
    "start_time": "2023-07-08T05:37:05.237Z"
   },
   {
    "duration": 318,
    "start_time": "2023-07-08T05:37:05.351Z"
   },
   {
    "duration": 64237,
    "start_time": "2023-07-08T05:37:05.676Z"
   },
   {
    "duration": 4,
    "start_time": "2023-07-08T05:38:09.914Z"
   },
   {
    "duration": 439117,
    "start_time": "2023-07-08T05:38:09.920Z"
   },
   {
    "duration": 4,
    "start_time": "2023-07-08T05:45:29.039Z"
   },
   {
    "duration": 7,
    "start_time": "2023-07-08T05:45:29.045Z"
   },
   {
    "duration": 176216,
    "start_time": "2023-07-08T05:45:29.054Z"
   },
   {
    "duration": 4,
    "start_time": "2023-07-08T05:48:25.273Z"
   },
   {
    "duration": 35,
    "start_time": "2023-07-08T05:48:25.279Z"
   },
   {
    "duration": 160,
    "start_time": "2023-07-08T05:48:25.316Z"
   },
   {
    "duration": 2277,
    "start_time": "2023-07-08T05:49:28.251Z"
   },
   {
    "duration": 43551,
    "start_time": "2023-07-08T05:50:25.387Z"
   },
   {
    "duration": 132,
    "start_time": "2023-07-08T06:27:17.519Z"
   },
   {
    "duration": 4060,
    "start_time": "2023-07-08T06:27:26.792Z"
   },
   {
    "duration": 57,
    "start_time": "2023-07-08T06:27:30.854Z"
   },
   {
    "duration": 12,
    "start_time": "2023-07-08T06:27:30.913Z"
   },
   {
    "duration": 54,
    "start_time": "2023-07-08T06:27:30.927Z"
   },
   {
    "duration": 27,
    "start_time": "2023-07-08T06:27:30.983Z"
   },
   {
    "duration": 28,
    "start_time": "2023-07-08T06:27:31.012Z"
   },
   {
    "duration": 34,
    "start_time": "2023-07-08T06:27:31.042Z"
   },
   {
    "duration": 402,
    "start_time": "2023-07-08T06:27:31.078Z"
   },
   {
    "duration": 1141,
    "start_time": "2023-07-08T06:27:31.482Z"
   },
   {
    "duration": 433,
    "start_time": "2023-07-08T06:27:32.625Z"
   },
   {
    "duration": 6,
    "start_time": "2023-07-08T06:27:33.068Z"
   },
   {
    "duration": 6,
    "start_time": "2023-07-08T06:27:33.075Z"
   },
   {
    "duration": 96,
    "start_time": "2023-07-08T06:27:33.083Z"
   },
   {
    "duration": 390,
    "start_time": "2023-07-08T06:27:33.181Z"
   },
   {
    "duration": 42482,
    "start_time": "2023-07-08T06:27:33.583Z"
   },
   {
    "duration": 3,
    "start_time": "2023-07-08T06:28:16.068Z"
   },
   {
    "duration": 3793,
    "start_time": "2023-07-08T06:30:48.983Z"
   },
   {
    "duration": 56,
    "start_time": "2023-07-08T06:30:52.777Z"
   },
   {
    "duration": 10,
    "start_time": "2023-07-08T06:30:52.835Z"
   },
   {
    "duration": 11,
    "start_time": "2023-07-08T06:30:52.847Z"
   },
   {
    "duration": 5,
    "start_time": "2023-07-08T06:30:52.859Z"
   },
   {
    "duration": 17,
    "start_time": "2023-07-08T06:30:52.866Z"
   },
   {
    "duration": 17,
    "start_time": "2023-07-08T06:30:52.885Z"
   },
   {
    "duration": 324,
    "start_time": "2023-07-08T06:30:52.904Z"
   },
   {
    "duration": 1237,
    "start_time": "2023-07-08T06:30:53.229Z"
   },
   {
    "duration": 371,
    "start_time": "2023-07-08T06:30:54.469Z"
   },
   {
    "duration": 5,
    "start_time": "2023-07-08T06:30:54.842Z"
   },
   {
    "duration": 19,
    "start_time": "2023-07-08T06:30:54.849Z"
   },
   {
    "duration": 90,
    "start_time": "2023-07-08T06:30:54.870Z"
   },
   {
    "duration": 216,
    "start_time": "2023-07-08T06:30:54.961Z"
   },
   {
    "duration": 43384,
    "start_time": "2023-07-08T06:30:55.275Z"
   },
   {
    "duration": 5,
    "start_time": "2023-07-08T06:31:38.660Z"
   },
   {
    "duration": 450413,
    "start_time": "2023-07-08T06:31:38.670Z"
   },
   {
    "duration": 4,
    "start_time": "2023-07-08T06:39:09.086Z"
   },
   {
    "duration": 19,
    "start_time": "2023-07-08T06:39:09.091Z"
   },
   {
    "duration": 281190,
    "start_time": "2023-07-08T06:39:09.112Z"
   },
   {
    "duration": 4,
    "start_time": "2023-07-08T06:43:50.304Z"
   },
   {
    "duration": 63,
    "start_time": "2023-07-08T06:43:50.310Z"
   },
   {
    "duration": 104,
    "start_time": "2023-07-08T06:43:50.375Z"
   },
   {
    "duration": 498,
    "start_time": "2023-07-08T06:46:13.246Z"
   },
   {
    "duration": 118,
    "start_time": "2023-07-08T06:47:13.411Z"
   },
   {
    "duration": 651,
    "start_time": "2023-07-08T06:47:23.103Z"
   },
   {
    "duration": 503,
    "start_time": "2023-07-08T06:48:22.903Z"
   },
   {
    "duration": 557,
    "start_time": "2023-07-08T06:50:02.307Z"
   }
  ],
  "kernelspec": {
   "display_name": "Python 3 (ipykernel)",
   "language": "python",
   "name": "python3"
  },
  "language_info": {
   "codemirror_mode": {
    "name": "ipython",
    "version": 3
   },
   "file_extension": ".py",
   "mimetype": "text/x-python",
   "name": "python",
   "nbconvert_exporter": "python",
   "pygments_lexer": "ipython3",
   "version": "3.9.5"
  },
  "toc": {
   "base_numbering": 1,
   "nav_menu": {},
   "number_sections": true,
   "sideBar": true,
   "skip_h1_title": true,
   "title_cell": "Содержание",
   "title_sidebar": "Contents",
   "toc_cell": true,
   "toc_position": {},
   "toc_section_display": true,
   "toc_window_display": false
  }
 },
 "nbformat": 4,
 "nbformat_minor": 2
}
