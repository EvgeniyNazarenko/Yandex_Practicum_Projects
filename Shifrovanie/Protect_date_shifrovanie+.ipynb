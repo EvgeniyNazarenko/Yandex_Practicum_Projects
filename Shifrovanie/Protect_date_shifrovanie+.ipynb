{
 "cells": [
  {
   "cell_type": "markdown",
   "metadata": {
    "toc": true
   },
   "source": [
    "<h1>Содержание<span class=\"tocSkip\"></span></h1>\n",
    "<div class=\"toc\"><ul class=\"toc-item\"><li><span><a href=\"#Загрузка-данных\" data-toc-modified-id=\"Загрузка-данных-1\"><span class=\"toc-item-num\">1&nbsp;&nbsp;</span>Загрузка данных</a></span></li><li><span><a href=\"#Умножение-матриц\" data-toc-modified-id=\"Умножение-матриц-2\"><span class=\"toc-item-num\">2&nbsp;&nbsp;</span>Умножение матриц</a></span></li><li><span><a href=\"#Алгоритм-преобразования\" data-toc-modified-id=\"Алгоритм-преобразования-3\"><span class=\"toc-item-num\">3&nbsp;&nbsp;</span>Алгоритм преобразования</a></span></li><li><span><a href=\"#Проверка-алгоритма\" data-toc-modified-id=\"Проверка-алгоритма-4\"><span class=\"toc-item-num\">4&nbsp;&nbsp;</span>Проверка алгоритма</a></span><ul class=\"toc-item\"><li><span><a href=\"#Итог\" data-toc-modified-id=\"Итог-4.1\"><span class=\"toc-item-num\">4.1&nbsp;&nbsp;</span>Итог</a></span></li></ul></li><li><span><a href=\"#Чек-лист-проверки\" data-toc-modified-id=\"Чек-лист-проверки-5\"><span class=\"toc-item-num\">5&nbsp;&nbsp;</span>Чек-лист проверки</a></span></li><li><span><a href=\"#Общий-вывод-по-проекту\" data-toc-modified-id=\"Общий-вывод-по-проекту-6\"><span class=\"toc-item-num\">6&nbsp;&nbsp;</span><b>Общий вывод по проекту</b></a></span></li><li><span><a href=\"#Общий-вывод-по-проекту-В2\" data-toc-modified-id=\"Общий-вывод-по-проекту-В2-7\"><span class=\"toc-item-num\">7&nbsp;&nbsp;</span><b>Общий вывод по проекту В2</b></a></span></li></ul></div>"
   ]
  },
  {
   "cell_type": "markdown",
   "metadata": {},
   "source": [
    "# Защита персональных данных клиентов"
   ]
  },
  {
   "cell_type": "markdown",
   "metadata": {},
   "source": [
    "Вам нужно защитить данные клиентов страховой компании «Хоть потоп». Разработайте такой метод преобразования данных, чтобы по ним было сложно восстановить персональную информацию. Обоснуйте корректность его работы.\n",
    "\n",
    "Нужно защитить данные, чтобы при преобразовании качество моделей машинного обучения не ухудшилось. Подбирать наилучшую модель не требуется."
   ]
  },
  {
   "cell_type": "markdown",
   "metadata": {},
   "source": [
    "## Загрузка данных"
   ]
  },
  {
   "cell_type": "code",
   "execution_count": 1,
   "metadata": {},
   "outputs": [],
   "source": [
    "import pandas as pd\n",
    "import seaborn as sns\n",
    "import matplotlib.pyplot as plt\n",
    "import numpy as np\n",
    "from sklearn.linear_model import LinearRegression \n",
    "from sklearn.metrics import r2_score\n",
    "from sklearn.model_selection import train_test_split\n"
   ]
  },
  {
   "cell_type": "code",
   "execution_count": 2,
   "metadata": {},
   "outputs": [
    {
     "name": "stdout",
     "output_type": "stream",
     "text": [
      "   Пол  Возраст  Зарплата  Члены семьи  Страховые выплаты\n",
      "0    1     41.0   49600.0            1                  0\n",
      "1    0     46.0   38000.0            1                  1\n",
      "2    0     29.0   21000.0            0                  0\n",
      "3    0     21.0   41700.0            2                  0\n",
      "4    1     28.0   26100.0            0                  0\n",
      "--------------------------------------\n",
      "<class 'pandas.core.frame.DataFrame'>\n",
      "RangeIndex: 5000 entries, 0 to 4999\n",
      "Data columns (total 5 columns):\n",
      " #   Column             Non-Null Count  Dtype  \n",
      "---  ------             --------------  -----  \n",
      " 0   Пол                5000 non-null   int64  \n",
      " 1   Возраст            5000 non-null   float64\n",
      " 2   Зарплата           5000 non-null   float64\n",
      " 3   Члены семьи        5000 non-null   int64  \n",
      " 4   Страховые выплаты  5000 non-null   int64  \n",
      "dtypes: float64(2), int64(3)\n",
      "memory usage: 195.4 KB\n",
      "--------------------------------------\n"
     ]
    },
    {
     "data": {
      "text/plain": [
       "(5000, 5)"
      ]
     },
     "execution_count": 2,
     "metadata": {},
     "output_type": "execute_result"
    }
   ],
   "source": [
    "#Загрузим данные\n",
    "data=pd.read_csv('/datasets/insurance.csv')\n",
    "print(data.head())\n",
    "print('--------------------------------------')\n",
    "data.info()\n",
    "print('--------------------------------------')\n",
    "data.shape"
   ]
  },
  {
   "cell_type": "code",
   "execution_count": 3,
   "metadata": {},
   "outputs": [
    {
     "data": {
      "text/plain": [
       "Пол                  0\n",
       "Возраст              0\n",
       "Зарплата             0\n",
       "Члены семьи          0\n",
       "Страховые выплаты    0\n",
       "dtype: int64"
      ]
     },
     "execution_count": 3,
     "metadata": {},
     "output_type": "execute_result"
    }
   ],
   "source": [
    "#Проверим на пропуски\n",
    "data.isnull().sum()"
   ]
  },
  {
   "cell_type": "code",
   "execution_count": 4,
   "metadata": {},
   "outputs": [
    {
     "name": "stdout",
     "output_type": "stream",
     "text": [
      "      Пол  Возраст  Зарплата  Члены семьи  Страховые выплаты\n",
      "281     1     39.0   48100.0            1                  0\n",
      "488     1     24.0   32900.0            1                  0\n",
      "513     0     31.0   37400.0            2                  0\n",
      "718     1     22.0   32600.0            1                  0\n",
      "785     0     20.0   35800.0            0                  0\n",
      "...   ...      ...       ...          ...                ...\n",
      "4793    1     24.0   37800.0            0                  0\n",
      "4902    1     35.0   38700.0            1                  0\n",
      "4935    1     19.0   32700.0            0                  0\n",
      "4945    1     21.0   45800.0            0                  0\n",
      "4965    0     22.0   40100.0            1                  0\n",
      "\n",
      "[153 rows x 5 columns]\n"
     ]
    }
   ],
   "source": [
    "##Выведем дубликаты\n",
    "dubl=data.duplicated()\n",
    "print(data[dubl])"
   ]
  },
  {
   "cell_type": "markdown",
   "metadata": {},
   "source": [
    "**Также выведу матрицу корреляций для того,чтобы показать отсутствие линейной зависимости между признаками и матрица признаков имеет полный ранг. Это нам понадобится для доказательства того,что произведение матрицы признаков и транспонированная матрица признаков является обратимой матрицей**\n",
    "$$\n",
    "(X * X^T)\n",
    "$$"
   ]
  },
  {
   "cell_type": "code",
   "execution_count": 5,
   "metadata": {},
   "outputs": [
    {
     "data": {
      "text/plain": [
       "<AxesSubplot:>"
      ]
     },
     "execution_count": 5,
     "metadata": {},
     "output_type": "execute_result"
    },
    {
     "data": {
      "image/png": "[encoded data removed]",
      "text/plain": [
       "<Figure size 432x288 with 2 Axes>"
      ]
     },
     "metadata": {
      "needs_background": "light"
     },
     "output_type": "display_data"
    }
   ],
   "source": [
    "corr = data.corr()\n",
    "sns.heatmap(corr,\n",
    "            xticklabels=corr.columns.values,\n",
    "            yticklabels=corr.columns.values)"
   ]
  },
  {
   "cell_type": "markdown",
   "metadata": {},
   "source": [
    "**Нигде 100й % зависимости между признаками не наблюдается**"
   ]
  },
  {
   "cell_type": "markdown",
   "metadata": {},
   "source": [
    "*** Предобработка проведена:пропуски отсутствуют,полные дубликаты удалены,все данные соответствуют нужному типу ***"
   ]
  },
  {
   "cell_type": "markdown",
   "metadata": {},
   "source": [
    "## Умножение матриц"
   ]
  },
  {
   "cell_type": "markdown",
   "metadata": {},
   "source": [
    "В этом задании вы можете записывать формулы в *Jupyter Notebook.*\n",
    "\n",
    "Чтобы записать формулу внутри текста, окружите её символами доллара \\\\$; если снаружи —  двойными символами \\\\$\\\\$. Эти формулы записываются на языке вёрстки *LaTeX.* \n",
    "\n",
    "Для примера мы записали формулы линейной регрессии. Можете их скопировать и отредактировать, чтобы решить задачу.\n",
    "\n",
    "Работать в *LaTeX* необязательно."
   ]
  },
  {
   "cell_type": "markdown",
   "metadata": {},
   "source": [
    "Обозначения:\n",
    "\n",
    "- $X$ — матрица признаков (нулевой столбец состоит из единиц)\n",
    "\n",
    "- $y$ — вектор целевого признака\n",
    "\n",
    "- $P$ — матрица, на которую умножаются признаки\n",
    "\n",
    "- $w$ — вектор весов линейной регрессии (нулевой элемент равен сдвигу)"
   ]
  },
  {
   "cell_type": "markdown",
   "metadata": {},
   "source": [
    "Предсказания:\n",
    "\n",
    "$$\n",
    "a = Xw\n",
    "$$\n",
    "\n",
    "Задача обучения:\n",
    "\n",
    "$$\n",
    "w = \\arg\\min_w MSE(Xw, y)\n",
    "$$\n",
    "\n",
    "Формула обучения:\n",
    "\n",
    "$$\n",
    "w = (X^T X)^{-1} X^T y\n",
    "$$"
   ]
  },
  {
   "cell_type": "markdown",
   "metadata": {},
   "source": [
    "**Ответ:** После умножения признаков на обратимую матрицу качество линейной регрессии не изменится.\n",
    "\n",
    "**Обоснование:** Доказательство будем проводить через подстановку новых условий в формулу предсказаний и используем ассоциативность матричных операций для преобразования,свойства обратимой матрицы а также свойством обратной матрицы. Какие формулы и свойства нам понадобятся.\n",
    "\n",
    "Свойства транспонирования \n",
    "$$\n",
    "(AB)^T=B^TA^T   (1)\n",
    "$$\n",
    "\n",
    "Свойство обратной матрицы\n",
    "$$\n",
    "A(A)^{-1}=E\n",
    "$$\n",
    "\n",
    "$$\n",
    "(ABC)^-1=C^{-1}B^{-1}A^{-1}  (2)\n",
    "$$\n",
    "\n",
    "$$\n",
    "(A^T)^{-1}=(A^{-1})^T        (3)\n",
    "$$\n",
    "\n",
    "Едининичная квадратная матрица\n",
    "\n",
    "$$\n",
    "EA=AE=A\n",
    "$$\n",
    "\n",
    "**Теперь с помощью этих свойств докажем,что умножение матрицы признаков X на произвольную квадратную и обратимую матрицу М не повлияет на предсказания а.**\n",
    "**Выразим зашифрованные признаки через умножение исходной матрицы признаков на обратимую квадратную матрицу и подставим это значение в формулу обучкения и предсказания.Получаем**\n",
    "\n",
    "$$\n",
    "A= XM((XM)^TXM)^{-1}(XM)^Ty\n",
    "$$\n",
    "\n",
    "**Пользуемся свойством транспонирования (1) и ассоциативностью матричных операций и преобразуем выражение внутри обратной матрицы.**\n",
    "\n",
    "$$\n",
    "A=XM(M^T(X^TX)M)^{-1}(XM)^Ty\n",
    "$$\n",
    "\n",
    "**Рассмотрим поподробнее часть нового предсказания,а именно**\n",
    "\n",
    "$$\n",
    "(M^T(X^TX)M)^{-1}\n",
    "$$\n",
    "\n",
    "**М(а также транспонированная M) у нас по условию квадратная обратимая матрица. Произведение матрицы признаков на себя же транспонированную также является квадратной и обратимой(вспомним матрицу корреляций). Таким образом к этому выражению применимо свойство обратной матрицы (2). Воспользуемся им**\n",
    "\n",
    "$$\n",
    "A=XM(M)^{-1}(X^TX)^{-1}M^{-T}M^TX^Ty\n",
    "$$\n",
    "\n",
    "**Применим свойство (3) и перезапишем часть произведения**\n",
    "\n",
    "$$\n",
    "M^{-T}=(M^T)^{-1}\n",
    "$$\n",
    "\n",
    "**Таким образом получим по основному свойству обратной матрицы получаем.**\n",
    "\n",
    "$$\n",
    "M(M)^{-1}=E\n",
    "$$\n",
    "$$\n",
    "(M^T)^{-1}M^T=E\n",
    "$$\n",
    "\n",
    "**T.е данные части можно сократить,т.к на единичные матрицы не меняют содержание исходной.**\n",
    "**Запишем формулу после сокращения**\n",
    "$$\n",
    "A=X(X^TX)^{-1}X^Ty\n",
    "$$\n",
    "\n",
    "**Данная формула соответствует формуле предсказания**\n",
    "$$\n",
    "a=Xw=X(X^T X)^{-1} X^T y\n",
    "$$"
   ]
  },
  {
   "cell_type": "markdown",
   "metadata": {},
   "source": [
    "## Алгоритм преобразования"
   ]
  },
  {
   "cell_type": "markdown",
   "metadata": {},
   "source": [
    "**Алгоритм**\n",
    "\n",
    "1.Генерирование случайной квадратной матрицы размером N на N, где N это количество признаков.\n",
    "\n",
    "2.Проверка на обратимость.\n",
    "\n",
    "3.Умножение сгенерированной матрицы и проверенной матрицы на матрицу признаков.\n",
    "\n",
    "4.Расчет метрики на зашифрованной матрице с исходным целевым признаком."
   ]
  },
  {
   "cell_type": "markdown",
   "metadata": {},
   "source": [
    "**Обоснование**\n",
    "\n",
    "Т.к умножение матрицы признаков на квадратную матрицу с размерностью равной  количеству признаков не повлияет ни на ее размерность, ни на качество регрессии, то такие данные можно использовать для дальнейшего прогнозирования."
   ]
  },
  {
   "cell_type": "markdown",
   "metadata": {},
   "source": [
    "## Проверка алгоритма"
   ]
  },
  {
   "cell_type": "code",
   "execution_count": 6,
   "metadata": {},
   "outputs": [
    {
     "name": "stdout",
     "output_type": "stream",
     "text": [
      "Размер трейна (3750, 4)\n",
      "Размер тестовой (1250, 4)\n"
     ]
    }
   ],
   "source": [
    "## Для начала приготовим target и features\n",
    "features = data.drop('Страховые выплаты', axis=1)\n",
    "target = data['Страховые выплаты']\n",
    "## Разобьем на трейновую и тестовые выборки\n",
    "features_train, features_test, target_train, target_test = train_test_split(\n",
    "features, target, test_size=0.25, random_state=12345) \n",
    "print('Размер трейна',features_train.shape)\n",
    "print('Размер тестовой',features_test.shape)"
   ]
  },
  {
   "cell_type": "code",
   "execution_count": 7,
   "metadata": {},
   "outputs": [
    {
     "name": "stdout",
     "output_type": "stream",
     "text": [
      "Метрика R2 для незашифрованных данных = 0.43522757127026546\n"
     ]
    }
   ],
   "source": [
    "# Получим метрику на незашифрованных данных.\n",
    "model = LinearRegression()\n",
    "model.fit(features_train,target_train)\n",
    "predictions = model.predict(features_test)\n",
    "r2 = r2_score(target_test, predictions)\n",
    "print(f'Метрика R2 для незашифрованных данных = {r2}')"
   ]
  },
  {
   "cell_type": "markdown",
   "metadata": {},
   "source": [
    "**Теперь эмпирически проверим наш алгоритм**"
   ]
  },
  {
   "cell_type": "code",
   "execution_count": 8,
   "metadata": {},
   "outputs": [
    {
     "name": "stdout",
     "output_type": "stream",
     "text": [
      "[[-0.10065519 -1.39820736  0.12675242 -1.51636788]\n",
      " [ 1.24512345  0.37326911 -0.63660817 -0.29572526]\n",
      " [-0.65230215 -0.53898995  1.12942938  0.02948278]\n",
      " [-1.78718866  0.77830706 -0.20367275 -0.46686919]]\n"
     ]
    }
   ],
   "source": [
    "###1.Генерирование случайной квадратной матрицы размером 4 * 4\n",
    "\n",
    "matrix=np.random.normal(size=(features.shape[1],features.shape[1]))\n",
    "print(matrix)"
   ]
  },
  {
   "cell_type": "code",
   "execution_count": 9,
   "metadata": {},
   "outputs": [
    {
     "name": "stdout",
     "output_type": "stream",
     "text": [
      "Матрица обратима\n"
     ]
    }
   ],
   "source": [
    "###2.Проверка на обратимость.\n",
    "try:\n",
    "    inv_matrix=np.linalg.inv(matrix)\n",
    "    print(\"Матрица обратима\")\n",
    "except np.linalg.LinAlgError:\n",
    "    print(\"Матрица необратима\")"
   ]
  },
  {
   "cell_type": "code",
   "execution_count": 10,
   "metadata": {},
   "outputs": [
    {
     "data": {
      "text/html": [
       "<div>\n",
       "<style scoped>\n",
       "    .dataframe tbody tr th:only-of-type {\n",
       "        vertical-align: middle;\n",
       "    }\n",
       "\n",
       "    .dataframe tbody tr th {\n",
       "        vertical-align: top;\n",
       "    }\n",
       "\n",
       "    .dataframe thead th {\n",
       "        text-align: right;\n",
       "    }\n",
       "</style>\n",
       "<table border=\"1\" class=\"dataframe\">\n",
       "  <thead>\n",
       "    <tr style=\"text-align: right;\">\n",
       "      <th></th>\n",
       "      <th>0</th>\n",
       "      <th>1</th>\n",
       "      <th>2</th>\n",
       "      <th>3</th>\n",
       "    </tr>\n",
       "  </thead>\n",
       "  <tbody>\n",
       "    <tr>\n",
       "      <th>0</th>\n",
       "      <td>-32305.024425</td>\n",
       "      <td>-26719.217460</td>\n",
       "      <td>55993.519619</td>\n",
       "      <td>1448.238053</td>\n",
       "    </tr>\n",
       "    <tr>\n",
       "      <th>1</th>\n",
       "      <td>-24731.993212</td>\n",
       "      <td>-20463.669470</td>\n",
       "      <td>42888.828965</td>\n",
       "      <td>1106.275514</td>\n",
       "    </tr>\n",
       "    <tr>\n",
       "      <th>2</th>\n",
       "      <td>-13662.236571</td>\n",
       "      <td>-11307.964177</td>\n",
       "      <td>23699.555439</td>\n",
       "      <td>610.562406</td>\n",
       "    </tr>\n",
       "    <tr>\n",
       "      <th>3</th>\n",
       "      <td>-27178.426442</td>\n",
       "      <td>-22466.485711</td>\n",
       "      <td>47083.429219</td>\n",
       "      <td>1222.288073</td>\n",
       "    </tr>\n",
       "    <tr>\n",
       "      <th>4</th>\n",
       "      <td>-16990.323315</td>\n",
       "      <td>-14058.584406</td>\n",
       "      <td>29460.408661</td>\n",
       "      <td>759.703955</td>\n",
       "    </tr>\n",
       "  </tbody>\n",
       "</table>\n",
       "</div>"
      ],
      "text/plain": [
       "              0             1             2            3\n",
       "0 -32305.024425 -26719.217460  55993.519619  1448.238053\n",
       "1 -24731.993212 -20463.669470  42888.828965  1106.275514\n",
       "2 -13662.236571 -11307.964177  23699.555439   610.562406\n",
       "3 -27178.426442 -22466.485711  47083.429219  1222.288073\n",
       "4 -16990.323315 -14058.584406  29460.408661   759.703955"
      ]
     },
     "execution_count": 10,
     "metadata": {},
     "output_type": "execute_result"
    }
   ],
   "source": [
    "###3.Умножение сгенерированной матрицы и проверенной матрицы на матрицу признаков.\n",
    "features_cryp = features.dot(matrix)\n",
    "features_cryp.head()"
   ]
  },
  {
   "cell_type": "code",
   "execution_count": 11,
   "metadata": {},
   "outputs": [
    {
     "name": "stdout",
     "output_type": "stream",
     "text": [
      "Метрика R2 для зашифрованных данных = 0.435227571270312\n"
     ]
    }
   ],
   "source": [
    "###4.Расчет метрики на зашифрованной матрице с исходным целевым признаком.\n",
    "model = LinearRegression()\n",
    "features_train_cr, features_test_cr, target_train, target_test = train_test_split(\n",
    "features_cryp, target, test_size=0.25, random_state=12345)\n",
    "\n",
    "model.fit(features_train_cr,target_train)\n",
    "predictions = model.predict(features_test_cr)\n",
    "r2 = r2_score(target_test, predictions)\n",
    "print(f'Метрика R2 для зашифрованных данных = {r2}')"
   ]
  },
  {
   "cell_type": "markdown",
   "metadata": {},
   "source": [
    "**Итак метрика R2 на шифрованных и нешифрованных фичах практически равны (разница незначительна и обусловна точностью вычислений с плавающей точкой. Таким образом наш алгоритм показал практически идентичный пезультат и его можно применять для шифрования**"
   ]
  },
  {
   "cell_type": "markdown",
   "metadata": {},
   "source": [
    "### Итог\n",
    "1.На первом этапе были загружены данные,проверены на пропуски, дубликаты,проведена проверка на отсутствие линейной зависмости между признаками.\n",
    "\n",
    "2.Теоретически доказано отсутствие влияние на качество регрессии умножение матрицы признаков на рандомную квадратную обратимую матрицу.\n",
    "\n",
    "3.Составлен алгоритм шифровки данных.\n",
    "\n",
    "4.Проведено сравнение метрики R2 на шифрованных и нешифрованных данных. Алгоритм проверку прошел. Метрики близки по значению."
   ]
  }
 ],
 "metadata": {
  "ExecuteTimeLog": [
   {
    "duration": 424,
    "start_time": "2023-06-12T14:04:49.774Z"
   },
   {
    "duration": 122,
    "start_time": "2023-06-12T14:06:45.185Z"
   },
   {
    "duration": 79,
    "start_time": "2023-06-12T14:09:17.258Z"
   },
   {
    "duration": 8,
    "start_time": "2023-06-12T14:09:36.302Z"
   },
   {
    "duration": 12,
    "start_time": "2023-06-12T14:09:48.658Z"
   },
   {
    "duration": 5,
    "start_time": "2023-06-12T14:16:18.357Z"
   },
   {
    "duration": 80,
    "start_time": "2023-06-14T18:34:21.100Z"
   },
   {
    "duration": 494,
    "start_time": "2023-06-14T18:34:28.570Z"
   },
   {
    "duration": 141,
    "start_time": "2023-06-14T18:34:29.073Z"
   },
   {
    "duration": 12,
    "start_time": "2023-06-14T18:34:29.215Z"
   },
   {
    "duration": 14,
    "start_time": "2023-06-14T18:34:29.230Z"
   },
   {
    "duration": 59,
    "start_time": "2023-06-14T18:35:02.488Z"
   },
   {
    "duration": 59,
    "start_time": "2023-06-14T18:37:22.992Z"
   },
   {
    "duration": 517,
    "start_time": "2023-06-15T09:51:07.457Z"
   },
   {
    "duration": 240,
    "start_time": "2023-06-15T09:51:07.976Z"
   },
   {
    "duration": 17,
    "start_time": "2023-06-15T09:51:08.218Z"
   },
   {
    "duration": 114,
    "start_time": "2023-06-15T09:51:08.245Z"
   },
   {
    "duration": 11,
    "start_time": "2023-06-15T09:51:48.434Z"
   },
   {
    "duration": 556,
    "start_time": "2023-06-15T09:51:57.227Z"
   },
   {
    "duration": 71,
    "start_time": "2023-06-15T09:51:57.785Z"
   },
   {
    "duration": 8,
    "start_time": "2023-06-15T09:51:57.858Z"
   },
   {
    "duration": 124,
    "start_time": "2023-06-15T09:51:57.869Z"
   },
   {
    "duration": 12,
    "start_time": "2023-06-15T09:52:27.507Z"
   },
   {
    "duration": 542,
    "start_time": "2023-06-15T09:52:40.943Z"
   },
   {
    "duration": 65,
    "start_time": "2023-06-15T09:52:41.497Z"
   },
   {
    "duration": 20,
    "start_time": "2023-06-15T09:52:41.564Z"
   },
   {
    "duration": 83,
    "start_time": "2023-06-15T09:52:41.592Z"
   },
   {
    "duration": 15,
    "start_time": "2023-06-15T09:54:02.011Z"
   },
   {
    "duration": 26,
    "start_time": "2023-06-15T09:54:09.701Z"
   },
   {
    "duration": 29,
    "start_time": "2023-06-15T09:55:10.797Z"
   },
   {
    "duration": 6,
    "start_time": "2023-06-15T09:55:30.539Z"
   },
   {
    "duration": 12,
    "start_time": "2023-06-15T09:55:54.465Z"
   },
   {
    "duration": 9,
    "start_time": "2023-06-15T11:25:30.287Z"
   },
   {
    "duration": 1312,
    "start_time": "2023-06-15T11:25:36.598Z"
   },
   {
    "duration": 134,
    "start_time": "2023-06-15T11:25:37.913Z"
   },
   {
    "duration": 7,
    "start_time": "2023-06-15T11:25:38.049Z"
   },
   {
    "duration": 9,
    "start_time": "2023-06-15T11:25:38.058Z"
   },
   {
    "duration": 218,
    "start_time": "2023-06-15T11:25:38.068Z"
   },
   {
    "duration": 1570,
    "start_time": "2023-06-15T11:54:58.829Z"
   },
   {
    "duration": 43,
    "start_time": "2023-06-15T11:55:00.401Z"
   },
   {
    "duration": 5,
    "start_time": "2023-06-15T11:55:00.446Z"
   },
   {
    "duration": 34,
    "start_time": "2023-06-15T11:55:00.453Z"
   },
   {
    "duration": 272,
    "start_time": "2023-06-15T11:55:00.488Z"
   },
   {
    "duration": 66,
    "start_time": "2023-06-16T11:39:51.013Z"
   },
   {
    "duration": 1339,
    "start_time": "2023-06-16T11:40:05.206Z"
   },
   {
    "duration": 99,
    "start_time": "2023-06-16T11:40:06.548Z"
   },
   {
    "duration": 6,
    "start_time": "2023-06-16T11:40:06.648Z"
   },
   {
    "duration": 31,
    "start_time": "2023-06-16T11:40:06.656Z"
   },
   {
    "duration": 228,
    "start_time": "2023-06-16T11:40:06.689Z"
   },
   {
    "duration": 4,
    "start_time": "2023-06-16T11:40:06.918Z"
   },
   {
    "duration": 1476,
    "start_time": "2023-06-16T11:42:44.222Z"
   },
   {
    "duration": 42,
    "start_time": "2023-06-16T11:42:45.701Z"
   },
   {
    "duration": 5,
    "start_time": "2023-06-16T11:42:45.744Z"
   },
   {
    "duration": 8,
    "start_time": "2023-06-16T11:42:45.751Z"
   },
   {
    "duration": 202,
    "start_time": "2023-06-16T11:42:45.761Z"
   },
   {
    "duration": 3,
    "start_time": "2023-06-16T11:42:45.965Z"
   },
   {
    "duration": 66,
    "start_time": "2023-06-16T11:42:45.970Z"
   },
   {
    "duration": 14,
    "start_time": "2023-06-16T11:44:00.897Z"
   },
   {
    "duration": 112,
    "start_time": "2023-06-16T11:50:52.062Z"
   },
   {
    "duration": 9,
    "start_time": "2023-06-16T11:51:06.827Z"
   },
   {
    "duration": 111,
    "start_time": "2023-06-16T11:55:48.270Z"
   },
   {
    "duration": 4,
    "start_time": "2023-06-16T11:56:50.072Z"
   },
   {
    "duration": 13,
    "start_time": "2023-06-16T11:58:52.577Z"
   },
   {
    "duration": 16,
    "start_time": "2023-06-16T11:59:14.580Z"
   },
   {
    "duration": 13,
    "start_time": "2023-06-16T12:03:04.572Z"
   },
   {
    "duration": 1412,
    "start_time": "2023-06-16T12:03:14.028Z"
   },
   {
    "duration": 43,
    "start_time": "2023-06-16T12:03:15.444Z"
   },
   {
    "duration": 6,
    "start_time": "2023-06-16T12:03:15.489Z"
   },
   {
    "duration": 10,
    "start_time": "2023-06-16T12:03:15.497Z"
   },
   {
    "duration": 247,
    "start_time": "2023-06-16T12:03:15.509Z"
   },
   {
    "duration": 4,
    "start_time": "2023-06-16T12:03:15.757Z"
   },
   {
    "duration": 13,
    "start_time": "2023-06-16T12:03:15.763Z"
   },
   {
    "duration": 62,
    "start_time": "2023-06-16T12:03:15.777Z"
   },
   {
    "duration": 101,
    "start_time": "2023-06-16T12:03:15.840Z"
   },
   {
    "duration": 283,
    "start_time": "2023-06-16T12:03:15.942Z"
   },
   {
    "duration": 8,
    "start_time": "2023-06-16T12:04:11.800Z"
   },
   {
    "duration": 13,
    "start_time": "2023-06-16T12:06:08.040Z"
   },
   {
    "duration": 1290,
    "start_time": "2023-06-16T12:09:42.661Z"
   },
   {
    "duration": 42,
    "start_time": "2023-06-16T12:09:43.952Z"
   },
   {
    "duration": 6,
    "start_time": "2023-06-16T12:09:43.995Z"
   },
   {
    "duration": 5,
    "start_time": "2023-06-16T12:09:44.003Z"
   },
   {
    "duration": 187,
    "start_time": "2023-06-16T12:09:44.009Z"
   },
   {
    "duration": 7,
    "start_time": "2023-06-16T12:09:44.198Z"
   },
   {
    "duration": 34,
    "start_time": "2023-06-16T12:09:44.207Z"
   },
   {
    "duration": 102,
    "start_time": "2023-06-16T12:09:44.333Z"
   },
   {
    "duration": 9,
    "start_time": "2023-06-16T12:09:44.437Z"
   },
   {
    "duration": 83,
    "start_time": "2023-06-16T12:09:44.449Z"
   },
   {
    "duration": 1385,
    "start_time": "2023-06-16T12:10:07.499Z"
   },
   {
    "duration": 41,
    "start_time": "2023-06-16T12:10:08.886Z"
   },
   {
    "duration": 6,
    "start_time": "2023-06-16T12:10:08.929Z"
   },
   {
    "duration": 27,
    "start_time": "2023-06-16T12:10:08.936Z"
   },
   {
    "duration": 201,
    "start_time": "2023-06-16T12:10:08.965Z"
   },
   {
    "duration": 8,
    "start_time": "2023-06-16T12:10:09.168Z"
   },
   {
    "duration": 58,
    "start_time": "2023-06-16T12:10:09.178Z"
   },
   {
    "duration": 7,
    "start_time": "2023-06-16T12:10:09.237Z"
   },
   {
    "duration": 107,
    "start_time": "2023-06-16T12:10:09.245Z"
   },
   {
    "duration": 86,
    "start_time": "2023-06-16T12:10:09.356Z"
   },
   {
    "duration": 20,
    "start_time": "2023-06-16T12:11:53.512Z"
   },
   {
    "duration": 2335,
    "start_time": "2023-06-16T18:58:40.928Z"
   },
   {
    "duration": 240,
    "start_time": "2023-06-16T18:58:43.271Z"
   },
   {
    "duration": 24,
    "start_time": "2023-06-16T18:58:43.513Z"
   },
   {
    "duration": 9,
    "start_time": "2023-06-16T18:58:43.542Z"
   },
   {
    "duration": 253,
    "start_time": "2023-06-16T18:58:43.556Z"
   },
   {
    "duration": 17,
    "start_time": "2023-06-16T18:58:43.813Z"
   },
   {
    "duration": 188,
    "start_time": "2023-06-16T18:58:43.832Z"
   },
   {
    "duration": 12,
    "start_time": "2023-06-16T18:58:44.022Z"
   },
   {
    "duration": 40,
    "start_time": "2023-06-16T18:58:44.039Z"
   },
   {
    "duration": 41,
    "start_time": "2023-06-16T18:58:44.091Z"
   },
   {
    "duration": 113,
    "start_time": "2023-06-16T18:58:44.134Z"
   },
   {
    "duration": 2359,
    "start_time": "2023-06-16T19:34:20.626Z"
   },
   {
    "duration": 91,
    "start_time": "2023-06-16T19:34:22.987Z"
   },
   {
    "duration": 18,
    "start_time": "2023-06-16T19:34:23.083Z"
   },
   {
    "duration": 13,
    "start_time": "2023-06-16T19:34:23.106Z"
   },
   {
    "duration": 309,
    "start_time": "2023-06-16T19:34:23.127Z"
   },
   {
    "duration": 15,
    "start_time": "2023-06-16T19:34:23.445Z"
   },
   {
    "duration": 205,
    "start_time": "2023-06-16T19:34:23.464Z"
   },
   {
    "duration": 18,
    "start_time": "2023-06-16T19:34:23.701Z"
   },
   {
    "duration": 74,
    "start_time": "2023-06-16T19:34:23.724Z"
   },
   {
    "duration": 67,
    "start_time": "2023-06-16T19:34:23.832Z"
   },
   {
    "duration": 134,
    "start_time": "2023-06-16T19:34:23.905Z"
   },
   {
    "duration": 1683,
    "start_time": "2023-06-17T07:50:56.989Z"
   },
   {
    "duration": 0,
    "start_time": "2023-06-17T07:50:58.673Z"
   },
   {
    "duration": 0,
    "start_time": "2023-06-17T07:50:58.676Z"
   },
   {
    "duration": 0,
    "start_time": "2023-06-17T07:50:58.677Z"
   },
   {
    "duration": 0,
    "start_time": "2023-06-17T07:50:58.678Z"
   },
   {
    "duration": 0,
    "start_time": "2023-06-17T07:50:58.679Z"
   },
   {
    "duration": 0,
    "start_time": "2023-06-17T07:50:58.680Z"
   },
   {
    "duration": 0,
    "start_time": "2023-06-17T07:50:58.681Z"
   },
   {
    "duration": 0,
    "start_time": "2023-06-17T07:50:58.682Z"
   },
   {
    "duration": 0,
    "start_time": "2023-06-17T07:50:58.683Z"
   },
   {
    "duration": 0,
    "start_time": "2023-06-17T07:50:58.684Z"
   },
   {
    "duration": 1557,
    "start_time": "2023-06-17T07:53:10.418Z"
   },
   {
    "duration": 0,
    "start_time": "2023-06-17T07:53:11.977Z"
   },
   {
    "duration": 0,
    "start_time": "2023-06-17T07:53:11.979Z"
   },
   {
    "duration": 0,
    "start_time": "2023-06-17T07:53:11.980Z"
   },
   {
    "duration": 0,
    "start_time": "2023-06-17T07:53:11.981Z"
   },
   {
    "duration": 0,
    "start_time": "2023-06-17T07:53:11.983Z"
   },
   {
    "duration": 0,
    "start_time": "2023-06-17T07:53:11.984Z"
   },
   {
    "duration": 0,
    "start_time": "2023-06-17T07:53:11.986Z"
   },
   {
    "duration": 0,
    "start_time": "2023-06-17T07:53:11.987Z"
   },
   {
    "duration": 0,
    "start_time": "2023-06-17T07:53:11.988Z"
   },
   {
    "duration": 0,
    "start_time": "2023-06-17T07:53:11.999Z"
   },
   {
    "duration": 1472,
    "start_time": "2023-06-17T07:54:59.991Z"
   },
   {
    "duration": 153,
    "start_time": "2023-06-17T07:55:01.465Z"
   },
   {
    "duration": 10,
    "start_time": "2023-06-17T07:55:01.622Z"
   },
   {
    "duration": 131,
    "start_time": "2023-06-17T07:55:01.636Z"
   },
   {
    "duration": 194,
    "start_time": "2023-06-17T07:55:01.769Z"
   },
   {
    "duration": 0,
    "start_time": "2023-06-17T07:55:01.964Z"
   },
   {
    "duration": 0,
    "start_time": "2023-06-17T07:55:01.966Z"
   },
   {
    "duration": 0,
    "start_time": "2023-06-17T07:55:01.967Z"
   },
   {
    "duration": 0,
    "start_time": "2023-06-17T07:55:01.968Z"
   },
   {
    "duration": 0,
    "start_time": "2023-06-17T07:55:01.970Z"
   },
   {
    "duration": 0,
    "start_time": "2023-06-17T07:55:01.972Z"
   },
   {
    "duration": 230,
    "start_time": "2023-06-17T07:55:17.846Z"
   },
   {
    "duration": 130,
    "start_time": "2023-06-17T07:59:23.138Z"
   },
   {
    "duration": 3771,
    "start_time": "2023-06-17T08:00:38.575Z"
   },
   {
    "duration": 42,
    "start_time": "2023-06-17T08:00:42.348Z"
   },
   {
    "duration": 14,
    "start_time": "2023-06-17T08:00:42.391Z"
   },
   {
    "duration": 62,
    "start_time": "2023-06-17T08:00:42.406Z"
   },
   {
    "duration": 317,
    "start_time": "2023-06-17T08:00:42.470Z"
   },
   {
    "duration": 10,
    "start_time": "2023-06-17T08:00:42.788Z"
   },
   {
    "duration": 207,
    "start_time": "2023-06-17T08:00:42.799Z"
   },
   {
    "duration": 129,
    "start_time": "2023-06-17T08:00:43.018Z"
   },
   {
    "duration": 25,
    "start_time": "2023-06-17T08:00:43.149Z"
   },
   {
    "duration": 44,
    "start_time": "2023-06-17T08:00:43.176Z"
   },
   {
    "duration": 145,
    "start_time": "2023-06-17T08:00:43.223Z"
   },
   {
    "duration": 14,
    "start_time": "2023-06-17T08:01:57.898Z"
   },
   {
    "duration": 8,
    "start_time": "2023-06-17T08:02:15.918Z"
   },
   {
    "duration": 16,
    "start_time": "2023-06-17T08:03:13.326Z"
   },
   {
    "duration": 1849,
    "start_time": "2023-06-17T08:03:22.629Z"
   },
   {
    "duration": 83,
    "start_time": "2023-06-17T08:03:24.481Z"
   },
   {
    "duration": 24,
    "start_time": "2023-06-17T08:03:24.566Z"
   },
   {
    "duration": 6,
    "start_time": "2023-06-17T08:03:24.592Z"
   },
   {
    "duration": 282,
    "start_time": "2023-06-17T08:03:24.600Z"
   },
   {
    "duration": 6,
    "start_time": "2023-06-17T08:03:24.884Z"
   },
   {
    "duration": 57,
    "start_time": "2023-06-17T08:03:24.892Z"
   },
   {
    "duration": 5,
    "start_time": "2023-06-17T08:03:24.950Z"
   },
   {
    "duration": 7,
    "start_time": "2023-06-17T08:03:24.957Z"
   },
   {
    "duration": 47,
    "start_time": "2023-06-17T08:03:24.966Z"
   },
   {
    "duration": 157,
    "start_time": "2023-06-17T08:03:25.014Z"
   },
   {
    "duration": 14,
    "start_time": "2023-06-17T08:04:41.921Z"
   },
   {
    "duration": 9352,
    "start_time": "2023-06-17T08:04:53.845Z"
   },
   {
    "duration": 128,
    "start_time": "2023-06-17T08:05:03.198Z"
   },
   {
    "duration": 8,
    "start_time": "2023-06-17T08:05:03.327Z"
   },
   {
    "duration": 26,
    "start_time": "2023-06-17T08:05:03.338Z"
   },
   {
    "duration": 286,
    "start_time": "2023-06-17T08:05:03.366Z"
   },
   {
    "duration": 9,
    "start_time": "2023-06-17T08:05:03.654Z"
   },
   {
    "duration": 287,
    "start_time": "2023-06-17T08:05:03.664Z"
   },
   {
    "duration": 7,
    "start_time": "2023-06-17T08:05:03.952Z"
   },
   {
    "duration": 89,
    "start_time": "2023-06-17T08:05:03.960Z"
   },
   {
    "duration": 86,
    "start_time": "2023-06-17T08:05:04.052Z"
   },
   {
    "duration": 97,
    "start_time": "2023-06-17T08:05:04.140Z"
   },
   {
    "duration": 113,
    "start_time": "2023-06-17T08:06:16.227Z"
   },
   {
    "duration": 9,
    "start_time": "2023-06-17T08:11:13.353Z"
   },
   {
    "duration": 11,
    "start_time": "2023-06-17T08:12:11.456Z"
   },
   {
    "duration": 6221,
    "start_time": "2023-06-17T08:13:45.930Z"
   },
   {
    "duration": 114,
    "start_time": "2023-06-17T08:13:52.153Z"
   },
   {
    "duration": 6,
    "start_time": "2023-06-17T08:13:52.269Z"
   },
   {
    "duration": 28,
    "start_time": "2023-06-17T08:13:52.277Z"
   },
   {
    "duration": 257,
    "start_time": "2023-06-17T08:13:52.308Z"
   },
   {
    "duration": 9,
    "start_time": "2023-06-17T08:13:52.567Z"
   },
   {
    "duration": 76,
    "start_time": "2023-06-17T08:13:52.578Z"
   },
   {
    "duration": 15,
    "start_time": "2023-06-17T08:13:52.656Z"
   },
   {
    "duration": 21,
    "start_time": "2023-06-17T08:13:52.672Z"
   },
   {
    "duration": 132,
    "start_time": "2023-06-17T08:13:52.695Z"
   },
   {
    "duration": 14,
    "start_time": "2023-06-17T08:13:52.830Z"
   },
   {
    "duration": 146,
    "start_time": "2023-06-17T08:16:05.930Z"
   },
   {
    "duration": 6,
    "start_time": "2023-06-17T08:36:03.071Z"
   },
   {
    "duration": 6,
    "start_time": "2023-06-17T08:37:29.870Z"
   },
   {
    "duration": 8076,
    "start_time": "2023-06-17T08:37:36.129Z"
   },
   {
    "duration": 0,
    "start_time": "2023-06-17T08:37:44.209Z"
   },
   {
    "duration": 0,
    "start_time": "2023-06-17T08:37:44.210Z"
   },
   {
    "duration": 0,
    "start_time": "2023-06-17T08:37:44.211Z"
   },
   {
    "duration": 0,
    "start_time": "2023-06-17T08:37:44.212Z"
   },
   {
    "duration": 0,
    "start_time": "2023-06-17T08:37:44.213Z"
   },
   {
    "duration": 0,
    "start_time": "2023-06-17T08:37:44.213Z"
   },
   {
    "duration": 0,
    "start_time": "2023-06-17T08:37:44.214Z"
   },
   {
    "duration": 0,
    "start_time": "2023-06-17T08:37:44.215Z"
   },
   {
    "duration": 0,
    "start_time": "2023-06-17T08:37:44.216Z"
   },
   {
    "duration": 0,
    "start_time": "2023-06-17T08:37:44.217Z"
   },
   {
    "duration": 1,
    "start_time": "2023-06-17T08:37:44.217Z"
   },
   {
    "duration": 1662,
    "start_time": "2023-06-17T08:38:08.550Z"
   },
   {
    "duration": 128,
    "start_time": "2023-06-17T08:38:10.214Z"
   },
   {
    "duration": 7,
    "start_time": "2023-06-17T08:38:10.344Z"
   },
   {
    "duration": 96,
    "start_time": "2023-06-17T08:38:10.354Z"
   },
   {
    "duration": 41,
    "start_time": "2023-06-17T08:38:10.452Z"
   },
   {
    "duration": 359,
    "start_time": "2023-06-17T08:38:10.495Z"
   },
   {
    "duration": 8,
    "start_time": "2023-06-17T08:38:10.855Z"
   },
   {
    "duration": 104,
    "start_time": "2023-06-17T08:38:10.864Z"
   },
   {
    "duration": 81,
    "start_time": "2023-06-17T08:38:10.970Z"
   },
   {
    "duration": 84,
    "start_time": "2023-06-17T08:38:11.053Z"
   },
   {
    "duration": 70,
    "start_time": "2023-06-17T08:38:11.139Z"
   },
   {
    "duration": 105,
    "start_time": "2023-06-17T08:38:11.211Z"
   },
   {
    "duration": 1922,
    "start_time": "2023-06-17T08:45:09.150Z"
   },
   {
    "duration": 77,
    "start_time": "2023-06-17T08:45:11.074Z"
   },
   {
    "duration": 9,
    "start_time": "2023-06-17T08:45:11.154Z"
   },
   {
    "duration": 28,
    "start_time": "2023-06-17T08:45:11.165Z"
   },
   {
    "duration": 349,
    "start_time": "2023-06-17T08:45:11.196Z"
   },
   {
    "duration": 12,
    "start_time": "2023-06-17T08:45:11.558Z"
   },
   {
    "duration": 17,
    "start_time": "2023-06-17T08:45:11.572Z"
   },
   {
    "duration": 83,
    "start_time": "2023-06-17T08:45:11.591Z"
   },
   {
    "duration": 10,
    "start_time": "2023-06-17T08:45:11.676Z"
   },
   {
    "duration": 72,
    "start_time": "2023-06-17T08:45:11.688Z"
   },
   {
    "duration": 67,
    "start_time": "2023-06-17T08:45:11.762Z"
   }
  ],
  "kernelspec": {
   "display_name": "Python 3 (ipykernel)",
   "language": "python",
   "name": "python3"
  },
  "language_info": {
   "codemirror_mode": {
    "name": "ipython",
    "version": 3
   },
   "file_extension": ".py",
   "mimetype": "text/x-python",
   "name": "python",
   "nbconvert_exporter": "python",
   "pygments_lexer": "ipython3",
   "version": "3.9.5"
  },
  "toc": {
   "base_numbering": 1,
   "nav_menu": {},
   "number_sections": true,
   "sideBar": true,
   "skip_h1_title": true,
   "title_cell": "Содержание",
   "title_sidebar": "Contents",
   "toc_cell": true,
   "toc_position": {},
   "toc_section_display": true,
   "toc_window_display": true
  }
 },
 "nbformat": 4,
 "nbformat_minor": 2
}
