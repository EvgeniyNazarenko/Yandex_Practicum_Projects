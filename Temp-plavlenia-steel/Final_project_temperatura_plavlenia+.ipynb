{
 "cells": [
  {
   "cell_type": "markdown",
   "metadata": {},
   "source": [
    "# Оптимизация потребление электроэнергии на этапе обработки стали."
   ]
  },
  {
   "cell_type": "markdown",
   "metadata": {},
   "source": [
    "Чтобы оптимизировать производственные расходы, металлургический комбинат ООО «Так закаляем сталь» решил уменьшить потребление электроэнергии на этапе обработки стали. Вам предстоит построить модель, которая предскажет температуру стали.\n",
    "Описание этапа обработки\n",
    "​\n",
    "Сталь обрабатывают в металлическом ковше вместимостью около 100 тонн. Чтобы ковш выдерживал высокие температуры, изнутри его облицовывают огнеупорным кирпичом. Расплавленную сталь заливают в ковш и подогревают до нужной температуры графитовыми электродами. Они установлены в крышке ковша. \n",
    "​\n",
    "Из сплава выводится сера (десульфурация), добавлением примесей корректируется химический состав и отбираются пробы. Сталь легируют — изменяют её состав — подавая куски сплава из бункера для сыпучих материалов или проволоку через специальный трайб-аппарат (англ. tribe, «масса»).\n",
    "​\n",
    "Перед тем как первый раз ввести легирующие добавки, измеряют температуру стали и производят её химический анализ. Потом температуру на несколько минут повышают, добавляют легирующие материалы и продувают сплав инертным газом. Затем его перемешивают и снова проводят измерения. Такой цикл повторяется до достижения целевого химического состава и оптимальной температуры плавки.\n",
    "Тогда расплавленная сталь отправляется на доводку металла или поступает в машину непрерывной разливки. Оттуда готовый продукт выходит в виде заготовок-слябов (англ. slab, «плита»).\n",
    "​\n",
    "Наша задача обработать данные и на этих данных обучить модели для прогнозирования конечной температуры.\n",
    "Условия для моделей пронозирования:\n",
    "​\n",
    "- random_state=12923\n",
    "- test_size=25%\n",
    "- делим на две выборки и используем  кросс-валидацию, тестируем одну модель, выбранную на кросс-валидации/\n",
    "- минимальный порог МАЕ<= 6.8."
   ]
  },
  {
   "cell_type": "code",
   "execution_count": 1,
   "metadata": {},
   "outputs": [],
   "source": [
    "import pandas as pd\n",
    "import matplotlib.pyplot as plt\n",
    "import seaborn as sns\n",
    "import datetime\n",
    "import matplotlib.pyplot as plt\n",
    "from sklearn.model_selection import train_test_split\n",
    "from sklearn.metrics import mean_absolute_error\n",
    "from sklearn.model_selection import cross_val_score\n",
    "from sklearn.pipeline import  make_pipeline\n",
    "from sklearn.model_selection import GridSearchCV\n",
    "from sklearn.preprocessing import StandardScaler\n",
    "from sklearn.linear_model import LinearRegression\n",
    "from sklearn.ensemble import RandomForestRegressor\n",
    "from sklearn.model_selection import RandomizedSearchCV\n",
    "from catboost import CatBoostRegressor\n",
    "import lightgbm as lgb\n",
    "from lightgbm import LGBMRegressor\n",
    "import seaborn as sns\n",
    "import warnings\n",
    "warnings.filterwarnings(\"ignore\")"
   ]
  },
  {
   "cell_type": "markdown",
   "metadata": {},
   "source": [
    "### Первичный анализ датасетов"
   ]
  },
  {
   "cell_type": "markdown",
   "metadata": {},
   "source": [
    "#### Анализ данных по электродам."
   ]
  },
  {
   "cell_type": "code",
   "execution_count": 2,
   "metadata": {},
   "outputs": [
    {
     "name": "stdout",
     "output_type": "stream",
     "text": [
      "   key Начало нагрева дугой  Конец нагрева дугой  Активная мощность  \\\n",
      "0    1  2019-05-03 11:02:14  2019-05-03 11:06:02           0.305130   \n",
      "1    1  2019-05-03 11:07:28  2019-05-03 11:10:33           0.765658   \n",
      "2    1  2019-05-03 11:11:44  2019-05-03 11:14:36           0.580313   \n",
      "3    1  2019-05-03 11:18:14  2019-05-03 11:24:19           0.518496   \n",
      "4    1  2019-05-03 11:26:09  2019-05-03 11:28:37           0.867133   \n",
      "\n",
      "   Реактивная мощность  \n",
      "0             0.211253  \n",
      "1             0.477438  \n",
      "2             0.430460  \n",
      "3             0.379979  \n",
      "4             0.643691  \n",
      "<class 'pandas.core.frame.DataFrame'>\n",
      "RangeIndex: 14876 entries, 0 to 14875\n",
      "Data columns (total 5 columns):\n",
      " #   Column                Non-Null Count  Dtype  \n",
      "---  ------                --------------  -----  \n",
      " 0   key                   14876 non-null  int64  \n",
      " 1   Начало нагрева дугой  14876 non-null  object \n",
      " 2   Конец нагрева дугой   14876 non-null  object \n",
      " 3   Активная мощность     14876 non-null  float64\n",
      " 4   Реактивная мощность   14876 non-null  float64\n",
      "dtypes: float64(2), int64(1), object(2)\n",
      "memory usage: 581.2+ KB\n"
     ]
    }
   ],
   "source": [
    "#данные об электродах\n",
    "arc=pd.read_csv('/datasets/data_arc_new.csv')\n",
    "print(arc.head())\n",
    "arc.info()"
   ]
  },
  {
   "cell_type": "code",
   "execution_count": 3,
   "metadata": {},
   "outputs": [
    {
     "name": "stdout",
     "output_type": "stream",
     "text": [
      "Количество пропусков\n"
     ]
    },
    {
     "data": {
      "text/plain": [
       "key                     0\n",
       "Начало нагрева дугой    0\n",
       "Конец нагрева дугой     0\n",
       "Активная мощность       0\n",
       "Реактивная мощность     0\n",
       "dtype: int64"
      ]
     },
     "execution_count": 3,
     "metadata": {},
     "output_type": "execute_result"
    }
   ],
   "source": [
    "print('Количество пропусков')\n",
    "arc.isnull().sum()"
   ]
  },
  {
   "cell_type": "code",
   "execution_count": 4,
   "metadata": {},
   "outputs": [
    {
     "data": {
      "text/html": [
       "<div>\n",
       "<style scoped>\n",
       "    .dataframe tbody tr th:only-of-type {\n",
       "        vertical-align: middle;\n",
       "    }\n",
       "\n",
       "    .dataframe tbody tr th {\n",
       "        vertical-align: top;\n",
       "    }\n",
       "\n",
       "    .dataframe thead th {\n",
       "        text-align: right;\n",
       "    }\n",
       "</style>\n",
       "<table border=\"1\" class=\"dataframe\">\n",
       "  <thead>\n",
       "    <tr style=\"text-align: right;\">\n",
       "      <th></th>\n",
       "      <th>key</th>\n",
       "      <th>Активная мощность</th>\n",
       "      <th>Реактивная мощность</th>\n",
       "    </tr>\n",
       "  </thead>\n",
       "  <tbody>\n",
       "    <tr>\n",
       "      <th>count</th>\n",
       "      <td>14876.000000</td>\n",
       "      <td>14876.000000</td>\n",
       "      <td>14876.000000</td>\n",
       "    </tr>\n",
       "    <tr>\n",
       "      <th>mean</th>\n",
       "      <td>1615.220422</td>\n",
       "      <td>0.662752</td>\n",
       "      <td>0.438986</td>\n",
       "    </tr>\n",
       "    <tr>\n",
       "      <th>std</th>\n",
       "      <td>934.571502</td>\n",
       "      <td>0.258885</td>\n",
       "      <td>5.873485</td>\n",
       "    </tr>\n",
       "    <tr>\n",
       "      <th>min</th>\n",
       "      <td>1.000000</td>\n",
       "      <td>0.223120</td>\n",
       "      <td>-715.479924</td>\n",
       "    </tr>\n",
       "    <tr>\n",
       "      <th>25%</th>\n",
       "      <td>806.000000</td>\n",
       "      <td>0.467115</td>\n",
       "      <td>0.337175</td>\n",
       "    </tr>\n",
       "    <tr>\n",
       "      <th>50%</th>\n",
       "      <td>1617.000000</td>\n",
       "      <td>0.599587</td>\n",
       "      <td>0.441639</td>\n",
       "    </tr>\n",
       "    <tr>\n",
       "      <th>75%</th>\n",
       "      <td>2429.000000</td>\n",
       "      <td>0.830070</td>\n",
       "      <td>0.608201</td>\n",
       "    </tr>\n",
       "    <tr>\n",
       "      <th>max</th>\n",
       "      <td>3241.000000</td>\n",
       "      <td>1.463773</td>\n",
       "      <td>1.270284</td>\n",
       "    </tr>\n",
       "  </tbody>\n",
       "</table>\n",
       "</div>"
      ],
      "text/plain": [
       "                key  Активная мощность  Реактивная мощность\n",
       "count  14876.000000       14876.000000         14876.000000\n",
       "mean    1615.220422           0.662752             0.438986\n",
       "std      934.571502           0.258885             5.873485\n",
       "min        1.000000           0.223120          -715.479924\n",
       "25%      806.000000           0.467115             0.337175\n",
       "50%     1617.000000           0.599587             0.441639\n",
       "75%     2429.000000           0.830070             0.608201\n",
       "max     3241.000000           1.463773             1.270284"
      ]
     },
     "execution_count": 4,
     "metadata": {},
     "output_type": "execute_result"
    }
   ],
   "source": [
    "# Описатаельная статистика.\n",
    "arc.describe()"
   ]
  },
  {
   "cell_type": "code",
   "execution_count": 5,
   "metadata": {},
   "outputs": [],
   "source": [
    "# Убираем выброс\n",
    "arc_clean=arc[arc['Реактивная мощность'] >= -715]"
   ]
  },
  {
   "cell_type": "code",
   "execution_count": 6,
   "metadata": {},
   "outputs": [
    {
     "name": "stdout",
     "output_type": "stream",
     "text": [
      "AxesSubplot(0.125,0.125;0.775x0.755)\n"
     ]
    },
    {
     "data": {
      "image/png": "[encoded data removed]",
      "text/plain": [
       "<Figure size 432x288 with 1 Axes>"
      ]
     },
     "metadata": {
      "needs_background": "light"
     },
     "output_type": "display_data"
    }
   ],
   "source": [
    "#Boxplot активной мощности\n",
    "print(arc_clean.boxplot(column=['Активная мощность'], grid=True))"
   ]
  },
  {
   "cell_type": "code",
   "execution_count": 7,
   "metadata": {},
   "outputs": [
    {
     "name": "stdout",
     "output_type": "stream",
     "text": [
      "AxesSubplot(0.125,0.125;0.775x0.755)\n"
     ]
    },
    {
     "data": {
      "image/png": "[encoded data removed]",
      "text/plain": [
       "<Figure size 432x288 with 1 Axes>"
      ]
     },
     "metadata": {
      "needs_background": "light"
     },
     "output_type": "display_data"
    }
   ],
   "source": [
    "#Гистограммы распределения активной и реактивной мощности.\n",
    "print(sns.histplot(x=arc_clean['Активная мощность'], kde=True))"
   ]
  },
  {
   "cell_type": "code",
   "execution_count": 8,
   "metadata": {},
   "outputs": [
    {
     "name": "stdout",
     "output_type": "stream",
     "text": [
      "AxesSubplot(0.125,0.125;0.775x0.755)\n"
     ]
    },
    {
     "data": {
      "image/png": "[encoded data removed]",
      "text/plain": [
       "<Figure size 432x288 with 1 Axes>"
      ]
     },
     "metadata": {
      "needs_background": "light"
     },
     "output_type": "display_data"
    }
   ],
   "source": [
    "print(sns.histplot(x=arc_clean['Реактивная мощность'], kde=True))\n"
   ]
  },
  {
   "cell_type": "code",
   "execution_count": 9,
   "metadata": {},
   "outputs": [
    {
     "data": {
      "text/plain": [
       "0.9663734456187294"
      ]
     },
     "execution_count": 9,
     "metadata": {},
     "output_type": "execute_result"
    }
   ],
   "source": [
    "# Кэф корреляции\n",
    "arc_clean['Реактивная мощность'].corr(arc_clean['Активная мощность'])"
   ]
  },
  {
   "cell_type": "code",
   "execution_count": 10,
   "metadata": {},
   "outputs": [
    {
     "name": "stdout",
     "output_type": "stream",
     "text": [
      "Количество партий  3214\n"
     ]
    }
   ],
   "source": [
    "print(\"Количество партий \",arc['key'].nunique())"
   ]
  },
  {
   "cell_type": "code",
   "execution_count": 11,
   "metadata": {},
   "outputs": [
    {
     "name": "stdout",
     "output_type": "stream",
     "text": [
      "Количество пропущенных значений\n"
     ]
    },
    {
     "data": {
      "text/plain": [
       "key                     0\n",
       "Начало нагрева дугой    0\n",
       "Конец нагрева дугой     0\n",
       "Активная мощность       0\n",
       "Реактивная мощность     0\n",
       "dtype: int64"
      ]
     },
     "execution_count": 11,
     "metadata": {},
     "output_type": "execute_result"
    }
   ],
   "source": [
    "print('Количество пропущенных значений')\n",
    "arc.isnull().sum()"
   ]
  },
  {
   "cell_type": "code",
   "execution_count": 12,
   "metadata": {},
   "outputs": [
    {
     "data": {
      "text/plain": [
       "('Кол-во дубликатов:', 0)"
      ]
     },
     "execution_count": 12,
     "metadata": {},
     "output_type": "execute_result"
    }
   ],
   "source": [
    "('Кол-во дубликатов:', arc.duplicated().sum())"
   ]
  },
  {
   "cell_type": "markdown",
   "metadata": {},
   "source": [
    "* Выводы *\n",
    "\n",
    "-по электродам все данные без пропусков.\n",
    "\n",
    "-дубликаты отсутствуют.\n",
    "\n",
    "-есть явный выброс-большое отрицательное значение реактивной мощности.\n",
    "\n",
    "-между активной и реактивной мощностью практически 100 процентная связь.На основании этих признаков создать новый - Полная мощность,которая вычисляется по формуле:\n",
    "\n",
    "Полная мощность = (Активная мощность^2 + Реактивная мощность^2)^1/2, тем самым убрав практически линейную зависимость между 2мя признаками,объединив их в 1.\n",
    "\n",
    "Также добавим новый признак - время нагрева. И на основании 2 новых признаков рассчитаем работу."
   ]
  },
  {
   "cell_type": "markdown",
   "metadata": {},
   "source": [
    "#### Анализ данных по сыпучим материалам (объем)"
   ]
  },
  {
   "cell_type": "code",
   "execution_count": 13,
   "metadata": {},
   "outputs": [
    {
     "name": "stdout",
     "output_type": "stream",
     "text": [
      "   key  Bulk 1  Bulk 2  Bulk 3  Bulk 4  Bulk 5  Bulk 6  Bulk 7  Bulk 8  \\\n",
      "0    1     NaN     NaN     NaN    43.0     NaN     NaN     NaN     NaN   \n",
      "1    2     NaN     NaN     NaN    73.0     NaN     NaN     NaN     NaN   \n",
      "2    3     NaN     NaN     NaN    34.0     NaN     NaN     NaN     NaN   \n",
      "3    4     NaN     NaN     NaN    81.0     NaN     NaN     NaN     NaN   \n",
      "4    5     NaN     NaN     NaN    78.0     NaN     NaN     NaN     NaN   \n",
      "\n",
      "   Bulk 9  Bulk 10  Bulk 11  Bulk 12  Bulk 13  Bulk 14  Bulk 15  \n",
      "0     NaN      NaN      NaN    206.0      NaN    150.0    154.0  \n",
      "1     NaN      NaN      NaN    206.0      NaN    149.0    154.0  \n",
      "2     NaN      NaN      NaN    205.0      NaN    152.0    153.0  \n",
      "3     NaN      NaN      NaN    207.0      NaN    153.0    154.0  \n",
      "4     NaN      NaN      NaN    203.0      NaN    151.0    152.0  \n",
      "<class 'pandas.core.frame.DataFrame'>\n",
      "RangeIndex: 3129 entries, 0 to 3128\n",
      "Data columns (total 16 columns):\n",
      " #   Column   Non-Null Count  Dtype  \n",
      "---  ------   --------------  -----  \n",
      " 0   key      3129 non-null   int64  \n",
      " 1   Bulk 1   252 non-null    float64\n",
      " 2   Bulk 2   22 non-null     float64\n",
      " 3   Bulk 3   1298 non-null   float64\n",
      " 4   Bulk 4   1014 non-null   float64\n",
      " 5   Bulk 5   77 non-null     float64\n",
      " 6   Bulk 6   576 non-null    float64\n",
      " 7   Bulk 7   25 non-null     float64\n",
      " 8   Bulk 8   1 non-null      float64\n",
      " 9   Bulk 9   19 non-null     float64\n",
      " 10  Bulk 10  176 non-null    float64\n",
      " 11  Bulk 11  177 non-null    float64\n",
      " 12  Bulk 12  2450 non-null   float64\n",
      " 13  Bulk 13  18 non-null     float64\n",
      " 14  Bulk 14  2806 non-null   float64\n",
      " 15  Bulk 15  2248 non-null   float64\n",
      "dtypes: float64(15), int64(1)\n",
      "memory usage: 391.2 KB\n"
     ]
    }
   ],
   "source": [
    "#данные о подаче сыпучих материалов (объём)\n",
    "bulk=pd.read_csv('/datasets/data_bulk_new.csv')\n",
    "print(bulk.head())\n",
    "bulk.info()"
   ]
  },
  {
   "cell_type": "code",
   "execution_count": 14,
   "metadata": {},
   "outputs": [
    {
     "data": {
      "text/html": [
       "<div>\n",
       "<style scoped>\n",
       "    .dataframe tbody tr th:only-of-type {\n",
       "        vertical-align: middle;\n",
       "    }\n",
       "\n",
       "    .dataframe tbody tr th {\n",
       "        vertical-align: top;\n",
       "    }\n",
       "\n",
       "    .dataframe thead th {\n",
       "        text-align: right;\n",
       "    }\n",
       "</style>\n",
       "<table border=\"1\" class=\"dataframe\">\n",
       "  <thead>\n",
       "    <tr style=\"text-align: right;\">\n",
       "      <th></th>\n",
       "      <th>key</th>\n",
       "      <th>Bulk 1</th>\n",
       "      <th>Bulk 2</th>\n",
       "      <th>Bulk 3</th>\n",
       "      <th>Bulk 4</th>\n",
       "      <th>Bulk 5</th>\n",
       "      <th>Bulk 6</th>\n",
       "      <th>Bulk 7</th>\n",
       "      <th>Bulk 8</th>\n",
       "      <th>Bulk 9</th>\n",
       "      <th>Bulk 10</th>\n",
       "      <th>Bulk 11</th>\n",
       "      <th>Bulk 12</th>\n",
       "      <th>Bulk 13</th>\n",
       "      <th>Bulk 14</th>\n",
       "      <th>Bulk 15</th>\n",
       "    </tr>\n",
       "  </thead>\n",
       "  <tbody>\n",
       "    <tr>\n",
       "      <th>count</th>\n",
       "      <td>3129.000000</td>\n",
       "      <td>252.000000</td>\n",
       "      <td>22.000000</td>\n",
       "      <td>1298.000000</td>\n",
       "      <td>1014.000000</td>\n",
       "      <td>77.000000</td>\n",
       "      <td>576.000000</td>\n",
       "      <td>25.000000</td>\n",
       "      <td>1.0</td>\n",
       "      <td>19.000000</td>\n",
       "      <td>176.000000</td>\n",
       "      <td>177.000000</td>\n",
       "      <td>2450.000000</td>\n",
       "      <td>18.000000</td>\n",
       "      <td>2806.000000</td>\n",
       "      <td>2248.000000</td>\n",
       "    </tr>\n",
       "    <tr>\n",
       "      <th>mean</th>\n",
       "      <td>1624.383509</td>\n",
       "      <td>39.242063</td>\n",
       "      <td>253.045455</td>\n",
       "      <td>113.879045</td>\n",
       "      <td>104.394477</td>\n",
       "      <td>107.025974</td>\n",
       "      <td>118.925347</td>\n",
       "      <td>305.600000</td>\n",
       "      <td>49.0</td>\n",
       "      <td>76.315789</td>\n",
       "      <td>83.284091</td>\n",
       "      <td>76.819209</td>\n",
       "      <td>260.471020</td>\n",
       "      <td>181.111111</td>\n",
       "      <td>170.284747</td>\n",
       "      <td>160.513345</td>\n",
       "    </tr>\n",
       "    <tr>\n",
       "      <th>std</th>\n",
       "      <td>933.337642</td>\n",
       "      <td>18.277654</td>\n",
       "      <td>21.180578</td>\n",
       "      <td>75.483494</td>\n",
       "      <td>48.184126</td>\n",
       "      <td>81.790646</td>\n",
       "      <td>72.057776</td>\n",
       "      <td>191.022904</td>\n",
       "      <td>NaN</td>\n",
       "      <td>21.720581</td>\n",
       "      <td>26.060347</td>\n",
       "      <td>59.655365</td>\n",
       "      <td>120.649269</td>\n",
       "      <td>46.088009</td>\n",
       "      <td>65.868652</td>\n",
       "      <td>51.765319</td>\n",
       "    </tr>\n",
       "    <tr>\n",
       "      <th>min</th>\n",
       "      <td>1.000000</td>\n",
       "      <td>10.000000</td>\n",
       "      <td>228.000000</td>\n",
       "      <td>6.000000</td>\n",
       "      <td>12.000000</td>\n",
       "      <td>11.000000</td>\n",
       "      <td>17.000000</td>\n",
       "      <td>47.000000</td>\n",
       "      <td>49.0</td>\n",
       "      <td>63.000000</td>\n",
       "      <td>24.000000</td>\n",
       "      <td>8.000000</td>\n",
       "      <td>53.000000</td>\n",
       "      <td>151.000000</td>\n",
       "      <td>16.000000</td>\n",
       "      <td>1.000000</td>\n",
       "    </tr>\n",
       "    <tr>\n",
       "      <th>25%</th>\n",
       "      <td>816.000000</td>\n",
       "      <td>27.000000</td>\n",
       "      <td>242.000000</td>\n",
       "      <td>58.000000</td>\n",
       "      <td>72.000000</td>\n",
       "      <td>70.000000</td>\n",
       "      <td>69.750000</td>\n",
       "      <td>155.000000</td>\n",
       "      <td>49.0</td>\n",
       "      <td>66.000000</td>\n",
       "      <td>64.000000</td>\n",
       "      <td>25.000000</td>\n",
       "      <td>204.000000</td>\n",
       "      <td>153.250000</td>\n",
       "      <td>119.000000</td>\n",
       "      <td>105.000000</td>\n",
       "    </tr>\n",
       "    <tr>\n",
       "      <th>50%</th>\n",
       "      <td>1622.000000</td>\n",
       "      <td>31.000000</td>\n",
       "      <td>251.500000</td>\n",
       "      <td>97.500000</td>\n",
       "      <td>102.000000</td>\n",
       "      <td>86.000000</td>\n",
       "      <td>100.000000</td>\n",
       "      <td>298.000000</td>\n",
       "      <td>49.0</td>\n",
       "      <td>68.000000</td>\n",
       "      <td>86.500000</td>\n",
       "      <td>64.000000</td>\n",
       "      <td>208.000000</td>\n",
       "      <td>155.500000</td>\n",
       "      <td>151.000000</td>\n",
       "      <td>160.000000</td>\n",
       "    </tr>\n",
       "    <tr>\n",
       "      <th>75%</th>\n",
       "      <td>2431.000000</td>\n",
       "      <td>46.000000</td>\n",
       "      <td>257.750000</td>\n",
       "      <td>152.000000</td>\n",
       "      <td>133.000000</td>\n",
       "      <td>132.000000</td>\n",
       "      <td>157.000000</td>\n",
       "      <td>406.000000</td>\n",
       "      <td>49.0</td>\n",
       "      <td>70.500000</td>\n",
       "      <td>102.000000</td>\n",
       "      <td>106.000000</td>\n",
       "      <td>316.000000</td>\n",
       "      <td>203.500000</td>\n",
       "      <td>205.750000</td>\n",
       "      <td>205.000000</td>\n",
       "    </tr>\n",
       "    <tr>\n",
       "      <th>max</th>\n",
       "      <td>3241.000000</td>\n",
       "      <td>185.000000</td>\n",
       "      <td>325.000000</td>\n",
       "      <td>454.000000</td>\n",
       "      <td>281.000000</td>\n",
       "      <td>603.000000</td>\n",
       "      <td>503.000000</td>\n",
       "      <td>772.000000</td>\n",
       "      <td>49.0</td>\n",
       "      <td>147.000000</td>\n",
       "      <td>159.000000</td>\n",
       "      <td>313.000000</td>\n",
       "      <td>1849.000000</td>\n",
       "      <td>305.000000</td>\n",
       "      <td>636.000000</td>\n",
       "      <td>405.000000</td>\n",
       "    </tr>\n",
       "  </tbody>\n",
       "</table>\n",
       "</div>"
      ],
      "text/plain": [
       "               key      Bulk 1      Bulk 2       Bulk 3       Bulk 4  \\\n",
       "count  3129.000000  252.000000   22.000000  1298.000000  1014.000000   \n",
       "mean   1624.383509   39.242063  253.045455   113.879045   104.394477   \n",
       "std     933.337642   18.277654   21.180578    75.483494    48.184126   \n",
       "min       1.000000   10.000000  228.000000     6.000000    12.000000   \n",
       "25%     816.000000   27.000000  242.000000    58.000000    72.000000   \n",
       "50%    1622.000000   31.000000  251.500000    97.500000   102.000000   \n",
       "75%    2431.000000   46.000000  257.750000   152.000000   133.000000   \n",
       "max    3241.000000  185.000000  325.000000   454.000000   281.000000   \n",
       "\n",
       "           Bulk 5      Bulk 6      Bulk 7  Bulk 8      Bulk 9     Bulk 10  \\\n",
       "count   77.000000  576.000000   25.000000     1.0   19.000000  176.000000   \n",
       "mean   107.025974  118.925347  305.600000    49.0   76.315789   83.284091   \n",
       "std     81.790646   72.057776  191.022904     NaN   21.720581   26.060347   \n",
       "min     11.000000   17.000000   47.000000    49.0   63.000000   24.000000   \n",
       "25%     70.000000   69.750000  155.000000    49.0   66.000000   64.000000   \n",
       "50%     86.000000  100.000000  298.000000    49.0   68.000000   86.500000   \n",
       "75%    132.000000  157.000000  406.000000    49.0   70.500000  102.000000   \n",
       "max    603.000000  503.000000  772.000000    49.0  147.000000  159.000000   \n",
       "\n",
       "          Bulk 11      Bulk 12     Bulk 13      Bulk 14      Bulk 15  \n",
       "count  177.000000  2450.000000   18.000000  2806.000000  2248.000000  \n",
       "mean    76.819209   260.471020  181.111111   170.284747   160.513345  \n",
       "std     59.655365   120.649269   46.088009    65.868652    51.765319  \n",
       "min      8.000000    53.000000  151.000000    16.000000     1.000000  \n",
       "25%     25.000000   204.000000  153.250000   119.000000   105.000000  \n",
       "50%     64.000000   208.000000  155.500000   151.000000   160.000000  \n",
       "75%    106.000000   316.000000  203.500000   205.750000   205.000000  \n",
       "max    313.000000  1849.000000  305.000000   636.000000   405.000000  "
      ]
     },
     "execution_count": 14,
     "metadata": {},
     "output_type": "execute_result"
    }
   ],
   "source": [
    "# Описательная статитстика.\n",
    "bulk.describe()"
   ]
  },
  {
   "cell_type": "code",
   "execution_count": 15,
   "metadata": {},
   "outputs": [
    {
     "data": {
      "image/png": "[encoded data removed]",
      "text/plain": [
       "<Figure size 1080x360 with 1 Axes>"
      ]
     },
     "metadata": {
      "needs_background": "light"
     },
     "output_type": "display_data"
    }
   ],
   "source": [
    "###Boxplot по всем подачам сыпучим материалам.\n",
    "plt.figure(figsize=(15,5))\n",
    "sns.boxplot(data=bulk.iloc[:,1:].values)\n",
    "plt.grid();"
   ]
  },
  {
   "cell_type": "code",
   "execution_count": 16,
   "metadata": {},
   "outputs": [
    {
     "name": "stdout",
     "output_type": "stream",
     "text": [
      "Количество партий  3129\n"
     ]
    }
   ],
   "source": [
    "print(\"Количество партий \",bulk['key'].nunique())"
   ]
  },
  {
   "cell_type": "code",
   "execution_count": 17,
   "metadata": {},
   "outputs": [
    {
     "name": "stdout",
     "output_type": "stream",
     "text": [
      "Количество пропущенных значений\n"
     ]
    },
    {
     "data": {
      "text/plain": [
       "key           0\n",
       "Bulk 1     2877\n",
       "Bulk 2     3107\n",
       "Bulk 3     1831\n",
       "Bulk 4     2115\n",
       "Bulk 5     3052\n",
       "Bulk 6     2553\n",
       "Bulk 7     3104\n",
       "Bulk 8     3128\n",
       "Bulk 9     3110\n",
       "Bulk 10    2953\n",
       "Bulk 11    2952\n",
       "Bulk 12     679\n",
       "Bulk 13    3111\n",
       "Bulk 14     323\n",
       "Bulk 15     881\n",
       "dtype: int64"
      ]
     },
     "execution_count": 17,
     "metadata": {},
     "output_type": "execute_result"
    }
   ],
   "source": [
    "print('Количество пропущенных значений')\n",
    "bulk.isnull().sum()"
   ]
  },
  {
   "cell_type": "code",
   "execution_count": 18,
   "metadata": {},
   "outputs": [
    {
     "data": {
      "text/plain": [
       "('Кол-во дубликатов:', 0)"
      ]
     },
     "execution_count": 18,
     "metadata": {},
     "output_type": "execute_result"
    }
   ],
   "source": [
    "('Кол-во дубликатов:', bulk.duplicated().sum())"
   ]
  },
  {
   "cell_type": "markdown",
   "metadata": {},
   "source": [
    "*** Выводы ***\n",
    "\n",
    "-Дубликаты отсутствуют.\n",
    "\n",
    "-Есть единичный выброс в подаче Bulk12\n",
    "\n",
    "-Много пропущенных значений. В датафреймах data_bulk и data_bulk_time 16 признаков, из них во всех признаках Bulk есть пропуски, причем пропуски в датафреймах совпадает. Вероятнее всего, это говорит об отсутствие засыпки на определенном этапе. Т.о образом пропущенные значения в этом датасете мы заполним \"0\"."
   ]
  },
  {
   "cell_type": "markdown",
   "metadata": {},
   "source": [
    "#### Анализ данных по сыпучим материалам (время)"
   ]
  },
  {
   "cell_type": "code",
   "execution_count": 19,
   "metadata": {},
   "outputs": [
    {
     "name": "stdout",
     "output_type": "stream",
     "text": [
      "   key Bulk 1 Bulk 2 Bulk 3               Bulk 4 Bulk 5 Bulk 6 Bulk 7 Bulk 8  \\\n",
      "0    1    NaN    NaN    NaN  2019-05-03 11:28:48    NaN    NaN    NaN    NaN   \n",
      "1    2    NaN    NaN    NaN  2019-05-03 11:36:50    NaN    NaN    NaN    NaN   \n",
      "2    3    NaN    NaN    NaN  2019-05-03 12:32:39    NaN    NaN    NaN    NaN   \n",
      "3    4    NaN    NaN    NaN  2019-05-03 12:43:22    NaN    NaN    NaN    NaN   \n",
      "4    5    NaN    NaN    NaN  2019-05-03 13:30:47    NaN    NaN    NaN    NaN   \n",
      "\n",
      "  Bulk 9 Bulk 10 Bulk 11              Bulk 12 Bulk 13              Bulk 14  \\\n",
      "0    NaN     NaN     NaN  2019-05-03 11:24:31     NaN  2019-05-03 11:14:50   \n",
      "1    NaN     NaN     NaN  2019-05-03 11:53:30     NaN  2019-05-03 11:48:37   \n",
      "2    NaN     NaN     NaN  2019-05-03 12:27:13     NaN  2019-05-03 12:21:01   \n",
      "3    NaN     NaN     NaN  2019-05-03 12:58:00     NaN  2019-05-03 12:51:11   \n",
      "4    NaN     NaN     NaN  2019-05-03 13:30:47     NaN  2019-05-03 13:34:12   \n",
      "\n",
      "               Bulk 15  \n",
      "0  2019-05-03 11:10:43  \n",
      "1  2019-05-03 11:44:39  \n",
      "2  2019-05-03 12:16:16  \n",
      "3  2019-05-03 12:46:36  \n",
      "4  2019-05-03 13:30:47  \n",
      "<class 'pandas.core.frame.DataFrame'>\n",
      "RangeIndex: 3129 entries, 0 to 3128\n",
      "Data columns (total 16 columns):\n",
      " #   Column   Non-Null Count  Dtype \n",
      "---  ------   --------------  ----- \n",
      " 0   key      3129 non-null   int64 \n",
      " 1   Bulk 1   252 non-null    object\n",
      " 2   Bulk 2   22 non-null     object\n",
      " 3   Bulk 3   1298 non-null   object\n",
      " 4   Bulk 4   1014 non-null   object\n",
      " 5   Bulk 5   77 non-null     object\n",
      " 6   Bulk 6   576 non-null    object\n",
      " 7   Bulk 7   25 non-null     object\n",
      " 8   Bulk 8   1 non-null      object\n",
      " 9   Bulk 9   19 non-null     object\n",
      " 10  Bulk 10  176 non-null    object\n",
      " 11  Bulk 11  177 non-null    object\n",
      " 12  Bulk 12  2450 non-null   object\n",
      " 13  Bulk 13  18 non-null     object\n",
      " 14  Bulk 14  2806 non-null   object\n",
      " 15  Bulk 15  2248 non-null   object\n",
      "dtypes: int64(1), object(15)\n",
      "memory usage: 391.2+ KB\n"
     ]
    }
   ],
   "source": [
    "#данные о подаче сыпучих материалов (время)\n",
    "bulk_time=pd.read_csv('/datasets/data_bulk_time_new.csv')\n",
    "print(bulk_time.head())\n",
    "bulk_time.info()"
   ]
  },
  {
   "cell_type": "code",
   "execution_count": 20,
   "metadata": {},
   "outputs": [
    {
     "data": {
      "text/plain": [
       "key           0\n",
       "Bulk 1     2877\n",
       "Bulk 2     3107\n",
       "Bulk 3     1831\n",
       "Bulk 4     2115\n",
       "Bulk 5     3052\n",
       "Bulk 6     2553\n",
       "Bulk 7     3104\n",
       "Bulk 8     3128\n",
       "Bulk 9     3110\n",
       "Bulk 10    2953\n",
       "Bulk 11    2952\n",
       "Bulk 12     679\n",
       "Bulk 13    3111\n",
       "Bulk 14     323\n",
       "Bulk 15     881\n",
       "dtype: int64"
      ]
     },
     "execution_count": 20,
     "metadata": {},
     "output_type": "execute_result"
    }
   ],
   "source": [
    "bulk_time.isnull().sum()"
   ]
  },
  {
   "cell_type": "markdown",
   "metadata": {},
   "source": [
    "#### Анализ  данных о продувке сплава газом. "
   ]
  },
  {
   "cell_type": "code",
   "execution_count": 21,
   "metadata": {},
   "outputs": [
    {
     "name": "stdout",
     "output_type": "stream",
     "text": [
      "   key      Газ 1\n",
      "0    1  29.749986\n",
      "1    2  12.555561\n",
      "2    3  28.554793\n",
      "3    4  18.841219\n",
      "4    5   5.413692\n",
      "<class 'pandas.core.frame.DataFrame'>\n",
      "RangeIndex: 3239 entries, 0 to 3238\n",
      "Data columns (total 2 columns):\n",
      " #   Column  Non-Null Count  Dtype  \n",
      "---  ------  --------------  -----  \n",
      " 0   key     3239 non-null   int64  \n",
      " 1   Газ 1   3239 non-null   float64\n",
      "dtypes: float64(1), int64(1)\n",
      "memory usage: 50.7 KB\n"
     ]
    }
   ],
   "source": [
    "#данные о продувке сплава газом\n",
    "gas=pd.read_csv('/datasets/data_gas_new.csv')\n",
    "print(gas.head())\n",
    "gas.info()"
   ]
  },
  {
   "cell_type": "code",
   "execution_count": 22,
   "metadata": {},
   "outputs": [
    {
     "data": {
      "text/html": [
       "<div>\n",
       "<style scoped>\n",
       "    .dataframe tbody tr th:only-of-type {\n",
       "        vertical-align: middle;\n",
       "    }\n",
       "\n",
       "    .dataframe tbody tr th {\n",
       "        vertical-align: top;\n",
       "    }\n",
       "\n",
       "    .dataframe thead th {\n",
       "        text-align: right;\n",
       "    }\n",
       "</style>\n",
       "<table border=\"1\" class=\"dataframe\">\n",
       "  <thead>\n",
       "    <tr style=\"text-align: right;\">\n",
       "      <th></th>\n",
       "      <th>key</th>\n",
       "      <th>Газ 1</th>\n",
       "    </tr>\n",
       "  </thead>\n",
       "  <tbody>\n",
       "    <tr>\n",
       "      <th>count</th>\n",
       "      <td>3239.000000</td>\n",
       "      <td>3239.000000</td>\n",
       "    </tr>\n",
       "    <tr>\n",
       "      <th>mean</th>\n",
       "      <td>1621.861377</td>\n",
       "      <td>11.002062</td>\n",
       "    </tr>\n",
       "    <tr>\n",
       "      <th>std</th>\n",
       "      <td>935.386334</td>\n",
       "      <td>6.220327</td>\n",
       "    </tr>\n",
       "    <tr>\n",
       "      <th>min</th>\n",
       "      <td>1.000000</td>\n",
       "      <td>0.008399</td>\n",
       "    </tr>\n",
       "    <tr>\n",
       "      <th>25%</th>\n",
       "      <td>812.500000</td>\n",
       "      <td>7.043089</td>\n",
       "    </tr>\n",
       "    <tr>\n",
       "      <th>50%</th>\n",
       "      <td>1622.000000</td>\n",
       "      <td>9.836267</td>\n",
       "    </tr>\n",
       "    <tr>\n",
       "      <th>75%</th>\n",
       "      <td>2431.500000</td>\n",
       "      <td>13.769915</td>\n",
       "    </tr>\n",
       "    <tr>\n",
       "      <th>max</th>\n",
       "      <td>3241.000000</td>\n",
       "      <td>77.995040</td>\n",
       "    </tr>\n",
       "  </tbody>\n",
       "</table>\n",
       "</div>"
      ],
      "text/plain": [
       "               key        Газ 1\n",
       "count  3239.000000  3239.000000\n",
       "mean   1621.861377    11.002062\n",
       "std     935.386334     6.220327\n",
       "min       1.000000     0.008399\n",
       "25%     812.500000     7.043089\n",
       "50%    1622.000000     9.836267\n",
       "75%    2431.500000    13.769915\n",
       "max    3241.000000    77.995040"
      ]
     },
     "execution_count": 22,
     "metadata": {},
     "output_type": "execute_result"
    }
   ],
   "source": [
    "# Описательная статистика\n",
    "gas.describe()"
   ]
  },
  {
   "cell_type": "code",
   "execution_count": 23,
   "metadata": {},
   "outputs": [
    {
     "name": "stdout",
     "output_type": "stream",
     "text": [
      "AxesSubplot(0.125,0.125;0.775x0.755)\n"
     ]
    },
    {
     "data": {
      "image/png": "[encoded data removed]",
      "text/plain": [
       "<Figure size 432x288 with 1 Axes>"
      ]
     },
     "metadata": {
      "needs_background": "light"
     },
     "output_type": "display_data"
    }
   ],
   "source": [
    "# Boxplot \n",
    "print(gas.boxplot(column=['Газ 1'], grid=True))"
   ]
  },
  {
   "cell_type": "code",
   "execution_count": 24,
   "metadata": {},
   "outputs": [
    {
     "data": {
      "text/html": [
       "<div>\n",
       "<style scoped>\n",
       "    .dataframe tbody tr th:only-of-type {\n",
       "        vertical-align: middle;\n",
       "    }\n",
       "\n",
       "    .dataframe tbody tr th {\n",
       "        vertical-align: top;\n",
       "    }\n",
       "\n",
       "    .dataframe thead th {\n",
       "        text-align: right;\n",
       "    }\n",
       "</style>\n",
       "<table border=\"1\" class=\"dataframe\">\n",
       "  <thead>\n",
       "    <tr style=\"text-align: right;\">\n",
       "      <th></th>\n",
       "      <th>key</th>\n",
       "      <th>Газ 1</th>\n",
       "    </tr>\n",
       "  </thead>\n",
       "  <tbody>\n",
       "    <tr>\n",
       "      <th>319</th>\n",
       "      <td>322</td>\n",
       "      <td>77.99504</td>\n",
       "    </tr>\n",
       "  </tbody>\n",
       "</table>\n",
       "</div>"
      ],
      "text/plain": [
       "     key     Газ 1\n",
       "319  322  77.99504"
      ]
     },
     "execution_count": 24,
     "metadata": {},
     "output_type": "execute_result"
    }
   ],
   "source": [
    "gas.loc[gas['Газ 1']>70]"
   ]
  },
  {
   "cell_type": "code",
   "execution_count": 25,
   "metadata": {},
   "outputs": [
    {
     "data": {
      "text/plain": [
       "<AxesSubplot:xlabel='Газ 1', ylabel='Count'>"
      ]
     },
     "execution_count": 25,
     "metadata": {},
     "output_type": "execute_result"
    },
    {
     "data": {
      "image/png": "[encoded data removed]",
      "text/plain": [
       "<Figure size 432x288 with 1 Axes>"
      ]
     },
     "metadata": {
      "needs_background": "light"
     },
     "output_type": "display_data"
    }
   ],
   "source": [
    "(sns.histplot(x=gas['Газ 1'], kde=True))"
   ]
  },
  {
   "cell_type": "code",
   "execution_count": 26,
   "metadata": {},
   "outputs": [
    {
     "name": "stdout",
     "output_type": "stream",
     "text": [
      "Количество партий  3239\n"
     ]
    }
   ],
   "source": [
    "print(\"Количество партий \",gas['key'].nunique())"
   ]
  },
  {
   "cell_type": "code",
   "execution_count": 27,
   "metadata": {},
   "outputs": [
    {
     "name": "stdout",
     "output_type": "stream",
     "text": [
      "Количество пропущенных значений\n"
     ]
    },
    {
     "data": {
      "text/plain": [
       "key      0\n",
       "Газ 1    0\n",
       "dtype: int64"
      ]
     },
     "execution_count": 27,
     "metadata": {},
     "output_type": "execute_result"
    }
   ],
   "source": [
    "print('Количество пропущенных значений')\n",
    "gas.isnull().sum()"
   ]
  },
  {
   "cell_type": "code",
   "execution_count": 28,
   "metadata": {},
   "outputs": [
    {
     "data": {
      "text/plain": [
       "('Кол-во дубликатов:', 0)"
      ]
     },
     "execution_count": 28,
     "metadata": {},
     "output_type": "execute_result"
    }
   ],
   "source": [
    "('Кол-во дубликатов:', gas.duplicated().sum())"
   ]
  },
  {
   "cell_type": "markdown",
   "metadata": {},
   "source": [
    "*** Выводы ***\n",
    "\n",
    "-В данных по газу пропусков нет.\n",
    "\n",
    "-Есть выброс при значении выше 70.\n",
    "\n",
    "-Дубликатов нет."
   ]
  },
  {
   "cell_type": "markdown",
   "metadata": {},
   "source": [
    "#### Анализ данных по температуре "
   ]
  },
  {
   "cell_type": "code",
   "execution_count": 29,
   "metadata": {},
   "outputs": [
    {
     "name": "stdout",
     "output_type": "stream",
     "text": [
      "   key         Время замера  Температура\n",
      "0    1  2019-05-03 11:02:04       1571.0\n",
      "1    1  2019-05-03 11:07:18       1604.0\n",
      "2    1  2019-05-03 11:11:34       1618.0\n",
      "3    1  2019-05-03 11:18:04       1601.0\n",
      "4    1  2019-05-03 11:25:59       1606.0\n",
      "<class 'pandas.core.frame.DataFrame'>\n",
      "RangeIndex: 18092 entries, 0 to 18091\n",
      "Data columns (total 3 columns):\n",
      " #   Column        Non-Null Count  Dtype  \n",
      "---  ------        --------------  -----  \n",
      " 0   key           18092 non-null  int64  \n",
      " 1   Время замера  18092 non-null  object \n",
      " 2   Температура   14665 non-null  float64\n",
      "dtypes: float64(1), int64(1), object(1)\n",
      "memory usage: 424.2+ KB\n"
     ]
    }
   ],
   "source": [
    "# Данные о температуре\n",
    "temp=pd.read_csv('/datasets/data_temp_new.csv')\n",
    "print(temp.head())\n",
    "temp.info()"
   ]
  },
  {
   "cell_type": "code",
   "execution_count": 30,
   "metadata": {},
   "outputs": [
    {
     "data": {
      "text/html": [
       "<div>\n",
       "<style scoped>\n",
       "    .dataframe tbody tr th:only-of-type {\n",
       "        vertical-align: middle;\n",
       "    }\n",
       "\n",
       "    .dataframe tbody tr th {\n",
       "        vertical-align: top;\n",
       "    }\n",
       "\n",
       "    .dataframe thead th {\n",
       "        text-align: right;\n",
       "    }\n",
       "</style>\n",
       "<table border=\"1\" class=\"dataframe\">\n",
       "  <thead>\n",
       "    <tr style=\"text-align: right;\">\n",
       "      <th></th>\n",
       "      <th>key</th>\n",
       "      <th>Температура</th>\n",
       "    </tr>\n",
       "  </thead>\n",
       "  <tbody>\n",
       "    <tr>\n",
       "      <th>count</th>\n",
       "      <td>18092.000000</td>\n",
       "      <td>14665.000000</td>\n",
       "    </tr>\n",
       "    <tr>\n",
       "      <th>mean</th>\n",
       "      <td>1616.460977</td>\n",
       "      <td>1590.722741</td>\n",
       "    </tr>\n",
       "    <tr>\n",
       "      <th>std</th>\n",
       "      <td>934.641385</td>\n",
       "      <td>20.394381</td>\n",
       "    </tr>\n",
       "    <tr>\n",
       "      <th>min</th>\n",
       "      <td>1.000000</td>\n",
       "      <td>1191.000000</td>\n",
       "    </tr>\n",
       "    <tr>\n",
       "      <th>25%</th>\n",
       "      <td>807.750000</td>\n",
       "      <td>1580.000000</td>\n",
       "    </tr>\n",
       "    <tr>\n",
       "      <th>50%</th>\n",
       "      <td>1618.000000</td>\n",
       "      <td>1590.000000</td>\n",
       "    </tr>\n",
       "    <tr>\n",
       "      <th>75%</th>\n",
       "      <td>2429.000000</td>\n",
       "      <td>1599.000000</td>\n",
       "    </tr>\n",
       "    <tr>\n",
       "      <th>max</th>\n",
       "      <td>3241.000000</td>\n",
       "      <td>1705.000000</td>\n",
       "    </tr>\n",
       "  </tbody>\n",
       "</table>\n",
       "</div>"
      ],
      "text/plain": [
       "                key   Температура\n",
       "count  18092.000000  14665.000000\n",
       "mean    1616.460977   1590.722741\n",
       "std      934.641385     20.394381\n",
       "min        1.000000   1191.000000\n",
       "25%      807.750000   1580.000000\n",
       "50%     1618.000000   1590.000000\n",
       "75%     2429.000000   1599.000000\n",
       "max     3241.000000   1705.000000"
      ]
     },
     "execution_count": 30,
     "metadata": {},
     "output_type": "execute_result"
    }
   ],
   "source": [
    "# описательная статистика\n",
    "temp.describe()"
   ]
  },
  {
   "cell_type": "code",
   "execution_count": 31,
   "metadata": {},
   "outputs": [
    {
     "name": "stdout",
     "output_type": "stream",
     "text": [
      "AxesSubplot(0.125,0.125;0.775x0.755)\n"
     ]
    },
    {
     "data": {
      "image/png": "[encoded data removed]",
      "text/plain": [
       "<Figure size 432x288 with 1 Axes>"
      ]
     },
     "metadata": {
      "needs_background": "light"
     },
     "output_type": "display_data"
    }
   ],
   "source": [
    "print(sns.histplot(x=temp['Температура'], kde=True))"
   ]
  },
  {
   "cell_type": "code",
   "execution_count": 32,
   "metadata": {},
   "outputs": [
    {
     "name": "stdout",
     "output_type": "stream",
     "text": [
      "AxesSubplot(0.125,0.125;0.775x0.755)\n"
     ]
    },
    {
     "data": {
      "image/png": "[encoded data removed]",
      "text/plain": [
       "<Figure size 432x288 with 1 Axes>"
      ]
     },
     "metadata": {
      "needs_background": "light"
     },
     "output_type": "display_data"
    }
   ],
   "source": [
    "print(temp.boxplot(column=['Температура'], grid=True))"
   ]
  },
  {
   "cell_type": "code",
   "execution_count": 33,
   "metadata": {},
   "outputs": [
    {
     "name": "stdout",
     "output_type": "stream",
     "text": [
      "Количество партий  3216\n"
     ]
    }
   ],
   "source": [
    "print(\"Количество партий \",temp['key'].nunique())"
   ]
  },
  {
   "cell_type": "code",
   "execution_count": 34,
   "metadata": {},
   "outputs": [
    {
     "name": "stdout",
     "output_type": "stream",
     "text": [
      "Количество пропущенных значений\n"
     ]
    },
    {
     "data": {
      "text/plain": [
       "key                0\n",
       "Время замера       0\n",
       "Температура     3427\n",
       "dtype: int64"
      ]
     },
     "execution_count": 34,
     "metadata": {},
     "output_type": "execute_result"
    }
   ],
   "source": [
    "print('Количество пропущенных значений')\n",
    "temp.isnull().sum()"
   ]
  },
  {
   "cell_type": "markdown",
   "metadata": {},
   "source": [
    "\n",
    "* Выводы *\n",
    "\n",
    "-3427 отсутствующих значений. На этапе предобработки их логичнее удалить,т.к замены логичной им нет.\n",
    "\n",
    "-скопление выбросов в нижней части( что также видно на графике распределения),эти выбросы необходимо удалить по условию заказчика( необходимо исключить замеры темппература ниже 1500, как раз эти значения и попали в выбросы)\n",
    "\n",
    "-по значениям Key видно ,что в партиях могло быть несколько замеров. Эти данные необходимо будет сгруппировать,для выделения начальной температуры и конечной температуры (целевой признак)."
   ]
  },
  {
   "cell_type": "markdown",
   "metadata": {},
   "source": [
    "#### Анализ проволочных материалов(объем)"
   ]
  },
  {
   "cell_type": "code",
   "execution_count": 35,
   "metadata": {},
   "outputs": [
    {
     "name": "stdout",
     "output_type": "stream",
     "text": [
      "   key     Wire 1   Wire 2  Wire 3  Wire 4  Wire 5  Wire 6  Wire 7  Wire 8  \\\n",
      "0    1  60.059998      NaN     NaN     NaN     NaN     NaN     NaN     NaN   \n",
      "1    2  96.052315      NaN     NaN     NaN     NaN     NaN     NaN     NaN   \n",
      "2    3  91.160157      NaN     NaN     NaN     NaN     NaN     NaN     NaN   \n",
      "3    4  89.063515      NaN     NaN     NaN     NaN     NaN     NaN     NaN   \n",
      "4    5  89.238236  9.11456     NaN     NaN     NaN     NaN     NaN     NaN   \n",
      "\n",
      "   Wire 9  \n",
      "0     NaN  \n",
      "1     NaN  \n",
      "2     NaN  \n",
      "3     NaN  \n",
      "4     NaN  \n",
      "<class 'pandas.core.frame.DataFrame'>\n",
      "RangeIndex: 3081 entries, 0 to 3080\n",
      "Data columns (total 10 columns):\n",
      " #   Column  Non-Null Count  Dtype  \n",
      "---  ------  --------------  -----  \n",
      " 0   key     3081 non-null   int64  \n",
      " 1   Wire 1  3055 non-null   float64\n",
      " 2   Wire 2  1079 non-null   float64\n",
      " 3   Wire 3  63 non-null     float64\n",
      " 4   Wire 4  14 non-null     float64\n",
      " 5   Wire 5  1 non-null      float64\n",
      " 6   Wire 6  73 non-null     float64\n",
      " 7   Wire 7  11 non-null     float64\n",
      " 8   Wire 8  19 non-null     float64\n",
      " 9   Wire 9  29 non-null     float64\n",
      "dtypes: float64(9), int64(1)\n",
      "memory usage: 240.8 KB\n"
     ]
    }
   ],
   "source": [
    "#данные о проволочных материалах (объём);\n",
    "wire=pd.read_csv('/datasets/data_wire_new.csv')\n",
    "print(wire.head())\n",
    "wire.info()"
   ]
  },
  {
   "cell_type": "code",
   "execution_count": 36,
   "metadata": {},
   "outputs": [
    {
     "data": {
      "text/html": [
       "<div>\n",
       "<style scoped>\n",
       "    .dataframe tbody tr th:only-of-type {\n",
       "        vertical-align: middle;\n",
       "    }\n",
       "\n",
       "    .dataframe tbody tr th {\n",
       "        vertical-align: top;\n",
       "    }\n",
       "\n",
       "    .dataframe thead th {\n",
       "        text-align: right;\n",
       "    }\n",
       "</style>\n",
       "<table border=\"1\" class=\"dataframe\">\n",
       "  <thead>\n",
       "    <tr style=\"text-align: right;\">\n",
       "      <th></th>\n",
       "      <th>key</th>\n",
       "      <th>Wire 1</th>\n",
       "      <th>Wire 2</th>\n",
       "      <th>Wire 3</th>\n",
       "      <th>Wire 4</th>\n",
       "      <th>Wire 5</th>\n",
       "      <th>Wire 6</th>\n",
       "      <th>Wire 7</th>\n",
       "      <th>Wire 8</th>\n",
       "      <th>Wire 9</th>\n",
       "    </tr>\n",
       "  </thead>\n",
       "  <tbody>\n",
       "    <tr>\n",
       "      <th>count</th>\n",
       "      <td>3081.000000</td>\n",
       "      <td>3055.000000</td>\n",
       "      <td>1079.000000</td>\n",
       "      <td>63.000000</td>\n",
       "      <td>14.000000</td>\n",
       "      <td>1.000</td>\n",
       "      <td>73.000000</td>\n",
       "      <td>11.000000</td>\n",
       "      <td>19.000000</td>\n",
       "      <td>29.000000</td>\n",
       "    </tr>\n",
       "    <tr>\n",
       "      <th>mean</th>\n",
       "      <td>1623.426485</td>\n",
       "      <td>100.895853</td>\n",
       "      <td>50.577323</td>\n",
       "      <td>189.482681</td>\n",
       "      <td>57.442841</td>\n",
       "      <td>15.132</td>\n",
       "      <td>48.016974</td>\n",
       "      <td>10.039007</td>\n",
       "      <td>53.625193</td>\n",
       "      <td>34.155752</td>\n",
       "    </tr>\n",
       "    <tr>\n",
       "      <th>std</th>\n",
       "      <td>932.996726</td>\n",
       "      <td>42.012518</td>\n",
       "      <td>39.320216</td>\n",
       "      <td>99.513444</td>\n",
       "      <td>28.824667</td>\n",
       "      <td>NaN</td>\n",
       "      <td>33.919845</td>\n",
       "      <td>8.610584</td>\n",
       "      <td>16.881728</td>\n",
       "      <td>19.931616</td>\n",
       "    </tr>\n",
       "    <tr>\n",
       "      <th>min</th>\n",
       "      <td>1.000000</td>\n",
       "      <td>1.918800</td>\n",
       "      <td>0.030160</td>\n",
       "      <td>0.144144</td>\n",
       "      <td>24.148801</td>\n",
       "      <td>15.132</td>\n",
       "      <td>0.034320</td>\n",
       "      <td>0.234208</td>\n",
       "      <td>45.076721</td>\n",
       "      <td>4.622800</td>\n",
       "    </tr>\n",
       "    <tr>\n",
       "      <th>25%</th>\n",
       "      <td>823.000000</td>\n",
       "      <td>72.115684</td>\n",
       "      <td>20.193680</td>\n",
       "      <td>95.135044</td>\n",
       "      <td>40.807002</td>\n",
       "      <td>15.132</td>\n",
       "      <td>25.053600</td>\n",
       "      <td>6.762756</td>\n",
       "      <td>46.094879</td>\n",
       "      <td>22.058401</td>\n",
       "    </tr>\n",
       "    <tr>\n",
       "      <th>50%</th>\n",
       "      <td>1619.000000</td>\n",
       "      <td>100.158234</td>\n",
       "      <td>40.142956</td>\n",
       "      <td>235.194977</td>\n",
       "      <td>45.234282</td>\n",
       "      <td>15.132</td>\n",
       "      <td>42.076324</td>\n",
       "      <td>9.017009</td>\n",
       "      <td>46.279999</td>\n",
       "      <td>30.066399</td>\n",
       "    </tr>\n",
       "    <tr>\n",
       "      <th>75%</th>\n",
       "      <td>2434.000000</td>\n",
       "      <td>126.060483</td>\n",
       "      <td>70.227558</td>\n",
       "      <td>276.252014</td>\n",
       "      <td>76.124619</td>\n",
       "      <td>15.132</td>\n",
       "      <td>64.212723</td>\n",
       "      <td>11.886057</td>\n",
       "      <td>48.089603</td>\n",
       "      <td>43.862003</td>\n",
       "    </tr>\n",
       "    <tr>\n",
       "      <th>max</th>\n",
       "      <td>3241.000000</td>\n",
       "      <td>330.314424</td>\n",
       "      <td>282.780152</td>\n",
       "      <td>385.008668</td>\n",
       "      <td>113.231044</td>\n",
       "      <td>15.132</td>\n",
       "      <td>180.454575</td>\n",
       "      <td>32.847674</td>\n",
       "      <td>102.762401</td>\n",
       "      <td>90.053604</td>\n",
       "    </tr>\n",
       "  </tbody>\n",
       "</table>\n",
       "</div>"
      ],
      "text/plain": [
       "               key       Wire 1       Wire 2      Wire 3      Wire 4  Wire 5  \\\n",
       "count  3081.000000  3055.000000  1079.000000   63.000000   14.000000   1.000   \n",
       "mean   1623.426485   100.895853    50.577323  189.482681   57.442841  15.132   \n",
       "std     932.996726    42.012518    39.320216   99.513444   28.824667     NaN   \n",
       "min       1.000000     1.918800     0.030160    0.144144   24.148801  15.132   \n",
       "25%     823.000000    72.115684    20.193680   95.135044   40.807002  15.132   \n",
       "50%    1619.000000   100.158234    40.142956  235.194977   45.234282  15.132   \n",
       "75%    2434.000000   126.060483    70.227558  276.252014   76.124619  15.132   \n",
       "max    3241.000000   330.314424   282.780152  385.008668  113.231044  15.132   \n",
       "\n",
       "           Wire 6     Wire 7      Wire 8     Wire 9  \n",
       "count   73.000000  11.000000   19.000000  29.000000  \n",
       "mean    48.016974  10.039007   53.625193  34.155752  \n",
       "std     33.919845   8.610584   16.881728  19.931616  \n",
       "min      0.034320   0.234208   45.076721   4.622800  \n",
       "25%     25.053600   6.762756   46.094879  22.058401  \n",
       "50%     42.076324   9.017009   46.279999  30.066399  \n",
       "75%     64.212723  11.886057   48.089603  43.862003  \n",
       "max    180.454575  32.847674  102.762401  90.053604  "
      ]
     },
     "execution_count": 36,
     "metadata": {},
     "output_type": "execute_result"
    }
   ],
   "source": [
    "# Описательная статистика\n",
    "wire.describe()"
   ]
  },
  {
   "cell_type": "code",
   "execution_count": 37,
   "metadata": {},
   "outputs": [
    {
     "data": {
      "image/png": "[encoded data removed]",
      "text/plain": [
       "<Figure size 1080x360 with 1 Axes>"
      ]
     },
     "metadata": {
      "needs_background": "light"
     },
     "output_type": "display_data"
    }
   ],
   "source": [
    "###Boxplot\n",
    "plt.figure(figsize=(15,5))\n",
    "sns.boxplot(data=wire.iloc[:,1:].values)\n",
    "plt.grid();"
   ]
  },
  {
   "cell_type": "code",
   "execution_count": 38,
   "metadata": {},
   "outputs": [
    {
     "name": "stdout",
     "output_type": "stream",
     "text": [
      "Количество партий  3081\n"
     ]
    }
   ],
   "source": [
    "print(\"Количество партий \",wire['key'].nunique())"
   ]
  },
  {
   "cell_type": "code",
   "execution_count": 39,
   "metadata": {},
   "outputs": [
    {
     "data": {
      "text/plain": [
       "('Кол-во дубликатов:', 0)"
      ]
     },
     "execution_count": 39,
     "metadata": {},
     "output_type": "execute_result"
    }
   ],
   "source": [
    "('Кол-во дубликатов:', wire.duplicated().sum())"
   ]
  },
  {
   "cell_type": "markdown",
   "metadata": {},
   "source": [
    "*** Выводы ***\n",
    "\n",
    "-дубликатов нет.\n",
    "\n",
    "-выбросов нет.\n",
    "\n",
    "-много пропусков,но здесь ситуация аналогична данным по сыпучим материалам.Скорее всего пропуски - просто неподача проволоки. и отсутствующие данные заполним 0."
   ]
  },
  {
   "cell_type": "markdown",
   "metadata": {},
   "source": [
    "#### Проволочных материалов (время)"
   ]
  },
  {
   "cell_type": "code",
   "execution_count": 40,
   "metadata": {},
   "outputs": [
    {
     "name": "stdout",
     "output_type": "stream",
     "text": [
      "   key               Wire 1               Wire 2 Wire 3 Wire 4 Wire 5 Wire 6  \\\n",
      "0    1  2019-05-03 11:06:19                  NaN    NaN    NaN    NaN    NaN   \n",
      "1    2  2019-05-03 11:36:50                  NaN    NaN    NaN    NaN    NaN   \n",
      "2    3  2019-05-03 12:11:46                  NaN    NaN    NaN    NaN    NaN   \n",
      "3    4  2019-05-03 12:43:22                  NaN    NaN    NaN    NaN    NaN   \n",
      "4    5  2019-05-03 13:20:44  2019-05-03 13:15:34    NaN    NaN    NaN    NaN   \n",
      "\n",
      "  Wire 7 Wire 8 Wire 9  \n",
      "0    NaN    NaN    NaN  \n",
      "1    NaN    NaN    NaN  \n",
      "2    NaN    NaN    NaN  \n",
      "3    NaN    NaN    NaN  \n",
      "4    NaN    NaN    NaN  \n",
      "<class 'pandas.core.frame.DataFrame'>\n",
      "RangeIndex: 3081 entries, 0 to 3080\n",
      "Data columns (total 10 columns):\n",
      " #   Column  Non-Null Count  Dtype \n",
      "---  ------  --------------  ----- \n",
      " 0   key     3081 non-null   int64 \n",
      " 1   Wire 1  3055 non-null   object\n",
      " 2   Wire 2  1079 non-null   object\n",
      " 3   Wire 3  63 non-null     object\n",
      " 4   Wire 4  14 non-null     object\n",
      " 5   Wire 5  1 non-null      object\n",
      " 6   Wire 6  73 non-null     object\n",
      " 7   Wire 7  11 non-null     object\n",
      " 8   Wire 8  19 non-null     object\n",
      " 9   Wire 9  29 non-null     object\n",
      "dtypes: int64(1), object(9)\n",
      "memory usage: 240.8+ KB\n"
     ]
    }
   ],
   "source": [
    "#данные о проволочных материалах (время)\n",
    "wire_time=pd.read_csv('/datasets/data_wire_time_new.csv')\n",
    "print(wire_time.head())\n",
    "wire_time.info()"
   ]
  },
  {
   "cell_type": "code",
   "execution_count": 41,
   "metadata": {},
   "outputs": [
    {
     "data": {
      "text/plain": [
       "key          0\n",
       "Wire 1      26\n",
       "Wire 2    2002\n",
       "Wire 3    3018\n",
       "Wire 4    3067\n",
       "Wire 5    3080\n",
       "Wire 6    3008\n",
       "Wire 7    3070\n",
       "Wire 8    3062\n",
       "Wire 9    3052\n",
       "dtype: int64"
      ]
     },
     "execution_count": 41,
     "metadata": {},
     "output_type": "execute_result"
    }
   ],
   "source": [
    "wire_time.isnull().sum()"
   ]
  },
  {
   "cell_type": "markdown",
   "metadata": {},
   "source": [
    "*** 1. Произвести очистку по всем выбросам в данных. Необработанные выбросы остались в датасете о продувке сплава газом,замерах температуры.***\n",
    "\n",
    "*** 2.Заполнение отсутствующих данных в объемах сыпучих и проволочных материалах ***\n",
    "\n",
    "*** 3.Создание единой сводной таблицы по ключу партии. Нас будут интересовать те данные,ключи которых есть во  всех таблицах. Нужно это учесть при объединении, т.к по анализу видно ,что в партиях количество замеров разное.***\n",
    "\n",
    "*** 3.1 Для того,что выполнить третий пункт необходима  группировка  в данных по  электродам  с созданием нового признака.\n",
    "Этим признаком станет Работа ( время * полную мощность). После создания старые признаки будут удалены. ***\n",
    "\n",
    "*** 3.2 также необходима группировка в замерах температуры. Нам необходимо выделить первый замер и последний в партии (он станет целевым признаком). ***\n",
    "\n",
    "*** 4. Объеденим все значения датасетов по значению Key.В финальном датасете останутся признаки:***\n",
    "\n",
    "-начальная температура,\n",
    "\n",
    "-работа,\n",
    "\n",
    "-продувка инертным газом,\n",
    "\n",
    "-объемы всех подач по партиям сыпучих веществ,\n",
    "\n",
    "-объем всех подач по партиям проволоки,\n",
    "\n",
    "-Конечная температура,которая будет целевым признаком.\n",
    "\n",
    "*** На этом EDA будет завершена и можно приступатьк обучению моделей. ***\n",
    "\n",
    "*** 5. Разделение на выборки 3:1 6. Обучение моделей с кросс-валидацией и выбор лучшей по показателю MAE. в качестве моделей используем: ***\n",
    "\n",
    "-LinearRegression\n",
    "\n",
    "-RandomForestRegressor\n",
    "\n",
    "-LgbmRegressor\n",
    "\n",
    "*** 6. Расчет MAE на тестовой выборке лучшей модели на обучении . ***\n",
    "\n",
    "*** 7.Анализ значимости признаков для предсказания ***\n",
    "\n",
    "*** 8.Общий вывод ***"
   ]
  },
  {
   "cell_type": "markdown",
   "metadata": {},
   "source": [
    "# Обработка выбросов."
   ]
  },
  {
   "cell_type": "markdown",
   "metadata": {},
   "source": [
    "## Обработка выбросов в замере температуре."
   ]
  },
  {
   "cell_type": "code",
   "execution_count": 42,
   "metadata": {},
   "outputs": [],
   "source": [
    "#Выделение данных с отсутствием замера температуры \n",
    "empty=temp[temp['Температура'].isnull()]"
   ]
  },
  {
   "cell_type": "code",
   "execution_count": 43,
   "metadata": {},
   "outputs": [],
   "source": [
    "#Выделение ключей партий с отсутвующими замерами.\n",
    "key_to_delete=empty['key'].unique().tolist()"
   ]
  },
  {
   "cell_type": "code",
   "execution_count": 44,
   "metadata": {},
   "outputs": [],
   "source": [
    "#Удаление партий из датасета\n",
    "temp_clean=temp[temp['key'].isin(key_to_delete) == False]"
   ]
  },
  {
   "cell_type": "code",
   "execution_count": 45,
   "metadata": {},
   "outputs": [
    {
     "data": {
      "text/html": [
       "<div>\n",
       "<style scoped>\n",
       "    .dataframe tbody tr th:only-of-type {\n",
       "        vertical-align: middle;\n",
       "    }\n",
       "\n",
       "    .dataframe tbody tr th {\n",
       "        vertical-align: top;\n",
       "    }\n",
       "\n",
       "    .dataframe thead th {\n",
       "        text-align: right;\n",
       "    }\n",
       "</style>\n",
       "<table border=\"1\" class=\"dataframe\">\n",
       "  <thead>\n",
       "    <tr style=\"text-align: right;\">\n",
       "      <th></th>\n",
       "      <th>key</th>\n",
       "      <th>Время замера</th>\n",
       "      <th>Температура</th>\n",
       "    </tr>\n",
       "  </thead>\n",
       "  <tbody>\n",
       "    <tr>\n",
       "      <th>0</th>\n",
       "      <td>1</td>\n",
       "      <td>2019-05-03 11:02:04</td>\n",
       "      <td>1571.0</td>\n",
       "    </tr>\n",
       "    <tr>\n",
       "      <th>1</th>\n",
       "      <td>1</td>\n",
       "      <td>2019-05-03 11:07:18</td>\n",
       "      <td>1604.0</td>\n",
       "    </tr>\n",
       "    <tr>\n",
       "      <th>2</th>\n",
       "      <td>1</td>\n",
       "      <td>2019-05-03 11:11:34</td>\n",
       "      <td>1618.0</td>\n",
       "    </tr>\n",
       "    <tr>\n",
       "      <th>3</th>\n",
       "      <td>1</td>\n",
       "      <td>2019-05-03 11:18:04</td>\n",
       "      <td>1601.0</td>\n",
       "    </tr>\n",
       "    <tr>\n",
       "      <th>4</th>\n",
       "      <td>1</td>\n",
       "      <td>2019-05-03 11:25:59</td>\n",
       "      <td>1606.0</td>\n",
       "    </tr>\n",
       "  </tbody>\n",
       "</table>\n",
       "</div>"
      ],
      "text/plain": [
       "   key         Время замера  Температура\n",
       "0    1  2019-05-03 11:02:04       1571.0\n",
       "1    1  2019-05-03 11:07:18       1604.0\n",
       "2    1  2019-05-03 11:11:34       1618.0\n",
       "3    1  2019-05-03 11:18:04       1601.0\n",
       "4    1  2019-05-03 11:25:59       1606.0"
      ]
     },
     "execution_count": 45,
     "metadata": {},
     "output_type": "execute_result"
    }
   ],
   "source": [
    "temp_clean.head()"
   ]
  },
  {
   "cell_type": "code",
   "execution_count": 46,
   "metadata": {},
   "outputs": [],
   "source": [
    "#Выделение партий с аномалиями в замерах.\n",
    "empty_1500=temp_clean.query('Температура < 1500')\n",
    "\n",
    "key_to_delete_1500=empty_1500['key'].unique().tolist()"
   ]
  },
  {
   "cell_type": "code",
   "execution_count": 47,
   "metadata": {},
   "outputs": [
    {
     "data": {
      "text/html": [
       "<div>\n",
       "<style scoped>\n",
       "    .dataframe tbody tr th:only-of-type {\n",
       "        vertical-align: middle;\n",
       "    }\n",
       "\n",
       "    .dataframe tbody tr th {\n",
       "        vertical-align: top;\n",
       "    }\n",
       "\n",
       "    .dataframe thead th {\n",
       "        text-align: right;\n",
       "    }\n",
       "</style>\n",
       "<table border=\"1\" class=\"dataframe\">\n",
       "  <thead>\n",
       "    <tr style=\"text-align: right;\">\n",
       "      <th></th>\n",
       "      <th>key</th>\n",
       "      <th>Температура</th>\n",
       "    </tr>\n",
       "  </thead>\n",
       "  <tbody>\n",
       "    <tr>\n",
       "      <th>count</th>\n",
       "      <td>13905.00000</td>\n",
       "      <td>13905.000000</td>\n",
       "    </tr>\n",
       "    <tr>\n",
       "      <th>mean</th>\n",
       "      <td>1243.32571</td>\n",
       "      <td>1590.924847</td>\n",
       "    </tr>\n",
       "    <tr>\n",
       "      <th>std</th>\n",
       "      <td>719.39552</td>\n",
       "      <td>18.750314</td>\n",
       "    </tr>\n",
       "    <tr>\n",
       "      <th>min</th>\n",
       "      <td>1.00000</td>\n",
       "      <td>1519.000000</td>\n",
       "    </tr>\n",
       "    <tr>\n",
       "      <th>25%</th>\n",
       "      <td>623.00000</td>\n",
       "      <td>1580.000000</td>\n",
       "    </tr>\n",
       "    <tr>\n",
       "      <th>50%</th>\n",
       "      <td>1246.00000</td>\n",
       "      <td>1590.000000</td>\n",
       "    </tr>\n",
       "    <tr>\n",
       "      <th>75%</th>\n",
       "      <td>1870.00000</td>\n",
       "      <td>1599.000000</td>\n",
       "    </tr>\n",
       "    <tr>\n",
       "      <th>max</th>\n",
       "      <td>2499.00000</td>\n",
       "      <td>1705.000000</td>\n",
       "    </tr>\n",
       "  </tbody>\n",
       "</table>\n",
       "</div>"
      ],
      "text/plain": [
       "               key   Температура\n",
       "count  13905.00000  13905.000000\n",
       "mean    1243.32571   1590.924847\n",
       "std      719.39552     18.750314\n",
       "min        1.00000   1519.000000\n",
       "25%      623.00000   1580.000000\n",
       "50%     1246.00000   1590.000000\n",
       "75%     1870.00000   1599.000000\n",
       "max     2499.00000   1705.000000"
      ]
     },
     "execution_count": 47,
     "metadata": {},
     "output_type": "execute_result"
    }
   ],
   "source": [
    "temp_clean=temp_clean[temp_clean['key'].isin(key_to_delete_1500) == False]\n",
    "temp_clean.describe()"
   ]
  },
  {
   "cell_type": "markdown",
   "metadata": {},
   "source": [
    "## Обработка выбросов в объеме сыпучих материалов.\n"
   ]
  },
  {
   "cell_type": "code",
   "execution_count": 48,
   "metadata": {},
   "outputs": [
    {
     "data": {
      "text/html": [
       "<div>\n",
       "<style scoped>\n",
       "    .dataframe tbody tr th:only-of-type {\n",
       "        vertical-align: middle;\n",
       "    }\n",
       "\n",
       "    .dataframe tbody tr th {\n",
       "        vertical-align: top;\n",
       "    }\n",
       "\n",
       "    .dataframe thead th {\n",
       "        text-align: right;\n",
       "    }\n",
       "</style>\n",
       "<table border=\"1\" class=\"dataframe\">\n",
       "  <thead>\n",
       "    <tr style=\"text-align: right;\">\n",
       "      <th></th>\n",
       "      <th>key</th>\n",
       "      <th>Bulk 1</th>\n",
       "      <th>Bulk 2</th>\n",
       "      <th>Bulk 3</th>\n",
       "      <th>Bulk 4</th>\n",
       "      <th>Bulk 5</th>\n",
       "      <th>Bulk 6</th>\n",
       "      <th>Bulk 7</th>\n",
       "      <th>Bulk 8</th>\n",
       "      <th>Bulk 9</th>\n",
       "      <th>Bulk 10</th>\n",
       "      <th>Bulk 11</th>\n",
       "      <th>Bulk 12</th>\n",
       "      <th>Bulk 13</th>\n",
       "      <th>Bulk 14</th>\n",
       "      <th>Bulk 15</th>\n",
       "    </tr>\n",
       "  </thead>\n",
       "  <tbody>\n",
       "    <tr>\n",
       "      <th>303</th>\n",
       "      <td>322</td>\n",
       "      <td>185.0</td>\n",
       "      <td>NaN</td>\n",
       "      <td>101.0</td>\n",
       "      <td>58.0</td>\n",
       "      <td>NaN</td>\n",
       "      <td>NaN</td>\n",
       "      <td>406.0</td>\n",
       "      <td>NaN</td>\n",
       "      <td>NaN</td>\n",
       "      <td>NaN</td>\n",
       "      <td>NaN</td>\n",
       "      <td>1849.0</td>\n",
       "      <td>NaN</td>\n",
       "      <td>636.0</td>\n",
       "      <td>NaN</td>\n",
       "    </tr>\n",
       "  </tbody>\n",
       "</table>\n",
       "</div>"
      ],
      "text/plain": [
       "     key  Bulk 1  Bulk 2  Bulk 3  Bulk 4  Bulk 5  Bulk 6  Bulk 7  Bulk 8  \\\n",
       "303  322   185.0     NaN   101.0    58.0     NaN     NaN   406.0     NaN   \n",
       "\n",
       "     Bulk 9  Bulk 10  Bulk 11  Bulk 12  Bulk 13  Bulk 14  Bulk 15  \n",
       "303     NaN      NaN      NaN   1849.0      NaN    636.0      NaN  "
      ]
     },
     "execution_count": 48,
     "metadata": {},
     "output_type": "execute_result"
    }
   ],
   "source": [
    "# Выброс в сыпучих материалах \n",
    "bulk[bulk['Bulk 12'] > 1000]"
   ]
  },
  {
   "cell_type": "markdown",
   "metadata": {},
   "source": [
    "*** В данной партии было задействовано много сыпучих материалов,т.е эти данные в bulk 12 ,возможно, не ошибка и данные стоит оставить.***"
   ]
  },
  {
   "cell_type": "markdown",
   "metadata": {},
   "source": [
    "## Обработка выбросов в объеме продувки газом."
   ]
  },
  {
   "cell_type": "code",
   "execution_count": 49,
   "metadata": {},
   "outputs": [
    {
     "data": {
      "text/html": [
       "<div>\n",
       "<style scoped>\n",
       "    .dataframe tbody tr th:only-of-type {\n",
       "        vertical-align: middle;\n",
       "    }\n",
       "\n",
       "    .dataframe tbody tr th {\n",
       "        vertical-align: top;\n",
       "    }\n",
       "\n",
       "    .dataframe thead th {\n",
       "        text-align: right;\n",
       "    }\n",
       "</style>\n",
       "<table border=\"1\" class=\"dataframe\">\n",
       "  <thead>\n",
       "    <tr style=\"text-align: right;\">\n",
       "      <th></th>\n",
       "      <th>key</th>\n",
       "      <th>Газ 1</th>\n",
       "    </tr>\n",
       "  </thead>\n",
       "  <tbody>\n",
       "    <tr>\n",
       "      <th>319</th>\n",
       "      <td>322</td>\n",
       "      <td>77.99504</td>\n",
       "    </tr>\n",
       "  </tbody>\n",
       "</table>\n",
       "</div>"
      ],
      "text/plain": [
       "     key     Газ 1\n",
       "319  322  77.99504"
      ]
     },
     "execution_count": 49,
     "metadata": {},
     "output_type": "execute_result"
    }
   ],
   "source": [
    "#Выброс в данных газа\n",
    "gas.loc[gas['Газ 1']>70]"
   ]
  },
  {
   "cell_type": "markdown",
   "metadata": {},
   "source": [
    "# Заполнение отсутствующих значений."
   ]
  },
  {
   "cell_type": "code",
   "execution_count": 50,
   "metadata": {},
   "outputs": [],
   "source": [
    "wire_clean=wire.fillna(0)\n",
    "bulk_clean=bulk.fillna(0)"
   ]
  },
  {
   "cell_type": "markdown",
   "metadata": {},
   "source": [
    "# Создание признаков \"Время нагрева\" и \"Полной мощности\" в данных об электродах."
   ]
  },
  {
   "cell_type": "code",
   "execution_count": 51,
   "metadata": {},
   "outputs": [
    {
     "data": {
      "text/plain": [
       "0    228\n",
       "1    185\n",
       "2    172\n",
       "3    365\n",
       "4    148\n",
       "Name: Время нагрева, dtype: int64"
      ]
     },
     "execution_count": 51,
     "metadata": {},
     "output_type": "execute_result"
    }
   ],
   "source": [
    "#Переведем к нужному формату\n",
    "arc_clean['Конец нагрева дугой']=pd.to_datetime(arc_clean['Конец нагрева дугой'], format='%Y-%m-%dT%H:%M:%S')\n",
    "arc_clean['Начало нагрева дугой']=pd.to_datetime(arc_clean['Начало нагрева дугой'], format='%Y-%m-%dT%H:%M:%S')\n",
    "#Создадим признак времени нагрева и переведем ее в секунды.\n",
    "arc_clean['Время нагрева']=(arc_clean['Конец нагрева дугой']-arc_clean['Начало нагрева дугой']).dt.seconds\n",
    "arc_clean['Время нагрева'].head(5)"
   ]
  },
  {
   "cell_type": "code",
   "execution_count": 52,
   "metadata": {},
   "outputs": [
    {
     "data": {
      "text/plain": [
       "0    0.371123\n",
       "1    0.902319\n",
       "2    0.722536\n",
       "3    0.642824\n",
       "4    1.079934\n",
       "Name: Полная мощность, dtype: float64"
      ]
     },
     "execution_count": 52,
     "metadata": {},
     "output_type": "execute_result"
    }
   ],
   "source": [
    "#Посчитаем полную мощность\n",
    "arc_clean['Полная мощность']=((arc_clean['Активная мощность'])**2+(arc_clean['Реактивная мощность'])**2)**0.5\n",
    "arc_clean['Полная мощность'].head(5)"
   ]
  },
  {
   "cell_type": "code",
   "execution_count": 53,
   "metadata": {},
   "outputs": [
    {
     "data": {
      "text/html": [
       "<div>\n",
       "<style scoped>\n",
       "    .dataframe tbody tr th:only-of-type {\n",
       "        vertical-align: middle;\n",
       "    }\n",
       "\n",
       "    .dataframe tbody tr th {\n",
       "        vertical-align: top;\n",
       "    }\n",
       "\n",
       "    .dataframe thead th {\n",
       "        text-align: right;\n",
       "    }\n",
       "</style>\n",
       "<table border=\"1\" class=\"dataframe\">\n",
       "  <thead>\n",
       "    <tr style=\"text-align: right;\">\n",
       "      <th></th>\n",
       "      <th>key</th>\n",
       "      <th>Полная мощность</th>\n",
       "      <th>Время нагрева</th>\n",
       "    </tr>\n",
       "  </thead>\n",
       "  <tbody>\n",
       "    <tr>\n",
       "      <th>0</th>\n",
       "      <td>1</td>\n",
       "      <td>3.718736</td>\n",
       "      <td>1098</td>\n",
       "    </tr>\n",
       "    <tr>\n",
       "      <th>1</th>\n",
       "      <td>2</td>\n",
       "      <td>2.588349</td>\n",
       "      <td>811</td>\n",
       "    </tr>\n",
       "    <tr>\n",
       "      <th>2</th>\n",
       "      <td>3</td>\n",
       "      <td>5.019223</td>\n",
       "      <td>655</td>\n",
       "    </tr>\n",
       "    <tr>\n",
       "      <th>3</th>\n",
       "      <td>4</td>\n",
       "      <td>3.400038</td>\n",
       "      <td>741</td>\n",
       "    </tr>\n",
       "    <tr>\n",
       "      <th>4</th>\n",
       "      <td>5</td>\n",
       "      <td>2.816980</td>\n",
       "      <td>869</td>\n",
       "    </tr>\n",
       "  </tbody>\n",
       "</table>\n",
       "</div>"
      ],
      "text/plain": [
       "   key  Полная мощность  Время нагрева\n",
       "0    1         3.718736           1098\n",
       "1    2         2.588349            811\n",
       "2    3         5.019223            655\n",
       "3    4         3.400038            741\n",
       "4    5         2.816980            869"
      ]
     },
     "execution_count": 53,
     "metadata": {},
     "output_type": "execute_result"
    }
   ],
   "source": [
    "#Теперь нам необходимо сгруппировать Работу по партиям\n",
    "arc_clean=arc_clean.groupby('key')['Полная мощность', 'Время нагрева']. sum().reset_index()\n",
    "arc_clean.head()\n"
   ]
  },
  {
   "cell_type": "markdown",
   "metadata": {},
   "source": [
    "# Создание признаков \"начальной\" и \"конечной\" температуры\" ."
   ]
  },
  {
   "cell_type": "code",
   "execution_count": 54,
   "metadata": {},
   "outputs": [
    {
     "name": "stdout",
     "output_type": "stream",
     "text": [
      "Количество пропущенных значений\n"
     ]
    },
    {
     "data": {
      "text/plain": [
       "key             0\n",
       "Время замера    0\n",
       "Температура     0\n",
       "dtype: int64"
      ]
     },
     "execution_count": 54,
     "metadata": {},
     "output_type": "execute_result"
    }
   ],
   "source": [
    "#Выстроим данные по времени замера.\n",
    "temp_clean=temp_clean.sort_values(by='Время замера')\n",
    "\n",
    "print('Количество пропущенных значений')\n",
    "temp_clean.isnull().sum()"
   ]
  },
  {
   "cell_type": "code",
   "execution_count": 55,
   "metadata": {},
   "outputs": [],
   "source": [
    "# Группировка по ключу и выделение первого и последнего замера.\n",
    "temp_clean=temp_clean.groupby(by = 'key', as_index = False).agg(['first', 'last'])"
   ]
  },
  {
   "cell_type": "code",
   "execution_count": 56,
   "metadata": {},
   "outputs": [],
   "source": [
    "# Переименуем колонки\n",
    "temp_clean.columns = ['Время первого замера','Время последнего замера','Температура_начальная', 'Температура_конечная']"
   ]
  },
  {
   "cell_type": "code",
   "execution_count": 57,
   "metadata": {},
   "outputs": [
    {
     "data": {
      "text/html": [
       "<div>\n",
       "<style scoped>\n",
       "    .dataframe tbody tr th:only-of-type {\n",
       "        vertical-align: middle;\n",
       "    }\n",
       "\n",
       "    .dataframe tbody tr th {\n",
       "        vertical-align: top;\n",
       "    }\n",
       "\n",
       "    .dataframe thead th {\n",
       "        text-align: right;\n",
       "    }\n",
       "</style>\n",
       "<table border=\"1\" class=\"dataframe\">\n",
       "  <thead>\n",
       "    <tr style=\"text-align: right;\">\n",
       "      <th></th>\n",
       "      <th>Температура_начальная</th>\n",
       "      <th>Температура_конечная</th>\n",
       "    </tr>\n",
       "    <tr>\n",
       "      <th>key</th>\n",
       "      <th></th>\n",
       "      <th></th>\n",
       "    </tr>\n",
       "  </thead>\n",
       "  <tbody>\n",
       "    <tr>\n",
       "      <th>1</th>\n",
       "      <td>1571.0</td>\n",
       "      <td>1613.0</td>\n",
       "    </tr>\n",
       "    <tr>\n",
       "      <th>2</th>\n",
       "      <td>1581.0</td>\n",
       "      <td>1602.0</td>\n",
       "    </tr>\n",
       "    <tr>\n",
       "      <th>3</th>\n",
       "      <td>1596.0</td>\n",
       "      <td>1599.0</td>\n",
       "    </tr>\n",
       "    <tr>\n",
       "      <th>4</th>\n",
       "      <td>1601.0</td>\n",
       "      <td>1625.0</td>\n",
       "    </tr>\n",
       "    <tr>\n",
       "      <th>5</th>\n",
       "      <td>1576.0</td>\n",
       "      <td>1602.0</td>\n",
       "    </tr>\n",
       "  </tbody>\n",
       "</table>\n",
       "</div>"
      ],
      "text/plain": [
       "     Температура_начальная  Температура_конечная\n",
       "key                                             \n",
       "1                   1571.0                1613.0\n",
       "2                   1581.0                1602.0\n",
       "3                   1596.0                1599.0\n",
       "4                   1601.0                1625.0\n",
       "5                   1576.0                1602.0"
      ]
     },
     "execution_count": 57,
     "metadata": {},
     "output_type": "execute_result"
    }
   ],
   "source": [
    "# Удаление расчетных признаков\n",
    "temp_clean.drop(['Время первого замера', 'Время последнего замера'], axis= 1 , inplace= True )\n",
    "temp_clean.head()"
   ]
  },
  {
   "cell_type": "markdown",
   "metadata": {},
   "source": [
    "# Сведение данных в единую таблицу."
   ]
  },
  {
   "cell_type": "code",
   "execution_count": 58,
   "metadata": {},
   "outputs": [],
   "source": [
    "\n",
    "# К таблице с целевым признаком последовательно присединим данные по ключу.Замеры температуры и данные электродам\n",
    "final_date = pd.merge(temp_clean, arc_clean, on='key')\n",
    "#Объединенная+данные по сыпучим материалам\n",
    "final_date=pd.merge(final_date,wire_clean, on='key')\n",
    "#Объединенная+данные по проволоке\n",
    "final_date=pd.merge(final_date,bulk_clean, on='key')\n",
    "#Объедиенная + данные о продувке газом\n",
    "final_date=pd.merge(final_date,gas, on='key')"
   ]
  },
  {
   "cell_type": "code",
   "execution_count": 59,
   "metadata": {},
   "outputs": [],
   "source": [
    "#Удаление пустого признака wire 5\n",
    "final_date=final_date.drop(['Wire 5'], axis= 1 )"
   ]
  },
  {
   "cell_type": "code",
   "execution_count": 60,
   "metadata": {},
   "outputs": [],
   "source": [
    "# Удаление номера партии.\n",
    "final_date=final_date.drop(['key'], axis= 1 )"
   ]
  },
  {
   "cell_type": "code",
   "execution_count": 61,
   "metadata": {},
   "outputs": [],
   "source": [
    "#Удаление сильно коррелирующего признак Wire 8, т.к его объем меньше по соотношению в своем классе добавок\n",
    "final_date=final_date.drop(['Wire 8'], axis= 1 )"
   ]
  },
  {
   "cell_type": "code",
   "execution_count": 62,
   "metadata": {},
   "outputs": [
    {
     "data": {
      "text/plain": [
       "<AxesSubplot:>"
      ]
     },
     "execution_count": 62,
     "metadata": {},
     "output_type": "execute_result"
    },
    {
     "data": {
      "image/png": "[encoded data removed]",
      "text/plain": [
       "<Figure size 1800x1080 with 2 Axes>"
      ]
     },
     "metadata": {
      "needs_background": "light"
     },
     "output_type": "display_data"
    }
   ],
   "source": [
    "# Матрица корреляции нового датасета признаков\n",
    "corr_matrix = final_date.corr()\n",
    "plt.figure(figsize=(25,15))\n",
    "sns.heatmap(corr_matrix, annot=True)"
   ]
  },
  {
   "cell_type": "markdown",
   "metadata": {},
   "source": [
    "*** Наблюдаютс отдельные пары с коэф 0.7 или близкие к нему, но такие пары единичны ***"
   ]
  },
  {
   "cell_type": "code",
   "execution_count": 63,
   "metadata": {},
   "outputs": [],
   "source": [
    "#Переименуем столбцы \n",
    "final_date.rename(columns = {'Полная мощность':'full_power','Время нагрева':'time_temp','Газ 1':'gas','Температура_начальная':'temp_first','Температура_конечная':'temp_last'}, inplace = True )"
   ]
  },
  {
   "cell_type": "code",
   "execution_count": 64,
   "metadata": {
    "scrolled": true
   },
   "outputs": [
    {
     "data": {
      "text/html": [
       "<div>\n",
       "<style scoped>\n",
       "    .dataframe tbody tr th:only-of-type {\n",
       "        vertical-align: middle;\n",
       "    }\n",
       "\n",
       "    .dataframe tbody tr th {\n",
       "        vertical-align: top;\n",
       "    }\n",
       "\n",
       "    .dataframe thead th {\n",
       "        text-align: right;\n",
       "    }\n",
       "</style>\n",
       "<table border=\"1\" class=\"dataframe\">\n",
       "  <thead>\n",
       "    <tr style=\"text-align: right;\">\n",
       "      <th></th>\n",
       "      <th>temp_first</th>\n",
       "      <th>temp_last</th>\n",
       "      <th>full_power</th>\n",
       "      <th>time_temp</th>\n",
       "      <th>Wire 1</th>\n",
       "      <th>Wire 2</th>\n",
       "      <th>Wire 3</th>\n",
       "      <th>Wire 4</th>\n",
       "      <th>Wire 6</th>\n",
       "      <th>Wire 7</th>\n",
       "      <th>...</th>\n",
       "      <th>Bulk 7</th>\n",
       "      <th>Bulk 8</th>\n",
       "      <th>Bulk 9</th>\n",
       "      <th>Bulk 10</th>\n",
       "      <th>Bulk 11</th>\n",
       "      <th>Bulk 12</th>\n",
       "      <th>Bulk 13</th>\n",
       "      <th>Bulk 14</th>\n",
       "      <th>Bulk 15</th>\n",
       "      <th>gas</th>\n",
       "    </tr>\n",
       "  </thead>\n",
       "  <tbody>\n",
       "    <tr>\n",
       "      <th>count</th>\n",
       "      <td>2325.000000</td>\n",
       "      <td>2325.000000</td>\n",
       "      <td>2325.000000</td>\n",
       "      <td>2325.000000</td>\n",
       "      <td>2325.000000</td>\n",
       "      <td>2325.000000</td>\n",
       "      <td>2325.000000</td>\n",
       "      <td>2325.000000</td>\n",
       "      <td>2325.000000</td>\n",
       "      <td>2325.000000</td>\n",
       "      <td>...</td>\n",
       "      <td>2325.000000</td>\n",
       "      <td>2325.000000</td>\n",
       "      <td>2325.000000</td>\n",
       "      <td>2325.000000</td>\n",
       "      <td>2325.000000</td>\n",
       "      <td>2325.000000</td>\n",
       "      <td>2325.000000</td>\n",
       "      <td>2325.000000</td>\n",
       "      <td>2325.000000</td>\n",
       "      <td>2325.000000</td>\n",
       "    </tr>\n",
       "    <tr>\n",
       "      <th>mean</th>\n",
       "      <td>1587.365161</td>\n",
       "      <td>1593.366022</td>\n",
       "      <td>3.885528</td>\n",
       "      <td>807.988387</td>\n",
       "      <td>102.412198</td>\n",
       "      <td>17.605637</td>\n",
       "      <td>3.240481</td>\n",
       "      <td>0.307077</td>\n",
       "      <td>0.980504</td>\n",
       "      <td>0.006371</td>\n",
       "      <td>...</td>\n",
       "      <td>2.008172</td>\n",
       "      <td>0.021075</td>\n",
       "      <td>0.445591</td>\n",
       "      <td>5.061505</td>\n",
       "      <td>4.252473</td>\n",
       "      <td>208.507957</td>\n",
       "      <td>1.069247</td>\n",
       "      <td>153.971613</td>\n",
       "      <td>120.026667</td>\n",
       "      <td>11.378942</td>\n",
       "    </tr>\n",
       "    <tr>\n",
       "      <th>std</th>\n",
       "      <td>23.623144</td>\n",
       "      <td>11.209581</td>\n",
       "      <td>1.517546</td>\n",
       "      <td>340.888430</td>\n",
       "      <td>43.535263</td>\n",
       "      <td>33.642919</td>\n",
       "      <td>27.966585</td>\n",
       "      <td>4.761821</td>\n",
       "      <td>8.700682</td>\n",
       "      <td>0.205882</td>\n",
       "      <td>...</td>\n",
       "      <td>30.702509</td>\n",
       "      <td>1.016213</td>\n",
       "      <td>6.225965</td>\n",
       "      <td>20.934742</td>\n",
       "      <td>22.534166</td>\n",
       "      <td>157.137873</td>\n",
       "      <td>14.247231</td>\n",
       "      <td>81.398153</td>\n",
       "      <td>84.674380</td>\n",
       "      <td>6.395632</td>\n",
       "    </tr>\n",
       "    <tr>\n",
       "      <th>min</th>\n",
       "      <td>1519.000000</td>\n",
       "      <td>1541.000000</td>\n",
       "      <td>0.331897</td>\n",
       "      <td>57.000000</td>\n",
       "      <td>0.000000</td>\n",
       "      <td>0.000000</td>\n",
       "      <td>0.000000</td>\n",
       "      <td>0.000000</td>\n",
       "      <td>0.000000</td>\n",
       "      <td>0.000000</td>\n",
       "      <td>...</td>\n",
       "      <td>0.000000</td>\n",
       "      <td>0.000000</td>\n",
       "      <td>0.000000</td>\n",
       "      <td>0.000000</td>\n",
       "      <td>0.000000</td>\n",
       "      <td>0.000000</td>\n",
       "      <td>0.000000</td>\n",
       "      <td>0.000000</td>\n",
       "      <td>0.000000</td>\n",
       "      <td>0.008399</td>\n",
       "    </tr>\n",
       "    <tr>\n",
       "      <th>25%</th>\n",
       "      <td>1571.000000</td>\n",
       "      <td>1587.000000</td>\n",
       "      <td>2.844193</td>\n",
       "      <td>581.000000</td>\n",
       "      <td>73.207679</td>\n",
       "      <td>0.000000</td>\n",
       "      <td>0.000000</td>\n",
       "      <td>0.000000</td>\n",
       "      <td>0.000000</td>\n",
       "      <td>0.000000</td>\n",
       "      <td>...</td>\n",
       "      <td>0.000000</td>\n",
       "      <td>0.000000</td>\n",
       "      <td>0.000000</td>\n",
       "      <td>0.000000</td>\n",
       "      <td>0.000000</td>\n",
       "      <td>105.000000</td>\n",
       "      <td>0.000000</td>\n",
       "      <td>105.000000</td>\n",
       "      <td>0.000000</td>\n",
       "      <td>7.282948</td>\n",
       "    </tr>\n",
       "    <tr>\n",
       "      <th>50%</th>\n",
       "      <td>1587.000000</td>\n",
       "      <td>1593.000000</td>\n",
       "      <td>3.769823</td>\n",
       "      <td>778.000000</td>\n",
       "      <td>101.087998</td>\n",
       "      <td>0.000000</td>\n",
       "      <td>0.000000</td>\n",
       "      <td>0.000000</td>\n",
       "      <td>0.000000</td>\n",
       "      <td>0.000000</td>\n",
       "      <td>...</td>\n",
       "      <td>0.000000</td>\n",
       "      <td>0.000000</td>\n",
       "      <td>0.000000</td>\n",
       "      <td>0.000000</td>\n",
       "      <td>0.000000</td>\n",
       "      <td>206.000000</td>\n",
       "      <td>0.000000</td>\n",
       "      <td>149.000000</td>\n",
       "      <td>107.000000</td>\n",
       "      <td>10.100950</td>\n",
       "    </tr>\n",
       "    <tr>\n",
       "      <th>75%</th>\n",
       "      <td>1603.000000</td>\n",
       "      <td>1598.000000</td>\n",
       "      <td>4.769421</td>\n",
       "      <td>993.000000</td>\n",
       "      <td>128.069763</td>\n",
       "      <td>23.102560</td>\n",
       "      <td>0.000000</td>\n",
       "      <td>0.000000</td>\n",
       "      <td>0.000000</td>\n",
       "      <td>0.000000</td>\n",
       "      <td>...</td>\n",
       "      <td>0.000000</td>\n",
       "      <td>0.000000</td>\n",
       "      <td>0.000000</td>\n",
       "      <td>0.000000</td>\n",
       "      <td>0.000000</td>\n",
       "      <td>283.000000</td>\n",
       "      <td>0.000000</td>\n",
       "      <td>204.000000</td>\n",
       "      <td>204.000000</td>\n",
       "      <td>14.217691</td>\n",
       "    </tr>\n",
       "    <tr>\n",
       "      <th>max</th>\n",
       "      <td>1660.000000</td>\n",
       "      <td>1653.000000</td>\n",
       "      <td>15.288271</td>\n",
       "      <td>4189.000000</td>\n",
       "      <td>330.314424</td>\n",
       "      <td>282.780152</td>\n",
       "      <td>385.008668</td>\n",
       "      <td>113.231044</td>\n",
       "      <td>180.454575</td>\n",
       "      <td>8.490040</td>\n",
       "      <td>...</td>\n",
       "      <td>772.000000</td>\n",
       "      <td>49.000000</td>\n",
       "      <td>147.000000</td>\n",
       "      <td>159.000000</td>\n",
       "      <td>313.000000</td>\n",
       "      <td>1849.000000</td>\n",
       "      <td>305.000000</td>\n",
       "      <td>636.000000</td>\n",
       "      <td>405.000000</td>\n",
       "      <td>77.995040</td>\n",
       "    </tr>\n",
       "  </tbody>\n",
       "</table>\n",
       "<p>8 rows × 27 columns</p>\n",
       "</div>"
      ],
      "text/plain": [
       "        temp_first    temp_last   full_power    time_temp       Wire 1  \\\n",
       "count  2325.000000  2325.000000  2325.000000  2325.000000  2325.000000   \n",
       "mean   1587.365161  1593.366022     3.885528   807.988387   102.412198   \n",
       "std      23.623144    11.209581     1.517546   340.888430    43.535263   \n",
       "min    1519.000000  1541.000000     0.331897    57.000000     0.000000   \n",
       "25%    1571.000000  1587.000000     2.844193   581.000000    73.207679   \n",
       "50%    1587.000000  1593.000000     3.769823   778.000000   101.087998   \n",
       "75%    1603.000000  1598.000000     4.769421   993.000000   128.069763   \n",
       "max    1660.000000  1653.000000    15.288271  4189.000000   330.314424   \n",
       "\n",
       "            Wire 2       Wire 3       Wire 4       Wire 6       Wire 7  ...  \\\n",
       "count  2325.000000  2325.000000  2325.000000  2325.000000  2325.000000  ...   \n",
       "mean     17.605637     3.240481     0.307077     0.980504     0.006371  ...   \n",
       "std      33.642919    27.966585     4.761821     8.700682     0.205882  ...   \n",
       "min       0.000000     0.000000     0.000000     0.000000     0.000000  ...   \n",
       "25%       0.000000     0.000000     0.000000     0.000000     0.000000  ...   \n",
       "50%       0.000000     0.000000     0.000000     0.000000     0.000000  ...   \n",
       "75%      23.102560     0.000000     0.000000     0.000000     0.000000  ...   \n",
       "max     282.780152   385.008668   113.231044   180.454575     8.490040  ...   \n",
       "\n",
       "            Bulk 7       Bulk 8       Bulk 9      Bulk 10      Bulk 11  \\\n",
       "count  2325.000000  2325.000000  2325.000000  2325.000000  2325.000000   \n",
       "mean      2.008172     0.021075     0.445591     5.061505     4.252473   \n",
       "std      30.702509     1.016213     6.225965    20.934742    22.534166   \n",
       "min       0.000000     0.000000     0.000000     0.000000     0.000000   \n",
       "25%       0.000000     0.000000     0.000000     0.000000     0.000000   \n",
       "50%       0.000000     0.000000     0.000000     0.000000     0.000000   \n",
       "75%       0.000000     0.000000     0.000000     0.000000     0.000000   \n",
       "max     772.000000    49.000000   147.000000   159.000000   313.000000   \n",
       "\n",
       "           Bulk 12      Bulk 13      Bulk 14      Bulk 15          gas  \n",
       "count  2325.000000  2325.000000  2325.000000  2325.000000  2325.000000  \n",
       "mean    208.507957     1.069247   153.971613   120.026667    11.378942  \n",
       "std     157.137873    14.247231    81.398153    84.674380     6.395632  \n",
       "min       0.000000     0.000000     0.000000     0.000000     0.008399  \n",
       "25%     105.000000     0.000000   105.000000     0.000000     7.282948  \n",
       "50%     206.000000     0.000000   149.000000   107.000000    10.100950  \n",
       "75%     283.000000     0.000000   204.000000   204.000000    14.217691  \n",
       "max    1849.000000   305.000000   636.000000   405.000000    77.995040  \n",
       "\n",
       "[8 rows x 27 columns]"
      ]
     },
     "execution_count": 64,
     "metadata": {},
     "output_type": "execute_result"
    }
   ],
   "source": [
    "final_date.describe()"
   ]
  },
  {
   "cell_type": "markdown",
   "metadata": {},
   "source": [
    "# Обучение моделей."
   ]
  },
  {
   "cell_type": "markdown",
   "metadata": {},
   "source": [
    "# Разбивка на обучающую и тестовую выборки."
   ]
  },
  {
   "cell_type": "code",
   "execution_count": 65,
   "metadata": {},
   "outputs": [],
   "source": [
    "#Выделение целевого значения и признаков\n",
    "target=final_date['temp_last']\n",
    "features=final_date.drop(['temp_last'], axis= 1)"
   ]
  },
  {
   "cell_type": "code",
   "execution_count": 66,
   "metadata": {},
   "outputs": [
    {
     "name": "stdout",
     "output_type": "stream",
     "text": [
      "Размер тренировочной выборки (1743, 26)\n",
      "Размер тестовой выборки (582, 26)\n"
     ]
    }
   ],
   "source": [
    "# Разбивка на тренировочную и тестовую выборку\n",
    "features_train, features_test, target_train, target_test = train_test_split(features,\n",
    "                                                                            target, \n",
    "                                                                            test_size=.25,\n",
    "                                                                            random_state=12923)\n",
    "print('Размер тренировочной выборки',features_train.shape)\n",
    "print('Размер тестовой выборки',features_test.shape)"
   ]
  },
  {
   "cell_type": "markdown",
   "metadata": {},
   "source": [
    "# Линейная регрессия"
   ]
  },
  {
   "cell_type": "code",
   "execution_count": 67,
   "metadata": {},
   "outputs": [
    {
     "name": "stdout",
     "output_type": "stream",
     "text": [
      "Лучшие параметры:  {'linearregression__normalize': False}\n",
      "MAE на СV Линейной регрессии :  6.276202390696395\n",
      "\n"
     ]
    }
   ],
   "source": [
    "lr = make_pipeline(StandardScaler(), LinearRegression())\n",
    "lr_params = {'linearregression__normalize':[False]}\n",
    "grid_lr = GridSearchCV(lr, param_grid=lr_params, scoring='neg_mean_absolute_error',cv=5)\n",
    "grid_lr.fit(features_train, target_train)\n",
    "print(\"Лучшие параметры: \", grid_lr.best_params_)\n",
    "print(\"MAE на СV Линейной регрессии : \", -grid_lr.best_score_)\n",
    "\n",
    "print()"
   ]
  },
  {
   "cell_type": "markdown",
   "metadata": {},
   "source": [
    "# RandomForrestRegression"
   ]
  },
  {
   "cell_type": "code",
   "execution_count": 68,
   "metadata": {},
   "outputs": [
    {
     "name": "stdout",
     "output_type": "stream",
     "text": [
      "Лучшие параметры:  {'random_state': 12923, 'n_estimators': 350, 'criterion': 'mae'}\n",
      "MAE на СV RFR :  6.282416152648196\n"
     ]
    }
   ],
   "source": [
    "rfr = RandomForestRegressor() \n",
    "\n",
    "rfr_params = [{'criterion':['mae'],\n",
    "               'n_estimators':[x for x in range(100, 501, 50)],\n",
    "               'random_state':[12923]}]\n",
    "gscv = RandomizedSearchCV(rfr, rfr_params, scoring='neg_mean_absolute_error', cv=5)\n",
    "gscv.fit(features_train, target_train)\n",
    "print(\"Лучшие параметры: \", gscv.best_params_)\n",
    "print(\"MAE на СV RFR : \", -gscv.best_score_)\n"
   ]
  },
  {
   "cell_type": "markdown",
   "metadata": {},
   "source": [
    "# LGBM"
   ]
  },
  {
   "cell_type": "code",
   "execution_count": null,
   "metadata": {},
   "outputs": [],
   "source": [
    "lgbm = LGBMRegressor() \n",
    "lgbm_params = [{'num_leaves':[x for x in range(10,26)],\n",
    "                #'max_depth':[x for x in range(10,25)],\n",
    "                'learning_rate':[.1],\n",
    "                'random_state':[12923]}]\n",
    "\n",
    "gscv =GridSearchCV(lgbm, lgbm_params, scoring='neg_mean_absolute_error', cv=7)\n",
    "\n",
    "gscv.fit(features_train, target_train)\n",
    "\n",
    "print(\"Лучшие параметры: \", gscv.best_params_)\n",
    "print(\"MAE на СV Lgbm : \", -gscv.best_score_)"
   ]
  },
  {
   "cell_type": "code",
   "execution_count": 72,
   "metadata": {},
   "outputs": [
    {
     "data": {
      "text/html": [
       "<div>\n",
       "<style scoped>\n",
       "    .dataframe tbody tr th:only-of-type {\n",
       "        vertical-align: middle;\n",
       "    }\n",
       "\n",
       "    .dataframe tbody tr th {\n",
       "        vertical-align: top;\n",
       "    }\n",
       "\n",
       "    .dataframe thead th {\n",
       "        text-align: right;\n",
       "    }\n",
       "</style>\n",
       "<table border=\"1\" class=\"dataframe\">\n",
       "  <thead>\n",
       "    <tr style=\"text-align: right;\">\n",
       "      <th></th>\n",
       "      <th>MAE на обучающей выборке</th>\n",
       "    </tr>\n",
       "  </thead>\n",
       "  <tbody>\n",
       "    <tr>\n",
       "      <th>RandomForestRegressor</th>\n",
       "      <td>6.28</td>\n",
       "    </tr>\n",
       "    <tr>\n",
       "      <th>LinearRegression</th>\n",
       "      <td>6.27</td>\n",
       "    </tr>\n",
       "    <tr>\n",
       "      <th>LGBMRegressor</th>\n",
       "      <td>6.26</td>\n",
       "    </tr>\n",
       "  </tbody>\n",
       "</table>\n",
       "</div>"
      ],
      "text/plain": [
       "                       MAE на обучающей выборке\n",
       "RandomForestRegressor                      6.28\n",
       "LinearRegression                           6.27\n",
       "LGBMRegressor                              6.26"
      ]
     },
     "execution_count": 72,
     "metadata": {},
     "output_type": "execute_result"
    }
   ],
   "source": [
    "# Объединение результатов в одну таблицу результаты\n",
    "index = ['LinearRegression', 'RandomForestRegressor','LGBMRegressor',]\n",
    "\n",
    "data = {'MAE на обучающей выборке': [6.27,6.28,6.26,]}\n",
    "\n",
    "kpi = pd.DataFrame(data=data, index=index)\n",
    "\n",
    "kpi.sort_values(by='MAE на обучающей выборке', ascending=False)"
   ]
  },
  {
   "cell_type": "markdown",
   "metadata": {},
   "source": [
    "# Проверка на тестовой выборке"
   ]
  },
  {
   "cell_type": "code",
   "execution_count": 73,
   "metadata": {},
   "outputs": [
    {
     "name": "stdout",
     "output_type": "stream",
     "text": [
      "MAE для Lgbm 6.3202218765543\n"
     ]
    }
   ],
   "source": [
    "# Инициация модели с лучшими параметрами\n",
    "lgbm = LGBMRegressor(learning_rate = 0.1, num_leaves=12,random_state=12923)\n",
    "lgbm.fit(features_train, target_train)\n",
    "predict = lgbm.predict(features_test)\n",
    "MAE_lgbm  = mean_absolute_error(target_test, predict)\n",
    "print('MAE для Lgbm',MAE_lgbm)"
   ]
  },
  {
   "cell_type": "markdown",
   "metadata": {},
   "source": [
    "***На тестовой выборке минимальное MAE достигнуто***\n",
    "\n",
    "***В итоге лучшую метрику MAE показала модель LGBM c параметрами learning_rate = 0.1, num_leaves=12,random_state=12923.***"
   ]
  },
  {
   "cell_type": "markdown",
   "metadata": {},
   "source": [
    "# Проверка значимости параметров "
   ]
  },
  {
   "cell_type": "code",
   "execution_count": 74,
   "metadata": {},
   "outputs": [
    {
     "data": {
      "image/png": "[encoded data removed]",
      "text/plain": [
       "<Figure size 720x432 with 1 Axes>"
      ]
     },
     "metadata": {
      "needs_background": "light"
     },
     "output_type": "display_data"
    }
   ],
   "source": [
    "# Определение важности признаков\n",
    "feature_importance = lgbm.feature_importances_\n",
    "\n",
    "# Создание DataFrame с важностью признаков\n",
    "feature_importance_df = pd.DataFrame({'feature': features_train.columns, 'importance': feature_importance})\n",
    "\n",
    "# Сортировка признаков по важности\n",
    "feature_importance_df.sort_values(by='importance', ascending=False, inplace=True)\n",
    "\n",
    "# Визуализация важности признаков\n",
    "plt.figure(figsize=(10, 6))\n",
    "plt.bar(feature_importance_df['feature'], feature_importance_df['importance'])\n",
    "plt.xticks(rotation=90)\n",
    "plt.xlabel('Features')\n",
    "plt.ylabel('Importance')\n",
    "plt.title('Feature Importance')\n",
    "plt.show()"
   ]
  },
  {
   "cell_type": "markdown",
   "metadata": {},
   "source": [
    "# Отчет по проекту :\"Промышленность:оптимизация энергопотребления на этапе выплавки стали.\""
   ]
  },
  {
   "cell_type": "markdown",
   "metadata": {},
   "source": [
    "# Цель проекта."
   ]
  },
  {
   "cell_type": "markdown",
   "metadata": {},
   "source": [
    "**С помощью моделей машиннго обучения спрогнозировать коне\n",
    "чную температуру на этапе обработки стали для оптимизации энергопотребления и снижение производственных расходов.** "
   ]
  },
  {
   "cell_type": "markdown",
   "metadata": {},
   "source": [
    "# Данные  проекта."
   ]
  },
  {
   "cell_type": "markdown",
   "metadata": {},
   "source": [
    "**Были предоставлены следущие данные с разбивкой по партиям плавления в нескольких датасетах.**\n",
    "\n",
    "**-Замеры температуры в партиях(в партиях различное количество замеров)(с пропущенными значениями)**\n",
    "\n",
    "**-Данные по партиям о количестве примененных сыпучих материалов и проволоки.(с пропущенными значениями)**\n",
    "\n",
    "**-Данные о продувке партии газом.**\n",
    "\n",
    "**-Данные о времени нагрева электродов а показатель активной и реактивной мощности во время нагрева** \n",
    "\n",
    "***Целевое значение - последний замер температуры в партии***"
   ]
  },
  {
   "cell_type": "markdown",
   "metadata": {},
   "source": [
    "# План"
   ]
  },
  {
   "cell_type": "markdown",
   "metadata": {},
   "source": [
    "**После после первичного исследования данных был составлен план , включавший в себя обработку(проверка и удаление аномальных значений,заполнение пропущенных),введение новых признаков и удаление расчетных, группировку данных по партиям и сведение их в единый датасет, обучение моделей,выбор лучшей, проверка модели на тестовых данных и анализ значимости каждого из признаков. Критерием качества моделей была минимизация метрики МАЕ(измеряет среднее абсолютное отклонение между предсказанными значениями и фактическими значениями и показывает насколько точно модель предсказывает целевую переменную).**\n",
    "\n",
    "**Расчетное значение MAE на тестовых данных не должно превышать 6.8** \n",
    "\n",
    "**Все шаги плана удалось выполнить,однако,потребовались корректировки признаков после проведения моделирования для улучшения метрики.**"
   ]
  },
  {
   "cell_type": "markdown",
   "metadata": {},
   "source": [
    "# Моделирование ."
   ]
  },
  {
   "cell_type": "markdown",
   "metadata": {},
   "source": [
    "**1.Обработка данных.**\n",
    "\n",
    "**На этом этапе мы провели анализ данных на аномальные/отсутствующие данные. В частности удалена партия с мощностью равной -750. Были исключеные партии с пропущенными значениями температуры(целевой признак не рекомендуется восстанвливать,если нет четких логичных замен,чтобы не искажать моделирование) ,а также исключены партии с аномальными показателями ттемпературы меньше 1500.**\n",
    "\n",
    "**Также были удалена пустая партия 'Wire 5' и один из 2х сильновзаимосвязанных признаков:\"Wire 8\"**"
   ]
  },
  {
   "cell_type": "markdown",
   "metadata": {},
   "source": [
    "**2.Введение новых признаков.**\n",
    "\n",
    "**На первоначальном этапе из имеющихся данных были сформированы признак суммарного времени нагрева электродами и полной мощности, а на их основании рассчитана энергия ,затраченная на выплавку. Однако, после моделирования , было решено оставить эти признаки без объединения,что позволило модели более точно рассчитать требуемую метрику** \n",
    "\n",
    "**После группировки были сформированы признаки первого и последнего замера в партии.**\n",
    "\n",
    "**В конечном датасете в обучающем пуле данных остались признаки:**\n",
    "\n",
    "-начальной температуры,\n",
    "\n",
    "-полной мощности,\n",
    "\n",
    "-время нагрева,\n",
    "\n",
    "-продувка газом,\n",
    "\n",
    "-все данные о добавке сыпучих материалов и проволоки."
   ]
  },
  {
   "cell_type": "markdown",
   "metadata": {},
   "source": [
    "**3.Обучение моделей.**"
   ]
  },
  {
   "cell_type": "markdown",
   "metadata": {},
   "source": [
    "**В качестве обучающих моделей были выбраны регрессионные модели : LinearRegression,RandomForrestRegression и LGBM.**\n",
    "\n",
    "**Модели были обучены на подготовленных ранее данных.**\n",
    "\n",
    "**Осуществлен подбор гиперпараметров с помощью RandomizedSearchCV**\n",
    "\n",
    "**На данном этапе , к сожалению , столкнулись с существенным ограничением по вычислительной мощности,что не позволило добавить большее количество гиперпараметров в модели.Также можно было увеличить количество фолдов перекрестных проверок и использовать    более точный оптимизатор GridSearch.Но целевое значение было получено.**"
   ]
  },
  {
   "cell_type": "markdown",
   "metadata": {},
   "source": [
    "**4.Лучшая модель.**"
   ]
  },
  {
   "cell_type": "markdown",
   "metadata": {},
   "source": [
    "**Лучшей моделью оказалась LGBM(основана на деревьях решений и использует градиентный спуск для обучения модели) c параметрами learning_rate = 0.1, num_leaves=12,random_state=12923.**\n",
    "\n",
    "**МАЕ на тестовой выборке = 6.32,что соответствует условию критерия качества модели**\n",
    "\n"
   ]
  },
  {
   "cell_type": "markdown",
   "metadata": {},
   "source": [
    "# Рекомендации заказчикам."
   ]
  },
  {
   "cell_type": "markdown",
   "metadata": {},
   "source": [
    "**1.Важность признаков**\n",
    "\n",
    "**После определения лучшей модели был произведен анализ важности признаков. Самыми значимыми оказались первичный нагрев и время работы элетродов(Технолические характеристики), среди сыпучих материалов - материал из признака Bulk14, из проволоки Wire1,а также продувка газом. Эти 5 признаков влияют на конечную температуру больше всего. Поэтому для дальнейшего контроля в первую очередь стоит уделить внимание им.**\n",
    "\n",
    "**Далее я хотел бы дать рекомендации по улучшению имеющегося решения.**\n",
    "\n",
    "**2.Дальнейший сбор информации**\n",
    "\n",
    "**На мой взгляд имеет смысл ввести еще один признак,отвечающий за различие видов сталей(например,категоральной переменной по марке стали или создание нового датасета). По данным сыпучих материалов и проволоки видно,что они в разных партиях подаются в разных объемах ,скорее всего это связано с видом плавящайся стали,хотя процесс плавки одинаковый.Это должно повысить точность модели.** \n"
   ]
  },
  {
   "cell_type": "markdown",
   "metadata": {},
   "source": [
    "**3.В дальнейшем попробовать расширить ансамбль гиперпараметров lgbmмодели,а также увеличить количество фолдов при перекрестной проверке.** "
   ]
  },
  {
   "cell_type": "markdown",
   "metadata": {},
   "source": [
    "# Заключение"
   ]
  },
  {
   "cell_type": "markdown",
   "metadata": {},
   "source": [
    "**Проект \"Оптимизация потребление электроэнергии на этапе обработки стали.\" выполнен, Lgbmmodel,обученная на сформированных данных ,позволяет прогнозировать температуру с заданной точностью,что позволит компании снизить затраты электропотребления  на производстве.**"
   ]
  }
 ],
 "metadata": {
  "ExecuteTimeLog": [
   {
    "duration": 3540,
    "start_time": "2023-09-23T03:22:13.773Z"
   },
   {
    "duration": 123,
    "start_time": "2023-09-23T03:22:17.316Z"
   },
   {
    "duration": 22,
    "start_time": "2023-09-23T03:22:31.327Z"
   },
   {
    "duration": 29,
    "start_time": "2023-09-23T03:22:46.326Z"
   },
   {
    "duration": 7,
    "start_time": "2023-09-23T03:22:58.842Z"
   },
   {
    "duration": 201,
    "start_time": "2023-09-23T03:23:09.433Z"
   },
   {
    "duration": 178,
    "start_time": "2023-09-23T03:23:20.489Z"
   },
   {
    "duration": 193,
    "start_time": "2023-09-23T03:23:20.670Z"
   },
   {
    "duration": 689,
    "start_time": "2023-09-23T03:23:37.692Z"
   },
   {
    "duration": 615,
    "start_time": "2023-09-23T03:23:53.292Z"
   },
   {
    "duration": 7,
    "start_time": "2023-09-23T03:24:05.981Z"
   },
   {
    "duration": 5,
    "start_time": "2023-09-23T03:24:20.966Z"
   },
   {
    "duration": 12,
    "start_time": "2023-09-23T03:24:31.280Z"
   },
   {
    "duration": 22,
    "start_time": "2023-09-23T03:24:46.097Z"
   },
   {
    "duration": 3,
    "start_time": "2023-09-23T03:25:37.994Z"
   },
   {
    "duration": 48,
    "start_time": "2023-09-23T03:25:57.200Z"
   },
   {
    "duration": 76,
    "start_time": "2023-09-23T03:26:11.671Z"
   },
   {
    "duration": 328,
    "start_time": "2023-09-23T03:26:22.931Z"
   },
   {
    "duration": 5,
    "start_time": "2023-09-23T03:26:38.768Z"
   },
   {
    "duration": 10,
    "start_time": "2023-09-23T03:26:50.175Z"
   },
   {
    "duration": 11,
    "start_time": "2023-09-23T03:27:01.334Z"
   },
   {
    "duration": 66,
    "start_time": "2023-09-23T03:27:58.794Z"
   },
   {
    "duration": 10,
    "start_time": "2023-09-23T03:28:15.446Z"
   },
   {
    "duration": 60,
    "start_time": "2023-09-23T03:28:43.657Z"
   },
   {
    "duration": 20,
    "start_time": "2023-09-23T03:28:54.192Z"
   },
   {
    "duration": 121,
    "start_time": "2023-09-23T03:29:05.389Z"
   },
   {
    "duration": 10,
    "start_time": "2023-09-23T03:29:16.555Z"
   },
   {
    "duration": 278,
    "start_time": "2023-09-23T03:29:27.540Z"
   },
   {
    "duration": 5,
    "start_time": "2023-09-23T03:29:39.908Z"
   },
   {
    "duration": 7,
    "start_time": "2023-09-23T03:29:49.270Z"
   },
   {
    "duration": 6,
    "start_time": "2023-09-23T03:29:59.722Z"
   },
   {
    "duration": 106,
    "start_time": "2023-09-23T03:30:10.111Z"
   },
   {
    "duration": 52,
    "start_time": "2023-09-23T03:30:26.672Z"
   },
   {
    "duration": 18,
    "start_time": "2023-09-23T03:30:54.781Z"
   },
   {
    "duration": 797,
    "start_time": "2023-09-23T03:31:04.852Z"
   },
   {
    "duration": 248,
    "start_time": "2023-09-23T03:31:18.440Z"
   },
   {
    "duration": 6,
    "start_time": "2023-09-23T03:31:30.852Z"
   },
   {
    "duration": 10,
    "start_time": "2023-09-23T03:31:40.451Z"
   },
   {
    "duration": 45,
    "start_time": "2023-09-23T03:32:35.986Z"
   },
   {
    "duration": 51,
    "start_time": "2023-09-23T03:32:51.137Z"
   },
   {
    "duration": 261,
    "start_time": "2023-09-23T03:33:01.165Z"
   },
   {
    "duration": 5,
    "start_time": "2023-09-23T03:33:11.044Z"
   },
   {
    "duration": 8,
    "start_time": "2023-09-23T03:33:19.891Z"
   },
   {
    "duration": 45,
    "start_time": "2023-09-23T03:33:59.007Z"
   },
   {
    "duration": 10,
    "start_time": "2023-09-23T03:34:11.687Z"
   },
   {
    "duration": 3,
    "start_time": "2023-09-23T03:34:59.052Z"
   },
   {
    "duration": 5,
    "start_time": "2023-09-23T03:35:14.651Z"
   },
   {
    "duration": 4,
    "start_time": "2023-09-23T03:35:24.522Z"
   },
   {
    "duration": 5,
    "start_time": "2023-09-23T03:35:33.693Z"
   },
   {
    "duration": 11,
    "start_time": "2023-09-23T03:35:41.576Z"
   },
   {
    "duration": 8,
    "start_time": "2023-09-23T03:35:55.121Z"
   },
   {
    "duration": 22,
    "start_time": "2023-09-23T03:36:05.198Z"
   },
   {
    "duration": 16,
    "start_time": "2023-09-23T03:36:29.046Z"
   },
   {
    "duration": 130,
    "start_time": "2023-09-23T03:36:44.162Z"
   },
   {
    "duration": 149,
    "start_time": "2023-09-23T03:36:55.184Z"
   },
   {
    "duration": 9,
    "start_time": "2023-09-23T03:37:33.628Z"
   },
   {
    "duration": 548,
    "start_time": "2023-09-23T03:38:04.323Z"
   },
   {
    "duration": 4,
    "start_time": "2023-09-23T03:38:35.285Z"
   },
   {
    "duration": 27,
    "start_time": "2023-09-23T03:38:58.727Z"
   },
   {
    "duration": 9,
    "start_time": "2023-09-23T03:39:09.716Z"
   },
   {
    "duration": 18,
    "start_time": "2023-09-23T03:39:22.524Z"
   },
   {
    "duration": 142,
    "start_time": "2023-09-23T03:40:25.580Z"
   },
   {
    "duration": 20,
    "start_time": "2023-09-23T03:42:53.473Z"
   },
   {
    "duration": 12,
    "start_time": "2023-09-23T03:43:06.737Z"
   },
   {
    "duration": 4,
    "start_time": "2023-09-23T03:43:25.625Z"
   },
   {
    "duration": 14,
    "start_time": "2023-09-23T03:43:35.793Z"
   },
   {
    "duration": 24,
    "start_time": "2023-09-23T03:44:03.053Z"
   },
   {
    "duration": 92,
    "start_time": "2023-09-23T03:44:12.142Z"
   },
   {
    "duration": 5,
    "start_time": "2023-09-23T03:44:26.908Z"
   },
   {
    "duration": 4,
    "start_time": "2023-09-23T03:44:36.441Z"
   },
   {
    "duration": 4,
    "start_time": "2023-09-23T03:44:46.942Z"
   },
   {
    "duration": 4578,
    "start_time": "2023-09-23T03:44:54.844Z"
   },
   {
    "duration": 1205,
    "start_time": "2023-09-23T03:46:05.807Z"
   },
   {
    "duration": 4,
    "start_time": "2023-09-23T03:52:01.303Z"
   },
   {
    "duration": 510,
    "start_time": "2023-09-23T03:52:14.002Z"
   },
   {
    "duration": 9601,
    "start_time": "2023-09-23T03:52:39.711Z"
   },
   {
    "duration": 499,
    "start_time": "2023-09-23T03:52:49.317Z"
   },
   {
    "duration": 94,
    "start_time": "2023-09-23T03:52:49.911Z"
   },
   {
    "duration": 199,
    "start_time": "2023-09-23T03:52:50.102Z"
   },
   {
    "duration": 97,
    "start_time": "2023-09-23T03:52:50.303Z"
   },
   {
    "duration": 1191,
    "start_time": "2023-09-23T03:52:50.413Z"
   },
   {
    "duration": 2196,
    "start_time": "2023-09-23T03:52:51.606Z"
   },
   {
    "duration": 1894,
    "start_time": "2023-09-23T03:52:53.810Z"
   },
   {
    "duration": 196,
    "start_time": "2023-09-23T03:52:55.712Z"
   },
   {
    "duration": 91,
    "start_time": "2023-09-23T03:52:55.912Z"
   },
   {
    "duration": 96,
    "start_time": "2023-09-23T03:52:56.006Z"
   },
   {
    "duration": 191,
    "start_time": "2023-09-23T03:52:56.118Z"
   },
   {
    "duration": 302,
    "start_time": "2023-09-23T03:52:56.313Z"
   },
   {
    "duration": 998,
    "start_time": "2023-09-23T03:52:56.617Z"
   },
   {
    "duration": 2796,
    "start_time": "2023-09-23T03:52:57.619Z"
   },
   {
    "duration": 6,
    "start_time": "2023-09-23T03:53:00.503Z"
   },
   {
    "duration": 113,
    "start_time": "2023-09-23T03:53:00.602Z"
   },
   {
    "duration": 294,
    "start_time": "2023-09-23T03:53:00.717Z"
   },
   {
    "duration": 200,
    "start_time": "2023-09-23T03:53:01.013Z"
   },
   {
    "duration": 101,
    "start_time": "2023-09-23T03:53:01.304Z"
   },
   {
    "duration": 197,
    "start_time": "2023-09-23T03:53:01.408Z"
   },
   {
    "duration": 693,
    "start_time": "2023-09-23T03:53:01.610Z"
   },
   {
    "duration": 1501,
    "start_time": "2023-09-23T03:53:02.306Z"
   },
   {
    "duration": 98,
    "start_time": "2023-09-23T03:53:03.813Z"
   },
   {
    "duration": 2204,
    "start_time": "2023-09-23T03:53:03.913Z"
   },
   {
    "duration": 7,
    "start_time": "2023-09-23T03:53:06.203Z"
   },
   {
    "duration": 98,
    "start_time": "2023-09-23T03:53:06.214Z"
   },
   {
    "duration": 7,
    "start_time": "2023-09-23T03:53:06.409Z"
   },
   {
    "duration": 409,
    "start_time": "2023-09-23T03:53:06.504Z"
   },
   {
    "duration": 193,
    "start_time": "2023-09-23T03:53:06.914Z"
   },
   {
    "duration": 5506,
    "start_time": "2023-09-23T03:53:07.109Z"
   },
   {
    "duration": 886,
    "start_time": "2023-09-23T03:53:12.618Z"
   },
   {
    "duration": 97,
    "start_time": "2023-09-23T03:53:13.510Z"
   },
   {
    "duration": 102,
    "start_time": "2023-09-23T03:53:13.608Z"
   },
   {
    "duration": 293,
    "start_time": "2023-09-23T03:53:13.713Z"
   },
   {
    "duration": 908,
    "start_time": "2023-09-23T03:53:14.009Z"
   },
   {
    "duration": 1993,
    "start_time": "2023-09-23T03:53:14.919Z"
   },
   {
    "duration": 91,
    "start_time": "2023-09-23T03:53:16.914Z"
   },
   {
    "duration": 96,
    "start_time": "2023-09-23T03:53:17.019Z"
   },
   {
    "duration": 312,
    "start_time": "2023-09-23T03:53:17.202Z"
   },
   {
    "duration": 86,
    "start_time": "2023-09-23T03:53:17.519Z"
   },
   {
    "duration": 93,
    "start_time": "2023-09-23T03:53:17.613Z"
   },
   {
    "duration": 192,
    "start_time": "2023-09-23T03:53:17.711Z"
   },
   {
    "duration": 97,
    "start_time": "2023-09-23T03:53:17.905Z"
   },
   {
    "duration": 102,
    "start_time": "2023-09-23T03:53:18.005Z"
   },
   {
    "duration": 101,
    "start_time": "2023-09-23T03:53:18.111Z"
   },
   {
    "duration": 186,
    "start_time": "2023-09-23T03:53:18.214Z"
   },
   {
    "duration": 195,
    "start_time": "2023-09-23T03:53:18.405Z"
   },
   {
    "duration": 11,
    "start_time": "2023-09-23T03:53:18.603Z"
   },
   {
    "duration": 100,
    "start_time": "2023-09-23T03:53:18.617Z"
   },
   {
    "duration": 181,
    "start_time": "2023-09-23T03:53:18.720Z"
   },
   {
    "duration": 11,
    "start_time": "2023-09-23T03:53:18.904Z"
   },
   {
    "duration": 106,
    "start_time": "2023-09-23T03:53:19.003Z"
   },
   {
    "duration": 191,
    "start_time": "2023-09-23T03:53:19.114Z"
   },
   {
    "duration": 105,
    "start_time": "2023-09-23T03:53:19.307Z"
   },
   {
    "duration": 88,
    "start_time": "2023-09-23T03:53:19.418Z"
   },
   {
    "duration": 187,
    "start_time": "2023-09-23T03:53:19.513Z"
   },
   {
    "duration": 107,
    "start_time": "2023-09-23T03:53:19.705Z"
   },
   {
    "duration": 8,
    "start_time": "2023-09-23T03:53:19.908Z"
   },
   {
    "duration": 13,
    "start_time": "2023-09-23T03:53:20.003Z"
   },
   {
    "duration": 12,
    "start_time": "2023-09-23T03:53:20.103Z"
   },
   {
    "duration": 36012,
    "start_time": "2023-09-23T03:53:20.202Z"
   },
   {
    "duration": 708,
    "start_time": "2023-09-23T03:53:56.301Z"
   },
   {
    "duration": 89,
    "start_time": "2023-09-23T03:53:57.014Z"
   },
   {
    "duration": 798,
    "start_time": "2023-09-23T03:53:57.108Z"
   },
   {
    "duration": 6,
    "start_time": "2023-09-23T03:54:23.702Z"
   },
   {
    "duration": 1107,
    "start_time": "2023-09-23T03:54:25.002Z"
   },
   {
    "duration": 102,
    "start_time": "2023-09-23T03:56:30.209Z"
   },
   {
    "duration": 9500,
    "start_time": "2023-09-23T03:56:50.604Z"
   },
   {
    "duration": 395,
    "start_time": "2023-09-23T03:57:00.107Z"
   },
   {
    "duration": 98,
    "start_time": "2023-09-23T03:57:00.512Z"
   },
   {
    "duration": 289,
    "start_time": "2023-09-23T03:57:00.615Z"
   },
   {
    "duration": 103,
    "start_time": "2023-09-23T03:57:00.909Z"
   },
   {
    "duration": 1290,
    "start_time": "2023-09-23T03:57:01.014Z"
   },
   {
    "duration": 2104,
    "start_time": "2023-09-23T03:57:02.306Z"
   },
   {
    "duration": 1996,
    "start_time": "2023-09-23T03:57:04.412Z"
   },
   {
    "duration": 7,
    "start_time": "2023-09-23T03:57:06.410Z"
   },
   {
    "duration": 183,
    "start_time": "2023-09-23T03:57:06.419Z"
   },
   {
    "duration": 12,
    "start_time": "2023-09-23T03:57:06.604Z"
   },
   {
    "duration": 184,
    "start_time": "2023-09-23T03:57:06.619Z"
   },
   {
    "duration": 303,
    "start_time": "2023-09-23T03:57:06.812Z"
   },
   {
    "duration": 401,
    "start_time": "2023-09-23T03:57:07.806Z"
   },
   {
    "duration": 2503,
    "start_time": "2023-09-23T03:57:08.208Z"
   },
   {
    "duration": 88,
    "start_time": "2023-09-23T03:57:10.715Z"
   },
   {
    "duration": 17,
    "start_time": "2023-09-23T03:57:10.807Z"
   },
   {
    "duration": 177,
    "start_time": "2023-09-23T03:57:10.825Z"
   },
   {
    "duration": 400,
    "start_time": "2023-09-23T03:57:11.004Z"
   },
   {
    "duration": 187,
    "start_time": "2023-09-23T03:57:11.416Z"
   },
   {
    "duration": 106,
    "start_time": "2023-09-23T03:57:11.609Z"
   },
   {
    "duration": 181,
    "start_time": "2023-09-23T03:57:11.727Z"
   },
   {
    "duration": 903,
    "start_time": "2023-09-23T03:57:11.912Z"
   },
   {
    "duration": 93,
    "start_time": "2023-09-23T03:57:12.819Z"
   },
   {
    "duration": 2203,
    "start_time": "2023-09-23T03:57:13.005Z"
   },
   {
    "duration": 5,
    "start_time": "2023-09-23T03:57:15.211Z"
   },
   {
    "duration": 11,
    "start_time": "2023-09-23T03:57:15.302Z"
   },
   {
    "duration": 96,
    "start_time": "2023-09-23T03:57:15.318Z"
   },
   {
    "duration": 404,
    "start_time": "2023-09-23T03:57:15.501Z"
   },
   {
    "duration": 194,
    "start_time": "2023-09-23T03:57:15.910Z"
   },
   {
    "duration": 5592,
    "start_time": "2023-09-23T03:57:16.111Z"
   },
   {
    "duration": 906,
    "start_time": "2023-09-23T03:57:21.708Z"
   },
   {
    "duration": 9,
    "start_time": "2023-09-23T03:57:22.706Z"
   },
   {
    "duration": 105,
    "start_time": "2023-09-23T03:57:22.802Z"
   },
   {
    "duration": 298,
    "start_time": "2023-09-23T03:57:22.909Z"
   },
   {
    "duration": 1112,
    "start_time": "2023-09-23T03:57:23.300Z"
   },
   {
    "duration": 2093,
    "start_time": "2023-09-23T03:57:24.417Z"
   },
   {
    "duration": 5,
    "start_time": "2023-09-23T03:57:26.512Z"
   },
   {
    "duration": 187,
    "start_time": "2023-09-23T03:57:26.519Z"
   },
   {
    "duration": 294,
    "start_time": "2023-09-23T03:57:26.708Z"
   },
   {
    "duration": 89,
    "start_time": "2023-09-23T03:57:27.013Z"
   },
   {
    "duration": 94,
    "start_time": "2023-09-23T03:57:27.106Z"
   },
   {
    "duration": 6,
    "start_time": "2023-09-23T03:57:27.206Z"
   },
   {
    "duration": 10,
    "start_time": "2023-09-23T03:57:27.302Z"
   },
   {
    "duration": 186,
    "start_time": "2023-09-23T03:57:27.316Z"
   },
   {
    "duration": 14,
    "start_time": "2023-09-23T03:57:27.506Z"
   },
   {
    "duration": 194,
    "start_time": "2023-09-23T03:57:27.525Z"
   },
   {
    "duration": 108,
    "start_time": "2023-09-23T03:57:27.803Z"
   },
   {
    "duration": 183,
    "start_time": "2023-09-23T03:57:27.917Z"
   },
   {
    "duration": 96,
    "start_time": "2023-09-23T03:57:28.104Z"
   },
   {
    "duration": 196,
    "start_time": "2023-09-23T03:57:28.207Z"
   },
   {
    "duration": 99,
    "start_time": "2023-09-23T03:57:28.412Z"
   },
   {
    "duration": 98,
    "start_time": "2023-09-23T03:57:28.515Z"
   },
   {
    "duration": 197,
    "start_time": "2023-09-23T03:57:28.617Z"
   },
   {
    "duration": 97,
    "start_time": "2023-09-23T03:57:28.816Z"
   },
   {
    "duration": 89,
    "start_time": "2023-09-23T03:57:28.917Z"
   },
   {
    "duration": 104,
    "start_time": "2023-09-23T03:57:29.008Z"
   },
   {
    "duration": 186,
    "start_time": "2023-09-23T03:57:29.118Z"
   },
   {
    "duration": 92,
    "start_time": "2023-09-23T03:57:29.310Z"
   },
   {
    "duration": 108,
    "start_time": "2023-09-23T03:57:29.405Z"
   },
   {
    "duration": 187,
    "start_time": "2023-09-23T03:57:29.515Z"
   },
   {
    "duration": 33902,
    "start_time": "2023-09-23T03:57:29.704Z"
   },
   {
    "duration": 597,
    "start_time": "2023-09-23T03:58:03.608Z"
   },
   {
    "duration": 6,
    "start_time": "2023-09-23T03:58:04.207Z"
   },
   {
    "duration": 795,
    "start_time": "2023-09-23T03:58:04.216Z"
   },
   {
    "duration": 9,
    "start_time": "2023-09-23T03:59:00.601Z"
   },
   {
    "duration": 705,
    "start_time": "2023-09-23T03:59:02.002Z"
   },
   {
    "duration": 82,
    "start_time": "2023-09-23T03:59:10.320Z"
   },
   {
    "duration": 608,
    "start_time": "2023-09-23T03:59:11.202Z"
   },
   {
    "duration": 8,
    "start_time": "2023-09-23T03:59:26.202Z"
   },
   {
    "duration": 703,
    "start_time": "2023-09-23T03:59:31.402Z"
   },
   {
    "duration": 5,
    "start_time": "2023-09-23T04:00:17.800Z"
   },
   {
    "duration": 611,
    "start_time": "2023-09-23T04:00:19.102Z"
   },
   {
    "duration": 7,
    "start_time": "2023-09-23T04:00:37.603Z"
   },
   {
    "duration": 593,
    "start_time": "2023-09-23T04:00:38.313Z"
   },
   {
    "duration": 6,
    "start_time": "2023-09-23T04:01:48.601Z"
   },
   {
    "duration": 603,
    "start_time": "2023-09-23T04:01:49.502Z"
   },
   {
    "duration": 3711,
    "start_time": "2023-09-23T04:03:26.701Z"
   },
   {
    "duration": 9918,
    "start_time": "2023-09-23T04:03:51.204Z"
   },
   {
    "duration": 401,
    "start_time": "2023-09-23T04:04:01.207Z"
   },
   {
    "duration": 193,
    "start_time": "2023-09-23T04:04:01.614Z"
   },
   {
    "duration": 298,
    "start_time": "2023-09-23T04:04:01.810Z"
   },
   {
    "duration": 93,
    "start_time": "2023-09-23T04:04:02.116Z"
   },
   {
    "duration": 1114,
    "start_time": "2023-09-23T04:04:02.301Z"
   },
   {
    "duration": 2097,
    "start_time": "2023-09-23T04:04:03.417Z"
   },
   {
    "duration": 1895,
    "start_time": "2023-09-23T04:04:05.516Z"
   },
   {
    "duration": 95,
    "start_time": "2023-09-23T04:04:07.413Z"
   },
   {
    "duration": 191,
    "start_time": "2023-09-23T04:04:07.514Z"
   },
   {
    "duration": 106,
    "start_time": "2023-09-23T04:04:07.706Z"
   },
   {
    "duration": 193,
    "start_time": "2023-09-23T04:04:07.814Z"
   },
   {
    "duration": 805,
    "start_time": "2023-09-23T04:04:08.011Z"
   },
   {
    "duration": 493,
    "start_time": "2023-09-23T04:04:08.818Z"
   },
   {
    "duration": 2601,
    "start_time": "2023-09-23T04:04:09.313Z"
   },
   {
    "duration": 6,
    "start_time": "2023-09-23T04:04:12.001Z"
   },
   {
    "duration": 95,
    "start_time": "2023-09-23T04:04:12.009Z"
   },
   {
    "duration": 100,
    "start_time": "2023-09-23T04:04:12.113Z"
   },
   {
    "duration": 307,
    "start_time": "2023-09-23T04:04:12.304Z"
   },
   {
    "duration": 95,
    "start_time": "2023-09-23T04:04:12.615Z"
   },
   {
    "duration": 201,
    "start_time": "2023-09-23T04:04:12.801Z"
   },
   {
    "duration": 200,
    "start_time": "2023-09-23T04:04:13.014Z"
   },
   {
    "duration": 1010,
    "start_time": "2023-09-23T04:04:13.312Z"
   },
   {
    "duration": 93,
    "start_time": "2023-09-23T04:04:14.324Z"
   },
   {
    "duration": 2183,
    "start_time": "2023-09-23T04:04:14.419Z"
   },
   {
    "duration": 10,
    "start_time": "2023-09-23T04:04:16.609Z"
   },
   {
    "duration": 88,
    "start_time": "2023-09-23T04:04:16.621Z"
   },
   {
    "duration": 97,
    "start_time": "2023-09-23T04:04:16.715Z"
   },
   {
    "duration": 288,
    "start_time": "2023-09-23T04:04:16.816Z"
   },
   {
    "duration": 196,
    "start_time": "2023-09-23T04:04:17.115Z"
   },
   {
    "duration": 4910,
    "start_time": "2023-09-23T04:04:17.408Z"
   },
   {
    "duration": 905,
    "start_time": "2023-09-23T04:04:22.401Z"
   },
   {
    "duration": 92,
    "start_time": "2023-09-23T04:04:23.313Z"
   },
   {
    "duration": 100,
    "start_time": "2023-09-23T04:04:23.413Z"
   },
   {
    "duration": 388,
    "start_time": "2023-09-23T04:04:23.516Z"
   },
   {
    "duration": 997,
    "start_time": "2023-09-23T04:04:23.907Z"
   },
   {
    "duration": 2005,
    "start_time": "2023-09-23T04:04:24.907Z"
   },
   {
    "duration": 94,
    "start_time": "2023-09-23T04:04:26.917Z"
   },
   {
    "duration": 100,
    "start_time": "2023-09-23T04:04:27.013Z"
   },
   {
    "duration": 386,
    "start_time": "2023-09-23T04:04:27.118Z"
   },
   {
    "duration": 101,
    "start_time": "2023-09-23T04:04:27.508Z"
   },
   {
    "duration": 12,
    "start_time": "2023-09-23T04:04:27.700Z"
   },
   {
    "duration": 90,
    "start_time": "2023-09-23T04:04:27.715Z"
   },
   {
    "duration": 97,
    "start_time": "2023-09-23T04:04:27.808Z"
   },
   {
    "duration": 99,
    "start_time": "2023-09-23T04:04:27.908Z"
   },
   {
    "duration": 7,
    "start_time": "2023-09-23T04:04:28.012Z"
   },
   {
    "duration": 284,
    "start_time": "2023-09-23T04:04:28.021Z"
   },
   {
    "duration": 111,
    "start_time": "2023-09-23T04:04:28.400Z"
   },
   {
    "duration": 12,
    "start_time": "2023-09-23T04:04:28.602Z"
   },
   {
    "duration": 21,
    "start_time": "2023-09-23T04:04:28.706Z"
   },
   {
    "duration": 116,
    "start_time": "2023-09-23T04:04:28.802Z"
   },
   {
    "duration": 203,
    "start_time": "2023-09-23T04:04:29.005Z"
   },
   {
    "duration": 197,
    "start_time": "2023-09-23T04:04:29.214Z"
   },
   {
    "duration": 194,
    "start_time": "2023-09-23T04:04:29.416Z"
   },
   {
    "duration": 97,
    "start_time": "2023-09-23T04:04:29.612Z"
   },
   {
    "duration": 95,
    "start_time": "2023-09-23T04:04:29.718Z"
   },
   {
    "duration": 97,
    "start_time": "2023-09-23T04:04:29.815Z"
   },
   {
    "duration": 201,
    "start_time": "2023-09-23T04:04:29.915Z"
   },
   {
    "duration": 185,
    "start_time": "2023-09-23T04:04:30.118Z"
   },
   {
    "duration": 100,
    "start_time": "2023-09-23T04:04:30.304Z"
   },
   {
    "duration": 98,
    "start_time": "2023-09-23T04:04:30.406Z"
   },
   {
    "duration": 33896,
    "start_time": "2023-09-23T04:04:30.506Z"
   },
   {
    "duration": 5,
    "start_time": "2023-09-23T04:05:04.404Z"
   },
   {
    "duration": 704,
    "start_time": "2023-09-23T04:05:04.412Z"
   },
   {
    "duration": 3598,
    "start_time": "2023-09-23T04:05:05.205Z"
   },
   {
    "duration": 9,
    "start_time": "2023-09-23T04:05:59.603Z"
   },
   {
    "duration": 701,
    "start_time": "2023-09-23T04:06:00.402Z"
   },
   {
    "duration": 2301,
    "start_time": "2023-09-23T04:06:07.602Z"
   },
   {
    "duration": 5655,
    "start_time": "2023-09-23T04:06:48.907Z"
   },
   {
    "duration": 77,
    "start_time": "2023-09-23T04:06:54.565Z"
   },
   {
    "duration": 14,
    "start_time": "2023-09-23T04:06:54.644Z"
   },
   {
    "duration": 47,
    "start_time": "2023-09-23T04:06:54.660Z"
   },
   {
    "duration": 9,
    "start_time": "2023-09-23T04:06:54.710Z"
   },
   {
    "duration": 180,
    "start_time": "2023-09-23T04:06:54.723Z"
   },
   {
    "duration": 408,
    "start_time": "2023-09-23T04:06:54.905Z"
   },
   {
    "duration": 520,
    "start_time": "2023-09-23T04:06:55.315Z"
   },
   {
    "duration": 5,
    "start_time": "2023-09-23T04:06:55.837Z"
   },
   {
    "duration": 27,
    "start_time": "2023-09-23T04:06:55.845Z"
   },
   {
    "duration": 37,
    "start_time": "2023-09-23T04:06:55.874Z"
   },
   {
    "duration": 28,
    "start_time": "2023-09-23T04:06:55.913Z"
   },
   {
    "duration": 130,
    "start_time": "2023-09-23T04:06:55.943Z"
   },
   {
    "duration": 82,
    "start_time": "2023-09-23T04:06:56.075Z"
   },
   {
    "duration": 342,
    "start_time": "2023-09-23T04:06:56.159Z"
   },
   {
    "duration": 5,
    "start_time": "2023-09-23T04:06:56.503Z"
   },
   {
    "duration": 43,
    "start_time": "2023-09-23T04:06:56.510Z"
   },
   {
    "duration": 37,
    "start_time": "2023-09-23T04:06:56.556Z"
   },
   {
    "duration": 55,
    "start_time": "2023-09-23T04:06:56.595Z"
   },
   {
    "duration": 8,
    "start_time": "2023-09-23T04:06:56.652Z"
   },
   {
    "duration": 80,
    "start_time": "2023-09-23T04:06:56.662Z"
   },
   {
    "duration": 16,
    "start_time": "2023-09-23T04:06:56.743Z"
   },
   {
    "duration": 161,
    "start_time": "2023-09-23T04:06:56.761Z"
   },
   {
    "duration": 9,
    "start_time": "2023-09-23T04:06:56.924Z"
   },
   {
    "duration": 316,
    "start_time": "2023-09-23T04:06:56.935Z"
   },
   {
    "duration": 5,
    "start_time": "2023-09-23T04:06:57.253Z"
   },
   {
    "duration": 17,
    "start_time": "2023-09-23T04:06:57.259Z"
   },
   {
    "duration": 29,
    "start_time": "2023-09-23T04:06:57.281Z"
   },
   {
    "duration": 63,
    "start_time": "2023-09-23T04:06:57.311Z"
   },
   {
    "duration": 21,
    "start_time": "2023-09-23T04:06:57.376Z"
   },
   {
    "duration": 890,
    "start_time": "2023-09-23T04:06:57.399Z"
   },
   {
    "duration": 142,
    "start_time": "2023-09-23T04:06:58.291Z"
   },
   {
    "duration": 6,
    "start_time": "2023-09-23T04:06:58.435Z"
   },
   {
    "duration": 15,
    "start_time": "2023-09-23T04:06:58.443Z"
   },
   {
    "duration": 63,
    "start_time": "2023-09-23T04:06:58.460Z"
   },
   {
    "duration": 167,
    "start_time": "2023-09-23T04:06:58.525Z"
   },
   {
    "duration": 253,
    "start_time": "2023-09-23T04:06:58.694Z"
   },
   {
    "duration": 5,
    "start_time": "2023-09-23T04:06:58.949Z"
   },
   {
    "duration": 25,
    "start_time": "2023-09-23T04:06:58.955Z"
   },
   {
    "duration": 55,
    "start_time": "2023-09-23T04:06:58.982Z"
   },
   {
    "duration": 7,
    "start_time": "2023-09-23T04:06:59.039Z"
   },
   {
    "duration": 9,
    "start_time": "2023-09-23T04:06:59.048Z"
   },
   {
    "duration": 7,
    "start_time": "2023-09-23T04:06:59.059Z"
   },
   {
    "duration": 23,
    "start_time": "2023-09-23T04:06:59.068Z"
   },
   {
    "duration": 35,
    "start_time": "2023-09-23T04:06:59.093Z"
   },
   {
    "duration": 31,
    "start_time": "2023-09-23T04:06:59.131Z"
   },
   {
    "duration": 35,
    "start_time": "2023-09-23T04:06:59.165Z"
   },
   {
    "duration": 15,
    "start_time": "2023-09-23T04:06:59.202Z"
   },
   {
    "duration": 23,
    "start_time": "2023-09-23T04:06:59.219Z"
   },
   {
    "duration": 14,
    "start_time": "2023-09-23T04:06:59.245Z"
   },
   {
    "duration": 64,
    "start_time": "2023-09-23T04:06:59.261Z"
   },
   {
    "duration": 31,
    "start_time": "2023-09-23T04:06:59.326Z"
   },
   {
    "duration": 20,
    "start_time": "2023-09-23T04:06:59.359Z"
   },
   {
    "duration": 22,
    "start_time": "2023-09-23T04:06:59.381Z"
   },
   {
    "duration": 20,
    "start_time": "2023-09-23T04:06:59.405Z"
   },
   {
    "duration": 12,
    "start_time": "2023-09-23T04:06:59.427Z"
   },
   {
    "duration": 33,
    "start_time": "2023-09-23T04:06:59.440Z"
   },
   {
    "duration": 53,
    "start_time": "2023-09-23T04:06:59.475Z"
   },
   {
    "duration": 5,
    "start_time": "2023-09-23T04:06:59.530Z"
   },
   {
    "duration": 8,
    "start_time": "2023-09-23T04:06:59.537Z"
   },
   {
    "duration": 26,
    "start_time": "2023-09-23T04:06:59.546Z"
   },
   {
    "duration": 4584,
    "start_time": "2023-09-23T04:06:59.574Z"
   },
   {
    "duration": 4,
    "start_time": "2023-09-23T04:07:04.160Z"
   },
   {
    "duration": 134,
    "start_time": "2023-09-23T04:07:04.167Z"
   },
   {
    "duration": 5,
    "start_time": "2023-09-23T04:07:04.303Z"
   },
   {
    "duration": 7,
    "start_time": "2023-09-23T04:07:26.383Z"
   },
   {
    "duration": 985,
    "start_time": "2023-09-23T04:07:55.323Z"
   },
   {
    "duration": 1491421,
    "start_time": "2023-09-23T04:08:24.647Z"
   },
   {
    "duration": 6811173,
    "start_time": "2023-09-23T04:33:16.070Z"
   },
   {
    "duration": 0,
    "start_time": "2023-09-23T06:26:47.244Z"
   },
   {
    "duration": 12,
    "start_time": "2023-09-23T06:27:16.937Z"
   },
   {
    "duration": 449197,
    "start_time": "2023-09-23T06:27:50.829Z"
   },
   {
    "duration": 13,
    "start_time": "2023-09-23T06:35:24.025Z"
   },
   {
    "duration": 147383,
    "start_time": "2023-09-23T06:35:26.734Z"
   },
   {
    "duration": 314,
    "start_time": "2023-09-23T06:38:18.447Z"
   }
  ],
  "kernelspec": {
   "display_name": "Python 3 (ipykernel)",
   "language": "python",
   "name": "python3"
  },
  "language_info": {
   "codemirror_mode": {
    "name": "ipython",
    "version": 3
   },
   "file_extension": ".py",
   "mimetype": "text/x-python",
   "name": "python",
   "nbconvert_exporter": "python",
   "pygments_lexer": "ipython3",
   "version": "3.9.5"
  },
  "toc": {
   "base_numbering": 1,
   "nav_menu": {},
   "number_sections": true,
   "sideBar": true,
   "skip_h1_title": true,
   "title_cell": "Table of Contents",
   "title_sidebar": "Contents",
   "toc_cell": false,
   "toc_position": {},
   "toc_section_display": true,
   "toc_window_display": false
  }
 },
 "nbformat": 4,
 "nbformat_minor": 2
}
