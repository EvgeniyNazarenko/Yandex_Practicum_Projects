{
 "cells": [
  {
   "cell_type": "markdown",
   "metadata": {},
   "source": [
    "# Рекомендация тарифов"
   ]
  },
  {
   "cell_type": "markdown",
   "metadata": {},
   "source": [
    "В вашем распоряжении данные о поведении клиентов, которые уже перешли на эти тарифы (из проекта курса «Статистический анализ данных»). Нужно построить модель для задачи классификации, которая выберет подходящий тариф. Предобработка данных не понадобится — вы её уже сделали.\n",
    "\n",
    "Постройте модель с максимально большим значением *accuracy*. Чтобы сдать проект успешно, нужно довести долю правильных ответов по крайней мере до 0.75. Проверьте *accuracy* на тестовой выборке самостоятельно."
   ]
  },
  {
   "cell_type": "markdown",
   "metadata": {},
   "source": [
    "## Откройте и изучите файл"
   ]
  },
  {
   "cell_type": "code",
   "execution_count": 1,
   "metadata": {},
   "outputs": [
    {
     "data": {
      "text/html": [
       "<div>\n",
       "<style scoped>\n",
       "    .dataframe tbody tr th:only-of-type {\n",
       "        vertical-align: middle;\n",
       "    }\n",
       "\n",
       "    .dataframe tbody tr th {\n",
       "        vertical-align: top;\n",
       "    }\n",
       "\n",
       "    .dataframe thead th {\n",
       "        text-align: right;\n",
       "    }\n",
       "</style>\n",
       "<table border=\"1\" class=\"dataframe\">\n",
       "  <thead>\n",
       "    <tr style=\"text-align: right;\">\n",
       "      <th></th>\n",
       "      <th>calls</th>\n",
       "      <th>minutes</th>\n",
       "      <th>messages</th>\n",
       "      <th>mb_used</th>\n",
       "      <th>is_ultra</th>\n",
       "    </tr>\n",
       "  </thead>\n",
       "  <tbody>\n",
       "    <tr>\n",
       "      <th>0</th>\n",
       "      <td>40.0</td>\n",
       "      <td>311.90</td>\n",
       "      <td>83.0</td>\n",
       "      <td>19915.42</td>\n",
       "      <td>0</td>\n",
       "    </tr>\n",
       "    <tr>\n",
       "      <th>1</th>\n",
       "      <td>85.0</td>\n",
       "      <td>516.75</td>\n",
       "      <td>56.0</td>\n",
       "      <td>22696.96</td>\n",
       "      <td>0</td>\n",
       "    </tr>\n",
       "    <tr>\n",
       "      <th>2</th>\n",
       "      <td>77.0</td>\n",
       "      <td>467.66</td>\n",
       "      <td>86.0</td>\n",
       "      <td>21060.45</td>\n",
       "      <td>0</td>\n",
       "    </tr>\n",
       "    <tr>\n",
       "      <th>3</th>\n",
       "      <td>106.0</td>\n",
       "      <td>745.53</td>\n",
       "      <td>81.0</td>\n",
       "      <td>8437.39</td>\n",
       "      <td>1</td>\n",
       "    </tr>\n",
       "    <tr>\n",
       "      <th>4</th>\n",
       "      <td>66.0</td>\n",
       "      <td>418.74</td>\n",
       "      <td>1.0</td>\n",
       "      <td>14502.75</td>\n",
       "      <td>0</td>\n",
       "    </tr>\n",
       "  </tbody>\n",
       "</table>\n",
       "</div>"
      ],
      "text/plain": [
       "   calls  minutes  messages   mb_used  is_ultra\n",
       "0   40.0   311.90      83.0  19915.42         0\n",
       "1   85.0   516.75      56.0  22696.96         0\n",
       "2   77.0   467.66      86.0  21060.45         0\n",
       "3  106.0   745.53      81.0   8437.39         1\n",
       "4   66.0   418.74       1.0  14502.75         0"
      ]
     },
     "execution_count": 1,
     "metadata": {},
     "output_type": "execute_result"
    }
   ],
   "source": [
    "import pandas as pd\n",
    "df=pd.read_csv('/datasets/users_behavior.csv')# открываем файл\n",
    "df.head()"
   ]
  },
  {
   "cell_type": "markdown",
   "metadata": {},
   "source": [
    "Описание данных\n",
    "\n",
    "-сalls — количество звонков\n",
    "\n",
    "-minutes — суммарная длительность звонков в минутах\n",
    "\n",
    "-messages — количество sms-сообщений\n",
    "\n",
    "-mb_used — израсходованный интернет-трафик в Мб\n",
    "\n",
    "is_ultra — каким тарифом пользовался в течение месяца («Ультра» — 1, «Смарт» — 0).-"
   ]
  },
  {
   "cell_type": "code",
   "execution_count": 2,
   "metadata": {},
   "outputs": [
    {
     "name": "stdout",
     "output_type": "stream",
     "text": [
      "<class 'pandas.core.frame.DataFrame'>\n",
      "RangeIndex: 3214 entries, 0 to 3213\n",
      "Data columns (total 5 columns):\n",
      " #   Column    Non-Null Count  Dtype  \n",
      "---  ------    --------------  -----  \n",
      " 0   calls     3214 non-null   float64\n",
      " 1   minutes   3214 non-null   float64\n",
      " 2   messages  3214 non-null   float64\n",
      " 3   mb_used   3214 non-null   float64\n",
      " 4   is_ultra  3214 non-null   int64  \n",
      "dtypes: float64(4), int64(1)\n",
      "memory usage: 125.7 KB\n"
     ]
    }
   ],
   "source": [
    "df.info()"
   ]
  },
  {
   "cell_type": "code",
   "execution_count": 3,
   "metadata": {},
   "outputs": [],
   "source": [
    "df['calls']=df['calls'].astype('int')# Изменим данные в количестве звонков на целочисленный.\n",
    "df['messages']=df['messages'].astype('int')# Изменим данные в количестве сообщений на целочисленный."
   ]
  },
  {
   "cell_type": "markdown",
   "metadata": {},
   "source": [
    "Пропущенных значений нет.Проверим на дубликаты."
   ]
  },
  {
   "cell_type": "code",
   "execution_count": 4,
   "metadata": {},
   "outputs": [
    {
     "data": {
      "text/plain": [
       "0"
      ]
     },
     "execution_count": 4,
     "metadata": {},
     "output_type": "execute_result"
    }
   ],
   "source": [
    "df.duplicated().sum()"
   ]
  },
  {
   "cell_type": "markdown",
   "metadata": {},
   "source": [
    "Итак, в данных нет дубликатов,все значения заполнены,все данные имеют нужный тип. Можно начинать обучение."
   ]
  },
  {
   "cell_type": "markdown",
   "metadata": {},
   "source": [
    "## Разбейте данные на выборки"
   ]
  },
  {
   "cell_type": "markdown",
   "metadata": {},
   "source": [
    "Разобьем данные по правилу 70-20-10 (70% для обучения, 20% для проверки, 10% для тестирования)."
   ]
  },
  {
   "cell_type": "code",
   "execution_count": 5,
   "metadata": {},
   "outputs": [
    {
     "name": "stdout",
     "output_type": "stream",
     "text": [
      "Размер тренировочной выборки (2249, 4)\n",
      "Размер валидационной выборки (627, 4)\n",
      "Размер тестовой выборки (338, 4)\n"
     ]
    }
   ],
   "source": [
    "# Загрузим необходимую библиотеку.\n",
    "from sklearn.model_selection import train_test_split\n",
    "# Разобьем сначала на обучающее и проверочное \n",
    "df_train, df_test = train_test_split(df, test_size=0.3, random_state=12345)\n",
    "features = df_test.drop('is_ultra', axis=1)\n",
    "target = df_test['is_ultra']\n",
    "# Теперь проверочную выборку разобьем на валидационную и тестовую\n",
    "features_valid, features_test, target_valid, target_test = train_test_split(features, target, test_size=0.35, random_state=12345)\n",
    "features_train = df_train.drop('is_ultra', axis=1)\n",
    "target_train = df_train['is_ultra']\n",
    "print(\"Размер тренировочной выборки\", features_train.shape)\n",
    "print(\"Размер валидационной выборки\",features_valid.shape)\n",
    "print(\"Размер тестовой выборки\",features_test.shape)\n"
   ]
  },
  {
   "cell_type": "markdown",
   "metadata": {},
   "source": [
    "## Исследуйте модели"
   ]
  },
  {
   "cell_type": "markdown",
   "metadata": {},
   "source": [
    "1.Модель логистической регрессии. В данной модели будем использовать следущие гиперпараметры:random_state(для постоянства результата равный 12345).solver='lbfgs'(алгоритм, который будет строить модель. Алгоритм 'lbfgs' — один из самых распространённых. Он подходит для большинства задач), max_iter (задаётся максимальное количество итераций обучения)\n",
    "\n",
    "Поскольку перед нами задача классификации(«Ультра» — 1, «Смарт» — 0) во всех моделях мы будем использовать метрику качества Accurancy"
   ]
  },
  {
   "cell_type": "code",
   "execution_count": 6,
   "metadata": {},
   "outputs": [
    {
     "name": "stdout",
     "output_type": "stream",
     "text": [
      "Качество модели: 0.6953748006379585\n"
     ]
    }
   ],
   "source": [
    "#Загрузим необходимую библиотеку\n",
    "from sklearn.linear_model import LogisticRegression\n",
    "model = LogisticRegression(solver='liblinear',max_iter=1000)\n",
    "model.fit(features_train, target_train)\n",
    "accuracy = model.score(features_valid, target_valid)\n",
    "print(\"Качество модели:\", accuracy)"
   ]
  },
  {
   "cell_type": "markdown",
   "metadata": {},
   "source": [
    "2.Модель дерево решения. Здесь в качестве гиперпарамеиров используем random_state и переберем различную глубину дерева решений для нахождения параметра модели с самым высоким параметром точности."
   ]
  },
  {
   "cell_type": "code",
   "execution_count": 7,
   "metadata": {},
   "outputs": [
    {
     "name": "stdout",
     "output_type": "stream",
     "text": [
      "Глубина дерева: 8 Sample_leaf: 14 sample_split 14  Качество модели: 0.7942583732057417\n"
     ]
    }
   ],
   "source": [
    "from sklearn.tree import DecisionTreeClassifier\n",
    "best_accuracy = 0\n",
    "best_depth = 0\n",
    "best_sample_leaf = 0\n",
    "best_sample_split = 0\n",
    "for depth in range(1,15):\n",
    "    for sample_leaf in range (1,15):\n",
    "        for sample_split in range (2,15):\n",
    "            model = DecisionTreeClassifier(max_depth=depth,min_samples_leaf = sample_leaf,min_samples_split=sample_split,random_state=12345)\n",
    "            model.fit(features_train, target_train)\n",
    "    accuracy = model.score(features_valid, target_valid)\n",
    "    if accuracy > best_accuracy:\n",
    "        best_accuracy = accuracy\n",
    "        best_depth = depth\n",
    "        best_sample_leaf = sample_leaf\n",
    "        best_sample_split = sample_split\n",
    "print(\"Глубина дерева:\", best_depth,\"Sample_leaf:\",best_sample_leaf,\"sample_split\",best_sample_split ,\" Качество модели:\", best_accuracy)"
   ]
  },
  {
   "cell_type": "markdown",
   "metadata": {},
   "source": [
    "3.Модель случайный лес. Здесь гиперпараметрами выступят:random_state=12345(Зафиксируем псевдослучайность).\n",
    "\n",
    "n_estimators - число деревьев в случайном лесу.Чем их больше,тем лучше обучение, но увеличение может сказаться на производительности. По умолчанию равен 100,но с учетом использования еще одного гиперпараметра ,увеличивающимй время расчета, снизим это значение до 25.\n",
    "\n",
    "max_depth - максимальная глубина этих деревьев.Здесь также при увеличении глубины возрастает качество и время расчета.По умолчанию параметр равен None."
   ]
  },
  {
   "cell_type": "code",
   "execution_count": 8,
   "metadata": {},
   "outputs": [
    {
     "name": "stdout",
     "output_type": "stream",
     "text": [
      "Глубина дерева: 8 Количество деревьев: 11 Количество выборок для разделения модели: 4 Качество модели: 0.8165869218500797\n"
     ]
    }
   ],
   "source": [
    "from sklearn.ensemble import RandomForestClassifier\n",
    "best_accuracy = 0\n",
    "best_depth = 0\n",
    "best_sample_split = 0\n",
    "\n",
    "for depth in range(1,25):\n",
    "    for est in range(1,25):\n",
    "        for sample_split in range (2,5):\n",
    "            model = RandomForestClassifier(max_depth=depth, n_estimators=est,min_samples_split=sample_split,random_state=12345)                              \n",
    "            model.fit(features_train, target_train)\n",
    "            accuracy = model.score(features_valid, target_valid)\n",
    "        if accuracy > best_accuracy:\n",
    "                best_accuracy = accuracy\n",
    "                best_depth = depth\n",
    "                best_est = est\n",
    "                best_sample_split = sample_split\n",
    "                \n",
    "print(\"Глубина дерева:\", best_depth, \"Количество деревьев:\",best_est,\"Количество выборок для разделения модели:\",best_sample_split, \"Качество модели:\", best_accuracy)"
   ]
  },
  {
   "cell_type": "markdown",
   "metadata": {},
   "source": [
    "По итогам обучения на 2х моделях удалось достичь уровня точности выше 75. Это модели дерева решений и случайного леса.Проведем проверку на тестовой выборке c учетом параметров моделей самой высокой точности."
   ]
  },
  {
   "cell_type": "markdown",
   "metadata": {},
   "source": [
    "## Проверьте модель на тестовой выборке"
   ]
  },
  {
   "cell_type": "code",
   "execution_count": 9,
   "metadata": {},
   "outputs": [
    {
     "name": "stdout",
     "output_type": "stream",
     "text": [
      "Качество модели логистической регрессии: 0.6982248520710059\n",
      "Качество модели дерева решений: 0.7781065088757396\n",
      "Качество модели случайного леса: 0.8076923076923077\n"
     ]
    }
   ],
   "source": [
    "#Модель логистической регрессии\n",
    "model = LogisticRegression(solver='lbfgs',max_iter=1000)\n",
    "model.fit(features_train, target_train)\n",
    "accuracy = model.score(features_test, target_test)\n",
    "print(\"Качество модели логистической регрессии:\", accuracy)\n",
    "#Модель дерева решений\n",
    "model = DecisionTreeClassifier(max_depth=3,min_samples_leaf =14,min_samples_split=14, random_state=12345)\n",
    "model.fit(features_train, target_train)\n",
    "accuracy = model.score(features_test, target_test)\n",
    "print(\"Качество модели дерева решений:\", accuracy)\n",
    "#Модель случайного леса\n",
    "model = RandomForestClassifier(max_depth=8, n_estimators=11,min_samples_split=4,random_state=12345)\n",
    "model.fit(features_train, target_train)\n",
    "accuracy = model.score(features_test, target_test)\n",
    "print(\"Качество модели случайного леса:\", accuracy)"
   ]
  },
  {
   "cell_type": "markdown",
   "metadata": {},
   "source": [
    "На тестовой выборке также максимальная точность у модели случайного леса с показателем 0.804."
   ]
  },
  {
   "cell_type": "markdown",
   "metadata": {},
   "source": [
    "## (бонус) Проверьте модели на адекватность"
   ]
  },
  {
   "cell_type": "markdown",
   "metadata": {},
   "source": [
    "Для проверки адекватности воспользуемся встроенным модулем DummyClassifier, который построит простейшую (dummy)  модель, которая всегда предсказывает наиболее часто встречающийся класс(для этого мы используем стратегию 'most_frequent').Мы получим Accurancy для сравнительной оценки построенной  модели."
   ]
  },
  {
   "cell_type": "code",
   "execution_count": 10,
   "metadata": {},
   "outputs": [
    {
     "name": "stdout",
     "output_type": "stream",
     "text": [
      "DummyClassifier accurancy: 0.6985645933014354\n"
     ]
    }
   ],
   "source": [
    "from sklearn.dummy import DummyClassifier\n",
    "dc = DummyClassifier(strategy='most_frequent', random_state=12345)\n",
    "dc.fit(features_train, target_train)\n",
    "score_dc = dc.score(features_valid,  target_valid)\n",
    "print('DummyClassifier accurancy:', score_dc)"
   ]
  },
  {
   "cell_type": "markdown",
   "metadata": {},
   "source": [
    "Точность модели DummyClassifier ниже, чем у построенной модели случайного леса модель адекватна и эффективна."
   ]
  },
  {
   "cell_type": "markdown",
   "metadata": {},
   "source": [
    "## Выводы\n",
    "\n",
    "\n",
    "-В ходе исследования нами были построены и проверены на точность 3 модели: Decision Tree Classifier, RandomForestClassifier и Logistic Regression.\n",
    "\n",
    "-Самой точной оказалась модель RandomForestClassifier с гиперпарамеирами max_depth = 8, n_estimators = 7. Accurancy на тестовой выборке составила 0.804.\n",
    "\n",
    "- Также была построена базовая модель для проверки вменяемости с помощью DummyClassifier. Accurancy этой модели составила 0.69,что подтвердило качество построенной модели. "
   ]
  }
 ],
 "metadata": {
  "ExecuteTimeLog": [
   {
    "duration": 129,
    "start_time": "2023-04-19T20:08:17.804Z"
   },
   {
    "duration": 572,
    "start_time": "2023-04-19T20:08:23.533Z"
   },
   {
    "duration": 236,
    "start_time": "2023-04-19T20:10:21.201Z"
   },
   {
    "duration": 17,
    "start_time": "2023-04-19T20:19:34.134Z"
   },
   {
    "duration": 71,
    "start_time": "2023-04-19T20:25:06.454Z"
   },
   {
    "duration": 14,
    "start_time": "2023-04-19T20:27:04.492Z"
   },
   {
    "duration": 16,
    "start_time": "2023-04-19T20:32:40.900Z"
   },
   {
    "duration": 4,
    "start_time": "2023-04-19T20:33:04.516Z"
   },
   {
    "duration": 8,
    "start_time": "2023-04-19T20:34:25.801Z"
   },
   {
    "duration": 549,
    "start_time": "2023-04-20T13:54:10.245Z"
   },
   {
    "duration": 12,
    "start_time": "2023-04-20T13:54:10.795Z"
   },
   {
    "duration": 28,
    "start_time": "2023-04-20T13:54:10.808Z"
   },
   {
    "duration": 13,
    "start_time": "2023-04-20T13:54:10.839Z"
   },
   {
    "duration": 868,
    "start_time": "2023-04-20T14:32:27.018Z"
   },
   {
    "duration": 11,
    "start_time": "2023-04-20T14:35:19.136Z"
   },
   {
    "duration": 13,
    "start_time": "2023-04-20T14:35:44.781Z"
   },
   {
    "duration": 9,
    "start_time": "2023-04-20T14:38:29.500Z"
   },
   {
    "duration": 10,
    "start_time": "2023-04-20T14:40:28.739Z"
   },
   {
    "duration": 11,
    "start_time": "2023-04-20T14:41:02.275Z"
   },
   {
    "duration": 10,
    "start_time": "2023-04-20T14:42:33.300Z"
   },
   {
    "duration": 10,
    "start_time": "2023-04-20T14:44:04.296Z"
   },
   {
    "duration": 11,
    "start_time": "2023-04-20T14:44:56.610Z"
   },
   {
    "duration": 98,
    "start_time": "2023-04-20T14:45:32.725Z"
   },
   {
    "duration": 11,
    "start_time": "2023-04-20T14:45:41.432Z"
   },
   {
    "duration": 53,
    "start_time": "2023-04-20T14:52:19.824Z"
   },
   {
    "duration": 143,
    "start_time": "2023-04-20T14:57:12.321Z"
   },
   {
    "duration": 71,
    "start_time": "2023-04-20T14:57:30.973Z"
   },
   {
    "duration": 71,
    "start_time": "2023-04-20T14:57:49.071Z"
   },
   {
    "duration": 111,
    "start_time": "2023-04-20T14:59:45.016Z"
   },
   {
    "duration": 491,
    "start_time": "2023-04-20T15:01:55.875Z"
   },
   {
    "duration": 10,
    "start_time": "2023-04-20T15:01:56.368Z"
   },
   {
    "duration": 26,
    "start_time": "2023-04-20T15:01:56.380Z"
   },
   {
    "duration": 13,
    "start_time": "2023-04-20T15:01:56.408Z"
   },
   {
    "duration": 827,
    "start_time": "2023-04-20T15:01:56.424Z"
   },
   {
    "duration": 48,
    "start_time": "2023-04-20T15:01:57.253Z"
   },
   {
    "duration": 102,
    "start_time": "2023-04-20T15:01:57.303Z"
   },
   {
    "duration": 14553,
    "start_time": "2023-04-20T15:01:57.407Z"
   },
   {
    "duration": 101,
    "start_time": "2023-04-20T15:06:51.974Z"
   },
   {
    "duration": 13924,
    "start_time": "2023-04-20T15:07:04.048Z"
   },
   {
    "duration": 13509,
    "start_time": "2023-04-20T15:07:31.969Z"
   },
   {
    "duration": 515,
    "start_time": "2023-04-20T16:49:31.099Z"
   },
   {
    "duration": 11,
    "start_time": "2023-04-20T16:49:31.616Z"
   },
   {
    "duration": 14,
    "start_time": "2023-04-20T16:49:31.628Z"
   },
   {
    "duration": 18,
    "start_time": "2023-04-20T16:49:31.644Z"
   },
   {
    "duration": 677,
    "start_time": "2023-04-20T16:49:31.664Z"
   },
   {
    "duration": 36,
    "start_time": "2023-04-20T16:49:32.342Z"
   },
   {
    "duration": 80,
    "start_time": "2023-04-20T16:49:32.382Z"
   },
   {
    "duration": 12772,
    "start_time": "2023-04-20T16:49:32.464Z"
   },
   {
    "duration": 20,
    "start_time": "2023-04-20T16:50:04.204Z"
   },
   {
    "duration": 113,
    "start_time": "2023-04-20T17:20:26.921Z"
   },
   {
    "duration": 70,
    "start_time": "2023-04-20T17:20:40.706Z"
   },
   {
    "duration": 181,
    "start_time": "2023-04-20T17:22:01.680Z"
   },
   {
    "duration": 107,
    "start_time": "2023-04-20T17:23:49.109Z"
   },
   {
    "duration": 4222,
    "start_time": "2023-04-20T17:40:11.874Z"
   },
   {
    "duration": 1316,
    "start_time": "2023-04-20T17:42:01.594Z"
   },
   {
    "duration": 5837,
    "start_time": "2023-04-20T17:50:02.087Z"
   },
   {
    "duration": 9799,
    "start_time": "2023-04-20T17:53:26.068Z"
   },
   {
    "duration": 26955,
    "start_time": "2023-04-20T18:11:31.384Z"
   },
   {
    "duration": 33,
    "start_time": "2023-04-20T18:44:34.831Z"
   },
   {
    "duration": 21,
    "start_time": "2023-04-20T18:45:31.804Z"
   },
   {
    "duration": 23,
    "start_time": "2023-04-20T18:46:42.309Z"
   },
   {
    "duration": 62,
    "start_time": "2023-04-20T18:48:55.985Z"
   },
   {
    "duration": 55,
    "start_time": "2023-04-20T18:51:28.212Z"
   },
   {
    "duration": 55,
    "start_time": "2023-04-20T18:51:39.555Z"
   },
   {
    "duration": 491,
    "start_time": "2023-04-20T19:05:16.745Z"
   },
   {
    "duration": 11,
    "start_time": "2023-04-20T19:05:17.238Z"
   },
   {
    "duration": 38,
    "start_time": "2023-04-20T19:05:17.251Z"
   },
   {
    "duration": 31,
    "start_time": "2023-04-20T19:05:17.291Z"
   },
   {
    "duration": 752,
    "start_time": "2023-04-20T19:05:17.324Z"
   },
   {
    "duration": 44,
    "start_time": "2023-04-20T19:05:18.078Z"
   },
   {
    "duration": 152,
    "start_time": "2023-04-20T19:05:18.124Z"
   },
   {
    "duration": 28493,
    "start_time": "2023-04-20T19:05:18.278Z"
   },
   {
    "duration": 70,
    "start_time": "2023-04-20T19:05:46.773Z"
   },
   {
    "duration": 479,
    "start_time": "2023-04-21T10:26:51.801Z"
   },
   {
    "duration": 12,
    "start_time": "2023-04-21T10:26:52.283Z"
   },
   {
    "duration": 5,
    "start_time": "2023-04-21T10:26:52.297Z"
   },
   {
    "duration": 7,
    "start_time": "2023-04-21T10:26:52.305Z"
   },
   {
    "duration": 700,
    "start_time": "2023-04-21T10:26:52.313Z"
   },
   {
    "duration": 37,
    "start_time": "2023-04-21T10:26:53.015Z"
   },
   {
    "duration": 134,
    "start_time": "2023-04-21T10:26:53.053Z"
   },
   {
    "duration": 26595,
    "start_time": "2023-04-21T10:26:53.189Z"
   },
   {
    "duration": 53,
    "start_time": "2023-04-21T10:27:19.786Z"
   },
   {
    "duration": 99,
    "start_time": "2023-04-21T10:44:32.910Z"
   },
   {
    "duration": 11,
    "start_time": "2023-04-21T10:44:56.739Z"
   },
   {
    "duration": 6,
    "start_time": "2023-04-21T10:45:09.569Z"
   },
   {
    "duration": 6,
    "start_time": "2023-04-21T10:46:57.916Z"
   },
   {
    "duration": 6,
    "start_time": "2023-04-21T11:05:56.870Z"
   },
   {
    "duration": 442,
    "start_time": "2023-04-21T11:39:36.461Z"
   },
   {
    "duration": 13,
    "start_time": "2023-04-21T11:39:36.906Z"
   },
   {
    "duration": 5,
    "start_time": "2023-04-21T11:39:36.920Z"
   },
   {
    "duration": 7,
    "start_time": "2023-04-21T11:39:36.927Z"
   },
   {
    "duration": 672,
    "start_time": "2023-04-21T11:39:36.936Z"
   },
   {
    "duration": 35,
    "start_time": "2023-04-21T11:39:37.609Z"
   },
   {
    "duration": 139,
    "start_time": "2023-04-21T11:39:37.645Z"
   },
   {
    "duration": 26657,
    "start_time": "2023-04-21T11:39:37.786Z"
   },
   {
    "duration": 52,
    "start_time": "2023-04-21T11:40:04.444Z"
   },
   {
    "duration": 6,
    "start_time": "2023-04-21T11:40:04.499Z"
   },
   {
    "duration": 49,
    "start_time": "2023-04-21T13:26:32.412Z"
   },
   {
    "duration": 1570,
    "start_time": "2023-04-21T13:26:49.624Z"
   },
   {
    "duration": 97,
    "start_time": "2023-04-21T13:34:48.104Z"
   },
   {
    "duration": 1250,
    "start_time": "2023-04-21T13:35:43.400Z"
   },
   {
    "duration": 414,
    "start_time": "2023-04-21T13:36:20.591Z"
   },
   {
    "duration": 12,
    "start_time": "2023-04-21T13:36:21.008Z"
   },
   {
    "duration": 10,
    "start_time": "2023-04-21T13:36:21.021Z"
   },
   {
    "duration": 6,
    "start_time": "2023-04-21T13:36:21.033Z"
   },
   {
    "duration": 670,
    "start_time": "2023-04-21T13:36:21.042Z"
   },
   {
    "duration": 37,
    "start_time": "2023-04-21T13:36:21.713Z"
   },
   {
    "duration": 1251,
    "start_time": "2023-04-21T13:36:21.751Z"
   },
   {
    "duration": 26518,
    "start_time": "2023-04-21T13:36:23.004Z"
   },
   {
    "duration": 64,
    "start_time": "2023-04-21T13:36:49.524Z"
   },
   {
    "duration": 7,
    "start_time": "2023-04-21T13:36:49.590Z"
   },
   {
    "duration": 50,
    "start_time": "2023-04-21T13:37:26.447Z"
   },
   {
    "duration": 15152,
    "start_time": "2023-04-21T13:47:07.151Z"
   },
   {
    "duration": 15366,
    "start_time": "2023-04-21T13:49:39.763Z"
   },
   {
    "duration": 32,
    "start_time": "2023-04-21T13:51:21.818Z"
   },
   {
    "duration": 55,
    "start_time": "2023-04-21T13:53:04.159Z"
   },
   {
    "duration": 50,
    "start_time": "2023-04-21T13:53:16.786Z"
   },
   {
    "duration": 63,
    "start_time": "2023-04-21T13:53:30.820Z"
   },
   {
    "duration": 435,
    "start_time": "2023-04-21T13:59:40.260Z"
   },
   {
    "duration": 11,
    "start_time": "2023-04-21T13:59:40.697Z"
   },
   {
    "duration": 15,
    "start_time": "2023-04-21T13:59:40.710Z"
   },
   {
    "duration": 9,
    "start_time": "2023-04-21T13:59:40.726Z"
   },
   {
    "duration": 658,
    "start_time": "2023-04-21T13:59:40.737Z"
   },
   {
    "duration": 41,
    "start_time": "2023-04-21T13:59:41.397Z"
   },
   {
    "duration": 15667,
    "start_time": "2023-04-21T13:59:41.440Z"
   },
   {
    "duration": 26453,
    "start_time": "2023-04-21T13:59:57.109Z"
   },
   {
    "duration": 53,
    "start_time": "2023-04-21T14:00:23.564Z"
   },
   {
    "duration": 5,
    "start_time": "2023-04-21T14:00:23.619Z"
   },
   {
    "duration": 524,
    "start_time": "2023-04-21T19:15:27.538Z"
   },
   {
    "duration": 12,
    "start_time": "2023-04-21T19:15:28.064Z"
   },
   {
    "duration": 10,
    "start_time": "2023-04-21T19:15:28.078Z"
   },
   {
    "duration": 14,
    "start_time": "2023-04-21T19:15:28.090Z"
   },
   {
    "duration": 693,
    "start_time": "2023-04-21T19:15:28.105Z"
   },
   {
    "duration": 34,
    "start_time": "2023-04-21T19:15:28.799Z"
   },
   {
    "duration": 14684,
    "start_time": "2023-04-21T19:15:28.835Z"
   },
   {
    "duration": 26096,
    "start_time": "2023-04-21T19:15:43.521Z"
   },
   {
    "duration": 58,
    "start_time": "2023-04-21T19:16:09.618Z"
   },
   {
    "duration": 5,
    "start_time": "2023-04-21T19:16:09.679Z"
   },
   {
    "duration": 108,
    "start_time": "2023-04-21T19:55:39.145Z"
   },
   {
    "duration": 14914,
    "start_time": "2023-04-21T19:57:16.730Z"
   },
   {
    "duration": 459,
    "start_time": "2023-04-21T20:00:51.903Z"
   },
   {
    "duration": 12,
    "start_time": "2023-04-21T20:00:52.364Z"
   },
   {
    "duration": 24,
    "start_time": "2023-04-21T20:00:52.377Z"
   },
   {
    "duration": 26,
    "start_time": "2023-04-21T20:00:52.403Z"
   },
   {
    "duration": 663,
    "start_time": "2023-04-21T20:00:52.431Z"
   },
   {
    "duration": 42,
    "start_time": "2023-04-21T20:00:53.096Z"
   },
   {
    "duration": 14912,
    "start_time": "2023-04-21T20:00:53.140Z"
   },
   {
    "duration": 79828,
    "start_time": "2023-04-21T20:01:08.054Z"
   },
   {
    "duration": 65,
    "start_time": "2023-04-21T20:02:27.884Z"
   },
   {
    "duration": 5,
    "start_time": "2023-04-21T20:02:27.952Z"
   },
   {
    "duration": 72,
    "start_time": "2023-04-21T20:06:57.183Z"
   },
   {
    "duration": 407,
    "start_time": "2023-04-21T20:08:50.475Z"
   },
   {
    "duration": 11,
    "start_time": "2023-04-21T20:08:50.884Z"
   },
   {
    "duration": 14,
    "start_time": "2023-04-21T20:08:50.896Z"
   },
   {
    "duration": 29,
    "start_time": "2023-04-21T20:08:50.912Z"
   },
   {
    "duration": 691,
    "start_time": "2023-04-21T20:08:50.943Z"
   },
   {
    "duration": 36,
    "start_time": "2023-04-21T20:08:51.636Z"
   },
   {
    "duration": 14907,
    "start_time": "2023-04-21T20:08:51.673Z"
   },
   {
    "duration": 310814,
    "start_time": "2023-04-21T20:09:06.582Z"
   },
   {
    "duration": 66,
    "start_time": "2023-04-21T20:14:17.397Z"
   },
   {
    "duration": 6,
    "start_time": "2023-04-21T20:14:17.465Z"
   },
   {
    "duration": 396,
    "start_time": "2023-04-21T20:15:13.591Z"
   },
   {
    "duration": 11,
    "start_time": "2023-04-21T20:15:13.988Z"
   },
   {
    "duration": 7,
    "start_time": "2023-04-21T20:15:14.001Z"
   },
   {
    "duration": 11,
    "start_time": "2023-04-21T20:15:14.009Z"
   },
   {
    "duration": 701,
    "start_time": "2023-04-21T20:15:14.022Z"
   },
   {
    "duration": 37,
    "start_time": "2023-04-21T20:15:14.724Z"
   },
   {
    "duration": 14966,
    "start_time": "2023-04-21T20:15:14.762Z"
   },
   {
    "duration": 4,
    "start_time": "2023-04-21T20:15:29.730Z"
   },
   {
    "duration": 0,
    "start_time": "2023-04-21T20:15:29.735Z"
   },
   {
    "duration": 0,
    "start_time": "2023-04-21T20:15:29.736Z"
   },
   {
    "duration": 430,
    "start_time": "2023-04-21T20:17:29.798Z"
   },
   {
    "duration": 10,
    "start_time": "2023-04-21T20:17:30.230Z"
   },
   {
    "duration": 32,
    "start_time": "2023-04-21T20:17:30.244Z"
   },
   {
    "duration": 30,
    "start_time": "2023-04-21T20:17:30.278Z"
   },
   {
    "duration": 740,
    "start_time": "2023-04-21T20:17:30.309Z"
   },
   {
    "duration": 36,
    "start_time": "2023-04-21T20:17:31.050Z"
   },
   {
    "duration": 14871,
    "start_time": "2023-04-21T20:17:31.087Z"
   },
   {
    "duration": 77819,
    "start_time": "2023-04-21T20:17:45.960Z"
   },
   {
    "duration": 62,
    "start_time": "2023-04-21T20:19:03.781Z"
   },
   {
    "duration": 5,
    "start_time": "2023-04-21T20:19:03.845Z"
   },
   {
    "duration": 66,
    "start_time": "2023-04-21T20:21:47.395Z"
   },
   {
    "duration": 425,
    "start_time": "2023-04-21T20:27:41.353Z"
   },
   {
    "duration": 11,
    "start_time": "2023-04-21T20:27:41.780Z"
   },
   {
    "duration": 9,
    "start_time": "2023-04-21T20:27:41.794Z"
   },
   {
    "duration": 10,
    "start_time": "2023-04-21T20:27:41.804Z"
   },
   {
    "duration": 673,
    "start_time": "2023-04-21T20:27:41.815Z"
   },
   {
    "duration": 37,
    "start_time": "2023-04-21T20:27:42.489Z"
   },
   {
    "duration": 15444,
    "start_time": "2023-04-21T20:27:42.534Z"
   },
   {
    "duration": 82016,
    "start_time": "2023-04-21T20:27:57.979Z"
   },
   {
    "duration": 76,
    "start_time": "2023-04-21T20:29:19.997Z"
   },
   {
    "duration": 7,
    "start_time": "2023-04-21T20:29:20.075Z"
   },
   {
    "duration": 64,
    "start_time": "2023-04-21T20:31:17.976Z"
   },
   {
    "duration": 10,
    "start_time": "2023-04-21T20:36:25.640Z"
   },
   {
    "duration": 11,
    "start_time": "2023-04-21T20:36:29.882Z"
   },
   {
    "duration": 11,
    "start_time": "2023-04-21T20:36:41.645Z"
   },
   {
    "duration": 459,
    "start_time": "2023-04-21T20:36:51.829Z"
   },
   {
    "duration": 11,
    "start_time": "2023-04-21T20:36:52.290Z"
   },
   {
    "duration": 17,
    "start_time": "2023-04-21T20:36:52.302Z"
   },
   {
    "duration": 12,
    "start_time": "2023-04-21T20:36:52.322Z"
   },
   {
    "duration": 653,
    "start_time": "2023-04-21T20:36:52.336Z"
   },
   {
    "duration": 27,
    "start_time": "2023-04-21T20:36:52.991Z"
   },
   {
    "duration": 14838,
    "start_time": "2023-04-21T20:36:53.019Z"
   },
   {
    "duration": 78318,
    "start_time": "2023-04-21T20:37:07.858Z"
   },
   {
    "duration": 67,
    "start_time": "2023-04-21T20:38:26.177Z"
   },
   {
    "duration": 5,
    "start_time": "2023-04-21T20:38:26.246Z"
   },
   {
    "duration": 10,
    "start_time": "2023-04-21T20:39:56.057Z"
   },
   {
    "duration": 10,
    "start_time": "2023-04-21T20:40:05.165Z"
   },
   {
    "duration": 2222,
    "start_time": "2023-05-02T06:24:06.485Z"
   },
   {
    "duration": 562,
    "start_time": "2023-10-16T18:56:03.221Z"
   },
   {
    "duration": 11,
    "start_time": "2023-10-16T18:56:03.785Z"
   },
   {
    "duration": 4,
    "start_time": "2023-10-16T18:56:03.798Z"
   },
   {
    "duration": 7,
    "start_time": "2023-10-16T18:56:03.804Z"
   },
   {
    "duration": 1148,
    "start_time": "2023-10-16T18:56:03.812Z"
   },
   {
    "duration": 40,
    "start_time": "2023-10-16T18:56:04.962Z"
   },
   {
    "duration": 18607,
    "start_time": "2023-10-16T18:56:05.004Z"
   },
   {
    "duration": 92941,
    "start_time": "2023-10-16T18:56:23.612Z"
   },
   {
    "duration": 68,
    "start_time": "2023-10-16T18:57:56.555Z"
   },
   {
    "duration": 4,
    "start_time": "2023-10-16T18:57:56.626Z"
   }
  ],
  "kernelspec": {
   "display_name": "Python 3 (ipykernel)",
   "language": "python",
   "name": "python3"
  },
  "language_info": {
   "codemirror_mode": {
    "name": "ipython",
    "version": 3
   },
   "file_extension": ".py",
   "mimetype": "text/x-python",
   "name": "python",
   "nbconvert_exporter": "python",
   "pygments_lexer": "ipython3",
   "version": "3.9.5"
  },
  "toc": {
   "base_numbering": 1,
   "nav_menu": {},
   "number_sections": true,
   "sideBar": true,
   "skip_h1_title": true,
   "title_cell": "Table of Contents",
   "title_sidebar": "Contents",
   "toc_cell": false,
   "toc_position": {},
   "toc_section_display": true,
   "toc_window_display": false
  }
 },
 "nbformat": 4,
 "nbformat_minor": 2
}
